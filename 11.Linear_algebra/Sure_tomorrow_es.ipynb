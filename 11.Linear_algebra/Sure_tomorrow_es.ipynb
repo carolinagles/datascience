{
 "cells": [
  {
   "cell_type": "markdown",
   "metadata": {},
   "source": [
    "<p style=\"color: #000000; font-size: 32px; font-weight: bold; text-align: center; margin-top: 20px;\"> \n",
    "Sure Tomorrow\n",
    "</p>\n",
    "<p style=\"color: #000000; font-size: 24px; text-align: center; margin-bottom: 20px;\">\n",
    "Modelo de Predicción para la Compañía de Seguros\n",
    "</p>\n",
    "\n",
    "<hr style=\"border: .4px solid #000000; width: 65%; margin: 10px auto;\">\n",
    "\n",
    "<p style=\"color: #000000; font-size: 18px;\">\n",
    "La compañía de seguros Sure Tomorrow está buscando mejorar sus operaciones utilizando machine learning. A través de este enfoque, la compañía espera optimizar diversas tareas, desde el marketing hasta la predicción de eventos relacionados con los clientes.\n",
    "</p>\n",
    "\n",
    "<p style=\"color: #000000; font-size: 20px; font-weight: bold;\">Objetivo del Proyecto:</p>\n",
    "<p style=\"color: #000000; font-size: 18px;\">\n",
    "El objetivo de este proyecto es desarrollar varios modelos predictivos para resolver tareas clave que ayudarán a la compañía a mejorar la toma de decisiones y optimizar sus procesos internos.\n",
    "</p>\n",
    "\n",
    "<p style=\"color: #000000; font-size: 20px; font-weight: bold;\">Metas del Proyecto:</p>\n",
    "<ul style=\"color: #000000; font-size: 18px;\">\n",
    "<li><strong>Tarea 1: Encontrar clientes similares:</strong> Utilizar machine learning para identificar clientes con perfiles similares a un cliente determinado, ayudando a los agentes en sus estrategias de marketing.</li>\n",
    "<li><strong>Tarea 2: Predecir la probabilidad de prestaciones:</strong> Desarrollar un modelo para predecir la probabilidad de que un nuevo cliente reciba una prestación del seguro, comparando el rendimiento de un modelo predictivo con un modelo dummy.</li>\n",
    "<li><strong>Tarea 3: Predecir el número de prestaciones:</strong> Crear un modelo de regresión lineal para estimar el número de prestaciones que un nuevo cliente puede recibir.</li>\n",
    "<li><strong>Tarea 4: Enmascaramiento de datos:</strong> Desarrollar un algoritmo para proteger los datos personales de los clientes mediante técnicas de enmascaramiento u ofuscación de datos, sin afectar la calidad del modelo predictivo.</li>\n",
    "</ul>\n"
   ]
  },
  {
   "cell_type": "markdown",
   "metadata": {},
   "source": [
    "# Preprocesamiento y exploración de datos\n",
    "\n",
    "## Inicialización"
   ]
  },
  {
   "cell_type": "code",
   "execution_count": 1,
   "metadata": {},
   "outputs": [
    {
     "name": "stdout",
     "output_type": "stream",
     "text": [
      "Requirement already satisfied: scikit-learn in /opt/anaconda3/lib/python3.12/site-packages (1.6.1)\n",
      "Requirement already satisfied: numpy>=1.19.5 in /opt/anaconda3/lib/python3.12/site-packages (from scikit-learn) (1.26.4)\n",
      "Requirement already satisfied: scipy>=1.6.0 in /opt/anaconda3/lib/python3.12/site-packages (from scikit-learn) (1.13.1)\n",
      "Requirement already satisfied: joblib>=1.2.0 in /opt/anaconda3/lib/python3.12/site-packages (from scikit-learn) (1.4.2)\n",
      "Requirement already satisfied: threadpoolctl>=3.1.0 in /opt/anaconda3/lib/python3.12/site-packages (from scikit-learn) (3.5.0)\n",
      "Note: you may need to restart the kernel to use updated packages.\n"
     ]
    }
   ],
   "source": [
    "pip install scikit-learn --upgrade"
   ]
  },
  {
   "cell_type": "code",
   "execution_count": 2,
   "metadata": {},
   "outputs": [],
   "source": [
    "import numpy as np\n",
    "import pandas as pd\n",
    "\n",
    "import matplotlib.pyplot as plt\n",
    "import seaborn as sns\n",
    "\n",
    "import math\n",
    "import sklearn.linear_model\n",
    "import sklearn.metrics\n",
    "import sklearn.neighbors\n",
    "import sklearn.preprocessing\n",
    "\n",
    "from sklearn.metrics import f1_score\n",
    "from sklearn.metrics import confusion_matrix\n",
    "from sklearn.model_selection import train_test_split\n",
    "from sklearn.neighbors import NearestNeighbors\n",
    "from sklearn.neighbors import KNeighborsClassifier\n",
    "from sklearn.preprocessing import MaxAbsScaler\n",
    "\n",
    "from IPython.display import display"
   ]
  },
  {
   "cell_type": "markdown",
   "metadata": {},
   "source": [
    "## Carga de datos"
   ]
  },
  {
   "cell_type": "markdown",
   "metadata": {},
   "source": [
    "El DataFrame está conformado de la siguiente manera:   \n",
    "\n",
    "**Características**:     \n",
    "* `Gender`   \n",
    "* `Age`   \n",
    "* `Salary`   \n",
    "* `Family members`   \n",
    "* `Insurance benefits`    \n",
    "\n",
    "**Objetivo**:   \n",
    "* `Insurance benefits`    "
   ]
  },
  {
   "cell_type": "code",
   "execution_count": 3,
   "metadata": {},
   "outputs": [
    {
     "data": {
      "text/html": [
       "<div>\n",
       "<style scoped>\n",
       "    .dataframe tbody tr th:only-of-type {\n",
       "        vertical-align: middle;\n",
       "    }\n",
       "\n",
       "    .dataframe tbody tr th {\n",
       "        vertical-align: top;\n",
       "    }\n",
       "\n",
       "    .dataframe thead th {\n",
       "        text-align: right;\n",
       "    }\n",
       "</style>\n",
       "<table border=\"1\" class=\"dataframe\">\n",
       "  <thead>\n",
       "    <tr style=\"text-align: right;\">\n",
       "      <th></th>\n",
       "      <th>Gender</th>\n",
       "      <th>Age</th>\n",
       "      <th>Salary</th>\n",
       "      <th>Family members</th>\n",
       "      <th>Insurance benefits</th>\n",
       "    </tr>\n",
       "  </thead>\n",
       "  <tbody>\n",
       "    <tr>\n",
       "      <th>0</th>\n",
       "      <td>1</td>\n",
       "      <td>41.0</td>\n",
       "      <td>49600.0</td>\n",
       "      <td>1</td>\n",
       "      <td>0</td>\n",
       "    </tr>\n",
       "    <tr>\n",
       "      <th>1</th>\n",
       "      <td>0</td>\n",
       "      <td>46.0</td>\n",
       "      <td>38000.0</td>\n",
       "      <td>1</td>\n",
       "      <td>1</td>\n",
       "    </tr>\n",
       "    <tr>\n",
       "      <th>2</th>\n",
       "      <td>0</td>\n",
       "      <td>29.0</td>\n",
       "      <td>21000.0</td>\n",
       "      <td>0</td>\n",
       "      <td>0</td>\n",
       "    </tr>\n",
       "    <tr>\n",
       "      <th>3</th>\n",
       "      <td>0</td>\n",
       "      <td>21.0</td>\n",
       "      <td>41700.0</td>\n",
       "      <td>2</td>\n",
       "      <td>0</td>\n",
       "    </tr>\n",
       "    <tr>\n",
       "      <th>4</th>\n",
       "      <td>1</td>\n",
       "      <td>28.0</td>\n",
       "      <td>26100.0</td>\n",
       "      <td>0</td>\n",
       "      <td>0</td>\n",
       "    </tr>\n",
       "  </tbody>\n",
       "</table>\n",
       "</div>"
      ],
      "text/plain": [
       "   Gender   Age   Salary  Family members  Insurance benefits\n",
       "0       1  41.0  49600.0               1                   0\n",
       "1       0  46.0  38000.0               1                   1\n",
       "2       0  29.0  21000.0               0                   0\n",
       "3       0  21.0  41700.0               2                   0\n",
       "4       1  28.0  26100.0               0                   0"
      ]
     },
     "execution_count": 3,
     "metadata": {},
     "output_type": "execute_result"
    }
   ],
   "source": [
    "df = pd.read_csv('insurance_us.csv')\n",
    "df.head()"
   ]
  },
  {
   "cell_type": "markdown",
   "metadata": {},
   "source": [
    "Renombramos las columnas en formato snake_case."
   ]
  },
  {
   "cell_type": "code",
   "execution_count": 4,
   "metadata": {},
   "outputs": [],
   "source": [
    "df = df.rename(columns={'Gender': 'gender', 'Age': 'age', 'Salary': 'income', 'Family members': 'family_members', 'Insurance benefits': 'insurance_benefits'})"
   ]
  },
  {
   "cell_type": "code",
   "execution_count": 5,
   "metadata": {},
   "outputs": [
    {
     "name": "stdout",
     "output_type": "stream",
     "text": [
      "['gender', 'age', 'income', 'family_members', 'insurance_benefits']\n"
     ]
    }
   ],
   "source": [
    "print(df.columns.tolist())"
   ]
  },
  {
   "cell_type": "code",
   "execution_count": 6,
   "metadata": {},
   "outputs": [
    {
     "name": "stdout",
     "output_type": "stream",
     "text": [
      "<class 'pandas.core.frame.DataFrame'>\n",
      "RangeIndex: 5000 entries, 0 to 4999\n",
      "Data columns (total 5 columns):\n",
      " #   Column              Non-Null Count  Dtype  \n",
      "---  ------              --------------  -----  \n",
      " 0   gender              5000 non-null   int64  \n",
      " 1   age                 5000 non-null   float64\n",
      " 2   income              5000 non-null   float64\n",
      " 3   family_members      5000 non-null   int64  \n",
      " 4   insurance_benefits  5000 non-null   int64  \n",
      "dtypes: float64(2), int64(3)\n",
      "memory usage: 195.4 KB\n"
     ]
    },
    {
     "data": {
      "text/html": [
       "<div>\n",
       "<style scoped>\n",
       "    .dataframe tbody tr th:only-of-type {\n",
       "        vertical-align: middle;\n",
       "    }\n",
       "\n",
       "    .dataframe tbody tr th {\n",
       "        vertical-align: top;\n",
       "    }\n",
       "\n",
       "    .dataframe thead th {\n",
       "        text-align: right;\n",
       "    }\n",
       "</style>\n",
       "<table border=\"1\" class=\"dataframe\">\n",
       "  <thead>\n",
       "    <tr style=\"text-align: right;\">\n",
       "      <th></th>\n",
       "      <th>gender</th>\n",
       "      <th>age</th>\n",
       "      <th>income</th>\n",
       "      <th>family_members</th>\n",
       "      <th>insurance_benefits</th>\n",
       "    </tr>\n",
       "  </thead>\n",
       "  <tbody>\n",
       "    <tr>\n",
       "      <th>1054</th>\n",
       "      <td>1</td>\n",
       "      <td>54.0</td>\n",
       "      <td>50900.0</td>\n",
       "      <td>0</td>\n",
       "      <td>2</td>\n",
       "    </tr>\n",
       "    <tr>\n",
       "      <th>2135</th>\n",
       "      <td>0</td>\n",
       "      <td>20.0</td>\n",
       "      <td>29900.0</td>\n",
       "      <td>0</td>\n",
       "      <td>0</td>\n",
       "    </tr>\n",
       "    <tr>\n",
       "      <th>4177</th>\n",
       "      <td>1</td>\n",
       "      <td>27.0</td>\n",
       "      <td>29900.0</td>\n",
       "      <td>1</td>\n",
       "      <td>0</td>\n",
       "    </tr>\n",
       "    <tr>\n",
       "      <th>1153</th>\n",
       "      <td>0</td>\n",
       "      <td>32.0</td>\n",
       "      <td>40800.0</td>\n",
       "      <td>2</td>\n",
       "      <td>0</td>\n",
       "    </tr>\n",
       "    <tr>\n",
       "      <th>3423</th>\n",
       "      <td>1</td>\n",
       "      <td>44.0</td>\n",
       "      <td>50400.0</td>\n",
       "      <td>0</td>\n",
       "      <td>1</td>\n",
       "    </tr>\n",
       "    <tr>\n",
       "      <th>2938</th>\n",
       "      <td>0</td>\n",
       "      <td>24.0</td>\n",
       "      <td>35800.0</td>\n",
       "      <td>2</td>\n",
       "      <td>0</td>\n",
       "    </tr>\n",
       "    <tr>\n",
       "      <th>4887</th>\n",
       "      <td>1</td>\n",
       "      <td>26.0</td>\n",
       "      <td>51000.0</td>\n",
       "      <td>0</td>\n",
       "      <td>0</td>\n",
       "    </tr>\n",
       "    <tr>\n",
       "      <th>1511</th>\n",
       "      <td>0</td>\n",
       "      <td>39.0</td>\n",
       "      <td>44500.0</td>\n",
       "      <td>3</td>\n",
       "      <td>0</td>\n",
       "    </tr>\n",
       "    <tr>\n",
       "      <th>1730</th>\n",
       "      <td>0</td>\n",
       "      <td>30.0</td>\n",
       "      <td>39200.0</td>\n",
       "      <td>2</td>\n",
       "      <td>0</td>\n",
       "    </tr>\n",
       "    <tr>\n",
       "      <th>3589</th>\n",
       "      <td>0</td>\n",
       "      <td>42.0</td>\n",
       "      <td>32800.0</td>\n",
       "      <td>1</td>\n",
       "      <td>1</td>\n",
       "    </tr>\n",
       "  </tbody>\n",
       "</table>\n",
       "</div>"
      ],
      "text/plain": [
       "      gender   age   income  family_members  insurance_benefits\n",
       "1054       1  54.0  50900.0               0                   2\n",
       "2135       0  20.0  29900.0               0                   0\n",
       "4177       1  27.0  29900.0               1                   0\n",
       "1153       0  32.0  40800.0               2                   0\n",
       "3423       1  44.0  50400.0               0                   1\n",
       "2938       0  24.0  35800.0               2                   0\n",
       "4887       1  26.0  51000.0               0                   0\n",
       "1511       0  39.0  44500.0               3                   0\n",
       "1730       0  30.0  39200.0               2                   0\n",
       "3589       0  42.0  32800.0               1                   1"
      ]
     },
     "execution_count": 6,
     "metadata": {},
     "output_type": "execute_result"
    }
   ],
   "source": [
    "# Revisión inicial del DataFrame\n",
    "df.info()  \n",
    "# Muestra aleatoria de 10 filas \n",
    "df.sample(10)"
   ]
  },
  {
   "cell_type": "markdown",
   "metadata": {},
   "source": [
    "\n",
    "**Observaciones de Información:**  \n",
    "- No hay valores nulos en ninguna columna.  \n",
    "- La columna `'age'` está en formato flotante (`float64`), pero como representa años, podría ser convertida a `int64` para mayor precisión.  \n",
    "- Las columnas `'gender'`, `'family_members'` y `'insurance_benefits'` son enteras (`int64`), lo cual es adecuado para sus categorías.  \n",
    "\n",
    "\n",
    "**Observaciones del Sample:**  \n",
    "- Se han seleccionado 10 filas aleatorias del DataFrame.  \n",
    "- `'gender'` está codificado como 0 y 1 (0 = masculino, 1 = femenino).  \n",
    "- `'age'` tiene valores en formato flotante (puede ser convertido a entero si es necesario).  \n",
    "- `'income'` muestra distintos valores de salario anual.  \n",
    "- `'family_members'` indica la cantidad de miembros en la familia.  \n",
    "- `'insurance_benefits'` muestra cuántos beneficios de seguro ha recibido la persona (valores de 0 y 1 en esta muestra).  \n"
   ]
  },
  {
   "cell_type": "code",
   "execution_count": 7,
   "metadata": {},
   "outputs": [
    {
     "name": "stdout",
     "output_type": "stream",
     "text": [
      "int64\n"
     ]
    }
   ],
   "source": [
    "# Convertir dtype de 'age'a int64\n",
    "df['age'] = df['age'].astype('int64')\n",
    "# Comprobar la conversión\n",
    "print(df['age'].dtype)"
   ]
  },
  {
   "cell_type": "code",
   "execution_count": 8,
   "metadata": {},
   "outputs": [
    {
     "data": {
      "text/html": [
       "<div>\n",
       "<style scoped>\n",
       "    .dataframe tbody tr th:only-of-type {\n",
       "        vertical-align: middle;\n",
       "    }\n",
       "\n",
       "    .dataframe tbody tr th {\n",
       "        vertical-align: top;\n",
       "    }\n",
       "\n",
       "    .dataframe thead th {\n",
       "        text-align: right;\n",
       "    }\n",
       "</style>\n",
       "<table border=\"1\" class=\"dataframe\">\n",
       "  <thead>\n",
       "    <tr style=\"text-align: right;\">\n",
       "      <th></th>\n",
       "      <th>gender</th>\n",
       "      <th>age</th>\n",
       "      <th>income</th>\n",
       "      <th>family_members</th>\n",
       "      <th>insurance_benefits</th>\n",
       "    </tr>\n",
       "  </thead>\n",
       "  <tbody>\n",
       "    <tr>\n",
       "      <th>count</th>\n",
       "      <td>5000.000000</td>\n",
       "      <td>5000.000000</td>\n",
       "      <td>5000.000000</td>\n",
       "      <td>5000.000000</td>\n",
       "      <td>5000.000000</td>\n",
       "    </tr>\n",
       "    <tr>\n",
       "      <th>mean</th>\n",
       "      <td>0.499000</td>\n",
       "      <td>30.952800</td>\n",
       "      <td>39916.360000</td>\n",
       "      <td>1.194200</td>\n",
       "      <td>0.148000</td>\n",
       "    </tr>\n",
       "    <tr>\n",
       "      <th>std</th>\n",
       "      <td>0.500049</td>\n",
       "      <td>8.440807</td>\n",
       "      <td>9900.083569</td>\n",
       "      <td>1.091387</td>\n",
       "      <td>0.463183</td>\n",
       "    </tr>\n",
       "    <tr>\n",
       "      <th>min</th>\n",
       "      <td>0.000000</td>\n",
       "      <td>18.000000</td>\n",
       "      <td>5300.000000</td>\n",
       "      <td>0.000000</td>\n",
       "      <td>0.000000</td>\n",
       "    </tr>\n",
       "    <tr>\n",
       "      <th>25%</th>\n",
       "      <td>0.000000</td>\n",
       "      <td>24.000000</td>\n",
       "      <td>33300.000000</td>\n",
       "      <td>0.000000</td>\n",
       "      <td>0.000000</td>\n",
       "    </tr>\n",
       "    <tr>\n",
       "      <th>50%</th>\n",
       "      <td>0.000000</td>\n",
       "      <td>30.000000</td>\n",
       "      <td>40200.000000</td>\n",
       "      <td>1.000000</td>\n",
       "      <td>0.000000</td>\n",
       "    </tr>\n",
       "    <tr>\n",
       "      <th>75%</th>\n",
       "      <td>1.000000</td>\n",
       "      <td>37.000000</td>\n",
       "      <td>46600.000000</td>\n",
       "      <td>2.000000</td>\n",
       "      <td>0.000000</td>\n",
       "    </tr>\n",
       "    <tr>\n",
       "      <th>max</th>\n",
       "      <td>1.000000</td>\n",
       "      <td>65.000000</td>\n",
       "      <td>79000.000000</td>\n",
       "      <td>6.000000</td>\n",
       "      <td>5.000000</td>\n",
       "    </tr>\n",
       "  </tbody>\n",
       "</table>\n",
       "</div>"
      ],
      "text/plain": [
       "            gender          age        income  family_members  \\\n",
       "count  5000.000000  5000.000000   5000.000000     5000.000000   \n",
       "mean      0.499000    30.952800  39916.360000        1.194200   \n",
       "std       0.500049     8.440807   9900.083569        1.091387   \n",
       "min       0.000000    18.000000   5300.000000        0.000000   \n",
       "25%       0.000000    24.000000  33300.000000        0.000000   \n",
       "50%       0.000000    30.000000  40200.000000        1.000000   \n",
       "75%       1.000000    37.000000  46600.000000        2.000000   \n",
       "max       1.000000    65.000000  79000.000000        6.000000   \n",
       "\n",
       "       insurance_benefits  \n",
       "count         5000.000000  \n",
       "mean             0.148000  \n",
       "std              0.463183  \n",
       "min              0.000000  \n",
       "25%              0.000000  \n",
       "50%              0.000000  \n",
       "75%              0.000000  \n",
       "max              5.000000  "
      ]
     },
     "execution_count": 8,
     "metadata": {},
     "output_type": "execute_result"
    }
   ],
   "source": [
    "# Estadísticas descriptivas de los datos\n",
    "df.describe()"
   ]
  },
  {
   "cell_type": "markdown",
   "metadata": {},
   "source": [
    "**Distribución de las Columnas**   \n",
    "\n",
    "**`gender`**: Los géneros están equilibrados, con una distribución casi **50-50**.   \n",
    "\n",
    "**`age`**: La edad promedio es de **31 años**. El rango de edades va desde **18** hasta **65 años**.   \n",
    "\n",
    "**`income`**: El ingreso promedio es de **~40,000**. El ingreso mínimo es de **5,300** y el máximo de **79,000**.   \n",
    "\n",
    "**`family_members`**:  El número de miembros de la familia varía entre **0** y **6**. El promedio es de **1.09** miembros por familia.   \n",
    "\n",
    "**`insurance_benefits`**: La media es de **0.148**, lo que indica que la mayoría de las personas no tienen beneficios de seguro. Más del **75%** de los clientes no tienen beneficios de seguro.  "
   ]
  },
  {
   "cell_type": "markdown",
   "metadata": {},
   "source": [
    "## Análisis exploratorio de datos"
   ]
  },
  {
   "cell_type": "markdown",
   "metadata": {},
   "source": [
    "Vamos a comprobar rápidamente si existen determinados grupos de clientes observando el gráfico de pares."
   ]
  },
  {
   "cell_type": "code",
   "execution_count": 9,
   "metadata": {},
   "outputs": [
    {
     "data": {
      "image/png": "[encoded data removed]",
      "text/plain": [
       "<Figure size 1400x1400 with 30 Axes>"
      ]
     },
     "metadata": {},
     "output_type": "display_data"
    }
   ],
   "source": [
    "# Crear el pairplot con scatterplots y KDE en la diagonal\n",
    "g = sns.pairplot(\n",
    "    df, \n",
    "    kind='scatter',  # Usa scatterplot para las relaciones entre variables\n",
    "    diag_kind='kde',  # Usa distribución de densidad en la diagonal\n",
    "    plot_kws={'alpha': 0.5, 's': 10},  # Ajusta transparencia y tamaño de puntos\n",
    "    diag_kws={'fill': True}  # Se usa 'fill' en lugar de 'shade'\n",
    ")\n",
    "\n",
    "# Ajustar tamaño de la figura\n",
    "g.fig.set_size_inches(14, 14)\n",
    "\n",
    "# Agregar título\n",
    "plt.suptitle(\"Matriz de Dispersión de Variables\", fontsize=16, y=1.02)\n",
    "\n",
    "# Mostrar gráfico\n",
    "plt.show()"
   ]
  },
  {
   "cell_type": "markdown",
   "metadata": {},
   "source": [
    "La conclusión de que no se observan clústeres claramente definidos, pero sí algunos indicios de segmentación, se basa en los patrones observados en la matriz de dispersión. En la relación entre **age** e **income**, se ve una concentración de puntos en el rango medio de edad (30-50 años) con ingresos intermedios, lo que sugiere que los ingresos podrían aumentar con la edad, aunque no se forman grupos claros. En cuanto al número de **family_members**, los clientes tienen valores discretos (0, 1, 2, 3...), lo que podría indicar una posible segmentación según este factor. Además, la variable de **insurance_benefits** muestra una concentración en valores bajos, lo que sugiere que la segmentación podría estar relacionada con aquellos que tienen pocos beneficios, aunque algunos clientes con más beneficios podrían diferenciarse por características como **income** o **age**. Para una segmentación más precisa, sería útil aplicar técnicas de clustering como KMeans o DBSCAN.\n",
    "\n",
    "Detectar grupos claros (clústeres) es complicado debido a la dificultad de combinar diversas variables simultáneamente para analizar distribuciones multivariadas. En este sentido, el uso de técnicas de aprendizaje automático (ML) y análisis lineales (LA) puede resultar bastante útil para obtener una segmentación más efectiva."
   ]
  },
  {
   "cell_type": "markdown",
   "metadata": {},
   "source": [
    "# Tarea 1. Clientes similares"
   ]
  },
  {
   "cell_type": "markdown",
   "metadata": {},
   "source": [
    "En el lenguaje de ML, es necesario desarrollar un procedimiento que devuelva los k vecinos más cercanos (objetos) para un objeto dado basándose en la distancia entre los objetos.\n",
    "\n",
    "Para resolver la tarea, podemos probar diferentes métricas de distancia."
   ]
  },
  {
   "cell_type": "markdown",
   "metadata": {},
   "source": [
    "Ahora, vamos a **escribir una función** que devuelva los **K Nearest Neighbors** para un objeto dado, basándose en una métrica de distancia especificada. Al realizar esta tarea, no se debe tener en cuenta el número de prestaciones de seguro recibidas.\n",
    "\n",
    "**Se haran pruebas con las siguientes métricas**:\n",
    "   - **Métricas de distancia**:\n",
    "     - **Euclidiana**.\n",
    "     - **Manhattan**.\n",
    "   - **Escalado de datos**:\n",
    "     - Los datos **no escalados**.\n",
    "     - Los datos **escalados** utilizando el escalador [**MaxAbsScaler**](https://scikit-learn.org/stable/modules/generated/sklearn.preprocessing.MaxAbsScaler.html).\n",
    "\n",
    "**Se responderán las siguientes preguntas**:\n",
    "   - ¿El hecho de que los datos no estén escalados afecta al algoritmo kNN? Si es así, ¿cómo se manifiesta?\n",
    "   - ¿Qué tan similares son los resultados al utilizar la métrica de distancia Manhattan (independientemente del escalado)?"
   ]
  },
  {
   "cell_type": "code",
   "execution_count": 10,
   "metadata": {},
   "outputs": [],
   "source": [
    "# Features columns \n",
    "features = ['gender', 'age', 'income', 'family_members']"
   ]
  },
  {
   "cell_type": "code",
   "execution_count": 11,
   "metadata": {},
   "outputs": [],
   "source": [
    "# Función para encontrar los k vecinos más cerncanos utilizando KNN\n",
    "def get_knn(df, n, k, metric):\n",
    "    \n",
    "    \"\"\"\n",
    "    Devuelve los k vecinos más cercanos\n",
    "\n",
    "    :param df: DataFrame de pandas utilizado para encontrar objetos similares dentro del mismo lugar    \n",
    "    :param n: número de objetos para los que se buscan los vecinos más cercanos    \n",
    "    :param k: número de vecinos más cercanos a devolver\n",
    "    :param métrica: nombre de la métrica de distancia    \"\"\"\n",
    "\n",
    "    nbrs = NearestNeighbors(n_neighbors=k, metric=metric)\n",
    "    nbrs.fit(df[features].values)\n",
    "    nbrs_distances, nbrs_indices = nbrs.kneighbors([df.iloc[n][features]], k, return_distance=True)\n",
    "    \n",
    "    df_res = pd.concat([\n",
    "        df.iloc[nbrs_indices[0]], \n",
    "        pd.DataFrame(nbrs_distances.T, index=nbrs_indices[0], columns=['distance'])\n",
    "        ], axis=1)\n",
    "    \n",
    "    return df_res"
   ]
  },
  {
   "cell_type": "markdown",
   "metadata": {},
   "source": [
    "**Escalar datos**"
   ]
  },
  {
   "cell_type": "code",
   "execution_count": 12,
   "metadata": {},
   "outputs": [
    {
     "data": {
      "text/html": [
       "<div>\n",
       "<style scoped>\n",
       "    .dataframe tbody tr th:only-of-type {\n",
       "        vertical-align: middle;\n",
       "    }\n",
       "\n",
       "    .dataframe tbody tr th {\n",
       "        vertical-align: top;\n",
       "    }\n",
       "\n",
       "    .dataframe thead th {\n",
       "        text-align: right;\n",
       "    }\n",
       "</style>\n",
       "<table border=\"1\" class=\"dataframe\">\n",
       "  <thead>\n",
       "    <tr style=\"text-align: right;\">\n",
       "      <th></th>\n",
       "      <th>gender</th>\n",
       "      <th>age</th>\n",
       "      <th>income</th>\n",
       "      <th>family_members</th>\n",
       "      <th>insurance_benefits</th>\n",
       "    </tr>\n",
       "  </thead>\n",
       "  <tbody>\n",
       "    <tr>\n",
       "      <th>1193</th>\n",
       "      <td>0.0</td>\n",
       "      <td>0.553846</td>\n",
       "      <td>0.379747</td>\n",
       "      <td>0.500000</td>\n",
       "      <td>0</td>\n",
       "    </tr>\n",
       "    <tr>\n",
       "      <th>1048</th>\n",
       "      <td>1.0</td>\n",
       "      <td>0.538462</td>\n",
       "      <td>0.493671</td>\n",
       "      <td>0.000000</td>\n",
       "      <td>0</td>\n",
       "    </tr>\n",
       "    <tr>\n",
       "      <th>4215</th>\n",
       "      <td>1.0</td>\n",
       "      <td>0.369231</td>\n",
       "      <td>0.608861</td>\n",
       "      <td>0.333333</td>\n",
       "      <td>0</td>\n",
       "    </tr>\n",
       "    <tr>\n",
       "      <th>58</th>\n",
       "      <td>1.0</td>\n",
       "      <td>0.307692</td>\n",
       "      <td>0.306329</td>\n",
       "      <td>0.500000</td>\n",
       "      <td>0</td>\n",
       "    </tr>\n",
       "    <tr>\n",
       "      <th>2453</th>\n",
       "      <td>1.0</td>\n",
       "      <td>0.323077</td>\n",
       "      <td>0.337975</td>\n",
       "      <td>0.666667</td>\n",
       "      <td>0</td>\n",
       "    </tr>\n",
       "  </tbody>\n",
       "</table>\n",
       "</div>"
      ],
      "text/plain": [
       "      gender       age    income  family_members  insurance_benefits\n",
       "1193     0.0  0.553846  0.379747        0.500000                   0\n",
       "1048     1.0  0.538462  0.493671        0.000000                   0\n",
       "4215     1.0  0.369231  0.608861        0.333333                   0\n",
       "58       1.0  0.307692  0.306329        0.500000                   0\n",
       "2453     1.0  0.323077  0.337975        0.666667                   0"
      ]
     },
     "execution_count": 12,
     "metadata": {},
     "output_type": "execute_result"
    }
   ],
   "source": [
    "# Convertir las columnas a float64 antes de escalar\n",
    "df[features] = df[features].astype('float64')\n",
    "\n",
    "# Aplicar MaxAbsScaler()\n",
    "transformer_mas = sklearn.preprocessing.MaxAbsScaler().fit(df[features].to_numpy())\n",
    "\n",
    "df_scaled = df.copy()\n",
    "df_scaled.loc[:, features] = transformer_mas.transform(df[features].to_numpy())\n",
    "# DF escalado\n",
    "df_scaled.sample(5)"
   ]
  },
  {
   "cell_type": "markdown",
   "metadata": {},
   "source": [
    "Ahora, vamos a obtener registros similares (vecinos mas cercanos)  para un cliente (objeto) determinado en df_scaled, utilizando la `función 'get_knn'`que definimos anteriormente.     \n",
    "Vamos a seleccionar al cliente 14, utilizamos **n=13** para encontrar los **k=10** más parecidos."
   ]
  },
  {
   "cell_type": "markdown",
   "metadata": {},
   "source": [
    "**Not Scaled Euclidean**"
   ]
  },
  {
   "cell_type": "code",
   "execution_count": 13,
   "metadata": {},
   "outputs": [
    {
     "data": {
      "text/html": [
       "<div>\n",
       "<style scoped>\n",
       "    .dataframe tbody tr th:only-of-type {\n",
       "        vertical-align: middle;\n",
       "    }\n",
       "\n",
       "    .dataframe tbody tr th {\n",
       "        vertical-align: top;\n",
       "    }\n",
       "\n",
       "    .dataframe thead th {\n",
       "        text-align: right;\n",
       "    }\n",
       "</style>\n",
       "<table border=\"1\" class=\"dataframe\">\n",
       "  <thead>\n",
       "    <tr style=\"text-align: right;\">\n",
       "      <th></th>\n",
       "      <th>gender</th>\n",
       "      <th>age</th>\n",
       "      <th>income</th>\n",
       "      <th>family_members</th>\n",
       "      <th>distance</th>\n",
       "    </tr>\n",
       "  </thead>\n",
       "  <tbody>\n",
       "    <tr>\n",
       "      <th>13</th>\n",
       "      <td>0.0</td>\n",
       "      <td>21.0</td>\n",
       "      <td>55000.0</td>\n",
       "      <td>0.0</td>\n",
       "      <td>0.000000</td>\n",
       "    </tr>\n",
       "    <tr>\n",
       "      <th>3601</th>\n",
       "      <td>0.0</td>\n",
       "      <td>19.0</td>\n",
       "      <td>55000.0</td>\n",
       "      <td>0.0</td>\n",
       "      <td>2.000000</td>\n",
       "    </tr>\n",
       "    <tr>\n",
       "      <th>2893</th>\n",
       "      <td>0.0</td>\n",
       "      <td>25.0</td>\n",
       "      <td>55000.0</td>\n",
       "      <td>4.0</td>\n",
       "      <td>5.656854</td>\n",
       "    </tr>\n",
       "    <tr>\n",
       "      <th>558</th>\n",
       "      <td>0.0</td>\n",
       "      <td>26.0</td>\n",
       "      <td>55000.0</td>\n",
       "      <td>5.0</td>\n",
       "      <td>7.071068</td>\n",
       "    </tr>\n",
       "    <tr>\n",
       "      <th>214</th>\n",
       "      <td>0.0</td>\n",
       "      <td>32.0</td>\n",
       "      <td>55000.0</td>\n",
       "      <td>2.0</td>\n",
       "      <td>11.180340</td>\n",
       "    </tr>\n",
       "    <tr>\n",
       "      <th>4634</th>\n",
       "      <td>0.0</td>\n",
       "      <td>35.0</td>\n",
       "      <td>55000.0</td>\n",
       "      <td>1.0</td>\n",
       "      <td>14.035669</td>\n",
       "    </tr>\n",
       "    <tr>\n",
       "      <th>1637</th>\n",
       "      <td>0.0</td>\n",
       "      <td>39.0</td>\n",
       "      <td>55000.0</td>\n",
       "      <td>1.0</td>\n",
       "      <td>18.027756</td>\n",
       "    </tr>\n",
       "    <tr>\n",
       "      <th>1996</th>\n",
       "      <td>1.0</td>\n",
       "      <td>46.0</td>\n",
       "      <td>55000.0</td>\n",
       "      <td>2.0</td>\n",
       "      <td>25.099801</td>\n",
       "    </tr>\n",
       "    <tr>\n",
       "      <th>340</th>\n",
       "      <td>0.0</td>\n",
       "      <td>52.0</td>\n",
       "      <td>55000.0</td>\n",
       "      <td>1.0</td>\n",
       "      <td>31.016125</td>\n",
       "    </tr>\n",
       "    <tr>\n",
       "      <th>1448</th>\n",
       "      <td>0.0</td>\n",
       "      <td>20.0</td>\n",
       "      <td>54900.0</td>\n",
       "      <td>1.0</td>\n",
       "      <td>100.010000</td>\n",
       "    </tr>\n",
       "    <tr>\n",
       "      <th>297</th>\n",
       "      <td>1.0</td>\n",
       "      <td>19.0</td>\n",
       "      <td>55100.0</td>\n",
       "      <td>0.0</td>\n",
       "      <td>100.024997</td>\n",
       "    </tr>\n",
       "  </tbody>\n",
       "</table>\n",
       "</div>"
      ],
      "text/plain": [
       "      gender   age   income  family_members    distance\n",
       "13       0.0  21.0  55000.0             0.0    0.000000\n",
       "3601     0.0  19.0  55000.0             0.0    2.000000\n",
       "2893     0.0  25.0  55000.0             4.0    5.656854\n",
       "558      0.0  26.0  55000.0             5.0    7.071068\n",
       "214      0.0  32.0  55000.0             2.0   11.180340\n",
       "4634     0.0  35.0  55000.0             1.0   14.035669\n",
       "1637     0.0  39.0  55000.0             1.0   18.027756\n",
       "1996     1.0  46.0  55000.0             2.0   25.099801\n",
       "340      0.0  52.0  55000.0             1.0   31.016125\n",
       "1448     0.0  20.0  54900.0             1.0  100.010000\n",
       "297      1.0  19.0  55100.0             0.0  100.024997"
      ]
     },
     "execution_count": 13,
     "metadata": {},
     "output_type": "execute_result"
    }
   ],
   "source": [
    "euc = get_knn(df[features], 13, 11, 'euclidean')\n",
    "euc"
   ]
  },
  {
   "cell_type": "markdown",
   "metadata": {},
   "source": [
    "**Scaled Euclidean**"
   ]
  },
  {
   "cell_type": "code",
   "execution_count": 14,
   "metadata": {},
   "outputs": [
    {
     "data": {
      "text/html": [
       "<div>\n",
       "<style scoped>\n",
       "    .dataframe tbody tr th:only-of-type {\n",
       "        vertical-align: middle;\n",
       "    }\n",
       "\n",
       "    .dataframe tbody tr th {\n",
       "        vertical-align: top;\n",
       "    }\n",
       "\n",
       "    .dataframe thead th {\n",
       "        text-align: right;\n",
       "    }\n",
       "</style>\n",
       "<table border=\"1\" class=\"dataframe\">\n",
       "  <thead>\n",
       "    <tr style=\"text-align: right;\">\n",
       "      <th></th>\n",
       "      <th>gender</th>\n",
       "      <th>age</th>\n",
       "      <th>income</th>\n",
       "      <th>family_members</th>\n",
       "      <th>distance</th>\n",
       "    </tr>\n",
       "  </thead>\n",
       "  <tbody>\n",
       "    <tr>\n",
       "      <th>13</th>\n",
       "      <td>0.0</td>\n",
       "      <td>0.323077</td>\n",
       "      <td>0.696203</td>\n",
       "      <td>0.0</td>\n",
       "      <td>0.000000</td>\n",
       "    </tr>\n",
       "    <tr>\n",
       "      <th>1967</th>\n",
       "      <td>0.0</td>\n",
       "      <td>0.323077</td>\n",
       "      <td>0.678481</td>\n",
       "      <td>0.0</td>\n",
       "      <td>0.017722</td>\n",
       "    </tr>\n",
       "    <tr>\n",
       "      <th>4192</th>\n",
       "      <td>0.0</td>\n",
       "      <td>0.338462</td>\n",
       "      <td>0.705063</td>\n",
       "      <td>0.0</td>\n",
       "      <td>0.017754</td>\n",
       "    </tr>\n",
       "    <tr>\n",
       "      <th>2716</th>\n",
       "      <td>0.0</td>\n",
       "      <td>0.307692</td>\n",
       "      <td>0.707595</td>\n",
       "      <td>0.0</td>\n",
       "      <td>0.019143</td>\n",
       "    </tr>\n",
       "    <tr>\n",
       "      <th>2919</th>\n",
       "      <td>0.0</td>\n",
       "      <td>0.338462</td>\n",
       "      <td>0.716456</td>\n",
       "      <td>0.0</td>\n",
       "      <td>0.025434</td>\n",
       "    </tr>\n",
       "    <tr>\n",
       "      <th>3601</th>\n",
       "      <td>0.0</td>\n",
       "      <td>0.292308</td>\n",
       "      <td>0.696203</td>\n",
       "      <td>0.0</td>\n",
       "      <td>0.030769</td>\n",
       "    </tr>\n",
       "    <tr>\n",
       "      <th>818</th>\n",
       "      <td>0.0</td>\n",
       "      <td>0.338462</td>\n",
       "      <td>0.667089</td>\n",
       "      <td>0.0</td>\n",
       "      <td>0.032929</td>\n",
       "    </tr>\n",
       "    <tr>\n",
       "      <th>2183</th>\n",
       "      <td>0.0</td>\n",
       "      <td>0.292308</td>\n",
       "      <td>0.711392</td>\n",
       "      <td>0.0</td>\n",
       "      <td>0.034314</td>\n",
       "    </tr>\n",
       "    <tr>\n",
       "      <th>4498</th>\n",
       "      <td>0.0</td>\n",
       "      <td>0.292308</td>\n",
       "      <td>0.668354</td>\n",
       "      <td>0.0</td>\n",
       "      <td>0.041500</td>\n",
       "    </tr>\n",
       "    <tr>\n",
       "      <th>620</th>\n",
       "      <td>0.0</td>\n",
       "      <td>0.292308</td>\n",
       "      <td>0.667089</td>\n",
       "      <td>0.0</td>\n",
       "      <td>0.042360</td>\n",
       "    </tr>\n",
       "    <tr>\n",
       "      <th>2604</th>\n",
       "      <td>0.0</td>\n",
       "      <td>0.276923</td>\n",
       "      <td>0.697468</td>\n",
       "      <td>0.0</td>\n",
       "      <td>0.046171</td>\n",
       "    </tr>\n",
       "  </tbody>\n",
       "</table>\n",
       "</div>"
      ],
      "text/plain": [
       "      gender       age    income  family_members  distance\n",
       "13       0.0  0.323077  0.696203             0.0  0.000000\n",
       "1967     0.0  0.323077  0.678481             0.0  0.017722\n",
       "4192     0.0  0.338462  0.705063             0.0  0.017754\n",
       "2716     0.0  0.307692  0.707595             0.0  0.019143\n",
       "2919     0.0  0.338462  0.716456             0.0  0.025434\n",
       "3601     0.0  0.292308  0.696203             0.0  0.030769\n",
       "818      0.0  0.338462  0.667089             0.0  0.032929\n",
       "2183     0.0  0.292308  0.711392             0.0  0.034314\n",
       "4498     0.0  0.292308  0.668354             0.0  0.041500\n",
       "620      0.0  0.292308  0.667089             0.0  0.042360\n",
       "2604     0.0  0.276923  0.697468             0.0  0.046171"
      ]
     },
     "execution_count": 14,
     "metadata": {},
     "output_type": "execute_result"
    }
   ],
   "source": [
    "euc_s = get_knn(df_scaled[features], 13, 11, 'euclidean')\n",
    "euc_s"
   ]
  },
  {
   "cell_type": "markdown",
   "metadata": {},
   "source": [
    "**Not Scaled Manhattan**"
   ]
  },
  {
   "cell_type": "code",
   "execution_count": 15,
   "metadata": {},
   "outputs": [
    {
     "data": {
      "text/html": [
       "<div>\n",
       "<style scoped>\n",
       "    .dataframe tbody tr th:only-of-type {\n",
       "        vertical-align: middle;\n",
       "    }\n",
       "\n",
       "    .dataframe tbody tr th {\n",
       "        vertical-align: top;\n",
       "    }\n",
       "\n",
       "    .dataframe thead th {\n",
       "        text-align: right;\n",
       "    }\n",
       "</style>\n",
       "<table border=\"1\" class=\"dataframe\">\n",
       "  <thead>\n",
       "    <tr style=\"text-align: right;\">\n",
       "      <th></th>\n",
       "      <th>gender</th>\n",
       "      <th>age</th>\n",
       "      <th>income</th>\n",
       "      <th>family_members</th>\n",
       "      <th>distance</th>\n",
       "    </tr>\n",
       "  </thead>\n",
       "  <tbody>\n",
       "    <tr>\n",
       "      <th>13</th>\n",
       "      <td>0.0</td>\n",
       "      <td>21.0</td>\n",
       "      <td>55000.0</td>\n",
       "      <td>0.0</td>\n",
       "      <td>0.0</td>\n",
       "    </tr>\n",
       "    <tr>\n",
       "      <th>3601</th>\n",
       "      <td>0.0</td>\n",
       "      <td>19.0</td>\n",
       "      <td>55000.0</td>\n",
       "      <td>0.0</td>\n",
       "      <td>2.0</td>\n",
       "    </tr>\n",
       "    <tr>\n",
       "      <th>2893</th>\n",
       "      <td>0.0</td>\n",
       "      <td>25.0</td>\n",
       "      <td>55000.0</td>\n",
       "      <td>4.0</td>\n",
       "      <td>8.0</td>\n",
       "    </tr>\n",
       "    <tr>\n",
       "      <th>558</th>\n",
       "      <td>0.0</td>\n",
       "      <td>26.0</td>\n",
       "      <td>55000.0</td>\n",
       "      <td>5.0</td>\n",
       "      <td>10.0</td>\n",
       "    </tr>\n",
       "    <tr>\n",
       "      <th>214</th>\n",
       "      <td>0.0</td>\n",
       "      <td>32.0</td>\n",
       "      <td>55000.0</td>\n",
       "      <td>2.0</td>\n",
       "      <td>13.0</td>\n",
       "    </tr>\n",
       "    <tr>\n",
       "      <th>4634</th>\n",
       "      <td>0.0</td>\n",
       "      <td>35.0</td>\n",
       "      <td>55000.0</td>\n",
       "      <td>1.0</td>\n",
       "      <td>15.0</td>\n",
       "    </tr>\n",
       "    <tr>\n",
       "      <th>1637</th>\n",
       "      <td>0.0</td>\n",
       "      <td>39.0</td>\n",
       "      <td>55000.0</td>\n",
       "      <td>1.0</td>\n",
       "      <td>19.0</td>\n",
       "    </tr>\n",
       "    <tr>\n",
       "      <th>1996</th>\n",
       "      <td>1.0</td>\n",
       "      <td>46.0</td>\n",
       "      <td>55000.0</td>\n",
       "      <td>2.0</td>\n",
       "      <td>28.0</td>\n",
       "    </tr>\n",
       "    <tr>\n",
       "      <th>340</th>\n",
       "      <td>0.0</td>\n",
       "      <td>52.0</td>\n",
       "      <td>55000.0</td>\n",
       "      <td>1.0</td>\n",
       "      <td>32.0</td>\n",
       "    </tr>\n",
       "    <tr>\n",
       "      <th>1448</th>\n",
       "      <td>0.0</td>\n",
       "      <td>20.0</td>\n",
       "      <td>54900.0</td>\n",
       "      <td>1.0</td>\n",
       "      <td>102.0</td>\n",
       "    </tr>\n",
       "    <tr>\n",
       "      <th>2604</th>\n",
       "      <td>0.0</td>\n",
       "      <td>18.0</td>\n",
       "      <td>55100.0</td>\n",
       "      <td>0.0</td>\n",
       "      <td>103.0</td>\n",
       "    </tr>\n",
       "  </tbody>\n",
       "</table>\n",
       "</div>"
      ],
      "text/plain": [
       "      gender   age   income  family_members  distance\n",
       "13       0.0  21.0  55000.0             0.0       0.0\n",
       "3601     0.0  19.0  55000.0             0.0       2.0\n",
       "2893     0.0  25.0  55000.0             4.0       8.0\n",
       "558      0.0  26.0  55000.0             5.0      10.0\n",
       "214      0.0  32.0  55000.0             2.0      13.0\n",
       "4634     0.0  35.0  55000.0             1.0      15.0\n",
       "1637     0.0  39.0  55000.0             1.0      19.0\n",
       "1996     1.0  46.0  55000.0             2.0      28.0\n",
       "340      0.0  52.0  55000.0             1.0      32.0\n",
       "1448     0.0  20.0  54900.0             1.0     102.0\n",
       "2604     0.0  18.0  55100.0             0.0     103.0"
      ]
     },
     "execution_count": 15,
     "metadata": {},
     "output_type": "execute_result"
    }
   ],
   "source": [
    "man = get_knn(df[features], 13, 11, 'manhattan')\n",
    "man"
   ]
  },
  {
   "cell_type": "markdown",
   "metadata": {},
   "source": [
    "**Scaled Manhattan**"
   ]
  },
  {
   "cell_type": "code",
   "execution_count": 16,
   "metadata": {},
   "outputs": [
    {
     "data": {
      "text/html": [
       "<div>\n",
       "<style scoped>\n",
       "    .dataframe tbody tr th:only-of-type {\n",
       "        vertical-align: middle;\n",
       "    }\n",
       "\n",
       "    .dataframe tbody tr th {\n",
       "        vertical-align: top;\n",
       "    }\n",
       "\n",
       "    .dataframe thead th {\n",
       "        text-align: right;\n",
       "    }\n",
       "</style>\n",
       "<table border=\"1\" class=\"dataframe\">\n",
       "  <thead>\n",
       "    <tr style=\"text-align: right;\">\n",
       "      <th></th>\n",
       "      <th>gender</th>\n",
       "      <th>age</th>\n",
       "      <th>income</th>\n",
       "      <th>family_members</th>\n",
       "      <th>distance</th>\n",
       "    </tr>\n",
       "  </thead>\n",
       "  <tbody>\n",
       "    <tr>\n",
       "      <th>13</th>\n",
       "      <td>0.0</td>\n",
       "      <td>0.323077</td>\n",
       "      <td>0.696203</td>\n",
       "      <td>0.0</td>\n",
       "      <td>0.000000</td>\n",
       "    </tr>\n",
       "    <tr>\n",
       "      <th>1967</th>\n",
       "      <td>0.0</td>\n",
       "      <td>0.323077</td>\n",
       "      <td>0.678481</td>\n",
       "      <td>0.0</td>\n",
       "      <td>0.017722</td>\n",
       "    </tr>\n",
       "    <tr>\n",
       "      <th>4192</th>\n",
       "      <td>0.0</td>\n",
       "      <td>0.338462</td>\n",
       "      <td>0.705063</td>\n",
       "      <td>0.0</td>\n",
       "      <td>0.024245</td>\n",
       "    </tr>\n",
       "    <tr>\n",
       "      <th>2716</th>\n",
       "      <td>0.0</td>\n",
       "      <td>0.307692</td>\n",
       "      <td>0.707595</td>\n",
       "      <td>0.0</td>\n",
       "      <td>0.026777</td>\n",
       "    </tr>\n",
       "    <tr>\n",
       "      <th>3601</th>\n",
       "      <td>0.0</td>\n",
       "      <td>0.292308</td>\n",
       "      <td>0.696203</td>\n",
       "      <td>0.0</td>\n",
       "      <td>0.030769</td>\n",
       "    </tr>\n",
       "    <tr>\n",
       "      <th>2919</th>\n",
       "      <td>0.0</td>\n",
       "      <td>0.338462</td>\n",
       "      <td>0.716456</td>\n",
       "      <td>0.0</td>\n",
       "      <td>0.035638</td>\n",
       "    </tr>\n",
       "    <tr>\n",
       "      <th>818</th>\n",
       "      <td>0.0</td>\n",
       "      <td>0.338462</td>\n",
       "      <td>0.667089</td>\n",
       "      <td>0.0</td>\n",
       "      <td>0.044499</td>\n",
       "    </tr>\n",
       "    <tr>\n",
       "      <th>2183</th>\n",
       "      <td>0.0</td>\n",
       "      <td>0.292308</td>\n",
       "      <td>0.711392</td>\n",
       "      <td>0.0</td>\n",
       "      <td>0.045959</td>\n",
       "    </tr>\n",
       "    <tr>\n",
       "      <th>2604</th>\n",
       "      <td>0.0</td>\n",
       "      <td>0.276923</td>\n",
       "      <td>0.697468</td>\n",
       "      <td>0.0</td>\n",
       "      <td>0.047420</td>\n",
       "    </tr>\n",
       "    <tr>\n",
       "      <th>4498</th>\n",
       "      <td>0.0</td>\n",
       "      <td>0.292308</td>\n",
       "      <td>0.668354</td>\n",
       "      <td>0.0</td>\n",
       "      <td>0.058617</td>\n",
       "    </tr>\n",
       "    <tr>\n",
       "      <th>2366</th>\n",
       "      <td>0.0</td>\n",
       "      <td>0.276923</td>\n",
       "      <td>0.683544</td>\n",
       "      <td>0.0</td>\n",
       "      <td>0.058812</td>\n",
       "    </tr>\n",
       "  </tbody>\n",
       "</table>\n",
       "</div>"
      ],
      "text/plain": [
       "      gender       age    income  family_members  distance\n",
       "13       0.0  0.323077  0.696203             0.0  0.000000\n",
       "1967     0.0  0.323077  0.678481             0.0  0.017722\n",
       "4192     0.0  0.338462  0.705063             0.0  0.024245\n",
       "2716     0.0  0.307692  0.707595             0.0  0.026777\n",
       "3601     0.0  0.292308  0.696203             0.0  0.030769\n",
       "2919     0.0  0.338462  0.716456             0.0  0.035638\n",
       "818      0.0  0.338462  0.667089             0.0  0.044499\n",
       "2183     0.0  0.292308  0.711392             0.0  0.045959\n",
       "2604     0.0  0.276923  0.697468             0.0  0.047420\n",
       "4498     0.0  0.292308  0.668354             0.0  0.058617\n",
       "2366     0.0  0.276923  0.683544             0.0  0.058812"
      ]
     },
     "execution_count": 16,
     "metadata": {},
     "output_type": "execute_result"
    }
   ],
   "source": [
    "man_s = get_knn(df_scaled[features], 13, 11, 'manhattan')\n",
    "man_s"
   ]
  },
  {
   "cell_type": "markdown",
   "metadata": {},
   "source": [
    "Respuestas a las preguntas"
   ]
  },
  {
   "cell_type": "markdown",
   "metadata": {},
   "source": [
    "**¿El hecho de que los datos no estén escalados afecta al algoritmo kNN? Si es así, ¿cómo se manifiesta?** \n",
    "\n",
    "Sí, afecta. El algoritmo kNN está basado en las distancias entre puntos, en caso de que las características tengan diferentes escalas, las que tengan valores más grandes dominaran el cálculo de las distancias lo que genera una desproporción, y lleva a un resultado sesgado. En este caso, las características de `income` dominarían sobre `age` y `family_members`. En cambio, **con los datos escalados, todas las características contribuyen de manera más equilibrada al cálculo de la distancia**. "
   ]
  },
  {
   "cell_type": "markdown",
   "metadata": {},
   "source": [
    "**¿Qué tan similares son los resultados al utilizar la métrica de distancia Manhattan (independientemente del escalado)?**      \n",
    "\n",
    "El escalado de datos afecta significativamente la métrica de distancia Manhattan, ya que sin escalar, características con magnitudes mayores, entonces`income`, dominan la distancia, mientras que con escalado, todas contribuyen de manera equilibrada, alterando el orden de los vecinos más cercanos. Por ello, se debe decidir si escalar o no según la importancia relativa de las características en objetivo de la creación del algoritmo."
   ]
  },
  {
   "cell_type": "code",
   "execution_count": 17,
   "metadata": {},
   "outputs": [
    {
     "data": {
      "image/png": "[encoded data removed]",
      "text/plain": [
       "<Figure size 2000x600 with 2 Axes>"
      ]
     },
     "metadata": {},
     "output_type": "display_data"
    }
   ],
   "source": [
    "# Create a figure with scaled and not scaled Manhattan\n",
    "fig, axes = plt.subplots(1, 2, figsize=(20, 6))\n",
    "\n",
    "# Plot the first histogram (Manhattan Not Scaled)\n",
    "sns.histplot(man.distance, color='cornflowerblue', bins=30, kde=True, edgecolor='black', ax=axes[0])\n",
    "axes[0].set_title('Manhattan Distance Distribution (Not Scaled)', fontsize=16, pad=20)\n",
    "axes[0].set_xlabel('Manhattan Distance', fontsize=14)\n",
    "axes[0].set_ylabel('Frequency', fontsize=14)\n",
    "\n",
    "# Plot the second histogram (Manhattan Scaled)\n",
    "sns.histplot(man_s.distance, color='salmon', bins=30, kde=True, edgecolor='black', ax=axes[1])\n",
    "axes[1].set_title('Manhattan Distance Distribution (Scaled)', fontsize=16, pad=20)\n",
    "axes[1].set_xlabel('Manhattan Distance', fontsize=14)\n",
    "axes[1].set_ylabel('Frequency', fontsize=14)\n",
    "\n",
    "# Adjust layout\n",
    "plt.tight_layout()\n",
    "plt.show()"
   ]
  },
  {
   "cell_type": "markdown",
   "metadata": {},
   "source": [
    "En este ejemplo podemos ver que al escalar los datos, todas las características contribuyen de manera equitativa al cálculo de la distancia, evitando que variables con valores grandes dominen el resultado."
   ]
  },
  {
   "cell_type": "markdown",
   "metadata": {},
   "source": [
    "# Tarea 2. ¿Es probable que el cliente reciba una prestación del seguro?"
   ]
  },
  {
   "cell_type": "markdown",
   "metadata": {},
   "source": [
    "En términos de machine learning podemos considerarlo como una tarea de clasificación binaria.     \n",
    "Se evalúa si el enfoque de clasificación **kNN** puede mejorar el rendimiento en comparación con un modelo **dummy**, tomando como objetivo los valores de **insurance_benefits** mayores a cero. Para ello, se construye primero el modelo de clasificación **kNN**, luego el modelo **dummy**, y se comparan los resultados obtenidos de ambos.\n",
    "\n",
    "La probabilidad de pagar cualquier prestación del seguro puede definirse como\n",
    "$$\n",
    "P\\{\\text{prestación de seguro recibida}\\}=\\frac{\\text{número de clientes que han recibido alguna prestación de seguro}}{\\text{número total de clientes}}.\n",
    "$$\n",
    "\n",
    "Divide todos los datos correspondientes a las etapas de entrenamiento/prueba respetando la proporción 70:30."
   ]
  },
  {
   "cell_type": "code",
   "execution_count": 18,
   "metadata": {},
   "outputs": [],
   "source": [
    "# Calcula el objetivo (y)\n",
    "df['insurance_benefits_received'] = np.where(df['insurance_benefits'] == 0, 0, 1)\n",
    "df_scaled['insurance_benefits_received'] = np.where(df_scaled['insurance_benefits'] == 0, 0, 1)"
   ]
  },
  {
   "cell_type": "code",
   "execution_count": 19,
   "metadata": {},
   "outputs": [
    {
     "name": "stdout",
     "output_type": "stream",
     "text": [
      "\n",
      "Not scaled data\n",
      " insurance_benefits_received\n",
      "0    0.8872\n",
      "1    0.1128\n",
      "Name: proportion, dtype: float64\n",
      "\n",
      "Scaled data\n",
      " insurance_benefits_received\n",
      "0    0.8872\n",
      "1    0.1128\n",
      "Name: proportion, dtype: float64\n"
     ]
    }
   ],
   "source": [
    "# comprueba el desequilibrio de clases con value_counts()\n",
    "print('\\nNot scaled data\\n',df['insurance_benefits_received'].value_counts(normalize=True)) #proporción\n",
    "print('\\nScaled data\\n', df_scaled['insurance_benefits_received'].value_counts(normalize=True)) #proporción"
   ]
  },
  {
   "cell_type": "markdown",
   "metadata": {},
   "source": [
    "Podemos ver que el 88% no han recibido al menos una prestación de seguro."
   ]
  },
  {
   "cell_type": "markdown",
   "metadata": {},
   "source": [
    "**Evaluación de un Modelo Dummyn**  \n",
    "\n",
    "Generamos predicciones aleatorias con diferentes probabilidades (P) usando `rnd_model_predict`. Luego, evaluamos el rendimiento con `eval_classifier`, calculando la `puntuación F1` y la `matriz de confusión`. Esto servirá como línea base para comparar futuros modelos."
   ]
  },
  {
   "cell_type": "code",
   "execution_count": 20,
   "metadata": {},
   "outputs": [],
   "source": [
    "def eval_classifier(y_true, y_pred):\n",
    "    \n",
    "    f1_score = sklearn.metrics.f1_score(y_true, y_pred)\n",
    "    print(f'F1: {f1_score:.2f}')\n",
    "    \n",
    "    cm = sklearn.metrics.confusion_matrix(y_true, y_pred, normalize='all')\n",
    "    print('Matriz de confusión')\n",
    "    print(cm)"
   ]
  },
  {
   "cell_type": "code",
   "execution_count": 21,
   "metadata": {},
   "outputs": [],
   "source": [
    "# generar la salida de un modelo aleatorio\n",
    "\n",
    "def rnd_model_predict(P, size, seed=42):\n",
    "\n",
    "    rng = np.random.default_rng(seed=seed)\n",
    "    return rng.binomial(n=1, p=P, size=size)"
   ]
  },
  {
   "cell_type": "code",
   "execution_count": 22,
   "metadata": {},
   "outputs": [
    {
     "name": "stdout",
     "output_type": "stream",
     "text": [
      "La probabilidad: 0.00\n",
      "F1: 0.00\n",
      "Matriz de confusión\n",
      "[[0.8872 0.    ]\n",
      " [0.1128 0.    ]]\n",
      "\n",
      "La probabilidad: 0.11\n",
      "F1: 0.12\n",
      "Matriz de confusión\n",
      "[[0.7914 0.0958]\n",
      " [0.0994 0.0134]]\n",
      "\n",
      "La probabilidad: 0.50\n",
      "F1: 0.20\n",
      "Matriz de confusión\n",
      "[[0.456  0.4312]\n",
      " [0.053  0.0598]]\n",
      "\n",
      "La probabilidad: 1.00\n",
      "F1: 0.20\n",
      "Matriz de confusión\n",
      "[[0.     0.8872]\n",
      " [0.     0.1128]]\n",
      "\n"
     ]
    }
   ],
   "source": [
    "for P in [0, df['insurance_benefits_received'].sum() / len(df), 0.5, 1]:\n",
    "\n",
    "    print(f'La probabilidad: {P:.2f}')\n",
    "    y_pred_rnd = rnd_model_predict(P, df[features].shape[0])\n",
    "        \n",
    "    eval_classifier(df['insurance_benefits_received'], y_pred_rnd)\n",
    "    \n",
    "    print()"
   ]
  },
  {
   "cell_type": "markdown",
   "metadata": {},
   "source": [
    "Los resultados muestran que un modelo aleatorio no es efectivo para predecir la recepción de beneficios de seguro. Incluso cuando la probabilidad de predicción se ajusta a la distribución real de los datos, el F1-score sigue siendo bajo (máximo 0.20), lo que indica un rendimiento deficiente en la clasificación de casos positivos y negativos."
   ]
  },
  {
   "cell_type": "markdown",
   "metadata": {},
   "source": [
    "**Entrenamiento del modelo kNN**   \n",
    "Usaremos el parámetro de `train_test_split` con un ratio de 70:30 para dividir los conjuntos de entrenamiento."
   ]
  },
  {
   "cell_type": "markdown",
   "metadata": {},
   "source": [
    "**Not Scaled Data**"
   ]
  },
  {
   "cell_type": "code",
   "execution_count": 23,
   "metadata": {},
   "outputs": [],
   "source": [
    "# Separar objetivo y caracteristicas\n",
    "target = df['insurance_benefits_received']\n",
    "features = df.drop(['insurance_benefits_received', 'insurance_benefits'], axis=1)\n",
    "\n",
    "# Separar los datos en entrenamiento y prueba\n",
    "features_train, features_valid, target_train, target_valid = train_test_split(\n",
    "    features, target, test_size=0.3, random_state=12345)"
   ]
  },
  {
   "cell_type": "markdown",
   "metadata": {},
   "source": [
    "**Scaled Data**"
   ]
  },
  {
   "cell_type": "code",
   "execution_count": 24,
   "metadata": {},
   "outputs": [],
   "source": [
    "#Separar las características de la columna objetivo\n",
    "target_s = df_scaled['insurance_benefits_received']\n",
    "features_s = df_scaled.drop(['insurance_benefits_received','insurance_benefits'], axis=1)\n",
    "\n",
    "#separar variables de datos en variables de entrenamiento y prueba\n",
    "features_train_s, features_valid_s, target_train_s, target_valid_s = train_test_split( \n",
    "    features, target, test_size=0.3, random_state=12345 )"
   ]
  },
  {
   "cell_type": "code",
   "execution_count": 25,
   "metadata": {},
   "outputs": [],
   "source": [
    "# Función para encontrar el mejor K y mostrar la matriz de confusión\n",
    "def find_best_k(features_train, target_train, features_valid, target_valid, scaled=False):\n",
    "    \"\"\"\n",
    "    Encuentra el mejor valor de k para KNN basado en la métrica F1.\n",
    "    También muestra la matriz de confusión para cada k y el mejor k.\n",
    "\n",
    "    :param features_train: Datos de entrenamiento\n",
    "    :param target_train: Etiquetas de entrenamiento\n",
    "    :param features_valid: Datos de validación\n",
    "    :param target_valid: Etiquetas de validación\n",
    "    :param scaled: Indica si los datos están escalados o no (solo para impresión)\n",
    "    \n",
    "    :return: Mejor k encontrado y su F1 score\n",
    "    \"\"\"\n",
    "    best_k = None\n",
    "    best_f1 = 0\n",
    "    best_predictions = None\n",
    "    k_values = np.arange(1, 11)\n",
    "\n",
    "    for k in k_values:\n",
    "        # Crear el clasificador KNN\n",
    "        knn = KNeighborsClassifier(n_neighbors=k, weights='distance')\n",
    "        knn.fit(features_train, target_train)\n",
    "        \n",
    "        # Realizar predicciones\n",
    "        predictions = knn.predict(features_valid)\n",
    "        f1 = f1_score(target_valid, predictions)\n",
    "        \n",
    "        # Imprimir los resultados de F1 por cada valor de k\n",
    "        print(f'K = {k} -> F1 Score: {f1:.4f}')\n",
    "        \n",
    "        # Guardar las predicciones para la matriz de confusión y el mejor F1\n",
    "        if f1 > best_f1:\n",
    "            best_f1 = f1\n",
    "            best_k = k\n",
    "            best_predictions = predictions\n",
    "\n",
    "        # Mostrar la matriz de confusión para el valor de k\n",
    "        cm = confusion_matrix(target_valid, predictions)\n",
    "        print(f'Matriz de Confusión para k={k}:')\n",
    "        print(cm)\n",
    "        print('-' * 30)\n",
    "\n",
    "    scaling_status = \"Scaled\" if scaled else \"Not Scaled\"\n",
    "    \n",
    "    # Mostrar el mejor k y su F1 Score\n",
    "    print(f'\\nMejor K para {scaling_status} Data: {best_k} con F1 Score: {best_f1:.4f}')\n",
    "    \n",
    "    # Mostrar la matriz de confusión del mejor modelo\n",
    "    cm_best = confusion_matrix(target_valid, best_predictions)\n",
    "    print(f'Matriz de Confusión para el mejor K (k={best_k}):')\n",
    "    print(cm_best)\n",
    "\n",
    "    return best_k, best_f1"
   ]
  },
  {
   "cell_type": "code",
   "execution_count": 26,
   "metadata": {},
   "outputs": [
    {
     "name": "stdout",
     "output_type": "stream",
     "text": [
      "Evaluación de datos NO escalados:\n",
      "\n",
      "K = 1 -> F1 Score: 0.6065\n",
      "Matriz de Confusión para k=1:\n",
      "[[1307   30]\n",
      " [  79   84]]\n",
      "------------------------------\n",
      "K = 2 -> F1 Score: 0.6087\n",
      "Matriz de Confusión para k=2:\n",
      "[[1308   29]\n",
      " [  79   84]]\n",
      "------------------------------\n",
      "K = 3 -> F1 Score: 0.5525\n",
      "Matriz de Confusión para k=3:\n",
      "[[1314   23]\n",
      " [  92   71]]\n",
      "------------------------------\n",
      "K = 4 -> F1 Score: 0.5242\n",
      "Matriz de Confusión para k=4:\n",
      "[[1317   20]\n",
      " [  98   65]]\n",
      "------------------------------\n",
      "K = 5 -> F1 Score: 0.5063\n",
      "Matriz de Confusión para k=5:\n",
      "[[1323   14]\n",
      " [ 103   60]]\n",
      "------------------------------\n",
      "K = 6 -> F1 Score: 0.4635\n",
      "Matriz de Confusión para k=6:\n",
      "[[1321   16]\n",
      " [ 109   54]]\n",
      "------------------------------\n",
      "K = 7 -> F1 Score: 0.4395\n",
      "Matriz de Confusión para k=7:\n",
      "[[1326   11]\n",
      " [ 114   49]]\n",
      "------------------------------\n",
      "K = 8 -> F1 Score: 0.4395\n",
      "Matriz de Confusión para k=8:\n",
      "[[1326   11]\n",
      " [ 114   49]]\n",
      "------------------------------\n",
      "K = 9 -> F1 Score: 0.4182\n",
      "Matriz de Confusión para k=9:\n",
      "[[1326   11]\n",
      " [ 117   46]]\n",
      "------------------------------\n",
      "K = 10 -> F1 Score: 0.4182\n",
      "Matriz de Confusión para k=10:\n",
      "[[1326   11]\n",
      " [ 117   46]]\n",
      "------------------------------\n",
      "\n",
      "Mejor K para Not Scaled Data: 2 con F1 Score: 0.6087\n",
      "Matriz de Confusión para el mejor K (k=2):\n",
      "[[1308   29]\n",
      " [  79   84]]\n"
     ]
    }
   ],
   "source": [
    "# Euclidean - Not Scaled Data\n",
    "print(\"Evaluación de datos NO escalados:\\n\")\n",
    "best_k_not_scaled, best_f1_not_scaled = find_best_k(features_train, target_train, features_valid, target_valid, scaled=False)"
   ]
  },
  {
   "cell_type": "code",
   "execution_count": 27,
   "metadata": {},
   "outputs": [
    {
     "name": "stdout",
     "output_type": "stream",
     "text": [
      "\n",
      "Evaluación de datos ESCALADOS:\n",
      "\n",
      "K = 1 -> F1 Score: 0.6065\n",
      "Matriz de Confusión para k=1:\n",
      "[[1307   30]\n",
      " [  79   84]]\n",
      "------------------------------\n",
      "K = 2 -> F1 Score: 0.6087\n",
      "Matriz de Confusión para k=2:\n",
      "[[1308   29]\n",
      " [  79   84]]\n",
      "------------------------------\n",
      "K = 3 -> F1 Score: 0.5525\n",
      "Matriz de Confusión para k=3:\n",
      "[[1314   23]\n",
      " [  92   71]]\n",
      "------------------------------\n",
      "K = 4 -> F1 Score: 0.5242\n",
      "Matriz de Confusión para k=4:\n",
      "[[1317   20]\n",
      " [  98   65]]\n",
      "------------------------------\n",
      "K = 5 -> F1 Score: 0.5063\n",
      "Matriz de Confusión para k=5:\n",
      "[[1323   14]\n",
      " [ 103   60]]\n",
      "------------------------------\n",
      "K = 6 -> F1 Score: 0.4635\n",
      "Matriz de Confusión para k=6:\n",
      "[[1321   16]\n",
      " [ 109   54]]\n",
      "------------------------------\n",
      "K = 7 -> F1 Score: 0.4395\n",
      "Matriz de Confusión para k=7:\n",
      "[[1326   11]\n",
      " [ 114   49]]\n",
      "------------------------------\n",
      "K = 8 -> F1 Score: 0.4395\n",
      "Matriz de Confusión para k=8:\n",
      "[[1326   11]\n",
      " [ 114   49]]\n",
      "------------------------------\n",
      "K = 9 -> F1 Score: 0.4182\n",
      "Matriz de Confusión para k=9:\n",
      "[[1326   11]\n",
      " [ 117   46]]\n",
      "------------------------------\n",
      "K = 10 -> F1 Score: 0.4182\n",
      "Matriz de Confusión para k=10:\n",
      "[[1326   11]\n",
      " [ 117   46]]\n",
      "------------------------------\n",
      "\n",
      "Mejor K para Scaled Data: 2 con F1 Score: 0.6087\n",
      "Matriz de Confusión para el mejor K (k=2):\n",
      "[[1308   29]\n",
      " [  79   84]]\n"
     ]
    }
   ],
   "source": [
    "# Euclidean - Scaled Data\n",
    "print(\"\\nEvaluación de datos ESCALADOS:\\n\")\n",
    "best_k_scaled, best_f1_scaled = find_best_k(features_train_s, target_train_s, features_valid_s, target_valid_s, scaled=True)"
   ]
  },
  {
   "cell_type": "markdown",
   "metadata": {},
   "source": [
    "No hay diferencia en los resultados con los datos escalados o no.    \n",
    "El mejor K es 2. "
   ]
  },
  {
   "cell_type": "code",
   "execution_count": 29,
   "metadata": {},
   "outputs": [],
   "source": [
    "# Fijar modelo con el mejor valor de K (k=2 en este caso)\n",
    "# Utilizando el clasificador KNN con la métrica de distancia euclidiana\n",
    "# y con ponderación por distancia\n",
    "neigh = KNeighborsClassifier(n_neighbors=2, weights='distance', metric='euclidean', p=2)\n",
    "\n",
    "# Entrenamos el modelo con los datos de entrenamiento (features_train y target_train)\n",
    "neigh.fit(features_train, target_train)\n",
    "\n",
    "# Realizamos predicciones con el modelo entrenado utilizando los datos de validación\n",
    "predictions = neigh.predict(features_valid)"
   ]
  },
  {
   "cell_type": "code",
   "execution_count": 31,
   "metadata": {},
   "outputs": [
    {
     "name": "stdout",
     "output_type": "stream",
     "text": [
      "F1: 0.61\n",
      "\n",
      "Confusion Matrix\n",
      "[[0.872      0.01933333]\n",
      " [0.05266667 0.056     ]]\n"
     ]
    }
   ],
   "source": [
    "# Confusion matrix generator function and F1 score calculation  \n",
    "def eval_classifier(y_true, y_pred):  \n",
    "    \"\"\"  \n",
    "    This function evaluates the classifier's performance  \n",
    "    by calculating the F1 score and displaying the normalized confusion matrix.  \n",
    "    \n",
    "    :param y_true: True labels (validation data)  \n",
    "    :param y_pred: Model predictions  \n",
    "    \"\"\"  \n",
    "    # Calculate the F1 score using the true labels and predictions  \n",
    "    f1_score = sklearn.metrics.f1_score(y_true, y_pred)  \n",
    "    print(f'F1: {f1_score:.2f}')  \n",
    "    \n",
    "    # Calculate the normalized confusion matrix  \n",
    "    # 'normalize='all'' calculates the proportions instead of the absolute counts  \n",
    "    cm = sklearn.metrics.confusion_matrix(y_true, y_pred, normalize='all')  \n",
    "    print('\\nConfusion Matrix')  \n",
    "    print(cm)  \n",
    "\n",
    "# Call the function to evaluate the model with validation data  \n",
    "eval_classifier(target_valid, predictions)"
   ]
  },
  {
   "cell_type": "markdown",
   "metadata": {},
   "source": [
    "**F1 Score**: 61%, indicando un buen balance entre precisión y exhaustividad.    \n",
    "**Matriz de Confusión**:    \n",
    "\n",
    "El 97.83% de los negativos reales fueron correctamente clasificados → muy buen desempeño para la clase 0.\n",
    "\n",
    "El 51.53% de los positivos reales fueron correctamente clasificados → hay margen de mejora para la clase 1.\n",
    "\n",
    "El F1 score de 0.61 es coherente: refleja que el modelo tiene un desempeño moderado en la clase minoritaria, compensado por un buen balance con precisión y recall.\n",
    "\n",
    "\n",
    "En general, el modelo tiene un buen desempeño en identificar casos negativos."
   ]
  },
  {
   "cell_type": "markdown",
   "metadata": {},
   "source": [
    "**Conclusion**.  \n",
    "El **modelo basado en distancia euclidiana (Euclidean - Not Scaled Data)** es claramente superior al **modelo dummy**. Con un **F1-score de 0.61**, supera significativamente al mejor F1-score del modelo dummy (0.20). Además, su matriz de confusión muestra un mejor equilibrio: clasifica correctamente el **87.2%** de los negativos (frente al 88.72% del dummy), reduce los falsos positivos a solo **1.93%** (frente al 43.12% del dummy) y mejora la identificación de positivos con un **5.60%** de verdaderos positivos. En conclusión, el modelo euclidiano es más preciso y confiable para clasificar ambas clases. "
   ]
  },
  {
   "cell_type": "markdown",
   "metadata": {},
   "source": [
    "# Tarea 3. Regresión (con regresión lineal)"
   ]
  },
  {
   "cell_type": "markdown",
   "metadata": {},
   "source": [
    "Con `insurance_benefits` como objetivo, evalúa cuál sería la RECM de un modelo de regresión lineal."
   ]
  },
  {
   "cell_type": "markdown",
   "metadata": {},
   "source": [
    "Construye tu propia implementación de regresión lineal. Para ello, recuerda cómo está formulada la solución de la tarea de regresión lineal en términos de LA. Comprueba la RECM tanto para los datos originales como para los escalados. ¿Puedes ver alguna diferencia en la RECM con respecto a estos dos casos?\n",
    "\n",
    "Denotemos- $X$: matriz de características; cada fila es un caso, cada columna es una característica, la primera columna está formada por unidades- $y$ — objetivo (un vector)- $\\hat{y}$ — objetivo estimado (un vector)- $w$ — vector de pesos\n",
    "La tarea de regresión lineal en el lenguaje de las matrices puede formularse así:\n",
    "$$\n",
    "y = Xw\n",
    "$$\n",
    "\n",
    "El objetivo de entrenamiento es entonces encontrar esa $w$ w que minimice la distancia L2 (ECM) entre $Xw$ y $y$:\n",
    "\n",
    "$$\n",
    "\\min_w d_2(Xw, y) \\quad \\text{or} \\quad \\min_w \\text{MSE}(Xw, y)\n",
    "$$\n",
    "\n",
    "Parece que hay una solución analítica para lo anteriormente expuesto:\n",
    "$$\n",
    "w = (X^T X)^{-1} X^T y\n",
    "$$\n",
    "\n",
    "La fórmula anterior puede servir para encontrar los pesos $w$ y estos últimos pueden utilizarse para calcular los valores predichos\n",
    "$$\n",
    "\\hat{y} = X_{val}w\n",
    "$$"
   ]
  },
  {
   "cell_type": "markdown",
   "metadata": {},
   "source": [
    "Se dividen todos los datos correspondientes a las etapas de entrenamiento/prueba respetando la proporción 70:30. Utiliza la métrica RECM para evaluar el modelo."
   ]
  },
  {
   "cell_type": "code",
   "execution_count": 165,
   "metadata": {},
   "outputs": [],
   "source": [
    "# Función para calcular la raíz de error cuadrático medio (RMSE) \n",
    "# y el error cuadrático medio (R²)\n",
    "def eval_regressor(y_true, y_pred): \n",
    "    # Calcular la raíz del error cuadrático medio (RMSE)\n",
    "    # RMSE mide la desviación media entre las predicciones y los valores reales\n",
    "    # Cuanto menor es el RMSE, mejor es el modelo\n",
    "    rmse = math.sqrt(sklearn.metrics.mean_squared_error(y_true, y_pred))\n",
    "    \n",
    "    # Imprimir el valor de RMSE con dos decimales\n",
    "    print(f'RMSE: {rmse:.2f}')\n",
    "    \n",
    "    # Calcular el coeficiente de determinación R²\n",
    "    # R² mide qué proporción de la varianza en los datos de salida es explicada por el modelo\n",
    "    # Un valor más cercano a 1 indica que el modelo explica bien los datos\n",
    "    r2_score = sklearn.metrics.r2_score(y_true, y_pred)\n",
    "    \n",
    "    # Imprimir el valor de R² con dos decimales\n",
    "    print(f'R²: {r2_score:.2f}')"
   ]
  },
  {
   "cell_type": "code",
   "execution_count": 166,
   "metadata": {},
   "outputs": [],
   "source": [
    "class MyLinearRegression:\n",
    "    def __init__(self):\n",
    "        # Inicializa el objeto, en este caso, los pesos serán None hasta que se ajusten durante el entrenamiento\n",
    "        self.weights = None\n",
    "    \n",
    "    def fit(self, X, y):\n",
    "        # Añadir una columna de unos a X para incorporar el término de la intersección (bias)\n",
    "        # Esto se hace concatenando una columna de unos al inicio de la matriz X\n",
    "        X2 = np.append(np.ones([len(X), 1]), X, axis=1)\n",
    "        \n",
    "        # Cálculo de los pesos usando la ecuación normal de regresión lineal\n",
    "        # La ecuación es: w = (X^T * X)^(-1) * X^T * y\n",
    "        self.weights = (np.linalg.inv(X2.T @ X2) @ X2.T) @ y\n",
    "\n",
    "    def predict(self, X):\n",
    "        # Añadir una columna de unos a X para la predicción (como en el ajuste)\n",
    "        X2 = np.append(np.ones([len(X), 1]), X, axis=1) \n",
    "        \n",
    "        # Realizar la predicción multiplicando X2 por los pesos obtenidos durante el entrenamiento\n",
    "        y_pred = X2.dot(self.weights)\n",
    "        \n",
    "        # Retornar las predicciones\n",
    "        return y_pred"
   ]
  },
  {
   "cell_type": "code",
   "execution_count": 167,
   "metadata": {},
   "outputs": [],
   "source": [
    "# Función para calcular la raíz de error cuadrático medio (RMSE) \n",
    "# y el error cuadrático medio (R²) y mostrar sus valores.\n",
    "def eval_regressor(y_true, y_pred):\n",
    "    \n",
    "    # Calcular la raíz del error cuadrático medio (RMSE)\n",
    "    # RMSE es una métrica que evalúa cuán cerca están las predicciones de los valores reales.\n",
    "    # Cuanto menor sea el RMSE, mejor es la predicción del modelo.\n",
    "    rmse = math.sqrt(sklearn.metrics.mean_squared_error(y_true, y_pred))\n",
    "    \n",
    "    # Imprimir el valor de RMSE con dos decimales.\n",
    "    print(f'RMSE: {rmse:.2f}')\n",
    "    \n",
    "    # Calcular el coeficiente de determinación R² (aunque no es común tomar la raíz de R²)\n",
    "    # R² mide el porcentaje de la varianza de la variable dependiente que es explicada por el modelo.\n",
    "    # Un valor de R² cercano a 1 indica que el modelo se ajusta bien a los datos.\n",
    "    r2_score = math.sqrt(sklearn.metrics.r2_score(y_true, y_pred))\n",
    "    \n",
    "    # Imprimir el valor de R² con dos decimales.\n",
    "    print(f'R²: {r2_score:.2f}')"
   ]
  },
  {
   "cell_type": "code",
   "execution_count": 168,
   "metadata": {},
   "outputs": [
    {
     "name": "stdout",
     "output_type": "stream",
     "text": [
      "[-0.9 0.0 0.0 -0.0 -0.0]\n",
      "RMSE: 0.34\n",
      "R²: 0.66\n"
     ]
    }
   ],
   "source": [
    "# Implementación y Evaluación de un Modelo de Regresión Lineal Personalizado \n",
    "\n",
    "# Preparar los datos de entrada (X) para la regresión lineal\n",
    "X = df[['age', 'gender', 'income', 'family_members']].to_numpy()\n",
    "\n",
    "# Preparar los datos de salida (y) para la regresión lineal\n",
    "y = df['insurance_benefits'].to_numpy()\n",
    "\n",
    "# Dividir los datos en conjuntos de entrenamiento y prueba utilizando un 70% para entrenamiento y un 30% para prueba\n",
    "# train_test_split se usa para evitar el sobreajuste y evaluar el modelo con datos no vistos\n",
    "X_train, X_test, y_train, y_test = train_test_split(X, y, test_size=0.3, random_state=12345)\n",
    "\n",
    "# Crear una instancia del modelo de regresión lineal personalizado\n",
    "lr = MyLinearRegression()\n",
    "\n",
    "# Ajustar el modelo a los datos de entrenamiento (X_train, y_train)\n",
    "# Esto calcula los pesos del modelo usando la función fit\n",
    "lr.fit(X_train, y_train)\n",
    "\n",
    "# Imprimir los pesos calculados por el modelo (intersección y coeficientes)\n",
    "# Esto muestra cómo el modelo ha aprendido la relación entre las características y los valores de salida\n",
    "print(lr.weights)\n",
    "\n",
    "# Realizar predicciones sobre los datos de prueba (X_test)\n",
    "# El modelo usará los pesos calculados previamente para predecir los valores de salida\n",
    "y_test_pred = lr.predict(X_test)\n",
    "\n",
    "# Evaluar el rendimiento del modelo utilizando las métricas de RMSE y R²\n",
    "# Compara las predicciones con los valores reales de los datos de prueba (y_test)\n",
    "eval_regressor(y_test, y_test_pred)\n"
   ]
  },
  {
   "cell_type": "markdown",
   "metadata": {},
   "source": [
    "**El modelo de regresión lineal** muestra que `age` (coeficiente `0.0357`) y `gender` (coeficiente `0.0164`) tienen un impacto positivo en los `insurance_benefits`, mientras que el número de `family_members` (coeficiente `-0.0117`) tiene un efecto negativo. `income` (coeficiente `-0.0000002607`) no influye significativamente en las predicciones. \n",
    "\n",
    "El modelo tiene un **error de predicción (RMSE)** de `0.34`, lo que indica que las predicciones se desvían en promedio `0.34` unidades de los valores reales, sugiriendo una buena precisión. Sin embargo, el **R²** de `0.66` revela que el modelo explica solo el `66%` de la variabilidad, dejando un `34%` sin explicar. Esto indica que el modelo es útil, pero podría mejorarse incluyendo más predictores o técnicas más avanzadas."
   ]
  },
  {
   "cell_type": "markdown",
   "metadata": {},
   "source": [
    "# Tarea 4. Ofuscar datos"
   ]
  },
  {
   "cell_type": "markdown",
   "metadata": {},
   "source": [
    "Lo mejor es ofuscar los datos multiplicando las características numéricas (recuerda que se pueden ver como la matriz $X$) por una matriz invertible $P$. \n",
    "\n",
    "$$\n",
    "X' = X \\times P\n",
    "$$\n",
    "\n",
    "Trata de hacerlo y comprueba cómo quedarán los valores de las características después de la transformación. Por cierto, la propiedad de invertibilidad es importante aquí, así que asegúrate de que $P$ sea realmente invertible.\n",
    "\n",
    "Puedes revisar la lección 'Matrices y operaciones matriciales -> Multiplicación de matrices' para recordar la regla de multiplicación de matrices y su implementación con NumPy."
   ]
  },
  {
   "cell_type": "code",
   "execution_count": 169,
   "metadata": {},
   "outputs": [],
   "source": [
    "personal_info_column_list = ['gender', 'age', 'income', 'family_members']\n",
    "df_pn = df[personal_info_column_list]"
   ]
  },
  {
   "cell_type": "code",
   "execution_count": 170,
   "metadata": {},
   "outputs": [
    {
     "data": {
      "text/plain": [
       "array([[1.0, 41.0, 49600.0, 1.0],\n",
       "       [0.0, 46.0, 38000.0, 1.0],\n",
       "       [0.0, 29.0, 21000.0, 0.0],\n",
       "       [0.0, 21.0, 41700.0, 2.0],\n",
       "       [1.0, 28.0, 26100.0, 0.0],\n",
       "       [1.0, 43.0, 41000.0, 2.0],\n",
       "       [1.0, 39.0, 39700.0, 2.0],\n",
       "       [1.0, 25.0, 38600.0, 4.0],\n",
       "       [1.0, 36.0, 49700.0, 1.0],\n",
       "       [1.0, 32.0, 51700.0, 1.0]])"
      ]
     },
     "execution_count": 170,
     "metadata": {},
     "output_type": "execute_result"
    }
   ],
   "source": [
    "X = df_pn.to_numpy()\n",
    "X[:10] "
   ]
  },
  {
   "cell_type": "markdown",
   "metadata": {},
   "source": [
    "**Generar una matriz aleatoria $P$.**"
   ]
  },
  {
   "cell_type": "code",
   "execution_count": 171,
   "metadata": {},
   "outputs": [
    {
     "data": {
      "text/plain": [
       "array([[0.8, 0.4, 0.9, 0.7],\n",
       "       [0.1, 1.0, 0.8, 0.8],\n",
       "       [0.1, 0.5, 0.4, 0.9],\n",
       "       [0.6, 0.8, 0.4, 0.2]])"
      ]
     },
     "execution_count": 171,
     "metadata": {},
     "output_type": "execute_result"
    }
   ],
   "source": [
    "rng = np.random.default_rng(seed=42)\n",
    "P = rng.random(size=(X.shape[1], X.shape[1]))\n",
    "P"
   ]
  },
  {
   "cell_type": "markdown",
   "metadata": {},
   "source": [
    "**Comprobar que la matriz P sea invertible**"
   ]
  },
  {
   "cell_type": "code",
   "execution_count": 172,
   "metadata": {},
   "outputs": [
    {
     "name": "stdout",
     "output_type": "stream",
     "text": [
      "Matrix P:\n",
      "[[0.8 0.4 0.9 0.7]\n",
      " [0.1 1.0 0.8 0.8]\n",
      " [0.1 0.5 0.4 0.9]\n",
      " [0.6 0.8 0.4 0.2]]\n",
      "\n",
      "Inverse of Matrix P:\n",
      "[[0.4 -1.4 0.6 1.1]\n",
      " [-1.1 0.4 0.1 1.2]\n",
      " [1.4 1.6 -2.1 -1.5]\n",
      " [-0.1 -0.7 1.7 -0.1]]\n"
     ]
    }
   ],
   "source": [
    "# Imprimir matriz P\n",
    "print(\"Matrix P:\")\n",
    "print(P)\n",
    "\n",
    "# Verificar si la matriz es invertible\n",
    "# El determinante debe ser distinto a 0\n",
    "if np.linalg.det(P) != 0:\n",
    "    print(\"\\nInverse of Matrix P:\")\n",
    "    print(np.linalg.inv(P))# Función aplicada a P\n",
    "else:\n",
    "    # Si el determinante es 0, la matriz no es invertible\n",
    "    print(\"\\nMatrix P is not invertible.\")"
   ]
  },
  {
   "cell_type": "markdown",
   "metadata": {},
   "source": [
    "El código genera una matriz aleatoria $P$ y comprueba que sea invertible al calcular su inversa $P^{-1}$. Los resultados muestran que la inversión es posible, lo que garantiza que los datos transformados pueden revertirse si es necesario.    \n",
    "Esto confirma que la matriz cumple su propósito en la ofuscación de datos.   "
   ]
  },
  {
   "cell_type": "markdown",
   "metadata": {},
   "source": [
    "**Puedes adivinar la edad o los ingresos de los clientes después de la transformación?**"
   ]
  },
  {
   "cell_type": "markdown",
   "metadata": {},
   "source": [
    "Los datos originales se ocultan mediante la transformación $\\mathbf{y} = P\\mathbf{x}$.   \n",
    "Sin $P^{-1}$, no es posible revertir la transformación.    \n",
    "La ofuscación garantiza la protección de la información sensible. "
   ]
  },
  {
   "cell_type": "code",
   "execution_count": 173,
   "metadata": {},
   "outputs": [
    {
     "name": "stdout",
     "output_type": "stream",
     "text": [
      "First 10 rows of the matrix (before transformation):\n",
      "[[1.00e+00 4.10e+01 4.96e+04 1.00e+00]\n",
      " [0.00e+00 4.60e+01 3.80e+04 1.00e+00]\n",
      " [0.00e+00 2.90e+01 2.10e+04 0.00e+00]\n",
      " [0.00e+00 2.10e+01 4.17e+04 2.00e+00]\n",
      " [1.00e+00 2.80e+01 2.61e+04 0.00e+00]\n",
      " [1.00e+00 4.30e+01 4.10e+04 2.00e+00]\n",
      " [1.00e+00 3.90e+01 3.97e+04 2.00e+00]\n",
      " [1.00e+00 2.50e+01 3.86e+04 4.00e+00]\n",
      " [1.00e+00 3.60e+01 4.97e+04 1.00e+00]\n",
      " [1.00e+00 3.20e+01 5.17e+04 1.00e+00]]\n",
      "\n",
      "First 10 rows of the matrix (after transformation):\n",
      "[[ 6359.71527314 22380.40467609 18424.09074184 46000.69669016]\n",
      " [ 4873.29406479 17160.36702982 14125.78076133 35253.45577301]\n",
      " [ 2693.11742928  9486.397744    7808.83156024 19484.86063067]\n",
      " [ 5345.60393712 18803.22720286 15479.14837264 38663.06186284]\n",
      " [ 3347.17673462 11782.82928336  9699.99894205 24211.27337753]\n",
      " [ 5258.77025195 18509.8596165  15237.19342704 38032.31715339]\n",
      " [ 5091.84582008 17920.45540783 14752.11143673 36824.37841067]\n",
      " [ 4950.8900715  17413.01768645 14334.46448264 35794.3865001 ]\n",
      " [ 6372.05574967 22420.56515812 18457.36484575 46089.44286752]\n",
      " [ 6627.90630563 23317.43454451 19195.91633541 47939.82858799]]\n"
     ]
    }
   ],
   "source": [
    "np.set_printoptions(suppress=False)\n",
    "\n",
    "print('First 10 rows of the matrix (before transformation):')\n",
    "print(X[:10])\n",
    "print('\\nFirst 10 rows of the matrix (after transformation):')\n",
    "print((X @ P)[:10])"
   ]
  },
  {
   "cell_type": "markdown",
   "metadata": {},
   "source": [
    "Tras la transformación, los datos originales quedan ocultos. La edad y los ingresos de los clientes han sido modificados mediante la matriz de transformación $P$, lo que imposibilita la recuperación de la información original sin conocer la matriz inversa $P^{-1}$. \n",
    "\n",
    "En términos matemáticos, si $\\mathbf{x}$ representa los datos originales y $\\mathbf{y} = P\\mathbf{x}$ los datos transformados, la recuperación de $\\mathbf{x}$ solo es posible si se dispone de $P^{-1}$, ya que $\\mathbf{x} = P^{-1}\\mathbf{y}$. \n",
    "\n",
    "Este proceso demuestra que la ofuscación de datos es efectiva para proteger información sensible, ya que sin acceso a $P$ o $P^{-1}$, los datos originales permanecen inaccesibles. \n"
   ]
  },
  {
   "cell_type": "markdown",
   "metadata": {},
   "source": [
    "**¿Puedes recuperar los datos originales de $X'$ si conoces $P$? Intenta comprobarlo a través de los cálculos moviendo $P$ del lado derecho de la fórmula anterior al izquierdo. En este caso las reglas de la multiplicación matricial son realmente útiles**"
   ]
  },
  {
   "cell_type": "code",
   "execution_count": 174,
   "metadata": {},
   "outputs": [
    {
     "name": "stdout",
     "output_type": "stream",
     "text": [
      "[[    1    41 49600     1]\n",
      " [    0    46 38000     1]\n",
      " [    0    29 21000     0]\n",
      " [    0    21 41700     2]\n",
      " [    1    28 26100     0]\n",
      " [    1    43 41000     2]\n",
      " [    1    39 39700     2]\n",
      " [    1    25 38600     4]\n",
      " [    1    36 49700     1]\n",
      " [    1    32 51700     1]]\n"
     ]
    }
   ],
   "source": [
    "np.set_printoptions(suppress = True)\n",
    "\n",
    "print(np.round(X @ P @ np.linalg.inv(P))[:10].astype(int))\n"
   ]
  },
  {
   "cell_type": "markdown",
   "metadata": {},
   "source": [
    "Muestra los tres casos para algunos clientes\n",
    "- Datos originales\n",
    "- El que está transformado\n",
    "- El que está invertido (recuperado)"
   ]
  },
  {
   "cell_type": "code",
   "execution_count": 175,
   "metadata": {},
   "outputs": [
    {
     "name": "stdout",
     "output_type": "stream",
     "text": [
      "First 5 rows of the original dataframe's features columns:\n",
      "    gender   age   income  family_members\n",
      "0     1.0  41.0  49600.0             1.0\n",
      "1     0.0  46.0  38000.0             1.0\n",
      "2     0.0  29.0  21000.0             0.0\n",
      "3     0.0  21.0  41700.0             2.0\n",
      "4     1.0  28.0  26100.0             0.0 \n",
      "\n",
      "First 5 rows of the matrix before the transformation:\n",
      " [[1.0 41.0 49600.0 1.0]\n",
      " [0.0 46.0 38000.0 1.0]\n",
      " [0.0 29.0 21000.0 0.0]\n",
      " [0.0 21.0 41700.0 2.0]\n",
      " [1.0 28.0 26100.0 0.0]] \n",
      "\n",
      "First 5 rows of the matrix after the transformation:\n",
      " [[6359.7 22380.4 18424.1 46000.7]\n",
      " [4873.3 17160.4 14125.8 35253.5]\n",
      " [2693.1 9486.4 7808.8 19484.9]\n",
      " [5345.6 18803.2 15479.1 38663.1]\n",
      " [3347.2 11782.8 9700.0 24211.3]] \n",
      "\n",
      "First 5 rows of the matrix after reversing the transformation:\n",
      " [[1.0 41.0 49600.0 1.0]\n",
      " [0.0 46.0 38000.0 1.0]\n",
      " [0.0 29.0 21000.0 0.0]\n",
      " [-0.0 21.0 41700.0 2.0]\n",
      " [1.0 28.0 26100.0 0.0]]\n"
     ]
    }
   ],
   "source": [
    "np.set_printoptions(suppress=True, formatter={'all': lambda x: f'{x:.1f}'})\n",
    "\n",
    "print('First 5 rows of the original dataframe\\'s features columns:\\n', df_pn.head(5), '\\n')\n",
    "print('First 5 rows of the matrix before the transformation:\\n', X[:5], '\\n')\n",
    "print('First 5 rows of the matrix after the transformation:\\n', (X @ P)[:5], '\\n')\n",
    "print('First 5 rows of the matrix after reversing the transformation:\\n', (X @ P @ np.linalg.inv(P))[:5])\n"
   ]
  },
  {
   "cell_type": "markdown",
   "metadata": {},
   "source": [
    "Seguramente puedes ver que algunos valores no son exactamente iguales a los de los datos originales. ¿Cuál podría ser la razón de ello?"
   ]
  },
  {
   "cell_type": "markdown",
   "metadata": {},
   "source": [
    "Utilicé `lamba`para redondear los resultados, los únicos que aparecen diferentes son los esperados, los de `First 5 rows of the matrix after the transformation`."
   ]
  },
  {
   "cell_type": "markdown",
   "metadata": {},
   "source": [
    "## Prueba de que la ofuscación de datos puede funcionar con regresión lineal"
   ]
  },
  {
   "cell_type": "markdown",
   "metadata": {},
   "source": [
    "En este proyecto la tarea de regresión se ha resuelto con la regresión lineal. Tu siguiente tarea es demostrar _analytically_ que el método de ofuscación no afectará a la regresión lineal en términos de valores predichos, es decir, que sus valores seguirán siendo los mismos. ¿Lo puedes creer? Pues no hace falta que lo creas, ¡tienes que que demostrarlo!"
   ]
  },
  {
   "cell_type": "markdown",
   "metadata": {},
   "source": [
    "Entonces, los datos están ofuscados y ahora tenemos $X \\times P$ en lugar de tener solo $X$. En consecuencia, hay otros pesos $w_P$ como\n",
    "$$\n",
    "w = (X^T X)^{-1} X^T y \\quad \\Rightarrow \\quad w_P = [(XP)^T XP]^{-1} (XP)^T y\n",
    "$$\n",
    "\n",
    "¿Cómo se relacionarían $w$ y $w_P$ si simplificáramos la fórmula de $w_P$ anterior? \n",
    "\n",
    "¿Cuáles serían los valores predichos con $w_P$? \n",
    "\n",
    "¿Qué significa esto para la calidad de la regresión lineal si esta se mide mediante la RECM?\n",
    "Revisa el Apéndice B Propiedades de las matrices al final del cuaderno. ¡Allí encontrarás fórmulas muy útiles!\n",
    "\n",
    "No es necesario escribir código en esta sección, basta con una explicación analítica."
   ]
  },
  {
   "cell_type": "markdown",
   "metadata": {},
   "source": [
    "**Respuesta**"
   ]
  },
  {
   "cell_type": "markdown",
   "metadata": {},
   "source": [
    "**Prueba Analítica: La Ofuscación de Datos no Afecta la Regresión Lineal**   \n",
    "\n",
    "Vamos a demostrar que la ofuscación de datos no afecta a los valores predichos en un modelo de regresión lineal, es decir, que los valores de predicción serán los mismos después de aplicar la ofuscación. Para ello, procederemos paso a paso de acuerdo con las propiedades de las matrices.   \n",
    "\n",
    "\n",
    "**1. Datos Originales y Ofuscados**   \n",
    "- Los datos originales están representados por $X$ (matriz de características) y $Y$ (vector objetivo).\n",
    "- Los datos ofuscados están dados por $X_P = X \\cdot P$, donde $P$ es una matriz de transformación invertible ($P^{-1}$ existe).\n",
    "\n",
    "**2. Pesos en la regresión lineal**   \n",
    "\n",
    "- **Pesos originales**:   \n",
    "  $$\n",
    "  w = (X^T X)^{-1} X^T y\n",
    "  $$\n",
    "\n",
    "- **Pesos con datos ofuscados**:    \n",
    "  $$\n",
    "  w_P = \\left( (X_P)^T X_P \\right)^{-1} (X_P)^T y\n",
    "  $$\n",
    "\n",
    "**3. Simplificación de $w_P$**  \n",
    "\n",
    "Sustituyendo $X_P = X \\cdot P$ en la fórmula de $w_P$:\n",
    "$$\n",
    "w_P = \\left( (X P)^T (X P) \\right)^{-1} (X P)^T y\n",
    "$$\n",
    "\n",
    "Ahora, usando las propiedades de las matrices:\n",
    "\n",
    "1. La transposición de un producto de matrices se invierte: $(AB)^T = B^T A^T$, por lo que:\n",
    "   $$\n",
    "   (X P)^T = P^T X^T\n",
    "   $$\n",
    "\n",
    "2. Sustituyendo en la expresión de $w_P$:\n",
    "   $$\n",
    "   w_P = \\left( P^T X^T X P \\right)^{-1} P^T X^T y\n",
    "   $$\n",
    "\n",
    "3. Usamos la propiedad de la inversa de un producto de matrices: $(AB)^{-1} = B^{-1} A^{-1}$, para expandir $\\left( P^T X^T X P \\right)^{-1}$:\n",
    "   $$\n",
    "   w_P = P^{-1} (X^T X)^{-1} (P^T)^{-1} P^T X^T y\n",
    "   $$\n",
    "\n",
    "4. Simplificamos $(P^T)^{-1} P^T = I$ (matriz identidad):\n",
    "   $$\n",
    "   w_P = P^{-1} (X^T X)^{-1} X^T y\n",
    "   $$\n",
    "\n",
    "5. Sabemos que $(X^T X)^{-1} X^T y = w$, por lo que:\n",
    "   $$\n",
    "   w_P = P^{-1} w\n",
    "   $$\n",
    "\n",
    "**4. Valores Predichos con $w_P$**  \n",
    "\n",
    "Los valores predichos para los datos originales son:\n",
    "$$\n",
    "\\hat{y} = X w\n",
    "$$\n",
    "\n",
    "Los valores predichos para los datos ofuscados son:\n",
    "$$\n",
    "\\hat{y}_P = X_P w_P\n",
    "$$\n",
    "\n",
    "Sustituyendo $X_P = X \\cdot P$ y $w_P = P^{-1} w$, obtenemos: $$\n",
    "\\hat{y}_P = X P \\cdot P^{-1} w\n",
    "$$\n",
    "\n",
    "Simplificando $P \\cdot P^{-1} = I$:\n",
    "$$\n",
    "\\hat{y}_P = X w\n",
    "$$\n",
    "\n",
    "Por lo tanto, los valores predichos para los datos ofuscados son los mismos que los valores predichos para los datos originales:\n",
    "$$\n",
    "\\hat{y}_P = \\hat{y}\n",
    "$$\n",
    "\n",
    "**5. Implicaciones para la Calidad de la Regresión (RECM)**  \n",
    "\n",
    "- Dado que $\\hat{y}_P = \\hat{y}$, los valores predichos para los datos originales y los datos ofuscados son idénticos.\n",
    "- Como resultado, el **Error Cuadrático Medio (RECM)** no cambia, ya que los errores de predicción son los mismos.\n",
    "- La calidad de la regresión lineal no se ve afectada por la ofuscación de los datos.\n",
    "\n",
    "**Conclusión**   \n",
    "\n",
    "La ofuscación de datos mediante una matriz de transformación invertible $P$ no afecta los valores predichos en un modelo de regresión lineal. Esto se debe a que:   \n",
    "$$\n",
    "w_P = P^{-1} w \\quad \\text{y} \\quad \\hat{y}_P = \\hat{y}.\n",
    "$$\n",
    "\n",
    "Como resultado, el **RECM** y la calidad general del modelo de regresión permanecen iguales.   "
   ]
  },
  {
   "cell_type": "markdown",
   "metadata": {},
   "source": [
    "## Prueba de regresión lineal con ofuscación de datos"
   ]
  },
  {
   "cell_type": "markdown",
   "metadata": {},
   "source": [
    "Ahora, probemos que la regresión lineal pueda funcionar, en términos computacionales, con la transformación de ofuscación elegida.\n",
    "Construye un procedimiento o una clase que ejecute la regresión lineal opcionalmente con la ofuscación. Puedes usar una implementación de regresión lineal de scikit-learn o tu propia implementación.\n",
    "Ejecuta la regresión lineal para los datos originales y los ofuscados, compara los valores predichos y los valores de las métricas RMSE y $R^2$. ¿Hay alguna diferencia?"
   ]
  },
  {
   "cell_type": "markdown",
   "metadata": {},
   "source": [
    "**Procedimiento**\n",
    "\n",
    "- Crea una matriz cuadrada $P$ de números aleatorios.- Comprueba que sea invertible. Si no lo es, repite el primer paso hasta obtener una matriz invertible.- <¡ tu comentario aquí !>\n",
    "- Utiliza $XP$ como la nueva matriz de características"
   ]
  },
  {
   "cell_type": "code",
   "execution_count": 118,
   "metadata": {},
   "outputs": [
    {
     "name": "stdout",
     "output_type": "stream",
     "text": [
      "[[0.8 0.4 0.9 0.7]\n",
      " [0.1 1.0 0.8 0.8]\n",
      " [0.1 0.5 0.4 0.9]\n",
      " [0.6 0.8 0.4 0.2]]\n"
     ]
    }
   ],
   "source": [
    "# Generar una matriz de transformación aleatoria P\n",
    "# Usamos una semilla (seed=42) para garantizar reproducibilidad\n",
    "rng = np.random.default_rng(seed=42)\n",
    "\n",
    "# Crear una matriz P de tamaño (n_features x n_features) con valores aleatorios\n",
    "# X.shape[1] es el número de columnas (características) en X\n",
    "P = rng.random(size=(X.shape[1], X.shape[1]))\n",
    "\n",
    "# Mostrar la matriz P generada\n",
    "print(P)"
   ]
  },
  {
   "cell_type": "code",
   "execution_count": 119,
   "metadata": {},
   "outputs": [
    {
     "name": "stdout",
     "output_type": "stream",
     "text": [
      "[[1.0 -0.0 -0.0 0.0]\n",
      " [0.0 1.0 -0.0 0.0]\n",
      " [0.0 -0.0 1.0 0.0]\n",
      " [0.0 -0.0 -0.0 1.0]]\n"
     ]
    }
   ],
   "source": [
    "# Verificar que P es invertible multiplicándola por su inversa\n",
    "print(np.matmul(P, np.linalg.inv(P)))"
   ]
  },
  {
   "cell_type": "code",
   "execution_count": 120,
   "metadata": {},
   "outputs": [],
   "source": [
    "# Seleccionar las columnas relevantes del DataFrame\n",
    "col = ['gender', 'age', 'income', 'family_members']\n",
    "df_new = df[col]\n",
    "\n",
    "# Convertir el DataFrame a una matriz numpy (X) y el vector objetivo a un array numpy (y)\n",
    "X = df_new.to_numpy()\n",
    "y = df['insurance_benefits'].to_numpy()"
   ]
  },
  {
   "cell_type": "code",
   "execution_count": 121,
   "metadata": {},
   "outputs": [
    {
     "name": "stdout",
     "output_type": "stream",
     "text": [
      "[-0.9 0.0 0.0 -0.0 -0.0]\n",
      "RMSE: 0.34\n",
      "R²: 0.66\n"
     ]
    }
   ],
   "source": [
    "# Dividir los datos en conjuntos de entrenamiento y prueba\n",
    "# test_size=0.3 indica que el 30% de los datos se usarán para prueba\n",
    "X_train, X_test, y_train, y_test = train_test_split(X, y, test_size=0.3, random_state=12345)\n",
    "\n",
    "# Crear una instancia del modelo de regresión lineal personalizado\n",
    "lr = MyLinearRegression()\n",
    "\n",
    "# Entrenar el modelo con los datos de entrenamiento\n",
    "lr.fit(X_train, y_train)\n",
    "\n",
    "# Mostrar los pesos aprendidos por el modelo\n",
    "print(lr.weights)\n",
    "# Salida esperada:\n",
    "# [-0.9  0.0  0.0 -0.0 -0.0]\n",
    "\n",
    "# Predecir los valores para el conjunto de prueba\n",
    "y_test_pred = lr.predict(X_test)\n",
    "\n",
    "# Evaluar el modelo usando RMSE y R²\n",
    "eval_regressor(y_test, y_test_pred)"
   ]
  },
  {
   "cell_type": "code",
   "execution_count": 122,
   "metadata": {},
   "outputs": [
    {
     "name": "stdout",
     "output_type": "stream",
     "text": [
      "[-0.9 -0.1 -0.0 0.1 -0.0]\n",
      "RMSE: 0.34\n",
      "R²: 0.66\n"
     ]
    }
   ],
   "source": [
    "# Aplicar la transformación de ofuscación a los datos originales (X)\n",
    "X_prime_new = X @ P  # Multiplicación matricial de X por P\n",
    "\n",
    "# Dividir los datos ofuscados en conjuntos de entrenamiento y prueba\n",
    "X_train, X_test, y_train, y_test = train_test_split(X_prime_new, y, test_size=0.3, random_state=12345)\n",
    "\n",
    "# Crear una nueva instancia del modelo de regresión lineal\n",
    "lr = MyLinearRegression()\n",
    "\n",
    "# Entrenar el modelo con los datos ofuscados\n",
    "lr.fit(X_train, y_train)\n",
    "\n",
    "# Mostrar los pesos aprendidos con los datos ofuscados\n",
    "print(lr.weights)\n",
    "\n",
    "# Predecir los valores para el conjunto de prueba ofuscado\n",
    "y_test_pred = lr.predict(X_test)\n",
    "\n",
    "# Evaluar el modelo usando RMSE y R² con los datos ofuscados\n",
    "eval_regressor(y_test, y_test_pred)"
   ]
  },
  {
   "cell_type": "markdown",
   "metadata": {},
   "source": [
    "Como demostró en la ecuación anterior, los resultados confirman que tanto el $R^2$ como el puntaje de RMSE permanecen iguales, con valores de 0.66 y 0.34, respectivamente.    \n",
    "Esto demuestra que los valores antes y después de la ofuscación de datos son idénticos, y por ende, $R^2$  y el **RMSE** no cambian."
   ]
  },
  {
   "cell_type": "markdown",
   "metadata": {},
   "source": [
    "# Conclusiones"
   ]
  },
  {
   "cell_type": "markdown",
   "metadata": {},
   "source": [
    "## Exploración y Análisis de Datos\n",
    "\n",
    "El conjunto de datos no contenía valores nulos o faltantes. La media y la mediana de las edades son iguales, pero los ingresos están sesgados negativamente. Las columnas de género y beneficios de seguro tienen valores binarios.\n",
    "\n",
    "### Resultados\n",
    "\n",
    "- La distancia entre puntos se ve afectada por los cálculos de distancia usando distancia de Manhattan o Euclidiana. \n",
    "- La escala de los datos tiene un efecto en los resultados cuando se utiliza kNN, ya que prioriza los valores grandes sobre los pequeños, lo que afecta los resultados.\n",
    "- Aumentar el valor de k no tuvo efecto en el puntaje F1.\n",
    "- El puntaje F1 más alto fue 0.61 con los datos escalados cuando k era igual a 2.\n",
    "- Usando el modelo de clase **LinearRegression**, obtuvimos un puntaje de RMSE de 0.34 y un $R^2$ de 0.66.\n",
    "\n",
    "La ofuscación de datos y el uso de **LinearRegression** demostraron que los resultados son los mismos **$R^2$ de 0.66** y un **RMSE de 0.34**."
   ]
  },
  {
   "cell_type": "markdown",
   "metadata": {},
   "source": [
    "# Apéndices\n",
    "\n",
    "## Apéndice A: Escribir fórmulas en los cuadernos de Jupyter"
   ]
  },
  {
   "cell_type": "markdown",
   "metadata": {},
   "source": [
    "Puedes escribir fórmulas en tu Jupyter Notebook utilizando un lenguaje de marcado proporcionado por un sistema de publicación de alta calidad llamado $\\LaTeX$ (se pronuncia como \"Lah-tech\"). Las fórmulas se verán como las de los libros de texto.\n",
    "\n",
    "Para incorporar una fórmula a un texto, pon el signo de dólar (\\\\$) antes y después del texto de la fórmula, por ejemplo: $\\frac{1}{2} \\times \\frac{3}{2} = \\frac{3}{4}$ or $y = x^2, x \\ge 1$.\n",
    "\n",
    "Si una fórmula debe estar en el mismo párrafo, pon el doble signo de dólar (\\\\$\\\\$) antes y después del texto de la fórmula, por ejemplo:\n",
    "$$\n",
    "\\bar{x} = \\frac{1}{n}\\sum_{i=1}^{n} x_i.\n",
    "$$\n",
    "\n",
    "El lenguaje de marcado de [LaTeX](https://es.wikipedia.org/wiki/LaTeX) es muy popular entre las personas que utilizan fórmulas en sus artículos, libros y textos. Puede resultar complicado, pero sus fundamentos son sencillos. Consulta esta [ficha de ayuda](http://tug.ctan.org/info/undergradmath/undergradmath.pdf) (materiales en inglés) de dos páginas para aprender a componer las fórmulas más comunes."
   ]
  },
  {
   "cell_type": "markdown",
   "metadata": {},
   "source": [
    "## Apéndice B: Propiedades de las matrices"
   ]
  },
  {
   "cell_type": "markdown",
   "metadata": {},
   "source": [
    "Las matrices tienen muchas propiedades en cuanto al álgebra lineal. Aquí se enumeran algunas de ellas que pueden ayudarte a la hora de realizar la prueba analítica de este proyecto."
   ]
  },
  {
   "cell_type": "markdown",
   "metadata": {},
   "source": [
    "<table>\n",
    "<tr>\n",
    "<td>Distributividad</td><td>$A(B+C)=AB+AC$</td>\n",
    "</tr>\n",
    "<tr>\n",
    "<td>No conmutatividad</td><td>$AB \\neq BA$</td>\n",
    "</tr>\n",
    "<tr>\n",
    "<td>Propiedad asociativa de la multiplicación</td><td>$(AB)C = A(BC)$</td>\n",
    "</tr>\n",
    "<tr>\n",
    "<td>Propiedad de identidad multiplicativa</td><td>$IA = AI = A$</td>\n",
    "</tr>\n",
    "<tr>\n",
    "<td></td><td>$A^{-1}A = AA^{-1} = I$\n",
    "</td>\n",
    "</tr>    \n",
    "<tr>\n",
    "<td></td><td>$(AB)^{-1} = B^{-1}A^{-1}$</td>\n",
    "</tr>    \n",
    "<tr>\n",
    "<td>Reversibilidad de la transposición de un producto de matrices,</td><td>$(AB)^T = B^TA^T$</td>\n",
    "</tr>    \n",
    "</table>"
   ]
  }
 ],
 "metadata": {
  "ExecuteTimeLog": [
   {
    "duration": 2500,
    "start_time": "2025-02-03T00:26:35.574Z"
   },
   {
    "duration": 995,
    "start_time": "2025-02-03T00:26:38.076Z"
   },
   {
    "duration": 12,
    "start_time": "2025-02-03T00:26:39.073Z"
   },
   {
    "duration": 3,
    "start_time": "2025-02-03T00:26:39.087Z"
   },
   {
    "duration": 11,
    "start_time": "2025-02-03T00:26:39.093Z"
   },
   {
    "duration": 8,
    "start_time": "2025-02-03T00:26:39.105Z"
   },
   {
    "duration": 3,
    "start_time": "2025-02-03T00:26:39.115Z"
   },
   {
    "duration": 2,
    "start_time": "2025-02-03T00:26:39.120Z"
   },
   {
    "duration": 7,
    "start_time": "2025-02-03T00:26:39.124Z"
   },
   {
    "duration": 2,
    "start_time": "2025-02-03T00:26:39.133Z"
   },
   {
    "duration": 57,
    "start_time": "2025-02-03T00:26:39.137Z"
   },
   {
    "duration": 2559,
    "start_time": "2025-02-03T00:26:39.196Z"
   },
   {
    "duration": 2,
    "start_time": "2025-02-03T00:26:41.757Z"
   },
   {
    "duration": 4,
    "start_time": "2025-02-03T00:26:41.763Z"
   },
   {
    "duration": 18,
    "start_time": "2025-02-03T00:26:41.769Z"
   },
   {
    "duration": 14,
    "start_time": "2025-02-03T00:26:41.789Z"
   },
   {
    "duration": 21,
    "start_time": "2025-02-03T00:26:41.804Z"
   },
   {
    "duration": 16,
    "start_time": "2025-02-03T00:26:41.826Z"
   },
   {
    "duration": 43,
    "start_time": "2025-02-03T00:26:41.843Z"
   },
   {
    "duration": 688,
    "start_time": "2025-02-03T00:26:41.888Z"
   },
   {
    "duration": 11,
    "start_time": "2025-02-03T00:26:42.578Z"
   },
   {
    "duration": 6,
    "start_time": "2025-02-03T00:26:42.591Z"
   },
   {
    "duration": 3,
    "start_time": "2025-02-03T00:26:42.598Z"
   },
   {
    "duration": 2,
    "start_time": "2025-02-03T00:26:42.604Z"
   },
   {
    "duration": 28,
    "start_time": "2025-02-03T00:26:42.608Z"
   },
   {
    "duration": 6,
    "start_time": "2025-02-03T00:26:42.640Z"
   },
   {
    "duration": 39,
    "start_time": "2025-02-03T00:26:42.648Z"
   },
   {
    "duration": 5,
    "start_time": "2025-02-03T00:26:42.689Z"
   },
   {
    "duration": 259,
    "start_time": "2025-02-03T00:26:42.696Z"
   },
   {
    "duration": 0,
    "start_time": "2025-02-03T00:26:42.958Z"
   },
   {
    "duration": 0,
    "start_time": "2025-02-03T00:26:42.959Z"
   },
   {
    "duration": 0,
    "start_time": "2025-02-03T00:26:42.960Z"
   },
   {
    "duration": 0,
    "start_time": "2025-02-03T00:26:42.961Z"
   },
   {
    "duration": 0,
    "start_time": "2025-02-03T00:26:42.962Z"
   },
   {
    "duration": 0,
    "start_time": "2025-02-03T00:26:42.963Z"
   },
   {
    "duration": 0,
    "start_time": "2025-02-03T00:26:42.964Z"
   },
   {
    "duration": 0,
    "start_time": "2025-02-03T00:26:42.965Z"
   },
   {
    "duration": 0,
    "start_time": "2025-02-03T00:26:42.966Z"
   },
   {
    "duration": 0,
    "start_time": "2025-02-03T00:26:42.967Z"
   },
   {
    "duration": 0,
    "start_time": "2025-02-03T00:26:42.968Z"
   },
   {
    "duration": 0,
    "start_time": "2025-02-03T00:26:42.986Z"
   },
   {
    "duration": 0,
    "start_time": "2025-02-03T00:26:42.990Z"
   },
   {
    "duration": 0,
    "start_time": "2025-02-03T00:26:42.991Z"
   },
   {
    "duration": 0,
    "start_time": "2025-02-03T00:26:42.993Z"
   },
   {
    "duration": 0,
    "start_time": "2025-02-03T00:26:42.994Z"
   },
   {
    "duration": 0,
    "start_time": "2025-02-03T00:26:42.996Z"
   },
   {
    "duration": 0,
    "start_time": "2025-02-03T00:26:42.997Z"
   },
   {
    "duration": 0,
    "start_time": "2025-02-03T00:26:42.999Z"
   },
   {
    "duration": 31,
    "start_time": "2025-02-03T00:28:08.526Z"
   },
   {
    "duration": 11,
    "start_time": "2025-02-03T00:28:09.558Z"
   },
   {
    "duration": 7,
    "start_time": "2025-02-03T00:28:10.327Z"
   },
   {
    "duration": 3,
    "start_time": "2025-02-03T00:28:12.183Z"
   },
   {
    "duration": 5,
    "start_time": "2025-02-03T00:28:12.344Z"
   },
   {
    "duration": 3,
    "start_time": "2025-02-03T00:28:12.647Z"
   },
   {
    "duration": 9,
    "start_time": "2025-02-03T00:28:13.105Z"
   },
   {
    "duration": 4,
    "start_time": "2025-02-03T00:28:14.727Z"
   },
   {
    "duration": 4,
    "start_time": "2025-02-03T00:28:15.051Z"
   },
   {
    "duration": 4,
    "start_time": "2025-02-03T00:28:15.710Z"
   },
   {
    "duration": 15,
    "start_time": "2025-02-03T00:28:16.344Z"
   },
   {
    "duration": 4,
    "start_time": "2025-02-03T00:28:17.643Z"
   },
   {
    "duration": 4,
    "start_time": "2025-02-03T00:28:18.582Z"
   },
   {
    "duration": 9,
    "start_time": "2025-02-03T00:28:19.302Z"
   },
   {
    "duration": 4,
    "start_time": "2025-02-03T00:28:23.000Z"
   },
   {
    "duration": 4,
    "start_time": "2025-02-03T00:28:23.406Z"
   },
   {
    "duration": 5,
    "start_time": "2025-02-03T00:28:23.825Z"
   },
   {
    "duration": 6,
    "start_time": "2025-02-03T00:28:24.558Z"
   },
   {
    "duration": 8,
    "start_time": "2025-02-03T00:28:25.275Z"
   },
   {
    "duration": 2413,
    "start_time": "2025-02-03T01:29:55.835Z"
   },
   {
    "duration": 2648,
    "start_time": "2025-02-03T01:29:58.250Z"
   },
   {
    "duration": 10,
    "start_time": "2025-02-03T01:30:00.901Z"
   },
   {
    "duration": 2,
    "start_time": "2025-02-03T01:30:00.913Z"
   },
   {
    "duration": 11,
    "start_time": "2025-02-03T01:30:03.044Z"
   },
   {
    "duration": 12,
    "start_time": "2025-02-03T01:30:03.397Z"
   },
   {
    "duration": 3,
    "start_time": "2025-02-03T01:30:04.242Z"
   },
   {
    "duration": 3,
    "start_time": "2025-02-03T01:30:05.013Z"
   },
   {
    "duration": 8,
    "start_time": "2025-02-03T01:30:05.458Z"
   },
   {
    "duration": 2,
    "start_time": "2025-02-03T01:30:05.956Z"
   },
   {
    "duration": 16,
    "start_time": "2025-02-03T01:30:06.221Z"
   },
   {
    "duration": 2590,
    "start_time": "2025-02-03T01:30:09.411Z"
   },
   {
    "duration": 5,
    "start_time": "2025-02-03T01:30:12.003Z"
   },
   {
    "duration": 4,
    "start_time": "2025-02-03T01:30:12.480Z"
   },
   {
    "duration": 16,
    "start_time": "2025-02-03T01:30:13.592Z"
   },
   {
    "duration": 5,
    "start_time": "2025-02-03T01:32:10.810Z"
   },
   {
    "duration": 2079,
    "start_time": "2025-02-03T01:32:14.398Z"
   },
   {
    "duration": 4,
    "start_time": "2025-02-03T01:32:16.479Z"
   },
   {
    "duration": 7,
    "start_time": "2025-02-03T01:32:16.485Z"
   },
   {
    "duration": 3,
    "start_time": "2025-02-03T01:32:16.494Z"
   },
   {
    "duration": 8,
    "start_time": "2025-02-03T01:32:16.500Z"
   },
   {
    "duration": 8,
    "start_time": "2025-02-03T01:32:16.509Z"
   },
   {
    "duration": 3,
    "start_time": "2025-02-03T01:32:16.520Z"
   },
   {
    "duration": 3,
    "start_time": "2025-02-03T01:32:16.524Z"
   },
   {
    "duration": 7,
    "start_time": "2025-02-03T01:32:16.529Z"
   },
   {
    "duration": 3,
    "start_time": "2025-02-03T01:32:16.538Z"
   },
   {
    "duration": 15,
    "start_time": "2025-02-03T01:32:16.542Z"
   },
   {
    "duration": 2682,
    "start_time": "2025-02-03T01:32:16.558Z"
   },
   {
    "duration": 2,
    "start_time": "2025-02-03T01:32:19.242Z"
   },
   {
    "duration": 4,
    "start_time": "2025-02-03T01:32:19.247Z"
   },
   {
    "duration": 15,
    "start_time": "2025-02-03T01:32:19.253Z"
   },
   {
    "duration": 13,
    "start_time": "2025-02-03T01:32:19.269Z"
   },
   {
    "duration": 43,
    "start_time": "2025-02-03T01:32:19.283Z"
   },
   {
    "duration": 13,
    "start_time": "2025-02-03T01:32:19.328Z"
   },
   {
    "duration": 150,
    "start_time": "2025-02-03T01:32:19.342Z"
   },
   {
    "duration": 642,
    "start_time": "2025-02-03T01:32:19.493Z"
   },
   {
    "duration": 5,
    "start_time": "2025-02-03T01:32:20.137Z"
   },
   {
    "duration": 6,
    "start_time": "2025-02-03T01:33:46.733Z"
   },
   {
    "duration": 4,
    "start_time": "2025-02-03T01:34:02.871Z"
   },
   {
    "duration": 5,
    "start_time": "2025-02-03T01:34:04.410Z"
   },
   {
    "duration": 3,
    "start_time": "2025-02-03T01:35:06.719Z"
   },
   {
    "duration": 233,
    "start_time": "2025-02-03T01:35:17.462Z"
   },
   {
    "duration": 13,
    "start_time": "2025-02-03T01:35:19.942Z"
   },
   {
    "duration": 2160,
    "start_time": "2025-02-03T01:35:39.507Z"
   },
   {
    "duration": 4,
    "start_time": "2025-02-03T01:35:41.670Z"
   },
   {
    "duration": 9,
    "start_time": "2025-02-03T01:35:41.675Z"
   },
   {
    "duration": 4,
    "start_time": "2025-02-03T01:35:41.686Z"
   },
   {
    "duration": 8,
    "start_time": "2025-02-03T01:35:41.692Z"
   },
   {
    "duration": 8,
    "start_time": "2025-02-03T01:35:41.702Z"
   },
   {
    "duration": 4,
    "start_time": "2025-02-03T01:35:41.711Z"
   },
   {
    "duration": 3,
    "start_time": "2025-02-03T01:35:41.717Z"
   },
   {
    "duration": 7,
    "start_time": "2025-02-03T01:35:41.721Z"
   },
   {
    "duration": 2,
    "start_time": "2025-02-03T01:35:41.730Z"
   },
   {
    "duration": 15,
    "start_time": "2025-02-03T01:35:41.734Z"
   },
   {
    "duration": 2647,
    "start_time": "2025-02-03T01:35:41.751Z"
   },
   {
    "duration": 10,
    "start_time": "2025-02-03T01:35:44.400Z"
   },
   {
    "duration": 4,
    "start_time": "2025-02-03T01:35:44.413Z"
   },
   {
    "duration": 15,
    "start_time": "2025-02-03T01:35:44.419Z"
   },
   {
    "duration": 17,
    "start_time": "2025-02-03T01:35:44.436Z"
   },
   {
    "duration": 23,
    "start_time": "2025-02-03T01:35:44.455Z"
   },
   {
    "duration": 41,
    "start_time": "2025-02-03T01:35:44.480Z"
   },
   {
    "duration": 20,
    "start_time": "2025-02-03T01:35:44.522Z"
   },
   {
    "duration": 649,
    "start_time": "2025-02-03T01:35:44.543Z"
   },
   {
    "duration": 5,
    "start_time": "2025-02-03T01:35:45.194Z"
   },
   {
    "duration": 4,
    "start_time": "2025-02-03T01:35:45.209Z"
   },
   {
    "duration": 3,
    "start_time": "2025-02-03T01:35:45.215Z"
   },
   {
    "duration": 3,
    "start_time": "2025-02-03T01:35:45.219Z"
   },
   {
    "duration": 21,
    "start_time": "2025-02-03T01:35:45.224Z"
   },
   {
    "duration": 5,
    "start_time": "2025-02-03T01:35:45.247Z"
   },
   {
    "duration": 6,
    "start_time": "2025-02-03T01:35:45.253Z"
   },
   {
    "duration": 6,
    "start_time": "2025-02-03T01:35:45.261Z"
   },
   {
    "duration": 113,
    "start_time": "2025-02-03T01:35:45.268Z"
   },
   {
    "duration": 89,
    "start_time": "2025-02-03T01:35:45.383Z"
   },
   {
    "duration": 4,
    "start_time": "2025-02-03T01:37:39.550Z"
   },
   {
    "duration": 9,
    "start_time": "2025-02-03T01:39:02.950Z"
   },
   {
    "duration": 6,
    "start_time": "2025-02-03T01:39:03.477Z"
   },
   {
    "duration": 3,
    "start_time": "2025-02-03T01:39:06.241Z"
   },
   {
    "duration": 4,
    "start_time": "2025-02-03T01:39:06.740Z"
   },
   {
    "duration": 6,
    "start_time": "2025-02-03T01:39:07.219Z"
   },
   {
    "duration": 13,
    "start_time": "2025-02-03T01:39:07.681Z"
   },
   {
    "duration": 3,
    "start_time": "2025-02-03T01:39:21.062Z"
   },
   {
    "duration": 4,
    "start_time": "2025-02-03T01:39:21.499Z"
   },
   {
    "duration": 5,
    "start_time": "2025-02-03T01:39:22.778Z"
   },
   {
    "duration": 16,
    "start_time": "2025-02-03T01:39:24.649Z"
   },
   {
    "duration": 3,
    "start_time": "2025-02-03T01:40:24.478Z"
   },
   {
    "duration": 4,
    "start_time": "2025-02-03T01:43:48.882Z"
   },
   {
    "duration": 4,
    "start_time": "2025-02-03T01:46:08.269Z"
   },
   {
    "duration": 4,
    "start_time": "2025-02-03T01:47:53.524Z"
   },
   {
    "duration": 4,
    "start_time": "2025-02-03T01:51:07.048Z"
   },
   {
    "duration": 8,
    "start_time": "2025-02-03T01:51:10.041Z"
   },
   {
    "duration": 9,
    "start_time": "2025-02-03T01:51:11.077Z"
   },
   {
    "duration": 5,
    "start_time": "2025-02-03T01:55:16.940Z"
   },
   {
    "duration": 2304,
    "start_time": "2025-02-03T04:38:08.633Z"
   },
   {
    "duration": 4,
    "start_time": "2025-02-03T04:38:10.940Z"
   },
   {
    "duration": 8,
    "start_time": "2025-02-03T04:38:10.946Z"
   },
   {
    "duration": 3,
    "start_time": "2025-02-03T04:38:10.958Z"
   },
   {
    "duration": 9,
    "start_time": "2025-02-03T04:38:10.962Z"
   },
   {
    "duration": 8,
    "start_time": "2025-02-03T04:38:10.973Z"
   },
   {
    "duration": 4,
    "start_time": "2025-02-03T04:38:10.983Z"
   },
   {
    "duration": 3,
    "start_time": "2025-02-03T04:38:10.989Z"
   },
   {
    "duration": 9,
    "start_time": "2025-02-03T04:38:10.994Z"
   },
   {
    "duration": 3,
    "start_time": "2025-02-03T04:38:11.006Z"
   },
   {
    "duration": 18,
    "start_time": "2025-02-03T04:38:11.011Z"
   },
   {
    "duration": 2732,
    "start_time": "2025-02-03T04:38:11.030Z"
   },
   {
    "duration": 2,
    "start_time": "2025-02-03T04:38:13.765Z"
   },
   {
    "duration": 20,
    "start_time": "2025-02-03T04:38:13.769Z"
   },
   {
    "duration": 19,
    "start_time": "2025-02-03T04:38:13.792Z"
   },
   {
    "duration": 16,
    "start_time": "2025-02-03T04:38:13.813Z"
   },
   {
    "duration": 22,
    "start_time": "2025-02-03T04:38:13.831Z"
   },
   {
    "duration": 40,
    "start_time": "2025-02-03T04:38:13.856Z"
   },
   {
    "duration": 22,
    "start_time": "2025-02-03T04:38:13.897Z"
   },
   {
    "duration": 659,
    "start_time": "2025-02-03T04:38:13.920Z"
   },
   {
    "duration": 7,
    "start_time": "2025-02-03T04:38:14.581Z"
   },
   {
    "duration": 6,
    "start_time": "2025-02-03T04:38:14.590Z"
   },
   {
    "duration": 3,
    "start_time": "2025-02-03T04:38:14.598Z"
   },
   {
    "duration": 3,
    "start_time": "2025-02-03T04:38:14.603Z"
   },
   {
    "duration": 21,
    "start_time": "2025-02-03T04:38:14.608Z"
   },
   {
    "duration": 5,
    "start_time": "2025-02-03T04:38:14.631Z"
   },
   {
    "duration": 5,
    "start_time": "2025-02-03T04:38:14.637Z"
   },
   {
    "duration": 176,
    "start_time": "2025-02-03T04:38:14.646Z"
   },
   {
    "duration": 95,
    "start_time": "2025-02-03T04:38:14.824Z"
   },
   {
    "duration": 94,
    "start_time": "2025-02-03T04:38:14.921Z"
   },
   {
    "duration": 10,
    "start_time": "2025-02-03T04:38:15.018Z"
   },
   {
    "duration": 8,
    "start_time": "2025-02-03T04:38:15.029Z"
   },
   {
    "duration": 3,
    "start_time": "2025-02-03T04:38:15.039Z"
   },
   {
    "duration": 5,
    "start_time": "2025-02-03T04:38:15.044Z"
   },
   {
    "duration": 3,
    "start_time": "2025-02-03T04:38:15.051Z"
   },
   {
    "duration": 34,
    "start_time": "2025-02-03T04:38:15.056Z"
   },
   {
    "duration": 3,
    "start_time": "2025-02-03T04:38:15.091Z"
   },
   {
    "duration": 5,
    "start_time": "2025-02-03T04:38:15.096Z"
   },
   {
    "duration": 7,
    "start_time": "2025-02-03T04:38:15.103Z"
   },
   {
    "duration": 76,
    "start_time": "2025-02-03T04:38:15.112Z"
   },
   {
    "duration": 7,
    "start_time": "2025-02-03T04:38:15.190Z"
   },
   {
    "duration": 4,
    "start_time": "2025-02-03T04:38:15.199Z"
   },
   {
    "duration": 83,
    "start_time": "2025-02-03T04:38:15.205Z"
   },
   {
    "duration": 4,
    "start_time": "2025-02-03T04:38:15.290Z"
   },
   {
    "duration": 5,
    "start_time": "2025-02-03T04:38:15.295Z"
   },
   {
    "duration": 3,
    "start_time": "2025-02-03T04:38:15.302Z"
   },
   {
    "duration": 82,
    "start_time": "2025-02-03T04:38:15.307Z"
   },
   {
    "duration": 7,
    "start_time": "2025-02-03T04:38:15.390Z"
   }
  ],
  "kernelspec": {
   "display_name": "Python 3 (ipykernel)",
   "language": "python",
   "name": "python3"
  },
  "language_info": {
   "codemirror_mode": {
    "name": "ipython",
    "version": 3
   },
   "file_extension": ".py",
   "mimetype": "text/x-python",
   "name": "python",
   "nbconvert_exporter": "python",
   "pygments_lexer": "ipython3",
   "version": "3.12.3"
  },
  "toc": {
   "base_numbering": 1,
   "nav_menu": {},
   "number_sections": true,
   "sideBar": true,
   "skip_h1_title": true,
   "title_cell": "Table of Contents",
   "title_sidebar": "Contents",
   "toc_cell": false,
   "toc_position": {},
   "toc_section_display": true,
   "toc_window_display": false
  }
 },
 "nbformat": 4,
 "nbformat_minor": 4
}
