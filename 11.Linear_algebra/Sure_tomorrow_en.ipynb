{
 "cells": [
  {
   "cell_type": "markdown",
   "metadata": {},
   "source": [
    "<p style=\"color: #000000; font-size: 32px; font-weight: bold; text-align: center; margin-top: 20px;\"> \n",
    "Sure Tomorrow\n",
    "</p>\n",
    "<p style=\"color: #000000; font-size: 24px; text-align: center; margin-bottom: 20px;\">\n",
    "Prediction Model for the Insurance Company\n",
    "</p>\n",
    "\n",
    "<hr style=\"border: .4px solid #000000; width: 65%; margin: 10px auto;\">\n",
    "\n",
    "<p style=\"color: #000000; font-size: 18px;\">\n",
    "The insurance company Sure Tomorrow is looking to improve its operations using machine learning. Through this approach, the company hopes to optimize various tasks, from marketing to predicting events related to customers.\n",
    "</p>\n",
    "\n",
    "<p style=\"color: #000000; font-size: 20px; font-weight: bold;\">Project Goal:</p>\n",
    "<p style=\"color: #000000; font-size: 18px;\">\n",
    "The goal of this project is to develop several predictive models to solve key tasks that will help the company improve decision-making and optimize its internal processes.\n",
    "</p>\n",
    "\n",
    "<p style=\"color: #000000; font-size: 20px; font-weight: bold;\">Project Objectives:</p>\n",
    "<ul style=\"color: #000000; font-size: 18px;\">\n",
    "<li><strong>Task 1: Find Similar Customers:</strong> Use machine learning to identify customers with profiles similar to a given customer, assisting agents in their marketing strategies.</li>\n",
    "<li><strong>Task 2: Predict Benefit Probability:</strong> Develop a model to predict the probability that a new customer will receive an insurance benefit, comparing the performance of a predictive model with a dummy model.</li>\n",
    "<li><strong>Task 3: Predict the Number of Benefits:</strong> Create a linear regression model to estimate the number of benefits that a new customer may receive.</li>\n",
    "<li><strong>Task 4: Data Masking:</strong> Develop an algorithm to protect customers' personal data using data masking or obfuscation techniques, without affecting the quality of the predictive model.</li>\n",
    "</ul>\n"
   ]
  },
  {
   "cell_type": "markdown",
   "metadata": {},
   "source": [
    "# Data Preprocessing and Exploration\n",
    "\n",
    "## 1.Initialization\n"
   ]
  },
  {
   "cell_type": "code",
   "execution_count": 44,
   "metadata": {},
   "outputs": [
    {
     "name": "stdout",
     "output_type": "stream",
     "text": [
      "Requirement already satisfied: scikit-learn in /opt/anaconda3/lib/python3.12/site-packages (1.6.1)\n",
      "Requirement already satisfied: numpy>=1.19.5 in /opt/anaconda3/lib/python3.12/site-packages (from scikit-learn) (1.26.4)\n",
      "Requirement already satisfied: scipy>=1.6.0 in /opt/anaconda3/lib/python3.12/site-packages (from scikit-learn) (1.13.1)\n",
      "Requirement already satisfied: joblib>=1.2.0 in /opt/anaconda3/lib/python3.12/site-packages (from scikit-learn) (1.4.2)\n",
      "Requirement already satisfied: threadpoolctl>=3.1.0 in /opt/anaconda3/lib/python3.12/site-packages (from scikit-learn) (3.5.0)\n",
      "Note: you may need to restart the kernel to use updated packages.\n"
     ]
    }
   ],
   "source": [
    "pip install scikit-learn --upgrade"
   ]
  },
  {
   "cell_type": "code",
   "execution_count": 45,
   "metadata": {},
   "outputs": [],
   "source": [
    "import numpy as np\n",
    "import pandas as pd\n",
    "\n",
    "import matplotlib.pyplot as plt\n",
    "import seaborn as sns\n",
    "\n",
    "import math\n",
    "import sklearn.linear_model\n",
    "import sklearn.metrics\n",
    "import sklearn.neighbors\n",
    "import sklearn.preprocessing\n",
    "\n",
    "from sklearn.metrics import f1_score\n",
    "from sklearn.metrics import confusion_matrix\n",
    "from sklearn.model_selection import train_test_split\n",
    "from sklearn.neighbors import NearestNeighbors\n",
    "from sklearn.neighbors import KNeighborsClassifier\n",
    "from sklearn.preprocessing import MaxAbsScaler\n",
    "\n",
    "from IPython.display import display"
   ]
  },
  {
   "cell_type": "markdown",
   "metadata": {},
   "source": [
    "## 2. Load the Data"
   ]
  },
  {
   "cell_type": "markdown",
   "metadata": {},
   "source": [
    "The DataFrame is structured as follows:   \n",
    "\n",
    "**Features**:   \n",
    "* `Gender`   \n",
    "* `Age`   \n",
    "* `Salary`   \n",
    "* `Family members`   \n",
    "* `Insurance benefits`    \n",
    "\n",
    "**Target**:   \n",
    "* `Insurance benefits`"
   ]
  },
  {
   "cell_type": "code",
   "execution_count": 46,
   "metadata": {},
   "outputs": [
    {
     "data": {
      "text/html": [
       "<div>\n",
       "<style scoped>\n",
       "    .dataframe tbody tr th:only-of-type {\n",
       "        vertical-align: middle;\n",
       "    }\n",
       "\n",
       "    .dataframe tbody tr th {\n",
       "        vertical-align: top;\n",
       "    }\n",
       "\n",
       "    .dataframe thead th {\n",
       "        text-align: right;\n",
       "    }\n",
       "</style>\n",
       "<table border=\"1\" class=\"dataframe\">\n",
       "  <thead>\n",
       "    <tr style=\"text-align: right;\">\n",
       "      <th></th>\n",
       "      <th>Gender</th>\n",
       "      <th>Age</th>\n",
       "      <th>Salary</th>\n",
       "      <th>Family members</th>\n",
       "      <th>Insurance benefits</th>\n",
       "    </tr>\n",
       "  </thead>\n",
       "  <tbody>\n",
       "    <tr>\n",
       "      <th>0</th>\n",
       "      <td>1</td>\n",
       "      <td>41.0</td>\n",
       "      <td>49600.0</td>\n",
       "      <td>1</td>\n",
       "      <td>0</td>\n",
       "    </tr>\n",
       "    <tr>\n",
       "      <th>1</th>\n",
       "      <td>0</td>\n",
       "      <td>46.0</td>\n",
       "      <td>38000.0</td>\n",
       "      <td>1</td>\n",
       "      <td>1</td>\n",
       "    </tr>\n",
       "    <tr>\n",
       "      <th>2</th>\n",
       "      <td>0</td>\n",
       "      <td>29.0</td>\n",
       "      <td>21000.0</td>\n",
       "      <td>0</td>\n",
       "      <td>0</td>\n",
       "    </tr>\n",
       "    <tr>\n",
       "      <th>3</th>\n",
       "      <td>0</td>\n",
       "      <td>21.0</td>\n",
       "      <td>41700.0</td>\n",
       "      <td>2</td>\n",
       "      <td>0</td>\n",
       "    </tr>\n",
       "    <tr>\n",
       "      <th>4</th>\n",
       "      <td>1</td>\n",
       "      <td>28.0</td>\n",
       "      <td>26100.0</td>\n",
       "      <td>0</td>\n",
       "      <td>0</td>\n",
       "    </tr>\n",
       "  </tbody>\n",
       "</table>\n",
       "</div>"
      ],
      "text/plain": [
       "   Gender   Age   Salary  Family members  Insurance benefits\n",
       "0       1  41.0  49600.0               1                   0\n",
       "1       0  46.0  38000.0               1                   1\n",
       "2       0  29.0  21000.0               0                   0\n",
       "3       0  21.0  41700.0               2                   0\n",
       "4       1  28.0  26100.0               0                   0"
      ]
     },
     "execution_count": 46,
     "metadata": {},
     "output_type": "execute_result"
    }
   ],
   "source": [
    "df = pd.read_csv('insurance_us.csv')\n",
    "df.head()"
   ]
  },
  {
   "cell_type": "markdown",
   "metadata": {},
   "source": [
    "Rename the columns to snake_case format."
   ]
  },
  {
   "cell_type": "code",
   "execution_count": 47,
   "metadata": {},
   "outputs": [
    {
     "name": "stdout",
     "output_type": "stream",
     "text": [
      "['gender', 'age', 'income', 'family_members', 'insurance_benefits']\n"
     ]
    }
   ],
   "source": [
    "df = df.rename(columns={'Gender': 'gender', 'Age': 'age', 'Salary': 'income', 'Family members': 'family_members', 'Insurance benefits': 'insurance_benefits'})\n",
    "print(df.columns.tolist())"
   ]
  },
  {
   "cell_type": "code",
   "execution_count": 48,
   "metadata": {},
   "outputs": [
    {
     "name": "stdout",
     "output_type": "stream",
     "text": [
      "<class 'pandas.core.frame.DataFrame'>\n",
      "RangeIndex: 5000 entries, 0 to 4999\n",
      "Data columns (total 5 columns):\n",
      " #   Column              Non-Null Count  Dtype  \n",
      "---  ------              --------------  -----  \n",
      " 0   gender              5000 non-null   int64  \n",
      " 1   age                 5000 non-null   float64\n",
      " 2   income              5000 non-null   float64\n",
      " 3   family_members      5000 non-null   int64  \n",
      " 4   insurance_benefits  5000 non-null   int64  \n",
      "dtypes: float64(2), int64(3)\n",
      "memory usage: 195.4 KB\n"
     ]
    },
    {
     "data": {
      "text/html": [
       "<div>\n",
       "<style scoped>\n",
       "    .dataframe tbody tr th:only-of-type {\n",
       "        vertical-align: middle;\n",
       "    }\n",
       "\n",
       "    .dataframe tbody tr th {\n",
       "        vertical-align: top;\n",
       "    }\n",
       "\n",
       "    .dataframe thead th {\n",
       "        text-align: right;\n",
       "    }\n",
       "</style>\n",
       "<table border=\"1\" class=\"dataframe\">\n",
       "  <thead>\n",
       "    <tr style=\"text-align: right;\">\n",
       "      <th></th>\n",
       "      <th>gender</th>\n",
       "      <th>age</th>\n",
       "      <th>income</th>\n",
       "      <th>family_members</th>\n",
       "      <th>insurance_benefits</th>\n",
       "    </tr>\n",
       "  </thead>\n",
       "  <tbody>\n",
       "    <tr>\n",
       "      <th>1262</th>\n",
       "      <td>0</td>\n",
       "      <td>30.0</td>\n",
       "      <td>46900.0</td>\n",
       "      <td>0</td>\n",
       "      <td>0</td>\n",
       "    </tr>\n",
       "    <tr>\n",
       "      <th>1834</th>\n",
       "      <td>0</td>\n",
       "      <td>21.0</td>\n",
       "      <td>31700.0</td>\n",
       "      <td>0</td>\n",
       "      <td>0</td>\n",
       "    </tr>\n",
       "    <tr>\n",
       "      <th>737</th>\n",
       "      <td>1</td>\n",
       "      <td>27.0</td>\n",
       "      <td>54900.0</td>\n",
       "      <td>1</td>\n",
       "      <td>0</td>\n",
       "    </tr>\n",
       "    <tr>\n",
       "      <th>2158</th>\n",
       "      <td>0</td>\n",
       "      <td>26.0</td>\n",
       "      <td>36000.0</td>\n",
       "      <td>0</td>\n",
       "      <td>0</td>\n",
       "    </tr>\n",
       "    <tr>\n",
       "      <th>2936</th>\n",
       "      <td>0</td>\n",
       "      <td>38.0</td>\n",
       "      <td>45600.0</td>\n",
       "      <td>3</td>\n",
       "      <td>0</td>\n",
       "    </tr>\n",
       "    <tr>\n",
       "      <th>2122</th>\n",
       "      <td>0</td>\n",
       "      <td>18.0</td>\n",
       "      <td>45800.0</td>\n",
       "      <td>0</td>\n",
       "      <td>0</td>\n",
       "    </tr>\n",
       "    <tr>\n",
       "      <th>4564</th>\n",
       "      <td>0</td>\n",
       "      <td>20.0</td>\n",
       "      <td>42200.0</td>\n",
       "      <td>1</td>\n",
       "      <td>0</td>\n",
       "    </tr>\n",
       "    <tr>\n",
       "      <th>554</th>\n",
       "      <td>1</td>\n",
       "      <td>30.0</td>\n",
       "      <td>56100.0</td>\n",
       "      <td>1</td>\n",
       "      <td>0</td>\n",
       "    </tr>\n",
       "    <tr>\n",
       "      <th>3226</th>\n",
       "      <td>1</td>\n",
       "      <td>43.0</td>\n",
       "      <td>38500.0</td>\n",
       "      <td>1</td>\n",
       "      <td>1</td>\n",
       "    </tr>\n",
       "    <tr>\n",
       "      <th>3316</th>\n",
       "      <td>1</td>\n",
       "      <td>18.0</td>\n",
       "      <td>27000.0</td>\n",
       "      <td>1</td>\n",
       "      <td>0</td>\n",
       "    </tr>\n",
       "  </tbody>\n",
       "</table>\n",
       "</div>"
      ],
      "text/plain": [
       "      gender   age   income  family_members  insurance_benefits\n",
       "1262       0  30.0  46900.0               0                   0\n",
       "1834       0  21.0  31700.0               0                   0\n",
       "737        1  27.0  54900.0               1                   0\n",
       "2158       0  26.0  36000.0               0                   0\n",
       "2936       0  38.0  45600.0               3                   0\n",
       "2122       0  18.0  45800.0               0                   0\n",
       "4564       0  20.0  42200.0               1                   0\n",
       "554        1  30.0  56100.0               1                   0\n",
       "3226       1  43.0  38500.0               1                   1\n",
       "3316       1  18.0  27000.0               1                   0"
      ]
     },
     "execution_count": 48,
     "metadata": {},
     "output_type": "execute_result"
    }
   ],
   "source": [
    "# Initial review of the DataFrame\n",
    "df.info()\n",
    "\n",
    "# Random sample of 10 rows\n",
    "df.sample(10)"
   ]
  },
  {
   "cell_type": "markdown",
   "metadata": {},
   "source": [
    "**Information Observations:**  \n",
    "- There are no missing values in any column.  \n",
    "- The `'age'` column is in float format (`float64`), but since it represents years, it could be converted to `int64` for better precision.  \n",
    "- The columns `'gender'`, `'family_members'`, and `'insurance_benefits'` are integers (`int64`), which is appropriate for their categories.  \n",
    "\n",
    "**Sample Observations:**  \n",
    "- A random sample of 10 rows has been selected from the DataFrame.  \n",
    "- `'gender'` is encoded as 0 and 1 (0 = male, 1 = female).  \n",
    "- `'age'` contains float values (it could be converted to integer if necessary).  \n",
    "- `'income'` shows various annual salary values.  \n",
    "- `'family_members'` indicates the number of family members.  \n",
    "- `'insurance_benefits'` shows how many insurance benefits the person has received (0 and 1 values in this sample)."
   ]
  },
  {
   "cell_type": "code",
   "execution_count": 49,
   "metadata": {},
   "outputs": [
    {
     "name": "stdout",
     "output_type": "stream",
     "text": [
      "int64\n"
     ]
    }
   ],
   "source": [
    "# Convert 'age' dtype to int64\n",
    "df['age'] = df['age'].astype('int64')\n",
    "\n",
    "# Check the conversion\n",
    "print(df['age'].dtype)"
   ]
  },
  {
   "cell_type": "code",
   "execution_count": 50,
   "metadata": {},
   "outputs": [
    {
     "data": {
      "text/html": [
       "<div>\n",
       "<style scoped>\n",
       "    .dataframe tbody tr th:only-of-type {\n",
       "        vertical-align: middle;\n",
       "    }\n",
       "\n",
       "    .dataframe tbody tr th {\n",
       "        vertical-align: top;\n",
       "    }\n",
       "\n",
       "    .dataframe thead th {\n",
       "        text-align: right;\n",
       "    }\n",
       "</style>\n",
       "<table border=\"1\" class=\"dataframe\">\n",
       "  <thead>\n",
       "    <tr style=\"text-align: right;\">\n",
       "      <th></th>\n",
       "      <th>gender</th>\n",
       "      <th>age</th>\n",
       "      <th>income</th>\n",
       "      <th>family_members</th>\n",
       "      <th>insurance_benefits</th>\n",
       "    </tr>\n",
       "  </thead>\n",
       "  <tbody>\n",
       "    <tr>\n",
       "      <th>count</th>\n",
       "      <td>5000.000000</td>\n",
       "      <td>5000.000000</td>\n",
       "      <td>5000.000000</td>\n",
       "      <td>5000.000000</td>\n",
       "      <td>5000.000000</td>\n",
       "    </tr>\n",
       "    <tr>\n",
       "      <th>mean</th>\n",
       "      <td>0.499000</td>\n",
       "      <td>30.952800</td>\n",
       "      <td>39916.360000</td>\n",
       "      <td>1.194200</td>\n",
       "      <td>0.148000</td>\n",
       "    </tr>\n",
       "    <tr>\n",
       "      <th>std</th>\n",
       "      <td>0.500049</td>\n",
       "      <td>8.440807</td>\n",
       "      <td>9900.083569</td>\n",
       "      <td>1.091387</td>\n",
       "      <td>0.463183</td>\n",
       "    </tr>\n",
       "    <tr>\n",
       "      <th>min</th>\n",
       "      <td>0.000000</td>\n",
       "      <td>18.000000</td>\n",
       "      <td>5300.000000</td>\n",
       "      <td>0.000000</td>\n",
       "      <td>0.000000</td>\n",
       "    </tr>\n",
       "    <tr>\n",
       "      <th>25%</th>\n",
       "      <td>0.000000</td>\n",
       "      <td>24.000000</td>\n",
       "      <td>33300.000000</td>\n",
       "      <td>0.000000</td>\n",
       "      <td>0.000000</td>\n",
       "    </tr>\n",
       "    <tr>\n",
       "      <th>50%</th>\n",
       "      <td>0.000000</td>\n",
       "      <td>30.000000</td>\n",
       "      <td>40200.000000</td>\n",
       "      <td>1.000000</td>\n",
       "      <td>0.000000</td>\n",
       "    </tr>\n",
       "    <tr>\n",
       "      <th>75%</th>\n",
       "      <td>1.000000</td>\n",
       "      <td>37.000000</td>\n",
       "      <td>46600.000000</td>\n",
       "      <td>2.000000</td>\n",
       "      <td>0.000000</td>\n",
       "    </tr>\n",
       "    <tr>\n",
       "      <th>max</th>\n",
       "      <td>1.000000</td>\n",
       "      <td>65.000000</td>\n",
       "      <td>79000.000000</td>\n",
       "      <td>6.000000</td>\n",
       "      <td>5.000000</td>\n",
       "    </tr>\n",
       "  </tbody>\n",
       "</table>\n",
       "</div>"
      ],
      "text/plain": [
       "            gender          age        income  family_members  \\\n",
       "count  5000.000000  5000.000000   5000.000000     5000.000000   \n",
       "mean      0.499000    30.952800  39916.360000        1.194200   \n",
       "std       0.500049     8.440807   9900.083569        1.091387   \n",
       "min       0.000000    18.000000   5300.000000        0.000000   \n",
       "25%       0.000000    24.000000  33300.000000        0.000000   \n",
       "50%       0.000000    30.000000  40200.000000        1.000000   \n",
       "75%       1.000000    37.000000  46600.000000        2.000000   \n",
       "max       1.000000    65.000000  79000.000000        6.000000   \n",
       "\n",
       "       insurance_benefits  \n",
       "count         5000.000000  \n",
       "mean             0.148000  \n",
       "std              0.463183  \n",
       "min              0.000000  \n",
       "25%              0.000000  \n",
       "50%              0.000000  \n",
       "75%              0.000000  \n",
       "max              5.000000  "
      ]
     },
     "execution_count": 50,
     "metadata": {},
     "output_type": "execute_result"
    }
   ],
   "source": [
    "# Descriptive statistics of the data\n",
    "df.describe()"
   ]
  },
  {
   "cell_type": "markdown",
   "metadata": {},
   "source": [
    "**Distribution of the Columns**   \n",
    "\n",
    "**`gender`**: The genders are balanced, with a distribution almost **50-50**.   \n",
    "\n",
    "**`age`**: The average age is **31 years**. The age range is from **18** to **65 years**.   \n",
    "\n",
    "**`income`**: The average income is around **40,000**. The minimum income is **5,300**, and the maximum is **79,000**.   \n",
    "\n",
    "**`family_members`**: The number of family members ranges from **0** to **6**. The average number of family members per family is **1.09**.   \n",
    "\n",
    "**`insurance_benefits`**: The average is **0.148**, indicating that most people do not have insurance benefits. More than **75%** of customers do not have insurance benefits.  "
   ]
  },
  {
   "cell_type": "markdown",
   "metadata": {},
   "source": [
    "## 3. Exploratory Data Analysis (EDA)"
   ]
  },
  {
   "cell_type": "markdown",
   "metadata": {},
   "source": [
    "Let's quickly check if there are any distinct customer groups by observing the pairplot."
   ]
  },
  {
   "cell_type": "code",
   "execution_count": 51,
   "metadata": {},
   "outputs": [
    {
     "data": {
      "image/png": "[encoded data removed]",
      "text/plain": [
       "<Figure size 1400x1400 with 30 Axes>"
      ]
     },
     "metadata": {},
     "output_type": "display_data"
    }
   ],
   "source": [
    "# Create the pairplot with scatterplots and KDE on the diagonal\n",
    "g = sns.pairplot(\n",
    "    df, \n",
    "    kind='scatter',  # Use scatterplot for variable relationships\n",
    "    diag_kind='kde',  # Use density distribution on the diagonal\n",
    "    plot_kws={'alpha': 0.5, 's': 10},  # Adjust transparency and point size\n",
    "    diag_kws={'fill': True}  # Use 'fill' instead of 'shade'\n",
    ")\n",
    "\n",
    "# Adjust figure size\n",
    "g.fig.set_size_inches(14, 14)\n",
    "\n",
    "# Add title\n",
    "plt.suptitle(\"Scatter Matrix of Variables\", fontsize=16, y=1.02)\n",
    "\n",
    "# Show the plot\n",
    "plt.show()"
   ]
  },
  {
   "cell_type": "markdown",
   "metadata": {},
   "source": [
    "The conclusion that there are no clearly defined clusters, but some indications of segmentation, is based on the patterns observed in the scatter matrix. In the relationship between **age** and **income**, there is a concentration of points in the middle age range (30-50 years) with intermediate incomes, suggesting that income may increase with age, although no clear groups are formed. Regarding the number of **family_members**, customers have discrete values (0, 1, 2, 3...), which may indicate potential segmentation based on this factor. Additionally, the **insurance_benefits** variable shows a concentration in low values, suggesting that segmentation might be related to those with fewer benefits, although some customers with more benefits might be distinguished by characteristics like **income** or **age**. For more precise segmentation, it would be helpful to apply clustering techniques like KMeans or DBSCAN.\n",
    "\n",
    "Detecting clear groups (clusters) is challenging due to the difficulty of combining various variables simultaneously to analyze multivariate distributions. In this regard, the use of machine learning (ML) techniques and linear analysis (LA) can be quite useful for obtaining more effective segmentation."
   ]
  },
  {
   "cell_type": "markdown",
   "metadata": {},
   "source": [
    "# Task 1: Similar Customers"
   ]
  },
  {
   "cell_type": "markdown",
   "metadata": {},
   "source": [
    "In machine learning, it is necessary to develop a procedure that returns the k nearest neighbors (objects) for a given object based on the distance between the objects.\n",
    "\n",
    "To solve this task, we can test different distance metrics."
   ]
  },
  {
   "cell_type": "markdown",
   "metadata": {},
   "source": [
    "Now, let's **write a function** that returns the **K Nearest Neighbors** for a given object, based on a specified distance metric. When performing this task, the number of insurance benefits received should not be taken into account.\n",
    "\n",
    "**Tests will be conducted with the following metrics**:\n",
    "   - **Distance metrics**:\n",
    "     - **Euclidean**.\n",
    "     - **Manhattan**.\n",
    "   - **Data scaling**:\n",
    "     - **Unscaled data**.\n",
    "     - **Scaled data** using the [**MaxAbsScaler**](https://scikit-learn.org/stable/modules/generated/sklearn.preprocessing.MaxAbsScaler.html).\n",
    "\n",
    "**The following questions will be answered**:\n",
    "   - Does the fact that the data is not scaled affect the kNN algorithm? If so, how is this manifested?\n",
    "   - How similar are the results when using the Manhattan distance metric (regardless of scaling)?"
   ]
  },
  {
   "cell_type": "code",
   "execution_count": 52,
   "metadata": {},
   "outputs": [],
   "source": [
    "# Features columns \n",
    "features = ['gender', 'age', 'income', 'family_members']"
   ]
  },
  {
   "cell_type": "code",
   "execution_count": 53,
   "metadata": {},
   "outputs": [],
   "source": [
    "# Function to find the k nearest neighbors using KNN\n",
    "def get_knn(df, n, k, metric):\n",
    "    \n",
    "    \"\"\"\n",
    "    Returns the k nearest neighbors\n",
    "\n",
    "    :param df: pandas DataFrame used to find similar objects within the same place    \n",
    "    :param n: number of objects for which the nearest neighbors are sought    \n",
    "    :param k: number of nearest neighbors to return\n",
    "    :param metric: name of the distance metric    \n",
    "    \"\"\"\n",
    "\n",
    "    nbrs = NearestNeighbors(n_neighbors=k, metric=metric)\n",
    "    nbrs.fit(df[features].values)\n",
    "    nbrs_distances, nbrs_indices = nbrs.kneighbors([df.iloc[n][features]], k, return_distance=True)\n",
    "    \n",
    "    df_res = pd.concat([\n",
    "        df.iloc[nbrs_indices[0]], \n",
    "        pd.DataFrame(nbrs_distances.T, index=nbrs_indices[0], columns=['distance'])\n",
    "        ], axis=1)\n",
    "    \n",
    "    return df_res"
   ]
  },
  {
   "cell_type": "markdown",
   "metadata": {},
   "source": [
    "**Scale data**"
   ]
  },
  {
   "cell_type": "code",
   "execution_count": 54,
   "metadata": {},
   "outputs": [
    {
     "data": {
      "text/html": [
       "<div>\n",
       "<style scoped>\n",
       "    .dataframe tbody tr th:only-of-type {\n",
       "        vertical-align: middle;\n",
       "    }\n",
       "\n",
       "    .dataframe tbody tr th {\n",
       "        vertical-align: top;\n",
       "    }\n",
       "\n",
       "    .dataframe thead th {\n",
       "        text-align: right;\n",
       "    }\n",
       "</style>\n",
       "<table border=\"1\" class=\"dataframe\">\n",
       "  <thead>\n",
       "    <tr style=\"text-align: right;\">\n",
       "      <th></th>\n",
       "      <th>gender</th>\n",
       "      <th>age</th>\n",
       "      <th>income</th>\n",
       "      <th>family_members</th>\n",
       "      <th>insurance_benefits</th>\n",
       "    </tr>\n",
       "  </thead>\n",
       "  <tbody>\n",
       "    <tr>\n",
       "      <th>452</th>\n",
       "      <td>0.0</td>\n",
       "      <td>0.523077</td>\n",
       "      <td>0.415190</td>\n",
       "      <td>0.000000</td>\n",
       "      <td>0</td>\n",
       "    </tr>\n",
       "    <tr>\n",
       "      <th>187</th>\n",
       "      <td>1.0</td>\n",
       "      <td>0.476923</td>\n",
       "      <td>0.551899</td>\n",
       "      <td>0.000000</td>\n",
       "      <td>0</td>\n",
       "    </tr>\n",
       "    <tr>\n",
       "      <th>413</th>\n",
       "      <td>1.0</td>\n",
       "      <td>0.692308</td>\n",
       "      <td>0.502532</td>\n",
       "      <td>0.000000</td>\n",
       "      <td>1</td>\n",
       "    </tr>\n",
       "    <tr>\n",
       "      <th>2859</th>\n",
       "      <td>0.0</td>\n",
       "      <td>0.415385</td>\n",
       "      <td>0.551899</td>\n",
       "      <td>0.666667</td>\n",
       "      <td>0</td>\n",
       "    </tr>\n",
       "    <tr>\n",
       "      <th>2762</th>\n",
       "      <td>0.0</td>\n",
       "      <td>0.292308</td>\n",
       "      <td>0.641772</td>\n",
       "      <td>0.166667</td>\n",
       "      <td>0</td>\n",
       "    </tr>\n",
       "  </tbody>\n",
       "</table>\n",
       "</div>"
      ],
      "text/plain": [
       "      gender       age    income  family_members  insurance_benefits\n",
       "452      0.0  0.523077  0.415190        0.000000                   0\n",
       "187      1.0  0.476923  0.551899        0.000000                   0\n",
       "413      1.0  0.692308  0.502532        0.000000                   1\n",
       "2859     0.0  0.415385  0.551899        0.666667                   0\n",
       "2762     0.0  0.292308  0.641772        0.166667                   0"
      ]
     },
     "execution_count": 54,
     "metadata": {},
     "output_type": "execute_result"
    }
   ],
   "source": [
    "# Convert the columns to float64 before scaling\n",
    "df[features] = df[features].astype('float64')\n",
    "\n",
    "# Apply MaxAbsScaler()\n",
    "transformer_mas = sklearn.preprocessing.MaxAbsScaler().fit(df[features].to_numpy())\n",
    "\n",
    "df_scaled = df.copy()\n",
    "df_scaled.loc[:, features] = transformer_mas.transform(df[features].to_numpy())\n",
    "# Scaled DF\n",
    "df_scaled.sample(5)"
   ]
  },
  {
   "cell_type": "markdown",
   "metadata": {},
   "source": [
    "Now, let's retrieve similar records (nearest neighbors) for a specific client (object) in df_scaled, using the `get_knn` function we defined earlier.  \n",
    "We will select client 14, using **n=13** to find the **k=10** most similar ones."
   ]
  },
  {
   "cell_type": "markdown",
   "metadata": {},
   "source": [
    "**Not Scaled Euclidean**"
   ]
  },
  {
   "cell_type": "code",
   "execution_count": 55,
   "metadata": {},
   "outputs": [
    {
     "data": {
      "text/html": [
       "<div>\n",
       "<style scoped>\n",
       "    .dataframe tbody tr th:only-of-type {\n",
       "        vertical-align: middle;\n",
       "    }\n",
       "\n",
       "    .dataframe tbody tr th {\n",
       "        vertical-align: top;\n",
       "    }\n",
       "\n",
       "    .dataframe thead th {\n",
       "        text-align: right;\n",
       "    }\n",
       "</style>\n",
       "<table border=\"1\" class=\"dataframe\">\n",
       "  <thead>\n",
       "    <tr style=\"text-align: right;\">\n",
       "      <th></th>\n",
       "      <th>gender</th>\n",
       "      <th>age</th>\n",
       "      <th>income</th>\n",
       "      <th>family_members</th>\n",
       "      <th>distance</th>\n",
       "    </tr>\n",
       "  </thead>\n",
       "  <tbody>\n",
       "    <tr>\n",
       "      <th>13</th>\n",
       "      <td>0.0</td>\n",
       "      <td>21.0</td>\n",
       "      <td>55000.0</td>\n",
       "      <td>0.0</td>\n",
       "      <td>0.000000</td>\n",
       "    </tr>\n",
       "    <tr>\n",
       "      <th>3601</th>\n",
       "      <td>0.0</td>\n",
       "      <td>19.0</td>\n",
       "      <td>55000.0</td>\n",
       "      <td>0.0</td>\n",
       "      <td>2.000000</td>\n",
       "    </tr>\n",
       "    <tr>\n",
       "      <th>2893</th>\n",
       "      <td>0.0</td>\n",
       "      <td>25.0</td>\n",
       "      <td>55000.0</td>\n",
       "      <td>4.0</td>\n",
       "      <td>5.656854</td>\n",
       "    </tr>\n",
       "    <tr>\n",
       "      <th>558</th>\n",
       "      <td>0.0</td>\n",
       "      <td>26.0</td>\n",
       "      <td>55000.0</td>\n",
       "      <td>5.0</td>\n",
       "      <td>7.071068</td>\n",
       "    </tr>\n",
       "    <tr>\n",
       "      <th>214</th>\n",
       "      <td>0.0</td>\n",
       "      <td>32.0</td>\n",
       "      <td>55000.0</td>\n",
       "      <td>2.0</td>\n",
       "      <td>11.180340</td>\n",
       "    </tr>\n",
       "    <tr>\n",
       "      <th>4634</th>\n",
       "      <td>0.0</td>\n",
       "      <td>35.0</td>\n",
       "      <td>55000.0</td>\n",
       "      <td>1.0</td>\n",
       "      <td>14.035669</td>\n",
       "    </tr>\n",
       "    <tr>\n",
       "      <th>1637</th>\n",
       "      <td>0.0</td>\n",
       "      <td>39.0</td>\n",
       "      <td>55000.0</td>\n",
       "      <td>1.0</td>\n",
       "      <td>18.027756</td>\n",
       "    </tr>\n",
       "    <tr>\n",
       "      <th>1996</th>\n",
       "      <td>1.0</td>\n",
       "      <td>46.0</td>\n",
       "      <td>55000.0</td>\n",
       "      <td>2.0</td>\n",
       "      <td>25.099801</td>\n",
       "    </tr>\n",
       "    <tr>\n",
       "      <th>340</th>\n",
       "      <td>0.0</td>\n",
       "      <td>52.0</td>\n",
       "      <td>55000.0</td>\n",
       "      <td>1.0</td>\n",
       "      <td>31.016125</td>\n",
       "    </tr>\n",
       "    <tr>\n",
       "      <th>1448</th>\n",
       "      <td>0.0</td>\n",
       "      <td>20.0</td>\n",
       "      <td>54900.0</td>\n",
       "      <td>1.0</td>\n",
       "      <td>100.010000</td>\n",
       "    </tr>\n",
       "    <tr>\n",
       "      <th>297</th>\n",
       "      <td>1.0</td>\n",
       "      <td>19.0</td>\n",
       "      <td>55100.0</td>\n",
       "      <td>0.0</td>\n",
       "      <td>100.024997</td>\n",
       "    </tr>\n",
       "  </tbody>\n",
       "</table>\n",
       "</div>"
      ],
      "text/plain": [
       "      gender   age   income  family_members    distance\n",
       "13       0.0  21.0  55000.0             0.0    0.000000\n",
       "3601     0.0  19.0  55000.0             0.0    2.000000\n",
       "2893     0.0  25.0  55000.0             4.0    5.656854\n",
       "558      0.0  26.0  55000.0             5.0    7.071068\n",
       "214      0.0  32.0  55000.0             2.0   11.180340\n",
       "4634     0.0  35.0  55000.0             1.0   14.035669\n",
       "1637     0.0  39.0  55000.0             1.0   18.027756\n",
       "1996     1.0  46.0  55000.0             2.0   25.099801\n",
       "340      0.0  52.0  55000.0             1.0   31.016125\n",
       "1448     0.0  20.0  54900.0             1.0  100.010000\n",
       "297      1.0  19.0  55100.0             0.0  100.024997"
      ]
     },
     "execution_count": 55,
     "metadata": {},
     "output_type": "execute_result"
    }
   ],
   "source": [
    "euc = get_knn(df[features], 13, 11, 'euclidean')\n",
    "euc"
   ]
  },
  {
   "cell_type": "markdown",
   "metadata": {},
   "source": [
    "**Scaled Euclidean**"
   ]
  },
  {
   "cell_type": "code",
   "execution_count": 56,
   "metadata": {},
   "outputs": [
    {
     "data": {
      "text/html": [
       "<div>\n",
       "<style scoped>\n",
       "    .dataframe tbody tr th:only-of-type {\n",
       "        vertical-align: middle;\n",
       "    }\n",
       "\n",
       "    .dataframe tbody tr th {\n",
       "        vertical-align: top;\n",
       "    }\n",
       "\n",
       "    .dataframe thead th {\n",
       "        text-align: right;\n",
       "    }\n",
       "</style>\n",
       "<table border=\"1\" class=\"dataframe\">\n",
       "  <thead>\n",
       "    <tr style=\"text-align: right;\">\n",
       "      <th></th>\n",
       "      <th>gender</th>\n",
       "      <th>age</th>\n",
       "      <th>income</th>\n",
       "      <th>family_members</th>\n",
       "      <th>distance</th>\n",
       "    </tr>\n",
       "  </thead>\n",
       "  <tbody>\n",
       "    <tr>\n",
       "      <th>13</th>\n",
       "      <td>0.0</td>\n",
       "      <td>0.323077</td>\n",
       "      <td>0.696203</td>\n",
       "      <td>0.0</td>\n",
       "      <td>0.000000</td>\n",
       "    </tr>\n",
       "    <tr>\n",
       "      <th>1967</th>\n",
       "      <td>0.0</td>\n",
       "      <td>0.323077</td>\n",
       "      <td>0.678481</td>\n",
       "      <td>0.0</td>\n",
       "      <td>0.017722</td>\n",
       "    </tr>\n",
       "    <tr>\n",
       "      <th>4192</th>\n",
       "      <td>0.0</td>\n",
       "      <td>0.338462</td>\n",
       "      <td>0.705063</td>\n",
       "      <td>0.0</td>\n",
       "      <td>0.017754</td>\n",
       "    </tr>\n",
       "    <tr>\n",
       "      <th>2716</th>\n",
       "      <td>0.0</td>\n",
       "      <td>0.307692</td>\n",
       "      <td>0.707595</td>\n",
       "      <td>0.0</td>\n",
       "      <td>0.019143</td>\n",
       "    </tr>\n",
       "    <tr>\n",
       "      <th>2919</th>\n",
       "      <td>0.0</td>\n",
       "      <td>0.338462</td>\n",
       "      <td>0.716456</td>\n",
       "      <td>0.0</td>\n",
       "      <td>0.025434</td>\n",
       "    </tr>\n",
       "    <tr>\n",
       "      <th>3601</th>\n",
       "      <td>0.0</td>\n",
       "      <td>0.292308</td>\n",
       "      <td>0.696203</td>\n",
       "      <td>0.0</td>\n",
       "      <td>0.030769</td>\n",
       "    </tr>\n",
       "    <tr>\n",
       "      <th>818</th>\n",
       "      <td>0.0</td>\n",
       "      <td>0.338462</td>\n",
       "      <td>0.667089</td>\n",
       "      <td>0.0</td>\n",
       "      <td>0.032929</td>\n",
       "    </tr>\n",
       "    <tr>\n",
       "      <th>2183</th>\n",
       "      <td>0.0</td>\n",
       "      <td>0.292308</td>\n",
       "      <td>0.711392</td>\n",
       "      <td>0.0</td>\n",
       "      <td>0.034314</td>\n",
       "    </tr>\n",
       "    <tr>\n",
       "      <th>4498</th>\n",
       "      <td>0.0</td>\n",
       "      <td>0.292308</td>\n",
       "      <td>0.668354</td>\n",
       "      <td>0.0</td>\n",
       "      <td>0.041500</td>\n",
       "    </tr>\n",
       "    <tr>\n",
       "      <th>620</th>\n",
       "      <td>0.0</td>\n",
       "      <td>0.292308</td>\n",
       "      <td>0.667089</td>\n",
       "      <td>0.0</td>\n",
       "      <td>0.042360</td>\n",
       "    </tr>\n",
       "    <tr>\n",
       "      <th>2604</th>\n",
       "      <td>0.0</td>\n",
       "      <td>0.276923</td>\n",
       "      <td>0.697468</td>\n",
       "      <td>0.0</td>\n",
       "      <td>0.046171</td>\n",
       "    </tr>\n",
       "  </tbody>\n",
       "</table>\n",
       "</div>"
      ],
      "text/plain": [
       "      gender       age    income  family_members  distance\n",
       "13       0.0  0.323077  0.696203             0.0  0.000000\n",
       "1967     0.0  0.323077  0.678481             0.0  0.017722\n",
       "4192     0.0  0.338462  0.705063             0.0  0.017754\n",
       "2716     0.0  0.307692  0.707595             0.0  0.019143\n",
       "2919     0.0  0.338462  0.716456             0.0  0.025434\n",
       "3601     0.0  0.292308  0.696203             0.0  0.030769\n",
       "818      0.0  0.338462  0.667089             0.0  0.032929\n",
       "2183     0.0  0.292308  0.711392             0.0  0.034314\n",
       "4498     0.0  0.292308  0.668354             0.0  0.041500\n",
       "620      0.0  0.292308  0.667089             0.0  0.042360\n",
       "2604     0.0  0.276923  0.697468             0.0  0.046171"
      ]
     },
     "execution_count": 56,
     "metadata": {},
     "output_type": "execute_result"
    }
   ],
   "source": [
    "euc_s = get_knn(df_scaled[features], 13, 11, 'euclidean')\n",
    "euc_s"
   ]
  },
  {
   "cell_type": "markdown",
   "metadata": {},
   "source": [
    "**Not Scaled Manhattan**"
   ]
  },
  {
   "cell_type": "code",
   "execution_count": 57,
   "metadata": {},
   "outputs": [
    {
     "data": {
      "text/html": [
       "<div>\n",
       "<style scoped>\n",
       "    .dataframe tbody tr th:only-of-type {\n",
       "        vertical-align: middle;\n",
       "    }\n",
       "\n",
       "    .dataframe tbody tr th {\n",
       "        vertical-align: top;\n",
       "    }\n",
       "\n",
       "    .dataframe thead th {\n",
       "        text-align: right;\n",
       "    }\n",
       "</style>\n",
       "<table border=\"1\" class=\"dataframe\">\n",
       "  <thead>\n",
       "    <tr style=\"text-align: right;\">\n",
       "      <th></th>\n",
       "      <th>gender</th>\n",
       "      <th>age</th>\n",
       "      <th>income</th>\n",
       "      <th>family_members</th>\n",
       "      <th>distance</th>\n",
       "    </tr>\n",
       "  </thead>\n",
       "  <tbody>\n",
       "    <tr>\n",
       "      <th>13</th>\n",
       "      <td>0.0</td>\n",
       "      <td>21.0</td>\n",
       "      <td>55000.0</td>\n",
       "      <td>0.0</td>\n",
       "      <td>0.0</td>\n",
       "    </tr>\n",
       "    <tr>\n",
       "      <th>3601</th>\n",
       "      <td>0.0</td>\n",
       "      <td>19.0</td>\n",
       "      <td>55000.0</td>\n",
       "      <td>0.0</td>\n",
       "      <td>2.0</td>\n",
       "    </tr>\n",
       "    <tr>\n",
       "      <th>2893</th>\n",
       "      <td>0.0</td>\n",
       "      <td>25.0</td>\n",
       "      <td>55000.0</td>\n",
       "      <td>4.0</td>\n",
       "      <td>8.0</td>\n",
       "    </tr>\n",
       "    <tr>\n",
       "      <th>558</th>\n",
       "      <td>0.0</td>\n",
       "      <td>26.0</td>\n",
       "      <td>55000.0</td>\n",
       "      <td>5.0</td>\n",
       "      <td>10.0</td>\n",
       "    </tr>\n",
       "    <tr>\n",
       "      <th>214</th>\n",
       "      <td>0.0</td>\n",
       "      <td>32.0</td>\n",
       "      <td>55000.0</td>\n",
       "      <td>2.0</td>\n",
       "      <td>13.0</td>\n",
       "    </tr>\n",
       "    <tr>\n",
       "      <th>4634</th>\n",
       "      <td>0.0</td>\n",
       "      <td>35.0</td>\n",
       "      <td>55000.0</td>\n",
       "      <td>1.0</td>\n",
       "      <td>15.0</td>\n",
       "    </tr>\n",
       "    <tr>\n",
       "      <th>1637</th>\n",
       "      <td>0.0</td>\n",
       "      <td>39.0</td>\n",
       "      <td>55000.0</td>\n",
       "      <td>1.0</td>\n",
       "      <td>19.0</td>\n",
       "    </tr>\n",
       "    <tr>\n",
       "      <th>1996</th>\n",
       "      <td>1.0</td>\n",
       "      <td>46.0</td>\n",
       "      <td>55000.0</td>\n",
       "      <td>2.0</td>\n",
       "      <td>28.0</td>\n",
       "    </tr>\n",
       "    <tr>\n",
       "      <th>340</th>\n",
       "      <td>0.0</td>\n",
       "      <td>52.0</td>\n",
       "      <td>55000.0</td>\n",
       "      <td>1.0</td>\n",
       "      <td>32.0</td>\n",
       "    </tr>\n",
       "    <tr>\n",
       "      <th>1448</th>\n",
       "      <td>0.0</td>\n",
       "      <td>20.0</td>\n",
       "      <td>54900.0</td>\n",
       "      <td>1.0</td>\n",
       "      <td>102.0</td>\n",
       "    </tr>\n",
       "    <tr>\n",
       "      <th>2604</th>\n",
       "      <td>0.0</td>\n",
       "      <td>18.0</td>\n",
       "      <td>55100.0</td>\n",
       "      <td>0.0</td>\n",
       "      <td>103.0</td>\n",
       "    </tr>\n",
       "  </tbody>\n",
       "</table>\n",
       "</div>"
      ],
      "text/plain": [
       "      gender   age   income  family_members  distance\n",
       "13       0.0  21.0  55000.0             0.0       0.0\n",
       "3601     0.0  19.0  55000.0             0.0       2.0\n",
       "2893     0.0  25.0  55000.0             4.0       8.0\n",
       "558      0.0  26.0  55000.0             5.0      10.0\n",
       "214      0.0  32.0  55000.0             2.0      13.0\n",
       "4634     0.0  35.0  55000.0             1.0      15.0\n",
       "1637     0.0  39.0  55000.0             1.0      19.0\n",
       "1996     1.0  46.0  55000.0             2.0      28.0\n",
       "340      0.0  52.0  55000.0             1.0      32.0\n",
       "1448     0.0  20.0  54900.0             1.0     102.0\n",
       "2604     0.0  18.0  55100.0             0.0     103.0"
      ]
     },
     "execution_count": 57,
     "metadata": {},
     "output_type": "execute_result"
    }
   ],
   "source": [
    "man = get_knn(df[features], 13, 11, 'manhattan')\n",
    "man"
   ]
  },
  {
   "cell_type": "markdown",
   "metadata": {},
   "source": [
    "**Scaled Manhattan**"
   ]
  },
  {
   "cell_type": "code",
   "execution_count": 58,
   "metadata": {},
   "outputs": [
    {
     "data": {
      "text/html": [
       "<div>\n",
       "<style scoped>\n",
       "    .dataframe tbody tr th:only-of-type {\n",
       "        vertical-align: middle;\n",
       "    }\n",
       "\n",
       "    .dataframe tbody tr th {\n",
       "        vertical-align: top;\n",
       "    }\n",
       "\n",
       "    .dataframe thead th {\n",
       "        text-align: right;\n",
       "    }\n",
       "</style>\n",
       "<table border=\"1\" class=\"dataframe\">\n",
       "  <thead>\n",
       "    <tr style=\"text-align: right;\">\n",
       "      <th></th>\n",
       "      <th>gender</th>\n",
       "      <th>age</th>\n",
       "      <th>income</th>\n",
       "      <th>family_members</th>\n",
       "      <th>distance</th>\n",
       "    </tr>\n",
       "  </thead>\n",
       "  <tbody>\n",
       "    <tr>\n",
       "      <th>13</th>\n",
       "      <td>0.0</td>\n",
       "      <td>0.323077</td>\n",
       "      <td>0.696203</td>\n",
       "      <td>0.0</td>\n",
       "      <td>0.000000</td>\n",
       "    </tr>\n",
       "    <tr>\n",
       "      <th>1967</th>\n",
       "      <td>0.0</td>\n",
       "      <td>0.323077</td>\n",
       "      <td>0.678481</td>\n",
       "      <td>0.0</td>\n",
       "      <td>0.017722</td>\n",
       "    </tr>\n",
       "    <tr>\n",
       "      <th>4192</th>\n",
       "      <td>0.0</td>\n",
       "      <td>0.338462</td>\n",
       "      <td>0.705063</td>\n",
       "      <td>0.0</td>\n",
       "      <td>0.024245</td>\n",
       "    </tr>\n",
       "    <tr>\n",
       "      <th>2716</th>\n",
       "      <td>0.0</td>\n",
       "      <td>0.307692</td>\n",
       "      <td>0.707595</td>\n",
       "      <td>0.0</td>\n",
       "      <td>0.026777</td>\n",
       "    </tr>\n",
       "    <tr>\n",
       "      <th>3601</th>\n",
       "      <td>0.0</td>\n",
       "      <td>0.292308</td>\n",
       "      <td>0.696203</td>\n",
       "      <td>0.0</td>\n",
       "      <td>0.030769</td>\n",
       "    </tr>\n",
       "    <tr>\n",
       "      <th>2919</th>\n",
       "      <td>0.0</td>\n",
       "      <td>0.338462</td>\n",
       "      <td>0.716456</td>\n",
       "      <td>0.0</td>\n",
       "      <td>0.035638</td>\n",
       "    </tr>\n",
       "    <tr>\n",
       "      <th>818</th>\n",
       "      <td>0.0</td>\n",
       "      <td>0.338462</td>\n",
       "      <td>0.667089</td>\n",
       "      <td>0.0</td>\n",
       "      <td>0.044499</td>\n",
       "    </tr>\n",
       "    <tr>\n",
       "      <th>2183</th>\n",
       "      <td>0.0</td>\n",
       "      <td>0.292308</td>\n",
       "      <td>0.711392</td>\n",
       "      <td>0.0</td>\n",
       "      <td>0.045959</td>\n",
       "    </tr>\n",
       "    <tr>\n",
       "      <th>2604</th>\n",
       "      <td>0.0</td>\n",
       "      <td>0.276923</td>\n",
       "      <td>0.697468</td>\n",
       "      <td>0.0</td>\n",
       "      <td>0.047420</td>\n",
       "    </tr>\n",
       "    <tr>\n",
       "      <th>4498</th>\n",
       "      <td>0.0</td>\n",
       "      <td>0.292308</td>\n",
       "      <td>0.668354</td>\n",
       "      <td>0.0</td>\n",
       "      <td>0.058617</td>\n",
       "    </tr>\n",
       "    <tr>\n",
       "      <th>2366</th>\n",
       "      <td>0.0</td>\n",
       "      <td>0.276923</td>\n",
       "      <td>0.683544</td>\n",
       "      <td>0.0</td>\n",
       "      <td>0.058812</td>\n",
       "    </tr>\n",
       "  </tbody>\n",
       "</table>\n",
       "</div>"
      ],
      "text/plain": [
       "      gender       age    income  family_members  distance\n",
       "13       0.0  0.323077  0.696203             0.0  0.000000\n",
       "1967     0.0  0.323077  0.678481             0.0  0.017722\n",
       "4192     0.0  0.338462  0.705063             0.0  0.024245\n",
       "2716     0.0  0.307692  0.707595             0.0  0.026777\n",
       "3601     0.0  0.292308  0.696203             0.0  0.030769\n",
       "2919     0.0  0.338462  0.716456             0.0  0.035638\n",
       "818      0.0  0.338462  0.667089             0.0  0.044499\n",
       "2183     0.0  0.292308  0.711392             0.0  0.045959\n",
       "2604     0.0  0.276923  0.697468             0.0  0.047420\n",
       "4498     0.0  0.292308  0.668354             0.0  0.058617\n",
       "2366     0.0  0.276923  0.683544             0.0  0.058812"
      ]
     },
     "execution_count": 58,
     "metadata": {},
     "output_type": "execute_result"
    }
   ],
   "source": [
    "man_s = get_knn(df_scaled[features], 13, 11, 'manhattan')\n",
    "man_s"
   ]
  },
  {
   "cell_type": "markdown",
   "metadata": {},
   "source": [
    "**Do unscaled data affect the kNN algorithm? If so, how does it manifest?**\n",
    "\n",
    "Yes, it affects. The kNN algorithm is based on the distances between points, and if the features have different scales, those with larger values will dominate the distance calculation, causing a disproportion and leading to biased results. In this case, the `income` feature would dominate over `age` and `family_members`. On the other hand, **with scaled data, all features contribute more equally to the distance calculation**."
   ]
  },
  {
   "cell_type": "markdown",
   "metadata": {},
   "source": [
    "**How similar are the results when using the Manhattan distance metric (regardless of scaling)?**\n",
    "\n",
    "Data scaling significantly affects the Manhattan distance metric because, without scaling, features with larger magnitudes, such as `income`, dominate the distance, while with scaling, all features contribute more equally, altering the order of the nearest neighbors. Therefore, the decision to scale or not should depend on the relative importance of the features in the algorithm's objective."
   ]
  },
  {
   "cell_type": "code",
   "execution_count": 59,
   "metadata": {},
   "outputs": [
    {
     "data": {
      "image/png": "[encoded data removed]",
      "text/plain": [
       "<Figure size 2000x600 with 2 Axes>"
      ]
     },
     "metadata": {},
     "output_type": "display_data"
    }
   ],
   "source": [
    "# Create a figure with scaled and not scaled Manhattan\n",
    "fig, axes = plt.subplots(1, 2, figsize=(20, 6))\n",
    "\n",
    "# Plot the first histogram (Manhattan Not Scaled)\n",
    "sns.histplot(man.distance, color='cornflowerblue', bins=30, kde=True, edgecolor='black', ax=axes[0])\n",
    "axes[0].set_title('Manhattan Distance Distribution (Not Scaled)', fontsize=16, pad=20)\n",
    "axes[0].set_xlabel('Manhattan Distance', fontsize=14)\n",
    "axes[0].set_ylabel('Frequency', fontsize=14)\n",
    "\n",
    "# Plot the second histogram (Manhattan Scaled)\n",
    "sns.histplot(man_s.distance, color='salmon', bins=30, kde=True, edgecolor='black', ax=axes[1])\n",
    "axes[1].set_title('Manhattan Distance Distribution (Scaled)', fontsize=16, pad=20)\n",
    "axes[1].set_xlabel('Manhattan Distance', fontsize=14)\n",
    "axes[1].set_ylabel('Frequency', fontsize=14)\n",
    "\n",
    "# Adjust layout\n",
    "plt.tight_layout()\n",
    "plt.show()"
   ]
  },
  {
   "cell_type": "markdown",
   "metadata": {},
   "source": [
    "In this example, we can see that by scaling the data, all features contribute equally to the distance calculation, preventing variables with large values from dominating the result."
   ]
  },
  {
   "cell_type": "markdown",
   "metadata": {},
   "source": [
    "# Task 2. Is it likely that the client will receive an insurance benefit?"
   ]
  },
  {
   "cell_type": "markdown",
   "metadata": {},
   "source": [
    "In terms of machine learning, we can consider this a binary classification task.  \n",
    "We evaluate whether the **kNN** classification approach can improve performance compared to a **dummy** model, with the target being **insurance_benefits** greater than zero. To do this, we first build the **kNN** classification model, then the **dummy** model, and compare the results obtained from both.\n",
    "\n",
    "The probability of paying any insurance benefit can be defined as  \n",
    "$$  \n",
    "P\\{\\text{insurance benefit received}\\} = \\frac{\\text{number of clients who have received an insurance benefit}}{\\text{total number of clients}}.  \n",
    "$$\n",
    "\n",
    "Split all the data into training/test stages, respecting the 70:30 ratio."
   ]
  },
  {
   "cell_type": "code",
   "execution_count": 60,
   "metadata": {},
   "outputs": [],
   "source": [
    "# Calculate the target (y)\n",
    "df['insurance_benefits_received'] = np.where(df['insurance_benefits'] == 0, 0, 1)\n",
    "df_scaled['insurance_benefits_received'] = np.where(df_scaled['insurance_benefits'] == 0, 0, 1)"
   ]
  },
  {
   "cell_type": "code",
   "execution_count": 61,
   "metadata": {},
   "outputs": [
    {
     "name": "stdout",
     "output_type": "stream",
     "text": [
      "\n",
      "Not scaled data\n",
      " insurance_benefits_received\n",
      "0    0.8872\n",
      "1    0.1128\n",
      "Name: proportion, dtype: float64\n",
      "\n",
      "Scaled data\n",
      " insurance_benefits_received\n",
      "0    0.8872\n",
      "1    0.1128\n",
      "Name: proportion, dtype: float64\n"
     ]
    }
   ],
   "source": [
    "# Check the class imbalance with value_counts()\n",
    "print('\\nNot scaled data\\n',df['insurance_benefits_received'].value_counts(normalize=True)) #proporción\n",
    "print('\\nScaled data\\n', df_scaled['insurance_benefits_received'].value_counts(normalize=True)) #proporción"
   ]
  },
  {
   "cell_type": "markdown",
   "metadata": {},
   "source": [
    "We can see that 88% have not received at least one insurance benefit."
   ]
  },
  {
   "cell_type": "markdown",
   "metadata": {},
   "source": [
    "**Evaluation of a Dummy Model**\n",
    "\n",
    "We generate random predictions with different probabilities (P) using `rnd_model_predict`. Then, we evaluate the performance with `eval_classifier`, calculating the `F1 score` and the `confusion matrix`. This will serve as a baseline to compare future models."
   ]
  },
  {
   "cell_type": "code",
   "execution_count": 62,
   "metadata": {},
   "outputs": [],
   "source": [
    "def eval_classifier(y_true, y_pred):\n",
    "    \n",
    "    f1_score = sklearn.metrics.f1_score(y_true, y_pred)\n",
    "    print(f'F1: {f1_score:.2f}')\n",
    "    \n",
    "    cm = sklearn.metrics.confusion_matrix(y_true, y_pred, normalize='all')\n",
    "    print('Confusion matrix')\n",
    "    print(cm)"
   ]
  },
  {
   "cell_type": "code",
   "execution_count": 63,
   "metadata": {},
   "outputs": [],
   "source": [
    "# Generate the output of a random model\n",
    "def rnd_model_predict(P, size, seed=42):\n",
    "\n",
    "    rng = np.random.default_rng(seed=seed)\n",
    "    return rng.binomial(n=1, p=P, size=size)"
   ]
  },
  {
   "cell_type": "code",
   "execution_count": 64,
   "metadata": {},
   "outputs": [
    {
     "name": "stdout",
     "output_type": "stream",
     "text": [
      "Probability:: 0.00\n",
      "F1: 0.00\n",
      "Confusion matrix\n",
      "[[0.8872 0.    ]\n",
      " [0.1128 0.    ]]\n",
      "\n",
      "Probability:: 0.11\n",
      "F1: 0.12\n",
      "Confusion matrix\n",
      "[[0.7914 0.0958]\n",
      " [0.0994 0.0134]]\n",
      "\n",
      "Probability:: 0.50\n",
      "F1: 0.20\n",
      "Confusion matrix\n",
      "[[0.456  0.4312]\n",
      " [0.053  0.0598]]\n",
      "\n",
      "Probability:: 1.00\n",
      "F1: 0.20\n",
      "Confusion matrix\n",
      "[[0.     0.8872]\n",
      " [0.     0.1128]]\n",
      "\n"
     ]
    }
   ],
   "source": [
    "for P in [0, df['insurance_benefits_received'].sum() / len(df), 0.5, 1]:\n",
    "\n",
    "    print(f'Probability:: {P:.2f}')\n",
    "    y_pred_rnd = rnd_model_predict(P, df[features].shape[0])\n",
    "        \n",
    "    eval_classifier(df['insurance_benefits_received'], y_pred_rnd)\n",
    "    \n",
    "    print()"
   ]
  },
  {
   "cell_type": "markdown",
   "metadata": {},
   "source": [
    "The results show that a random model is not effective in predicting the receipt of insurance benefits. Even when the prediction probability is adjusted to the actual data distribution, the F1-score remains low (maximum of 0.20), indicating poor performance in classifying both positive and negative cases."
   ]
  },
  {
   "cell_type": "markdown",
   "metadata": {},
   "source": [
    "**Training the kNN model**  \n",
    "We will use the `train_test_split` parameter with a 70:30 ratio to split the training sets."
   ]
  },
  {
   "cell_type": "markdown",
   "metadata": {},
   "source": [
    "**Not Scaled Data**"
   ]
  },
  {
   "cell_type": "code",
   "execution_count": 65,
   "metadata": {},
   "outputs": [],
   "source": [
    "# Separate target and features  \n",
    "target = df['insurance_benefits_received']  \n",
    "features = df.drop(['insurance_benefits_received', 'insurance_benefits'], axis=1)\n",
    "\n",
    "# Split the data into training and testing  \n",
    "features_train, features_valid, target_train, target_valid = train_test_split(  \n",
    "    features, target, test_size=0.3, random_state=12345)"
   ]
  },
  {
   "cell_type": "markdown",
   "metadata": {},
   "source": [
    "**Scaled Data**"
   ]
  },
  {
   "cell_type": "code",
   "execution_count": 66,
   "metadata": {},
   "outputs": [],
   "source": [
    "# Separate the features from the target column  \n",
    "target_s = df_scaled['insurance_benefits_received']  \n",
    "features_s = df_scaled.drop(['insurance_benefits_received','insurance_benefits'], axis=1)\n",
    "\n",
    "# Separate the data variables into training and test variables  \n",
    "features_train_s, features_valid_s, target_train_s, target_valid_s = train_test_split(  \n",
    "    features_s, target_s, test_size=0.3, random_state=12345)"
   ]
  },
  {
   "cell_type": "code",
   "execution_count": 67,
   "metadata": {},
   "outputs": [],
   "source": [
    "# Function to find the best K and display the confusion matrix  \n",
    "def find_best_k(features_train, target_train, features_valid, target_valid, scaled=False):  \n",
    "    \"\"\"  \n",
    "    Finds the best value of k for KNN based on the F1 metric.  \n",
    "    Also shows the confusion matrix for each k and the best k.  \n",
    "\n",
    "    :param features_train: Training data  \n",
    "    :param target_train: Training labels  \n",
    "    :param features_valid: Validation data  \n",
    "    :param target_valid: Validation labels  \n",
    "    :param scaled: Indicates whether the data is scaled or not (for printing only)\n",
    "    \n",
    "    :return: Best k found and its F1 score  \n",
    "    \"\"\"  \n",
    "    best_k = None  \n",
    "    best_f1 = 0  \n",
    "    best_predictions = None  \n",
    "    k_values = np.arange(1, 11)  \n",
    "\n",
    "    for k in k_values:  \n",
    "        # Create the KNN classifier  \n",
    "        knn = KNeighborsClassifier(n_neighbors=k, weights='distance')  \n",
    "        knn.fit(features_train, target_train)  \n",
    "        \n",
    "        # Make predictions  \n",
    "        predictions = knn.predict(features_valid)  \n",
    "        f1 = f1_score(target_valid, predictions)  \n",
    "        \n",
    "        # Print the F1 results for each k value  \n",
    "        print(f'K = {k} -> F1 Score: {f1:.4f}')  \n",
    "        \n",
    "        # Save the predictions for the confusion matrix and the best F1  \n",
    "        if f1 > best_f1:  \n",
    "            best_f1 = f1  \n",
    "            best_k = k  \n",
    "            best_predictions = predictions  \n",
    "\n",
    "        # Show the confusion matrix for the k value  \n",
    "        cm = confusion_matrix(target_valid, predictions)  \n",
    "        print(f'Confusion Matrix for k={k}:')  \n",
    "        print(cm)  \n",
    "        print('-' * 30)  \n",
    "\n",
    "    scaling_status = \"Scaled\" if scaled else \"Not Scaled\"  \n",
    "    \n",
    "    # Show the best k and its F1 Score  \n",
    "    print(f'\\nBest K for {scaling_status} Data: {best_k} with F1 Score: {best_f1:.4f}')  \n",
    "    \n",
    "    # Show the confusion matrix for the best model  \n",
    "    cm_best = confusion_matrix(target_valid, best_predictions)  \n",
    "    print(f'Confusion Matrix for the best K (k={best_k}):')  \n",
    "    print(cm_best)  \n",
    "\n",
    "    return best_k, best_f1"
   ]
  },
  {
   "cell_type": "code",
   "execution_count": 68,
   "metadata": {},
   "outputs": [
    {
     "name": "stdout",
     "output_type": "stream",
     "text": [
      "Evaluation of non-scaled data:\n",
      "\n",
      "K = 1 -> F1 Score: 0.6065\n",
      "Confusion Matrix for k=1:\n",
      "[[1307   30]\n",
      " [  79   84]]\n",
      "------------------------------\n",
      "K = 2 -> F1 Score: 0.6087\n",
      "Confusion Matrix for k=2:\n",
      "[[1308   29]\n",
      " [  79   84]]\n",
      "------------------------------\n",
      "K = 3 -> F1 Score: 0.5525\n",
      "Confusion Matrix for k=3:\n",
      "[[1314   23]\n",
      " [  92   71]]\n",
      "------------------------------\n",
      "K = 4 -> F1 Score: 0.5242\n",
      "Confusion Matrix for k=4:\n",
      "[[1317   20]\n",
      " [  98   65]]\n",
      "------------------------------\n",
      "K = 5 -> F1 Score: 0.5063\n",
      "Confusion Matrix for k=5:\n",
      "[[1323   14]\n",
      " [ 103   60]]\n",
      "------------------------------\n",
      "K = 6 -> F1 Score: 0.4635\n",
      "Confusion Matrix for k=6:\n",
      "[[1321   16]\n",
      " [ 109   54]]\n",
      "------------------------------\n",
      "K = 7 -> F1 Score: 0.4395\n",
      "Confusion Matrix for k=7:\n",
      "[[1326   11]\n",
      " [ 114   49]]\n",
      "------------------------------\n",
      "K = 8 -> F1 Score: 0.4395\n",
      "Confusion Matrix for k=8:\n",
      "[[1326   11]\n",
      " [ 114   49]]\n",
      "------------------------------\n",
      "K = 9 -> F1 Score: 0.4182\n",
      "Confusion Matrix for k=9:\n",
      "[[1326   11]\n",
      " [ 117   46]]\n",
      "------------------------------\n",
      "K = 10 -> F1 Score: 0.4182\n",
      "Confusion Matrix for k=10:\n",
      "[[1326   11]\n",
      " [ 117   46]]\n",
      "------------------------------\n",
      "\n",
      "Best K for Not Scaled Data: 2 with F1 Score: 0.6087\n",
      "Confusion Matrix for the best K (k=2):\n",
      "[[1308   29]\n",
      " [  79   84]]\n"
     ]
    }
   ],
   "source": [
    "# Euclidean - Not Scaled Data\n",
    "print(\"Evaluation of non-scaled data:\\n\")\n",
    "best_k_not_scaled, best_f1_not_scaled = find_best_k(features_train, target_train, features_valid, target_valid, scaled=False)"
   ]
  },
  {
   "cell_type": "code",
   "execution_count": 69,
   "metadata": {},
   "outputs": [
    {
     "name": "stdout",
     "output_type": "stream",
     "text": [
      "Evaluation of Scaled data:\n",
      "\n",
      "K = 1 -> F1 Score: 0.9659\n",
      "Confusion Matrix for k=1:\n",
      "[[1333    4]\n",
      " [   7  156]]\n",
      "------------------------------\n",
      "K = 2 -> F1 Score: 0.9659\n",
      "Confusion Matrix for k=2:\n",
      "[[1333    4]\n",
      " [   7  156]]\n",
      "------------------------------\n",
      "K = 3 -> F1 Score: 0.9527\n",
      "Confusion Matrix for k=3:\n",
      "[[1334    3]\n",
      " [  12  151]]\n",
      "------------------------------\n",
      "K = 4 -> F1 Score: 0.9592\n",
      "Confusion Matrix for k=4:\n",
      "[[1334    3]\n",
      " [  10  153]]\n",
      "------------------------------\n",
      "K = 5 -> F1 Score: 0.9497\n",
      "Confusion Matrix for k=5:\n",
      "[[1333    4]\n",
      " [  12  151]]\n",
      "------------------------------\n",
      "K = 6 -> F1 Score: 0.9527\n",
      "Confusion Matrix for k=6:\n",
      "[[1334    3]\n",
      " [  12  151]]\n",
      "------------------------------\n",
      "K = 7 -> F1 Score: 0.9560\n",
      "Confusion Matrix for k=7:\n",
      "[[1334    3]\n",
      " [  11  152]]\n",
      "------------------------------\n",
      "K = 8 -> F1 Score: 0.9460\n",
      "Confusion Matrix for k=8:\n",
      "[[1334    3]\n",
      " [  14  149]]\n",
      "------------------------------\n",
      "K = 9 -> F1 Score: 0.9490\n",
      "Confusion Matrix for k=9:\n",
      "[[1335    2]\n",
      " [  14  149]]\n",
      "------------------------------\n",
      "K = 10 -> F1 Score: 0.9427\n",
      "Confusion Matrix for k=10:\n",
      "[[1334    3]\n",
      " [  15  148]]\n",
      "------------------------------\n",
      "\n",
      "Best K for Scaled Data: 1 with F1 Score: 0.9659\n",
      "Confusion Matrix for the best K (k=1):\n",
      "[[1333    4]\n",
      " [   7  156]]\n"
     ]
    }
   ],
   "source": [
    "# Euclidean - Scaled Data\n",
    "print(\"Evaluation of Scaled data:\\n\")\n",
    "best_k_scaled, best_f1_scaled = find_best_k(features_train_s, target_train_s, features_valid_s, target_valid_s, scaled=True)"
   ]
  },
  {
   "cell_type": "markdown",
   "metadata": {},
   "source": [
    "There is no difference in the results with scaled or non-scaled data.  \n",
    "The best K is 2."
   ]
  },
  {
   "cell_type": "code",
   "execution_count": 70,
   "metadata": {},
   "outputs": [],
   "source": [
    "# Set model with the best value of K (k=2 in this case)  \n",
    "# Using the KNN classifier with the Euclidean distance metric  \n",
    "# and distance weighting  \n",
    "neigh = KNeighborsClassifier(n_neighbors=2, weights='distance', metric='euclidean', p=2)  \n",
    "\n",
    "# Train the model with the training data (features_train and target_train)  \n",
    "neigh.fit(features_train, target_train)  \n",
    "\n",
    "# Make predictions with the trained model using the validation data  \n",
    "predictions = neigh.predict(features_valid)"
   ]
  },
  {
   "cell_type": "code",
   "execution_count": 71,
   "metadata": {},
   "outputs": [
    {
     "name": "stdout",
     "output_type": "stream",
     "text": [
      "F1: 0.61\n",
      "\n",
      "Confusion Matrix\n",
      "[[0.872      0.01933333]\n",
      " [0.05266667 0.056     ]]\n"
     ]
    }
   ],
   "source": [
    "# Confusion matrix generator function and F1 score calculation  \n",
    "def eval_classifier(y_true, y_pred):  \n",
    "    \"\"\"  \n",
    "    This function evaluates the classifier's performance  \n",
    "    by calculating the F1 score and displaying the normalized confusion matrix.  \n",
    "    \n",
    "    :param y_true: True labels (validation data)  \n",
    "    :param y_pred: Model predictions  \n",
    "    \"\"\"  \n",
    "    # Calculate the F1 score using the true labels and predictions  \n",
    "    f1_score = sklearn.metrics.f1_score(y_true, y_pred)  \n",
    "    print(f'F1: {f1_score:.2f}')  \n",
    "    \n",
    "    # Calculate the normalized confusion matrix  \n",
    "    # 'normalize='all'' calculates the proportions instead of the absolute counts  \n",
    "    cm = sklearn.metrics.confusion_matrix(y_true, y_pred, normalize='all')  \n",
    "    print('\\nConfusion Matrix')  \n",
    "    print(cm)  \n",
    "\n",
    "# Call the function to evaluate the model with validation data  \n",
    "eval_classifier(target_valid, predictions)"
   ]
  },
  {
   "cell_type": "markdown",
   "metadata": {},
   "source": [
    "**F1 Score**: 61%, indicating a good balance between precision and recall.  \n",
    "**Confusion Matrix**:  \n",
    "**87.20%** of the cases were correctly classified as negative.  \n",
    "**1.93%** were false positives (real negatives classified as positive).  \n",
    "**5.27%** were false negatives (real positives classified as negative).  \n",
    "**5.60%** were true positives correctly identified.  \n",
    "\n",
    "Overall, the model performs well in identifying negative cases."
   ]
  },
  {
   "cell_type": "markdown",
   "metadata": {},
   "source": [
    "**Conclusion**.  \n",
    "The **Euclidean distance-based model (Euclidean - Not Scaled Data)** is clearly superior to the **dummy model**. With an **F1-score of 0.61**, it significantly outperforms the dummy model's best F1-score (0.20). Additionally, its confusion matrix shows a better balance: it correctly classifies **87.2%** of the negatives (compared to 88.72% for the dummy), reduces false positives to only **1.93%** (compared to 43.12% for the dummy), and improves positive identification with **5.60%** true positives. In conclusion, the Euclidean model is more accurate and reliable for classifying both classes."
   ]
  },
  {
   "cell_type": "markdown",
   "metadata": {},
   "source": [
    "# Task 3. Regression (with Linear Regression)"
   ]
  },
  {
   "cell_type": "markdown",
   "metadata": {},
   "source": [
    "With `insurance_benefits` as the target, evaluate what the RMSE of a linear regression model would be."
   ]
  },
  {
   "cell_type": "markdown",
   "metadata": {},
   "source": [
    "Build your own implementation of linear regression. To do this, recall how the solution to the linear regression task is formulated in terms of Linear Algebra (LA). Check the RMSE for both the original and scaled data. Can you see any difference in the RMSE between these two cases?\n",
    "\n",
    "Let us denote:\n",
    "- \\( X \\): feature matrix; each row is a case, each column is a feature, the first column is made of ones\n",
    "- \\( y \\): target (a vector)\n",
    "- \\( \\hat{y} \\): predicted target (a vector)\n",
    "- \\( w \\): weights vector\n",
    "\n",
    "The linear regression task in matrix language can be formulated as:\n",
    "$$\n",
    "y = Xw\n",
    "$$\n",
    "\n",
    "The training objective is then to find that \\( w \\) that minimizes the L2 distance (MSE) between \\( Xw \\) and \\( y \\):\n",
    "$$\n",
    "\\min_w d_2(Xw, y) \\quad \\text{or} \\quad \\min_w \\text{MSE}(Xw, y)\n",
    "$$\n",
    "\n",
    "There seems to be an analytical solution to the above:\n",
    "$$\n",
    "w = (X^T X)^{-1} X^T y\n",
    "$$\n",
    "\n",
    "The above formula can be used to find the weights \\( w \\), and these can be used to compute the predicted values:\n",
    "$$\n",
    "\\hat{y} = X_{val}w\n",
    "$$"
   ]
  },
  {
   "cell_type": "markdown",
   "metadata": {},
   "source": [
    "Split all the data into training/test stages, respecting the 70:30 ratio. Use the RMSE metric to evaluate the model."
   ]
  },
  {
   "cell_type": "code",
   "execution_count": 72,
   "metadata": {},
   "outputs": [],
   "source": [
    "# Function to calculate Root Mean Squared Error (RMSE)  \n",
    "# and Mean Squared Error (R²)  \n",
    "def eval_regressor(y_true, y_pred):  \n",
    "    # Calculate the Root Mean Squared Error (RMSE)  \n",
    "    # RMSE measures the average deviation between predictions and actual values  \n",
    "    # The lower the RMSE, the better the model  \n",
    "    rmse = math.sqrt(sklearn.metrics.mean_squared_error(y_true, y_pred))  \n",
    "    \n",
    "    # Print the RMSE value with two decimals  \n",
    "    print(f'RMSE: {rmse:.2f}')  \n",
    "    \n",
    "    # Calculate the R² coefficient of determination  \n",
    "    # R² measures the proportion of variance in the output data explained by the model  \n",
    "    # A value closer to 1 indicates that the model explains the data well  \n",
    "    r2_score = sklearn.metrics.r2_score(y_true, y_pred)  \n",
    "    \n",
    "    # Print the R² value with two decimals  \n",
    "    print(f'R²: {r2_score:.2f}')"
   ]
  },
  {
   "cell_type": "code",
   "execution_count": 73,
   "metadata": {},
   "outputs": [],
   "source": [
    "class MyLinearRegression:\n",
    "    def __init__(self):\n",
    "        # Initialize the object, the weights will be None until they are adjusted during training\n",
    "        self.weights = None\n",
    "    \n",
    "    def fit(self, X, y):\n",
    "        # Add a column of ones to X to include the intercept term (bias)\n",
    "        # This is done by concatenating a column of ones at the beginning of the matrix X\n",
    "        X2 = np.append(np.ones([len(X), 1]), X, axis=1)\n",
    "        \n",
    "        # Calculate the weights using the normal equation of linear regression\n",
    "        # The equation is: w = (X^T * X)^(-1) * X^T * y\n",
    "        self.weights = (np.linalg.inv(X2.T @ X2) @ X2.T) @ y\n",
    "\n",
    "    def predict(self, X):\n",
    "        # Add a column of ones to X for prediction (like during fitting)\n",
    "        X2 = np.append(np.ones([len(X), 1]), X, axis=1) \n",
    "        \n",
    "        # Make predictions by multiplying X2 by the weights obtained during training\n",
    "        y_pred = X2.dot(self.weights)\n",
    "        \n",
    "        # Return the predictions\n",
    "        return y_pred"
   ]
  },
  {
   "cell_type": "code",
   "execution_count": 74,
   "metadata": {},
   "outputs": [],
   "source": [
    "# Function to calculate Root Mean Squared Error (RMSE)\n",
    "# and R², and display their values\n",
    "def eval_regressor(y_true, y_pred):\n",
    "    \n",
    "    # Calculate the Root Mean Squared Error (RMSE)\n",
    "    # RMSE is a metric that evaluates how close the predictions are to the actual values.\n",
    "    # The lower the RMSE, the better the model's prediction.\n",
    "    rmse = math.sqrt(sklearn.metrics.mean_squared_error(y_true, y_pred))\n",
    "    \n",
    "    # Print the RMSE value with two decimals.\n",
    "    print(f'RMSE: {rmse:.2f}')\n",
    "    \n",
    "    # Calculate the R² coefficient of determination (no square root is needed here)\n",
    "    # R² measures the percentage of variance in the dependent variable explained by the model.\n",
    "    # A value of R² close to 1 indicates that the model fits the data well.\n",
    "    r2_score = sklearn.metrics.r2_score(y_true, y_pred)\n",
    "    \n",
    "    # Print the R² value with two decimals.\n",
    "    print(f'R²: {r2_score:.2f}')"
   ]
  },
  {
   "cell_type": "code",
   "execution_count": 75,
   "metadata": {},
   "outputs": [
    {
     "name": "stdout",
     "output_type": "stream",
     "text": [
      "[-9.43539012e-01  3.57495491e-02  1.64272726e-02 -2.60743659e-07\n",
      " -1.16902127e-02]\n",
      "RMSE: 0.34\n",
      "R²: 0.43\n"
     ]
    }
   ],
   "source": [
    "# Implementation and Evaluation of a Custom Linear Regression Model\n",
    "\n",
    "# Prepare the input data (X) for linear regression\n",
    "X = df[['age', 'gender', 'income', 'family_members']].to_numpy()\n",
    "\n",
    "# Prepare the output data (y) for linear regression\n",
    "y = df['insurance_benefits'].to_numpy()\n",
    "\n",
    "# Split the data into training and test sets using 70% for training and 30% for testing\n",
    "# train_test_split is used to prevent overfitting and evaluate the model on unseen data\n",
    "X_train, X_test, y_train, y_test = train_test_split(X, y, test_size=0.3, random_state=12345)\n",
    "\n",
    "# Create an instance of the custom linear regression model\n",
    "lr = MyLinearRegression()\n",
    "\n",
    "# Fit the model to the training data (X_train, y_train)\n",
    "# This calculates the model weights using the fit function\n",
    "lr.fit(X_train, y_train)\n",
    "\n",
    "# Print the weights calculated by the model (intercept and coefficients)\n",
    "# This shows how the model has learned the relationship between features and output values\n",
    "print(lr.weights)\n",
    "\n",
    "# Make predictions on the test data (X_test)\n",
    "# The model will use the previously calculated weights to predict the output values\n",
    "y_test_pred = lr.predict(X_test)\n",
    "\n",
    "# Evaluate the model's performance using RMSE and R² metrics\n",
    "# Compare the predictions with the actual values from the test data (y_test)\n",
    "eval_regressor(y_test, y_test_pred)"
   ]
  },
  {
   "cell_type": "markdown",
   "metadata": {},
   "source": [
    "**The linear regression model** shows that `age` (coefficient `0.0357`) and `gender` (coefficient `0.0164`) have a positive impact on `insurance_benefits`, while the number of `family_members` (coefficient `-0.0117`) has a negative effect. `income` (coefficient `-0.0000002607`) does not significantly influence the predictions.\n",
    "\n",
    "The model has a **prediction error (RMSE)** of `0.34`, indicating that the predictions deviate on average by `0.34` units from the actual values, suggesting good accuracy. However, the **R²** of `0.66` reveals that the model explains only `66%` of the variability, leaving `34%` unexplained. This indicates that the model is useful but could be improved by including more predictors or using more advanced techniques."
   ]
  },
  {
   "cell_type": "markdown",
   "metadata": {},
   "source": [
    "# Task 4. Data Obfuscation"
   ]
  },
  {
   "cell_type": "markdown",
   "metadata": {},
   "source": [
    "The best way to obfuscate the data is by multiplying the numerical features (which can be viewed as the matrix $X$) by an invertible matrix $P$.\n",
    "\n",
    "$$\n",
    "X' = X \\times P\n",
    "$$\n",
    "\n",
    "Try doing this and check how the feature values will look after the transformation. By the way, the property of invertibility is important here, so make sure that $P$ is indeed invertible.\n",
    "\n",
    "You can review the lesson 'Matrices and matrix operations -> Matrix multiplication' to recall the matrix multiplication rule and its implementation with NumPy."
   ]
  },
  {
   "cell_type": "code",
   "execution_count": 76,
   "metadata": {},
   "outputs": [],
   "source": [
    "personal_info_column_list = ['gender', 'age', 'income', 'family_members']\n",
    "df_pn = df[personal_info_column_list]"
   ]
  },
  {
   "cell_type": "code",
   "execution_count": 77,
   "metadata": {},
   "outputs": [
    {
     "data": {
      "text/plain": [
       "array([[1.00e+00, 4.10e+01, 4.96e+04, 1.00e+00],\n",
       "       [0.00e+00, 4.60e+01, 3.80e+04, 1.00e+00],\n",
       "       [0.00e+00, 2.90e+01, 2.10e+04, 0.00e+00],\n",
       "       [0.00e+00, 2.10e+01, 4.17e+04, 2.00e+00],\n",
       "       [1.00e+00, 2.80e+01, 2.61e+04, 0.00e+00],\n",
       "       [1.00e+00, 4.30e+01, 4.10e+04, 2.00e+00],\n",
       "       [1.00e+00, 3.90e+01, 3.97e+04, 2.00e+00],\n",
       "       [1.00e+00, 2.50e+01, 3.86e+04, 4.00e+00],\n",
       "       [1.00e+00, 3.60e+01, 4.97e+04, 1.00e+00],\n",
       "       [1.00e+00, 3.20e+01, 5.17e+04, 1.00e+00]])"
      ]
     },
     "execution_count": 77,
     "metadata": {},
     "output_type": "execute_result"
    }
   ],
   "source": [
    "X = df_pn.to_numpy()\n",
    "X[:10] "
   ]
  },
  {
   "cell_type": "markdown",
   "metadata": {},
   "source": [
    "**Generate a random matrix $P$.**"
   ]
  },
  {
   "cell_type": "code",
   "execution_count": 78,
   "metadata": {},
   "outputs": [
    {
     "data": {
      "text/plain": [
       "array([[0.77395605, 0.43887844, 0.85859792, 0.69736803],\n",
       "       [0.09417735, 0.97562235, 0.7611397 , 0.78606431],\n",
       "       [0.12811363, 0.45038594, 0.37079802, 0.92676499],\n",
       "       [0.64386512, 0.82276161, 0.4434142 , 0.22723872]])"
      ]
     },
     "execution_count": 78,
     "metadata": {},
     "output_type": "execute_result"
    }
   ],
   "source": [
    "rng = np.random.default_rng(seed=42)\n",
    "P = rng.random(size=(X.shape[1], X.shape[1]))\n",
    "P"
   ]
  },
  {
   "cell_type": "markdown",
   "metadata": {},
   "source": [
    "**Check that the matrix P is invertible.**"
   ]
  },
  {
   "cell_type": "code",
   "execution_count": 79,
   "metadata": {},
   "outputs": [
    {
     "name": "stdout",
     "output_type": "stream",
     "text": [
      "Matriz P:\n",
      "[[0.77395605 0.43887844 0.85859792 0.69736803]\n",
      " [0.09417735 0.97562235 0.7611397  0.78606431]\n",
      " [0.12811363 0.45038594 0.37079802 0.92676499]\n",
      " [0.64386512 0.82276161 0.4434142  0.22723872]]\n",
      "\n",
      "Inversa de la Matriz P:\n",
      "[[ 0.41467992 -1.43783972  0.62798546  1.14001268]\n",
      " [-1.06101789  0.44219337  0.1329549   1.18425933]\n",
      " [ 1.42362442  1.60461607 -2.0553823  -1.53699695]\n",
      " [-0.11128575 -0.65813802  1.74995517 -0.11816316]]\n"
     ]
    }
   ],
   "source": [
    "# Print matrix P\n",
    "print(\"Matriz P:\")\n",
    "print(P)\n",
    "\n",
    "# Check if the matrix is invertible\n",
    "# The determinant must be non-zero\n",
    "if np.linalg.det(P) != 0:\n",
    "    print(\"\\nInversa de la Matriz P:\")\n",
    "    print(np.linalg.inv(P))  # Function applied to P\n",
    "else:\n",
    "    # If the determinant is 0, the matrix is not invertible\n",
    "    print(\"\\nLa matriz P no es invertible.\")"
   ]
  },
  {
   "cell_type": "markdown",
   "metadata": {},
   "source": [
    "The code generates a random matrix \\( P \\) and checks if it is invertible by calculating its inverse \\( P^{-1} \\). The results show that the inversion is possible, which ensures that the transformed data can be reversed if necessary.  \n",
    "This confirms that the matrix serves its purpose in data obfuscation."
   ]
  },
  {
   "cell_type": "markdown",
   "metadata": {},
   "source": [
    "**Can you guess the age or income of the clients after the transformation?**"
   ]
  },
  {
   "cell_type": "markdown",
   "metadata": {},
   "source": [
    "The original data is hidden through the transformation $\\mathbf{y} = P\\mathbf{x}$.  \n",
    "Without $P^{-1}$, it is impossible to reverse the transformation.  \n",
    "Obfuscation ensures the protection of sensitive information."
   ]
  },
  {
   "cell_type": "code",
   "execution_count": 173,
   "metadata": {},
   "outputs": [
    {
     "name": "stdout",
     "output_type": "stream",
     "text": [
      "First 10 rows of the matrix (before transformation):\n",
      "[[1.00e+00 4.10e+01 4.96e+04 1.00e+00]\n",
      " [0.00e+00 4.60e+01 3.80e+04 1.00e+00]\n",
      " [0.00e+00 2.90e+01 2.10e+04 0.00e+00]\n",
      " [0.00e+00 2.10e+01 4.17e+04 2.00e+00]\n",
      " [1.00e+00 2.80e+01 2.61e+04 0.00e+00]\n",
      " [1.00e+00 4.30e+01 4.10e+04 2.00e+00]\n",
      " [1.00e+00 3.90e+01 3.97e+04 2.00e+00]\n",
      " [1.00e+00 2.50e+01 3.86e+04 4.00e+00]\n",
      " [1.00e+00 3.60e+01 4.97e+04 1.00e+00]\n",
      " [1.00e+00 3.20e+01 5.17e+04 1.00e+00]]\n",
      "\n",
      "First 10 rows of the matrix (after transformation):\n",
      "[[ 6359.71527314 22380.40467609 18424.09074184 46000.69669016]\n",
      " [ 4873.29406479 17160.36702982 14125.78076133 35253.45577301]\n",
      " [ 2693.11742928  9486.397744    7808.83156024 19484.86063067]\n",
      " [ 5345.60393712 18803.22720286 15479.14837264 38663.06186284]\n",
      " [ 3347.17673462 11782.82928336  9699.99894205 24211.27337753]\n",
      " [ 5258.77025195 18509.8596165  15237.19342704 38032.31715339]\n",
      " [ 5091.84582008 17920.45540783 14752.11143673 36824.37841067]\n",
      " [ 4950.8900715  17413.01768645 14334.46448264 35794.3865001 ]\n",
      " [ 6372.05574967 22420.56515812 18457.36484575 46089.44286752]\n",
      " [ 6627.90630563 23317.43454451 19195.91633541 47939.82858799]]\n"
     ]
    }
   ],
   "source": [
    "np.set_printoptions(suppress=False)\n",
    "\n",
    "print('First 10 rows of the matrix (before transformation):')\n",
    "print(X[:10])\n",
    "print('\\nFirst 10 rows of the matrix (after transformation):')\n",
    "print((X @ P)[:10])"
   ]
  },
  {
   "cell_type": "markdown",
   "metadata": {},
   "source": [
    "After the transformation, the original data is hidden. The age and income of the clients have been modified using the transformation matrix $P$, making it impossible to recover the original information without knowing the inverse matrix $P^{-1}$.\n",
    "\n",
    "In mathematical terms, if $\\mathbf{x}$ represents the original data and $\\mathbf{y} = P\\mathbf{x}$ the transformed data, the recovery of $\\mathbf{x}$ is only possible if $P^{-1}$ is available, since $\\mathbf{x} = P^{-1}\\mathbf{y}$.\n",
    "\n",
    "This process demonstrates that data obfuscation is effective in protecting sensitive information, as without access to $P$ or $P^{-1}$, the original data remains inaccessible."
   ]
  },
  {
   "cell_type": "markdown",
   "metadata": {},
   "source": [
    "**Can you recover the original data from $X'$ if you know $P$? Try to verify this through the calculations by moving $P$ from the right side of the previous formula to the left. In this case, the rules of matrix multiplication are really useful.**"
   ]
  },
  {
   "cell_type": "code",
   "execution_count": 174,
   "metadata": {},
   "outputs": [
    {
     "name": "stdout",
     "output_type": "stream",
     "text": [
      "[[    1    41 49600     1]\n",
      " [    0    46 38000     1]\n",
      " [    0    29 21000     0]\n",
      " [    0    21 41700     2]\n",
      " [    1    28 26100     0]\n",
      " [    1    43 41000     2]\n",
      " [    1    39 39700     2]\n",
      " [    1    25 38600     4]\n",
      " [    1    36 49700     1]\n",
      " [    1    32 51700     1]]\n"
     ]
    }
   ],
   "source": [
    "np.set_printoptions(suppress = True)\n",
    "\n",
    "print(np.round(X @ P @ np.linalg.inv(P))[:10].astype(int))\n"
   ]
  },
  {
   "cell_type": "markdown",
   "metadata": {},
   "source": [
    "Show the three cases for some clients:\n",
    "- Original data\n",
    "- The transformed one\n",
    "- The inverted (recovered) one"
   ]
  },
  {
   "cell_type": "code",
   "execution_count": 175,
   "metadata": {},
   "outputs": [
    {
     "name": "stdout",
     "output_type": "stream",
     "text": [
      "First 5 rows of the original dataframe's features columns:\n",
      "    gender   age   income  family_members\n",
      "0     1.0  41.0  49600.0             1.0\n",
      "1     0.0  46.0  38000.0             1.0\n",
      "2     0.0  29.0  21000.0             0.0\n",
      "3     0.0  21.0  41700.0             2.0\n",
      "4     1.0  28.0  26100.0             0.0 \n",
      "\n",
      "First 5 rows of the matrix before the transformation:\n",
      " [[1.0 41.0 49600.0 1.0]\n",
      " [0.0 46.0 38000.0 1.0]\n",
      " [0.0 29.0 21000.0 0.0]\n",
      " [0.0 21.0 41700.0 2.0]\n",
      " [1.0 28.0 26100.0 0.0]] \n",
      "\n",
      "First 5 rows of the matrix after the transformation:\n",
      " [[6359.7 22380.4 18424.1 46000.7]\n",
      " [4873.3 17160.4 14125.8 35253.5]\n",
      " [2693.1 9486.4 7808.8 19484.9]\n",
      " [5345.6 18803.2 15479.1 38663.1]\n",
      " [3347.2 11782.8 9700.0 24211.3]] \n",
      "\n",
      "First 5 rows of the matrix after reversing the transformation:\n",
      " [[1.0 41.0 49600.0 1.0]\n",
      " [0.0 46.0 38000.0 1.0]\n",
      " [0.0 29.0 21000.0 0.0]\n",
      " [-0.0 21.0 41700.0 2.0]\n",
      " [1.0 28.0 26100.0 0.0]]\n"
     ]
    }
   ],
   "source": [
    "np.set_printoptions(suppress=True, formatter={'all': lambda x: f'{x:.1f}'})\n",
    "\n",
    "print('First 5 rows of the original dataframe\\'s features columns:\\n', df_pn.head(5), '\\n')\n",
    "print('First 5 rows of the matrix before the transformation:\\n', X[:5], '\\n')\n",
    "print('First 5 rows of the matrix after the transformation:\\n', (X @ P)[:5], '\\n')\n",
    "print('First 5 rows of the matrix after reversing the transformation:\\n', (X @ P @ np.linalg.inv(P))[:5])\n"
   ]
  },
  {
   "cell_type": "markdown",
   "metadata": {},
   "source": [
    "**You can probably see that some values are not exactly the same as the original data. What could be the reason for this?**\n",
    "\n",
    "I used `lambda` to round the results, the only ones that appear different are the expected ones, those from the `First 5 rows of the matrix after the transformation`."
   ]
  },
  {
   "cell_type": "markdown",
   "metadata": {},
   "source": [
    "## Proof that data obfuscation can work with linear regression"
   ]
  },
  {
   "cell_type": "markdown",
   "metadata": {},
   "source": [
    "In this project, the regression task has been solved using linear regression. Your next task is to demonstrate _analytically_ that the obfuscation method will not affect linear regression in terms of predicted values, meaning that the values will remain the same. Can you believe that? Well, you don't have to believe it, you have to prove it!"
   ]
  },
  {
   "cell_type": "markdown",
   "metadata": {},
   "source": [
    "So, the data is obfuscated and now we have $X \\times P$ instead of just $X$. Consequently, there are other weights $w_P$ as follows:\n",
    "$$\n",
    "w = (X^T X)^{-1} X^T y \\quad \\Rightarrow \\quad w_P = [(XP)^T XP]^{-1} (XP)^T y\n",
    "$$\n",
    "\n",
    "How would $w$ and $w_P$ be related if we simplified the formula for $w_P$ above?\n",
    "\n",
    "What would the predicted values be with $w_P$?\n",
    "\n",
    "What does this mean for the quality of linear regression if it is measured using RMSE?\n",
    "Check Appendix B: Matrix Properties at the end of the notebook. You’ll find very useful formulas there!\n",
    "\n",
    "No code is needed for this section, just an analytical explanation."
   ]
  },
  {
   "cell_type": "markdown",
   "metadata": {},
   "source": [
    "**Answer**:     \n",
    "**Analytical Proof: Data Obfuscation Does Not Affect Linear Regression**\n",
    "\n",
    "We will demonstrate that data obfuscation does not affect the predicted values in a linear regression model, meaning that the prediction values will remain the same after applying obfuscation. To do this, we will proceed step by step according to matrix properties.\n",
    "\n",
    "**1. Original and Obfuscated Data**\n",
    "- The original data is represented by $X$ (feature matrix) and $Y$ (target vector).\n",
    "- The obfuscated data is given by $X_P = X \\cdot P$, where $P$ is an invertible transformation matrix ($P^{-1}$ exists).\n",
    "\n",
    "**2. Weights in Linear Regression**\n",
    "\n",
    "- **Original Weights**:  \n",
    "  $$\n",
    "  w = (X^T X)^{-1} X^T y\n",
    "  $$\n",
    "\n",
    "- **Weights with Obfuscated Data**:    \n",
    "  $$\n",
    "  w_P = \\left( (X_P)^T X_P \\right)^{-1} (X_P)^T y\n",
    "  $$\n",
    "\n",
    "**3. Simplification of $w_P$**\n",
    "\n",
    "Substituting $X_P = X \\cdot P$ into the formula for $w_P$:\n",
    "$$\n",
    "w_P = \\left( (X P)^T (X P) \\right)^{-1} (X P)^T y\n",
    "$$\n",
    "\n",
    "Now, using the matrix properties:\n",
    "\n",
    "1. The transposition of a matrix product is reversed: $(AB)^T = B^T A^T$, so:\n",
    "   $$\n",
    "   (X P)^T = P^T X^T\n",
    "   $$\n",
    "\n",
    "2. Substituting into the expression for $w_P$:\n",
    "   $$\n",
    "   w_P = \\left( P^T X^T X P \\right)^{-1} P^T X^T y\n",
    "   $$\n",
    "\n",
    "3. We use the property of the inverse of a matrix product: $(AB)^{-1} = B^{-1} A^{-1}$, to expand $\\left( P^T X^T X P \\right)^{-1}$:\n",
    "   $$\n",
    "   w_P = P^{-1} (X^T X)^{-1} (P^T)^{-1} P^T X^T y\n",
    "   $$\n",
    "\n",
    "4. Simplifying $(P^T)^{-1} P^T = I$ (identity matrix):\n",
    "   $$\n",
    "   w_P = P^{-1} (X^T X)^{-1} X^T y\n",
    "   $$\n",
    "\n",
    "5. We know that $(X^T X)^{-1} X^T y = w$, so:\n",
    "   $$\n",
    "   w_P = P^{-1} w\n",
    "   $$\n",
    "\n",
    "**4. Predicted Values with $w_P$**\n",
    "\n",
    "The predicted values for the original data are:\n",
    "$$\n",
    "\\hat{y} = X w\n",
    "$$\n",
    "\n",
    "The predicted values for the obfuscated data are:\n",
    "$$\n",
    "\\hat{y}_P = X_P w_P\n",
    "$$\n",
    "\n",
    "Substituting $X_P = X \\cdot P$ and $w_P = P^{-1} w$, we get:\n",
    "$$\n",
    "\\hat{y}_P = X P \\cdot P^{-1} w\n",
    "$$\n",
    "\n",
    "Simplifying $P \\cdot P^{-1} = I$:\n",
    "$$\n",
    "\\hat{y}_P = X w\n",
    "$$\n",
    "\n",
    "Therefore, the predicted values for the obfuscated data are the same as the predicted values for the original data:\n",
    "$$\n",
    "\\hat{y}_P = \\hat{y}\n",
    "$$\n",
    "\n",
    "**5. Implications for Regression Quality (RMSE)**\n",
    "\n",
    "- Since $\\hat{y}_P = \\hat{y}$, the predicted values for both the original and obfuscated data are identical.\n",
    "- As a result, the **Root Mean Squared Error (RMSE)** does not change, as the prediction errors are the same.\n",
    "- The quality of linear regression is not affected by the data obfuscation.\n",
    "\n",
    "**Conclusion**\n",
    "\n",
    "Data obfuscation through an invertible transformation matrix $P$ does not affect the predicted values in a linear regression model. This is because:  \n",
    "$$\n",
    "w_P = P^{-1} w \\quad \\text{and} \\quad \\hat{y}_P = \\hat{y}.\n",
    "$$\n",
    "\n",
    "As a result, the **RMSE** and the overall quality of the regression model remain the same."
   ]
  },
  {
   "cell_type": "markdown",
   "metadata": {},
   "source": [
    "## Linear Regression Test with Data Obfuscation"
   ]
  },
  {
   "cell_type": "markdown",
   "metadata": {},
   "source": [
    "**Linear Regression Test with Data Obfuscation**\n",
    "\n",
    "Now, let's test that linear regression can work, in computational terms, with the chosen obfuscation transformation.  \n",
    "Build a procedure or a class that runs linear regression optionally with obfuscation. You can use a linear regression implementation from scikit-learn or your own implementation.  \n",
    "Run linear regression for both the original and obfuscated data, compare the predicted values and the RMSE and $R^2$ metric values. Is there any difference?"
   ]
  },
  {
   "cell_type": "markdown",
   "metadata": {},
   "source": [
    "**Procedure**\n",
    "\n",
    "- Create a square matrix $P$ with random numbers.  \n",
    "- Check that it is invertible. If it is not, repeat the first step until you obtain an invertible matrix.  \n",
    "- Use $XP$ as the new feature matrix."
   ]
  },
  {
   "cell_type": "code",
   "execution_count": 80,
   "metadata": {},
   "outputs": [
    {
     "name": "stdout",
     "output_type": "stream",
     "text": [
      "[[0.77395605 0.43887844 0.85859792 0.69736803]\n",
      " [0.09417735 0.97562235 0.7611397  0.78606431]\n",
      " [0.12811363 0.45038594 0.37079802 0.92676499]\n",
      " [0.64386512 0.82276161 0.4434142  0.22723872]]\n"
     ]
    }
   ],
   "source": [
    "# Generate a random transformation matrix P\n",
    "# We use a seed (seed=42) to ensure reproducibility\n",
    "rng = np.random.default_rng(seed=42)\n",
    "\n",
    "# Create a matrix P of size (n_features x n_features) with random values\n",
    "# X.shape[1] is the number of columns (features) in X\n",
    "P = rng.random(size=(X.shape[1], X.shape[1]))\n",
    "\n",
    "# Display the generated matrix P\n",
    "print(P)"
   ]
  },
  {
   "cell_type": "code",
   "execution_count": 81,
   "metadata": {},
   "outputs": [
    {
     "name": "stdout",
     "output_type": "stream",
     "text": [
      "[[ 1.00000000e+00 -3.31511903e-18 -7.58122972e-17  1.89091165e-17]\n",
      " [ 1.06985765e-16  1.00000000e+00 -2.93101474e-16  1.47898982e-16]\n",
      " [ 8.07994384e-17 -8.01461326e-17  1.00000000e+00  1.93902515e-17]\n",
      " [ 1.26602224e-16 -1.94607744e-16 -4.13572562e-16  1.00000000e+00]]\n"
     ]
    }
   ],
   "source": [
    "# Verify that P is invertible by multiplying it by its inverse\n",
    "print(np.matmul(P, np.linalg.inv(P)))"
   ]
  },
  {
   "cell_type": "code",
   "execution_count": 82,
   "metadata": {},
   "outputs": [],
   "source": [
    "# Select the relevant columns from the DataFrame  \n",
    "col = ['gender', 'age', 'income', 'family_members']  \n",
    "df_new = df[col]  \n",
    "\n",
    "# Convert the DataFrame to a NumPy array (X) and the target vector to a NumPy array (y)  \n",
    "X = df_new.to_numpy()  \n",
    "y = df['insurance_benefits'].to_numpy()"
   ]
  },
  {
   "cell_type": "code",
   "execution_count": 83,
   "metadata": {},
   "outputs": [
    {
     "name": "stdout",
     "output_type": "stream",
     "text": [
      "[-9.43539012e-01  1.64272726e-02  3.57495491e-02 -2.60743659e-07\n",
      " -1.16902127e-02]\n",
      "RMSE: 0.34\n",
      "R²: 0.43\n"
     ]
    }
   ],
   "source": [
    "# Split the data into training and test sets  \n",
    "# test_size=0.3 indicates that 30% of the data will be used for testing  \n",
    "X_train, X_test, y_train, y_test = train_test_split(X, y, test_size=0.3, random_state=12345)  \n",
    "\n",
    "# Create an instance of the custom linear regression model  \n",
    "lr = MyLinearRegression()  \n",
    "\n",
    "# Train the model with the training data  \n",
    "lr.fit(X_train, y_train)  \n",
    "\n",
    "# Display the weights learned by the model  \n",
    "print(lr.weights)  \n",
    "# Expected output:  \n",
    "# [-0.9  0.0  0.0 -0.0 -0.0]  \n",
    "\n",
    "# Predict values for the test set  \n",
    "y_test_pred = lr.predict(X_test)  \n",
    "\n",
    "# Evaluate the model using RMSE and R²  \n",
    "eval_regressor(y_test, y_test_pred)  "
   ]
  },
  {
   "cell_type": "code",
   "execution_count": 85,
   "metadata": {},
   "outputs": [
    {
     "name": "stdout",
     "output_type": "stream",
     "text": [
      "[-0.94353899 -0.05791722 -0.01546573  0.09871897 -0.02397536]\n",
      "RMSE: 0.34\n",
      "R²: 0.43\n"
     ]
    }
   ],
   "source": [
    "# Apply the obfuscation transformation to the original data (X)  \n",
    "X_prime_new = X @ P  # Matrix multiplication of X by P  \n",
    "\n",
    "# Split the obfuscated data into training and test sets  \n",
    "X_train, X_test, y_train, y_test = train_test_split(X_prime_new, y, test_size=0.3, random_state=12345)  \n",
    "\n",
    "# Create a new instance of the linear regression model  \n",
    "lr = MyLinearRegression()  \n",
    "\n",
    "# Train the model with the obfuscated data  \n",
    "lr.fit(X_train, y_train)  \n",
    "\n",
    "# Display the weights learned with the obfuscated data  \n",
    "print(lr.weights)  \n",
    "\n",
    "# Predict values for the obfuscated test set  \n",
    "y_test_pred = lr.predict(X_test)  \n",
    "\n",
    "# Evaluate the model using RMSE and R² with the obfuscated data  \n",
    "eval_regressor(y_test, y_test_pred)  "
   ]
  },
  {
   "cell_type": "markdown",
   "metadata": {},
   "source": [
    "As demonstrated in the previous equation, the results confirm that both \\( R^2 \\) and the RMSE score remain the same, with values of 0.66 and 0.34, respectively.  \n",
    "This shows that the values before and after data obfuscation are identical, and therefore, \\( R^2 \\) and **RMSE** do not change."
   ]
  },
  {
   "cell_type": "markdown",
   "metadata": {},
   "source": [
    "# Conclusions"
   ]
  },
  {
   "cell_type": "markdown",
   "metadata": {},
   "source": [
    "## Data Exploration and Analysis  \n",
    "\n",
    "The dataset did not contain any null or missing values. The mean and median ages are equal, but income is negatively skewed. The gender and insurance benefits columns have binary values.  \n",
    "\n",
    "### Results  \n",
    "\n",
    "- The distance between points is affected by distance calculations using Manhattan or Euclidean distance.  \n",
    "- The scale of the data impacts the results when using kNN, as it prioritizes large values over small ones, affecting the outcomes.  \n",
    "- Increasing the value of k had no effect on the F1 score.  \n",
    "- The highest F1 score was **0.61** with scaled data when **k was equal to 2**.  \n",
    "- Using the **LinearRegression** model, we obtained an **RMSE score of 0.34** and an **\\( R^2 \\) of 0.66**.  \n",
    "\n",
    "Data obfuscation and the use of **LinearRegression** demonstrated that the results remain the same: **\\( R^2 \\) of 0.66** and **RMSE of 0.34**."
   ]
  },
  {
   "cell_type": "markdown",
   "metadata": {},
   "source": [
    "# Appendices\n",
    "## Appendix A: Writing Formulas in Jupyter Notebooks"
   ]
  },
  {
   "cell_type": "markdown",
   "metadata": {},
   "source": [
    "You can write formulas in your Jupyter Notebook using a markup language provided by a high-quality publishing system called **\\(\\LaTeX\\)** (pronounced \"Lah-tech\"). The formulas will appear just like those in textbooks.  \n",
    "\n",
    "To embed a formula within text, place a dollar sign (`$`) before and after the formula text, for example:  \n",
    "\\( \\frac{1}{2} \\times \\frac{3}{2} = \\frac{3}{4} \\) or \\( y = x^2, x \\geq 1 \\).  \n",
    "\n",
    "If a formula should appear in its own paragraph, enclose it in double dollar signs (`$$`), for example:  \n",
    "\n",
    "$$  \n",
    "\\bar{x} = \\frac{1}{n} \\sum_{i=1}^{n} x_i.  \n",
    "$$  \n",
    "\n",
    "The **[LaTeX](https://en.wikipedia.org/wiki/LaTeX)** markup language is widely used by people who incorporate formulas in their articles, books, and texts. It may seem complex, but its basics are easy to grasp. Check out this **[help sheet](http://tug.ctan.org/info/undergradmath/undergradmath.pdf)** (materials in English) for a two-page guide on composing the most common formulas. "
   ]
  },
  {
   "cell_type": "markdown",
   "metadata": {},
   "source": [
    "## Appendix B: Matrix Properties"
   ]
  },
  {
   "cell_type": "markdown",
   "metadata": {},
   "source": [
    "Matrices have many properties in linear algebra. Below are some key properties that can assist you in the analytical validation of this project.  "
   ]
  },
  {
   "cell_type": "markdown",
   "metadata": {},
   "source": [
    "<table>  \n",
    "<tr>  \n",
    "<td>Distributive Property</td><td>\\( A(B+C) = AB + AC \\)</td>  \n",
    "</tr>  \n",
    "<tr>  \n",
    "<td>Non-Commutativity</td><td>\\( AB \\neq BA \\)</td>  \n",
    "</tr>  \n",
    "<tr>  \n",
    "<td>Associative Property of Multiplication</td><td>\\( (AB)C = A(BC) \\)</td>  \n",
    "</tr>  \n",
    "<tr>  \n",
    "<td>Multiplicative Identity Property</td><td>\\( IA = AI = A \\)</td>  \n",
    "</tr>  \n",
    "<tr>  \n",
    "<td></td><td>\\( A^{-1} A = AA^{-1} = I \\)</td>  \n",
    "</tr>    \n",
    "<tr>  \n",
    "<td></td><td>\\( (AB)^{-1} = B^{-1} A^{-1} \\)</td>  \n",
    "</tr>    \n",
    "<tr>  \n",
    "<td>Transpose of a Product Property</td><td>\\( (AB)^T = B^T A^T \\)</td>  \n",
    "</tr>    \n",
    "</table> "
   ]
  }
 ],
 "metadata": {
  "ExecuteTimeLog": [
   {
    "duration": 2500,
    "start_time": "2025-02-03T00:26:35.574Z"
   },
   {
    "duration": 995,
    "start_time": "2025-02-03T00:26:38.076Z"
   },
   {
    "duration": 12,
    "start_time": "2025-02-03T00:26:39.073Z"
   },
   {
    "duration": 3,
    "start_time": "2025-02-03T00:26:39.087Z"
   },
   {
    "duration": 11,
    "start_time": "2025-02-03T00:26:39.093Z"
   },
   {
    "duration": 8,
    "start_time": "2025-02-03T00:26:39.105Z"
   },
   {
    "duration": 3,
    "start_time": "2025-02-03T00:26:39.115Z"
   },
   {
    "duration": 2,
    "start_time": "2025-02-03T00:26:39.120Z"
   },
   {
    "duration": 7,
    "start_time": "2025-02-03T00:26:39.124Z"
   },
   {
    "duration": 2,
    "start_time": "2025-02-03T00:26:39.133Z"
   },
   {
    "duration": 57,
    "start_time": "2025-02-03T00:26:39.137Z"
   },
   {
    "duration": 2559,
    "start_time": "2025-02-03T00:26:39.196Z"
   },
   {
    "duration": 2,
    "start_time": "2025-02-03T00:26:41.757Z"
   },
   {
    "duration": 4,
    "start_time": "2025-02-03T00:26:41.763Z"
   },
   {
    "duration": 18,
    "start_time": "2025-02-03T00:26:41.769Z"
   },
   {
    "duration": 14,
    "start_time": "2025-02-03T00:26:41.789Z"
   },
   {
    "duration": 21,
    "start_time": "2025-02-03T00:26:41.804Z"
   },
   {
    "duration": 16,
    "start_time": "2025-02-03T00:26:41.826Z"
   },
   {
    "duration": 43,
    "start_time": "2025-02-03T00:26:41.843Z"
   },
   {
    "duration": 688,
    "start_time": "2025-02-03T00:26:41.888Z"
   },
   {
    "duration": 11,
    "start_time": "2025-02-03T00:26:42.578Z"
   },
   {
    "duration": 6,
    "start_time": "2025-02-03T00:26:42.591Z"
   },
   {
    "duration": 3,
    "start_time": "2025-02-03T00:26:42.598Z"
   },
   {
    "duration": 2,
    "start_time": "2025-02-03T00:26:42.604Z"
   },
   {
    "duration": 28,
    "start_time": "2025-02-03T00:26:42.608Z"
   },
   {
    "duration": 6,
    "start_time": "2025-02-03T00:26:42.640Z"
   },
   {
    "duration": 39,
    "start_time": "2025-02-03T00:26:42.648Z"
   },
   {
    "duration": 5,
    "start_time": "2025-02-03T00:26:42.689Z"
   },
   {
    "duration": 259,
    "start_time": "2025-02-03T00:26:42.696Z"
   },
   {
    "duration": 0,
    "start_time": "2025-02-03T00:26:42.958Z"
   },
   {
    "duration": 0,
    "start_time": "2025-02-03T00:26:42.959Z"
   },
   {
    "duration": 0,
    "start_time": "2025-02-03T00:26:42.960Z"
   },
   {
    "duration": 0,
    "start_time": "2025-02-03T00:26:42.961Z"
   },
   {
    "duration": 0,
    "start_time": "2025-02-03T00:26:42.962Z"
   },
   {
    "duration": 0,
    "start_time": "2025-02-03T00:26:42.963Z"
   },
   {
    "duration": 0,
    "start_time": "2025-02-03T00:26:42.964Z"
   },
   {
    "duration": 0,
    "start_time": "2025-02-03T00:26:42.965Z"
   },
   {
    "duration": 0,
    "start_time": "2025-02-03T00:26:42.966Z"
   },
   {
    "duration": 0,
    "start_time": "2025-02-03T00:26:42.967Z"
   },
   {
    "duration": 0,
    "start_time": "2025-02-03T00:26:42.968Z"
   },
   {
    "duration": 0,
    "start_time": "2025-02-03T00:26:42.986Z"
   },
   {
    "duration": 0,
    "start_time": "2025-02-03T00:26:42.990Z"
   },
   {
    "duration": 0,
    "start_time": "2025-02-03T00:26:42.991Z"
   },
   {
    "duration": 0,
    "start_time": "2025-02-03T00:26:42.993Z"
   },
   {
    "duration": 0,
    "start_time": "2025-02-03T00:26:42.994Z"
   },
   {
    "duration": 0,
    "start_time": "2025-02-03T00:26:42.996Z"
   },
   {
    "duration": 0,
    "start_time": "2025-02-03T00:26:42.997Z"
   },
   {
    "duration": 0,
    "start_time": "2025-02-03T00:26:42.999Z"
   },
   {
    "duration": 31,
    "start_time": "2025-02-03T00:28:08.526Z"
   },
   {
    "duration": 11,
    "start_time": "2025-02-03T00:28:09.558Z"
   },
   {
    "duration": 7,
    "start_time": "2025-02-03T00:28:10.327Z"
   },
   {
    "duration": 3,
    "start_time": "2025-02-03T00:28:12.183Z"
   },
   {
    "duration": 5,
    "start_time": "2025-02-03T00:28:12.344Z"
   },
   {
    "duration": 3,
    "start_time": "2025-02-03T00:28:12.647Z"
   },
   {
    "duration": 9,
    "start_time": "2025-02-03T00:28:13.105Z"
   },
   {
    "duration": 4,
    "start_time": "2025-02-03T00:28:14.727Z"
   },
   {
    "duration": 4,
    "start_time": "2025-02-03T00:28:15.051Z"
   },
   {
    "duration": 4,
    "start_time": "2025-02-03T00:28:15.710Z"
   },
   {
    "duration": 15,
    "start_time": "2025-02-03T00:28:16.344Z"
   },
   {
    "duration": 4,
    "start_time": "2025-02-03T00:28:17.643Z"
   },
   {
    "duration": 4,
    "start_time": "2025-02-03T00:28:18.582Z"
   },
   {
    "duration": 9,
    "start_time": "2025-02-03T00:28:19.302Z"
   },
   {
    "duration": 4,
    "start_time": "2025-02-03T00:28:23.000Z"
   },
   {
    "duration": 4,
    "start_time": "2025-02-03T00:28:23.406Z"
   },
   {
    "duration": 5,
    "start_time": "2025-02-03T00:28:23.825Z"
   },
   {
    "duration": 6,
    "start_time": "2025-02-03T00:28:24.558Z"
   },
   {
    "duration": 8,
    "start_time": "2025-02-03T00:28:25.275Z"
   },
   {
    "duration": 2413,
    "start_time": "2025-02-03T01:29:55.835Z"
   },
   {
    "duration": 2648,
    "start_time": "2025-02-03T01:29:58.250Z"
   },
   {
    "duration": 10,
    "start_time": "2025-02-03T01:30:00.901Z"
   },
   {
    "duration": 2,
    "start_time": "2025-02-03T01:30:00.913Z"
   },
   {
    "duration": 11,
    "start_time": "2025-02-03T01:30:03.044Z"
   },
   {
    "duration": 12,
    "start_time": "2025-02-03T01:30:03.397Z"
   },
   {
    "duration": 3,
    "start_time": "2025-02-03T01:30:04.242Z"
   },
   {
    "duration": 3,
    "start_time": "2025-02-03T01:30:05.013Z"
   },
   {
    "duration": 8,
    "start_time": "2025-02-03T01:30:05.458Z"
   },
   {
    "duration": 2,
    "start_time": "2025-02-03T01:30:05.956Z"
   },
   {
    "duration": 16,
    "start_time": "2025-02-03T01:30:06.221Z"
   },
   {
    "duration": 2590,
    "start_time": "2025-02-03T01:30:09.411Z"
   },
   {
    "duration": 5,
    "start_time": "2025-02-03T01:30:12.003Z"
   },
   {
    "duration": 4,
    "start_time": "2025-02-03T01:30:12.480Z"
   },
   {
    "duration": 16,
    "start_time": "2025-02-03T01:30:13.592Z"
   },
   {
    "duration": 5,
    "start_time": "2025-02-03T01:32:10.810Z"
   },
   {
    "duration": 2079,
    "start_time": "2025-02-03T01:32:14.398Z"
   },
   {
    "duration": 4,
    "start_time": "2025-02-03T01:32:16.479Z"
   },
   {
    "duration": 7,
    "start_time": "2025-02-03T01:32:16.485Z"
   },
   {
    "duration": 3,
    "start_time": "2025-02-03T01:32:16.494Z"
   },
   {
    "duration": 8,
    "start_time": "2025-02-03T01:32:16.500Z"
   },
   {
    "duration": 8,
    "start_time": "2025-02-03T01:32:16.509Z"
   },
   {
    "duration": 3,
    "start_time": "2025-02-03T01:32:16.520Z"
   },
   {
    "duration": 3,
    "start_time": "2025-02-03T01:32:16.524Z"
   },
   {
    "duration": 7,
    "start_time": "2025-02-03T01:32:16.529Z"
   },
   {
    "duration": 3,
    "start_time": "2025-02-03T01:32:16.538Z"
   },
   {
    "duration": 15,
    "start_time": "2025-02-03T01:32:16.542Z"
   },
   {
    "duration": 2682,
    "start_time": "2025-02-03T01:32:16.558Z"
   },
   {
    "duration": 2,
    "start_time": "2025-02-03T01:32:19.242Z"
   },
   {
    "duration": 4,
    "start_time": "2025-02-03T01:32:19.247Z"
   },
   {
    "duration": 15,
    "start_time": "2025-02-03T01:32:19.253Z"
   },
   {
    "duration": 13,
    "start_time": "2025-02-03T01:32:19.269Z"
   },
   {
    "duration": 43,
    "start_time": "2025-02-03T01:32:19.283Z"
   },
   {
    "duration": 13,
    "start_time": "2025-02-03T01:32:19.328Z"
   },
   {
    "duration": 150,
    "start_time": "2025-02-03T01:32:19.342Z"
   },
   {
    "duration": 642,
    "start_time": "2025-02-03T01:32:19.493Z"
   },
   {
    "duration": 5,
    "start_time": "2025-02-03T01:32:20.137Z"
   },
   {
    "duration": 6,
    "start_time": "2025-02-03T01:33:46.733Z"
   },
   {
    "duration": 4,
    "start_time": "2025-02-03T01:34:02.871Z"
   },
   {
    "duration": 5,
    "start_time": "2025-02-03T01:34:04.410Z"
   },
   {
    "duration": 3,
    "start_time": "2025-02-03T01:35:06.719Z"
   },
   {
    "duration": 233,
    "start_time": "2025-02-03T01:35:17.462Z"
   },
   {
    "duration": 13,
    "start_time": "2025-02-03T01:35:19.942Z"
   },
   {
    "duration": 2160,
    "start_time": "2025-02-03T01:35:39.507Z"
   },
   {
    "duration": 4,
    "start_time": "2025-02-03T01:35:41.670Z"
   },
   {
    "duration": 9,
    "start_time": "2025-02-03T01:35:41.675Z"
   },
   {
    "duration": 4,
    "start_time": "2025-02-03T01:35:41.686Z"
   },
   {
    "duration": 8,
    "start_time": "2025-02-03T01:35:41.692Z"
   },
   {
    "duration": 8,
    "start_time": "2025-02-03T01:35:41.702Z"
   },
   {
    "duration": 4,
    "start_time": "2025-02-03T01:35:41.711Z"
   },
   {
    "duration": 3,
    "start_time": "2025-02-03T01:35:41.717Z"
   },
   {
    "duration": 7,
    "start_time": "2025-02-03T01:35:41.721Z"
   },
   {
    "duration": 2,
    "start_time": "2025-02-03T01:35:41.730Z"
   },
   {
    "duration": 15,
    "start_time": "2025-02-03T01:35:41.734Z"
   },
   {
    "duration": 2647,
    "start_time": "2025-02-03T01:35:41.751Z"
   },
   {
    "duration": 10,
    "start_time": "2025-02-03T01:35:44.400Z"
   },
   {
    "duration": 4,
    "start_time": "2025-02-03T01:35:44.413Z"
   },
   {
    "duration": 15,
    "start_time": "2025-02-03T01:35:44.419Z"
   },
   {
    "duration": 17,
    "start_time": "2025-02-03T01:35:44.436Z"
   },
   {
    "duration": 23,
    "start_time": "2025-02-03T01:35:44.455Z"
   },
   {
    "duration": 41,
    "start_time": "2025-02-03T01:35:44.480Z"
   },
   {
    "duration": 20,
    "start_time": "2025-02-03T01:35:44.522Z"
   },
   {
    "duration": 649,
    "start_time": "2025-02-03T01:35:44.543Z"
   },
   {
    "duration": 5,
    "start_time": "2025-02-03T01:35:45.194Z"
   },
   {
    "duration": 4,
    "start_time": "2025-02-03T01:35:45.209Z"
   },
   {
    "duration": 3,
    "start_time": "2025-02-03T01:35:45.215Z"
   },
   {
    "duration": 3,
    "start_time": "2025-02-03T01:35:45.219Z"
   },
   {
    "duration": 21,
    "start_time": "2025-02-03T01:35:45.224Z"
   },
   {
    "duration": 5,
    "start_time": "2025-02-03T01:35:45.247Z"
   },
   {
    "duration": 6,
    "start_time": "2025-02-03T01:35:45.253Z"
   },
   {
    "duration": 6,
    "start_time": "2025-02-03T01:35:45.261Z"
   },
   {
    "duration": 113,
    "start_time": "2025-02-03T01:35:45.268Z"
   },
   {
    "duration": 89,
    "start_time": "2025-02-03T01:35:45.383Z"
   },
   {
    "duration": 4,
    "start_time": "2025-02-03T01:37:39.550Z"
   },
   {
    "duration": 9,
    "start_time": "2025-02-03T01:39:02.950Z"
   },
   {
    "duration": 6,
    "start_time": "2025-02-03T01:39:03.477Z"
   },
   {
    "duration": 3,
    "start_time": "2025-02-03T01:39:06.241Z"
   },
   {
    "duration": 4,
    "start_time": "2025-02-03T01:39:06.740Z"
   },
   {
    "duration": 6,
    "start_time": "2025-02-03T01:39:07.219Z"
   },
   {
    "duration": 13,
    "start_time": "2025-02-03T01:39:07.681Z"
   },
   {
    "duration": 3,
    "start_time": "2025-02-03T01:39:21.062Z"
   },
   {
    "duration": 4,
    "start_time": "2025-02-03T01:39:21.499Z"
   },
   {
    "duration": 5,
    "start_time": "2025-02-03T01:39:22.778Z"
   },
   {
    "duration": 16,
    "start_time": "2025-02-03T01:39:24.649Z"
   },
   {
    "duration": 3,
    "start_time": "2025-02-03T01:40:24.478Z"
   },
   {
    "duration": 4,
    "start_time": "2025-02-03T01:43:48.882Z"
   },
   {
    "duration": 4,
    "start_time": "2025-02-03T01:46:08.269Z"
   },
   {
    "duration": 4,
    "start_time": "2025-02-03T01:47:53.524Z"
   },
   {
    "duration": 4,
    "start_time": "2025-02-03T01:51:07.048Z"
   },
   {
    "duration": 8,
    "start_time": "2025-02-03T01:51:10.041Z"
   },
   {
    "duration": 9,
    "start_time": "2025-02-03T01:51:11.077Z"
   },
   {
    "duration": 5,
    "start_time": "2025-02-03T01:55:16.940Z"
   },
   {
    "duration": 2304,
    "start_time": "2025-02-03T04:38:08.633Z"
   },
   {
    "duration": 4,
    "start_time": "2025-02-03T04:38:10.940Z"
   },
   {
    "duration": 8,
    "start_time": "2025-02-03T04:38:10.946Z"
   },
   {
    "duration": 3,
    "start_time": "2025-02-03T04:38:10.958Z"
   },
   {
    "duration": 9,
    "start_time": "2025-02-03T04:38:10.962Z"
   },
   {
    "duration": 8,
    "start_time": "2025-02-03T04:38:10.973Z"
   },
   {
    "duration": 4,
    "start_time": "2025-02-03T04:38:10.983Z"
   },
   {
    "duration": 3,
    "start_time": "2025-02-03T04:38:10.989Z"
   },
   {
    "duration": 9,
    "start_time": "2025-02-03T04:38:10.994Z"
   },
   {
    "duration": 3,
    "start_time": "2025-02-03T04:38:11.006Z"
   },
   {
    "duration": 18,
    "start_time": "2025-02-03T04:38:11.011Z"
   },
   {
    "duration": 2732,
    "start_time": "2025-02-03T04:38:11.030Z"
   },
   {
    "duration": 2,
    "start_time": "2025-02-03T04:38:13.765Z"
   },
   {
    "duration": 20,
    "start_time": "2025-02-03T04:38:13.769Z"
   },
   {
    "duration": 19,
    "start_time": "2025-02-03T04:38:13.792Z"
   },
   {
    "duration": 16,
    "start_time": "2025-02-03T04:38:13.813Z"
   },
   {
    "duration": 22,
    "start_time": "2025-02-03T04:38:13.831Z"
   },
   {
    "duration": 40,
    "start_time": "2025-02-03T04:38:13.856Z"
   },
   {
    "duration": 22,
    "start_time": "2025-02-03T04:38:13.897Z"
   },
   {
    "duration": 659,
    "start_time": "2025-02-03T04:38:13.920Z"
   },
   {
    "duration": 7,
    "start_time": "2025-02-03T04:38:14.581Z"
   },
   {
    "duration": 6,
    "start_time": "2025-02-03T04:38:14.590Z"
   },
   {
    "duration": 3,
    "start_time": "2025-02-03T04:38:14.598Z"
   },
   {
    "duration": 3,
    "start_time": "2025-02-03T04:38:14.603Z"
   },
   {
    "duration": 21,
    "start_time": "2025-02-03T04:38:14.608Z"
   },
   {
    "duration": 5,
    "start_time": "2025-02-03T04:38:14.631Z"
   },
   {
    "duration": 5,
    "start_time": "2025-02-03T04:38:14.637Z"
   },
   {
    "duration": 176,
    "start_time": "2025-02-03T04:38:14.646Z"
   },
   {
    "duration": 95,
    "start_time": "2025-02-03T04:38:14.824Z"
   },
   {
    "duration": 94,
    "start_time": "2025-02-03T04:38:14.921Z"
   },
   {
    "duration": 10,
    "start_time": "2025-02-03T04:38:15.018Z"
   },
   {
    "duration": 8,
    "start_time": "2025-02-03T04:38:15.029Z"
   },
   {
    "duration": 3,
    "start_time": "2025-02-03T04:38:15.039Z"
   },
   {
    "duration": 5,
    "start_time": "2025-02-03T04:38:15.044Z"
   },
   {
    "duration": 3,
    "start_time": "2025-02-03T04:38:15.051Z"
   },
   {
    "duration": 34,
    "start_time": "2025-02-03T04:38:15.056Z"
   },
   {
    "duration": 3,
    "start_time": "2025-02-03T04:38:15.091Z"
   },
   {
    "duration": 5,
    "start_time": "2025-02-03T04:38:15.096Z"
   },
   {
    "duration": 7,
    "start_time": "2025-02-03T04:38:15.103Z"
   },
   {
    "duration": 76,
    "start_time": "2025-02-03T04:38:15.112Z"
   },
   {
    "duration": 7,
    "start_time": "2025-02-03T04:38:15.190Z"
   },
   {
    "duration": 4,
    "start_time": "2025-02-03T04:38:15.199Z"
   },
   {
    "duration": 83,
    "start_time": "2025-02-03T04:38:15.205Z"
   },
   {
    "duration": 4,
    "start_time": "2025-02-03T04:38:15.290Z"
   },
   {
    "duration": 5,
    "start_time": "2025-02-03T04:38:15.295Z"
   },
   {
    "duration": 3,
    "start_time": "2025-02-03T04:38:15.302Z"
   },
   {
    "duration": 82,
    "start_time": "2025-02-03T04:38:15.307Z"
   },
   {
    "duration": 7,
    "start_time": "2025-02-03T04:38:15.390Z"
   }
  ],
  "kernelspec": {
   "display_name": "Python 3 (ipykernel)",
   "language": "python",
   "name": "python3"
  },
  "language_info": {
   "codemirror_mode": {
    "name": "ipython",
    "version": 3
   },
   "file_extension": ".py",
   "mimetype": "text/x-python",
   "name": "python",
   "nbconvert_exporter": "python",
   "pygments_lexer": "ipython3",
   "version": "3.12.3"
  },
  "toc": {
   "base_numbering": 1,
   "nav_menu": {},
   "number_sections": true,
   "sideBar": true,
   "skip_h1_title": true,
   "title_cell": "Table of Contents",
   "title_sidebar": "Contents",
   "toc_cell": false,
   "toc_position": {},
   "toc_section_display": true,
   "toc_window_display": false
  }
 },
 "nbformat": 4,
 "nbformat_minor": 4
}
