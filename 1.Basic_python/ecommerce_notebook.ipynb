{
 "cells": [
  {
   "cell_type": "markdown",
   "metadata": {
    "id": "jrvwNQJi0P9l"
   },
   "source": [
    "# Store One\n",
    "\n",
    "An e-commerce company, Store One, recently started collecting data about its customers.  \n",
    "Store One's ultimate goal is to better understand its customers' behavior and make data-driven decisions to improve their online experience.\n",
    "\n",
    "As part of the analytics team, your first task is to assess the quality of a sample of collected data and prepare it for future analysis."
   ]
  },
  {
   "cell_type": "markdown",
   "metadata": {
    "id": "2utuFkVZ0P9p"
   },
   "source": [
    "## 1. Exploring and Fixing the Data\n",
    "Store One aims to ensure consistency in data collection. As part of this initiative, the quality of data collected about users must be assessed. You have been asked to review the data collected and propose changes. Below you will see data about a particular user; review the data and identify any potential issues."
   ]
  },
  {
   "cell_type": "code",
   "execution_count": 1,
   "metadata": {
    "id": "v4ldWAes0P9q"
   },
   "outputs": [],
   "source": [
    "# Random User information\n",
    "\n",
    "user_id = '32415'\n",
    "user_name = ' mike_reed '\n",
    "user_age = 32.0\n",
    "fav_categories = ['ELECTRONICS', 'SPORT', 'BOOKS']"
   ]
  },
  {
   "cell_type": "markdown",
   "metadata": {
    "id": "v5J9NgXf0P9r"
   },
   "source": [
    "**Improvements:**\n",
    "\n",
    "1. The data type for `user_id` should be changed from a `string` to an `integer`.\n",
    "\n",
    "2. The variable `user_name` contains a string that has unnecessary spaces and an underscore between the first and last name. And  name and last name should be splitted.\n",
    "\n",
    "3. The data type for `user_age` is incorrect, it should be an `integer` instead of a  `float`.\n",
    "\n",
    "4. The list `fav_categories` contains uppercase strings. Instead, we should convert the values ​​in the list to lowercase."
   ]
  },
  {
   "cell_type": "markdown",
   "metadata": {
    "id": "qKAtWDqu0P9t"
   },
   "source": [
    "### 1.1 User Name\n",
    "\n",
    "Let's implement the changes we identified. First, we need to fix the problems with the `user_name` variable. As we saw, it has unnecessary spaces and an underscore as a separator between the first and last name."
   ]
  },
  {
   "cell_type": "code",
   "execution_count": 2,
   "metadata": {
    "id": "442z87Uq0P9t"
   },
   "outputs": [
    {
     "name": "stdout",
     "output_type": "stream",
     "text": [
      "User Name: mike reed\n"
     ]
    }
   ],
   "source": [
    "user_name = ' mike_reed '\n",
    "user_name = user_name.strip() # remove spaces in the original string\n",
    "user_name = user_name.replace(\"_\", \" \") # replace the underscore with the space\n",
    "\n",
    "# Results\n",
    "print('User Name:', user_name)"
   ]
  },
  {
   "cell_type": "markdown",
   "metadata": {
    "id": "g4YyN4WK0P9t"
   },
   "source": [
    "Next, we need to split the updated `user_name` into two substrings to get a list containing two values: the string for the first name and the string for the last name."
   ]
  },
  {
   "cell_type": "code",
   "execution_count": 3,
   "metadata": {
    "id": "Q1L1ARfY0P9u"
   },
   "outputs": [
    {
     "name": "stdout",
     "output_type": "stream",
     "text": [
      "User Name splitted: ['mike', 'reed']\n"
     ]
    }
   ],
   "source": [
    "user_name = 'mike reed'\n",
    "name_split = user_name.split(\" \") # split the string user_name\n",
    "\n",
    "# Results\n",
    "print('User Name splitted:', name_split)"
   ]
  },
  {
   "cell_type": "markdown",
   "metadata": {
    "id": "-VWZkZtc0P9u"
   },
   "source": [
    "### 1.2 User Age\n",
    "\n",
    "Now we need to work with the `user_age` variable. As we already mentioned, it has an incorrect data type. Let's fix this problem by transforming the data type and displaying the final result."
   ]
  },
  {
   "cell_type": "code",
   "execution_count": 4,
   "metadata": {
    "id": "WPpidP470P9u"
   },
   "outputs": [
    {
     "name": "stdout",
     "output_type": "stream",
     "text": [
      "Converted user_age to int.\n"
     ]
    }
   ],
   "source": [
    "user_age = 32.0\n",
    "user_age = int(user_age) # change the data type for the age of a user\n",
    "\n",
    "# Check the result\n",
    "if isinstance(user_age, int):\n",
    "    print(\"Converted user_age to int.\")\n",
    "else:\n",
    "    print(\"user_age is not an int.\")\n"
   ]
  },
  {
   "cell_type": "markdown",
   "metadata": {
    "id": "xdfgaKd60P9v"
   },
   "source": [
    "We need to consider scenarios where the value of `user_age` cannot be converted to an integer. To prevent our system from crashing, we need to take measures in advance.\n",
    "\n",
    "**Write a code that attempts to convert the variable `user_age` to an integer and assigns the transformed value to `user_age_int`. If the attempt fails, we display a message asking the user to provide his or her age as a numerical value with the message: `Please provide your age as a numerical value.`**"
   ]
  },
  {
   "cell_type": "code",
   "execution_count": 5,
   "metadata": {
    "id": "duI5zn_O0P9v"
   },
   "outputs": [
    {
     "name": "stdout",
     "output_type": "stream",
     "text": [
      "Please provide your age as a numerical value.\n"
     ]
    }
   ],
   "source": [
    "\n",
    "user_age = 'twenty seven' # Here is the variable that stores the age as a string.\n",
    "\n",
    "# Write a code that tries to transform user_age into an integer and if it fails, prints the specified message \n",
    "\n",
    "\n",
    "try:\n",
    "    user_age_int = int(user_age)\n",
    "except ValueError:\n",
    "    print(\"Please provide your age as a numerical value.\")"
   ]
  },
  {
   "cell_type": "markdown",
   "metadata": {
    "id": "Q04i6KQH0P9v"
   },
   "source": [
    "### 1.3 Favorite Categories \n",
    "\n",
    "**Finally, consider that all favorite categories are stored in uppercase. To crate a new list called `fav_categories_low` with the same categories, but in lowercase, iterate over the values ​​in the `fav_categories` list, modify them, and add the new values ​​to the `fav_categories_low` list.**"
   ]
  },
  {
   "cell_type": "code",
   "execution_count": 6,
   "metadata": {
    "id": "AtQg6ie10P9v"
   },
   "outputs": [
    {
     "name": "stdout",
     "output_type": "stream",
     "text": [
      "Fav categories lowered: ['electronics', 'sport', 'books']\n"
     ]
    }
   ],
   "source": [
    "fav_categories = ['ELECTRONICS', 'SPORT', 'BOOKS']\n",
    "fav_categories_low = [] # New empty list\n",
    "\n",
    "# Convert each category in fav_categories to lowercase and add it to fav_categories_low\n",
    "for category in fav_categories:\n",
    "    fav_categories_low.append(category.lower()) \n",
    "\n",
    "# Results\n",
    "print('Fav categories lowered:', fav_categories_low)"
   ]
  },
  {
   "cell_type": "markdown",
   "metadata": {
    "id": "w8J0RSee0P9w"
   },
   "source": [
    "## 2. Metrics\n",
    "\n",
    "We have obtained additional information about our users' spending habits, including the amount spent in each of their favorite categories. Management is interested in the following metrics:\n",
    "\n",
    "- Total amount spent by the user.\n",
    "- Minimum amount spent.\n",
    "- Maximum amount spent.\n",
    "\n",
    "Let's calculate these values:"
   ]
  },
  {
   "cell_type": "code",
   "execution_count": 7,
   "metadata": {
    "id": "BbhBAmcZ0P9w"
   },
   "outputs": [
    {
     "name": "stdout",
     "output_type": "stream",
     "text": [
      "Total amount spent by the user: 1280\n",
      "Maximun amount spent by the user: 894\n",
      "Minimun amount spent by the user: 173\n"
     ]
    }
   ],
   "source": [
    "fav_categories_low = ['electronics', 'sport', 'books']\n",
    "spendings_per_category = [894, 213, 173]\n",
    "\n",
    "total_amount = sum(spendings_per_category)# Total amount spent by the user\n",
    "max_amount = max(spendings_per_category)# Maximun amount spent\n",
    "min_amount = min(spendings_per_category)#  Minimun amount spent\n",
    "\n",
    "# Results\n",
    "print('Total amount spent by the user:', total_amount)\n",
    "print('Maximun amount spent by the user:', max_amount)\n",
    "print('Minimun amount spent by the user:', min_amount)"
   ]
  },
  {
   "cell_type": "markdown",
   "metadata": {
    "id": "hyPGzOt60P9w"
   },
   "source": [
    "## 3. Discounts \n",
    "\n",
    "The company wants to offer discounts to its loyal customers. Customers who make purchases totaling more than $1500 are considered loyal and will receive a discount.\n",
    "\n",
    "Create a `while` loop that checks the total amount spent and stops when it reaches it. To simulate new purchases, the `new_purchase` variable outputs a number between 30 and 80 on each iteration of the loop. This represents the amount of money spent on a new purchase and is what needs to be added to the total.\n",
    "\n",
    "Once the target amount is reached and the `while` loop ends, the final amount will be displayed."
   ]
  },
  {
   "cell_type": "code",
   "execution_count": 8,
   "metadata": {
    "id": "FmpTfK7C0P9x"
   },
   "outputs": [
    {
     "name": "stdout",
     "output_type": "stream",
     "text": [
      "Total amount spent: 1510\n",
      "Total items: 4\n"
     ]
    }
   ],
   "source": [
    "from random import randint\n",
    "\n",
    "total_amount_spent = 1280\n",
    "target_amount = 1500\n",
    "purchase_count = 0  # Counter to track the number of purchases\n",
    "\n",
    "# Keep adding purchases until the target amount is reached\n",
    "while total_amount_spent < target_amount:\n",
    "    new_purchase = randint(30, 80)  # Generate a random amount between 30 and 80\n",
    "    total_amount_spent += new_purchase\n",
    "    purchase_count += 1  # Increment purchase count\n",
    "\n",
    "# Print the final amount spent and the number of purchases made\n",
    "print(f\"Total amount spent: {total_amount_spent}\")\n",
    "print(f\"Total items: {purchase_count}\")\n"
   ]
  },
  {
   "cell_type": "markdown",
   "metadata": {
    "id": "e9j2dOo60P9x"
   },
   "source": [
    "## 4. Summarize all the information about an user\n",
    "\n",
    "\n",
    "Now we have all the information about a customer the way we want it. A company's management asked us to come up with a way to summarize all the information about an user.\n",
    "Your goal is to create a formatted string that uses information from the variables `user_id`, `user_name`, and `user_age`.\n",
    "\n",
    "This is the final string we want to create: `User 32415 is mike who is 32 years old.`"
   ]
  },
  {
   "cell_type": "code",
   "execution_count": 9,
   "metadata": {
    "id": "2dzhjYbm0P9x",
    "scrolled": true
   },
   "outputs": [
    {
     "name": "stdout",
     "output_type": "stream",
     "text": [
      "Complete User Information: User 32415 is mike who is 32 years old.\n"
     ]
    }
   ],
   "source": [
    "user_id = '32415'\n",
    "user_name = ['mike', 'reed']\n",
    "user_age = 32\n",
    "\n",
    "# Format user information into a string with the full name\n",
    "user_info = f\"User {user_id} is {user_name[0]} who is {user_age} years old.\" \n",
    "\n",
    "# Results\n",
    "print('Complete User Information:', user_info)"
   ]
  },
  {
   "cell_type": "markdown",
   "metadata": {
    "id": "hJ38hJYU0P9x"
   },
   "source": [
    "Businesses collect and store data in a particular way. Store 1 wants to store all the information about its customers in a table.\n",
    "\n",
    "| user_id | user_name | user_age | purchase_category | spending_per_category |\n",
    "| --- | --- | --- | --- | --- |\n",
    "| '32415' | 'mike', 'reed' | 32 | 'electronics', 'sport', 'books' | 894, 213, 173 |\n",
    "| '31980' | 'kate', 'morgan' | 24 | 'clothes', 'shoes' | 439, 390 |\n",
    "\n",
    "In technical terms, a table is simply a nested list containing a sublist for each user.\n",
    "\n",
    "Store 1 has created such a table for its users. It is stored in the variable `users`. Each sublist contains the user's ID, first and last name, age, favorite categories, and the amount spent on each category."
   ]
  },
  {
   "cell_type": "markdown",
   "metadata": {
    "id": "J7IXD3Zv0P9x"
   },
   "source": [
    "## 5. Income\n",
    "\n",
    "To calculate the company's revenue, follow these steps.\n",
    "\n",
    "1. Use `for` to iterate over the `users` list.\n",
    "2. Extract the list of expenses for each user and add the values.\n",
    "3. Update the revenue value with the total for each user.\n",
    "\n",
    "This will give you the company's total revenue, which you will display on the screen at the end."
   ]
  },
  {
   "cell_type": "code",
   "execution_count": 10,
   "metadata": {
    "id": "d8jeNWXQ0P9y"
   },
   "outputs": [
    {
     "name": "stdout",
     "output_type": "stream",
     "text": [
      "Total Income: 2109\n"
     ]
    }
   ],
   "source": [
    "users = [\n",
    "\t  # this is the start of the first sublist\n",
    "    ['32415', ['mike', 'reed'], 32, ['electronics', 'sport', 'books'],\n",
    "        [894, 213, 173]\n",
    "    ], # this is the start of the first sublist\n",
    "\n",
    "    # this is the start of the first sublist\n",
    "    ['31980', ['kate', 'morgan'], 24, ['clothes', 'shoes'],\n",
    "        [439, 390]\n",
    "    ] # this is the start of the first sublist\n",
    "]\n",
    "\n",
    "revenue = 0\n",
    "\n",
    "for user in users:\n",
    "    spendings_list = user[-1]# extracts the list of expenses for each user and sums the values\n",
    "    total_spendings = sum(spendings_list) # sums the expenses of all categories to get the total for a particular user\n",
    "    revenue += total_spendings # update revenue\n",
    "\n",
    "# Results\n",
    "print('Total Income:', revenue)"
   ]
  },
  {
   "cell_type": "markdown",
   "metadata": {
    "id": "wR0om7Tk0P9y"
   },
   "source": [
    "### 5.1 Users under 30 years old\n",
    "\n",
    "Go through the list of users we have provided and see the names of customers under 30 years of age."
   ]
  },
  {
   "cell_type": "code",
   "execution_count": 11,
   "metadata": {
    "id": "KVdthJm70P9y"
   },
   "outputs": [
    {
     "name": "stdout",
     "output_type": "stream",
     "text": [
      "List of users under 30 years old:\n",
      "['kate morgan', 'samantha smith', 'emily brown', 'jose martinez', 'james lee']\n"
     ]
    }
   ],
   "source": [
    "users = [\n",
    "    ['32415', ['mike', 'reed'], 32, ['electronics', 'sport', 'books'],\n",
    "     [894, 213, 173]],\n",
    "    ['31980', ['kate', 'morgan'], 24, ['clothes', 'books'], [439,\n",
    "     390]],\n",
    "    ['32156', ['john', 'doe'], 37, ['electronics', 'home', 'food'],\n",
    "     [459, 120, 99]],\n",
    "    ['32761', ['samantha', 'smith'], 29, ['clothes', 'electronics',\n",
    "     'beauty'], [299, 679, 85]],\n",
    "    ['32984', ['david', 'white'], 41, ['books', 'home', 'sport'], [234,\n",
    "     329, 243]],\n",
    "    ['33001', ['emily', 'brown'], 26, ['beauty', 'home', 'food'], [213,\n",
    "     659, 79]],\n",
    "    ['33767', ['maria', 'garcia'], 33, ['clothes', 'food', 'beauty'],\n",
    "     [499, 189, 63]],\n",
    "    ['33912', ['jose', 'martinez'], 22, ['sport', 'electronics', 'home'\n",
    "     ], [259, 549, 109]],\n",
    "    ['34009', ['lisa', 'wilson'], 35, ['home', 'books', 'clothes'],\n",
    "     [329, 189, 329]],\n",
    "    ['34278', ['james', 'lee'], 28, ['beauty', 'clothes', 'electronics'\n",
    "     ], [189, 299, 579]],\n",
    "    ]\n",
    "\n",
    "# Create an empty list to store full names of users under 30\n",
    "users_under_30 = []\n",
    "\n",
    "# Iterate over each user in the users list\n",
    "for user in users:\n",
    "    age = user[2]  # Assume age is stored at index 2 in each user entry\n",
    "    \n",
    "    # Check if the user's age is less than 30\n",
    "    if age < 30:\n",
    "        # Combine the first and last name, assumed to be stored at index 1, into a full name\n",
    "        full_name = ' '.join(user[1])\n",
    "        \n",
    "        # Append the full name to the list of users under 30\n",
    "        users_under_30.append(full_name)\n",
    "\n",
    "# Print the list of users under 30 years old\n",
    "print('List of users under 30 years old:')\n",
    "print(users_under_30)\n"
   ]
  },
  {
   "cell_type": "markdown",
   "metadata": {
    "id": "LBHWQenm0P9y"
   },
   "source": [
    "### 5.2 Users who are under 30 years old and have a total expenditure of more than 1000 dollars."
   ]
  },
  {
   "cell_type": "code",
   "execution_count": 12,
   "metadata": {
    "id": "HaQNXS-V0P9z"
   },
   "outputs": [
    {
     "name": "stdout",
     "output_type": "stream",
     "text": [
      "Users under 30 with spendings over 1000:\n",
      "['samantha smith', 'james lee']\n"
     ]
    }
   ],
   "source": [
    "users = [\n",
    "    ['32415', ['mike', 'reed'], 32, ['electronics', 'sport', 'books'],\n",
    "     [894, 213, 173]],\n",
    "    ['31980', ['kate', 'morgan'], 24, ['clothes', 'books'], [439,\n",
    "     390]],\n",
    "    ['32156', ['john', 'doe'], 37, ['electronics', 'home', 'food'],\n",
    "     [459, 120, 99]],\n",
    "    ['32761', ['samantha', 'smith'], 29, ['clothes', 'electronics',\n",
    "     'beauty'], [299, 679, 85]],\n",
    "    ['32984', ['david', 'white'], 41, ['books', 'home', 'sport'], [234,\n",
    "     329, 243]],\n",
    "    ['33001', ['emily', 'brown'], 26, ['beauty', 'home', 'food'], [213,\n",
    "     659, 79]],\n",
    "    ['33767', ['maria', 'garcia'], 33, ['clothes', 'food', 'beauty'],\n",
    "     [499, 189, 63]],\n",
    "    ['33912', ['jose', 'martinez'], 22, ['sport', 'electronics', 'home'\n",
    "     ], [259, 549, 109]],\n",
    "    ['34009', ['lisa', 'wilson'], 35, ['home', 'books', 'clothes'],\n",
    "     [329, 189, 329]],\n",
    "    ['34278', ['james', 'lee'], 28, ['beauty', 'clothes', 'electronics'\n",
    "     ], [189, 299, 579]],\n",
    "    ]\n",
    "\n",
    "# List to store full names of users under 30 with spendings over 1000\n",
    "high_spending_young_users = []\n",
    "\n",
    "# Iterate over each user in the users list\n",
    "for user in users:\n",
    "    age = user[2]  # Assume age is at index 2\n",
    "    \n",
    "    # Check if the user's age is less than 30\n",
    "    if age < 30:\n",
    "        spendings = user[-1]  # Assume spendings are stored in the last position\n",
    "        \n",
    "        # Calculate the total spendings\n",
    "        total_spendings = sum(spendings)\n",
    "       \n",
    "        # Check if total spendings exceed 1000\n",
    "        if total_spendings > 1000:\n",
    "            # Combine first and last name, assumed to be at index 1\n",
    "            full_name = ' '.join(user[1])\n",
    "            \n",
    "            # Add full name to the list\n",
    "            high_spending_young_users.append(full_name)\n",
    "\n",
    "# Print the list of users under 30 with spendings over 1000\n",
    "print(\"Users under 30 with spendings over 1000:\")\n",
    "print(high_spending_young_users)"
   ]
  },
  {
   "cell_type": "markdown",
   "metadata": {
    "id": "yRozkK0R0P90"
   },
   "source": [
    "### 5.3 Name and age of all users who have purchased clothes"
   ]
  },
  {
   "cell_type": "code",
   "execution_count": 13,
   "metadata": {
    "id": "mSIyHq1f0P90"
   },
   "outputs": [
    {
     "name": "stdout",
     "output_type": "stream",
     "text": [
      "Users who have purchased clothes:\n",
      "kate morgan: 24\n",
      "samantha smith: 29\n",
      "maria garcia: 33\n",
      "lisa wilson: 35\n",
      "james lee: 28\n"
     ]
    }
   ],
   "source": [
    "users = [\n",
    "    ['32415', ['mike', 'reed'], 32, ['electronics', 'sport', 'books'],\n",
    "     [894, 213, 173]],\n",
    "    ['31980', ['kate', 'morgan'], 24, ['clothes', 'books'], [439,\n",
    "     390]],\n",
    "    ['32156', ['john', 'doe'], 37, ['electronics', 'home', 'food'],\n",
    "     [459, 120, 99]],\n",
    "    ['32761', ['samantha', 'smith'], 29, ['clothes', 'electronics',\n",
    "     'beauty'], [299, 679, 85]],\n",
    "    ['32984', ['david', 'white'], 41, ['books', 'home', 'sport'], [234,\n",
    "     329, 243]],\n",
    "    ['33001', ['emily', 'brown'], 26, ['beauty', 'home', 'food'], [213,\n",
    "     659, 79]],\n",
    "    ['33767', ['maria', 'garcia'], 33, ['clothes', 'food', 'beauty'],\n",
    "     [499, 189, 63]],\n",
    "    ['33912', ['jose', 'martinez'], 22, ['sport', 'electronics', 'home'\n",
    "     ], [259, 549, 109]],\n",
    "    ['34009', ['lisa', 'wilson'], 35, ['home', 'books', 'clothes'],\n",
    "     [329, 189, 329]],\n",
    "    ['34278', ['james', 'lee'], 28, ['beauty', 'clothes', 'electronics'\n",
    "     ], [189, 299, 579]],\n",
    "    ]\n",
    "\n",
    "# List to store information of users who have purchased clothes\n",
    "users_with_clothes = []\n",
    "\n",
    "# Iterate over each user in the users list\n",
    "for user in users:\n",
    "    user_id, name, age, categories, amounts = user  \n",
    "\n",
    "    # Check if 'clothes' is in the user's categories\n",
    "    if 'clothes' in categories:\n",
    "        # Format the user's full name and age\n",
    "        full_name = f\"{name[0]} {name[1]}: {age}\"\n",
    "        \n",
    "        # Append the information to the list\n",
    "        users_with_clothes.append(full_name)\n",
    "\n",
    "# Print the users who have purchased clothes\n",
    "print(\"Users who have purchased clothes:\")\n",
    "for user_info in users_with_clothes:\n",
    "    print(user_info)\n"
   ]
  },
  {
   "cell_type": "markdown",
   "metadata": {
    "jp-MarkdownHeadingCollapsed": true
   },
   "source": [
    "**This is just a practice exercise on the basics of Python. The main goal is to practice `Python Syntax`.**"
   ]
  }
 ],
 "metadata": {
  "ExecuteTimeLog": [
   {
    "duration": 12,
    "start_time": "2024-08-14T03:49:18.879Z"
   },
   {
    "duration": 5,
    "start_time": "2024-08-14T03:49:27.435Z"
   },
   {
    "duration": 11,
    "start_time": "2024-08-14T04:45:43.438Z"
   },
   {
    "duration": 5,
    "start_time": "2024-08-14T04:46:18.712Z"
   },
   {
    "duration": 4,
    "start_time": "2024-08-14T04:53:52.488Z"
   },
   {
    "duration": 5,
    "start_time": "2024-08-14T04:54:05.464Z"
   },
   {
    "duration": 10,
    "start_time": "2024-08-14T05:24:27.960Z"
   },
   {
    "duration": 5,
    "start_time": "2024-08-14T05:33:38.512Z"
   },
   {
    "duration": 5,
    "start_time": "2024-08-14T05:37:10.234Z"
   },
   {
    "duration": 8,
    "start_time": "2024-08-14T05:41:32.051Z"
   },
   {
    "duration": 6,
    "start_time": "2024-08-14T05:41:59.333Z"
   },
   {
    "duration": 5,
    "start_time": "2024-08-14T05:53:13.311Z"
   },
   {
    "duration": 5,
    "start_time": "2024-08-14T05:55:01.271Z"
   },
   {
    "duration": 5,
    "start_time": "2024-08-14T05:55:04.657Z"
   },
   {
    "duration": 6,
    "start_time": "2024-08-14T05:58:06.271Z"
   },
   {
    "duration": 5,
    "start_time": "2024-08-14T05:58:56.444Z"
   },
   {
    "duration": 5,
    "start_time": "2024-08-14T05:59:02.865Z"
   },
   {
    "duration": 5,
    "start_time": "2024-08-14T06:06:38.571Z"
   },
   {
    "duration": 5,
    "start_time": "2024-08-14T06:08:55.673Z"
   },
   {
    "duration": 7,
    "start_time": "2024-08-14T06:13:37.840Z"
   },
   {
    "duration": 7,
    "start_time": "2024-08-14T06:16:24.092Z"
   },
   {
    "duration": 13,
    "start_time": "2024-08-14T06:20:08.347Z"
   },
   {
    "duration": 10,
    "start_time": "2024-08-14T06:20:14.202Z"
   },
   {
    "duration": 10,
    "start_time": "2024-08-14T06:20:36.559Z"
   },
   {
    "duration": 11,
    "start_time": "2024-08-14T06:26:52.550Z"
   },
   {
    "duration": 11,
    "start_time": "2024-08-14T06:30:33.475Z"
   },
   {
    "duration": 10,
    "start_time": "2024-08-14T06:30:45.100Z"
   },
   {
    "duration": 11,
    "start_time": "2024-08-14T06:31:27.830Z"
   },
   {
    "duration": 12,
    "start_time": "2024-08-14T06:32:02.433Z"
   },
   {
    "duration": 11,
    "start_time": "2024-08-14T06:38:50.081Z"
   },
   {
    "duration": 11,
    "start_time": "2024-08-14T06:51:51.910Z"
   },
   {
    "duration": 5,
    "start_time": "2024-08-14T06:51:51.924Z"
   },
   {
    "duration": 5,
    "start_time": "2024-08-14T06:51:51.932Z"
   },
   {
    "duration": 4,
    "start_time": "2024-08-14T06:51:51.942Z"
   },
   {
    "duration": 5,
    "start_time": "2024-08-14T06:51:51.949Z"
   },
   {
    "duration": 5,
    "start_time": "2024-08-14T06:51:51.958Z"
   },
   {
    "duration": 60,
    "start_time": "2024-08-14T06:51:51.966Z"
   },
   {
    "duration": 5,
    "start_time": "2024-08-14T06:51:52.029Z"
   },
   {
    "duration": 5,
    "start_time": "2024-08-14T06:51:52.037Z"
   },
   {
    "duration": 6,
    "start_time": "2024-08-14T06:51:52.048Z"
   },
   {
    "duration": 11,
    "start_time": "2024-08-14T06:51:52.058Z"
   },
   {
    "duration": 59,
    "start_time": "2024-08-14T06:51:52.072Z"
   },
   {
    "duration": 11,
    "start_time": "2024-08-14T06:51:52.134Z"
   }
  ],
  "colab": {
   "provenance": []
  },
  "kernelspec": {
   "display_name": "Python 3 (ipykernel)",
   "language": "python",
   "name": "python3"
  },
  "language_info": {
   "codemirror_mode": {
    "name": "ipython",
    "version": 3
   },
   "file_extension": ".py",
   "mimetype": "text/x-python",
   "name": "python",
   "nbconvert_exporter": "python",
   "pygments_lexer": "ipython3",
   "version": "3.12.3"
  },
  "toc": {
   "base_numbering": 1,
   "nav_menu": {},
   "number_sections": true,
   "sideBar": true,
   "skip_h1_title": true,
   "title_cell": "Table of Contents",
   "title_sidebar": "Contents",
   "toc_cell": false,
   "toc_position": {},
   "toc_section_display": true,
   "toc_window_display": false
  }
 },
 "nbformat": 4,
 "nbformat_minor": 4
}
