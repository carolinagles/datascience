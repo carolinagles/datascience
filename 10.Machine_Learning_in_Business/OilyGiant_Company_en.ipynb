{
 "cells": [
  {
   "cell_type": "markdown",
   "id": "a6c0bad6",
   "metadata": {},
   "source": [
    "<p style=\"color: #000000; font-size: 32px; font-weight: bold; text-align: center; margin-top: 20px;\">In Search of the Next 200 Oil Wells</p>\n",
    "<p style=\"color: #000000; font-size: 24px; text-align: center; margin-bottom: 20px;\">Oily Giant Company</p>\n",
    "\n",
    "<hr style=\"border: .4px solid #000000; width: 55%; margin: 10px auto;\">"
   ]
  },
  {
   "cell_type": "markdown",
   "id": "9b29b4e7",
   "metadata": {},
   "source": [
    "**This project** focuses on identifying the best locations to open new oil wells in three regions using synthetic geological data and a linear regression model. The main goal is to maximize profits and minimize risks, ensuring the economic sustainability of the investment.\n",
    "\n",
    "**The main steps to be taken are the following:**\n",
    "\n",
    "1. **Read** the files with the oil well parameters: `crude oil quality` and `reserve volume`.\n",
    "2. **Create** a model to predict the `reserve volume` in new wells.\n",
    "3. **Select** the wells with the highest estimated values.\n",
    "4. **Identify** the region with the highest total profit for the selected wells.\n",
    "\n",
    "Potential benefits and risks are analyzed using the **bootstrapping** technique.\n",
    "\n",
    "**The following are the conditions for the project:**\n",
    "  - Only linear regression should be used for model training.\n",
    "  - When exploring the region, a study of 500 points is carried out, with the selection of the best 200 points for calculating the profit.\n",
    "  - The budget for developing 200 oil wells is **100 million dollars**.\n",
    "  - A barrel of raw materials generates **4.5 USD** in revenue. The revenue from a product unit is **4500 dollars** (the reserve volume is expressed in thousands of barrels).\n",
    "  - After risk evaluation:\n",
    "    - Keep only the regions with a loss risk of less than **2.5%**.\n",
    "    - From those that meet the criteria, select the region with the highest average profit.\n",
    "\n",
    "## Data Description\n",
    "The datasets for the three regions contain the following features:\n",
    "\n",
    "- **`id`**: Unique well identifier.\n",
    "- **`f0`, `f1`, `f2`**: Characteristics of the exploration points.\n",
    "- **`product`**: Oil reserve volume (thousands of barrels).\n",
    "\n",
    "\n",
    "**The data is synthetic:** contract details and well characteristics are not disclosed. \n",
    "\n",
    "--- \n",
    "\n"
   ]
  },
  {
   "cell_type": "markdown",
   "id": "f3d89ba0",
   "metadata": {},
   "source": [
    "# 1. Libraries and Data Loading"
   ]
  },
  {
   "cell_type": "code",
   "execution_count": 22,
   "id": "3f06dd03",
   "metadata": {},
   "outputs": [],
   "source": [
    "import pandas as pd\n",
    "import numpy as np\n",
    "from numpy import mean\n",
    "from sklearn.model_selection import train_test_split\n",
    "from sklearn.preprocessing import StandardScaler\n",
    "from sklearn.linear_model import LinearRegression\n",
    "from sklearn.metrics import mean_squared_error\n",
    "import locale # formatting currency"
   ]
  },
  {
   "cell_type": "code",
   "execution_count": 23,
   "id": "f32a7f05",
   "metadata": {},
   "outputs": [],
   "source": [
    "# Read the CSV files\n",
    "geo_0 = pd.read_csv(\"geo_data_0.csv\")\n",
    "geo_1 = pd.read_csv(\"geo_data_1.csv\")\n",
    "geo_2 = pd.read_csv(\"geo_data_2.csv\")"
   ]
  },
  {
   "cell_type": "code",
   "execution_count": 24,
   "id": "63eec694",
   "metadata": {},
   "outputs": [
    {
     "name": "stdout",
     "output_type": "stream",
     "text": [
      "geo_0:\n",
      "      id        f0        f1        f2     product\n",
      "0  txEyH  0.705745 -0.497823  1.221170  105.280062\n",
      "1  2acmU  1.334711 -0.340164  4.365080   73.037750\n",
      "2  409Wp  1.022732  0.151990  1.419926   85.265647\n",
      "3  iJLyR -0.032172  0.139033  2.978566  168.620776\n",
      "4  Xdl7t  1.988431  0.155413  4.751769  154.036647\n",
      "\n",
      "geo_1:\n",
      "      id         f0         f1        f2     product\n",
      "0  kBEdx -15.001348  -8.276000 -0.005876    3.179103\n",
      "1  62mP7  14.272088  -3.475083  0.999183   26.953261\n",
      "2  vyE1P   6.263187  -5.948386  5.001160  134.766305\n",
      "3  KcrkZ -13.081196 -11.506057  4.999415  137.945408\n",
      "4  AHL4O  12.702195  -8.147433  5.004363  134.766305\n",
      "\n",
      "geo_2:\n",
      "      id        f0        f1        f2     product\n",
      "0  fwXo0 -1.146987  0.963328 -0.828965   27.758673\n",
      "1  WJtFt  0.262778  0.269839 -2.530187   56.069697\n",
      "2  ovLUW  0.194587  0.289035 -5.586433   62.871910\n",
      "3  q6cA6  2.236060 -0.553760  0.930038  114.572842\n",
      "4  WPMUX -0.515993  1.716266  5.899011  149.600746\n",
      "\n"
     ]
    }
   ],
   "source": [
    "# Create the list of datasets\n",
    "datasets = [geo_0, geo_1, geo_2]\n",
    "\n",
    "# Print the first 5 rows of each dataset\n",
    "for i in range(len(datasets)):\n",
    "    print('geo_' + str(i) + ':')\n",
    "    print(datasets[i].head(5))\n",
    "    print()"
   ]
  },
  {
   "cell_type": "code",
   "execution_count": 25,
   "id": "5c7c1a25",
   "metadata": {},
   "outputs": [
    {
     "name": "stdout",
     "output_type": "stream",
     "text": [
      "geo_0 info:\n",
      "<class 'pandas.core.frame.DataFrame'>\n",
      "RangeIndex: 100000 entries, 0 to 99999\n",
      "Data columns (total 5 columns):\n",
      " #   Column   Non-Null Count   Dtype  \n",
      "---  ------   --------------   -----  \n",
      " 0   id       100000 non-null  object \n",
      " 1   f0       100000 non-null  float64\n",
      " 2   f1       100000 non-null  float64\n",
      " 3   f2       100000 non-null  float64\n",
      " 4   product  100000 non-null  float64\n",
      "dtypes: float64(4), object(1)\n",
      "memory usage: 3.8+ MB\n",
      "None\n",
      "\n",
      "geo_1 info:\n",
      "<class 'pandas.core.frame.DataFrame'>\n",
      "RangeIndex: 100000 entries, 0 to 99999\n",
      "Data columns (total 5 columns):\n",
      " #   Column   Non-Null Count   Dtype  \n",
      "---  ------   --------------   -----  \n",
      " 0   id       100000 non-null  object \n",
      " 1   f0       100000 non-null  float64\n",
      " 2   f1       100000 non-null  float64\n",
      " 3   f2       100000 non-null  float64\n",
      " 4   product  100000 non-null  float64\n",
      "dtypes: float64(4), object(1)\n",
      "memory usage: 3.8+ MB\n",
      "None\n",
      "\n",
      "geo_2 info:\n",
      "<class 'pandas.core.frame.DataFrame'>\n",
      "RangeIndex: 100000 entries, 0 to 99999\n",
      "Data columns (total 5 columns):\n",
      " #   Column   Non-Null Count   Dtype  \n",
      "---  ------   --------------   -----  \n",
      " 0   id       100000 non-null  object \n",
      " 1   f0       100000 non-null  float64\n",
      " 2   f1       100000 non-null  float64\n",
      " 3   f2       100000 non-null  float64\n",
      " 4   product  100000 non-null  float64\n",
      "dtypes: float64(4), object(1)\n",
      "memory usage: 3.8+ MB\n",
      "None\n",
      "\n"
     ]
    }
   ],
   "source": [
    "# Info.  datasets\n",
    "for i in range(len(datasets)):\n",
    "    print('geo_' + str(i) + ' info:')\n",
    "    print(datasets[i].info())\n",
    "    print()"
   ]
  },
  {
   "cell_type": "markdown",
   "id": "bb439606",
   "metadata": {},
   "source": [
    "**Data Quality:**\n",
    "  - There are no missing values.\n",
    "  - The data types (*dtypes*) are correct.\n",
    "  - Duplicate values will be checked."
   ]
  },
  {
   "cell_type": "code",
   "execution_count": 26,
   "id": "b232956b",
   "metadata": {},
   "outputs": [
    {
     "name": "stdout",
     "output_type": "stream",
     "text": [
      "Duplicates in Geo 0: 0\n",
      "Duplicates in Geo 1: 0\n",
      "Duplicates in Geo 2: 0\n"
     ]
    }
   ],
   "source": [
    "# Duplicates in the datasets\n",
    "print(f\"Duplicates in Geo 0: {geo_0.duplicated().sum()}\")\n",
    "print(f\"Duplicates in Geo 1: {geo_1.duplicated().sum()}\")\n",
    "print(f\"Duplicates in Geo 2: {geo_2.duplicated().sum()}\")"
   ]
  },
  {
   "cell_type": "markdown",
   "id": "10a8d03c",
   "metadata": {},
   "source": [
    "Since they are not necessary data, the `'id'` columns will be removed from the 3 DataFrames."
   ]
  },
  {
   "cell_type": "code",
   "execution_count": 27,
   "id": "cfd8541f",
   "metadata": {},
   "outputs": [],
   "source": [
    "# Drop 'id' columns\n",
    "geo_0 = geo_0.drop('id',axis=1)\n",
    "geo_1 = geo_1.drop('id',axis=1)\n",
    "geo_2 = geo_2.drop('id',axis=1)"
   ]
  },
  {
   "cell_type": "markdown",
   "id": "83394cd9",
   "metadata": {},
   "source": [
    "# 2. Training and Testing the Model for Each Region."
   ]
  },
  {
   "cell_type": "markdown",
   "id": "af064d42",
   "metadata": {},
   "source": [
    "Now, the training and validation sets for the three regions are created.  \n",
    "The **ratio is 3:1**, so 75% for training and 25% for validation.  \n",
    "The `train_test_split` function from the `sklearn.model_selection` module will be used to split the data."
   ]
  },
  {
   "cell_type": "code",
   "execution_count": 28,
   "id": "e5b1d5dd",
   "metadata": {},
   "outputs": [],
   "source": [
    "# Create training, validation, and testing datasets (Ratio of 3:1)\n",
    "\n",
    "# 'Features' for each region\n",
    "geo_0_features = geo_0.drop('product', axis=1)\n",
    "geo_1_features = geo_1.drop('product', axis=1)\n",
    "geo_2_features = geo_2.drop('product', axis=1)\n",
    "\n",
    "# 'Targets' for each region\n",
    "geo_0_target = geo_0['product']\n",
    "geo_1_target = geo_1['product']\n",
    "geo_2_target = geo_2['product']\n",
    "\n",
    "# Split feature and target for each region into training and validation datasets\n",
    "# test_size with 0.25 and training dataset with 0.75 of the data\n",
    "features_train_0, features_valid_0, target_train_0, target_valid_0 = train_test_split(geo_0_features, geo_0_target, test_size=0.25)\n",
    "features_train_1, features_valid_1, target_train_1, target_valid_1 = train_test_split(geo_1_features, geo_1_target, test_size=0.25)\n",
    "features_train_2, features_valid_2, target_train_2, target_valid_2 = train_test_split(geo_2_features, geo_2_target, test_size=0.25)"
   ]
  },
  {
   "cell_type": "code",
   "execution_count": 29,
   "id": "9e2c63ae",
   "metadata": {},
   "outputs": [
    {
     "name": "stdout",
     "output_type": "stream",
     "text": [
      "Geo 0:\n",
      "Training: 0.75 | Validation: 0.25\n",
      "Geo 1:\n",
      "Training: 0.75 | Validation: 0.25\n",
      "Geo 2:\n",
      "Training: 0.75 | Validation: 0.25\n"
     ]
    }
   ],
   "source": [
    "# Function to check the proportions of data splits for each region\n",
    "def check_split_proportion(region_name, total, train, valid, test_size=0.25):\n",
    "    train_prop = train / total\n",
    "    valid_prop = valid / total\n",
    "    print(f\"{region_name}:\")\n",
    "    print(f\"Training: {train_prop:.2f} | Validation: {valid_prop:.2f}\")\n",
    "\n",
    "# Validate proportions for each region\n",
    "check_split_proportion(\"Geo 0\", len(geo_0_features), len(features_train_0), len(features_valid_0))\n",
    "check_split_proportion(\"Geo 1\", len(geo_1_features), len(features_train_1), len(features_valid_1))\n",
    "check_split_proportion(\"Geo 2\", len(geo_2_features), len(features_train_2), len(features_valid_2))"
   ]
  },
  {
   "cell_type": "markdown",
   "id": "4e90e432",
   "metadata": {},
   "source": [
    "## 2.1. Model Training  \n",
    "A function will be created to train the model and analyze the results.\n",
    "\n",
    "- `sklearn.linear_model.LinearRegression`: Used to implement the linear regression model, which predicts reserves based on the features of the data.  \n",
    "\n",
    "- `sklearn.metrics.mean_squared_error`: Calculates the Mean Squared Error (MSE), a metric that evaluates the performance of the model and its accuracy in predictions.  \n",
    "\n",
    "Training a separate model for each region allows capturing specific variations in the data, which can improve the accuracy of predictions."
   ]
  },
  {
   "cell_type": "code",
   "execution_count": 30,
   "id": "62130116",
   "metadata": {},
   "outputs": [
    {
     "name": "stdout",
     "output_type": "stream",
     "text": [
      "Geo 0\n",
      "Average volume of predicted reserves: 92.58 thousand barrels\n",
      "RMSE of the linear regression model: 37.56\n",
      "\n",
      "Geo 1\n",
      "Average volume of predicted reserves: 68.71 thousand barrels\n",
      "RMSE of the linear regression model: 0.89\n",
      "\n",
      "Geo 2\n",
      "Average volume of predicted reserves: 94.86 thousand barrels\n",
      "RMSE of the linear regression model: 40.22\n"
     ]
    }
   ],
   "source": [
    "# Function to train the model, make predictions, and calculate metrics\n",
    "def analyze_reserves(features_train, target_train, features_valid, target_valid):\n",
    "    # Create the model\n",
    "    model = LinearRegression()\n",
    "    \n",
    "    # Train the model with the training data\n",
    "    model.fit(features_train, target_train)\n",
    "    \n",
    "    # Make predictions on the validation data\n",
    "    predictions = model.predict(features_valid)\n",
    "    \n",
    "    # Calculate the average predicted reserves\n",
    "    average_reserves = round(predictions.mean(), 2)\n",
    "    \n",
    "    # Calculate the model's RMSE\n",
    "    rmse = mean_squared_error(target_valid, predictions) ** 0.5\n",
    "    \n",
    "    # Print results\n",
    "    print(f\"Average volume of predicted reserves: {average_reserves} thousand barrels\")\n",
    "    print(f\"RMSE of the linear regression model: {round(rmse, 2)}\")\n",
    "    \n",
    "    # Return the trained model and predictions\n",
    "    return model, predictions\n",
    "# Apply the function to the three regions\n",
    "print(\"Geo 0\")\n",
    "model_0, predictions_0 = analyze_reserves(features_train_0, target_train_0, features_valid_0, target_valid_0)\n",
    "\n",
    "print(\"\\nGeo 1\")\n",
    "model_1, predictions_1 = analyze_reserves(features_train_1, target_train_1, features_valid_1, target_valid_1)\n",
    "\n",
    "print(\"\\nGeo 2\")\n",
    "model_2, predictions_2 = analyze_reserves(features_train_2, target_train_2, features_valid_2, target_valid_2)\n"
   ]
  },
  {
   "cell_type": "markdown",
   "id": "afe54a30",
   "metadata": {},
   "source": [
    "**Analysis of Results**\n",
    "\n",
    "- **Geo 1**: Shows the best model performance with the lowest error (**RMSE = 0.89**) and predicts an average reserve of **68.71 thousand barrels**.  \n",
    "- **Geo 0 and Geo 2**: Have much higher prediction errors (**RMSE of 37.56 and 40.22**, respectively) and predict higher reserves (**92.58 and 94.86 thousand barrels**).  \n",
    "\n",
    "The **significantly lower RMSE for Geo 1** suggests that the predictions for this area are much more reliable than those for the other two regions."
   ]
  },
  {
   "cell_type": "markdown",
   "id": "f1d75060",
   "metadata": {},
   "source": [
    "# 3. Profit Calculation\n",
    "\n",
    "The following key data will be considered for calculating the profits:\n",
    "\n",
    "- **Budget**: The total budget for developing 200 oil wells is **100 million dollars**, which equals **0.5 million per well**.  \n",
    "- **Revenue per barrel**: Each barrel of raw material generates **4.5 USD** in revenue.  \n",
    "- **Revenue per product unit**: Since the reserve volume is expressed in thousands of barrels, the revenue per product unit is **4500 dollars** (1000 barrels × 4.5 USD/barrel).  "
   ]
  },
  {
   "cell_type": "code",
   "execution_count": 31,
   "id": "5f8ed557",
   "metadata": {},
   "outputs": [
    {
     "name": "stdout",
     "output_type": "stream",
     "text": [
      "A total of 22222.22 thousand barrels are required to avoid losses.\n",
      "Approximately 111.11 thousand barrels per reserve are required.\n"
     ]
    }
   ],
   "source": [
    "# Budget variables\n",
    "budget = 100_000_000  # in dollars\n",
    "profit = 4_500       # revenue per unit (thousands of barrels)\n",
    "\n",
    "# Reserve volume needed to avoid losses\n",
    "required_reserves = budget / profit\n",
    "\n",
    "# Results\n",
    "print(f\"A total of {round(required_reserves, 2)} thousand barrels are required to avoid losses.\")\n",
    "print(f\"Approximately {round(required_reserves / 200, 2)} thousand barrels per reserve are required.\")"
   ]
  },
  {
   "cell_type": "markdown",
   "id": "79be62bc",
   "metadata": {},
   "source": [
    "**Analyzing the relationship between the results**:\n",
    "\n",
    "The predictions by geographical area show that no area alone meets the requirement of 111.11 thousand barrels on average per well that is needed.\n",
    "\n",
    "No area individually reaches the minimum average volume required per well."
   ]
  },
  {
   "cell_type": "markdown",
   "id": "bc940808",
   "metadata": {},
   "source": [
    "## 3.1 Profit Analysis, Predictions, and Risk Evaluation in Oil Wells\n",
    "\n",
    "To complete the analysis, possible profits are calculated by selecting the most productive wells based on the predictions from the linear regression model. For each region, the reserve volume is estimated, the benefits are projected, and the most profitable region for well development is suggested based on the results obtained.\n",
    "\n",
    "Additionally, the **bootstrapping** technique with 1,000 simulations is used to evaluate the risks and benefits. This includes calculating the average benefit, the 95% confidence interval, and the probability of losses."
   ]
  },
  {
   "cell_type": "code",
   "execution_count": 32,
   "id": "68ea471b",
   "metadata": {},
   "outputs": [
    {
     "name": "stdout",
     "output_type": "stream",
     "text": [
      "Geo 0\n",
      "Profit: $31,357,450.99\n",
      "Target reserve volume: 29190.54 thousand barrels\n",
      "\n",
      "Geo 1\n",
      "Profit: $24,150,866.97\n",
      "Target reserve volume: 27589.08 thousand barrels\n",
      "\n",
      "Geo 2\n",
      "Profit: $24,529,739.01\n",
      "Target reserve volume: 27673.28 thousand barrels\n",
      "\n"
     ]
    }
   ],
   "source": [
    "# Function to calculate profit based on predicted values for each region\n",
    "def get_profit(targets, predictions, count, budget):\n",
    "    '''Function to calculate potential profit based on predicted oil reserve volumes for each region'''\n",
    "    \n",
    "    # Sort the predicted volumes from highest to lowest\n",
    "    predictions_sorted = pd.Series(predictions).sort_values(ascending=False)[:count]\n",
    "    \n",
    "    # Select the 200 largest reserve volumes for each region, but use the target volumes (real volumes)\n",
    "    selected_wells = targets.iloc[predictions_sorted.index]\n",
    "    \n",
    "    # Calculate the profit based on a unit that generates $4,500 in revenue\n",
    "    # Subtract the budget of $100,000,000 from the total revenue\n",
    "    profit = (4500 * selected_wells.sum()) - budget\n",
    "    \n",
    "    # Return the profit value\n",
    "    return round(profit, 2)\n",
    "\n",
    "\n",
    "# Create a list of predicted values and real values (targets) for each region\n",
    "predictions = [predictions_0, predictions_1, predictions_2]\n",
    "targets = [target_valid_0.reset_index(drop=True), target_valid_1.reset_index(drop=True), target_valid_2.reset_index(drop=True)]\n",
    "\n",
    "profits = []\n",
    "\n",
    "# Loop to execute the get_profit function on the predicted datasets of each region\n",
    "# Store the profit values in the 'profits' list\n",
    "for i in range(len(predictions)):\n",
    "    profits.append(get_profit(targets[i], predictions[i], 200, budget))  # Make sure to pass 'budget' as an argument\n",
    "\n",
    "# Set the local currency to USD (make sure to use a locale that supports currency formatting)\n",
    "locale.setlocale(locale.LC_ALL, 'en_US.UTF-8')\n",
    "\n",
    "# Print the profit values for each region\n",
    "for i in range(len(profits)):\n",
    "    print(f'Geo {i}')\n",
    "    print(f'Profit: {locale.currency(profits[i], grouping=True)}')\n",
    "    print(f'Target reserve volume: {round((profits[i] + budget) / 4500, 2)} thousand barrels\\n')\n"
   ]
  },
  {
   "cell_type": "code",
   "execution_count": 33,
   "id": "922b2f73",
   "metadata": {},
   "outputs": [
    {
     "name": "stdout",
     "output_type": "stream",
     "text": [
      "Geo 0\n",
      "Average profit: $4,086,065.05\n",
      "Target oil reserve volume: 23130.24 thousand barrels\n",
      "95% confidence interval: -$1,090,836.74 to $9,498,203.25\n",
      "Risk of loss: 5.90%\n",
      "\n",
      "Geo 1\n",
      "Average profit: $4,467,968.61\n",
      "Target oil reserve volume: 23215.1 thousand barrels\n",
      "95% confidence interval: $424,025.31 to $8,559,670.19\n",
      "Risk of loss: 1.30%\n",
      "\n",
      "Geo 2\n",
      "Average profit: $3,525,773.12\n",
      "Target oil reserve volume: 23005.73 thousand barrels\n",
      "95% confidence interval: -$1,648,102.99 to $8,649,986.06\n",
      "Risk of loss: 9.10%\n",
      "\n"
     ]
    }
   ],
   "source": [
    "def get_profit_distribution(targets, predictions, count, budget):\n",
    "    '''Function that calculates the profit distribution using the bootstrapping method'''\n",
    "    \n",
    "    # Initialize the random state\n",
    "    state = np.random.RandomState(12345)\n",
    "    \n",
    "    # List to store profit values\n",
    "    values = []\n",
    "    \n",
    "    # Create a DataFrame with predictions and targets\n",
    "    combined_df = pd.DataFrame()\n",
    "    combined_df['predictions'] = predictions\n",
    "    combined_df['targets'] = targets.reset_index(drop=True)\n",
    "    \n",
    "    # Get 1000 samples with replacement\n",
    "    for i in range(1000):\n",
    "        target_subsample = combined_df.sample(n=500, replace=True, random_state=state).reset_index(drop=True)\n",
    "        values.append(get_profit(target_subsample['targets'], target_subsample['predictions'], count, budget))\n",
    "    \n",
    "    # Convert the profit list into a pandas series\n",
    "    values = pd.Series(values)\n",
    "    \n",
    "    # Calculate the average profit\n",
    "    mean = values.mean()\n",
    "    \n",
    "    # 95% confidence interval\n",
    "    upper = values.quantile(0.975)\n",
    "    lower = values.quantile(0.025)\n",
    "    \n",
    "    # Risk of loss (negative profit)\n",
    "    count_loss = (values < 0).sum()\n",
    "    risk_of_loss = (count_loss * 100) / len(values)\n",
    "    \n",
    "    # Calculate the target oil reserve volume\n",
    "    target_oil_reserve_volume = (mean + budget) / 4500\n",
    "    \n",
    "    # Print the results\n",
    "    print(f\"Average profit: {locale.currency(mean, grouping=True)}\")\n",
    "    print(f\"Target oil reserve volume: {round(target_oil_reserve_volume, 2)} thousand barrels\")\n",
    "    print(f\"95% confidence interval: {locale.currency(lower, grouping=True)} to {locale.currency(upper, grouping=True)}\")\n",
    "    print(f\"Risk of loss: {risk_of_loss:.2f}%\")\n",
    "\n",
    "# Run the function for each region\n",
    "for i in range(len(predictions)):\n",
    "    print(f\"Geo {i}\")\n",
    "    get_profit_distribution(targets[i], predictions[i], 200, budget)\n",
    "    print()\n"
   ]
  },
  {
   "cell_type": "markdown",
   "id": "9d5bf4de",
   "metadata": {},
   "source": [
    "# Conclusions\n",
    "\n",
    "Geo 1 should be selected for the development of the 200 wells based on the following reasons:\n",
    "\n",
    "1. **Highest Profit**: Geo 1, despite having a slightly lower overall profit compared to Geo 0, offers the highest average profit of **$4,467,968.61** in the bootstrapping simulations. This suggests more consistent profitability when considering the uncertainty introduced by the bootstrapping method.\n",
    "\n",
    "2. **Lower Risk of Loss**: Geo 1 has the **lowest risk of loss** (1.30%) among all regions. This is an important factor in minimizing the likelihood of a negative return, which can be especially crucial in high-stakes investments like oil well development.\n",
    "\n",
    "3. **Confidence Interval**: The 95% confidence interval for Geo 1 is the narrowest, ranging from **$424,025.31 to $8,559,670.19**, indicating less variability in profit outcomes compared to Geo 0 and Geo 2. A narrower confidence interval suggests more reliable and predictable results for the investors.\n",
    "\n",
    "4. **Target Reserve Volume**: Geo 1 has a **target oil reserve volume of 27,589.08 thousand barrels**, which is competitive and close to Geo 2's target. This volume provides substantial reserves, making it a strong candidate for profit generation.\n",
    "\n",
    "5. **Consistent Results**: The fact that Geo 1 remains profitable across simulations, with a high average profit and relatively low risk, makes it a more dependable choice for future well development compared to the other regions.\n",
    "\n",
    "In summary, Geo 1 stands out as the most reliable and profitable region for well development due to its combination of higher average profit, lower risk of loss, and more stable confidence intervals."
   ]
  }
 ],
 "metadata": {
  "kernelspec": {
   "display_name": "Python 3 (ipykernel)",
   "language": "python",
   "name": "python3"
  },
  "language_info": {
   "codemirror_mode": {
    "name": "ipython",
    "version": 3
   },
   "file_extension": ".py",
   "mimetype": "text/x-python",
   "name": "python",
   "nbconvert_exporter": "python",
   "pygments_lexer": "ipython3",
   "version": "3.12.3"
  },
  "toc": {
   "base_numbering": 1,
   "nav_menu": {},
   "number_sections": true,
   "sideBar": true,
   "skip_h1_title": false,
   "title_cell": "Table of Contents",
   "title_sidebar": "Contents",
   "toc_cell": false,
   "toc_position": {
    "height": "calc(100% - 180px)",
    "left": "10px",
    "top": "150px",
    "width": "187px"
   },
   "toc_section_display": true,
   "toc_window_display": false
  }
 },
 "nbformat": 4,
 "nbformat_minor": 5
}
