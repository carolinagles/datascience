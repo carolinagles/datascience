{
 "cells": [
  {
   "cell_type": "markdown",
   "id": "a6c0bad6",
   "metadata": {},
   "source": [
    "<p style=\"color: #000000; font-size: 32px; font-weight: bold; text-align: center; margin-top: 20px;\">  En la Búsqueda de los Próximos 200 Pozos Petroleros \n",
    "</p>\n",
    "<p style=\"color: #000000; font-size: 24px; text-align: center; margin-bottom: 20px;\"> Oily Giant Company\n",
    "</p>\n",
    "\n",
    "<hr style=\"border: .4px solid #000000; width: 55%; margin: 10px auto;\">"
   ]
  },
  {
   "cell_type": "markdown",
   "id": "9b29b4e7",
   "metadata": {},
   "source": [
    "**Este proyecto** se centra en identificar las mejores ubicaciones para abrir nuevos pozos de petróleo en tres regiones utilizando datos geológicos sintéticos y un modelo de regresión lineal. El objetivo principal es maximizar los beneficios y minimizar los riesgos, asegurando la sostenibilidad económica de la inversión.\n",
    "\n",
    "**Los principales pasos a realizar son los siguientes:**  \n",
    "\n",
    "1. **Leer** los archivos con los parámetros de los pozos petrolíferos: `calidad del crudo` y `volumen de reservas`.  \n",
    "2. **Crear** un modelo para predecir el `volumen de reservas` en nuevos pozos.  \n",
    "3. **Seleccionar** los pozos con los valores estimados más altos.  \n",
    "4. **Identificar** la región con el mayor beneficio total para los pozos seleccionados.  \n",
    "\n",
    "Se analizan los beneficios y riesgos potenciales utilizando la técnica **bootstrapping**.\n",
    "\n",
    "\n",
    "**Las siguientes son las condiciones para realizar el proyectop:**\n",
    "  - Solo se debe usar la regresión lineal para el entrenamiento del modelo.\n",
    "  - Al explorar la región, se lleva a cabo un estudio de 500 puntos con la selección de los mejores 200 puntos para el cálculo del beneficio.\n",
    "  - El presupuesto para el desarrollo de 200 pozos petroleros es de **100 millones de dólares**.\n",
    "  - Un barril de materias primas genera **4.5 USD** de ingresos. El ingreso de una unidad de producto es de **4500 dólares** (el volumen de reservas está expresado en miles de barriles).\n",
    "  - Después de la evaluación de riesgo:\n",
    "    - Mantén solo las regiones con un riesgo de pérdidas inferior al **2.5%**.\n",
    "    - De las que se ajustan a los criterios, selecciona la región con el beneficio promedio más alto.\n",
    "\n",
    "## Descripción de los Datos\n",
    "Los datasets de las tres regiones contienen las siguientes características:\n",
    "\n",
    "- **`id`**: Identificador único de pozo.\n",
    "- **`f0`, `f1`, `f2`**: Características de los puntos de exploración.\n",
    "- **`product`**: Volumen de reservas de petróleo (miles de barriles).\n",
    "---  \n",
    "**Los datos son sintéticos:** los detalles del contrato y las características del pozo no se publican"
   ]
  },
  {
   "cell_type": "markdown",
   "id": "f3d89ba0",
   "metadata": {},
   "source": [
    "# 1. Librerias y Carga de Datos"
   ]
  },
  {
   "cell_type": "code",
   "execution_count": 24,
   "id": "3f06dd03",
   "metadata": {},
   "outputs": [],
   "source": [
    "import pandas as pd\n",
    "import numpy as np\n",
    "from numpy import mean\n",
    "from sklearn.model_selection import train_test_split\n",
    "from sklearn.preprocessing import StandardScaler\n",
    "from sklearn.linear_model import LinearRegression\n",
    "from sklearn.metrics import mean_squared_error\n",
    "import locale # formatting currency"
   ]
  },
  {
   "cell_type": "code",
   "execution_count": 25,
   "id": "f32a7f05",
   "metadata": {},
   "outputs": [],
   "source": [
    "# Leer los archivos CSV\n",
    "geo_0 = pd.read_csv(\"geo_data_0.csv\")\n",
    "geo_1 = pd.read_csv(\"geo_data_1.csv\")\n",
    "geo_2 = pd.read_csv(\"geo_data_2.csv\")"
   ]
  },
  {
   "cell_type": "code",
   "execution_count": 36,
   "id": "63eec694",
   "metadata": {},
   "outputs": [
    {
     "name": "stdout",
     "output_type": "stream",
     "text": [
      "geo_0:\n",
      "         f0        f1        f2     product\n",
      "0  0.705745 -0.497823  1.221170  105.280062\n",
      "1  1.334711 -0.340164  4.365080   73.037750\n",
      "2  1.022732  0.151990  1.419926   85.265647\n",
      "3 -0.032172  0.139033  2.978566  168.620776\n",
      "4  1.988431  0.155413  4.751769  154.036647\n",
      "\n",
      "geo_1:\n",
      "          f0         f1        f2     product\n",
      "0 -15.001348  -8.276000 -0.005876    3.179103\n",
      "1  14.272088  -3.475083  0.999183   26.953261\n",
      "2   6.263187  -5.948386  5.001160  134.766305\n",
      "3 -13.081196 -11.506057  4.999415  137.945408\n",
      "4  12.702195  -8.147433  5.004363  134.766305\n",
      "\n",
      "geo_2:\n",
      "         f0        f1        f2     product\n",
      "0 -1.146987  0.963328 -0.828965   27.758673\n",
      "1  0.262778  0.269839 -2.530187   56.069697\n",
      "2  0.194587  0.289035 -5.586433   62.871910\n",
      "3  2.236060 -0.553760  0.930038  114.572842\n",
      "4 -0.515993  1.716266  5.899011  149.600746\n",
      "\n"
     ]
    }
   ],
   "source": [
    "# Crear la lista de datasets\n",
    "datasets = [geo_0, geo_1, geo_2]\n",
    "\n",
    "# Imprimir las primeras 5 filas de cada dataset\n",
    "for i in range(len(datasets)):\n",
    "    print('geo_' + str(i) + ':')\n",
    "    print(datasets[i].head(5))\n",
    "    print()"
   ]
  },
  {
   "cell_type": "code",
   "execution_count": 37,
   "id": "5c7c1a25",
   "metadata": {},
   "outputs": [
    {
     "name": "stdout",
     "output_type": "stream",
     "text": [
      "geo_0 info:\n",
      "<class 'pandas.core.frame.DataFrame'>\n",
      "RangeIndex: 100000 entries, 0 to 99999\n",
      "Data columns (total 4 columns):\n",
      " #   Column   Non-Null Count   Dtype  \n",
      "---  ------   --------------   -----  \n",
      " 0   f0       100000 non-null  float64\n",
      " 1   f1       100000 non-null  float64\n",
      " 2   f2       100000 non-null  float64\n",
      " 3   product  100000 non-null  float64\n",
      "dtypes: float64(4)\n",
      "memory usage: 3.1 MB\n",
      "None\n",
      "\n",
      "geo_1 info:\n",
      "<class 'pandas.core.frame.DataFrame'>\n",
      "RangeIndex: 100000 entries, 0 to 99999\n",
      "Data columns (total 4 columns):\n",
      " #   Column   Non-Null Count   Dtype  \n",
      "---  ------   --------------   -----  \n",
      " 0   f0       100000 non-null  float64\n",
      " 1   f1       100000 non-null  float64\n",
      " 2   f2       100000 non-null  float64\n",
      " 3   product  100000 non-null  float64\n",
      "dtypes: float64(4)\n",
      "memory usage: 3.1 MB\n",
      "None\n",
      "\n",
      "geo_2 info:\n",
      "<class 'pandas.core.frame.DataFrame'>\n",
      "RangeIndex: 100000 entries, 0 to 99999\n",
      "Data columns (total 4 columns):\n",
      " #   Column   Non-Null Count   Dtype  \n",
      "---  ------   --------------   -----  \n",
      " 0   f0       100000 non-null  float64\n",
      " 1   f1       100000 non-null  float64\n",
      " 2   f2       100000 non-null  float64\n",
      " 3   product  100000 non-null  float64\n",
      "dtypes: float64(4)\n",
      "memory usage: 3.1 MB\n",
      "None\n",
      "\n"
     ]
    }
   ],
   "source": [
    "# Info. de datasets\n",
    "for i in range(len(datasets)):\n",
    "    print('geo_' + str(i) + ' info:')\n",
    "    print(datasets[i].info())\n",
    "    print()"
   ]
  },
  {
   "cell_type": "markdown",
   "id": "bb439606",
   "metadata": {},
   "source": [
    "**Calidad de los datos:**\n",
    "  - No hay valores ausentes.\n",
    "  - Los tipos de datos (*dtypes*) son correctos.\n",
    "  - Se buscarán valores duplicados."
   ]
  },
  {
   "cell_type": "code",
   "execution_count": 28,
   "id": "b232956b",
   "metadata": {},
   "outputs": [
    {
     "name": "stdout",
     "output_type": "stream",
     "text": [
      "Duplicados en Geo 0: 0\n",
      "Duplicados en Geo 1: 0\n",
      "Duplicados en Geo 2: 0\n"
     ]
    }
   ],
   "source": [
    "# Duplicados en los datasets\n",
    "print(f\"Duplicados en Geo 0: {geo_0.duplicated().sum()}\")\n",
    "print(f\"Duplicados en Geo 1: {geo_1.duplicated().sum()}\")\n",
    "print(f\"Duplicados en Geo 2: {geo_2.duplicated().sum()}\")"
   ]
  },
  {
   "cell_type": "markdown",
   "id": "10a8d03c",
   "metadata": {},
   "source": [
    "Debido a que no son datos necesarios, se eliminaran las columnas de `'id'` en los 3 DataFrames. "
   ]
  },
  {
   "cell_type": "code",
   "execution_count": 29,
   "id": "cfd8541f",
   "metadata": {},
   "outputs": [],
   "source": [
    "# Eliminar columnas de 'id' \n",
    "geo_0 = geo_0.drop('id',axis=1)\n",
    "geo_1 = geo_1.drop('id',axis=1)\n",
    "geo_2 = geo_2.drop('id',axis=1)"
   ]
  },
  {
   "cell_type": "markdown",
   "id": "83394cd9",
   "metadata": {},
   "source": [
    "# 2. Entrenamiento y Prueba del Modelo para cada Región."
   ]
  },
  {
   "cell_type": "markdown",
   "id": "af064d42",
   "metadata": {},
   "source": [
    "Ahora, se crean los juntos entrenamiento y validación para las tres regiones.    \n",
    "La **Relación es de 3:1**, entonces es un 75% para entrenamiento y un 25% para validacion.   \n",
    "Para ello, se usará la función `train_test_split` del módulo `sklearn.model_selection` para dividir los datos.   "
   ]
  },
  {
   "cell_type": "code",
   "execution_count": 30,
   "id": "e5b1d5dd",
   "metadata": {},
   "outputs": [],
   "source": [
    "# Crear training, validation, y testing datasets (Ratio of 3:1)\n",
    "\n",
    "# 'Features' para cada región\n",
    "geo_0_features = geo_0.drop('product', axis=1)\n",
    "geo_1_features = geo_1.drop('product', axis=1)\n",
    "geo_2_features = geo_2.drop('product', axis=1)\n",
    "\n",
    "# 'Targets' para cada región\n",
    "geo_0_target = geo_0['product']\n",
    "geo_1_target = geo_1['product']\n",
    "geo_2_target = geo_2['product']\n",
    "\n",
    "# Dividir feature and target para cada region en training y validation datasets \n",
    "# test_size con 0.25 y training dataset con 0.75 de los datos\n",
    "features_train_0, features_valid_0, target_train_0, target_valid_0 = train_test_split(geo_0_features, geo_0_target, test_size=0.25)\n",
    "features_train_1, features_valid_1, target_train_1, target_valid_1 = train_test_split(geo_1_features, geo_1_target, test_size=0.25)\n",
    "features_train_2, features_valid_2, target_train_2, target_valid_2 = train_test_split(geo_2_features, geo_2_target, test_size=0.25)"
   ]
  },
  {
   "cell_type": "code",
   "execution_count": 31,
   "id": "9e2c63ae",
   "metadata": {},
   "outputs": [
    {
     "name": "stdout",
     "output_type": "stream",
     "text": [
      "Geo 0:\n",
      "Entrenamiento: 0.75 | Validación: 0.25\n",
      "Geo 1:\n",
      "Entrenamiento: 0.75 | Validación: 0.25\n",
      "Geo 2:\n",
      "Entrenamiento: 0.75 | Validación: 0.25\n"
     ]
    }
   ],
   "source": [
    "# Función para verificar proporciones de las divisiones de datos para cada región\n",
    "def check_split_proportion(region_name, total, train, valid, test_size=0.25):\n",
    "    train_prop = train / total\n",
    "    valid_prop = valid / total\n",
    "    print(f\"{region_name}:\")\n",
    "    print(f\"Entrenamiento: {train_prop:.2f} | Validación: {valid_prop:.2f}\")\n",
    "\n",
    "# Validar proporciones para cada región\n",
    "check_split_proportion(\"Geo 0\", len(geo_0_features), len(features_train_0), len(features_valid_0))\n",
    "check_split_proportion(\"Geo 1\", len(geo_1_features), len(features_train_1), len(features_valid_1))\n",
    "check_split_proportion(\"Geo 2\", len(geo_2_features), len(features_train_2), len(features_valid_2))"
   ]
  },
  {
   "cell_type": "markdown",
   "id": "4e90e432",
   "metadata": {},
   "source": [
    "## 2.1. Entrenamiento de Modelo  \n",
    "Se creará una función para entrenar el modelo y analizar los resultados.\n",
    "\n",
    "- `sklearn.linear_model.LinearRegression`: Se utiliza para implementar el modelo de regresión lineal, que predice las reservas en función de las características de los datos.   \n",
    "\n",
    "- `sklearn.metrics.mean_squared_error`: Calcula el Error Cuadrático Medio (MSE), una métrica que evalúa el rendimiento del modelo y su precisión en las predicciones.    \n",
    "\n",
    "Entrenar un modelo separado para cada región permite capturar variaciones específicas en los datos, lo que puede mejorar la precisión de las predicciones."
   ]
  },
  {
   "cell_type": "code",
   "execution_count": 32,
   "id": "62130116",
   "metadata": {},
   "outputs": [
    {
     "name": "stdout",
     "output_type": "stream",
     "text": [
      "Geo 0\n",
      "Volumen promedio de reservas previstas: 92.6 mil barriles\n",
      "RMSE del modelo de regresión lineal: 37.65\n",
      "\n",
      "Geo 1\n",
      "Volumen promedio de reservas previstas: 68.8 mil barriles\n",
      "RMSE del modelo de regresión lineal: 0.89\n",
      "\n",
      "Geo 2\n",
      "Volumen promedio de reservas previstas: 95.21 mil barriles\n",
      "RMSE del modelo de regresión lineal: 39.98\n"
     ]
    }
   ],
   "source": [
    "# Función para entrenar el modelo, realizar predicciones y calcular métricas\n",
    "def analizar_reservas(features_train, target_train, features_valid, target_valid):\n",
    "    # Crear el modelo\n",
    "    modelo = LinearRegression()\n",
    "    \n",
    "    # Entrenar el modelo con los datos de entrenamiento\n",
    "    modelo.fit(features_train, target_train)\n",
    "    \n",
    "    # Realizar predicciones en los datos de validación\n",
    "    predicciones = modelo.predict(features_valid)\n",
    "    \n",
    "    # Calcular el promedio de reservas previstas\n",
    "    promedio_reservas = round(predicciones.mean(), 2)\n",
    "    \n",
    "    # Calcular el RMSE del modelo\n",
    "    rmse = mean_squared_error(target_valid, predicciones) ** 0.5\n",
    "    \n",
    "    # Imprimir resultados\n",
    "    print(f\"Volumen promedio de reservas previstas: {promedio_reservas} mil barriles\")\n",
    "    print(f\"RMSE del modelo de regresión lineal: {round(rmse, 2)}\")\n",
    "    \n",
    "    # Devolver el modelo entrenado y las predicciones\n",
    "    return modelo, predicciones\n",
    "\n",
    "# Aplicar la función a las tres regiones\n",
    "print(\"Geo 0\")\n",
    "modelo_0, predicciones_0 = analizar_reservas(features_train_0, target_train_0, features_valid_0, target_valid_0)\n",
    "\n",
    "print(\"\\nGeo 1\")\n",
    "modelo_1, predicciones_1 = analizar_reservas(features_train_1, target_train_1, features_valid_1, target_valid_1)\n",
    "\n",
    "print(\"\\nGeo 2\")\n",
    "modelo_2, predicciones_2 = analizar_reservas(features_train_2, target_train_2, features_valid_2, target_valid_2)\n"
   ]
  },
  {
   "cell_type": "markdown",
   "id": "afe54a30",
   "metadata": {},
   "source": [
    "**Análisis de Resultados**\n",
    "\n",
    "- **Geo 1**: Muestra el mejor rendimiento del modelo con el error más bajo (**RMSE = 0.89**) y predice reservas promedio de **68.48 mil barriles**.    \n",
    "- **Geo 0 y Geo 2**: Tienen errores de predicción mucho más altos (**RMSE de 37.75 y 39.92**, respectivamente) y predicen reservas más altas (**92.78 y 95.05 mil barriles**).     \n",
    "\n",
    "El **RMSE significativamente más bajo para Geo 1** sugiere que las predicciones para esta área son mucho más confiables que las de las otras dos regiones.   \n"
   ]
  },
  {
   "cell_type": "markdown",
   "id": "f1d75060",
   "metadata": {},
   "source": [
    "# 3. Cálculo de Ganancias  \n",
    "\n",
    "Se tomarán en cuenta los siguientes datos clave para calcular las ganancias:   \n",
    "\n",
    "- **Presupuesto**: El presupuesto total para desarrollar 200 pozos petroleros es de **100 millones de dólares**, lo que equivale a **0.5 millones por pozo**.   \n",
    "- **Ingresos por barril**: Cada barril de materias primas genera **4.5 USD** de ingresos.   \n",
    "- **Ingresos por unidad de producto**: Como el volumen de reservas se expresa en miles de barriles, el ingreso por unidad de producto es de **4500 dólares** (1000 barriles × 4.5 USD/barril).   "
   ]
  },
  {
   "cell_type": "code",
   "execution_count": 33,
   "id": "5f8ed557",
   "metadata": {},
   "outputs": [
    {
     "name": "stdout",
     "output_type": "stream",
     "text": [
      "Se requieren un total de 22222.22 miles de barriles para evitar pérdidas.\n",
      "Se requieren aproximadamente 111.11 miles de barriles por reserva.\n"
     ]
    }
   ],
   "source": [
    "# Variables para presupuesto\n",
    "budget = 100_000_000  # en dólares\n",
    "profit = 4_500      # ingresos por unidad (miles de barriles)\n",
    "\n",
    "# Volumen de reservas necesario para no tener pérdidas\n",
    "reservas_necesarias = budget / profit\n",
    "\n",
    "# Resultados\n",
    "print(f\"Se requieren un total de {round(reservas_necesarias, 2)} miles de barriles para evitar pérdidas.\")\n",
    "print(f\"Se requieren aproximadamente {round(reservas_necesarias / 200, 2)} miles de barriles por reserva.\")"
   ]
  },
  {
   "cell_type": "markdown",
   "id": "79be62bc",
   "metadata": {},
   "source": [
    "**Analizando la relación entre los resultados**:\n",
    "\n",
    "Las predicciones por área geográfica muestran que ninguna zona por sí sola alcanza el requerimiento de 111.11 mil barriles promedio por pozo que se necesita.\n",
    "\n",
    "Ninguna zona individualmente alcanza el volumen promedio mínimo requerido por pozo."
   ]
  },
  {
   "cell_type": "markdown",
   "id": "bc940808",
   "metadata": {},
   "source": [
    "## 3.1 Análisis de Ganancias, Predicciones y Evaluación de Riesgos en Pozos Petrolero\n",
    "\n",
    "Para finalizar con el análisis, se calculan las posibles ganancias seleccionando los pozos más productivos según las predicciones del modelo de regresión lineal. Para cada región, se estima el volumen de reservas, se proyectan los beneficios y se sugiere la región más rentable para desarrollar pozos, basado en los resultados obtenidos.\n",
    "\n",
    "Además, se usa la técnica de **bootstrapping** con 1,000 simulaciones para evaluar los riesgos y beneficios. Esto incluye calcular el beneficio promedio, el intervalo de confianza del 95% y la probabilidad de pérdidas. "
   ]
  },
  {
   "cell_type": "code",
   "execution_count": 34,
   "id": "349c1ef7",
   "metadata": {},
   "outputs": [
    {
     "name": "stdout",
     "output_type": "stream",
     "text": [
      "Geo 0\n",
      "Beneficio: $31,526,120.57\n",
      "Volumen de reservas objetivo: 29228.03 miles de barriles\n",
      "\n",
      "Geo 1\n",
      "Beneficio: $24,150,866.97\n",
      "Volumen de reservas objetivo: 27589.08 miles de barriles\n",
      "\n",
      "Geo 2\n",
      "Beneficio: $26,092,896.14\n",
      "Volumen de reservas objetivo: 28020.64 miles de barriles\n",
      "\n"
     ]
    }
   ],
   "source": [
    "# Función para calcular el beneficio basado en los valores predichos de cada región\n",
    "def get_profit(targets, predictions, count, budget):\n",
    "    '''Función para calcular el beneficio potencial basado en los volúmenes de reservas de petróleo predichos para cada región'''\n",
    "    \n",
    "    # Ordenar los volúmenes predichos de mayor a menor\n",
    "    predictions_sorted = pd.Series(predictions).sort_values(ascending=False)[:count]\n",
    "    \n",
    "    # Seleccionar los 200 volúmenes de reservas más grandes para cada región, pero utilizar los volúmenes objetivo (volúmenes reales)\n",
    "    selected_wells = targets.iloc[predictions_sorted.index]\n",
    "    \n",
    "    # Calcular el beneficio basado en una unidad que produce un ingreso de $4,500\n",
    "    # Restar el presupuesto de $100,000,000 del ingreso total\n",
    "    profit = (4500 * selected_wells.sum()) - budget\n",
    "    \n",
    "    # Retornar el valor del beneficio\n",
    "    return round(profit, 2)\n",
    "\n",
    "\n",
    "# Crear una lista de los valores predichos y los valores reales (targets) para cada región\n",
    "predictions = [predicciones_0, predicciones_1, predicciones_2]\n",
    "targets = [target_valid_0.reset_index(drop=True), target_valid_1.reset_index(drop=True), target_valid_2.reset_index(drop=True)]\n",
    "\n",
    "profits = []\n",
    "\n",
    "# Bucle para ejecutar la función get_profit en los conjuntos de datos predichos de cada región\n",
    "# Almacenar los valores de beneficio en la lista 'profits'\n",
    "for i in range(len(predictions)):\n",
    "    profits.append(get_profit(targets[i], predictions[i], 200, budget))  # Asegúrate de pasar 'budget' como argumento\n",
    "\n",
    "# Establecer la moneda local en USD (asegúrate de utilizar un locale que soporte formato monetario)\n",
    "locale.setlocale(locale.LC_ALL, 'en_US.UTF-8')\n",
    "\n",
    "# Imprimir los valores de beneficio para cada región\n",
    "for i in range(len(profits)):\n",
    "    print(f'Geo {i}')\n",
    "    print(f'Beneficio: {locale.currency(profits[i], grouping=True)}')\n",
    "    print(f'Volumen de reservas objetivo: {round((profits[i] + budget) / 4500, 2)} miles de barriles\\n')"
   ]
  },
  {
   "cell_type": "code",
   "execution_count": 35,
   "id": "e6536179",
   "metadata": {},
   "outputs": [
    {
     "name": "stdout",
     "output_type": "stream",
     "text": [
      "Geo 0\n",
      "Ganacias promedio: $4,063,083.37\n",
      "Volumen objetivo de reservas de petróleo: 23125.13 miles de barriles\n",
      "Intervalo de confianza al 95%: -$843,254.51 to $9,110,175.60\n",
      "Riesgo de pérdida: 5.20%\n",
      "\n",
      "Geo 1\n",
      "Ganacias promedio: $4,547,122.26\n",
      "Volumen objetivo de reservas de petróleo: 23232.69 miles de barriles\n",
      "Intervalo de confianza al 95%: $659,233.98 to $8,829,539.72\n",
      "Riesgo de pérdida: 1.20%\n",
      "\n",
      "Geo 2\n",
      "Ganacias promedio: $3,238,367.33\n",
      "Volumen objetivo de reservas de petróleo: 22941.86 miles de barriles\n",
      "Intervalo de confianza al 95%: -$1,980,487.95 to $8,315,987.85\n",
      "Riesgo de pérdida: 11.80%\n",
      "\n"
     ]
    }
   ],
   "source": [
    "def get_profit_distribution(targets, predictions, count, budget):\n",
    "    '''Función que calcula la distribución del beneficio utilizando el método de bootstrapping'''\n",
    "    \n",
    "    # Inicializar el estado aleatorio\n",
    "    state = np.random.RandomState(12345)\n",
    "    \n",
    "    # Lista para almacenar los valores de los beneficios\n",
    "    values = []\n",
    "    \n",
    "    # Crear un DataFrame con las predicciones y los objetivos\n",
    "    combined_df = pd.DataFrame()\n",
    "    combined_df['predictions'] = predictions\n",
    "    combined_df['targets'] = targets.reset_index(drop=True)\n",
    "    \n",
    "    # Obtener 1000 muestras con reemplazo\n",
    "    for i in range(1000):\n",
    "        target_subsample = combined_df.sample(n=500, replace=True, random_state=state).reset_index(drop=True)\n",
    "        values.append(get_profit(target_subsample['targets'], target_subsample['predictions'], count, budget))\n",
    "    \n",
    "    # Convertir la lista de beneficios en una serie de pandas\n",
    "    values = pd.Series(values)\n",
    "    \n",
    "    # Calcular la media de los beneficios\n",
    "    mean = values.mean()\n",
    "    \n",
    "    # Intervalo de confianza del 95%\n",
    "    upper = values.quantile(0.975)\n",
    "    lower = values.quantile(0.025)\n",
    "    \n",
    "    # Riesgo de pérdida (beneficio negativo)\n",
    "    count_loss = (values < 0).sum()\n",
    "    risk_of_loss = (count_loss * 100) / len(values)\n",
    "    \n",
    "    # Calcular el volumen objetivo de reservas de petróleo\n",
    "    target_oil_reserve_volume = (mean + budget) / 4500\n",
    "    \n",
    "    # Imprimir los resultados\n",
    "    print(f\"Ganacias promedio: {locale.currency(mean, grouping=True)}\")\n",
    "    print(f\"Volumen objetivo de reservas de petróleo: {round(target_oil_reserve_volume, 2)} miles de barriles\")\n",
    "    print(f\"Intervalo de confianza al 95%: {locale.currency(lower, grouping=True)} to {locale.currency(upper, grouping=True)}\")\n",
    "    print(f\"Riesgo de pérdida: {risk_of_loss:.2f}%\")\n",
    "\n",
    "# Ejecutar la función para cada región\n",
    "for i in range(len(predictions)):\n",
    "    print(f\"Geo {i}\")\n",
    "    get_profit_distribution(targets[i], predictions[i], 200, budget)\n",
    "    print()"
   ]
  },
  {
   "cell_type": "markdown",
   "id": "9d5bf4de",
   "metadata": {},
   "source": [
    "# Conclusiones\n",
    "\n",
    "Analizando los datos proporcionados, es más recomendable realizar los 200 pozos en la **Región 1 (geo_1)** por las siguientes razones:\n",
    "\n",
    "1. **Beneficio Promedio más Alto**: El beneficio promedio para la Geo 1 es de **4,547,122.26 USD**, el más alto entre las tres regiones (Geo 0: 4,063,083.37 USD y Geo 2: 3,238,367.33 USD). Esto sugiere que, en promedio, la Geo 1 generaría un mayor retorno de inversión.\n",
    "\n",
    "2. **Volumen de Reservas Objetivo Sostenible**: La Geo 1 tiene un volumen de reservas objetivo de **23,232.69 miles de barriles**, lo que es razonablemente cercano a las otras dos regiones, pero con un beneficio promedio más alto. Esto implica que, aunque las reservas de petróleo en la Geo 1 son relativamente similares en tamaño a las de las otras dos, la capacidad de generar más ganancias con un volumen de reservas similar es un punto a favor.\n",
    "\n",
    "3. **Riesgo de Pérdida más Bajo**: El riesgo de pérdida en la Geo 1 es solo **1.20%**, el más bajo entre las tres regiones. Comparado con la Geo 0 (5.20%) y la Geo 2 (11.80%), la Geo 1 presenta una menor probabilidad de pérdidas significativas, lo que la convierte en una opción más segura para la inversión.\n",
    "\n",
    "4. **Intervalo de Confianza al 95%**: En la Geo 1, el intervalo de confianza al 95% va de **659,233.98 USD a 8,829,539.72 USD**, lo que indica una probabilidad de resultados positivos relativamente alta y un rango de resultados que no cae por debajo de 659,233.98 USD. En contraste, las otras dos regiones tienen intervalos de confianza con valores negativos en su rango inferior, lo que sugiere que hay una mayor incertidumbre y potencial para pérdidas en esas áreas.\n",
    "\n",
    "En resumen, la Geo 1 tiene una combinación de un beneficio promedio más alto, un volumen de reservas objetivo competitivo, un bajo riesgo de pérdida y una distribución de resultados más favorable, lo que la convierte en la opción más atractiva para realizar los 200 pozos."
   ]
  }
 ],
 "metadata": {
  "kernelspec": {
   "display_name": "Python 3 (ipykernel)",
   "language": "python",
   "name": "python3"
  },
  "language_info": {
   "codemirror_mode": {
    "name": "ipython",
    "version": 3
   },
   "file_extension": ".py",
   "mimetype": "text/x-python",
   "name": "python",
   "nbconvert_exporter": "python",
   "pygments_lexer": "ipython3",
   "version": "3.12.3"
  },
  "toc": {
   "base_numbering": 1,
   "nav_menu": {},
   "number_sections": true,
   "sideBar": true,
   "skip_h1_title": false,
   "title_cell": "Table of Contents",
   "title_sidebar": "Contents",
   "toc_cell": false,
   "toc_position": {
    "height": "calc(100% - 180px)",
    "left": "10px",
    "top": "150px",
    "width": "187px"
   },
   "toc_section_display": true,
   "toc_window_display": false
  }
 },
 "nbformat": 4,
 "nbformat_minor": 5
}
