{
 "cells": [
  {
   "cell_type": "markdown",
   "metadata": {
    "id": "E0vqbgi9ay0H"
   },
   "source": [
    "<h1 style=\"text-align: center; color: #00000; font-family: Arial, sans-serif;\">\n",
    "Let's Play Some Music!\n",
    "</h1>\n",
    "<p style=\"text-align: center; font-style: italic; font-size: 18px;\">\n",
    "Exploring Music Streaming Trends: Springfield vs. Shelbyville \n",
    "</p>\n",
    "\n",
    "---\n",
    "\n",
    "# Introduction\n",
    "\n",
    "In this project, we will analyze music streaming data to understand user behavior differences in the cities of Springfield and Shelbyville. As a Data Analyst, our objective is to extract insights that can help inform decisions based on data patterns.\n",
    "\n",
    "---\n",
    "\n",
    "# Objective\n",
    "The primary hypothesis to test is:\n",
    "1. **User activity differs depending on the day of the week and the user's city**.\n",
    "\n",
    "# Project Outline\n",
    "The project will proceed in three main stages:\n",
    "1. **Data Description** - Understanding the dataset's structure and contents.\n",
    "2. **Data Preprocessing** - Cleaning and preparing the data for analysis.\n",
    "3. **Hypothesis Testing** - Testing the hypothesis by comparing user behavior.\n",
    "\n",
    "\n",
    "---\n"
   ]
  },
  {
   "cell_type": "markdown",
   "metadata": {
    "id": "Ml1hmfXC_Zcs"
   },
   "source": [
    "# Data Description \n"
   ]
  },
  {
   "cell_type": "markdown",
   "metadata": {},
   "source": [
    "## 1. Dictionary\n",
    "\n",
    "**`Music DataFrame`**\n",
    "\n",
    "- **`userID`**: Unique identifier for each user.\n",
    "- **`Track`**: The name of the track (song) played by the user. \n",
    "- **`artist`**: The artist of the track. \n",
    "- **`genre`**: The genre of the track. \n",
    "- **`City`**: The city where the track was played, based on the user’s location\t(\"Shelbyville\" or \"Springfield\").\n",
    "- **`time`**: The exact time the track was played.\n",
    "- **`Day`**: The day of the week when the track was played, stored as a string (\"Monday\", \"Wednesday\", or \"Friday\")."
   ]
  },
  {
   "cell_type": "markdown",
   "metadata": {
    "id": "57eAOGIz_Zcs"
   },
   "source": [
    "### 1.1 Libraries"
   ]
  },
  {
   "cell_type": "code",
   "execution_count": 1,
   "metadata": {
    "id": "AXN7PHPN_Zcs"
   },
   "outputs": [],
   "source": [
    "# Import the pandas library to work with data in DataFrame format\n",
    "# Libraries for plotting \n",
    "import pandas as pd  \n",
    "import matplotlib.pyplot as plt \n",
    "import seaborn as sns"
   ]
  },
  {
   "cell_type": "code",
   "execution_count": 2,
   "metadata": {
    "id": "fFVu7vqh_Zct"
   },
   "outputs": [],
   "source": [
    "# Read Music Project cvs and creat the DataFrame 'df_music'\n",
    "\n",
    "df_music = pd.read_csv('music_project.csv')"
   ]
  },
  {
   "cell_type": "code",
   "execution_count": 3,
   "metadata": {
    "id": "oWTVX3gW_Zct"
   },
   "outputs": [
    {
     "name": "stdout",
     "output_type": "stream",
     "text": [
      "First rows of Music DataFrame:\n"
     ]
    },
    {
     "data": {
      "text/html": [
       "<div>\n",
       "<style scoped>\n",
       "    .dataframe tbody tr th:only-of-type {\n",
       "        vertical-align: middle;\n",
       "    }\n",
       "\n",
       "    .dataframe tbody tr th {\n",
       "        vertical-align: top;\n",
       "    }\n",
       "\n",
       "    .dataframe thead th {\n",
       "        text-align: right;\n",
       "    }\n",
       "</style>\n",
       "<table border=\"1\" class=\"dataframe\">\n",
       "  <thead>\n",
       "    <tr style=\"text-align: right;\">\n",
       "      <th></th>\n",
       "      <th>userID</th>\n",
       "      <th>Track</th>\n",
       "      <th>artist</th>\n",
       "      <th>genre</th>\n",
       "      <th>City</th>\n",
       "      <th>time</th>\n",
       "      <th>Day</th>\n",
       "    </tr>\n",
       "  </thead>\n",
       "  <tbody>\n",
       "    <tr>\n",
       "      <th>0</th>\n",
       "      <td>FFB692EC</td>\n",
       "      <td>Kamigata To Boots</td>\n",
       "      <td>The Mass Missile</td>\n",
       "      <td>rock</td>\n",
       "      <td>Shelbyville</td>\n",
       "      <td>20:28:33</td>\n",
       "      <td>Wednesday</td>\n",
       "    </tr>\n",
       "    <tr>\n",
       "      <th>1</th>\n",
       "      <td>55204538</td>\n",
       "      <td>Delayed Because of Accident</td>\n",
       "      <td>Andreas Rönnberg</td>\n",
       "      <td>rock</td>\n",
       "      <td>Springfield</td>\n",
       "      <td>14:07:09</td>\n",
       "      <td>Friday</td>\n",
       "    </tr>\n",
       "    <tr>\n",
       "      <th>2</th>\n",
       "      <td>20EC38</td>\n",
       "      <td>Funiculì funiculà</td>\n",
       "      <td>Mario Lanza</td>\n",
       "      <td>pop</td>\n",
       "      <td>Shelbyville</td>\n",
       "      <td>20:58:07</td>\n",
       "      <td>Wednesday</td>\n",
       "    </tr>\n",
       "    <tr>\n",
       "      <th>3</th>\n",
       "      <td>A3DD03C9</td>\n",
       "      <td>Dragons in the Sunset</td>\n",
       "      <td>Fire + Ice</td>\n",
       "      <td>folk</td>\n",
       "      <td>Shelbyville</td>\n",
       "      <td>08:37:09</td>\n",
       "      <td>Monday</td>\n",
       "    </tr>\n",
       "    <tr>\n",
       "      <th>4</th>\n",
       "      <td>E2DC1FAE</td>\n",
       "      <td>Soul People</td>\n",
       "      <td>Space Echo</td>\n",
       "      <td>dance</td>\n",
       "      <td>Springfield</td>\n",
       "      <td>08:34:34</td>\n",
       "      <td>Monday</td>\n",
       "    </tr>\n",
       "    <tr>\n",
       "      <th>5</th>\n",
       "      <td>842029A1</td>\n",
       "      <td>Chains</td>\n",
       "      <td>Obladaet</td>\n",
       "      <td>rusrap</td>\n",
       "      <td>Shelbyville</td>\n",
       "      <td>13:09:41</td>\n",
       "      <td>Friday</td>\n",
       "    </tr>\n",
       "    <tr>\n",
       "      <th>6</th>\n",
       "      <td>4CB90AA5</td>\n",
       "      <td>True</td>\n",
       "      <td>Roman Messer</td>\n",
       "      <td>dance</td>\n",
       "      <td>Springfield</td>\n",
       "      <td>13:00:07</td>\n",
       "      <td>Wednesday</td>\n",
       "    </tr>\n",
       "    <tr>\n",
       "      <th>7</th>\n",
       "      <td>F03E1C1F</td>\n",
       "      <td>Feeling This Way</td>\n",
       "      <td>Polina Griffith</td>\n",
       "      <td>dance</td>\n",
       "      <td>Springfield</td>\n",
       "      <td>20:47:49</td>\n",
       "      <td>Wednesday</td>\n",
       "    </tr>\n",
       "    <tr>\n",
       "      <th>8</th>\n",
       "      <td>8FA1D3BE</td>\n",
       "      <td>L’estate</td>\n",
       "      <td>Julia Dalia</td>\n",
       "      <td>ruspop</td>\n",
       "      <td>Springfield</td>\n",
       "      <td>09:17:40</td>\n",
       "      <td>Friday</td>\n",
       "    </tr>\n",
       "    <tr>\n",
       "      <th>9</th>\n",
       "      <td>E772D5C0</td>\n",
       "      <td>Pessimist</td>\n",
       "      <td>NaN</td>\n",
       "      <td>dance</td>\n",
       "      <td>Shelbyville</td>\n",
       "      <td>21:20:49</td>\n",
       "      <td>Wednesday</td>\n",
       "    </tr>\n",
       "    <tr>\n",
       "      <th>10</th>\n",
       "      <td>BC5A3A29</td>\n",
       "      <td>Gool la Mita</td>\n",
       "      <td>Shireen Abdul Wahab</td>\n",
       "      <td>world</td>\n",
       "      <td>Springfield</td>\n",
       "      <td>14:08:42</td>\n",
       "      <td>Monday</td>\n",
       "    </tr>\n",
       "    <tr>\n",
       "      <th>11</th>\n",
       "      <td>8B5192C0</td>\n",
       "      <td>Is There Anybody Out There? (Panoramic Paralys...</td>\n",
       "      <td>Pink Floyd Floydhead</td>\n",
       "      <td>electronic</td>\n",
       "      <td>Springfield</td>\n",
       "      <td>13:47:49</td>\n",
       "      <td>Monday</td>\n",
       "    </tr>\n",
       "    <tr>\n",
       "      <th>12</th>\n",
       "      <td>FF3FD2BD</td>\n",
       "      <td>Truth</td>\n",
       "      <td>Bamboo</td>\n",
       "      <td>pop</td>\n",
       "      <td>Springfield</td>\n",
       "      <td>09:19:49</td>\n",
       "      <td>Monday</td>\n",
       "    </tr>\n",
       "    <tr>\n",
       "      <th>13</th>\n",
       "      <td>CC782B0F</td>\n",
       "      <td>After School Special</td>\n",
       "      <td>Detroit Grand Pubahs</td>\n",
       "      <td>dance</td>\n",
       "      <td>Springfield</td>\n",
       "      <td>20:04:12</td>\n",
       "      <td>Friday</td>\n",
       "    </tr>\n",
       "    <tr>\n",
       "      <th>14</th>\n",
       "      <td>94EB25C2</td>\n",
       "      <td>Make Love Whenever You Can</td>\n",
       "      <td>Arabesque</td>\n",
       "      <td>pop</td>\n",
       "      <td>Shelbyville</td>\n",
       "      <td>13:22:08</td>\n",
       "      <td>Wednesday</td>\n",
       "    </tr>\n",
       "    <tr>\n",
       "      <th>15</th>\n",
       "      <td>E3C5756F</td>\n",
       "      <td>NaN</td>\n",
       "      <td>NaN</td>\n",
       "      <td>NaN</td>\n",
       "      <td>Springfield</td>\n",
       "      <td>09:24:51</td>\n",
       "      <td>Monday</td>\n",
       "    </tr>\n",
       "    <tr>\n",
       "      <th>16</th>\n",
       "      <td>81D05C7D</td>\n",
       "      <td>SLAVES OF FEAR</td>\n",
       "      <td>HEALTH</td>\n",
       "      <td>alternative</td>\n",
       "      <td>Shelbyville</td>\n",
       "      <td>20:54:48</td>\n",
       "      <td>Monday</td>\n",
       "    </tr>\n",
       "    <tr>\n",
       "      <th>17</th>\n",
       "      <td>39DE290E</td>\n",
       "      <td>Hallo Hallo</td>\n",
       "      <td>Die Klima Hawaiians</td>\n",
       "      <td>folk</td>\n",
       "      <td>Shelbyville</td>\n",
       "      <td>14:36:47</td>\n",
       "      <td>Monday</td>\n",
       "    </tr>\n",
       "    <tr>\n",
       "      <th>18</th>\n",
       "      <td>58AE138A</td>\n",
       "      <td>Pat-a-Cake</td>\n",
       "      <td>Mother Goose Club</td>\n",
       "      <td>children</td>\n",
       "      <td>Shelbyville</td>\n",
       "      <td>20:04:56</td>\n",
       "      <td>Monday</td>\n",
       "    </tr>\n",
       "    <tr>\n",
       "      <th>19</th>\n",
       "      <td>772F5B59</td>\n",
       "      <td>Sweetback</td>\n",
       "      <td>The Fabulous Three</td>\n",
       "      <td>rnb</td>\n",
       "      <td>Springfield</td>\n",
       "      <td>13:56:42</td>\n",
       "      <td>Wednesday</td>\n",
       "    </tr>\n",
       "  </tbody>\n",
       "</table>\n",
       "</div>"
      ],
      "text/plain": [
       "      userID                                              Track  \\\n",
       "0   FFB692EC                                  Kamigata To Boots   \n",
       "1   55204538                        Delayed Because of Accident   \n",
       "2     20EC38                                  Funiculì funiculà   \n",
       "3   A3DD03C9                              Dragons in the Sunset   \n",
       "4   E2DC1FAE                                        Soul People   \n",
       "5   842029A1                                             Chains   \n",
       "6   4CB90AA5                                               True   \n",
       "7   F03E1C1F                                   Feeling This Way   \n",
       "8   8FA1D3BE                                           L’estate   \n",
       "9   E772D5C0                                          Pessimist   \n",
       "10  BC5A3A29                                       Gool la Mita   \n",
       "11  8B5192C0  Is There Anybody Out There? (Panoramic Paralys...   \n",
       "12  FF3FD2BD                                              Truth   \n",
       "13  CC782B0F                               After School Special   \n",
       "14  94EB25C2                         Make Love Whenever You Can   \n",
       "15  E3C5756F                                                NaN   \n",
       "16  81D05C7D                                     SLAVES OF FEAR   \n",
       "17  39DE290E                                        Hallo Hallo   \n",
       "18  58AE138A                                         Pat-a-Cake   \n",
       "19  772F5B59                                          Sweetback   \n",
       "\n",
       "                  artist        genre       City        time        Day  \n",
       "0       The Mass Missile         rock  Shelbyville  20:28:33  Wednesday  \n",
       "1       Andreas Rönnberg         rock  Springfield  14:07:09     Friday  \n",
       "2            Mario Lanza          pop  Shelbyville  20:58:07  Wednesday  \n",
       "3             Fire + Ice         folk  Shelbyville  08:37:09     Monday  \n",
       "4             Space Echo        dance  Springfield  08:34:34     Monday  \n",
       "5               Obladaet       rusrap  Shelbyville  13:09:41     Friday  \n",
       "6           Roman Messer        dance  Springfield  13:00:07  Wednesday  \n",
       "7        Polina Griffith        dance  Springfield  20:47:49  Wednesday  \n",
       "8            Julia Dalia       ruspop  Springfield  09:17:40     Friday  \n",
       "9                    NaN        dance  Shelbyville  21:20:49  Wednesday  \n",
       "10   Shireen Abdul Wahab        world  Springfield  14:08:42     Monday  \n",
       "11  Pink Floyd Floydhead   electronic  Springfield  13:47:49     Monday  \n",
       "12                Bamboo          pop  Springfield  09:19:49     Monday  \n",
       "13  Detroit Grand Pubahs        dance  Springfield  20:04:12     Friday  \n",
       "14             Arabesque          pop  Shelbyville  13:22:08  Wednesday  \n",
       "15                   NaN          NaN  Springfield  09:24:51     Monday  \n",
       "16                HEALTH  alternative  Shelbyville  20:54:48     Monday  \n",
       "17   Die Klima Hawaiians         folk  Shelbyville  14:36:47     Monday  \n",
       "18     Mother Goose Club     children  Shelbyville  20:04:56     Monday  \n",
       "19    The Fabulous Three          rnb  Springfield  13:56:42  Wednesday  "
      ]
     },
     "execution_count": 3,
     "metadata": {},
     "output_type": "execute_result"
    }
   ],
   "source": [
    "# Display the first rows to get an overview of the data\n",
    "\n",
    "print('First rows of Music DataFrame:')\n",
    "df_music.head(20)"
   ]
  },
  {
   "cell_type": "code",
   "execution_count": 4,
   "metadata": {
    "id": "DSf2kIb-_Zct"
   },
   "outputs": [
    {
     "name": "stdout",
     "output_type": "stream",
     "text": [
      "Info. about the Music DataFrame:\n",
      "\n",
      "<class 'pandas.core.frame.DataFrame'>\n",
      "RangeIndex: 65079 entries, 0 to 65078\n",
      "Data columns (total 7 columns):\n",
      " #   Column    Non-Null Count  Dtype \n",
      "---  ------    --------------  ----- \n",
      " 0     userID  65079 non-null  object\n",
      " 1   Track     63736 non-null  object\n",
      " 2   artist    57512 non-null  object\n",
      " 3   genre     63881 non-null  object\n",
      " 4     City    65079 non-null  object\n",
      " 5   time      65079 non-null  object\n",
      " 6   Day       65079 non-null  object\n",
      "dtypes: object(7)\n",
      "memory usage: 3.5+ MB\n"
     ]
    }
   ],
   "source": [
    "# Get general information about the data\n",
    "\n",
    "print('Info. about the Music DataFrame:\\n')\n",
    "df_music.info()"
   ]
  },
  {
   "cell_type": "markdown",
   "metadata": {
    "id": "TaQ2Iwbr_Zct"
   },
   "source": [
    "**Review of the quality of the Music DataFrame**:\n",
    "\n",
    "- The DataFrame contains seven columns. \n",
    "- It has 65079 rows (entries). \n",
    "- They store the same data types: `object`.\n",
    "\n",
    "According to the documentation:\n",
    "- `' userID'`: user identifier;\n",
    "- `'Track'`: song title;\n",
    "- `'artist'`: artist name;\n",
    "- `'genre'`: track genre;\n",
    "- `' City'`: user city;\n",
    "- `'time'`: exact time the song was played;\n",
    "- `'Day'`: day of the week.\n",
    "\n",
    "We can correct the following aspects:\n",
    "\n",
    "1. Some names are in uppercase, they should be changed to lowercase.\n",
    "2. There are spaces in some column names.\n",
    "3. `' userID' having more than two words should be written with '_' to separate them, like this: 'user_id'`.\n",
    "4. The **data types** of `time` and `day` should be changed to `datetime`.\n",
    "5. **NaN:** \n",
    "   - `userID`, `City`, `time`, and `Day`:: 65,079 non-null values – No missing values.\n",
    "   - `Track`: 63,736 non-null values – 1,343 missing values.\n",
    "   - `artist`: 57,512 non-null values – 7,567 missing values.\n",
    "   - `genre`: 63,881 non-null values – 1,198 missing values.\n",
    "   \n"
   ]
  },
  {
   "cell_type": "markdown",
   "metadata": {
    "id": "SjYF6Ub9_Zct"
   },
   "source": [
    "## 2. Data preprocessing\n",
    "\n",
    "The goal is to prepare the data for analysis.\n",
    "The first step is to resolve any issues with the headers. Then move on to missing values and look for duplicate values. "
   ]
  },
  {
   "cell_type": "markdown",
   "metadata": {
    "id": "dIaKXr29_Zct"
   },
   "source": [
    "### 2.1 Names of the columns "
   ]
  },
  {
   "cell_type": "code",
   "execution_count": 5,
   "metadata": {
    "id": "oKOTdF_Q_Zct"
   },
   "outputs": [
    {
     "name": "stdout",
     "output_type": "stream",
     "text": [
      "Names of the columns:\n",
      "['  userID', 'Track', 'artist', 'genre', '  City  ', 'time', 'Day']\n"
     ]
    }
   ],
   "source": [
    "# Display the table headers (the column names):\n",
    "print(\"Names of the columns:\")\n",
    "print(df_music.columns.tolist()) "
   ]
  },
  {
   "cell_type": "code",
   "execution_count": 6,
   "metadata": {
    "id": "6I_RwwMhzM4e"
   },
   "outputs": [
    {
     "name": "stdout",
     "output_type": "stream",
     "text": [
      "All names in lowercase:\n",
      "['  userid', 'track', 'artist', 'genre', '  city  ', 'time', 'day']\n"
     ]
    }
   ],
   "source": [
    "# For loop to iterate over the column names and make all characters lowercase\n",
    "\n",
    "new_col_names =[]\n",
    "for old_names in df_music.columns: \n",
    "    new_col_names.append(old_names.lower())\n",
    "    \n",
    "df_music.columns = new_col_names\n",
    "\n",
    "# Results\n",
    "print(\"All names in lowercase:\")\n",
    "print(df_music.columns.tolist())"
   ]
  },
  {
   "cell_type": "code",
   "execution_count": 7,
   "metadata": {
    "id": "vVQXbFyJzSYl"
   },
   "outputs": [
    {
     "name": "stdout",
     "output_type": "stream",
     "text": [
      "All names stripped:\n",
      "['userid', 'track', 'artist', 'genre', 'city', 'time', 'day']\n"
     ]
    }
   ],
   "source": [
    "# For loop through headers removing spaces\n",
    "\n",
    "new_col_names =[]\n",
    "for old_names in df_music.columns: \n",
    "    new_col_names.append(old_names.strip())\n",
    "    \n",
    "df_music.columns = new_col_names\n",
    "\n",
    "# Results\n",
    "print(\"All names stripped:\")\n",
    "print(df_music.columns.tolist())"
   ]
  },
  {
   "cell_type": "code",
   "execution_count": 8,
   "metadata": {
    "id": "ISlFqs5y_Zct"
   },
   "outputs": [
    {
     "name": "stdout",
     "output_type": "stream",
     "text": [
      "Rename 'userid' to 'user_id':\n",
      "['user_id', 'track', 'artist', 'genre', 'city', 'time', 'day']\n"
     ]
    }
   ],
   "source": [
    "# Rename the \"userid\" column\n",
    "\n",
    "df_music = df_music.rename(columns={'userid': 'user_id'})\n",
    "\n",
    "# Results\n",
    "print(\"Rename 'userid' to 'user_id':\")\n",
    "print(df_music.columns.tolist())"
   ]
  },
  {
   "cell_type": "code",
   "execution_count": 9,
   "metadata": {
    "id": "d4NOAmTW_Zct"
   },
   "outputs": [
    {
     "name": "stdout",
     "output_type": "stream",
     "text": [
      "New columns names:\n",
      "['user_id', 'track', 'artist', 'genre', 'city', 'time', 'day']\n"
     ]
    }
   ],
   "source": [
    "# Check if the names are changed correctly\n",
    "\n",
    "columns = df_music.columns.tolist()\n",
    "\n",
    "# Results\n",
    "print('New columns names:')\n",
    "print(columns)"
   ]
  },
  {
   "cell_type": "markdown",
   "metadata": {
    "id": "5ISfbcfY_Zct"
   },
   "source": [
    "### 2.2 Missing Values \n",
    "First, the number of missing values ​​in the table is found."
   ]
  },
  {
   "cell_type": "code",
   "execution_count": 10,
   "metadata": {
    "id": "RskX29qr_Zct"
   },
   "outputs": [
    {
     "name": "stdout",
     "output_type": "stream",
     "text": [
      "Missing values by columns:\n",
      "track     1343\n",
      "artist    7567\n",
      "genre     1198\n",
      "dtype: int64\n",
      "\n",
      "Total missing values overall: 10108\n"
     ]
    }
   ],
   "source": [
    "# Calculate the total number of missing values\n",
    "\n",
    "missing_values_columns = df_music.isnull().sum()\n",
    "total_missing_values = missing_values_columns.sum()\n",
    "\n",
    "# Results\n",
    "print(\"Missing values by columns:\")\n",
    "print(missing_values_columns[missing_values_columns > 0])  # Display columns with missing values only\n",
    "print(f\"\\nTotal missing values overall: {total_missing_values}\")  "
   ]
  },
  {
   "cell_type": "markdown",
   "metadata": {
    "id": "qubhgnlO_Zct"
   },
   "source": [
    "Not all missing values ​​affect the research. For example, missing values ​​in `track` and `artist` are not crucial. They can be replaced with default values ​​such as the string `'unknown'`.\n",
    "\n",
    "But missing values ​​in `'genre`` can affect the comparison between Springfield and Shelbyville's music preferences. In real life, it would be useful to know the reasons for missing data and try to recover it. But we don't have that opportunity in this project. What we will do:\n",
    "- fill these missing values ​​with a default value;\n",
    "- evaluate how much the missing values ​​might affect your computations."
   ]
  },
  {
   "cell_type": "markdown",
   "metadata": {
    "id": "fSv2laPA_Zct"
   },
   "source": [
    "Replace missing values ​​in `'track'`, `'artist'` and `'genre'` columns with the string `'unknown'`"
   ]
  },
  {
   "cell_type": "code",
   "execution_count": 11,
   "metadata": {
    "id": "KplB5qWs_Zct"
   },
   "outputs": [
    {
     "name": "stdout",
     "output_type": "stream",
     "text": [
      "DataFrame without missing values:\n"
     ]
    },
    {
     "data": {
      "text/html": [
       "<div>\n",
       "<style scoped>\n",
       "    .dataframe tbody tr th:only-of-type {\n",
       "        vertical-align: middle;\n",
       "    }\n",
       "\n",
       "    .dataframe tbody tr th {\n",
       "        vertical-align: top;\n",
       "    }\n",
       "\n",
       "    .dataframe thead th {\n",
       "        text-align: right;\n",
       "    }\n",
       "</style>\n",
       "<table border=\"1\" class=\"dataframe\">\n",
       "  <thead>\n",
       "    <tr style=\"text-align: right;\">\n",
       "      <th></th>\n",
       "      <th>user_id</th>\n",
       "      <th>track</th>\n",
       "      <th>artist</th>\n",
       "      <th>genre</th>\n",
       "      <th>city</th>\n",
       "      <th>time</th>\n",
       "      <th>day</th>\n",
       "    </tr>\n",
       "  </thead>\n",
       "  <tbody>\n",
       "    <tr>\n",
       "      <th>0</th>\n",
       "      <td>FFB692EC</td>\n",
       "      <td>Kamigata To Boots</td>\n",
       "      <td>The Mass Missile</td>\n",
       "      <td>rock</td>\n",
       "      <td>Shelbyville</td>\n",
       "      <td>20:28:33</td>\n",
       "      <td>Wednesday</td>\n",
       "    </tr>\n",
       "    <tr>\n",
       "      <th>1</th>\n",
       "      <td>55204538</td>\n",
       "      <td>Delayed Because of Accident</td>\n",
       "      <td>Andreas Rönnberg</td>\n",
       "      <td>rock</td>\n",
       "      <td>Springfield</td>\n",
       "      <td>14:07:09</td>\n",
       "      <td>Friday</td>\n",
       "    </tr>\n",
       "    <tr>\n",
       "      <th>2</th>\n",
       "      <td>20EC38</td>\n",
       "      <td>Funiculì funiculà</td>\n",
       "      <td>Mario Lanza</td>\n",
       "      <td>pop</td>\n",
       "      <td>Shelbyville</td>\n",
       "      <td>20:58:07</td>\n",
       "      <td>Wednesday</td>\n",
       "    </tr>\n",
       "    <tr>\n",
       "      <th>3</th>\n",
       "      <td>A3DD03C9</td>\n",
       "      <td>Dragons in the Sunset</td>\n",
       "      <td>Fire + Ice</td>\n",
       "      <td>folk</td>\n",
       "      <td>Shelbyville</td>\n",
       "      <td>08:37:09</td>\n",
       "      <td>Monday</td>\n",
       "    </tr>\n",
       "    <tr>\n",
       "      <th>4</th>\n",
       "      <td>E2DC1FAE</td>\n",
       "      <td>Soul People</td>\n",
       "      <td>Space Echo</td>\n",
       "      <td>dance</td>\n",
       "      <td>Springfield</td>\n",
       "      <td>08:34:34</td>\n",
       "      <td>Monday</td>\n",
       "    </tr>\n",
       "    <tr>\n",
       "      <th>5</th>\n",
       "      <td>842029A1</td>\n",
       "      <td>Chains</td>\n",
       "      <td>Obladaet</td>\n",
       "      <td>rusrap</td>\n",
       "      <td>Shelbyville</td>\n",
       "      <td>13:09:41</td>\n",
       "      <td>Friday</td>\n",
       "    </tr>\n",
       "    <tr>\n",
       "      <th>6</th>\n",
       "      <td>4CB90AA5</td>\n",
       "      <td>True</td>\n",
       "      <td>Roman Messer</td>\n",
       "      <td>dance</td>\n",
       "      <td>Springfield</td>\n",
       "      <td>13:00:07</td>\n",
       "      <td>Wednesday</td>\n",
       "    </tr>\n",
       "    <tr>\n",
       "      <th>7</th>\n",
       "      <td>F03E1C1F</td>\n",
       "      <td>Feeling This Way</td>\n",
       "      <td>Polina Griffith</td>\n",
       "      <td>dance</td>\n",
       "      <td>Springfield</td>\n",
       "      <td>20:47:49</td>\n",
       "      <td>Wednesday</td>\n",
       "    </tr>\n",
       "    <tr>\n",
       "      <th>8</th>\n",
       "      <td>8FA1D3BE</td>\n",
       "      <td>L’estate</td>\n",
       "      <td>Julia Dalia</td>\n",
       "      <td>ruspop</td>\n",
       "      <td>Springfield</td>\n",
       "      <td>09:17:40</td>\n",
       "      <td>Friday</td>\n",
       "    </tr>\n",
       "    <tr>\n",
       "      <th>9</th>\n",
       "      <td>E772D5C0</td>\n",
       "      <td>Pessimist</td>\n",
       "      <td>unknown</td>\n",
       "      <td>dance</td>\n",
       "      <td>Shelbyville</td>\n",
       "      <td>21:20:49</td>\n",
       "      <td>Wednesday</td>\n",
       "    </tr>\n",
       "    <tr>\n",
       "      <th>10</th>\n",
       "      <td>BC5A3A29</td>\n",
       "      <td>Gool la Mita</td>\n",
       "      <td>Shireen Abdul Wahab</td>\n",
       "      <td>world</td>\n",
       "      <td>Springfield</td>\n",
       "      <td>14:08:42</td>\n",
       "      <td>Monday</td>\n",
       "    </tr>\n",
       "    <tr>\n",
       "      <th>11</th>\n",
       "      <td>8B5192C0</td>\n",
       "      <td>Is There Anybody Out There? (Panoramic Paralys...</td>\n",
       "      <td>Pink Floyd Floydhead</td>\n",
       "      <td>electronic</td>\n",
       "      <td>Springfield</td>\n",
       "      <td>13:47:49</td>\n",
       "      <td>Monday</td>\n",
       "    </tr>\n",
       "    <tr>\n",
       "      <th>12</th>\n",
       "      <td>FF3FD2BD</td>\n",
       "      <td>Truth</td>\n",
       "      <td>Bamboo</td>\n",
       "      <td>pop</td>\n",
       "      <td>Springfield</td>\n",
       "      <td>09:19:49</td>\n",
       "      <td>Monday</td>\n",
       "    </tr>\n",
       "    <tr>\n",
       "      <th>13</th>\n",
       "      <td>CC782B0F</td>\n",
       "      <td>After School Special</td>\n",
       "      <td>Detroit Grand Pubahs</td>\n",
       "      <td>dance</td>\n",
       "      <td>Springfield</td>\n",
       "      <td>20:04:12</td>\n",
       "      <td>Friday</td>\n",
       "    </tr>\n",
       "    <tr>\n",
       "      <th>14</th>\n",
       "      <td>94EB25C2</td>\n",
       "      <td>Make Love Whenever You Can</td>\n",
       "      <td>Arabesque</td>\n",
       "      <td>pop</td>\n",
       "      <td>Shelbyville</td>\n",
       "      <td>13:22:08</td>\n",
       "      <td>Wednesday</td>\n",
       "    </tr>\n",
       "  </tbody>\n",
       "</table>\n",
       "</div>"
      ],
      "text/plain": [
       "     user_id                                              track  \\\n",
       "0   FFB692EC                                  Kamigata To Boots   \n",
       "1   55204538                        Delayed Because of Accident   \n",
       "2     20EC38                                  Funiculì funiculà   \n",
       "3   A3DD03C9                              Dragons in the Sunset   \n",
       "4   E2DC1FAE                                        Soul People   \n",
       "5   842029A1                                             Chains   \n",
       "6   4CB90AA5                                               True   \n",
       "7   F03E1C1F                                   Feeling This Way   \n",
       "8   8FA1D3BE                                           L’estate   \n",
       "9   E772D5C0                                          Pessimist   \n",
       "10  BC5A3A29                                       Gool la Mita   \n",
       "11  8B5192C0  Is There Anybody Out There? (Panoramic Paralys...   \n",
       "12  FF3FD2BD                                              Truth   \n",
       "13  CC782B0F                               After School Special   \n",
       "14  94EB25C2                         Make Love Whenever You Can   \n",
       "\n",
       "                  artist       genre         city      time        day  \n",
       "0       The Mass Missile        rock  Shelbyville  20:28:33  Wednesday  \n",
       "1       Andreas Rönnberg        rock  Springfield  14:07:09     Friday  \n",
       "2            Mario Lanza         pop  Shelbyville  20:58:07  Wednesday  \n",
       "3             Fire + Ice        folk  Shelbyville  08:37:09     Monday  \n",
       "4             Space Echo       dance  Springfield  08:34:34     Monday  \n",
       "5               Obladaet      rusrap  Shelbyville  13:09:41     Friday  \n",
       "6           Roman Messer       dance  Springfield  13:00:07  Wednesday  \n",
       "7        Polina Griffith       dance  Springfield  20:47:49  Wednesday  \n",
       "8            Julia Dalia      ruspop  Springfield  09:17:40     Friday  \n",
       "9                unknown       dance  Shelbyville  21:20:49  Wednesday  \n",
       "10   Shireen Abdul Wahab       world  Springfield  14:08:42     Monday  \n",
       "11  Pink Floyd Floydhead  electronic  Springfield  13:47:49     Monday  \n",
       "12                Bamboo         pop  Springfield  09:19:49     Monday  \n",
       "13  Detroit Grand Pubahs       dance  Springfield  20:04:12     Friday  \n",
       "14             Arabesque         pop  Shelbyville  13:22:08  Wednesday  "
      ]
     },
     "execution_count": 11,
     "metadata": {},
     "output_type": "execute_result"
    }
   ],
   "source": [
    "# For loop through headers replacing missing values with 'unknown'\n",
    "\n",
    "for column in df_music.columns:\n",
    "    df_music[column] = df_music[column].fillna('unknown')\n",
    "\n",
    "print('DataFrame without missing values:')\n",
    "df_music.head(15)"
   ]
  },
  {
   "cell_type": "markdown",
   "metadata": {
    "id": "Ilsm-MZo_Zct"
   },
   "source": [
    "The result is now checked to ensure that there are no missing values ​​in the data set after the replacement. To do this, the missing values are counted again."
   ]
  },
  {
   "cell_type": "code",
   "execution_count": 12,
   "metadata": {
    "id": "Tq4nYRX4_Zct"
   },
   "outputs": [
    {
     "name": "stdout",
     "output_type": "stream",
     "text": [
      "Total of missing values: \n",
      "user_id    0\n",
      "track      0\n",
      "artist     0\n",
      "genre      0\n",
      "city       0\n",
      "time       0\n",
      "day        0\n",
      "dtype: int64\n"
     ]
    }
   ],
   "source": [
    "# Recalculate the total number of missing values\n",
    "\n",
    "missing_values_columns = df_music.isnull().sum()\n",
    "\n",
    "# Results\n",
    "print(f\"Total of missing values: \\n{missing_values_columns}\")  "
   ]
  },
  {
   "cell_type": "markdown",
   "metadata": {
    "id": "BWKRtBJ3_Zct"
   },
   "source": [
    "### 2.3 Duplicates\n"
   ]
  },
  {
   "cell_type": "code",
   "execution_count": 13,
   "metadata": {
    "id": "36eES_S0_Zct"
   },
   "outputs": [
    {
     "name": "stdout",
     "output_type": "stream",
     "text": [
      "Total duplicates: 3826\n"
     ]
    }
   ],
   "source": [
    "# Find the number of explicit duplicates\n",
    "\n",
    "duplicates = df_music.duplicated()\n",
    "total_duplicates = df_music.duplicated().sum() \n",
    "\n",
    "# Results \n",
    "print(f\"Total duplicates: {total_duplicates}\")  "
   ]
  },
  {
   "cell_type": "code",
   "execution_count": 14,
   "metadata": {
    "id": "exFHq6tt_Zct",
    "scrolled": true
   },
   "outputs": [
    {
     "name": "stdout",
     "output_type": "stream",
     "text": [
      "Total duplicates: 3826\n"
     ]
    }
   ],
   "source": [
    "# Drop duplicates\n",
    "\n",
    "df_music.drop_duplicates(inplace=True)\n",
    "\n",
    "print(f\"Total duplicates: {total_duplicates}\")  "
   ]
  },
  {
   "cell_type": "markdown",
   "metadata": {
    "id": "Im2YwBEG_Zct"
   },
   "source": [
    "Let's now check if all duplicates were successfully removed. Counting the explicit duplicates once more to ensure that they were all removed:"
   ]
  },
  {
   "cell_type": "code",
   "execution_count": 15,
   "metadata": {
    "id": "-8PuNWQ0_Zct"
   },
   "outputs": [
    {
     "name": "stdout",
     "output_type": "stream",
     "text": [
      "Total duplicates: 0\n"
     ]
    }
   ],
   "source": [
    "# Count the explicit duplicates one more time to make sure you've removed them all:\n",
    "duplicates_check = df_music.duplicated()\n",
    "total_duplicates_check = df_music.duplicated().sum() \n",
    "\n",
    "# Results \n",
    "print(f\"Total duplicates: {total_duplicates_check}\")  "
   ]
  },
  {
   "cell_type": "markdown",
   "metadata": {},
   "source": [
    "The `genre` column is now checked for duplicates or misspelled names"
   ]
  },
  {
   "cell_type": "code",
   "execution_count": 16,
   "metadata": {
    "id": "JIUcqzZN_Zct"
   },
   "outputs": [
    {
     "name": "stdout",
     "output_type": "stream",
     "text": [
      "Unique genres in alphabetical order:\n",
      "['acid', 'acoustic', 'action', 'adult', 'africa', 'afrikaans', 'alternative', 'ambient', 'americana', 'animated', 'anime', 'arabesk', 'arabic', 'arena', 'argentinetango', 'art', 'audiobook', 'avantgarde', 'axé', 'baile', 'balkan', 'beats', 'bigroom', 'black', 'bluegrass', 'blues', 'bollywood', 'bossa', 'brazilian', 'breakbeat', 'breaks', 'broadway', 'cantautori', 'cantopop', 'canzone', 'caribbean', 'caucasian', 'celtic', 'chamber', 'children', 'chill', 'chinese', 'choral', 'christian', 'christmas', 'classical', 'classicmetal', 'club', 'colombian', 'comedy', 'conjazz', 'contemporary', 'country', 'cuban', 'dance', 'dancehall', 'dancepop', 'dark', 'death', 'deep', 'deutschrock', 'deutschspr', 'dirty', 'disco', 'dnb', 'documentary', 'downbeat', 'downtempo', 'drum', 'dub', 'dubstep', 'eastern', 'easy', 'electronic', 'electropop', 'emo', 'entehno', 'epicmetal', 'estrada', 'ethnic', 'eurofolk', 'european', 'experimental', 'extrememetal', 'fado', 'film', 'fitness', 'flamenco', 'folk', 'folklore', 'folkmetal', 'folkrock', 'folktronica', 'forró', 'frankreich', 'französisch', 'french', 'funk', 'future', 'gangsta', 'garage', 'german', 'ghazal', 'gitarre', 'glitch', 'gospel', 'gothic', 'grime', 'grunge', 'gypsy', 'handsup', \"hard'n'heavy\", 'hardcore', 'hardstyle', 'hardtechno', 'hip', 'hip-hop', 'hiphop', 'historisch', 'holiday', 'hop', 'horror', 'house', 'idm', 'independent', 'indian', 'indie', 'indipop', 'industrial', 'inspirational', 'instrumental', 'international', 'irish', 'jam', 'japanese', 'jazz', 'jewish', 'jpop', 'jungle', 'k-pop', 'karadeniz', 'karaoke', 'kayokyoku', 'korean', 'laiko', 'latin', 'latino', 'leftfield', 'local', 'lounge', 'loungeelectronic', 'lovers', 'malaysian', 'mandopop', 'marschmusik', 'meditative', 'mediterranean', 'melodic', 'metal', 'metalcore', 'mexican', 'middle', 'minimal', 'miscellaneous', 'modern', 'mood', 'mpb', 'muslim', 'native', 'neoklassik', 'neue', 'new', 'newage', 'newwave', 'nu', 'nujazz', 'numetal', 'oceania', 'old', 'opera', 'orchestral', 'other', 'piano', 'pop', 'popelectronic', 'popeurodance', 'post', 'posthardcore', 'postrock', 'power', 'progmetal', 'progressive', 'psychedelic', 'punjabi', 'punk', 'quebecois', 'ragga', 'ram', 'rancheras', 'rap', 'rave', 'reggae', 'reggaeton', 'regional', 'relax', 'religious', 'retro', 'rhythm', 'rnb', 'rnr', 'rock', 'rockabilly', 'romance', 'roots', 'ruspop', 'rusrap', 'rusrock', 'salsa', 'samba', 'schlager', 'self', 'sertanejo', 'shoegazing', 'showtunes', 'singer', 'ska', 'slow', 'smooth', 'soul', 'soulful', 'sound', 'soundtrack', 'southern', 'specialty', 'speech', 'spiritual', 'sport', 'stonerrock', 'surf', 'swing', 'synthpop', 'sängerportrait', 'tango', 'tanzorchester', 'taraftar', 'tech', 'techno', 'thrash', 'top', 'traditional', 'tradjazz', 'trance', 'tribal', 'trip', 'triphop', 'tropical', 'türk', 'türkçe', 'unknown', 'urban', 'uzbek', 'variété', 'vi', 'videogame', 'vocal', 'western', 'world', 'worldbeat', 'ïîï']\n"
     ]
    }
   ],
   "source": [
    "# List of unique gender names, sorted alphabetically\n",
    "\n",
    "# Extract the genre column\n",
    "genre_column = df_music['genre']\n",
    "\n",
    "# Get unique genre names and sort them alphabetically\n",
    "unique_genres_sorted = sorted(genre_column.unique())\n",
    "\n",
    "# Results\n",
    "print(\"Unique genres in alphabetical order:\")\n",
    "print(unique_genres_sorted)"
   ]
  },
  {
   "cell_type": "markdown",
   "metadata": {
    "id": "qej-Qmuo_Zct"
   },
   "source": [
    "The above list shows that there are duplicates of the genre `hiphop`.\n",
    "Written as follows:\n",
    "* `hip`\n",
    "* `hop`\n",
    "* `hip-hop`\n",
    "\n",
    "With the function called `replace_wrong_genres()` and with two parameters:\n",
    "* `wrong_genres=`: this is a list containing all the values ​​to replace.\n",
    "* `correct_genre=`: this is a string to be used as a replacement.\n",
    "\n",
    "As a result, the function should correct the names in the `genre` column of the `df_music` table, i.e. replace each value in the `wrong_genres` list with the value in `correct_genre`.\n",
    "\n",
    "A `for` loop is used to iterate over the list of incorrect genres, extract the `genre` column, and apply the `replace` method to make corrections."
   ]
  },
  {
   "cell_type": "code",
   "execution_count": 17,
   "metadata": {
    "id": "ErNDkmns_Zct"
   },
   "outputs": [
    {
     "name": "stdout",
     "output_type": "stream",
     "text": [
      "['acid', 'acoustic', 'action', 'adult', 'africa', 'afrikaans', 'alternative', 'ambient', 'americana', 'animated', 'anime', 'arabesk', 'arabic', 'arena', 'argentinetango', 'art', 'audiobook', 'avantgarde', 'axé', 'baile', 'balkan', 'beats', 'bigroom', 'black', 'bluegrass', 'blues', 'bollywood', 'bossa', 'brazilian', 'breakbeat', 'breaks', 'broadway', 'cantautori', 'cantopop', 'canzone', 'caribbean', 'caucasian', 'celtic', 'chamber', 'children', 'chill', 'chinese', 'choral', 'christian', 'christmas', 'classical', 'classicmetal', 'club', 'colombian', 'comedy', 'conjazz', 'contemporary', 'country', 'cuban', 'dance', 'dancehall', 'dancepop', 'dark', 'death', 'deep', 'deutschrock', 'deutschspr', 'dirty', 'disco', 'dnb', 'documentary', 'downbeat', 'downtempo', 'drum', 'dub', 'dubstep', 'eastern', 'easy', 'electronic', 'electropop', 'emo', 'entehno', 'epicmetal', 'estrada', 'ethnic', 'eurofolk', 'european', 'experimental', 'extrememetal', 'fado', 'film', 'fitness', 'flamenco', 'folk', 'folklore', 'folkmetal', 'folkrock', 'folktronica', 'forró', 'frankreich', 'französisch', 'french', 'funk', 'future', 'gangsta', 'garage', 'german', 'ghazal', 'gitarre', 'glitch', 'gospel', 'gothic', 'grime', 'grunge', 'gypsy', 'handsup', \"hard'n'heavy\", 'hardcore', 'hardstyle', 'hardtechno', 'hiphop', 'historisch', 'holiday', 'horror', 'house', 'idm', 'independent', 'indian', 'indie', 'indipop', 'industrial', 'inspirational', 'instrumental', 'international', 'irish', 'jam', 'japanese', 'jazz', 'jewish', 'jpop', 'jungle', 'k-pop', 'karadeniz', 'karaoke', 'kayokyoku', 'korean', 'laiko', 'latin', 'latino', 'leftfield', 'local', 'lounge', 'loungeelectronic', 'lovers', 'malaysian', 'mandopop', 'marschmusik', 'meditative', 'mediterranean', 'melodic', 'metal', 'metalcore', 'mexican', 'middle', 'minimal', 'miscellaneous', 'modern', 'mood', 'mpb', 'muslim', 'native', 'neoklassik', 'neue', 'new', 'newage', 'newwave', 'nu', 'nujazz', 'numetal', 'oceania', 'old', 'opera', 'orchestral', 'other', 'piano', 'pop', 'popelectronic', 'popeurodance', 'post', 'posthardcore', 'postrock', 'power', 'progmetal', 'progressive', 'psychedelic', 'punjabi', 'punk', 'quebecois', 'ragga', 'ram', 'rancheras', 'rap', 'rave', 'reggae', 'reggaeton', 'regional', 'relax', 'religious', 'retro', 'rhythm', 'rnb', 'rnr', 'rock', 'rockabilly', 'romance', 'roots', 'ruspop', 'rusrap', 'rusrock', 'salsa', 'samba', 'schlager', 'self', 'sertanejo', 'shoegazing', 'showtunes', 'singer', 'ska', 'slow', 'smooth', 'soul', 'soulful', 'sound', 'soundtrack', 'southern', 'specialty', 'speech', 'spiritual', 'sport', 'stonerrock', 'surf', 'swing', 'synthpop', 'sängerportrait', 'tango', 'tanzorchester', 'taraftar', 'tech', 'techno', 'thrash', 'top', 'traditional', 'tradjazz', 'trance', 'tribal', 'trip', 'triphop', 'tropical', 'türk', 'türkçe', 'unknown', 'urban', 'uzbek', 'variété', 'vi', 'videogame', 'vocal', 'western', 'world', 'worldbeat', 'ïîï']\n"
     ]
    }
   ],
   "source": [
    "# Define a function to replace incorrect genre names in a DataFrame column\n",
    "def replace_wrong_genres(df, column_name, equivalences: dict):\n",
    "    # Loop through the equivalences dictionary and replace each incorrect genre with the correct one\n",
    "    for correct_genre, wrong_genres in equivalences.items():\n",
    "        df[column_name] = df[column_name].replace(wrong_genres, correct_genre)\n",
    "    # Return the modified column with corrected genre names\n",
    "    return df[column_name]\n",
    "\n",
    "# Dictionary of implicit duplicates to be replaced\n",
    "equivalences = {\"hiphop\": ['hip-hop', 'hip', 'hop']}\n",
    "\n",
    "# Apply the function to replace incorrect genre names in the \"genre\" column of df_music\n",
    "df_music[\"genre\"] = replace_wrong_genres(df_music, column_name=\"genre\", equivalences=equivalences)\n",
    "\n",
    "# Extract the \"genre\" column from df_music\n",
    "genre_column = df_music['genre']\n",
    "\n",
    "# Get a sorted list of unique genres to check for implicit duplicates\n",
    "unique_genres = sorted(genre_column.unique())\n",
    "\n",
    "# Print the list of unique genres\n",
    "print(unique_genres)  # Check for implicit duplicates"
   ]
  },
  {
   "cell_type": "markdown",
   "metadata": {
    "id": "jz6a9-7HQUDd"
   },
   "source": [
    "**The data have been processed for analysis, such as hypothesis testing.**"
   ]
  },
  {
   "cell_type": "markdown",
   "metadata": {
    "id": "WttZHXH0SqKk"
   },
   "source": [
    "## 3. Hypothesis testing"
   ]
  },
  {
   "cell_type": "markdown",
   "metadata": {
    "id": "Im936VVi_Zcu"
   },
   "source": [
    "### 3.1 Hipótesis: compare user behavior in the two cities"
   ]
  },
  {
   "cell_type": "markdown",
   "metadata": {
    "id": "nwt_MuaL_Zcu"
   },
   "source": [
    "The hypothesis states that there are differences in the way users in Springfield and Shelbyville consume music. To test this, data from three days of the week is used: Monday, Wednesday, and Friday.\n",
    "\n",
    "Next Steps: \n",
    "* Group users by city.\n",
    "* Compare the number of songs each group played on Monday, Wednesday, and Friday.\n"
   ]
  },
  {
   "cell_type": "code",
   "execution_count": 18,
   "metadata": {
    "id": "0_Qs96oh_Zcu"
   },
   "outputs": [
    {
     "name": "stdout",
     "output_type": "stream",
     "text": [
      "Total Songs Played by Each City:\n",
      "\n",
      "city\n",
      "Shelbyville    18512\n",
      "Springfield    42741\n",
      "Name: track, dtype: int64\n"
     ]
    }
   ],
   "source": [
    "# Group the data by city and count the number of songs played in each city\n",
    "songs_per_city = df_music.groupby('city')['track'].count()\n",
    "\n",
    "# Results\n",
    "print(\"Total Songs Played by Each City:\\n\")\n",
    "print(songs_per_city)"
   ]
  },
  {
   "cell_type": "markdown",
   "metadata": {},
   "source": [
    "**Observations**:\n",
    "Springfield has more than twice as many views as Shelbyville."
   ]
  },
  {
   "cell_type": "code",
   "execution_count": 19,
   "metadata": {
    "id": "uZMKjiJz_Zcu"
   },
   "outputs": [
    {
     "name": "stdout",
     "output_type": "stream",
     "text": [
      "Total Songs Played by Day:\n",
      "\n",
      "day\n",
      "Monday       21354\n",
      "Wednesday    18059\n",
      "Friday       21840\n",
      "Name: track, dtype: int64\n"
     ]
    }
   ],
   "source": [
    "# Calculate the songs played on each of the three days\n",
    "songs_per_day = df_music.groupby(by='day')['track'].count()[['Monday', 'Wednesday', 'Friday']]\n",
    "\n",
    "# Results\n",
    "print(\"Total Songs Played by Day:\\n\")\n",
    "print(songs_per_day)\n"
   ]
  },
  {
   "cell_type": "markdown",
   "metadata": {
    "id": "cC2tNrlL_Zcu"
   },
   "source": [
    "**Observations**:\n",
    "`Friday` is the day with the most songs played, followed by `Monday`, and the day with the least is `Wednesday`."
   ]
  },
  {
   "cell_type": "markdown",
   "metadata": {
    "id": "POzs8bGa_Zcu"
   },
   "source": [
    "A function is written that can count entries by both criteria simultaneously.\n",
    "\n",
    "The function `number_tracks()` is created to calculate the number of songs played on a given day and city. The function has two parameters:\n",
    "\n",
    "- `day`: a day of the week to filter on. For example, `'Monday'`.\n",
    "- `city`: a city to filter on. For example, `'Springfield'`.\n",
    "\n",
    "Inside the function, consecutive filtering is applied with logical indexing.\n",
    "\n",
    "The data is first filtered by day and then the resulting table is filtered by city.\n",
    "\n",
    "After filtering the data by two criteria, the number of values in the column `'user_id'` in the resulting table is counted. This count represents the number of entries that were searched. The result is saved in a new variable and returned from the function."
   ]
  },
  {
   "cell_type": "code",
   "execution_count": 20,
   "metadata": {
    "id": "Nz3GdQB1_Zcu"
   },
   "outputs": [
    {
     "name": "stdout",
     "output_type": "stream",
     "text": [
      "The number of songs played in Springfield on Monday is: 15740\n",
      "The number of songs played in Shelbyville on Monday is: 5614\n",
      "The number of songs played in Springfield on Wednesday is: 11056\n",
      "The number of songs played in Shelbyville on Wednesday is: 7003\n",
      "The number of songs played in Springfield on Friday is: 15945\n",
      "The number of songs played in Shelbyville on Friday is: 5895\n"
     ]
    }
   ],
   "source": [
    "# Define a function to count the number of tracks played on a given day in a specific city\n",
    "def number_tracks(day, city):\n",
    "    # Filter the DataFrame for rows that match the specified day and city\n",
    "    filtered = df_music[(df_music['day'] == day) & (df_music['city'] == city)]\n",
    "    \n",
    "    # Count the number of unique 'user_id' entries in the filtered data\n",
    "    count_user_id = filtered['user_id'].count()\n",
    "    \n",
    "    # Return the count\n",
    "    return count_user_id\n",
    "    \n",
    "#The function number_tracks() is called six times in total, \n",
    "# once for each combination of the three days (Monday, Tuesday, Wednesday) \n",
    "# and two cities (Springfield and Shelbyville), to obatain the results needed.\n",
    "\n",
    "# Define the days and cities\n",
    "days = ['Monday', 'Wednesday', 'Friday']\n",
    "cities = ['Springfield', 'Shelbyville']\n",
    "\n",
    "# Loop through each day and city, count the tracks, and print the results\n",
    "for day in days:\n",
    "    for city in cities:\n",
    "        result = number_tracks(day, city)\n",
    "        print(f\"The number of songs played in {city} on {day} is: {result}\")"
   ]
  },
  {
   "cell_type": "code",
   "execution_count": 21,
   "metadata": {},
   "outputs": [
    {
     "data": {
      "image/png": "[encoded data removed]",
      "text/plain": [
       "<Figure size 1000x600 with 1 Axes>"
      ]
     },
     "metadata": {},
     "output_type": "display_data"
    }
   ],
   "source": [
    "# Define a list to store the results\n",
    "results = []\n",
    "\n",
    "# Loop through each day and city, count the tracks, and append to the results list\n",
    "for day in days:\n",
    "    for city in cities:\n",
    "        count = number_tracks(day, city)\n",
    "        results.append({'day': day, 'city': city, 'track_count': count})\n",
    "\n",
    "# Convert the results list into a DataFrame\n",
    "music_total_results = pd.DataFrame(results)\n",
    "\n",
    "# Create a bar plot using seaborn with custom colors\n",
    "plt.figure(figsize=(10, 6))\n",
    "sns.barplot(data=music_total_results, x='day', y='track_count', edgecolor = 'white', hue='city', palette={'Springfield': 'palevioletred', 'Shelbyville': 'darkseagreen'})\n",
    "plt.title('Number of Tracks Played per Day in Each City')\n",
    "plt.xlabel('Day')\n",
    "plt.ylabel('Number of Tracks Played')\n",
    "plt.legend(title='City')\n",
    "plt.show()\n",
    "\n"
   ]
  },
  {
   "cell_type": "markdown",
   "metadata": {
    "id": "-EgPIHYu_Zcu"
   },
   "source": [
    "**Results**:\n",
    "\n",
    "1. **Springfield has higher song play counts**: For each day, Springfield consistently has more songs played than Shelbyville. For example, on **Monday**, Springfield had 15,740 songs played, while Shelbyville only had 5,614. This trend continues across the other days as well.\n",
    "\n",
    "2. **Monday and Friday are the busiest days**: Both cities experience the highest number of songs played on **Friday**, with Springfield leading at 15,945 and Shelbyville at 5,895. **Monday** is also busy, especially in Springfield, but the numbers are slightly lower compared to Friday.\n",
    "\n",
    "3. **Wednesday has a decrease in song plays**: Compared to Monday and Friday, **Wednesday** shows a drop in song plays for both cities. Springfield dropped from 15,740 on Monday to 11,056 on Wednesday, and Shelbyville decreased from 5,614 to 7,003. \n",
    "\n",
    "\n",
    "The data shows that there are differences in the number of songs played between users in **Springfield** and **Shelbyville** across different days. This supports the hypothesis that **users in Springfield and Shelbyville consume music differently**.  This difference could be influenced by various factors such as the population size, cultural preferences, or even the time users have for listening to music."
   ]
  }
 ],
 "metadata": {
  "ExecuteTimeLog": [
   {
    "duration": 467,
    "start_time": "2024-08-21T23:23:53.198Z"
   },
   {
    "duration": 3,
    "start_time": "2024-08-21T23:24:02.455Z"
   },
   {
    "duration": 3,
    "start_time": "2024-08-21T23:24:08.369Z"
   },
   {
    "duration": 181,
    "start_time": "2024-08-21T23:29:21.852Z"
   },
   {
    "duration": 157,
    "start_time": "2024-08-21T23:29:25.871Z"
   },
   {
    "duration": 4,
    "start_time": "2024-08-21T23:29:29.466Z"
   },
   {
    "duration": 3,
    "start_time": "2024-08-21T23:31:07.788Z"
   },
   {
    "duration": 4,
    "start_time": "2024-08-21T23:31:10.265Z"
   },
   {
    "duration": 4,
    "start_time": "2024-08-21T23:31:11.238Z"
   },
   {
    "duration": 4,
    "start_time": "2024-08-21T23:31:12.180Z"
   },
   {
    "duration": 161,
    "start_time": "2024-08-21T23:39:44.906Z"
   },
   {
    "duration": 163,
    "start_time": "2024-08-21T23:39:56.470Z"
   },
   {
    "duration": 156,
    "start_time": "2024-08-21T23:52:10.351Z"
   },
   {
    "duration": 159,
    "start_time": "2024-08-21T23:53:14.464Z"
   },
   {
    "duration": 4,
    "start_time": "2024-08-21T23:53:19.874Z"
   },
   {
    "duration": 157,
    "start_time": "2024-08-21T23:53:22.084Z"
   },
   {
    "duration": 154,
    "start_time": "2024-08-21T23:53:28.266Z"
   },
   {
    "duration": 160,
    "start_time": "2024-08-21T23:54:57.576Z"
   },
   {
    "duration": 158,
    "start_time": "2024-08-21T23:55:03.645Z"
   },
   {
    "duration": 312,
    "start_time": "2024-08-21T23:55:15.769Z"
   },
   {
    "duration": 421,
    "start_time": "2024-08-21T23:55:18.166Z"
   },
   {
    "duration": 160,
    "start_time": "2024-08-21T23:55:23.239Z"
   },
   {
    "duration": 156,
    "start_time": "2024-08-21T23:55:25.911Z"
   },
   {
    "duration": 157,
    "start_time": "2024-08-21T23:55:33.853Z"
   },
   {
    "duration": 155,
    "start_time": "2024-08-21T23:55:45.387Z"
   },
   {
    "duration": 56,
    "start_time": "2024-08-21T23:55:50.265Z"
   },
   {
    "duration": 3,
    "start_time": "2024-08-21T23:56:23.374Z"
   },
   {
    "duration": 160,
    "start_time": "2024-08-21T23:57:13.030Z"
   },
   {
    "duration": 154,
    "start_time": "2024-08-21T23:57:15.735Z"
   },
   {
    "duration": 152,
    "start_time": "2024-08-21T23:57:30.888Z"
   },
   {
    "duration": 4,
    "start_time": "2024-08-21T23:57:40.710Z"
   },
   {
    "duration": 4,
    "start_time": "2024-08-21T23:57:52.642Z"
   },
   {
    "duration": 161,
    "start_time": "2024-08-22T00:02:20.526Z"
   },
   {
    "duration": 716,
    "start_time": "2024-08-22T00:02:24.863Z"
   },
   {
    "duration": 156,
    "start_time": "2024-08-22T00:02:34.427Z"
   },
   {
    "duration": 21,
    "start_time": "2024-08-22T00:02:44.447Z"
   },
   {
    "duration": 15,
    "start_time": "2024-08-22T00:03:02.123Z"
   },
   {
    "duration": 173,
    "start_time": "2024-08-22T00:03:06.018Z"
   },
   {
    "duration": 42,
    "start_time": "2024-08-22T00:21:17.833Z"
   },
   {
    "duration": 35,
    "start_time": "2024-08-22T00:21:33.820Z"
   },
   {
    "duration": 22,
    "start_time": "2024-08-22T00:26:39.788Z"
   },
   {
    "duration": 7,
    "start_time": "2024-08-22T00:26:50.662Z"
   },
   {
    "duration": 806,
    "start_time": "2024-08-22T00:27:00.386Z"
   },
   {
    "duration": 5,
    "start_time": "2024-08-22T00:27:05.044Z"
   },
   {
    "duration": 9,
    "start_time": "2024-08-22T00:27:14.171Z"
   },
   {
    "duration": 1044,
    "start_time": "2024-08-22T00:32:48.708Z"
   },
   {
    "duration": 1046,
    "start_time": "2024-08-22T00:34:10.126Z"
   },
   {
    "duration": 995,
    "start_time": "2024-08-22T00:34:49.425Z"
   },
   {
    "duration": 121,
    "start_time": "2024-08-22T00:34:57.135Z"
   },
   {
    "duration": 164,
    "start_time": "2024-08-22T00:35:19.188Z"
   },
   {
    "duration": 167,
    "start_time": "2024-08-22T00:37:30.080Z"
   },
   {
    "duration": 4,
    "start_time": "2024-08-22T00:38:15.033Z"
   },
   {
    "duration": 150,
    "start_time": "2024-08-22T00:38:17.069Z"
   },
   {
    "duration": 17,
    "start_time": "2024-08-22T00:38:19.921Z"
   },
   {
    "duration": 149,
    "start_time": "2024-08-22T00:40:18.884Z"
   },
   {
    "duration": 32,
    "start_time": "2024-08-22T00:40:43.736Z"
   },
   {
    "duration": 15,
    "start_time": "2024-08-22T00:43:46.226Z"
   },
   {
    "duration": 14,
    "start_time": "2024-08-22T00:44:06.065Z"
   },
   {
    "duration": 12,
    "start_time": "2024-08-22T02:49:34.067Z"
   },
   {
    "duration": 5,
    "start_time": "2024-08-22T02:51:37.391Z"
   },
   {
    "duration": 5,
    "start_time": "2024-08-22T02:51:58.691Z"
   },
   {
    "duration": 5,
    "start_time": "2024-08-22T02:52:04.037Z"
   },
   {
    "duration": 5,
    "start_time": "2024-08-22T02:52:10.718Z"
   },
   {
    "duration": 5,
    "start_time": "2024-08-22T02:52:16.086Z"
   },
   {
    "duration": 6,
    "start_time": "2024-08-22T02:52:28.509Z"
   },
   {
    "duration": 5,
    "start_time": "2024-08-22T02:52:39.309Z"
   },
   {
    "duration": 315,
    "start_time": "2024-08-22T02:52:43.790Z"
   },
   {
    "duration": 20,
    "start_time": "2024-08-22T02:52:49.470Z"
   },
   {
    "duration": 21,
    "start_time": "2024-08-22T02:52:52.848Z"
   },
   {
    "duration": 3,
    "start_time": "2024-08-22T02:53:00.473Z"
   },
   {
    "duration": 22,
    "start_time": "2024-08-22T02:53:40.709Z"
   },
   {
    "duration": 21,
    "start_time": "2024-08-22T02:53:46.523Z"
   },
   {
    "duration": 21,
    "start_time": "2024-08-22T02:54:12.308Z"
   },
   {
    "duration": 25,
    "start_time": "2024-08-22T02:56:36.733Z"
   },
   {
    "duration": 604,
    "start_time": "2024-08-22T02:57:13.771Z"
   },
   {
    "duration": 4,
    "start_time": "2024-08-22T03:04:59.133Z"
   },
   {
    "duration": 192,
    "start_time": "2024-08-22T03:05:33.134Z"
   },
   {
    "duration": 167,
    "start_time": "2024-08-22T03:05:41.129Z"
   },
   {
    "duration": 186,
    "start_time": "2024-08-22T03:06:01.005Z"
   },
   {
    "duration": 226,
    "start_time": "2024-08-22T03:09:43.052Z"
   },
   {
    "duration": 176,
    "start_time": "2024-08-22T03:09:52.221Z"
   },
   {
    "duration": 176,
    "start_time": "2024-08-22T03:10:03.475Z"
   },
   {
    "duration": 175,
    "start_time": "2024-08-22T03:10:23.116Z"
   },
   {
    "duration": 903,
    "start_time": "2024-08-22T03:19:03.714Z"
   },
   {
    "duration": 204,
    "start_time": "2024-08-22T03:19:06.612Z"
   },
   {
    "duration": 202,
    "start_time": "2024-08-22T03:19:20.652Z"
   },
   {
    "duration": 207,
    "start_time": "2024-08-22T03:19:53.645Z"
   },
   {
    "duration": 167,
    "start_time": "2024-08-22T03:20:13.767Z"
   },
   {
    "duration": 156,
    "start_time": "2024-08-22T03:20:52.263Z"
   },
   {
    "duration": 162,
    "start_time": "2024-08-22T03:21:02.977Z"
   },
   {
    "duration": 155,
    "start_time": "2024-08-22T03:21:12.192Z"
   },
   {
    "duration": 175,
    "start_time": "2024-08-22T03:21:58.549Z"
   },
   {
    "duration": 172,
    "start_time": "2024-08-22T03:22:02.163Z"
   },
   {
    "duration": 172,
    "start_time": "2024-08-22T03:22:25.825Z"
   },
   {
    "duration": 159,
    "start_time": "2024-08-22T03:22:56.099Z"
   },
   {
    "duration": 15,
    "start_time": "2024-08-22T03:33:05.190Z"
   },
   {
    "duration": 157,
    "start_time": "2024-08-22T03:34:38.141Z"
   },
   {
    "duration": 170,
    "start_time": "2024-08-22T03:35:07.280Z"
   },
   {
    "duration": 220,
    "start_time": "2024-08-22T03:35:45.290Z"
   },
   {
    "duration": 148,
    "start_time": "2024-08-22T03:35:58.574Z"
   },
   {
    "duration": 161,
    "start_time": "2024-08-22T03:36:20.870Z"
   },
   {
    "duration": 183,
    "start_time": "2024-08-22T03:37:07.481Z"
   },
   {
    "duration": 179,
    "start_time": "2024-08-22T03:37:16.017Z"
   },
   {
    "duration": 158,
    "start_time": "2024-08-22T03:37:44.082Z"
   },
   {
    "duration": 6,
    "start_time": "2024-08-22T03:38:25.106Z"
   },
   {
    "duration": 6,
    "start_time": "2024-08-22T03:38:39.759Z"
   },
   {
    "duration": 6,
    "start_time": "2024-08-22T03:38:49.737Z"
   },
   {
    "duration": 5,
    "start_time": "2024-08-22T03:39:16.950Z"
   },
   {
    "duration": 6,
    "start_time": "2024-08-22T03:39:43.698Z"
   },
   {
    "duration": 24,
    "start_time": "2024-08-22T03:39:52.326Z"
   },
   {
    "duration": 11,
    "start_time": "2024-08-22T03:41:36.352Z"
   },
   {
    "duration": 11,
    "start_time": "2024-08-22T03:41:53.658Z"
   },
   {
    "duration": 5,
    "start_time": "2024-08-22T03:45:37.680Z"
   },
   {
    "duration": 10,
    "start_time": "2024-08-22T03:45:47.023Z"
   },
   {
    "duration": 10,
    "start_time": "2024-08-22T03:45:49.535Z"
   },
   {
    "duration": 10,
    "start_time": "2024-08-22T03:46:06.182Z"
   },
   {
    "duration": 4,
    "start_time": "2024-08-22T03:46:08.660Z"
   },
   {
    "duration": 29,
    "start_time": "2024-08-22T03:48:16.699Z"
   },
   {
    "duration": 29,
    "start_time": "2024-08-22T03:48:53.018Z"
   },
   {
    "duration": 28,
    "start_time": "2024-08-22T03:49:10.294Z"
   },
   {
    "duration": 306,
    "start_time": "2024-08-22T03:58:49.559Z"
   },
   {
    "duration": 22,
    "start_time": "2024-08-22T03:59:14.190Z"
   },
   {
    "duration": 22,
    "start_time": "2024-08-22T03:59:21.516Z"
   },
   {
    "duration": 21,
    "start_time": "2024-08-22T03:59:30.002Z"
   },
   {
    "duration": 20,
    "start_time": "2024-08-22T04:02:28.246Z"
   },
   {
    "duration": 22,
    "start_time": "2024-08-22T04:02:39.774Z"
   },
   {
    "duration": 22,
    "start_time": "2024-08-22T04:02:52.292Z"
   },
   {
    "duration": 53,
    "start_time": "2024-08-22T04:02:56.833Z"
   },
   {
    "duration": 3,
    "start_time": "2024-08-22T04:03:03.310Z"
   },
   {
    "duration": 25,
    "start_time": "2024-08-22T04:03:22.177Z"
   },
   {
    "duration": 21,
    "start_time": "2024-08-22T04:03:28.679Z"
   },
   {
    "duration": 4,
    "start_time": "2024-08-22T04:03:34.786Z"
   },
   {
    "duration": 21,
    "start_time": "2024-08-22T04:05:32.125Z"
   },
   {
    "duration": 4,
    "start_time": "2024-08-22T04:05:42.280Z"
   },
   {
    "duration": 24,
    "start_time": "2024-08-22T04:08:06.914Z"
   },
   {
    "duration": 22,
    "start_time": "2024-08-22T04:08:29.744Z"
   },
   {
    "duration": 595,
    "start_time": "2024-08-22T04:08:47.038Z"
   },
   {
    "duration": 180,
    "start_time": "2024-08-22T04:09:21.166Z"
   },
   {
    "duration": 180,
    "start_time": "2024-08-22T04:09:50.312Z"
   },
   {
    "duration": 5,
    "start_time": "2024-08-22T04:10:11.452Z"
   },
   {
    "duration": 12,
    "start_time": "2024-08-22T04:10:13.485Z"
   },
   {
    "duration": 5,
    "start_time": "2024-08-22T04:10:17.403Z"
   },
   {
    "duration": 165,
    "start_time": "2024-08-22T04:10:59.396Z"
   },
   {
    "duration": 3,
    "start_time": "2024-08-22T04:11:18.960Z"
   },
   {
    "duration": 155,
    "start_time": "2024-08-22T04:11:19.759Z"
   },
   {
    "duration": 20,
    "start_time": "2024-08-22T04:11:21.992Z"
   },
   {
    "duration": 34,
    "start_time": "2024-08-22T04:11:25.174Z"
   },
   {
    "duration": 149,
    "start_time": "2024-08-22T04:11:29.978Z"
   },
   {
    "duration": 155,
    "start_time": "2024-08-22T04:11:34.400Z"
   },
   {
    "duration": 156,
    "start_time": "2024-08-22T04:11:36.688Z"
   },
   {
    "duration": 161,
    "start_time": "2024-08-22T04:11:38.652Z"
   },
   {
    "duration": 154,
    "start_time": "2024-08-22T04:11:40.525Z"
   },
   {
    "duration": 5,
    "start_time": "2024-08-22T04:12:06.391Z"
   },
   {
    "duration": 8,
    "start_time": "2024-08-22T04:12:08.904Z"
   },
   {
    "duration": 6,
    "start_time": "2024-08-22T04:12:10.334Z"
   },
   {
    "duration": 10,
    "start_time": "2024-08-22T04:12:11.680Z"
   },
   {
    "duration": 5,
    "start_time": "2024-08-22T04:12:12.758Z"
   },
   {
    "duration": 186,
    "start_time": "2024-08-22T04:12:15.100Z"
   },
   {
    "duration": 181,
    "start_time": "2024-08-22T04:12:29.007Z"
   },
   {
    "duration": 176,
    "start_time": "2024-08-22T04:12:48.237Z"
   },
   {
    "duration": 29,
    "start_time": "2024-08-22T04:14:43.528Z"
   },
   {
    "duration": 27,
    "start_time": "2024-08-22T04:14:48.719Z"
   },
   {
    "duration": 5,
    "start_time": "2024-08-22T04:15:18.267Z"
   },
   {
    "duration": 27,
    "start_time": "2024-08-22T04:18:29.362Z"
   },
   {
    "duration": 51,
    "start_time": "2024-08-22T04:19:10.904Z"
   },
   {
    "duration": 50,
    "start_time": "2024-08-22T04:19:38.275Z"
   },
   {
    "duration": 50,
    "start_time": "2024-08-22T04:20:10.698Z"
   },
   {
    "duration": 50,
    "start_time": "2024-08-22T04:20:41.221Z"
   },
   {
    "duration": 50,
    "start_time": "2024-08-22T04:21:09.393Z"
   },
   {
    "duration": 5,
    "start_time": "2024-08-22T04:21:22.173Z"
   },
   {
    "duration": 10,
    "start_time": "2024-08-22T04:21:26.694Z"
   },
   {
    "duration": 6,
    "start_time": "2024-08-22T04:21:31.018Z"
   },
   {
    "duration": 10,
    "start_time": "2024-08-22T04:21:33.510Z"
   },
   {
    "duration": 5,
    "start_time": "2024-08-22T04:21:35.748Z"
   },
   {
    "duration": 4,
    "start_time": "2024-08-22T04:21:55.531Z"
   },
   {
    "duration": 170,
    "start_time": "2024-08-22T04:21:55.539Z"
   },
   {
    "duration": 15,
    "start_time": "2024-08-22T04:21:55.711Z"
   },
   {
    "duration": 36,
    "start_time": "2024-08-22T04:21:55.731Z"
   },
   {
    "duration": 4,
    "start_time": "2024-08-22T04:21:55.772Z"
   },
   {
    "duration": 32,
    "start_time": "2024-08-22T04:21:55.779Z"
   },
   {
    "duration": 5,
    "start_time": "2024-08-22T04:21:55.814Z"
   },
   {
    "duration": 8,
    "start_time": "2024-08-22T04:21:55.823Z"
   },
   {
    "duration": 5,
    "start_time": "2024-08-22T04:21:55.834Z"
   },
   {
    "duration": 101,
    "start_time": "2024-08-22T04:21:55.845Z"
   },
   {
    "duration": 3,
    "start_time": "2024-08-22T04:21:55.950Z"
   },
   {
    "duration": 4,
    "start_time": "2024-08-22T04:21:55.957Z"
   },
   {
    "duration": 3,
    "start_time": "2024-08-22T04:21:55.964Z"
   },
   {
    "duration": 40,
    "start_time": "2024-08-22T04:21:55.970Z"
   },
   {
    "duration": 4,
    "start_time": "2024-08-22T04:21:56.013Z"
   },
   {
    "duration": 4,
    "start_time": "2024-08-22T04:21:56.020Z"
   },
   {
    "duration": 4,
    "start_time": "2024-08-22T04:21:56.028Z"
   },
   {
    "duration": 3,
    "start_time": "2024-08-22T04:21:56.035Z"
   },
   {
    "duration": 4,
    "start_time": "2024-08-22T04:21:56.042Z"
   },
   {
    "duration": 3,
    "start_time": "2024-08-22T04:21:56.049Z"
   },
   {
    "duration": 4,
    "start_time": "2024-08-22T04:21:56.110Z"
   },
   {
    "duration": 3,
    "start_time": "2024-08-22T04:21:56.118Z"
   },
   {
    "duration": 3,
    "start_time": "2024-08-22T04:21:56.125Z"
   },
   {
    "duration": 4,
    "start_time": "2024-08-22T04:21:56.132Z"
   },
   {
    "duration": 4,
    "start_time": "2024-08-22T04:21:56.139Z"
   },
   {
    "duration": 4,
    "start_time": "2024-08-22T04:21:56.146Z"
   },
   {
    "duration": 58,
    "start_time": "2024-08-22T04:21:56.152Z"
   },
   {
    "duration": 3,
    "start_time": "2024-08-22T04:21:56.217Z"
   },
   {
    "duration": 44,
    "start_time": "2024-08-22T04:31:36.995Z"
   },
   {
    "duration": 44,
    "start_time": "2024-08-22T04:31:53.747Z"
   },
   {
    "duration": 42,
    "start_time": "2024-08-22T04:32:07.261Z"
   },
   {
    "duration": 38,
    "start_time": "2024-08-22T04:32:43.455Z"
   },
   {
    "duration": 44,
    "start_time": "2024-08-22T04:32:45.633Z"
   },
   {
    "duration": 45,
    "start_time": "2024-08-22T04:32:54.176Z"
   },
   {
    "duration": 43,
    "start_time": "2024-08-22T04:33:11.142Z"
   },
   {
    "duration": 54,
    "start_time": "2024-08-22T04:33:38.486Z"
   },
   {
    "duration": 64,
    "start_time": "2024-08-22T04:47:27.162Z"
   },
   {
    "duration": 21,
    "start_time": "2024-08-22T04:47:37.387Z"
   },
   {
    "duration": 53,
    "start_time": "2024-08-22T04:49:59.779Z"
   },
   {
    "duration": 153,
    "start_time": "2024-08-22T04:53:21.198Z"
   },
   {
    "duration": 151,
    "start_time": "2024-08-22T04:56:22.358Z"
   },
   {
    "duration": 148,
    "start_time": "2024-08-22T04:56:29.869Z"
   },
   {
    "duration": 152,
    "start_time": "2024-08-22T04:58:44.163Z"
   },
   {
    "duration": 142,
    "start_time": "2024-08-22T04:58:55.699Z"
   },
   {
    "duration": 139,
    "start_time": "2024-08-22T04:59:52.085Z"
   },
   {
    "duration": 154,
    "start_time": "2024-08-22T05:00:05.424Z"
   },
   {
    "duration": 140,
    "start_time": "2024-08-22T05:01:06.803Z"
   },
   {
    "duration": 140,
    "start_time": "2024-08-22T05:01:12.346Z"
   },
   {
    "duration": 3,
    "start_time": "2024-08-22T05:01:24.326Z"
   },
   {
    "duration": 140,
    "start_time": "2024-08-22T05:01:26.520Z"
   },
   {
    "duration": 51,
    "start_time": "2024-08-22T05:01:39.378Z"
   },
   {
    "duration": 146,
    "start_time": "2024-08-22T05:05:11.386Z"
   },
   {
    "duration": 4,
    "start_time": "2024-08-22T05:05:41.816Z"
   },
   {
    "duration": 180,
    "start_time": "2024-08-22T05:05:41.824Z"
   },
   {
    "duration": 16,
    "start_time": "2024-08-22T05:05:42.006Z"
   },
   {
    "duration": 34,
    "start_time": "2024-08-22T05:05:42.027Z"
   },
   {
    "duration": 5,
    "start_time": "2024-08-22T05:05:42.063Z"
   },
   {
    "duration": 39,
    "start_time": "2024-08-22T05:05:42.071Z"
   },
   {
    "duration": 6,
    "start_time": "2024-08-22T05:05:42.112Z"
   },
   {
    "duration": 15,
    "start_time": "2024-08-22T05:05:42.121Z"
   },
   {
    "duration": 5,
    "start_time": "2024-08-22T05:05:42.139Z"
   },
   {
    "duration": 85,
    "start_time": "2024-08-22T05:05:42.150Z"
   },
   {
    "duration": 42,
    "start_time": "2024-08-22T05:05:42.238Z"
   },
   {
    "duration": 49,
    "start_time": "2024-08-22T05:05:42.308Z"
   },
   {
    "duration": 157,
    "start_time": "2024-08-22T05:05:42.360Z"
   },
   {
    "duration": 163,
    "start_time": "2024-08-22T05:05:42.521Z"
   },
   {
    "duration": 167,
    "start_time": "2024-08-22T05:05:42.687Z"
   },
   {
    "duration": 5,
    "start_time": "2024-08-22T05:05:42.856Z"
   },
   {
    "duration": 3,
    "start_time": "2024-08-22T05:05:42.864Z"
   },
   {
    "duration": 4,
    "start_time": "2024-08-22T05:05:42.870Z"
   },
   {
    "duration": 4,
    "start_time": "2024-08-22T05:05:42.910Z"
   },
   {
    "duration": 3,
    "start_time": "2024-08-22T05:05:42.917Z"
   },
   {
    "duration": 4,
    "start_time": "2024-08-22T05:05:42.923Z"
   },
   {
    "duration": 7,
    "start_time": "2024-08-22T05:05:42.929Z"
   },
   {
    "duration": 5,
    "start_time": "2024-08-22T05:05:42.939Z"
   },
   {
    "duration": 4,
    "start_time": "2024-08-22T05:05:42.946Z"
   },
   {
    "duration": 55,
    "start_time": "2024-08-22T05:05:42.953Z"
   },
   {
    "duration": 4,
    "start_time": "2024-08-22T05:05:43.012Z"
   },
   {
    "duration": 4,
    "start_time": "2024-08-22T05:05:43.019Z"
   },
   {
    "duration": 7,
    "start_time": "2024-08-22T05:05:43.030Z"
   },
   {
    "duration": 139,
    "start_time": "2024-08-22T05:06:23.901Z"
   },
   {
    "duration": 132,
    "start_time": "2024-08-22T05:06:33.367Z"
   },
   {
    "duration": 138,
    "start_time": "2024-08-22T05:06:47.485Z"
   },
   {
    "duration": 7,
    "start_time": "2024-08-22T05:06:58.182Z"
   },
   {
    "duration": 158,
    "start_time": "2024-08-22T05:07:19.847Z"
   },
   {
    "duration": 169,
    "start_time": "2024-08-22T05:07:27.272Z"
   },
   {
    "duration": 135,
    "start_time": "2024-08-22T05:07:39.498Z"
   },
   {
    "duration": 3,
    "start_time": "2024-08-22T05:07:46.056Z"
   },
   {
    "duration": 153,
    "start_time": "2024-08-22T05:07:46.064Z"
   },
   {
    "duration": 15,
    "start_time": "2024-08-22T05:07:46.220Z"
   },
   {
    "duration": 33,
    "start_time": "2024-08-22T05:07:46.239Z"
   },
   {
    "duration": 4,
    "start_time": "2024-08-22T05:07:46.275Z"
   },
   {
    "duration": 6,
    "start_time": "2024-08-22T05:07:46.309Z"
   },
   {
    "duration": 7,
    "start_time": "2024-08-22T05:07:46.318Z"
   },
   {
    "duration": 9,
    "start_time": "2024-08-22T05:07:46.328Z"
   },
   {
    "duration": 5,
    "start_time": "2024-08-22T05:07:46.340Z"
   },
   {
    "duration": 98,
    "start_time": "2024-08-22T05:07:46.353Z"
   },
   {
    "duration": 57,
    "start_time": "2024-08-22T05:07:46.454Z"
   },
   {
    "duration": 48,
    "start_time": "2024-08-22T05:07:46.514Z"
   },
   {
    "duration": 166,
    "start_time": "2024-08-22T05:07:46.565Z"
   },
   {
    "duration": 152,
    "start_time": "2024-08-22T05:07:46.734Z"
   },
   {
    "duration": 145,
    "start_time": "2024-08-22T05:07:46.889Z"
   },
   {
    "duration": 4,
    "start_time": "2024-08-22T05:07:47.037Z"
   },
   {
    "duration": 4,
    "start_time": "2024-08-22T05:07:47.045Z"
   },
   {
    "duration": 4,
    "start_time": "2024-08-22T05:07:47.052Z"
   },
   {
    "duration": 3,
    "start_time": "2024-08-22T05:07:47.059Z"
   },
   {
    "duration": 45,
    "start_time": "2024-08-22T05:07:47.065Z"
   },
   {
    "duration": 4,
    "start_time": "2024-08-22T05:07:47.113Z"
   },
   {
    "duration": 4,
    "start_time": "2024-08-22T05:07:47.120Z"
   },
   {
    "duration": 3,
    "start_time": "2024-08-22T05:07:47.128Z"
   },
   {
    "duration": 3,
    "start_time": "2024-08-22T05:07:47.135Z"
   },
   {
    "duration": 3,
    "start_time": "2024-08-22T05:07:47.142Z"
   },
   {
    "duration": 5,
    "start_time": "2024-08-22T05:07:47.148Z"
   },
   {
    "duration": 53,
    "start_time": "2024-08-22T05:07:47.156Z"
   },
   {
    "duration": 3,
    "start_time": "2024-08-22T05:07:47.215Z"
   },
   {
    "duration": 134,
    "start_time": "2024-08-22T05:08:31.458Z"
   },
   {
    "duration": 128,
    "start_time": "2024-08-22T05:13:43.258Z"
   },
   {
    "duration": 9,
    "start_time": "2024-08-22T05:17:04.084Z"
   },
   {
    "duration": 11,
    "start_time": "2024-08-22T05:17:37.663Z"
   },
   {
    "duration": 26,
    "start_time": "2024-08-22T05:17:58.695Z"
   },
   {
    "duration": 9,
    "start_time": "2024-08-22T05:18:16.416Z"
   },
   {
    "duration": 7,
    "start_time": "2024-08-22T05:55:51.196Z"
   },
   {
    "duration": 6,
    "start_time": "2024-08-22T05:55:57.518Z"
   },
   {
    "duration": 5,
    "start_time": "2024-08-22T05:56:08.438Z"
   },
   {
    "duration": 7,
    "start_time": "2024-08-22T05:57:36.157Z"
   },
   {
    "duration": 4,
    "start_time": "2024-08-22T05:57:58.004Z"
   },
   {
    "duration": 27,
    "start_time": "2024-08-22T05:58:12.566Z"
   },
   {
    "duration": 7,
    "start_time": "2024-08-22T05:58:18.416Z"
   },
   {
    "duration": 7,
    "start_time": "2024-08-22T05:59:16.733Z"
   },
   {
    "duration": 7,
    "start_time": "2024-08-22T05:59:32.576Z"
   },
   {
    "duration": 7,
    "start_time": "2024-08-22T05:59:55.966Z"
   },
   {
    "duration": 27,
    "start_time": "2024-08-22T05:59:59.792Z"
   },
   {
    "duration": 7,
    "start_time": "2024-08-22T06:25:48.356Z"
   },
   {
    "duration": 6,
    "start_time": "2024-08-22T06:25:56.132Z"
   },
   {
    "duration": 5,
    "start_time": "2024-08-22T06:26:45.532Z"
   },
   {
    "duration": 6,
    "start_time": "2024-08-22T06:27:16.735Z"
   },
   {
    "duration": 6,
    "start_time": "2024-08-22T06:27:25.513Z"
   },
   {
    "duration": 6,
    "start_time": "2024-08-22T06:27:49.452Z"
   },
   {
    "duration": 6,
    "start_time": "2024-08-22T06:28:09.960Z"
   },
   {
    "duration": 24,
    "start_time": "2024-08-22T06:34:26.806Z"
   },
   {
    "duration": 6,
    "start_time": "2024-08-22T06:34:39.585Z"
   },
   {
    "duration": 35,
    "start_time": "2024-08-22T06:34:46.251Z"
   },
   {
    "duration": 34,
    "start_time": "2024-08-22T06:34:58.002Z"
   },
   {
    "duration": 33,
    "start_time": "2024-08-22T06:35:22.869Z"
   },
   {
    "duration": 7,
    "start_time": "2024-08-22T06:37:35.366Z"
   },
   {
    "duration": 6,
    "start_time": "2024-08-22T06:37:48.617Z"
   },
   {
    "duration": 24,
    "start_time": "2024-08-22T06:37:51.986Z"
   },
   {
    "duration": 5,
    "start_time": "2024-08-22T06:38:07.031Z"
   },
   {
    "duration": 7,
    "start_time": "2024-08-22T06:39:38.575Z"
   },
   {
    "duration": 32,
    "start_time": "2024-08-22T06:39:47.359Z"
   },
   {
    "duration": 5,
    "start_time": "2024-08-22T06:39:54.393Z"
   },
   {
    "duration": 5,
    "start_time": "2024-08-22T06:40:05.137Z"
   },
   {
    "duration": 5,
    "start_time": "2024-08-22T06:40:10.100Z"
   },
   {
    "duration": 3,
    "start_time": "2024-08-22T06:40:18.620Z"
   },
   {
    "duration": 173,
    "start_time": "2024-08-22T06:40:18.626Z"
   },
   {
    "duration": 19,
    "start_time": "2024-08-22T06:40:18.802Z"
   },
   {
    "duration": 33,
    "start_time": "2024-08-22T06:40:18.825Z"
   },
   {
    "duration": 5,
    "start_time": "2024-08-22T06:40:18.860Z"
   },
   {
    "duration": 42,
    "start_time": "2024-08-22T06:40:18.868Z"
   },
   {
    "duration": 6,
    "start_time": "2024-08-22T06:40:18.913Z"
   },
   {
    "duration": 12,
    "start_time": "2024-08-22T06:40:18.923Z"
   },
   {
    "duration": 4,
    "start_time": "2024-08-22T06:40:18.941Z"
   },
   {
    "duration": 88,
    "start_time": "2024-08-22T06:40:18.948Z"
   },
   {
    "duration": 39,
    "start_time": "2024-08-22T06:40:19.040Z"
   },
   {
    "duration": 66,
    "start_time": "2024-08-22T06:40:19.082Z"
   },
   {
    "duration": 153,
    "start_time": "2024-08-22T06:40:19.151Z"
   },
   {
    "duration": 155,
    "start_time": "2024-08-22T06:40:19.310Z"
   },
   {
    "duration": 134,
    "start_time": "2024-08-22T06:40:19.468Z"
   },
   {
    "duration": 6,
    "start_time": "2024-08-22T06:40:19.608Z"
   },
   {
    "duration": 0,
    "start_time": "2024-08-22T06:40:19.617Z"
   },
   {
    "duration": 0,
    "start_time": "2024-08-22T06:40:19.621Z"
   },
   {
    "duration": 0,
    "start_time": "2024-08-22T06:40:19.624Z"
   },
   {
    "duration": 0,
    "start_time": "2024-08-22T06:40:19.627Z"
   },
   {
    "duration": 0,
    "start_time": "2024-08-22T06:40:19.629Z"
   },
   {
    "duration": 0,
    "start_time": "2024-08-22T06:40:19.632Z"
   },
   {
    "duration": 0,
    "start_time": "2024-08-22T06:40:19.634Z"
   },
   {
    "duration": 0,
    "start_time": "2024-08-22T06:40:19.638Z"
   },
   {
    "duration": 0,
    "start_time": "2024-08-22T06:40:19.640Z"
   },
   {
    "duration": 0,
    "start_time": "2024-08-22T06:40:19.642Z"
   },
   {
    "duration": 0,
    "start_time": "2024-08-22T06:40:19.644Z"
   },
   {
    "duration": 0,
    "start_time": "2024-08-22T06:40:19.647Z"
   },
   {
    "duration": 27,
    "start_time": "2024-08-22T06:41:15.215Z"
   },
   {
    "duration": 10,
    "start_time": "2024-08-22T06:41:45.963Z"
   },
   {
    "duration": 9,
    "start_time": "2024-08-22T06:42:25.819Z"
   },
   {
    "duration": 64,
    "start_time": "2024-08-22T06:45:57.504Z"
   },
   {
    "duration": 64,
    "start_time": "2024-08-22T06:46:00.249Z"
   },
   {
    "duration": 126,
    "start_time": "2024-08-22T06:46:07.622Z"
   },
   {
    "duration": 138,
    "start_time": "2024-08-22T06:46:11.328Z"
   },
   {
    "duration": 6,
    "start_time": "2024-08-22T06:56:53.313Z"
   },
   {
    "duration": 6,
    "start_time": "2024-08-22T06:58:17.952Z"
   },
   {
    "duration": 5,
    "start_time": "2024-08-22T06:58:47.513Z"
   },
   {
    "duration": 5,
    "start_time": "2024-08-22T06:58:51.420Z"
   },
   {
    "duration": 14,
    "start_time": "2024-08-22T06:59:10.119Z"
   },
   {
    "duration": 12,
    "start_time": "2024-08-22T06:59:12.864Z"
   },
   {
    "duration": 9,
    "start_time": "2024-08-22T06:59:14.008Z"
   },
   {
    "duration": 3,
    "start_time": "2024-08-22T06:59:32.506Z"
   },
   {
    "duration": 174,
    "start_time": "2024-08-22T06:59:32.513Z"
   },
   {
    "duration": 19,
    "start_time": "2024-08-22T06:59:32.690Z"
   },
   {
    "duration": 33,
    "start_time": "2024-08-22T06:59:32.712Z"
   },
   {
    "duration": 5,
    "start_time": "2024-08-22T06:59:32.749Z"
   },
   {
    "duration": 6,
    "start_time": "2024-08-22T06:59:32.758Z"
   },
   {
    "duration": 46,
    "start_time": "2024-08-22T06:59:32.767Z"
   },
   {
    "duration": 9,
    "start_time": "2024-08-22T06:59:32.816Z"
   },
   {
    "duration": 5,
    "start_time": "2024-08-22T06:59:32.828Z"
   },
   {
    "duration": 82,
    "start_time": "2024-08-22T06:59:32.837Z"
   },
   {
    "duration": 42,
    "start_time": "2024-08-22T06:59:32.926Z"
   },
   {
    "duration": 71,
    "start_time": "2024-08-22T06:59:32.971Z"
   },
   {
    "duration": 148,
    "start_time": "2024-08-22T06:59:33.045Z"
   },
   {
    "duration": 150,
    "start_time": "2024-08-22T06:59:33.196Z"
   },
   {
    "duration": 144,
    "start_time": "2024-08-22T06:59:33.349Z"
   },
   {
    "duration": 14,
    "start_time": "2024-08-22T06:59:33.496Z"
   },
   {
    "duration": 5,
    "start_time": "2024-08-22T06:59:33.512Z"
   },
   {
    "duration": 16,
    "start_time": "2024-08-22T06:59:33.520Z"
   },
   {
    "duration": 10,
    "start_time": "2024-08-22T06:59:33.539Z"
   },
   {
    "duration": 3,
    "start_time": "2024-08-22T06:59:33.552Z"
   },
   {
    "duration": 4,
    "start_time": "2024-08-22T06:59:33.558Z"
   },
   {
    "duration": 4,
    "start_time": "2024-08-22T06:59:33.611Z"
   },
   {
    "duration": 3,
    "start_time": "2024-08-22T06:59:33.618Z"
   },
   {
    "duration": 3,
    "start_time": "2024-08-22T06:59:33.625Z"
   },
   {
    "duration": 3,
    "start_time": "2024-08-22T06:59:33.632Z"
   },
   {
    "duration": 4,
    "start_time": "2024-08-22T06:59:33.638Z"
   },
   {
    "duration": 4,
    "start_time": "2024-08-22T06:59:33.646Z"
   },
   {
    "duration": 58,
    "start_time": "2024-08-22T06:59:33.653Z"
   },
   {
    "duration": 9,
    "start_time": "2024-08-22T07:04:57.003Z"
   },
   {
    "duration": 21,
    "start_time": "2024-08-22T07:29:31.971Z"
   },
   {
    "duration": 22,
    "start_time": "2024-08-22T07:29:37.044Z"
   },
   {
    "duration": 23,
    "start_time": "2024-08-22T07:29:42.152Z"
   },
   {
    "duration": 21,
    "start_time": "2024-08-22T07:29:52.754Z"
   },
   {
    "duration": 243,
    "start_time": "2024-08-22T07:56:40.042Z"
   },
   {
    "duration": 416,
    "start_time": "2024-08-22T07:57:00.862Z"
   },
   {
    "duration": 160,
    "start_time": "2024-08-22T07:57:01.282Z"
   },
   {
    "duration": 21,
    "start_time": "2024-08-22T07:57:01.444Z"
   },
   {
    "duration": 49,
    "start_time": "2024-08-22T07:57:01.469Z"
   },
   {
    "duration": 5,
    "start_time": "2024-08-22T07:57:01.521Z"
   },
   {
    "duration": 6,
    "start_time": "2024-08-22T07:57:01.529Z"
   },
   {
    "duration": 6,
    "start_time": "2024-08-22T07:57:01.538Z"
   },
   {
    "duration": 12,
    "start_time": "2024-08-22T07:57:01.547Z"
   },
   {
    "duration": 5,
    "start_time": "2024-08-22T07:57:01.610Z"
   },
   {
    "duration": 46,
    "start_time": "2024-08-22T07:57:01.621Z"
   },
   {
    "duration": 69,
    "start_time": "2024-08-22T07:57:01.670Z"
   },
   {
    "duration": 45,
    "start_time": "2024-08-22T07:57:01.743Z"
   },
   {
    "duration": 156,
    "start_time": "2024-08-22T07:57:01.810Z"
   },
   {
    "duration": 155,
    "start_time": "2024-08-22T07:57:01.969Z"
   },
   {
    "duration": 132,
    "start_time": "2024-08-22T07:57:02.127Z"
   },
   {
    "duration": 9,
    "start_time": "2024-08-22T07:57:02.262Z"
   },
   {
    "duration": 5,
    "start_time": "2024-08-22T07:57:02.274Z"
   },
   {
    "duration": 14,
    "start_time": "2024-08-22T07:57:02.309Z"
   },
   {
    "duration": 9,
    "start_time": "2024-08-22T07:57:02.326Z"
   },
   {
    "duration": 619,
    "start_time": "2024-08-22T07:57:02.338Z"
   },
   {
    "duration": 0,
    "start_time": "2024-08-22T07:57:02.960Z"
   },
   {
    "duration": 0,
    "start_time": "2024-08-22T07:57:02.961Z"
   },
   {
    "duration": 0,
    "start_time": "2024-08-22T07:57:02.964Z"
   },
   {
    "duration": 0,
    "start_time": "2024-08-22T07:57:02.966Z"
   },
   {
    "duration": 0,
    "start_time": "2024-08-22T07:57:02.968Z"
   },
   {
    "duration": 0,
    "start_time": "2024-08-22T07:57:02.970Z"
   },
   {
    "duration": 0,
    "start_time": "2024-08-22T07:57:02.973Z"
   },
   {
    "duration": 0,
    "start_time": "2024-08-22T07:57:02.977Z"
   },
   {
    "duration": 5,
    "start_time": "2024-08-22T07:57:26.898Z"
   },
   {
    "duration": 893,
    "start_time": "2024-08-22T07:57:34.501Z"
   },
   {
    "duration": 81,
    "start_time": "2024-08-22T07:57:46.489Z"
   },
   {
    "duration": 82,
    "start_time": "2024-08-22T07:58:07.800Z"
   },
   {
    "duration": 80,
    "start_time": "2024-08-22T08:06:25.620Z"
   },
   {
    "duration": 81,
    "start_time": "2024-08-22T08:07:24.028Z"
   },
   {
    "duration": 80,
    "start_time": "2024-08-22T08:07:33.788Z"
   },
   {
    "duration": 228,
    "start_time": "2024-08-22T08:08:32.318Z"
   },
   {
    "duration": 81,
    "start_time": "2024-08-22T08:09:02.374Z"
   },
   {
    "duration": 81,
    "start_time": "2024-08-22T08:12:09.751Z"
   },
   {
    "duration": 160,
    "start_time": "2024-08-22T08:18:42.204Z"
   },
   {
    "duration": 23,
    "start_time": "2024-08-22T08:19:18.842Z"
   },
   {
    "duration": 22,
    "start_time": "2024-08-22T08:19:27.839Z"
   },
   {
    "duration": 78,
    "start_time": "2024-08-22T08:19:34.006Z"
   },
   {
    "duration": 80,
    "start_time": "2024-08-22T08:19:51.421Z"
   },
   {
    "duration": 85,
    "start_time": "2024-08-22T08:22:50.112Z"
   },
   {
    "duration": 21,
    "start_time": "2024-08-22T08:22:58.548Z"
   },
   {
    "duration": 30,
    "start_time": "2024-08-22T08:23:07.327Z"
   },
   {
    "duration": 22,
    "start_time": "2024-08-22T08:23:15.127Z"
   },
   {
    "duration": 22,
    "start_time": "2024-08-22T08:23:54.775Z"
   },
   {
    "duration": 23,
    "start_time": "2024-08-22T08:24:05.502Z"
   },
   {
    "duration": 22,
    "start_time": "2024-08-22T08:24:26.696Z"
   },
   {
    "duration": 437,
    "start_time": "2024-08-22T08:28:40.355Z"
   },
   {
    "duration": 77,
    "start_time": "2024-08-22T08:29:05.467Z"
   },
   {
    "duration": 3,
    "start_time": "2024-08-22T08:29:25.853Z"
   },
   {
    "duration": 80,
    "start_time": "2024-08-22T08:30:13.121Z"
   },
   {
    "duration": 83,
    "start_time": "2024-08-22T08:30:48.912Z"
   },
   {
    "duration": 80,
    "start_time": "2024-08-22T08:31:21.524Z"
   },
   {
    "duration": 6,
    "start_time": "2024-08-22T08:32:12.864Z"
   },
   {
    "duration": 79,
    "start_time": "2024-08-22T08:32:25.533Z"
   },
   {
    "duration": 3,
    "start_time": "2024-08-22T08:32:40.580Z"
   },
   {
    "duration": 152,
    "start_time": "2024-08-22T08:32:40.587Z"
   },
   {
    "duration": 14,
    "start_time": "2024-08-22T08:32:40.742Z"
   },
   {
    "duration": 53,
    "start_time": "2024-08-22T08:32:40.759Z"
   },
   {
    "duration": 5,
    "start_time": "2024-08-22T08:32:40.816Z"
   },
   {
    "duration": 6,
    "start_time": "2024-08-22T08:32:40.824Z"
   },
   {
    "duration": 6,
    "start_time": "2024-08-22T08:32:40.834Z"
   },
   {
    "duration": 11,
    "start_time": "2024-08-22T08:32:40.844Z"
   },
   {
    "duration": 52,
    "start_time": "2024-08-22T08:32:40.858Z"
   },
   {
    "duration": 51,
    "start_time": "2024-08-22T08:32:40.913Z"
   },
   {
    "duration": 62,
    "start_time": "2024-08-22T08:32:40.967Z"
   },
   {
    "duration": 46,
    "start_time": "2024-08-22T08:32:41.032Z"
   },
   {
    "duration": 152,
    "start_time": "2024-08-22T08:32:41.081Z"
   },
   {
    "duration": 152,
    "start_time": "2024-08-22T08:32:41.238Z"
   },
   {
    "duration": 156,
    "start_time": "2024-08-22T08:32:41.393Z"
   },
   {
    "duration": 12,
    "start_time": "2024-08-22T08:32:41.552Z"
   },
   {
    "duration": 5,
    "start_time": "2024-08-22T08:32:41.567Z"
   },
   {
    "duration": 45,
    "start_time": "2024-08-22T08:32:41.575Z"
   },
   {
    "duration": 9,
    "start_time": "2024-08-22T08:32:41.623Z"
   },
   {
    "duration": 3,
    "start_time": "2024-08-22T08:33:59.037Z"
   },
   {
    "duration": 80,
    "start_time": "2024-08-22T08:37:30.218Z"
   },
   {
    "duration": 79,
    "start_time": "2024-08-22T08:37:44.408Z"
   },
   {
    "duration": 79,
    "start_time": "2024-08-22T08:37:48.552Z"
   },
   {
    "duration": 74,
    "start_time": "2024-08-22T08:38:54.656Z"
   },
   {
    "duration": 74,
    "start_time": "2024-08-22T08:39:07.589Z"
   },
   {
    "duration": 7,
    "start_time": "2024-08-22T08:39:29.170Z"
   },
   {
    "duration": 7,
    "start_time": "2024-08-22T08:39:41.040Z"
   },
   {
    "duration": 5,
    "start_time": "2024-08-22T08:39:51.079Z"
   },
   {
    "duration": 6,
    "start_time": "2024-08-22T08:39:56.475Z"
   },
   {
    "duration": 6,
    "start_time": "2024-08-22T08:40:09.662Z"
   },
   {
    "duration": 6,
    "start_time": "2024-08-22T08:40:21.121Z"
   },
   {
    "duration": 7,
    "start_time": "2024-08-22T08:40:26.637Z"
   },
   {
    "duration": 16,
    "start_time": "2024-08-22T08:40:58.250Z"
   },
   {
    "duration": 31,
    "start_time": "2024-08-22T08:42:57.023Z"
   },
   {
    "duration": 15,
    "start_time": "2024-08-22T08:43:15.892Z"
   },
   {
    "duration": 17,
    "start_time": "2024-08-22T08:51:21.595Z"
   },
   {
    "duration": 6,
    "start_time": "2024-08-22T08:54:20.149Z"
   },
   {
    "duration": 6,
    "start_time": "2024-08-22T08:54:32.635Z"
   },
   {
    "duration": 4,
    "start_time": "2024-08-22T08:54:36.677Z"
   },
   {
    "duration": 4,
    "start_time": "2024-08-22T08:54:39.648Z"
   },
   {
    "duration": 5,
    "start_time": "2024-08-22T08:55:05.469Z"
   },
   {
    "duration": 4,
    "start_time": "2024-08-22T08:55:08.012Z"
   },
   {
    "duration": 3,
    "start_time": "2024-08-22T08:55:14.442Z"
   },
   {
    "duration": 169,
    "start_time": "2024-08-22T08:55:14.449Z"
   },
   {
    "duration": 23,
    "start_time": "2024-08-22T08:55:14.621Z"
   },
   {
    "duration": 32,
    "start_time": "2024-08-22T08:55:14.647Z"
   },
   {
    "duration": 30,
    "start_time": "2024-08-22T08:55:14.683Z"
   },
   {
    "duration": 10,
    "start_time": "2024-08-22T08:55:14.718Z"
   },
   {
    "duration": 7,
    "start_time": "2024-08-22T08:55:14.731Z"
   },
   {
    "duration": 10,
    "start_time": "2024-08-22T08:55:14.741Z"
   },
   {
    "duration": 4,
    "start_time": "2024-08-22T08:55:14.754Z"
   },
   {
    "duration": 49,
    "start_time": "2024-08-22T08:55:14.810Z"
   },
   {
    "duration": 65,
    "start_time": "2024-08-22T08:55:14.861Z"
   },
   {
    "duration": 45,
    "start_time": "2024-08-22T08:55:14.933Z"
   },
   {
    "duration": 160,
    "start_time": "2024-08-22T08:55:14.984Z"
   },
   {
    "duration": 151,
    "start_time": "2024-08-22T08:55:15.147Z"
   },
   {
    "duration": 136,
    "start_time": "2024-08-22T08:55:15.302Z"
   },
   {
    "duration": 11,
    "start_time": "2024-08-22T08:55:15.442Z"
   },
   {
    "duration": 5,
    "start_time": "2024-08-22T08:55:15.455Z"
   },
   {
    "duration": 46,
    "start_time": "2024-08-22T08:55:15.462Z"
   },
   {
    "duration": 10,
    "start_time": "2024-08-22T08:55:15.511Z"
   },
   {
    "duration": 16,
    "start_time": "2024-08-22T08:55:15.523Z"
   },
   {
    "duration": 17,
    "start_time": "2024-08-22T08:55:15.543Z"
   },
   {
    "duration": 5,
    "start_time": "2024-08-22T08:55:15.564Z"
   },
   {
    "duration": 4,
    "start_time": "2024-08-22T08:55:16.971Z"
   },
   {
    "duration": 5,
    "start_time": "2024-08-22T08:55:21.784Z"
   },
   {
    "duration": 4,
    "start_time": "2024-08-22T08:56:05.532Z"
   },
   {
    "duration": 7,
    "start_time": "2024-08-22T08:56:09.820Z"
   },
   {
    "duration": 4,
    "start_time": "2024-08-22T08:56:17.856Z"
   },
   {
    "duration": 4,
    "start_time": "2024-08-22T08:56:44.865Z"
   },
   {
    "duration": 24,
    "start_time": "2024-08-22T09:00:22.756Z"
   },
   {
    "duration": 81,
    "start_time": "2024-08-22T09:03:05.606Z"
   },
   {
    "duration": 7,
    "start_time": "2024-08-22T09:03:31.377Z"
   },
   {
    "duration": 4,
    "start_time": "2024-08-22T09:07:04.137Z"
   },
   {
    "duration": 16,
    "start_time": "2024-08-22T09:10:43.192Z"
   },
   {
    "duration": 7,
    "start_time": "2024-08-22T09:12:16.161Z"
   },
   {
    "duration": 6,
    "start_time": "2024-08-22T09:12:33.309Z"
   },
   {
    "duration": 22,
    "start_time": "2024-08-22T09:12:56.983Z"
   },
   {
    "duration": 21,
    "start_time": "2024-08-22T09:13:41.058Z"
   },
   {
    "duration": 21,
    "start_time": "2024-08-22T09:13:53.744Z"
   },
   {
    "duration": 21,
    "start_time": "2024-08-22T09:14:10.572Z"
   },
   {
    "duration": 22,
    "start_time": "2024-08-22T09:14:30.510Z"
   },
   {
    "duration": 22,
    "start_time": "2024-08-22T09:15:02.704Z"
   },
   {
    "duration": 21,
    "start_time": "2024-08-22T09:15:06.366Z"
   },
   {
    "duration": 1307,
    "start_time": "2024-08-22T09:15:32.792Z"
   },
   {
    "duration": 22,
    "start_time": "2024-08-22T09:15:51.321Z"
   },
   {
    "duration": 17,
    "start_time": "2024-08-22T23:38:43.655Z"
   },
   {
    "duration": 8,
    "start_time": "2024-08-22T23:46:35.633Z"
   },
   {
    "duration": 322,
    "start_time": "2024-08-23T01:24:59.510Z"
   },
   {
    "duration": 23,
    "start_time": "2024-08-23T01:25:14.402Z"
   },
   {
    "duration": 22,
    "start_time": "2024-08-23T01:25:32.519Z"
   },
   {
    "duration": 23,
    "start_time": "2024-08-23T01:25:45.347Z"
   },
   {
    "duration": 7,
    "start_time": "2024-08-23T01:25:51.646Z"
   },
   {
    "duration": 7,
    "start_time": "2024-08-23T01:26:04.044Z"
   },
   {
    "duration": 26,
    "start_time": "2024-08-23T01:26:08.326Z"
   },
   {
    "duration": 23,
    "start_time": "2024-08-23T01:27:29.193Z"
   },
   {
    "duration": 23,
    "start_time": "2024-08-23T01:28:44.775Z"
   },
   {
    "duration": 54,
    "start_time": "2024-08-23T01:29:32.026Z"
   },
   {
    "duration": 22,
    "start_time": "2024-08-23T01:30:40.194Z"
   },
   {
    "duration": 441,
    "start_time": "2024-08-23T01:31:02.344Z"
   },
   {
    "duration": 190,
    "start_time": "2024-08-23T01:31:02.789Z"
   },
   {
    "duration": 33,
    "start_time": "2024-08-23T01:31:02.982Z"
   },
   {
    "duration": 34,
    "start_time": "2024-08-23T01:31:03.018Z"
   },
   {
    "duration": 4,
    "start_time": "2024-08-23T01:31:03.058Z"
   },
   {
    "duration": 42,
    "start_time": "2024-08-23T01:31:03.066Z"
   },
   {
    "duration": 9,
    "start_time": "2024-08-23T01:31:03.112Z"
   },
   {
    "duration": 11,
    "start_time": "2024-08-23T01:31:03.126Z"
   },
   {
    "duration": 4,
    "start_time": "2024-08-23T01:31:03.140Z"
   },
   {
    "duration": 86,
    "start_time": "2024-08-23T01:31:03.147Z"
   },
   {
    "duration": 41,
    "start_time": "2024-08-23T01:31:03.236Z"
   },
   {
    "duration": 72,
    "start_time": "2024-08-23T01:31:03.280Z"
   },
   {
    "duration": 165,
    "start_time": "2024-08-23T01:31:03.355Z"
   },
   {
    "duration": 162,
    "start_time": "2024-08-23T01:31:03.525Z"
   },
   {
    "duration": 148,
    "start_time": "2024-08-23T01:31:03.690Z"
   },
   {
    "duration": 10,
    "start_time": "2024-08-23T01:31:05.813Z"
   },
   {
    "duration": 18,
    "start_time": "2024-08-23T01:32:12.536Z"
   },
   {
    "duration": 18,
    "start_time": "2024-08-23T01:33:38.552Z"
   },
   {
    "duration": 137,
    "start_time": "2024-08-23T01:35:27.456Z"
   },
   {
    "duration": 135,
    "start_time": "2024-08-23T01:35:48.945Z"
   },
   {
    "duration": 136,
    "start_time": "2024-08-23T01:36:17.787Z"
   },
   {
    "duration": 141,
    "start_time": "2024-08-23T01:37:10.517Z"
   },
   {
    "duration": 134,
    "start_time": "2024-08-23T01:37:31.876Z"
   },
   {
    "duration": 151,
    "start_time": "2024-08-23T01:37:42.703Z"
   },
   {
    "duration": 130,
    "start_time": "2024-08-23T01:38:13.264Z"
   },
   {
    "duration": 3,
    "start_time": "2024-08-23T01:38:19.234Z"
   },
   {
    "duration": 154,
    "start_time": "2024-08-23T01:38:19.243Z"
   },
   {
    "duration": 15,
    "start_time": "2024-08-23T01:38:19.399Z"
   },
   {
    "duration": 33,
    "start_time": "2024-08-23T01:38:19.418Z"
   },
   {
    "duration": 5,
    "start_time": "2024-08-23T01:38:19.455Z"
   },
   {
    "duration": 45,
    "start_time": "2024-08-23T01:38:19.463Z"
   },
   {
    "duration": 6,
    "start_time": "2024-08-23T01:38:19.511Z"
   },
   {
    "duration": 9,
    "start_time": "2024-08-23T01:38:19.520Z"
   },
   {
    "duration": 6,
    "start_time": "2024-08-23T01:38:19.532Z"
   },
   {
    "duration": 82,
    "start_time": "2024-08-23T01:38:19.542Z"
   },
   {
    "duration": 41,
    "start_time": "2024-08-23T01:38:19.627Z"
   },
   {
    "duration": 68,
    "start_time": "2024-08-23T01:38:19.671Z"
   },
   {
    "duration": 141,
    "start_time": "2024-08-23T01:38:22.776Z"
   },
   {
    "duration": 213,
    "start_time": "2024-08-23T01:39:33.175Z"
   },
   {
    "duration": 139,
    "start_time": "2024-08-23T01:39:53.041Z"
   },
   {
    "duration": 20,
    "start_time": "2024-08-23T01:40:12.548Z"
   },
   {
    "duration": 5,
    "start_time": "2024-08-23T01:45:31.644Z"
   },
   {
    "duration": 4,
    "start_time": "2024-08-23T01:45:49.734Z"
   },
   {
    "duration": 4,
    "start_time": "2024-08-23T01:46:20.304Z"
   },
   {
    "duration": 5,
    "start_time": "2024-08-23T01:46:37.889Z"
   },
   {
    "duration": 5,
    "start_time": "2024-08-23T01:46:41.770Z"
   },
   {
    "duration": 23,
    "start_time": "2024-08-23T01:46:42.752Z"
   },
   {
    "duration": 4,
    "start_time": "2024-08-23T01:47:05.941Z"
   },
   {
    "duration": 4,
    "start_time": "2024-08-23T01:47:07.823Z"
   },
   {
    "duration": 22,
    "start_time": "2024-08-23T01:47:21.088Z"
   },
   {
    "duration": 10,
    "start_time": "2024-08-25T04:05:12.197Z"
   },
   {
    "duration": 312,
    "start_time": "2024-08-25T04:05:48.168Z"
   },
   {
    "duration": 22,
    "start_time": "2024-08-25T04:05:59.444Z"
   },
   {
    "duration": 22,
    "start_time": "2024-08-25T04:06:03.370Z"
   },
   {
    "duration": 4,
    "start_time": "2024-08-25T04:06:07.040Z"
   },
   {
    "duration": 21,
    "start_time": "2024-08-25T04:06:10.185Z"
   },
   {
    "duration": 21,
    "start_time": "2024-08-25T04:07:34.154Z"
   },
   {
    "duration": 21,
    "start_time": "2024-08-25T04:08:22.759Z"
   },
   {
    "duration": 4,
    "start_time": "2024-08-25T04:08:34.967Z"
   },
   {
    "duration": 68,
    "start_time": "2024-08-25T04:08:38.025Z"
   },
   {
    "duration": 30,
    "start_time": "2024-08-25T04:09:03.477Z"
   },
   {
    "duration": 5,
    "start_time": "2024-08-25T04:42:11.873Z"
   },
   {
    "duration": 390,
    "start_time": "2024-08-25T04:42:16.467Z"
   },
   {
    "duration": 183,
    "start_time": "2024-08-25T04:42:16.861Z"
   },
   {
    "duration": 23,
    "start_time": "2024-08-25T04:42:17.047Z"
   },
   {
    "duration": 53,
    "start_time": "2024-08-25T04:42:17.075Z"
   },
   {
    "duration": 5,
    "start_time": "2024-08-25T04:42:17.131Z"
   },
   {
    "duration": 5,
    "start_time": "2024-08-25T04:42:17.140Z"
   },
   {
    "duration": 6,
    "start_time": "2024-08-25T04:42:17.148Z"
   },
   {
    "duration": 12,
    "start_time": "2024-08-25T04:42:17.157Z"
   },
   {
    "duration": 54,
    "start_time": "2024-08-25T04:42:17.172Z"
   },
   {
    "duration": 47,
    "start_time": "2024-08-25T04:42:17.232Z"
   },
   {
    "duration": 65,
    "start_time": "2024-08-25T04:42:17.283Z"
   },
   {
    "duration": 47,
    "start_time": "2024-08-25T04:42:17.351Z"
   },
   {
    "duration": 163,
    "start_time": "2024-08-25T04:42:17.425Z"
   },
   {
    "duration": 161,
    "start_time": "2024-08-25T04:42:17.592Z"
   },
   {
    "duration": 205,
    "start_time": "2024-08-25T04:42:17.756Z"
   },
   {
    "duration": 1,
    "start_time": "2024-08-25T04:42:17.963Z"
   },
   {
    "duration": 0,
    "start_time": "2024-08-25T04:42:17.965Z"
   },
   {
    "duration": 0,
    "start_time": "2024-08-25T04:42:17.967Z"
   },
   {
    "duration": 0,
    "start_time": "2024-08-25T04:42:17.969Z"
   },
   {
    "duration": 0,
    "start_time": "2024-08-25T04:42:17.971Z"
   },
   {
    "duration": 0,
    "start_time": "2024-08-25T04:42:17.972Z"
   },
   {
    "duration": 0,
    "start_time": "2024-08-25T04:42:17.975Z"
   },
   {
    "duration": 16,
    "start_time": "2024-08-25T04:42:28.150Z"
   },
   {
    "duration": 17,
    "start_time": "2024-08-25T04:43:08.454Z"
   },
   {
    "duration": 4,
    "start_time": "2024-08-25T04:56:22.290Z"
   },
   {
    "duration": 162,
    "start_time": "2024-08-25T04:56:22.299Z"
   },
   {
    "duration": 17,
    "start_time": "2024-08-25T04:56:22.464Z"
   },
   {
    "duration": 47,
    "start_time": "2024-08-25T04:56:22.485Z"
   },
   {
    "duration": 5,
    "start_time": "2024-08-25T04:56:22.537Z"
   },
   {
    "duration": 6,
    "start_time": "2024-08-25T04:56:22.545Z"
   },
   {
    "duration": 7,
    "start_time": "2024-08-25T04:56:22.554Z"
   },
   {
    "duration": 8,
    "start_time": "2024-08-25T04:56:22.564Z"
   },
   {
    "duration": 5,
    "start_time": "2024-08-25T04:56:22.627Z"
   },
   {
    "duration": 46,
    "start_time": "2024-08-25T04:56:22.635Z"
   },
   {
    "duration": 69,
    "start_time": "2024-08-25T04:56:22.684Z"
   },
   {
    "duration": 46,
    "start_time": "2024-08-25T04:56:22.756Z"
   },
   {
    "duration": 160,
    "start_time": "2024-08-25T04:56:22.805Z"
   },
   {
    "duration": 152,
    "start_time": "2024-08-25T04:56:22.971Z"
   },
   {
    "duration": 154,
    "start_time": "2024-08-25T04:56:23.127Z"
   },
   {
    "duration": 0,
    "start_time": "2024-08-25T04:56:23.283Z"
   },
   {
    "duration": 0,
    "start_time": "2024-08-25T04:56:23.285Z"
   },
   {
    "duration": 0,
    "start_time": "2024-08-25T04:56:23.286Z"
   },
   {
    "duration": 0,
    "start_time": "2024-08-25T04:56:23.288Z"
   },
   {
    "duration": 0,
    "start_time": "2024-08-25T04:56:23.290Z"
   },
   {
    "duration": 0,
    "start_time": "2024-08-25T04:56:23.291Z"
   },
   {
    "duration": 0,
    "start_time": "2024-08-25T04:56:23.294Z"
   },
   {
    "duration": 0,
    "start_time": "2024-08-25T04:56:23.295Z"
   },
   {
    "duration": 0,
    "start_time": "2024-08-25T04:56:23.298Z"
   },
   {
    "duration": 0,
    "start_time": "2024-08-25T04:56:23.299Z"
   },
   {
    "duration": 0,
    "start_time": "2024-08-25T04:56:23.300Z"
   },
   {
    "duration": 24,
    "start_time": "2024-08-25T04:56:23.301Z"
   },
   {
    "duration": 0,
    "start_time": "2024-08-25T04:56:23.328Z"
   },
   {
    "duration": 413,
    "start_time": "2024-08-25T05:10:34.481Z"
   },
   {
    "duration": 160,
    "start_time": "2024-08-25T05:10:34.897Z"
   },
   {
    "duration": 21,
    "start_time": "2024-08-25T05:10:35.060Z"
   },
   {
    "duration": 51,
    "start_time": "2024-08-25T05:10:35.085Z"
   },
   {
    "duration": 6,
    "start_time": "2024-08-25T05:10:35.138Z"
   },
   {
    "duration": 6,
    "start_time": "2024-08-25T05:10:35.147Z"
   },
   {
    "duration": 6,
    "start_time": "2024-08-25T05:10:35.156Z"
   },
   {
    "duration": 11,
    "start_time": "2024-08-25T05:10:35.165Z"
   },
   {
    "duration": 4,
    "start_time": "2024-08-25T05:10:35.227Z"
   },
   {
    "duration": 48,
    "start_time": "2024-08-25T05:10:35.239Z"
   },
   {
    "duration": 70,
    "start_time": "2024-08-25T05:10:35.290Z"
   },
   {
    "duration": 67,
    "start_time": "2024-08-25T05:10:35.363Z"
   },
   {
    "duration": 154,
    "start_time": "2024-08-25T05:10:35.433Z"
   },
   {
    "duration": 153,
    "start_time": "2024-08-25T05:10:35.590Z"
   },
   {
    "duration": 475,
    "start_time": "2024-08-25T05:10:35.747Z"
   },
   {
    "duration": 0,
    "start_time": "2024-08-25T05:10:36.226Z"
   },
   {
    "duration": 0,
    "start_time": "2024-08-25T05:10:36.228Z"
   },
   {
    "duration": 0,
    "start_time": "2024-08-25T05:10:36.231Z"
   },
   {
    "duration": 0,
    "start_time": "2024-08-25T05:10:36.233Z"
   },
   {
    "duration": 0,
    "start_time": "2024-08-25T05:10:36.235Z"
   },
   {
    "duration": 0,
    "start_time": "2024-08-25T05:10:36.238Z"
   },
   {
    "duration": 1,
    "start_time": "2024-08-25T05:10:36.240Z"
   },
   {
    "duration": 0,
    "start_time": "2024-08-25T05:10:36.242Z"
   },
   {
    "duration": 0,
    "start_time": "2024-08-25T05:10:36.245Z"
   },
   {
    "duration": 0,
    "start_time": "2024-08-25T05:10:36.247Z"
   },
   {
    "duration": 0,
    "start_time": "2024-08-25T05:10:36.249Z"
   },
   {
    "duration": 0,
    "start_time": "2024-08-25T05:10:36.251Z"
   },
   {
    "duration": 0,
    "start_time": "2024-08-25T05:10:36.252Z"
   },
   {
    "duration": 22,
    "start_time": "2024-08-25T05:10:39.755Z"
   },
   {
    "duration": 5,
    "start_time": "2024-08-25T05:10:52.487Z"
   },
   {
    "duration": 5,
    "start_time": "2024-08-25T05:13:07.884Z"
   },
   {
    "duration": 22,
    "start_time": "2024-08-25T05:13:10.504Z"
   },
   {
    "duration": 20,
    "start_time": "2024-08-25T05:14:10.014Z"
   },
   {
    "duration": 19,
    "start_time": "2024-08-25T05:15:21.589Z"
   },
   {
    "duration": 20,
    "start_time": "2024-08-25T05:15:36.140Z"
   },
   {
    "duration": 8,
    "start_time": "2024-08-25T05:16:01.066Z"
   },
   {
    "duration": 20,
    "start_time": "2024-08-25T05:16:05.649Z"
   },
   {
    "duration": 22,
    "start_time": "2024-08-25T05:16:44.146Z"
   },
   {
    "duration": 4,
    "start_time": "2024-08-25T05:17:05.139Z"
   },
   {
    "duration": 21,
    "start_time": "2024-08-25T05:17:06.214Z"
   },
   {
    "duration": 20,
    "start_time": "2024-08-25T05:17:06.528Z"
   },
   {
    "duration": 22,
    "start_time": "2024-08-25T05:17:07.195Z"
   },
   {
    "duration": 19,
    "start_time": "2024-08-25T05:17:07.645Z"
   },
   {
    "duration": 23,
    "start_time": "2024-08-25T05:17:08.566Z"
   },
   {
    "duration": 21,
    "start_time": "2024-08-25T05:17:09.433Z"
   },
   {
    "duration": 20,
    "start_time": "2024-08-25T05:17:12.229Z"
   },
   {
    "duration": 8,
    "start_time": "2024-08-25T05:20:00.919Z"
   },
   {
    "duration": 6,
    "start_time": "2024-08-25T05:20:08.006Z"
   },
   {
    "duration": 6,
    "start_time": "2024-08-25T05:20:29.828Z"
   }
  ],
  "colab": {
   "collapsed_sections": [
    "E0vqbgi9ay0H",
    "VUC88oWjTJw2"
   ],
   "provenance": []
  },
  "kernelspec": {
   "display_name": "Python 3 (ipykernel)",
   "language": "python",
   "name": "python3"
  },
  "language_info": {
   "codemirror_mode": {
    "name": "ipython",
    "version": 3
   },
   "file_extension": ".py",
   "mimetype": "text/x-python",
   "name": "python",
   "nbconvert_exporter": "python",
   "pygments_lexer": "ipython3",
   "version": "3.12.3"
  },
  "toc": {
   "base_numbering": 1,
   "nav_menu": {},
   "number_sections": true,
   "sideBar": true,
   "skip_h1_title": true,
   "title_cell": "Table of Contents",
   "title_sidebar": "Contents",
   "toc_cell": false,
   "toc_position": {},
   "toc_section_display": true,
   "toc_window_display": true
  }
 },
 "nbformat": 4,
 "nbformat_minor": 4
}
