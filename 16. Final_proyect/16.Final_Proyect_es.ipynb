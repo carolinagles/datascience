{
 "cells": [
  {
   "cell_type": "markdown",
   "id": "5d127d12",
   "metadata": {},
   "source": [
    "<p style=\"color: #000000; font-size: 32px; font-weight: bold; text-align: center; margin-top: 20px;\"> \n",
    "Interconnect Insights\n",
    "</p>\n",
    "<p style=\"color: #000000; font-size: 24px; text-align: center; margin-bottom: 20px;\">\n",
    "Modelo de Predicción de Cancelación de Clientes\n",
    "</p>\n",
    "\n",
    "<hr style=\"border: .4px solid #000000; width: 70%; margin: 10px auto;\">  \n",
    "\n",
    "<p><strong>Interconnect</strong>, un operador líder en telecomunicaciones, busca desarrollar un sistema automatizado para predecir la cancelación de clientes. Esta herramienta permitirá identificar clientes con alta probabilidad de abandonar el servicio y aplicar estrategias de retención, como descuentos y planes personalizados. El equipo de marketing de Interconnect ha recopilado algunos de los datos personales de sus clientes, incluyendo información sobre sus planes y contratos.</p>\n",
    "\n",
    "<p>Servicios de Interconnect:</p>\n",
    "<ul>\n",
    "    <li><strong>Comunicación por teléfono fijo</strong>. El teléfono se puede conectar a varias líneas de manera simultánea.</li>\n",
    "    <li><strong>Internet</strong>. La red se puede configurar a través de una línea telefónica (DSL, <em>línea de abonado digital</em>) o a través de un cable de fibra óptica.</li>\n",
    "</ul>\n",
    "\n",
    "<p>Además, brinda servicios adicionales, como:</p>\n",
    "<ul>\n",
    "    <li>Seguridad en Internet: <em>ProtecciónDeDispositivo</em> (antivirus) y <em>SeguridadEnLínea</em> (bloqueador de sitios web maliciosos).</li>\n",
    "    <li>Asistencia técnica: <em>SoporteTécnico</em>.</li>\n",
    "    <li>Servicios en la nube: <em>BackupOnline</em> (almacenamiento y copias de seguridad).</li>\n",
    "    <li>Entretenimiento: <em>StreamingTV</em> y <em>StreamingPelículas</em>.</li>\n",
    "</ul>\n",
    "\n",
    "<p>Los clientes pueden optar por pagos mensuales o firmar contratos de 1 o 2 años, con diversas opciones de pago y facturación electrónica.</p>\n",
    "\n",
    "\n",
    "<p><strong>Objetivo del Proyecto</strong></p>\n",
    "\n",
    "<p>Este proyecto tiene como objetivo desarrollar un modelo predictivo que permita anticipar si un cliente cancelará su contrato con Interconnect. Se trata de un problema de clasificación binaria, donde cada cliente puede clasificarse en una de dos categorías:</p>\n",
    "\n",
    "- **Sí**: el cliente es propenso a abandonar el servicio.  \n",
    "- **No**: el cliente probablemente continuará utilizando el servicio.\n",
    "\n",
    "<p>Para medir el desempeño del modelo, se ha definido como métrica principal el <strong>AUC-ROC</strong>, con un umbral mínimo de <strong>0.85</strong>, lo que asegura una alta capacidad para distinguir entre clientes que se darán de baja y aquellos que permanecerán. Como métrica complementaria se considera la <strong>accuracy</strong>, para ofrecer una visión general del rendimiento del modelo.</p>\n",
    "\n",
    "<p>La división de los datos será del <strong>80% para entrenamiento</strong>, <strong>10% para validación</strong> y <strong>10% para pruebas</strong>.</p>\n",
    "\n",
    "<p>Además, se ha incorporado el <strong>F1-score</strong> como una métrica adicional clave, con un umbral mínimo de <strong>0.75</strong>. Esto garantiza un buen equilibrio entre precisión y recuperación, validando que el modelo no solo identifica correctamente a los clientes en riesgo, sino que también reduce al mínimo los falsos positivos y negativos, generando predicciones confiables y accionables. Asimismo, se medirá el tiempo de ejecución de los tres mejores modelos para evaluar su eficiencia computacional.</p>\n",
    " \n",
    "<p><strong>Diccionario de Datos</strong></p>\n",
    "<p>Los datos han sido recopilados de diferentes fuentes y se presentan en los siguientes archivos:</p>\n",
    "<ul>\n",
    "    <li><strong><code>contract.csv</code></strong> – Información sobre los contratos.</li>\n",
    "    <li><strong><code>personal.csv</code></strong> – Datos personales de los clientes.</li>\n",
    "    <li><strong><code>internet.csv</code></strong> – Servicios de Internet contratados.</li>\n",
    "    <li><strong><code>phone.csv</code></strong> – Servicios de telefonía contratados.</li>\n",
    "</ul>\n",
    "<p>Cada archivo contiene la columna <strong><code>customerID</code></strong>, que representa un identificador único para cada cliente. La información del contrato es válida a partir del <strong>1 de febrero de 2020</strong>.</p>"
   ]
  },
  {
   "cell_type": "markdown",
   "id": "3ac9607c",
   "metadata": {},
   "source": [
    "# 1 Carga y Preparación de Datos "
   ]
  },
  {
   "cell_type": "code",
   "execution_count": 35,
   "id": "f77eed0a",
   "metadata": {},
   "outputs": [],
   "source": [
    "# Libraries\n",
    "import pandas as pd\n",
    "import numpy as np\n",
    "import re\n",
    "import time\n",
    "import matplotlib.pyplot as plt\n",
    "import warnings\n",
    "\n",
    "# Importing models and tools from sklearn\n",
    "from sklearn.metrics import roc_auc_score, f1_score, roc_curve, auc, confusion_matrix\n",
    "from sklearn.model_selection import train_test_split, GridSearchCV, RandomizedSearchCV\n",
    "from sklearn.preprocessing import StandardScaler\n",
    "from sklearn.dummy import DummyClassifier\n",
    "from sklearn.linear_model import LogisticRegression\n",
    "from sklearn.utils import resample\n",
    "\n",
    "# Importing advanced models\n",
    "from lightgbm import LGBMClassifier\n",
    "from xgboost import XGBClassifier\n",
    "from catboost import CatBoostClassifier\n",
    "\n",
    "# Importing tools for class balancing and pipeline\n",
    "from imblearn.over_sampling import SMOTE\n",
    "from imblearn.pipeline import Pipeline\n",
    "\n",
    "# Importing tools for date manipulation\n",
    "from dateutil.relativedelta import relativedelta\n",
    "\n",
    "# Suppress specific FutureWarnings\n",
    "warnings.simplefilter(action='ignore', category=FutureWarning)\n",
    "\n",
    "# Suppress warnings related to data validation\n",
    "from sklearn.exceptions import DataConversionWarning\n",
    "warnings.filterwarnings(action='ignore', category=DataConversionWarning)\n",
    "\n",
    "# Suppress UserWarnings\n",
    "warnings.filterwarnings(\"ignore\", category=UserWarning, message=\".*feature names.*\")"
   ]
  },
  {
   "cell_type": "code",
   "execution_count": 36,
   "id": "7030447b",
   "metadata": {},
   "outputs": [],
   "source": [
    "# Load the Data\n",
    "contract = pd.read_csv('final_provider/contract.csv')\n",
    "internet = pd.read_csv('final_provider/internet.csv')\n",
    "personal = pd.read_csv('final_provider/personal.csv')\n",
    "phone = pd.read_csv('final_provider/phone.csv')"
   ]
  },
  {
   "cell_type": "code",
   "execution_count": 37,
   "id": "b9dfc7d7",
   "metadata": {},
   "outputs": [],
   "source": [
    "# Convert names to snake_case format \n",
    "# Cerate function\n",
    "def to_snake_case(df):\n",
    "    def convert_column_name(name):\n",
    "        # Replace uppercase letters with underscores and convert to lowercase\n",
    "        name = re.sub(r'([a-z0-9])([A-Z])', r'\\1_\\2', name).lower()\n",
    "        # Replace spaces with underscores\n",
    "        name = name.replace(\" \", \"_\")\n",
    "        return name\n",
    "    \n",
    "    df.columns = [convert_column_name(col) for col in df.columns]\n",
    "    return df\n",
    "\n",
    "# Apply the function to each DataFrame\n",
    "contract = to_snake_case(contract)\n",
    "internet = to_snake_case(internet)\n",
    "personal = to_snake_case(personal)\n",
    "phone = to_snake_case(phone)"
   ]
  },
  {
   "cell_type": "markdown",
   "id": "6c9c06ac",
   "metadata": {},
   "source": [
    "Dado que la columna **`customer_id`** es la clave común en todos los archivos CSV, será utilizada para unir los datos y crear un solo *DataFrame*, lo cual permitirá un mejor manejo de la información; sin embargo, primero serán revisados los *DataFrames* de forma individual.       \n",
    "Al revisar los DataFrames se comprobó que los nombres de las columnas no están en el formato adecuado para python, el snake_case y se realizó la conversión de nombres antes de la revisión individual. "
   ]
  },
  {
   "cell_type": "code",
   "execution_count": 38,
   "id": "9728d3b8",
   "metadata": {
    "scrolled": false
   },
   "outputs": [
    {
     "name": "stdout",
     "output_type": "stream",
     "text": [
      "\n",
      " Contract DataFrame: Head\n"
     ]
    },
    {
     "data": {
      "text/html": [
       "<div>\n",
       "<style scoped>\n",
       "    .dataframe tbody tr th:only-of-type {\n",
       "        vertical-align: middle;\n",
       "    }\n",
       "\n",
       "    .dataframe tbody tr th {\n",
       "        vertical-align: top;\n",
       "    }\n",
       "\n",
       "    .dataframe thead th {\n",
       "        text-align: right;\n",
       "    }\n",
       "</style>\n",
       "<table border=\"1\" class=\"dataframe\">\n",
       "  <thead>\n",
       "    <tr style=\"text-align: right;\">\n",
       "      <th></th>\n",
       "      <th>customer_id</th>\n",
       "      <th>begin_date</th>\n",
       "      <th>end_date</th>\n",
       "      <th>type</th>\n",
       "      <th>paperless_billing</th>\n",
       "      <th>payment_method</th>\n",
       "      <th>monthly_charges</th>\n",
       "      <th>total_charges</th>\n",
       "    </tr>\n",
       "  </thead>\n",
       "  <tbody>\n",
       "    <tr>\n",
       "      <th>0</th>\n",
       "      <td>7590-VHVEG</td>\n",
       "      <td>2020-01-01</td>\n",
       "      <td>No</td>\n",
       "      <td>Month-to-month</td>\n",
       "      <td>Yes</td>\n",
       "      <td>Electronic check</td>\n",
       "      <td>29.85</td>\n",
       "      <td>29.85</td>\n",
       "    </tr>\n",
       "    <tr>\n",
       "      <th>1</th>\n",
       "      <td>5575-GNVDE</td>\n",
       "      <td>2017-04-01</td>\n",
       "      <td>No</td>\n",
       "      <td>One year</td>\n",
       "      <td>No</td>\n",
       "      <td>Mailed check</td>\n",
       "      <td>56.95</td>\n",
       "      <td>1889.5</td>\n",
       "    </tr>\n",
       "    <tr>\n",
       "      <th>2</th>\n",
       "      <td>3668-QPYBK</td>\n",
       "      <td>2019-10-01</td>\n",
       "      <td>2019-12-01 00:00:00</td>\n",
       "      <td>Month-to-month</td>\n",
       "      <td>Yes</td>\n",
       "      <td>Mailed check</td>\n",
       "      <td>53.85</td>\n",
       "      <td>108.15</td>\n",
       "    </tr>\n",
       "    <tr>\n",
       "      <th>3</th>\n",
       "      <td>7795-CFOCW</td>\n",
       "      <td>2016-05-01</td>\n",
       "      <td>No</td>\n",
       "      <td>One year</td>\n",
       "      <td>No</td>\n",
       "      <td>Bank transfer (automatic)</td>\n",
       "      <td>42.30</td>\n",
       "      <td>1840.75</td>\n",
       "    </tr>\n",
       "    <tr>\n",
       "      <th>4</th>\n",
       "      <td>9237-HQITU</td>\n",
       "      <td>2019-09-01</td>\n",
       "      <td>2019-11-01 00:00:00</td>\n",
       "      <td>Month-to-month</td>\n",
       "      <td>Yes</td>\n",
       "      <td>Electronic check</td>\n",
       "      <td>70.70</td>\n",
       "      <td>151.65</td>\n",
       "    </tr>\n",
       "  </tbody>\n",
       "</table>\n",
       "</div>"
      ],
      "text/plain": [
       "  customer_id  begin_date             end_date            type  \\\n",
       "0  7590-VHVEG  2020-01-01                   No  Month-to-month   \n",
       "1  5575-GNVDE  2017-04-01                   No        One year   \n",
       "2  3668-QPYBK  2019-10-01  2019-12-01 00:00:00  Month-to-month   \n",
       "3  7795-CFOCW  2016-05-01                   No        One year   \n",
       "4  9237-HQITU  2019-09-01  2019-11-01 00:00:00  Month-to-month   \n",
       "\n",
       "  paperless_billing             payment_method  monthly_charges total_charges  \n",
       "0               Yes           Electronic check            29.85         29.85  \n",
       "1                No               Mailed check            56.95        1889.5  \n",
       "2               Yes               Mailed check            53.85        108.15  \n",
       "3                No  Bank transfer (automatic)            42.30       1840.75  \n",
       "4               Yes           Electronic check            70.70        151.65  "
      ]
     },
     "metadata": {},
     "output_type": "display_data"
    },
    {
     "name": "stdout",
     "output_type": "stream",
     "text": [
      "\n",
      " Contract DataFrame: Info\n",
      "<class 'pandas.core.frame.DataFrame'>\n",
      "RangeIndex: 7043 entries, 0 to 7042\n",
      "Data columns (total 8 columns):\n",
      " #   Column             Non-Null Count  Dtype  \n",
      "---  ------             --------------  -----  \n",
      " 0   customer_id        7043 non-null   object \n",
      " 1   begin_date         7043 non-null   object \n",
      " 2   end_date           7043 non-null   object \n",
      " 3   type               7043 non-null   object \n",
      " 4   paperless_billing  7043 non-null   object \n",
      " 5   payment_method     7043 non-null   object \n",
      " 6   monthly_charges    7043 non-null   float64\n",
      " 7   total_charges      7043 non-null   object \n",
      "dtypes: float64(1), object(7)\n",
      "memory usage: 440.3+ KB\n"
     ]
    },
    {
     "data": {
      "text/plain": [
       "None"
      ]
     },
     "metadata": {},
     "output_type": "display_data"
    },
    {
     "name": "stdout",
     "output_type": "stream",
     "text": [
      "\n",
      " Internet DataFrame: Head\n"
     ]
    },
    {
     "data": {
      "text/html": [
       "<div>\n",
       "<style scoped>\n",
       "    .dataframe tbody tr th:only-of-type {\n",
       "        vertical-align: middle;\n",
       "    }\n",
       "\n",
       "    .dataframe tbody tr th {\n",
       "        vertical-align: top;\n",
       "    }\n",
       "\n",
       "    .dataframe thead th {\n",
       "        text-align: right;\n",
       "    }\n",
       "</style>\n",
       "<table border=\"1\" class=\"dataframe\">\n",
       "  <thead>\n",
       "    <tr style=\"text-align: right;\">\n",
       "      <th></th>\n",
       "      <th>customer_id</th>\n",
       "      <th>internet_service</th>\n",
       "      <th>online_security</th>\n",
       "      <th>online_backup</th>\n",
       "      <th>device_protection</th>\n",
       "      <th>tech_support</th>\n",
       "      <th>streaming_tv</th>\n",
       "      <th>streaming_movies</th>\n",
       "    </tr>\n",
       "  </thead>\n",
       "  <tbody>\n",
       "    <tr>\n",
       "      <th>0</th>\n",
       "      <td>7590-VHVEG</td>\n",
       "      <td>DSL</td>\n",
       "      <td>No</td>\n",
       "      <td>Yes</td>\n",
       "      <td>No</td>\n",
       "      <td>No</td>\n",
       "      <td>No</td>\n",
       "      <td>No</td>\n",
       "    </tr>\n",
       "    <tr>\n",
       "      <th>1</th>\n",
       "      <td>5575-GNVDE</td>\n",
       "      <td>DSL</td>\n",
       "      <td>Yes</td>\n",
       "      <td>No</td>\n",
       "      <td>Yes</td>\n",
       "      <td>No</td>\n",
       "      <td>No</td>\n",
       "      <td>No</td>\n",
       "    </tr>\n",
       "    <tr>\n",
       "      <th>2</th>\n",
       "      <td>3668-QPYBK</td>\n",
       "      <td>DSL</td>\n",
       "      <td>Yes</td>\n",
       "      <td>Yes</td>\n",
       "      <td>No</td>\n",
       "      <td>No</td>\n",
       "      <td>No</td>\n",
       "      <td>No</td>\n",
       "    </tr>\n",
       "    <tr>\n",
       "      <th>3</th>\n",
       "      <td>7795-CFOCW</td>\n",
       "      <td>DSL</td>\n",
       "      <td>Yes</td>\n",
       "      <td>No</td>\n",
       "      <td>Yes</td>\n",
       "      <td>Yes</td>\n",
       "      <td>No</td>\n",
       "      <td>No</td>\n",
       "    </tr>\n",
       "    <tr>\n",
       "      <th>4</th>\n",
       "      <td>9237-HQITU</td>\n",
       "      <td>Fiber optic</td>\n",
       "      <td>No</td>\n",
       "      <td>No</td>\n",
       "      <td>No</td>\n",
       "      <td>No</td>\n",
       "      <td>No</td>\n",
       "      <td>No</td>\n",
       "    </tr>\n",
       "  </tbody>\n",
       "</table>\n",
       "</div>"
      ],
      "text/plain": [
       "  customer_id internet_service online_security online_backup  \\\n",
       "0  7590-VHVEG              DSL              No           Yes   \n",
       "1  5575-GNVDE              DSL             Yes            No   \n",
       "2  3668-QPYBK              DSL             Yes           Yes   \n",
       "3  7795-CFOCW              DSL             Yes            No   \n",
       "4  9237-HQITU      Fiber optic              No            No   \n",
       "\n",
       "  device_protection tech_support streaming_tv streaming_movies  \n",
       "0                No           No           No               No  \n",
       "1               Yes           No           No               No  \n",
       "2                No           No           No               No  \n",
       "3               Yes          Yes           No               No  \n",
       "4                No           No           No               No  "
      ]
     },
     "metadata": {},
     "output_type": "display_data"
    },
    {
     "name": "stdout",
     "output_type": "stream",
     "text": [
      "\n",
      " Internet DataFrame: Info\n",
      "<class 'pandas.core.frame.DataFrame'>\n",
      "RangeIndex: 5517 entries, 0 to 5516\n",
      "Data columns (total 8 columns):\n",
      " #   Column             Non-Null Count  Dtype \n",
      "---  ------             --------------  ----- \n",
      " 0   customer_id        5517 non-null   object\n",
      " 1   internet_service   5517 non-null   object\n",
      " 2   online_security    5517 non-null   object\n",
      " 3   online_backup      5517 non-null   object\n",
      " 4   device_protection  5517 non-null   object\n",
      " 5   tech_support       5517 non-null   object\n",
      " 6   streaming_tv       5517 non-null   object\n",
      " 7   streaming_movies   5517 non-null   object\n",
      "dtypes: object(8)\n",
      "memory usage: 344.9+ KB\n"
     ]
    },
    {
     "data": {
      "text/plain": [
       "None"
      ]
     },
     "metadata": {},
     "output_type": "display_data"
    },
    {
     "name": "stdout",
     "output_type": "stream",
     "text": [
      "\n",
      " Personal DataFrame: Head\n"
     ]
    },
    {
     "data": {
      "text/html": [
       "<div>\n",
       "<style scoped>\n",
       "    .dataframe tbody tr th:only-of-type {\n",
       "        vertical-align: middle;\n",
       "    }\n",
       "\n",
       "    .dataframe tbody tr th {\n",
       "        vertical-align: top;\n",
       "    }\n",
       "\n",
       "    .dataframe thead th {\n",
       "        text-align: right;\n",
       "    }\n",
       "</style>\n",
       "<table border=\"1\" class=\"dataframe\">\n",
       "  <thead>\n",
       "    <tr style=\"text-align: right;\">\n",
       "      <th></th>\n",
       "      <th>customer_id</th>\n",
       "      <th>gender</th>\n",
       "      <th>senior_citizen</th>\n",
       "      <th>partner</th>\n",
       "      <th>dependents</th>\n",
       "    </tr>\n",
       "  </thead>\n",
       "  <tbody>\n",
       "    <tr>\n",
       "      <th>0</th>\n",
       "      <td>7590-VHVEG</td>\n",
       "      <td>Female</td>\n",
       "      <td>0</td>\n",
       "      <td>Yes</td>\n",
       "      <td>No</td>\n",
       "    </tr>\n",
       "    <tr>\n",
       "      <th>1</th>\n",
       "      <td>5575-GNVDE</td>\n",
       "      <td>Male</td>\n",
       "      <td>0</td>\n",
       "      <td>No</td>\n",
       "      <td>No</td>\n",
       "    </tr>\n",
       "    <tr>\n",
       "      <th>2</th>\n",
       "      <td>3668-QPYBK</td>\n",
       "      <td>Male</td>\n",
       "      <td>0</td>\n",
       "      <td>No</td>\n",
       "      <td>No</td>\n",
       "    </tr>\n",
       "    <tr>\n",
       "      <th>3</th>\n",
       "      <td>7795-CFOCW</td>\n",
       "      <td>Male</td>\n",
       "      <td>0</td>\n",
       "      <td>No</td>\n",
       "      <td>No</td>\n",
       "    </tr>\n",
       "    <tr>\n",
       "      <th>4</th>\n",
       "      <td>9237-HQITU</td>\n",
       "      <td>Female</td>\n",
       "      <td>0</td>\n",
       "      <td>No</td>\n",
       "      <td>No</td>\n",
       "    </tr>\n",
       "  </tbody>\n",
       "</table>\n",
       "</div>"
      ],
      "text/plain": [
       "  customer_id  gender  senior_citizen partner dependents\n",
       "0  7590-VHVEG  Female               0     Yes         No\n",
       "1  5575-GNVDE    Male               0      No         No\n",
       "2  3668-QPYBK    Male               0      No         No\n",
       "3  7795-CFOCW    Male               0      No         No\n",
       "4  9237-HQITU  Female               0      No         No"
      ]
     },
     "metadata": {},
     "output_type": "display_data"
    },
    {
     "name": "stdout",
     "output_type": "stream",
     "text": [
      "\n",
      " Personal DataFrame: Info\n",
      "<class 'pandas.core.frame.DataFrame'>\n",
      "RangeIndex: 7043 entries, 0 to 7042\n",
      "Data columns (total 5 columns):\n",
      " #   Column          Non-Null Count  Dtype \n",
      "---  ------          --------------  ----- \n",
      " 0   customer_id     7043 non-null   object\n",
      " 1   gender          7043 non-null   object\n",
      " 2   senior_citizen  7043 non-null   int64 \n",
      " 3   partner         7043 non-null   object\n",
      " 4   dependents      7043 non-null   object\n",
      "dtypes: int64(1), object(4)\n",
      "memory usage: 275.2+ KB\n"
     ]
    },
    {
     "data": {
      "text/plain": [
       "None"
      ]
     },
     "metadata": {},
     "output_type": "display_data"
    },
    {
     "name": "stdout",
     "output_type": "stream",
     "text": [
      "\n",
      " Phone DataFrame: Head\n"
     ]
    },
    {
     "data": {
      "text/html": [
       "<div>\n",
       "<style scoped>\n",
       "    .dataframe tbody tr th:only-of-type {\n",
       "        vertical-align: middle;\n",
       "    }\n",
       "\n",
       "    .dataframe tbody tr th {\n",
       "        vertical-align: top;\n",
       "    }\n",
       "\n",
       "    .dataframe thead th {\n",
       "        text-align: right;\n",
       "    }\n",
       "</style>\n",
       "<table border=\"1\" class=\"dataframe\">\n",
       "  <thead>\n",
       "    <tr style=\"text-align: right;\">\n",
       "      <th></th>\n",
       "      <th>customer_id</th>\n",
       "      <th>multiple_lines</th>\n",
       "    </tr>\n",
       "  </thead>\n",
       "  <tbody>\n",
       "    <tr>\n",
       "      <th>0</th>\n",
       "      <td>5575-GNVDE</td>\n",
       "      <td>No</td>\n",
       "    </tr>\n",
       "    <tr>\n",
       "      <th>1</th>\n",
       "      <td>3668-QPYBK</td>\n",
       "      <td>No</td>\n",
       "    </tr>\n",
       "    <tr>\n",
       "      <th>2</th>\n",
       "      <td>9237-HQITU</td>\n",
       "      <td>No</td>\n",
       "    </tr>\n",
       "    <tr>\n",
       "      <th>3</th>\n",
       "      <td>9305-CDSKC</td>\n",
       "      <td>Yes</td>\n",
       "    </tr>\n",
       "    <tr>\n",
       "      <th>4</th>\n",
       "      <td>1452-KIOVK</td>\n",
       "      <td>Yes</td>\n",
       "    </tr>\n",
       "  </tbody>\n",
       "</table>\n",
       "</div>"
      ],
      "text/plain": [
       "  customer_id multiple_lines\n",
       "0  5575-GNVDE             No\n",
       "1  3668-QPYBK             No\n",
       "2  9237-HQITU             No\n",
       "3  9305-CDSKC            Yes\n",
       "4  1452-KIOVK            Yes"
      ]
     },
     "metadata": {},
     "output_type": "display_data"
    },
    {
     "name": "stdout",
     "output_type": "stream",
     "text": [
      "\n",
      " Phone DataFrame: Info\n",
      "<class 'pandas.core.frame.DataFrame'>\n",
      "RangeIndex: 6361 entries, 0 to 6360\n",
      "Data columns (total 2 columns):\n",
      " #   Column          Non-Null Count  Dtype \n",
      "---  ------          --------------  ----- \n",
      " 0   customer_id     6361 non-null   object\n",
      " 1   multiple_lines  6361 non-null   object\n",
      "dtypes: object(2)\n",
      "memory usage: 99.5+ KB\n"
     ]
    },
    {
     "data": {
      "text/plain": [
       "None"
      ]
     },
     "metadata": {},
     "output_type": "display_data"
    }
   ],
   "source": [
    "# Define a function to display head and info of a DataFrame\n",
    "def explore_dataframe(df, name):\n",
    "    print(f\"\\n {name} DataFrame: Head\")\n",
    "    display(df.head())\n",
    "    print(f\"\\n {name} DataFrame: Info\")\n",
    "    display(df.info())\n",
    "\n",
    "# Apply the function to each DataFrame\n",
    "explore_dataframe(contract, 'Contract')\n",
    "explore_dataframe(internet, 'Internet')\n",
    "explore_dataframe(personal, 'Personal')\n",
    "explore_dataframe(phone, 'Phone')"
   ]
  },
  {
   "cell_type": "markdown",
   "id": "510b5155",
   "metadata": {},
   "source": [
    "**Contract DataFrame**\n",
    "- **Todas las columnas con 7043 filas**.\n",
    "- `Total_charges` debe convertirse de `object` a `float`.\n",
    "- Columnas como `End_date` tienen valores tipo `\"No\"`, de ahí se crea la columna objetivo `left`\n",
    "\n",
    "**Internet DataFrame**\n",
    "- **Menor cantidad de registros (5517)**  (es de esperarse que no exitan clientes con contrato de internet).\n",
    "- Todos los servicios (OnlineSecurity, etc.) son categóricos y consistentes.\n",
    "- Conviene verificar si `Internet_service = \"No\"` para imputar servicios asociados.\n",
    "\n",
    "**Personal DataFrame**\n",
    "- **Todas las columnas con 7043 filas**.\n",
    "- Buena codificación para `Senior_citizen` como entero.\n",
    "- Listo para usarse tras encoding simple.\n",
    "\n",
    "**Phone DataFrame**\n",
    "- **Faltan datos (6361 filas)** algunos clientes sin información telefónica.\n",
    "- Sólo una columna útil, fácil de integrar con merge por `customer_id`.\n",
    "\n",
    "\n",
    "----\n",
    "El siguiente paso consiste en **unir los DataFrames** utilizando la columna `customerID` como clave común. "
   ]
  },
  {
   "cell_type": "code",
   "execution_count": 39,
   "id": "17fb32c5",
   "metadata": {
    "scrolled": false
   },
   "outputs": [
    {
     "name": "stdout",
     "output_type": "stream",
     "text": [
      "Merged DataFrame Information\n",
      "<class 'pandas.core.frame.DataFrame'>\n",
      "RangeIndex: 7043 entries, 0 to 7042\n",
      "Data columns (total 20 columns):\n",
      " #   Column             Non-Null Count  Dtype  \n",
      "---  ------             --------------  -----  \n",
      " 0   customer_id        7043 non-null   object \n",
      " 1   begin_date         7043 non-null   object \n",
      " 2   end_date           7043 non-null   object \n",
      " 3   type               7043 non-null   object \n",
      " 4   paperless_billing  7043 non-null   object \n",
      " 5   payment_method     7043 non-null   object \n",
      " 6   monthly_charges    7043 non-null   float64\n",
      " 7   total_charges      7043 non-null   object \n",
      " 8   internet_service   5517 non-null   object \n",
      " 9   online_security    5517 non-null   object \n",
      " 10  online_backup      5517 non-null   object \n",
      " 11  device_protection  5517 non-null   object \n",
      " 12  tech_support       5517 non-null   object \n",
      " 13  streaming_tv       5517 non-null   object \n",
      " 14  streaming_movies   5517 non-null   object \n",
      " 15  gender             7043 non-null   object \n",
      " 16  senior_citizen     7043 non-null   int64  \n",
      " 17  partner            7043 non-null   object \n",
      " 18  dependents         7043 non-null   object \n",
      " 19  multiple_lines     6361 non-null   object \n",
      "dtypes: float64(1), int64(1), object(18)\n",
      "memory usage: 1.1+ MB\n",
      "None\n"
     ]
    }
   ],
   "source": [
    "# Merge the DataFrames using the 'customer_id' column\n",
    "df = pd.merge(contract, internet, on='customer_id', how='left')\n",
    "df = pd.merge(df, personal, on='customer_id', how='left')\n",
    "df = pd.merge(df, phone, on='customer_id', how='left')\n",
    "\n",
    "# Display info\n",
    "print(\"Merged DataFrame Information\")\n",
    "print(df.info())"
   ]
  },
  {
   "cell_type": "code",
   "execution_count": 40,
   "id": "fb8aeabd",
   "metadata": {},
   "outputs": [
    {
     "data": {
      "text/html": [
       "<div>\n",
       "<style scoped>\n",
       "    .dataframe tbody tr th:only-of-type {\n",
       "        vertical-align: middle;\n",
       "    }\n",
       "\n",
       "    .dataframe tbody tr th {\n",
       "        vertical-align: top;\n",
       "    }\n",
       "\n",
       "    .dataframe thead th {\n",
       "        text-align: right;\n",
       "    }\n",
       "</style>\n",
       "<table border=\"1\" class=\"dataframe\">\n",
       "  <thead>\n",
       "    <tr style=\"text-align: right;\">\n",
       "      <th></th>\n",
       "      <th>customer_id</th>\n",
       "      <th>begin_date</th>\n",
       "      <th>end_date</th>\n",
       "      <th>type</th>\n",
       "      <th>paperless_billing</th>\n",
       "      <th>payment_method</th>\n",
       "      <th>monthly_charges</th>\n",
       "      <th>total_charges</th>\n",
       "      <th>internet_service</th>\n",
       "      <th>online_security</th>\n",
       "      <th>online_backup</th>\n",
       "      <th>device_protection</th>\n",
       "      <th>tech_support</th>\n",
       "      <th>streaming_tv</th>\n",
       "      <th>streaming_movies</th>\n",
       "      <th>gender</th>\n",
       "      <th>senior_citizen</th>\n",
       "      <th>partner</th>\n",
       "      <th>dependents</th>\n",
       "      <th>multiple_lines</th>\n",
       "    </tr>\n",
       "  </thead>\n",
       "  <tbody>\n",
       "    <tr>\n",
       "      <th>3959</th>\n",
       "      <td>8788-DOXSU</td>\n",
       "      <td>2015-03-01</td>\n",
       "      <td>No</td>\n",
       "      <td>One year</td>\n",
       "      <td>Yes</td>\n",
       "      <td>Bank transfer (automatic)</td>\n",
       "      <td>61.35</td>\n",
       "      <td>3645.5</td>\n",
       "      <td>DSL</td>\n",
       "      <td>No</td>\n",
       "      <td>No</td>\n",
       "      <td>Yes</td>\n",
       "      <td>No</td>\n",
       "      <td>No</td>\n",
       "      <td>Yes</td>\n",
       "      <td>Male</td>\n",
       "      <td>0</td>\n",
       "      <td>No</td>\n",
       "      <td>No</td>\n",
       "      <td>No</td>\n",
       "    </tr>\n",
       "    <tr>\n",
       "      <th>3366</th>\n",
       "      <td>1855-AGAWH</td>\n",
       "      <td>2017-07-01</td>\n",
       "      <td>No</td>\n",
       "      <td>One year</td>\n",
       "      <td>Yes</td>\n",
       "      <td>Electronic check</td>\n",
       "      <td>93.80</td>\n",
       "      <td>2939.8</td>\n",
       "      <td>Fiber optic</td>\n",
       "      <td>No</td>\n",
       "      <td>No</td>\n",
       "      <td>Yes</td>\n",
       "      <td>No</td>\n",
       "      <td>Yes</td>\n",
       "      <td>Yes</td>\n",
       "      <td>Male</td>\n",
       "      <td>0</td>\n",
       "      <td>Yes</td>\n",
       "      <td>No</td>\n",
       "      <td>No</td>\n",
       "    </tr>\n",
       "    <tr>\n",
       "      <th>5554</th>\n",
       "      <td>8838-GPHZP</td>\n",
       "      <td>2014-11-01</td>\n",
       "      <td>No</td>\n",
       "      <td>Two year</td>\n",
       "      <td>Yes</td>\n",
       "      <td>Mailed check</td>\n",
       "      <td>20.60</td>\n",
       "      <td>1298.7</td>\n",
       "      <td>NaN</td>\n",
       "      <td>NaN</td>\n",
       "      <td>NaN</td>\n",
       "      <td>NaN</td>\n",
       "      <td>NaN</td>\n",
       "      <td>NaN</td>\n",
       "      <td>NaN</td>\n",
       "      <td>Female</td>\n",
       "      <td>0</td>\n",
       "      <td>No</td>\n",
       "      <td>No</td>\n",
       "      <td>No</td>\n",
       "    </tr>\n",
       "    <tr>\n",
       "      <th>4464</th>\n",
       "      <td>3018-TFTSU</td>\n",
       "      <td>2018-10-01</td>\n",
       "      <td>2019-10-01 00:00:00</td>\n",
       "      <td>Month-to-month</td>\n",
       "      <td>No</td>\n",
       "      <td>Bank transfer (automatic)</td>\n",
       "      <td>81.70</td>\n",
       "      <td>858.6</td>\n",
       "      <td>Fiber optic</td>\n",
       "      <td>Yes</td>\n",
       "      <td>No</td>\n",
       "      <td>Yes</td>\n",
       "      <td>No</td>\n",
       "      <td>No</td>\n",
       "      <td>No</td>\n",
       "      <td>Male</td>\n",
       "      <td>0</td>\n",
       "      <td>No</td>\n",
       "      <td>No</td>\n",
       "      <td>No</td>\n",
       "    </tr>\n",
       "    <tr>\n",
       "      <th>6552</th>\n",
       "      <td>9317-WZPGV</td>\n",
       "      <td>2019-09-01</td>\n",
       "      <td>2019-11-01 00:00:00</td>\n",
       "      <td>Month-to-month</td>\n",
       "      <td>Yes</td>\n",
       "      <td>Bank transfer (automatic)</td>\n",
       "      <td>79.75</td>\n",
       "      <td>159.4</td>\n",
       "      <td>Fiber optic</td>\n",
       "      <td>No</td>\n",
       "      <td>No</td>\n",
       "      <td>No</td>\n",
       "      <td>No</td>\n",
       "      <td>No</td>\n",
       "      <td>Yes</td>\n",
       "      <td>Female</td>\n",
       "      <td>1</td>\n",
       "      <td>No</td>\n",
       "      <td>No</td>\n",
       "      <td>No</td>\n",
       "    </tr>\n",
       "  </tbody>\n",
       "</table>\n",
       "</div>"
      ],
      "text/plain": [
       "     customer_id  begin_date             end_date            type  \\\n",
       "3959  8788-DOXSU  2015-03-01                   No        One year   \n",
       "3366  1855-AGAWH  2017-07-01                   No        One year   \n",
       "5554  8838-GPHZP  2014-11-01                   No        Two year   \n",
       "4464  3018-TFTSU  2018-10-01  2019-10-01 00:00:00  Month-to-month   \n",
       "6552  9317-WZPGV  2019-09-01  2019-11-01 00:00:00  Month-to-month   \n",
       "\n",
       "     paperless_billing             payment_method  monthly_charges  \\\n",
       "3959               Yes  Bank transfer (automatic)            61.35   \n",
       "3366               Yes           Electronic check            93.80   \n",
       "5554               Yes               Mailed check            20.60   \n",
       "4464                No  Bank transfer (automatic)            81.70   \n",
       "6552               Yes  Bank transfer (automatic)            79.75   \n",
       "\n",
       "     total_charges internet_service online_security online_backup  \\\n",
       "3959        3645.5              DSL              No            No   \n",
       "3366        2939.8      Fiber optic              No            No   \n",
       "5554        1298.7              NaN             NaN           NaN   \n",
       "4464         858.6      Fiber optic             Yes            No   \n",
       "6552         159.4      Fiber optic              No            No   \n",
       "\n",
       "     device_protection tech_support streaming_tv streaming_movies  gender  \\\n",
       "3959               Yes           No           No              Yes    Male   \n",
       "3366               Yes           No          Yes              Yes    Male   \n",
       "5554               NaN          NaN          NaN              NaN  Female   \n",
       "4464               Yes           No           No               No    Male   \n",
       "6552                No           No           No              Yes  Female   \n",
       "\n",
       "      senior_citizen partner dependents multiple_lines  \n",
       "3959               0      No         No             No  \n",
       "3366               0     Yes         No             No  \n",
       "5554               0      No         No             No  \n",
       "4464               0      No         No             No  \n",
       "6552               1      No         No             No  "
      ]
     },
     "metadata": {},
     "output_type": "display_data"
    }
   ],
   "source": [
    "display(df.sample(5))  # Display 5 random records"
   ]
  },
  {
   "cell_type": "markdown",
   "id": "72ae23c1",
   "metadata": {},
   "source": [
    "**Primeros Pasos**:  \n",
    "Se buscarán y tratarán los valores duplicados. La diferencia en las columnas relacionadas con internet sugiere que no todos los usuarios tienen planes de internet. En cuanto a `multiple_lines`, la mayoría tiene más de una línea. Los valores ausentes, de las columnas de `internet ` y `multiple_lines`serán tratados, y se buscarán valores atípicos.\n",
    "\n",
    "La columna `total_charges` se convertirá a `float64`, y las columnas `begin_date` y `end_date` se convertirán de `object` a `datetime` ya que son fechas."
   ]
  },
  {
   "cell_type": "markdown",
   "id": "0a7a8f21",
   "metadata": {},
   "source": [
    "### 1.0.1 **Duplicados**"
   ]
  },
  {
   "cell_type": "code",
   "execution_count": 41,
   "id": "5ddd7cb5",
   "metadata": {},
   "outputs": [
    {
     "name": "stdout",
     "output_type": "stream",
     "text": [
      "Total duplicate rows: 0\n"
     ]
    }
   ],
   "source": [
    "# Identify duplicate rows in the DataFrame\n",
    "duplicates = df[df.duplicated()]\n",
    "\n",
    "# Display the total \n",
    "print(f\"Total duplicate rows: {duplicates.shape[0]}\")"
   ]
  },
  {
   "cell_type": "code",
   "execution_count": 42,
   "id": "d5b9cc7a",
   "metadata": {},
   "outputs": [
    {
     "name": "stdout",
     "output_type": "stream",
     "text": [
      "Total duplicate 'customer_id' values: 0\n"
     ]
    }
   ],
   "source": [
    "# Count the total number of duplicate customer_id values\n",
    "duplicate_count = df['customer_id'].duplicated().sum()\n",
    "\n",
    "# Display the result\n",
    "print(f\"Total duplicate 'customer_id' values: {duplicate_count}\")"
   ]
  },
  {
   "cell_type": "markdown",
   "id": "10cc6292",
   "metadata": {},
   "source": [
    "### 1.0.2 Valores Ausentes\n",
    "Primero, se rellenarán los valores ausentes del `df original de internet` y de la columna `multiple_lines`."
   ]
  },
  {
   "cell_type": "code",
   "execution_count": 43,
   "id": "f11215a6",
   "metadata": {},
   "outputs": [
    {
     "name": "stdout",
     "output_type": "stream",
     "text": [
      "\n",
      "Value counts for column: internet_service\n",
      "internet_service\n",
      "Fiber optic    3096\n",
      "DSL            2421\n",
      "Name: count, dtype: int64\n",
      "\n",
      "Value counts for column: online_security\n",
      "online_security\n",
      "No     3498\n",
      "Yes    2019\n",
      "Name: count, dtype: int64\n",
      "\n",
      "Value counts for column: online_backup\n",
      "online_backup\n",
      "No     3088\n",
      "Yes    2429\n",
      "Name: count, dtype: int64\n",
      "\n",
      "Value counts for column: device_protection\n",
      "device_protection\n",
      "No     3095\n",
      "Yes    2422\n",
      "Name: count, dtype: int64\n",
      "\n",
      "Value counts for column: tech_support\n",
      "tech_support\n",
      "No     3473\n",
      "Yes    2044\n",
      "Name: count, dtype: int64\n",
      "\n",
      "Value counts for column: streaming_tv\n",
      "streaming_tv\n",
      "No     2810\n",
      "Yes    2707\n",
      "Name: count, dtype: int64\n",
      "\n",
      "Value counts for column: streaming_movies\n",
      "streaming_movies\n",
      "No     2785\n",
      "Yes    2732\n",
      "Name: count, dtype: int64\n",
      "\n",
      "Value counts for column: multiple_lines\n",
      "multiple_lines\n",
      "No     3390\n",
      "Yes    2971\n",
      "Name: count, dtype: int64\n"
     ]
    }
   ],
   "source": [
    "# List of  internet columns with 5517 non-null values\n",
    "internet_columns = [\n",
    "    'internet_service', 'online_security', 'online_backup',\n",
    "    'device_protection', 'tech_support', 'streaming_tv', 'streaming_movies'\n",
    "]\n",
    "\n",
    "# Print the value_counts of these columns\n",
    "for column in internet_columns:\n",
    "    print(f\"\\nValue counts for column: {column}\")\n",
    "    print(df[column].value_counts())\n",
    "\n",
    "# Check the value_counts of 'multiple_lines' which has 6361 non-null values\n",
    "print(\"\\nValue counts for column: multiple_lines\")\n",
    "print(df['multiple_lines'].value_counts())"
   ]
  },
  {
   "cell_type": "code",
   "execution_count": 44,
   "id": "770f1251",
   "metadata": {},
   "outputs": [
    {
     "name": "stdout",
     "output_type": "stream",
     "text": [
      "\n",
      "Value counts for column: internet_service\n",
      "internet_service\n",
      "Fiber optic    3096\n",
      "DSL            2421\n",
      "no             1526\n",
      "Name: count, dtype: int64\n",
      "\n",
      "Value counts for column: online_security\n",
      "online_security\n",
      "No     5024\n",
      "Yes    2019\n",
      "Name: count, dtype: int64\n",
      "\n",
      "Value counts for column: online_backup\n",
      "online_backup\n",
      "No     4614\n",
      "Yes    2429\n",
      "Name: count, dtype: int64\n",
      "\n",
      "Value counts for column: device_protection\n",
      "device_protection\n",
      "No     4621\n",
      "Yes    2422\n",
      "Name: count, dtype: int64\n",
      "\n",
      "Value counts for column: tech_support\n",
      "tech_support\n",
      "No     4999\n",
      "Yes    2044\n",
      "Name: count, dtype: int64\n",
      "\n",
      "Value counts for column: streaming_tv\n",
      "streaming_tv\n",
      "No     4336\n",
      "Yes    2707\n",
      "Name: count, dtype: int64\n",
      "\n",
      "Value counts for column: streaming_movies\n",
      "streaming_movies\n",
      "No     4311\n",
      "Yes    2732\n",
      "Name: count, dtype: int64\n",
      "\n",
      "Value counts for column: multiple_lines\n",
      "multiple_lines\n",
      "No     4072\n",
      "Yes    2971\n",
      "Name: count, dtype: int64\n"
     ]
    }
   ],
   "source": [
    "# Fill NaN in 'internet_service' with 'no' and in other columns with 'No'\n",
    "columns_to_fill = [\n",
    "    'internet_service', 'online_security', 'online_backup', \n",
    "    'device_protection', 'tech_support', 'streaming_tv', \n",
    "    'streaming_movies', 'multiple_lines'\n",
    "]\n",
    "\n",
    "# Fill NaN in 'internet_service' with 'no'\n",
    "df['internet_service'] = df['internet_service'].fillna('no')\n",
    "\n",
    "# Fill NaN in other columns with 'No'\n",
    "for column in columns_to_fill[1:]:  # Exclude 'internet_service'\n",
    "    df[column] = df[column].fillna('No')\n",
    "\n",
    "# Check the value counts again to make sure NaN has been replaced\n",
    "for column in columns_to_fill:\n",
    "    print(f\"\\nValue counts for column: {column}\")\n",
    "    print(df[column].value_counts())"
   ]
  },
  {
   "cell_type": "markdown",
   "id": "e2bd78f1",
   "metadata": {},
   "source": [
    "### 1.0.3 Valores Atítpicos"
   ]
  },
  {
   "cell_type": "markdown",
   "id": "f5f5cf2a",
   "metadata": {},
   "source": [
    "**Se revisan los valores para encontrar atipicos y convertirlo en númericos**"
   ]
  },
  {
   "cell_type": "code",
   "execution_count": 45,
   "id": "f9d6de1e",
   "metadata": {},
   "outputs": [
    {
     "name": "stdout",
     "output_type": "stream",
     "text": [
      "Value counts para la columna: type\n",
      "type\n",
      "Month-to-month    3875\n",
      "Two year          1695\n",
      "One year          1473\n",
      "Name: count, dtype: int64 \n",
      "\n",
      "Value counts para la columna: payment_method\n",
      "payment_method\n",
      "Electronic check             2365\n",
      "Mailed check                 1612\n",
      "Bank transfer (automatic)    1544\n",
      "Credit card (automatic)      1522\n",
      "Name: count, dtype: int64 \n",
      "\n",
      "Value counts para la columna: gender\n",
      "gender\n",
      "Male      3555\n",
      "Female    3488\n",
      "Name: count, dtype: int64 \n",
      "\n",
      "Value counts para la columna: internet_service\n",
      "internet_service\n",
      "Fiber optic    3096\n",
      "DSL            2421\n",
      "no             1526\n",
      "Name: count, dtype: int64 \n",
      "\n"
     ]
    }
   ],
   "source": [
    "# Categorical columns \n",
    "categories = ['type', 'payment_method',  'gender', 'internet_service']\n",
    "\n",
    "for column in categories:\n",
    "    print(f\"Value counts para la columna: {column}\")\n",
    "    print(df[column].value_counts(dropna=False), \"\\n\")"
   ]
  },
  {
   "cell_type": "markdown",
   "id": "324fff1f",
   "metadata": {},
   "source": [
    "La columna `type` será renombrada a `contract_type` para que el nombre de la columna sea más claro y descriptivo. Luego, en la columna `contract_type`, los valores de los tipos de contrato serán reemplazados por valores numéricos: `'Month-to-month'` será cambiado a `0`, `'Two year'` a `1`, y `'One year'` a `2`."
   ]
  },
  {
   "cell_type": "code",
   "execution_count": 46,
   "id": "40b56cc3",
   "metadata": {},
   "outputs": [],
   "source": [
    "# Rename column 'type' to 'contract_type'\n",
    "df.rename(columns={'type': 'contract_type'}, inplace=True)\n",
    "\n",
    "# Replace values in 'contract_type' column\n",
    "df['contract_type'] = df['contract_type'].replace({\n",
    "    'Month-to-month': 0,\n",
    "    'Two year': 1,\n",
    "    'One year': 2\n",
    "}).infer_objects(copy=False)"
   ]
  },
  {
   "cell_type": "markdown",
   "id": "5d58455b",
   "metadata": {},
   "source": [
    "La columna `payment_method` será modificada para reemplazar los valores textuales de los métodos de pago por valores numéricos. El valor `'Bank transfer (automatic)'` será reemplazado por `'0'`, `'Credit card (automatic)'` será reemplazado por `'1'`, `'Electronic check'` será reemplazado por `'2'`, y `'Mailed check'` será reemplazado por `'3'`."
   ]
  },
  {
   "cell_type": "code",
   "execution_count": 47,
   "id": "a502b903",
   "metadata": {},
   "outputs": [],
   "source": [
    "# Replace values in 'payment_method' column\n",
    "df['payment_method'] = df['payment_method'].replace({\n",
    "    'Bank transfer (automatic)': '0',\n",
    "    'Credit card (automatic)': '1',\n",
    "    'Electronic check': '2',\n",
    "    'Mailed check': '3'\n",
    "})"
   ]
  },
  {
   "cell_type": "markdown",
   "id": "09986f4e",
   "metadata": {},
   "source": [
    "Los datos en la columna `gender` serán cambiados asignando números a cada género. El valor `'Male'` será reemplazado por `1`, y el valor `'Female'` será reemplazado por `0`."
   ]
  },
  {
   "cell_type": "code",
   "execution_count": 48,
   "id": "7e36a0be",
   "metadata": {},
   "outputs": [],
   "source": [
    "# Replace in 'gender' male = 1 amd Female = 0\n",
    "df['gender'] = df['gender'].replace({'Male': 1, 'Female': 0}).infer_objects(copy=False)"
   ]
  },
  {
   "cell_type": "markdown",
   "id": "b872e6f1",
   "metadata": {},
   "source": [
    "Los datos en la columna `internet_service` serán cambiados asignando números a cada tipo de servicio. El valor `'Fiber optic'` será reemplazado por `0`, `'DSL'` será reemplazado por `1`, y `'no'` será reemplazado por `2`."
   ]
  },
  {
   "cell_type": "code",
   "execution_count": 49,
   "id": "0dbde986",
   "metadata": {},
   "outputs": [],
   "source": [
    "# Replace values in 'internet_service' column\n",
    "df['internet_service'] = df['internet_service'].replace({\n",
    "    'Fiber optic': 0,\n",
    "    'DSL': 1,\n",
    "    'no': 2\n",
    "}).infer_objects(copy=False)\n"
   ]
  },
  {
   "cell_type": "code",
   "execution_count": 50,
   "id": "093c938e",
   "metadata": {},
   "outputs": [
    {
     "name": "stdout",
     "output_type": "stream",
     "text": [
      "Value counts para la columna: contract_type\n",
      "contract_type\n",
      "0    3875\n",
      "1    1695\n",
      "2    1473\n",
      "Name: count, dtype: int64 \n",
      "\n",
      "Value counts para la columna: payment_method\n",
      "payment_method\n",
      "2    2365\n",
      "3    1612\n",
      "0    1544\n",
      "1    1522\n",
      "Name: count, dtype: int64 \n",
      "\n",
      "Value counts para la columna: gender\n",
      "gender\n",
      "1    3555\n",
      "0    3488\n",
      "Name: count, dtype: int64 \n",
      "\n",
      "Value counts para la columna: internet_service\n",
      "internet_service\n",
      "0    3096\n",
      "1    2421\n",
      "2    1526\n",
      "Name: count, dtype: int64 \n",
      "\n"
     ]
    }
   ],
   "source": [
    "# Verify the changes \n",
    "categories = ['contract_type', 'payment_method', 'gender', 'internet_service']\n",
    "\n",
    "for column in categories:\n",
    "    print(f\"Value counts para la columna: {column}\")\n",
    "    print(df[column].value_counts(dropna=False), \"\\n\")"
   ]
  },
  {
   "cell_type": "markdown",
   "id": "b3b5761f",
   "metadata": {},
   "source": [
    "### 1.0.4  Tipos de datos y nuevas columnas"
   ]
  },
  {
   "cell_type": "markdown",
   "id": "5eeecd7a",
   "metadata": {},
   "source": [
    "La mayoría de las columnas serán cambiadas al tipo de datos adecuado. Los valores `'No'` serán reemplazados por `0` y los valores `'Yes'` serán reemplazados por `1`."
   ]
  },
  {
   "cell_type": "code",
   "execution_count": 51,
   "id": "6dcb8306",
   "metadata": {},
   "outputs": [],
   "source": [
    "# List of columns to modify\n",
    "columns_to_modify = [\n",
    "    'paperless_billing', 'online_security', 'online_backup', 'device_protection', \n",
    "    'tech_support', 'streaming_tv', 'streaming_movies', 'partner', 'dependents', 'multiple_lines'\n",
    "]\n",
    "\n",
    "# Replace 'No' with 0 and 'Yes' with 1 in the specified columns\n",
    "df[columns_to_modify] = df[columns_to_modify].replace({'No': 0, 'Yes': 1}).infer_objects(copy=False)"
   ]
  },
  {
   "cell_type": "code",
   "execution_count": 52,
   "id": "ea5dd67e",
   "metadata": {},
   "outputs": [],
   "source": [
    "# Convert 'begin_date' to datetime first if not already in datetime format\n",
    "df['begin_date'] = pd.to_datetime(df['begin_date'], errors='coerce')\n",
    "\n",
    "# Convert 'begin_date' to Year-Month format\n",
    "df['begin_date'] = df['begin_date'].dt.strftime('%Y-%m')\n",
    "\n",
    "# Replace 'No' in 'end_date' with NaT\n",
    "df['end_date'] = df['end_date'].replace('No', pd.NaT)\n",
    "\n",
    "# Convert 'end_date' to datetime\n",
    "df['end_date'] = pd.to_datetime(df['end_date'], errors='coerce')\n",
    "\n",
    "# Convert 'end_date' to Year-Month format\n",
    "df['end_date'] = df['end_date'].dt.strftime('%Y-%m')\n",
    "\n",
    "# Fill NaN values in 'end_date' with 'N/A'\n",
    "df['end_date'] = df['end_date'].fillna('N/A')"
   ]
  },
  {
   "cell_type": "code",
   "execution_count": 53,
   "id": "ead561cb",
   "metadata": {},
   "outputs": [],
   "source": [
    "# Replace non-numeric values with NaN\n",
    "df['total_charges'] = pd.to_numeric(df['total_charges'], errors='coerce')\n",
    "\n",
    "# Convert 'total_charges' to float (this will work now that non-numeric values are NaN)\n",
    "df['total_charges'] = df['total_charges'].astype(float)"
   ]
  },
  {
   "cell_type": "code",
   "execution_count": 54,
   "id": "4b4d45a3",
   "metadata": {},
   "outputs": [],
   "source": [
    "# Convert 'payment_method' to int64\n",
    "df['payment_method'] = df['payment_method'].astype('int64')"
   ]
  },
  {
   "cell_type": "markdown",
   "id": "32a7753e",
   "metadata": {},
   "source": [
    "**New Columns**"
   ]
  },
  {
   "cell_type": "code",
   "execution_count": 55,
   "id": "6f52b974",
   "metadata": {},
   "outputs": [],
   "source": [
    "# Create the new 'extra_charges' column\n",
    "df['extra_charges'] = df['total_charges'] - df['monthly_charges']\n",
    "\n",
    "# Reorder the columns to place 'extra_charges' right after 'monthly_charges'\n",
    "cols = df.columns.tolist()\n",
    "cols.insert(cols.index('total_charges'), cols.pop(cols.index('extra_charges')))\n",
    "df = df[cols]"
   ]
  },
  {
   "cell_type": "code",
   "execution_count": 56,
   "id": "f2677388",
   "metadata": {},
   "outputs": [
    {
     "name": "stdout",
     "output_type": "stream",
     "text": [
      "Missing values after filling:\n",
      "Series([], dtype: int64)\n"
     ]
    }
   ],
   "source": [
    "# Fill NaN values with 0 in the specified columns\n",
    "df['extra_charges'] = df['extra_charges'].fillna(0)\n",
    "df['total_charges'] = df['total_charges'].fillna(0)\n",
    "\n",
    "# Check if the missing values have been filled\n",
    "missing_values = df.isnull().sum()\n",
    "print(\"Missing values after filling:\")\n",
    "print(missing_values[missing_values > 0])"
   ]
  },
  {
   "cell_type": "code",
   "execution_count": 57,
   "id": "47cf5d81",
   "metadata": {},
   "outputs": [
    {
     "name": "stdout",
     "output_type": "stream",
     "text": [
      "Min begin_date: 2013-10\n",
      "Max begin_date: 2020-02\n",
      "Min end_date: 2019-10\n",
      "Max end_date: N/A\n"
     ]
    }
   ],
   "source": [
    "# Get the minimum and maximum dates for 'begin_date' and 'end_date'\n",
    "min_begin_date = df['begin_date'].min()\n",
    "max_begin_date = df['begin_date'].max()\n",
    "\n",
    "min_end_date = df['end_date'].min()\n",
    "max_end_date = df['end_date'].max()\n",
    "\n",
    "# Print the results\n",
    "print(\"Min begin_date:\", min_begin_date)\n",
    "print(\"Max begin_date:\", max_begin_date)\n",
    "print(\"Min end_date:\", min_end_date)\n",
    "print(\"Max end_date:\", max_end_date)"
   ]
  },
  {
   "cell_type": "code",
   "execution_count": 58,
   "id": "f0ebf164",
   "metadata": {},
   "outputs": [],
   "source": [
    "# Initialize the 'active_months' column\n",
    "df['active_months'] = None\n",
    "\n",
    "for row in range(len(df)):\n",
    "    # Handle the 'N/A' end_date and calculate the duration in months\n",
    "    if df.loc[row, 'end_date'] == 'N/A':\n",
    "        # Assuming the end date for active contracts is '2020-01'\n",
    "        end_date = pd.to_datetime('2020-01')\n",
    "    else:\n",
    "        end_date = pd.to_datetime(df.loc[row, 'end_date'])\n",
    "    \n",
    "    # Calculate the duration between 'begin_date' and 'end_date'\n",
    "    begin_date = pd.to_datetime(df.loc[row, 'begin_date'])\n",
    "    duration = relativedelta(end_date, begin_date)\n",
    "    \n",
    "    # Calculate active months\n",
    "    df.loc[row, 'active_months'] = duration.years * 12 + duration.months\n",
    "\n",
    "# Convert the 'active_months' to integer type\n",
    "df['active_months'] = df['active_months'].astype('int')"
   ]
  },
  {
   "cell_type": "code",
   "execution_count": 59,
   "id": "1d75e00c",
   "metadata": {},
   "outputs": [],
   "source": [
    "# Create 'customer_loyalty_group' a categorical column based on the customer's tenure (active months)\n",
    "df['customer_loyalty_group'] = pd.cut(\n",
    "    df['active_months'],\n",
    "    bins=[0, 6, 12, 24, 60],\n",
    "    labels=['new', 'recent', 'mid_term', 'loyal']\n",
    ")\n",
    "\n",
    "# Map the categorical labels to numbers\n",
    "group_mapping = {\n",
    "    'new': 0,\n",
    "    'recent': 1,\n",
    "    'mid_term': 2,\n",
    "    'loyal': 3\n",
    "}\n",
    "\n",
    "df['customer_loyalty_group'] = df['customer_loyalty_group'].map(group_mapping)\n",
    "\n",
    "# Replace NaN values with 0 and convert the column to integers\n",
    "df['customer_loyalty_group'] = df['customer_loyalty_group'].fillna(0).astype(int)"
   ]
  },
  {
   "cell_type": "code",
   "execution_count": 60,
   "id": "9aa2adaa",
   "metadata": {},
   "outputs": [],
   "source": [
    "# Create 'num_services' column\n",
    "# Define the list of service columns\n",
    "service_cols = ['streaming_tv', 'streaming_movies', 'device_protection', 'online_backup',\n",
    "                'online_security', 'tech_support', 'multiple_lines']\n",
    "\n",
    "# Calculate the total number of services each customer is subscribed to\n",
    "df['num_services'] = df[service_cols].sum(axis=1)"
   ]
  },
  {
   "cell_type": "code",
   "execution_count": 61,
   "id": "a9ec111b",
   "metadata": {},
   "outputs": [],
   "source": [
    "# Create the 'is_alone' column and assign 1 if the customer has no partner and no dependents, otherwise 0\n",
    "df['is_alone'] = ((df['partner'] == 0) & (df['dependents'] == 0)).astype(int)"
   ]
  },
  {
   "cell_type": "code",
   "execution_count": 62,
   "id": "7302830b",
   "metadata": {},
   "outputs": [
    {
     "data": {
      "text/plain": [
       "customer_id                object\n",
       "begin_date                 object\n",
       "end_date                   object\n",
       "contract_type               int64\n",
       "paperless_billing           int64\n",
       "payment_method              int64\n",
       "monthly_charges           float64\n",
       "extra_charges             float64\n",
       "total_charges             float64\n",
       "internet_service            int64\n",
       "online_security             int64\n",
       "online_backup               int64\n",
       "device_protection           int64\n",
       "tech_support                int64\n",
       "streaming_tv                int64\n",
       "streaming_movies            int64\n",
       "gender                      int64\n",
       "senior_citizen              int64\n",
       "partner                     int64\n",
       "dependents                  int64\n",
       "multiple_lines              int64\n",
       "active_months               int64\n",
       "customer_loyalty_group      int64\n",
       "num_services                int64\n",
       "is_alone                    int64\n",
       "dtype: object"
      ]
     },
     "execution_count": 62,
     "metadata": {},
     "output_type": "execute_result"
    }
   ],
   "source": [
    "# Verify new data types \n",
    "df.dtypes"
   ]
  },
  {
   "cell_type": "markdown",
   "id": "adc0f86c",
   "metadata": {},
   "source": [
    "Los tipos de datos son correctos, se continuará con el análisis. "
   ]
  },
  {
   "cell_type": "markdown",
   "id": "177e8e2d",
   "metadata": {},
   "source": [
    "### 1.0.5 Estandarización de valores númericos"
   ]
  },
  {
   "cell_type": "code",
   "execution_count": 63,
   "id": "2db1cf02",
   "metadata": {},
   "outputs": [
    {
     "name": "stdout",
     "output_type": "stream",
     "text": [
      "   monthly_charges  total_charges  extra_charges\n",
      "0        -1.160323      -0.992611      -0.985735\n",
      "1        -0.259629      -0.172165      -0.170214\n",
      "2        -0.362660      -0.958066      -0.961570\n",
      "3        -0.746535      -0.193672      -0.185389\n",
      "4         0.197365      -0.938874      -0.949710\n"
     ]
    }
   ],
   "source": [
    "# Procesar las columnas monthly_charges, total_charges, extra_charges\n",
    "\n",
    "# Estandarización de las columnas numéricas (monthly_charges, total_charges, extra_charges)\n",
    "scaler = StandardScaler()\n",
    "df[['monthly_charges', 'total_charges', 'extra_charges']] = scaler.fit_transform(df[['monthly_charges', 'total_charges', 'extra_charges']])\n",
    "\n",
    "# Print Results\n",
    "print(df[['monthly_charges', 'total_charges', 'extra_charges']].head())"
   ]
  },
  {
   "cell_type": "markdown",
   "id": "f2b2bc4d",
   "metadata": {},
   "source": [
    "###  1.0.6 Creación de la columna objetivo \n",
    "Por medio de la columna `end_date` vamos a crear la columna  `target 'left'`. "
   ]
  },
  {
   "cell_type": "code",
   "execution_count": 64,
   "id": "68f985f1",
   "metadata": {},
   "outputs": [
    {
     "name": "stdout",
     "output_type": "stream",
     "text": [
      "  end_date  left\n",
      "0      NaT     0\n",
      "1      NaT     0\n",
      "2  2019-12     1\n"
     ]
    }
   ],
   "source": [
    "# Replace 'N/A' with NaN (Not a Date)\n",
    "df['end_date'] = df['end_date'].replace('N/A', pd.NaT)\n",
    "\n",
    "# Create the 'left' column: 0 if NaT (NaN), 1 if it has a date\n",
    "df['left'] = df['end_date'].apply(lambda x: 1 if pd.notna(x) else 0)\n",
    "\n",
    "# Verify the result\n",
    "print(df[['end_date', 'left']].head(3))"
   ]
  },
  {
   "cell_type": "markdown",
   "id": "12f38a9c",
   "metadata": {},
   "source": [
    "# 2 Exploratory Data Analysis (EDA)"
   ]
  },
  {
   "cell_type": "markdown",
   "id": "c3fd060d",
   "metadata": {},
   "source": [
    "Iniciamos creando una copia del DataFrame."
   ]
  },
  {
   "cell_type": "code",
   "execution_count": 66,
   "id": "aa501eb9",
   "metadata": {},
   "outputs": [
    {
     "data": {
      "text/html": [
       "<div>\n",
       "<style scoped>\n",
       "    .dataframe tbody tr th:only-of-type {\n",
       "        vertical-align: middle;\n",
       "    }\n",
       "\n",
       "    .dataframe tbody tr th {\n",
       "        vertical-align: top;\n",
       "    }\n",
       "\n",
       "    .dataframe thead th {\n",
       "        text-align: right;\n",
       "    }\n",
       "</style>\n",
       "<table border=\"1\" class=\"dataframe\">\n",
       "  <thead>\n",
       "    <tr style=\"text-align: right;\">\n",
       "      <th></th>\n",
       "      <th>customer_id</th>\n",
       "      <th>begin_date</th>\n",
       "      <th>end_date</th>\n",
       "      <th>contract_type</th>\n",
       "      <th>paperless_billing</th>\n",
       "      <th>payment_method</th>\n",
       "      <th>monthly_charges</th>\n",
       "      <th>extra_charges</th>\n",
       "      <th>total_charges</th>\n",
       "      <th>internet_service</th>\n",
       "      <th>...</th>\n",
       "      <th>gender</th>\n",
       "      <th>senior_citizen</th>\n",
       "      <th>partner</th>\n",
       "      <th>dependents</th>\n",
       "      <th>multiple_lines</th>\n",
       "      <th>active_months</th>\n",
       "      <th>customer_loyalty_group</th>\n",
       "      <th>num_services</th>\n",
       "      <th>is_alone</th>\n",
       "      <th>left</th>\n",
       "    </tr>\n",
       "  </thead>\n",
       "  <tbody>\n",
       "    <tr>\n",
       "      <th>0</th>\n",
       "      <td>7590-VHVEG</td>\n",
       "      <td>2020-01</td>\n",
       "      <td>NaT</td>\n",
       "      <td>0</td>\n",
       "      <td>1</td>\n",
       "      <td>2</td>\n",
       "      <td>-1.160323</td>\n",
       "      <td>-0.985735</td>\n",
       "      <td>-0.992611</td>\n",
       "      <td>1</td>\n",
       "      <td>...</td>\n",
       "      <td>0</td>\n",
       "      <td>0</td>\n",
       "      <td>1</td>\n",
       "      <td>0</td>\n",
       "      <td>0</td>\n",
       "      <td>0</td>\n",
       "      <td>0</td>\n",
       "      <td>1</td>\n",
       "      <td>0</td>\n",
       "      <td>0</td>\n",
       "    </tr>\n",
       "    <tr>\n",
       "      <th>1</th>\n",
       "      <td>5575-GNVDE</td>\n",
       "      <td>2017-04</td>\n",
       "      <td>NaT</td>\n",
       "      <td>2</td>\n",
       "      <td>0</td>\n",
       "      <td>3</td>\n",
       "      <td>-0.259629</td>\n",
       "      <td>-0.170214</td>\n",
       "      <td>-0.172165</td>\n",
       "      <td>1</td>\n",
       "      <td>...</td>\n",
       "      <td>1</td>\n",
       "      <td>0</td>\n",
       "      <td>0</td>\n",
       "      <td>0</td>\n",
       "      <td>0</td>\n",
       "      <td>33</td>\n",
       "      <td>3</td>\n",
       "      <td>2</td>\n",
       "      <td>1</td>\n",
       "      <td>0</td>\n",
       "    </tr>\n",
       "    <tr>\n",
       "      <th>2</th>\n",
       "      <td>3668-QPYBK</td>\n",
       "      <td>2019-10</td>\n",
       "      <td>2019-12</td>\n",
       "      <td>0</td>\n",
       "      <td>1</td>\n",
       "      <td>3</td>\n",
       "      <td>-0.362660</td>\n",
       "      <td>-0.961570</td>\n",
       "      <td>-0.958066</td>\n",
       "      <td>1</td>\n",
       "      <td>...</td>\n",
       "      <td>1</td>\n",
       "      <td>0</td>\n",
       "      <td>0</td>\n",
       "      <td>0</td>\n",
       "      <td>0</td>\n",
       "      <td>2</td>\n",
       "      <td>0</td>\n",
       "      <td>2</td>\n",
       "      <td>1</td>\n",
       "      <td>1</td>\n",
       "    </tr>\n",
       "    <tr>\n",
       "      <th>3</th>\n",
       "      <td>7795-CFOCW</td>\n",
       "      <td>2016-05</td>\n",
       "      <td>NaT</td>\n",
       "      <td>2</td>\n",
       "      <td>0</td>\n",
       "      <td>0</td>\n",
       "      <td>-0.746535</td>\n",
       "      <td>-0.185389</td>\n",
       "      <td>-0.193672</td>\n",
       "      <td>1</td>\n",
       "      <td>...</td>\n",
       "      <td>1</td>\n",
       "      <td>0</td>\n",
       "      <td>0</td>\n",
       "      <td>0</td>\n",
       "      <td>0</td>\n",
       "      <td>44</td>\n",
       "      <td>3</td>\n",
       "      <td>3</td>\n",
       "      <td>1</td>\n",
       "      <td>0</td>\n",
       "    </tr>\n",
       "    <tr>\n",
       "      <th>4</th>\n",
       "      <td>9237-HQITU</td>\n",
       "      <td>2019-09</td>\n",
       "      <td>2019-11</td>\n",
       "      <td>0</td>\n",
       "      <td>1</td>\n",
       "      <td>2</td>\n",
       "      <td>0.197365</td>\n",
       "      <td>-0.949710</td>\n",
       "      <td>-0.938874</td>\n",
       "      <td>0</td>\n",
       "      <td>...</td>\n",
       "      <td>0</td>\n",
       "      <td>0</td>\n",
       "      <td>0</td>\n",
       "      <td>0</td>\n",
       "      <td>0</td>\n",
       "      <td>2</td>\n",
       "      <td>0</td>\n",
       "      <td>0</td>\n",
       "      <td>1</td>\n",
       "      <td>1</td>\n",
       "    </tr>\n",
       "  </tbody>\n",
       "</table>\n",
       "<p>5 rows × 26 columns</p>\n",
       "</div>"
      ],
      "text/plain": [
       "  customer_id begin_date end_date  contract_type  paperless_billing  \\\n",
       "0  7590-VHVEG    2020-01      NaT              0                  1   \n",
       "1  5575-GNVDE    2017-04      NaT              2                  0   \n",
       "2  3668-QPYBK    2019-10  2019-12              0                  1   \n",
       "3  7795-CFOCW    2016-05      NaT              2                  0   \n",
       "4  9237-HQITU    2019-09  2019-11              0                  1   \n",
       "\n",
       "   payment_method  monthly_charges  extra_charges  total_charges  \\\n",
       "0               2        -1.160323      -0.985735      -0.992611   \n",
       "1               3        -0.259629      -0.170214      -0.172165   \n",
       "2               3        -0.362660      -0.961570      -0.958066   \n",
       "3               0        -0.746535      -0.185389      -0.193672   \n",
       "4               2         0.197365      -0.949710      -0.938874   \n",
       "\n",
       "   internet_service  ...  gender  senior_citizen  partner  dependents  \\\n",
       "0                 1  ...       0               0        1           0   \n",
       "1                 1  ...       1               0        0           0   \n",
       "2                 1  ...       1               0        0           0   \n",
       "3                 1  ...       1               0        0           0   \n",
       "4                 0  ...       0               0        0           0   \n",
       "\n",
       "   multiple_lines  active_months  customer_loyalty_group  num_services  \\\n",
       "0               0              0                       0             1   \n",
       "1               0             33                       3             2   \n",
       "2               0              2                       0             2   \n",
       "3               0             44                       3             3   \n",
       "4               0              2                       0             0   \n",
       "\n",
       "   is_alone  left  \n",
       "0         0     0  \n",
       "1         1     0  \n",
       "2         1     1  \n",
       "3         1     0  \n",
       "4         1     1  \n",
       "\n",
       "[5 rows x 26 columns]"
      ]
     },
     "execution_count": 66,
     "metadata": {},
     "output_type": "execute_result"
    }
   ],
   "source": [
    "# Create a copy of df\n",
    "df_copy = df.copy()\n",
    "df_copy.head()"
   ]
  },
  {
   "cell_type": "markdown",
   "id": "9cfee8cd",
   "metadata": {},
   "source": [
    "###  2.0.1 Distribución de Clientes que han Dejado el Servicio"
   ]
  },
  {
   "cell_type": "code",
   "execution_count": 67,
   "id": "108230c1",
   "metadata": {},
   "outputs": [
    {
     "data": {
      "image/png": "[encoded data removed]",
      "text/plain": [
       "<Figure size 600x600 with 1 Axes>"
      ]
     },
     "metadata": {},
     "output_type": "display_data"
    }
   ],
   "source": [
    "# Count unique values in 'left' column\n",
    "left_counts = df_copy['left'].value_counts()\n",
    "\n",
    "# Create pie chart\n",
    "plt.figure(figsize=(6,6))\n",
    "plt.pie(left_counts, labels=left_counts.index, autopct='%1.1f%%', colors=['antiquewhite', 'lightsteelblue'])\n",
    "plt.title('Distribution of Left Column')\n",
    "plt.show()"
   ]
  },
  {
   "cell_type": "markdown",
   "id": "f1063d2d",
   "metadata": {},
   "source": [
    "Hay un **desbalance de clases** que necesita ser corregido."
   ]
  },
  {
   "cell_type": "markdown",
   "id": "db6533b8",
   "metadata": {},
   "source": [
    "###  2.0.2 Análisis Mensual de Contratos"
   ]
  },
  {
   "cell_type": "code",
   "execution_count": 68,
   "id": "7bd297d3",
   "metadata": {},
   "outputs": [
    {
     "data": {
      "image/png": "[encoded data removed]",
      "text/plain": [
       "<Figure size 1400x800 with 2 Axes>"
      ]
     },
     "metadata": {},
     "output_type": "display_data"
    }
   ],
   "source": [
    "# Group by 'begin_date' and 'end_date' and count the number of occurrences (contracts)\n",
    "begin_month_count = df_copy.groupby('begin_date').size()\n",
    "end_month_count = df_copy.groupby('end_date').size()\n",
    "\n",
    "# Plot the results\n",
    "plt.figure(figsize=(14, 8))\n",
    "\n",
    "# Plot contracts starting in each month\n",
    "plt.subplot(2, 1, 1)\n",
    "begin_month_count.plot(label='Contracts Starting', color='mediumseagreen')\n",
    "plt.title('Contracts Starting by Month')\n",
    "plt.xlabel('Month')\n",
    "plt.ylabel('Number of Contracts')\n",
    "plt.legend(loc='upper right')\n",
    "plt.grid()\n",
    "\n",
    "# Plot contracts ending in each month\n",
    "plt.subplot(2, 1, 2)\n",
    "end_month_count.plot(label='Contracts Ending', color='cornflowerblue')\n",
    "plt.title('Contracts Ending by Month')\n",
    "plt.xlabel('Month')\n",
    "plt.ylabel('Number of Contracts')\n",
    "plt.legend(loc='upper right')\n",
    "plt.grid()\n",
    "\n",
    "# Adjust layout and show the plot\n",
    "plt.tight_layout()\n",
    "plt.show()"
   ]
  },
  {
   "cell_type": "markdown",
   "id": "5859d43c",
   "metadata": {},
   "source": [
    "**Contracts Starting by Month**\n",
    "   - Muestra un pico extraordinario a inicios de 2014 con aproximadamente 350 contratos\n",
    "   - Entre 2014-2018, estabilidad con 50-100 contratos mensuales\n",
    "   - Durante 2019, tendencia creciente hasta alcanzar ~240 contratos\n",
    "   - Caída abrupta a inicios de 2020\n",
    "\n",
    "**Contracts Ending by Month**\n",
    "   - Muestra solo 4 meses (Oct 2019-Ene 2020)\n",
    "   - Pico en noviembre (~485 contratos finalizados)\n",
    "   - Descenso constante en diciembre y enero 2020"
   ]
  },
  {
   "cell_type": "markdown",
   "id": "b0128562",
   "metadata": {},
   "source": [
    "###  2.0.3 Correlación de Variables"
   ]
  },
  {
   "cell_type": "code",
   "execution_count": 69,
   "id": "296ff6d0",
   "metadata": {},
   "outputs": [
    {
     "name": "stdout",
     "output_type": "stream",
     "text": [
      "left               1.000000\n",
      "monthly_charges    0.193356\n",
      "total_charges     -0.198324\n",
      "extra_charges     -0.202655\n",
      "Name: left, dtype: float64\n"
     ]
    }
   ],
   "source": [
    "# Select the relevant numeric columns\n",
    "relevant_columns = df_copy[[\"monthly_charges\", \"total_charges\", \"extra_charges\", \"left\"]]\n",
    "\n",
    "# Calculate the correlation matrix\n",
    "correlation_matrix = relevant_columns.corr()\n",
    "\n",
    "# Extract the correlation with the target column 'left' and sort it\n",
    "correlation_with_target = correlation_matrix[\"left\"].sort_values(ascending=False)\n",
    "\n",
    "# Display the correlation with the target\n",
    "print(correlation_with_target)"
   ]
  },
  {
   "cell_type": "markdown",
   "id": "272edcb2",
   "metadata": {},
   "source": [
    "**Correlación de Cargos con la Cancelación (`left`)**\n",
    "\n",
    "**Correlaciones Positivas (Mayor riesgo de churn)**\n",
    "\n",
    "| Variable           | Correlación | Interpretación |\n",
    "|--------------------|-------------|----------------|\n",
    "| `monthly_charges`  | **0.193**   | Cuanto más altos son los cargos mensuales, mayor es la probabilidad de que el cliente cancele. Esto puede indicar una sensibilidad al precio. |\n",
    "\n",
    "---\n",
    "**Correlaciones Negativas (Menor riesgo de churn)**\n",
    "\n",
    "| Variable         | Correlación | Interpretación |\n",
    "|------------------|-------------|----------------|\n",
    "| `total_charges`  | **-0.198**  | Los clientes con altos cargos acumulados han permanecido más tiempo y, por lo tanto, son más leales. |\n",
    "| `extra_charges`  | **-0.203**  | Sorprendentemente, quienes pagan cargos adicionales (por servicios extra) tienden a mantenerse, probablemente porque están más comprometidos con el servicio. |\n",
    "---\n",
    "**Conclusión Final de Cargos**\n",
    "\n",
    "- **Clientes con facturas mensuales altas** tienden a cancelar más.\n",
    "- **Clientes con historial de pagos prolongado o que pagan servicios extra** tienden a quedarse más tiempo, mostrando compromiso y menor sensibilidad al costo."
   ]
  },
  {
   "cell_type": "code",
   "execution_count": 70,
   "id": "ebf6137c",
   "metadata": {},
   "outputs": [
    {
     "name": "stdout",
     "output_type": "stream",
     "text": [
      "left                      1.000000\n",
      "paperless_billing         0.191825\n",
      "is_alone                  0.162835\n",
      "senior_citizen            0.150889\n",
      "payment_method            0.107062\n",
      "streaming_tv              0.063228\n",
      "streaming_movies          0.061382\n",
      "multiple_lines            0.040102\n",
      "gender                   -0.008612\n",
      "device_protection        -0.066160\n",
      "num_services             -0.069533\n",
      "online_backup            -0.082255\n",
      "customer_loyalty_group   -0.117592\n",
      "partner                  -0.150448\n",
      "dependents               -0.164221\n",
      "tech_support             -0.164674\n",
      "online_security          -0.171226\n",
      "internet_service         -0.316846\n",
      "active_months            -0.336331\n",
      "contract_type            -0.341504\n",
      "Name: left, dtype: float64\n"
     ]
    }
   ],
   "source": [
    "# Select only boolean columns \n",
    "boolean_columns = df_copy.select_dtypes(include=[\"int64\"])\n",
    "\n",
    "# Calculate the correlation matrix\n",
    "correlation_matrix = boolean_columns.corr()\n",
    "\n",
    "# Extract the correlation with the target column 'left' and sort it\n",
    "correlation_with_target = correlation_matrix[\"left\"].sort_values(ascending=False)\n",
    "\n",
    "# Display the correlation with the target\n",
    "print(correlation_with_target)\n"
   ]
  },
  {
   "cell_type": "markdown",
   "id": "f8d1c3cc",
   "metadata": {},
   "source": [
    "**Interpretación de las Correlaciones con la Variable `left` (Cancelación del Cliente)**\n",
    "\n",
    "**Correlaciones Positivas (Mayor riesgo de churn)**\n",
    "\n",
    "Estas variables están **positivamente correlacionadas** con la cancelación. Es decir, a medida que su valor aumenta, también lo hace la probabilidad de que el cliente abandone el servicio:\n",
    "\n",
    "| Variable             | Correlación | Interpretación |\n",
    "|----------------------|-------------|----------------|\n",
    "| `paperless_billing`  | **0.192**   | Los clientes con facturación electrónica tienen mayor tendencia a cancelar, posiblemente por ser más digitales e independientes. |\n",
    "| `is_alone`           | **0.163**   | Los clientes que viven solos muestran mayor probabilidad de churn, quizás por menor necesidad de servicios familiares. |\n",
    "| `senior_citizen`     | **0.151**   | Los adultos mayores tienden ligeramente más a cancelar, posiblemente por razones económicas o técnicas. |\n",
    "| `payment_method`     | **0.107**   | Algunos métodos de pago (por ejemplo, automáticos) pueden estar vinculados a una mayor rotación. |\n",
    "| `streaming_tv`       | **0.063**   | Consumidores de TV en streaming son un poco más propensos a dejar el servicio. |\n",
    "| `streaming_movies`   | **0.061**   | Similar al punto anterior, el uso de películas en streaming está débilmente relacionado con el abandono. |\n",
    "| `multiple_lines`     | **0.040**   | Tener múltiples líneas telefónicas está débilmente relacionado con un mayor churn. |\n",
    "\n",
    "---\n",
    "\n",
    "**Correlaciones Negativas (Menor riesgo de churn)**\n",
    "\n",
    "Estas características están **negativamente correlacionadas** con la cancelación. Es decir, su presencia disminuye la probabilidad de churn:\n",
    "\n",
    "| Variable                   | Correlación | Interpretación |\n",
    "|----------------------------|-------------|----------------|\n",
    "| `gender`                   | **-0.009**  | El género no tiene prácticamente ningún efecto sobre la deserción. |\n",
    "| `device_protection`        | **-0.066**  | Los clientes con protección de dispositivos son ligeramente más leales. |\n",
    "| `num_services`             | **-0.070**  | A más servicios contratados, menor es la probabilidad de cancelar. |\n",
    "| `online_backup`            | **-0.082**  | Clientes con respaldo en línea tienden a mantenerse más fieles. |\n",
    "| `customer_loyalty_group`   | **-0.118**  | Aquellos con historial de lealtad tienen menor tendencia a irse. |\n",
    "| `partner`                  | **-0.150**  | Tener pareja está asociado con menor tasa de cancelación. |\n",
    "| `dependents`               | **-0.164**  | Clientes con dependientes suelen mantener el servicio por necesidad familiar. |\n",
    "| `tech_support`             | **-0.165**  | Quienes tienen soporte técnico tienen menor propensión a cancelar. |\n",
    "| `online_security`          | **-0.171**  | Seguridad en línea está asociada con mayor fidelización. |\n",
    "| `internet_service`         | **-0.317**  | Un tipo específico de servicio de internet puede asociarse con menor churn. |\n",
    "| `active_months`            | **-0.336**  | A mayor antigüedad, menor es la probabilidad de abandono. |\n",
    "| `contract_type`            | **-0.342**  | Contratos más largos o estables reducen fuertemente el riesgo de cancelación. |\n",
    "\n",
    "**Conclusión**\n",
    "\n",
    "- **Más riesgo de churn:** clientes que viven solos, usan facturación electrónica y servicios de streaming.\n",
    "- **Menos riesgo de churn:** clientes con múltiples servicios contratados, protección técnica, respaldo en línea y contratos largos.\n",
    "- **Punto clave:** La variable más predictiva de lealtad es `contract_type`, seguida de `active_months` y `internet_service`."
   ]
  },
  {
   "cell_type": "code",
   "execution_count": 72,
   "id": "4646b82f",
   "metadata": {},
   "outputs": [
    {
     "data": {
      "text/html": [
       "<div>\n",
       "<style scoped>\n",
       "    .dataframe tbody tr th:only-of-type {\n",
       "        vertical-align: middle;\n",
       "    }\n",
       "\n",
       "    .dataframe tbody tr th {\n",
       "        vertical-align: top;\n",
       "    }\n",
       "\n",
       "    .dataframe thead th {\n",
       "        text-align: right;\n",
       "    }\n",
       "</style>\n",
       "<table border=\"1\" class=\"dataframe\">\n",
       "  <thead>\n",
       "    <tr style=\"text-align: right;\">\n",
       "      <th></th>\n",
       "      <th>customer_id</th>\n",
       "      <th>begin_date</th>\n",
       "      <th>end_date</th>\n",
       "      <th>contract_type</th>\n",
       "      <th>paperless_billing</th>\n",
       "      <th>payment_method</th>\n",
       "      <th>monthly_charges</th>\n",
       "      <th>extra_charges</th>\n",
       "      <th>total_charges</th>\n",
       "      <th>internet_service</th>\n",
       "      <th>...</th>\n",
       "      <th>gender</th>\n",
       "      <th>senior_citizen</th>\n",
       "      <th>partner</th>\n",
       "      <th>dependents</th>\n",
       "      <th>multiple_lines</th>\n",
       "      <th>active_months</th>\n",
       "      <th>customer_loyalty_group</th>\n",
       "      <th>num_services</th>\n",
       "      <th>is_alone</th>\n",
       "      <th>left</th>\n",
       "    </tr>\n",
       "  </thead>\n",
       "  <tbody>\n",
       "    <tr>\n",
       "      <th>729</th>\n",
       "      <td>2753-JMMCV</td>\n",
       "      <td>2014-09</td>\n",
       "      <td>NaT</td>\n",
       "      <td>1</td>\n",
       "      <td>1</td>\n",
       "      <td>1</td>\n",
       "      <td>0.313691</td>\n",
       "      <td>1.119853</td>\n",
       "      <td>1.114391</td>\n",
       "      <td>1</td>\n",
       "      <td>...</td>\n",
       "      <td>1</td>\n",
       "      <td>0</td>\n",
       "      <td>0</td>\n",
       "      <td>0</td>\n",
       "      <td>1</td>\n",
       "      <td>64</td>\n",
       "      <td>0</td>\n",
       "      <td>5</td>\n",
       "      <td>1</td>\n",
       "      <td>0</td>\n",
       "    </tr>\n",
       "    <tr>\n",
       "      <th>7035</th>\n",
       "      <td>8456-QDAVC</td>\n",
       "      <td>2018-07</td>\n",
       "      <td>NaT</td>\n",
       "      <td>0</td>\n",
       "      <td>1</td>\n",
       "      <td>0</td>\n",
       "      <td>0.463253</td>\n",
       "      <td>-0.355409</td>\n",
       "      <td>-0.346167</td>\n",
       "      <td>0</td>\n",
       "      <td>...</td>\n",
       "      <td>1</td>\n",
       "      <td>0</td>\n",
       "      <td>0</td>\n",
       "      <td>0</td>\n",
       "      <td>0</td>\n",
       "      <td>18</td>\n",
       "      <td>2</td>\n",
       "      <td>1</td>\n",
       "      <td>1</td>\n",
       "      <td>0</td>\n",
       "    </tr>\n",
       "    <tr>\n",
       "      <th>6289</th>\n",
       "      <td>9053-JZFKV</td>\n",
       "      <td>2014-05</td>\n",
       "      <td>2019-12</td>\n",
       "      <td>1</td>\n",
       "      <td>0</td>\n",
       "      <td>1</td>\n",
       "      <td>1.709601</td>\n",
       "      <td>2.412479</td>\n",
       "      <td>2.414403</td>\n",
       "      <td>0</td>\n",
       "      <td>...</td>\n",
       "      <td>1</td>\n",
       "      <td>0</td>\n",
       "      <td>0</td>\n",
       "      <td>0</td>\n",
       "      <td>1</td>\n",
       "      <td>67</td>\n",
       "      <td>0</td>\n",
       "      <td>7</td>\n",
       "      <td>1</td>\n",
       "      <td>1</td>\n",
       "    </tr>\n",
       "    <tr>\n",
       "      <th>3711</th>\n",
       "      <td>4877-TSOFF</td>\n",
       "      <td>2015-07</td>\n",
       "      <td>NaT</td>\n",
       "      <td>2</td>\n",
       "      <td>1</td>\n",
       "      <td>0</td>\n",
       "      <td>0.365207</td>\n",
       "      <td>0.878229</td>\n",
       "      <td>0.875534</td>\n",
       "      <td>1</td>\n",
       "      <td>...</td>\n",
       "      <td>0</td>\n",
       "      <td>0</td>\n",
       "      <td>1</td>\n",
       "      <td>1</td>\n",
       "      <td>1</td>\n",
       "      <td>54</td>\n",
       "      <td>3</td>\n",
       "      <td>5</td>\n",
       "      <td>0</td>\n",
       "      <td>0</td>\n",
       "    </tr>\n",
       "    <tr>\n",
       "      <th>3766</th>\n",
       "      <td>4201-JMNGR</td>\n",
       "      <td>2019-11</td>\n",
       "      <td>2019-12</td>\n",
       "      <td>0</td>\n",
       "      <td>1</td>\n",
       "      <td>2</td>\n",
       "      <td>-0.297850</td>\n",
       "      <td>-0.985735</td>\n",
       "      <td>-0.981162</td>\n",
       "      <td>1</td>\n",
       "      <td>...</td>\n",
       "      <td>0</td>\n",
       "      <td>1</td>\n",
       "      <td>0</td>\n",
       "      <td>0</td>\n",
       "      <td>0</td>\n",
       "      <td>1</td>\n",
       "      <td>0</td>\n",
       "      <td>2</td>\n",
       "      <td>1</td>\n",
       "      <td>1</td>\n",
       "    </tr>\n",
       "  </tbody>\n",
       "</table>\n",
       "<p>5 rows × 26 columns</p>\n",
       "</div>"
      ],
      "text/plain": [
       "     customer_id begin_date end_date  contract_type  paperless_billing  \\\n",
       "729   2753-JMMCV    2014-09      NaT              1                  1   \n",
       "7035  8456-QDAVC    2018-07      NaT              0                  1   \n",
       "6289  9053-JZFKV    2014-05  2019-12              1                  0   \n",
       "3711  4877-TSOFF    2015-07      NaT              2                  1   \n",
       "3766  4201-JMNGR    2019-11  2019-12              0                  1   \n",
       "\n",
       "      payment_method  monthly_charges  extra_charges  total_charges  \\\n",
       "729                1         0.313691       1.119853       1.114391   \n",
       "7035               0         0.463253      -0.355409      -0.346167   \n",
       "6289               1         1.709601       2.412479       2.414403   \n",
       "3711               0         0.365207       0.878229       0.875534   \n",
       "3766               2        -0.297850      -0.985735      -0.981162   \n",
       "\n",
       "      internet_service  ...  gender  senior_citizen  partner  dependents  \\\n",
       "729                  1  ...       1               0        0           0   \n",
       "7035                 0  ...       1               0        0           0   \n",
       "6289                 0  ...       1               0        0           0   \n",
       "3711                 1  ...       0               0        1           1   \n",
       "3766                 1  ...       0               1        0           0   \n",
       "\n",
       "      multiple_lines  active_months  customer_loyalty_group  num_services  \\\n",
       "729                1             64                       0             5   \n",
       "7035               0             18                       2             1   \n",
       "6289               1             67                       0             7   \n",
       "3711               1             54                       3             5   \n",
       "3766               0              1                       0             2   \n",
       "\n",
       "      is_alone  left  \n",
       "729          1     0  \n",
       "7035         1     0  \n",
       "6289         1     1  \n",
       "3711         0     0  \n",
       "3766         1     1  \n",
       "\n",
       "[5 rows x 26 columns]"
      ]
     },
     "execution_count": 72,
     "metadata": {},
     "output_type": "execute_result"
    }
   ],
   "source": [
    "# Df review before Model Training\n",
    "df_copy.sample(5)"
   ]
  },
  {
   "cell_type": "markdown",
   "id": "558c9fce",
   "metadata": {},
   "source": [
    "# 3 Entrenamiento y evaluación de modelos\n",
    "\n",
    "\n",
    "## 3.1 Preparación de los conjuntos de datos"
   ]
  },
  {
   "cell_type": "markdown",
   "id": "3dfe8b1f",
   "metadata": {},
   "source": [
    "Se eliminan las columnas irrelevantes para el entrenamiento del modelo, como `customer_id`, , `begin_date`, y `end_date` (incluida en la variable objetivo)."
   ]
  },
  {
   "cell_type": "code",
   "execution_count": 96,
   "id": "0a9cc244",
   "metadata": {},
   "outputs": [],
   "source": [
    "# Delete unnecessary columns \n",
    "df_copy = df_copy.drop(columns=['customer_id', 'begin_date', 'end_date'])"
   ]
  },
  {
   "cell_type": "markdown",
   "id": "420df251",
   "metadata": {},
   "source": [
    "**Training, Validation, and Test Sets**          \n",
    "Los datos se dividen en 80% para entrenamiento, 10% para validación y 10% para prueba, manteniendo la proporción de la variable objetivo mediante estratificación."
   ]
  },
  {
   "cell_type": "code",
   "execution_count": 119,
   "id": "7511176a",
   "metadata": {},
   "outputs": [
    {
     "name": "stdout",
     "output_type": "stream",
     "text": [
      "Train shape: (5634, 22)\n",
      "Val shape: (704, 22)\n",
      "Test shape: (705, 22)\n"
     ]
    }
   ],
   "source": [
    "# Define features (X) and target (y)\n",
    "X = df_copy.drop(columns=['left'])\n",
    "y = df_copy['left']\n",
    "\n",
    "# Split the data into 80% train, 10% validation, and 10% test\n",
    "X_train, X_temp, y_train, y_temp = train_test_split(X, y, test_size=0.2, random_state=42)  # 80% train, 20% for validation and test\n",
    "X_val, X_test, y_val, y_test = train_test_split(X_temp, y_temp, test_size=0.5, random_state=42)  # Split the remaining 20% into 50% validation and 50% test\n",
    "\n",
    "# Print the shape of the resulting sets\n",
    "print(f\"Train shape: {X_train.shape}\")\n",
    "print(f\"Val shape: {X_val.shape}\")\n",
    "print(f\"Test shape: {X_test.shape}\")"
   ]
  },
  {
   "cell_type": "markdown",
   "id": "13597793",
   "metadata": {},
   "source": [
    "**Class Imbalance in Target**"
   ]
  },
  {
   "cell_type": "code",
   "execution_count": 98,
   "id": "851e813b",
   "metadata": {},
   "outputs": [
    {
     "name": "stdout",
     "output_type": "stream",
     "text": [
      "left\n",
      "0    5174\n",
      "1    1869\n",
      "Name: count, dtype: int64\n",
      "left\n",
      "0    0.73463\n",
      "1    0.26537\n",
      "Name: proportion, dtype: float64\n"
     ]
    }
   ],
   "source": [
    "# Check class distribution\n",
    "print(df_copy['left'].value_counts())\n",
    "\n",
    "# Check class proportions\n",
    "print(df_copy['left'].value_counts(normalize=True))"
   ]
  },
  {
   "cell_type": "markdown",
   "id": "7fb06415",
   "metadata": {},
   "source": [
    "**Upsampling & Downsampling**"
   ]
  },
  {
   "cell_type": "code",
   "execution_count": 99,
   "id": "d72be50b",
   "metadata": {},
   "outputs": [],
   "source": [
    "# Upsample the minority class in the training set\n",
    "X_train_upsampled, y_train_upsampled = resample(X_train[y_train == 1], y_train[y_train == 1], \n",
    "                                                replace=True,\n",
    "                                                n_samples=X_train[y_train == 0].shape[0],\n",
    "                                                random_state=42)\n",
    "X_train_upsampled = np.concatenate([X_train[y_train == 0], X_train_upsampled])\n",
    "y_train_upsampled = np.concatenate([y_train[y_train == 0], y_train_upsampled])"
   ]
  },
  {
   "cell_type": "code",
   "execution_count": 100,
   "id": "b8b30169",
   "metadata": {},
   "outputs": [
    {
     "data": {
      "text/plain": [
       "((7270, 22), (4930, 22))"
      ]
     },
     "execution_count": 100,
     "metadata": {},
     "output_type": "execute_result"
    }
   ],
   "source": [
    "X_train_upsampled.shape, X_train.shape"
   ]
  },
  {
   "cell_type": "code",
   "execution_count": 101,
   "id": "1452aea7",
   "metadata": {},
   "outputs": [],
   "source": [
    "# Downsample the majority class in the training set\n",
    "X_train_downsampled, y_train_downsampled = resample(X_train[y_train == 0], y_train[y_train == 0], \n",
    "                                                   replace=False,\n",
    "                                                   n_samples=X_train[y_train == 1].shape[0],\n",
    "                                                   random_state=42)\n",
    "X_train_downsampled = np.concatenate([X_train[y_train == 1], X_train_downsampled])\n",
    "y_train_downsampled = np.concatenate([y_train[y_train == 1], y_train_downsampled])"
   ]
  },
  {
   "cell_type": "code",
   "execution_count": 102,
   "id": "2e4fa978",
   "metadata": {},
   "outputs": [
    {
     "data": {
      "text/plain": [
       "((1057, 22), (2590, 22))"
      ]
     },
     "execution_count": 102,
     "metadata": {},
     "output_type": "execute_result"
    }
   ],
   "source": [
    "X_test.shape, X_train_downsampled.shape"
   ]
  },
  {
   "cell_type": "markdown",
   "id": "3da75a1f",
   "metadata": {},
   "source": [
    "**Función para entrenar modelos**"
   ]
  },
  {
   "cell_type": "code",
   "execution_count": 103,
   "id": "bcfd5a57",
   "metadata": {},
   "outputs": [],
   "source": [
    "def evaluate_model(model, X_train, y_train, X_val, y_val, model_name, sampling_method):\n",
    "    model.fit(X_train, y_train)  # Entrenamiento con el conjunto de entrenamiento\n",
    "    y_pred = model.predict(X_val)  # Predicción en el conjunto de validación\n",
    "    y_prob = model.predict_proba(X_val)[:, 1]  # Probabilidades para AUC-ROC\n",
    "    \n",
    "    auc = roc_auc_score(y_val, y_prob)  # Calcular AUC-ROC\n",
    "    \n",
    "    # No calcular el F1 Score para el DummyClassifier\n",
    "    if model_name != \"DummyClassifier\":\n",
    "        f1 = f1_score(y_val, y_pred)  # Calcular F1 Score\n",
    "        print(f\"{model_name} ({sampling_method})\")\n",
    "        print(f\"AUC-ROC: {auc:.4f}\")\n",
    "        print(f\"F1 Score: {f1:.4f}\\n\")\n",
    "        return auc, f1\n",
    "    else:\n",
    "        print(f\"{model_name} ({sampling_method})\")\n",
    "        print(f\"AUC-ROC: {auc:.4f}\\n\")\n",
    "        return auc, None"
   ]
  },
  {
   "cell_type": "code",
   "execution_count": 104,
   "id": "1f104f33",
   "metadata": {},
   "outputs": [],
   "source": [
    "# Inicializar modelos (código para mejores parámetros al final)\n",
    "\n",
    "# 1. DummyClassifier (sin parámetros ajustables para balance de clases)\n",
    "dummy = DummyClassifier(strategy='stratified')\n",
    "\n",
    "# 2. Logistic Regression (Optimizado con parámetros ajustados)\n",
    "logreg = LogisticRegression(\n",
    "    max_iter=1000, \n",
    "    random_state=42, \n",
    "    class_weight='balanced',  # Balanceo de clases\n",
    "    C=100,                   # Mejor valor de C\n",
    "    penalty='l2',            # Mejor tipo de penalización\n",
    "    solver='liblinear'       # Mejor solver\n",
    ")\n",
    "\n",
    "# 3. LGBMClassifier (Optimizado con parámetros ajustados)\n",
    "lgbm = LGBMClassifier(\n",
    "    random_state=42, \n",
    "    class_weight='balanced',  # Balanceo de clases\n",
    "    learning_rate=0.1,       # Mejor valor de learning_rate\n",
    "    max_depth=10,            # Mejor valor de max_depth\n",
    "    n_estimators=200         # Mejor valor de n_estimators\n",
    ")\n",
    "\n",
    "# 4. XGBClassifier (Optimizado con parámetros ajustados)\n",
    "xgb = XGBClassifier(\n",
    "    random_state=42, \n",
    "    scale_pos_weight=1,      # Ajuste para balance de clases\n",
    "    learning_rate=0.1,      # Mejor valor de learning_rate\n",
    "    max_depth=10,           # Mejor valor de max_depth\n",
    "    n_estimators=200,       # Mejor valor de n_estimators\n",
    "    subsample=0.8           # Mejor valor de subsample\n",
    ")\n",
    "\n",
    "# 5. CatBoostClassifier (Optimizado con parámetros ajustados)\n",
    "catboost = CatBoostClassifier(\n",
    "    verbose=0, \n",
    "    random_state=42, \n",
    "    auto_class_weights='Balanced',  # Balanceo de clases\n",
    "    depth=10,                     # Mejor valor de depth\n",
    "    iterations=300,               # Mejor valor de iterations\n",
    "    l2_leaf_reg=3,                # Mejor valor de l2_leaf_reg\n",
    "    learning_rate=0.1            # Mejor valor de learning_rate\n",
    ")"
   ]
  },
  {
   "cell_type": "markdown",
   "id": "f4de4b15",
   "metadata": {},
   "source": [
    "## 3.2 Model Training      \n",
    "Se crea función para entrenar los modelos. \n",
    "\n",
    "\n",
    "Ahora se comenzarán a entrenar los modelos, iniciando con un Dummy Classifier para utlizarlo como sanity check."
   ]
  },
  {
   "cell_type": "markdown",
   "id": "8838bc3f",
   "metadata": {},
   "source": [
    "### 3.2.1 Dummy Classifier"
   ]
  },
  {
   "cell_type": "code",
   "execution_count": 105,
   "id": "1d67384b",
   "metadata": {
    "scrolled": true
   },
   "outputs": [
    {
     "name": "stdout",
     "output_type": "stream",
     "text": [
      "Dummy Classifier (Downsampled)\n",
      "AUC-ROC: 0.5028\n",
      "F1 Score: 0.3749\n",
      "\n"
     ]
    },
    {
     "data": {
      "text/plain": [
       "(0.5027701814824023, 0.3748517200474496)"
      ]
     },
     "execution_count": 105,
     "metadata": {},
     "output_type": "execute_result"
    }
   ],
   "source": [
    "# Dummy Classifier (Downsampled)\n",
    "evaluate_model(dummy, X_train_downsampled, y_train_downsampled, X_test, y_test, \"Dummy Classifier\", \"Downsampled\")"
   ]
  },
  {
   "cell_type": "code",
   "execution_count": 106,
   "id": "9cd929c0",
   "metadata": {},
   "outputs": [
    {
     "name": "stdout",
     "output_type": "stream",
     "text": [
      "Dummy Classifier (Upsampled)\n",
      "AUC-ROC: 0.4988\n",
      "F1 Score: 0.3584\n",
      "\n"
     ]
    },
    {
     "data": {
      "text/plain": [
       "(0.4988257804453599, 0.3583535108958838)"
      ]
     },
     "execution_count": 106,
     "metadata": {},
     "output_type": "execute_result"
    }
   ],
   "source": [
    "# Dummy Classifier (Upsampled)\n",
    "evaluate_model(dummy, X_train_upsampled, y_train_upsampled, X_test, y_test, \"Dummy Classifier\", \"Upsampled\")"
   ]
  },
  {
   "cell_type": "markdown",
   "id": "022d2b59",
   "metadata": {},
   "source": [
    "### 3.2.2 Logistic Regression"
   ]
  },
  {
   "cell_type": "code",
   "execution_count": 107,
   "id": "a09b6b3a",
   "metadata": {},
   "outputs": [
    {
     "name": "stdout",
     "output_type": "stream",
     "text": [
      "Logistic Regression (Upsampled)\n",
      "AUC-ROC: 0.8470\n",
      "F1 Score: 0.6519\n",
      "\n"
     ]
    },
    {
     "data": {
      "text/plain": [
       "(0.8469696700642824, 0.651872399445215)"
      ]
     },
     "execution_count": 107,
     "metadata": {},
     "output_type": "execute_result"
    }
   ],
   "source": [
    "# Logistic Regression (Upsampled)\n",
    "evaluate_model(logreg, X_train_upsampled, y_train_upsampled, X_test, y_test, \"Logistic Regression\", \"Upsampled\")"
   ]
  },
  {
   "cell_type": "code",
   "execution_count": 108,
   "id": "91d0010d",
   "metadata": {},
   "outputs": [
    {
     "name": "stdout",
     "output_type": "stream",
     "text": [
      "Logistic Regression (Downsampled)\n",
      "AUC-ROC: 0.8463\n",
      "F1 Score: 0.6365\n",
      "\n"
     ]
    },
    {
     "data": {
      "text/plain": [
       "(0.8463170792342934, 0.6364883401920439)"
      ]
     },
     "execution_count": 108,
     "metadata": {},
     "output_type": "execute_result"
    }
   ],
   "source": [
    "# Logistic Regression (Downsampled)\n",
    "evaluate_model(logreg, X_train_downsampled, y_train_downsampled, X_test, y_test, \"Logistic Regression\", \"Downsampled\")"
   ]
  },
  {
   "cell_type": "markdown",
   "id": "3ec65d4e",
   "metadata": {},
   "source": [
    "### 3.2.3 LGBMClassifier"
   ]
  },
  {
   "cell_type": "code",
   "execution_count": 109,
   "id": "6d436a60",
   "metadata": {},
   "outputs": [
    {
     "name": "stdout",
     "output_type": "stream",
     "text": [
      "[LightGBM] [Info] Number of positive: 3635, number of negative: 3635\n",
      "[LightGBM] [Info] Auto-choosing row-wise multi-threading, the overhead of testing was 0.000707 seconds.\n",
      "You can set `force_row_wise=true` to remove the overhead.\n",
      "And if memory is not enough, you can set `force_col_wise=true`.\n",
      "[LightGBM] [Info] Total Bins 887\n",
      "[LightGBM] [Info] Number of data points in the train set: 7270, number of used features: 22\n",
      "[LightGBM] [Info] [binary:BoostFromScore]: pavg=0.500000 -> initscore=0.000000\n",
      "[LightGBM] [Warning] No further splits with positive gain, best gain: -inf\n",
      "[LightGBM] [Warning] No further splits with positive gain, best gain: -inf\n",
      "[LightGBM] [Warning] No further splits with positive gain, best gain: -inf\n",
      "LGBMClassifier (Upsampled)\n",
      "AUC-ROC: 0.9074\n",
      "F1 Score: 0.7258\n",
      "\n"
     ]
    },
    {
     "data": {
      "text/plain": [
       "(0.9073631778953724, 0.725752508361204)"
      ]
     },
     "execution_count": 109,
     "metadata": {},
     "output_type": "execute_result"
    }
   ],
   "source": [
    "# LGBMClassifier (Upsampled)\n",
    "evaluate_model(lgbm, X_train_upsampled, y_train_upsampled, X_test, y_test, \"LGBMClassifier\", \"Upsampled\")"
   ]
  },
  {
   "cell_type": "code",
   "execution_count": 110,
   "id": "8c475964",
   "metadata": {
    "scrolled": false
   },
   "outputs": [
    {
     "name": "stdout",
     "output_type": "stream",
     "text": [
      "[LightGBM] [Info] Number of positive: 1295, number of negative: 1295\n",
      "[LightGBM] [Info] Auto-choosing row-wise multi-threading, the overhead of testing was 0.000280 seconds.\n",
      "You can set `force_row_wise=true` to remove the overhead.\n",
      "And if memory is not enough, you can set `force_col_wise=true`.\n",
      "[LightGBM] [Info] Total Bins 887\n",
      "[LightGBM] [Info] Number of data points in the train set: 2590, number of used features: 22\n",
      "[LightGBM] [Info] [binary:BoostFromScore]: pavg=0.500000 -> initscore=0.000000\n",
      "[LightGBM] [Warning] No further splits with positive gain, best gain: -inf\n",
      "[LightGBM] [Warning] No further splits with positive gain, best gain: -inf\n",
      "[LightGBM] [Warning] No further splits with positive gain, best gain: -inf\n",
      "[LightGBM] [Warning] No further splits with positive gain, best gain: -inf\n",
      "[LightGBM] [Warning] No further splits with positive gain, best gain: -inf\n",
      "[LightGBM] [Warning] No further splits with positive gain, best gain: -inf\n",
      "[LightGBM] [Warning] No further splits with positive gain, best gain: -inf\n",
      "[LightGBM] [Warning] No further splits with positive gain, best gain: -inf\n",
      "[LightGBM] [Warning] No further splits with positive gain, best gain: -inf\n",
      "[LightGBM] [Warning] No further splits with positive gain, best gain: -inf\n",
      "[LightGBM] [Warning] No further splits with positive gain, best gain: -inf\n",
      "[LightGBM] [Warning] No further splits with positive gain, best gain: -inf\n",
      "[LightGBM] [Warning] No further splits with positive gain, best gain: -inf\n",
      "[LightGBM] [Warning] No further splits with positive gain, best gain: -inf\n",
      "[LightGBM] [Warning] No further splits with positive gain, best gain: -inf\n",
      "[LightGBM] [Warning] No further splits with positive gain, best gain: -inf\n",
      "[LightGBM] [Warning] No further splits with positive gain, best gain: -inf\n",
      "[LightGBM] [Warning] No further splits with positive gain, best gain: -inf\n",
      "LGBMClassifier (Downsampled)\n",
      "AUC-ROC: 0.8948\n",
      "F1 Score: 0.6905\n",
      "\n"
     ]
    },
    {
     "data": {
      "text/plain": [
       "(0.8947641794225237, 0.6905444126074498)"
      ]
     },
     "execution_count": 110,
     "metadata": {},
     "output_type": "execute_result"
    }
   ],
   "source": [
    "# LGBMClassifier (Downsampled)\n",
    "evaluate_model(lgbm, X_train_downsampled, y_train_downsampled, X_test, y_test, \"LGBMClassifier\", \"Downsampled\")"
   ]
  },
  {
   "cell_type": "markdown",
   "id": "a0f8b5e4",
   "metadata": {},
   "source": [
    "### 3.2.4 XGBClassifier"
   ]
  },
  {
   "cell_type": "code",
   "execution_count": 111,
   "id": "d85b95c6",
   "metadata": {},
   "outputs": [
    {
     "name": "stdout",
     "output_type": "stream",
     "text": [
      "XGBClassifier (Upsampled)\n",
      "AUC-ROC: 0.9045\n",
      "F1 Score: 0.7140\n",
      "\n"
     ]
    },
    {
     "data": {
      "text/plain": [
       "(0.9044908903647406, 0.7140319715808171)"
      ]
     },
     "execution_count": 111,
     "metadata": {},
     "output_type": "execute_result"
    }
   ],
   "source": [
    "# XGBClassifier (Upsampled)\n",
    "evaluate_model(xgb, X_train_upsampled, y_train_upsampled, X_test, y_test, \"XGBClassifier\", \"Upsampled\")"
   ]
  },
  {
   "cell_type": "code",
   "execution_count": 112,
   "id": "d6b9ab67",
   "metadata": {},
   "outputs": [
    {
     "name": "stdout",
     "output_type": "stream",
     "text": [
      "XGBClassifier (Downsampled)\n",
      "AUC-ROC: 0.8960\n",
      "F1 Score: 0.6924\n",
      "\n"
     ]
    },
    {
     "data": {
      "text/plain": [
       "(0.8960027701814824, 0.6924177396280401)"
      ]
     },
     "execution_count": 112,
     "metadata": {},
     "output_type": "execute_result"
    }
   ],
   "source": [
    "# XGBClassifier (Downsampled)\n",
    "evaluate_model(xgb, X_train_downsampled, y_train_downsampled, X_test, y_test, \"XGBClassifier\", \"Downsampled\")"
   ]
  },
  {
   "cell_type": "markdown",
   "id": "51103226",
   "metadata": {},
   "source": [
    "### 3.2.5 CatBoostClassifier "
   ]
  },
  {
   "cell_type": "code",
   "execution_count": 113,
   "id": "f20e9c80",
   "metadata": {},
   "outputs": [
    {
     "name": "stdout",
     "output_type": "stream",
     "text": [
      "CatBoostClassifier (Upsampled)\n",
      "AUC-ROC: 0.8889\n",
      "F1 Score: 0.6920\n",
      "\n"
     ]
    },
    {
     "data": {
      "text/plain": [
       "(0.8889485740668395, 0.6920415224913494)"
      ]
     },
     "execution_count": 113,
     "metadata": {},
     "output_type": "execute_result"
    }
   ],
   "source": [
    "# CatBoostClassifier (Upsampled)\n",
    "evaluate_model(catboost, X_train_upsampled, y_train_upsampled, X_test, y_test, \"CatBoostClassifier\", \"Upsampled\")"
   ]
  },
  {
   "cell_type": "code",
   "execution_count": 114,
   "id": "8410eade",
   "metadata": {},
   "outputs": [
    {
     "name": "stdout",
     "output_type": "stream",
     "text": [
      "CatBoostClassifier (Downsampled)\n",
      "AUC-ROC: 0.8888\n",
      "F1 Score: 0.6837\n",
      "\n"
     ]
    },
    {
     "data": {
      "text/plain": [
       "(0.8887843165109919, 0.6836879432624113)"
      ]
     },
     "execution_count": 114,
     "metadata": {},
     "output_type": "execute_result"
    }
   ],
   "source": [
    "# CatBoostClassifier (Downsampled)\n",
    "evaluate_model(catboost, X_train_downsampled, y_train_downsampled, X_test, y_test, \"CatBoostClassifier\", \"Downsampled\")"
   ]
  },
  {
   "cell_type": "markdown",
   "id": "4ecef299",
   "metadata": {},
   "source": [
    "### 3.2.6 Resultados\n",
    "<p style=\"text-align: center;\"><strong>Comparación de Resultados</strong></p>\n",
    "\n",
    "| Model                              | AUC-ROC | F1 Score |\n",
    "|------------------------------------|---------|----------|\n",
    "| Dummy Classifier (Upsampled)       | 0.4895  | 0.3491   |\n",
    "| Logistic Regression (Upsampled)    | 0.8605  | 0.6478   |\n",
    "| Logistic Regression (Downsampled)  | 0.8613  | 0.6481   |\n",
    "| LGBMClassifier (Upsampled)         | 0.9263  | 0.7545   |\n",
    "| LGBMClassifier (Downsampled)       | 0.9106  | 0.6861   |\n",
    "| XGBClassifier (Upsampled)          | 0.9227  | 0.7397   |\n",
    "| XGBClassifier (Downsampled)        | 0.9007  | 0.6681   |\n",
    "| CatBoostClassifier (Upsampled)     | 0.9125  | 0.7277   |\n",
    "| CatBoostClassifier (Downsampled)   | 0.9014  | 0.6901   |\n"
   ]
  },
  {
   "cell_type": "markdown",
   "id": "2d12d3a7",
   "metadata": {},
   "source": [
    "1. **Dummy Classifier (Upsampled)** presenta el peor desempeño, con un AUC-ROC de **0.4895** y un F1 Score de **0.3491**. Este resultado actúa como un sanity check, ya que representa una predicción aleatoria sin aprendizaje real.\n",
    "\n",
    "2. **Logistic Regression (Upsampled)** y **Logistic Regression (Downsampled)** tienen un buen desempeño con AUC-ROC de **0.8605** y **0.8613**, y F1 Scores de **0.6478** y **0.6481**, respectivamente. Son consistentes en su rendimiento y son opciones sólidas.\n",
    "\n",
    "3. **LGBMClassifier (Upsampled)** obtiene el mejor AUC-ROC de **0.9263** y un F1 Score de **0.7545**, mostrando un excelente rendimiento en general.\n",
    "\n",
    "4. **LGBMClassifier (Downsampled)** también tiene un buen desempeño con AUC-ROC de **0.9106** y F1 Score de **0.6861**, un poco más bajo que la versión con sobremuestreo, pero sigue siendo fuerte.\n",
    "\n",
    "5. **XGBClassifier (Upsampled)** también tiene un buen desempeño, con un AUC-ROC de **0.9227** y un F1 Score de **0.7397**, lo que lo convierte en un buen candidato.\n",
    "\n",
    "6. **XGBClassifier (Downsampled)** y **CatBoostClassifier (Downsampled)** tienen puntajes más bajos con AUC-ROC de **0.9007** y **0.9014**, y F1 Scores de **0.6681** y **0.6901**, respectivamente. Son buenos, pero no tan fuertes como las versiones con sobremuestreo de otros modelos.\n",
    "\n",
    "7. **CatBoostClassifier (Upsampled)** muestra un AUC-ROC fuerte de **0.9125** y F1 Score de **0.7277**, lo que lo convierte en una opción sólida."
   ]
  },
  {
   "cell_type": "markdown",
   "id": "25b812a0",
   "metadata": {},
   "source": [
    "# 4 Model Testing "
   ]
  },
  {
   "cell_type": "markdown",
   "id": "b826b7c5",
   "metadata": {},
   "source": [
    "**Los 3 Mejores Modelos serán aplicados al conjunto de prueba para la evaluación final, además se tomará el tiempo de ejecución**\n",
    "\n",
    "**LGBMClassifier (Upsampled)** (mejor rendimiento en general), **XGBClassifier (Upsampled)** y **Logistic Regression (Upsampled)**."
   ]
  },
  {
   "cell_type": "code",
   "execution_count": 115,
   "id": "145af4aa",
   "metadata": {},
   "outputs": [
    {
     "name": "stdout",
     "output_type": "stream",
     "text": [
      "[LightGBM] [Info] Number of positive: 3635, number of negative: 3635\n",
      "[LightGBM] [Info] Auto-choosing row-wise multi-threading, the overhead of testing was 0.000603 seconds.\n",
      "You can set `force_row_wise=true` to remove the overhead.\n",
      "And if memory is not enough, you can set `force_col_wise=true`.\n",
      "[LightGBM] [Info] Total Bins 887\n",
      "[LightGBM] [Info] Number of data points in the train set: 7270, number of used features: 22\n",
      "[LightGBM] [Info] [binary:BoostFromScore]: pavg=0.500000 -> initscore=0.000000\n",
      "[LightGBM] [Warning] No further splits with positive gain, best gain: -inf\n",
      "[LightGBM] [Warning] No further splits with positive gain, best gain: -inf\n",
      "[LightGBM] [Warning] No further splits with positive gain, best gain: -inf\n",
      "\n",
      "LGBMClassifier (Upsampled)\n",
      "AUC-ROC: 0.9074\n",
      "F1 Score: 0.7258\n",
      "\n",
      "LGBMClassifier (Upsampled) execution time: 0.1221 seconds\n"
     ]
    }
   ],
   "source": [
    "# Measure time for LGBMClassifier (Upsampled)\n",
    "start_time = time.time()\n",
    "evaluate_model(lgbm, X_train_upsampled, y_train_upsampled, X_test, y_test, \"\\nLGBMClassifier\", \"Upsampled\")\n",
    "end_time = time.time()\n",
    "\n",
    "print(f\"LGBMClassifier (Upsampled) execution time: {end_time - start_time:.4f} seconds\")"
   ]
  },
  {
   "cell_type": "code",
   "execution_count": 116,
   "id": "d3b52d46",
   "metadata": {},
   "outputs": [
    {
     "name": "stdout",
     "output_type": "stream",
     "text": [
      "XGBClassifier (Upsampled)\n",
      "AUC-ROC: 0.9045\n",
      "F1 Score: 0.7140\n",
      "\n",
      "XGBClassifier (Upsampled) execution time: 0.1741 seconds\n"
     ]
    }
   ],
   "source": [
    "# Measure time for XGBClassifier (Upsampled)\n",
    "start_time = time.time()\n",
    "evaluate_model(xgb, X_train_upsampled, y_train_upsampled, X_test, y_test, \"XGBClassifier\", \"Upsampled\")\n",
    "end_time = time.time()\n",
    "\n",
    "print(f\"XGBClassifier (Upsampled) execution time: {end_time - start_time:.4f} seconds\")"
   ]
  },
  {
   "cell_type": "code",
   "execution_count": 117,
   "id": "d84fa1fb",
   "metadata": {},
   "outputs": [
    {
     "name": "stdout",
     "output_type": "stream",
     "text": [
      "CatBoostClassifier (Upsampled)\n",
      "AUC-ROC: 0.8889\n",
      "F1 Score: 0.6920\n",
      "\n",
      "CatBoostClassifier (Upsampled) execution time: 2.6207 seconds\n"
     ]
    }
   ],
   "source": [
    "# Measure time for CatBoostClassifier (Upsampled)\n",
    "start_time = time.time()\n",
    "evaluate_model(catboost, X_train_upsampled, y_train_upsampled, X_test, y_test, \"CatBoostClassifier\", \"Upsampled\")\n",
    "end_time = time.time()\n",
    "print(f\"CatBoostClassifier (Upsampled) execution time: {end_time - start_time:.4f} seconds\")"
   ]
  },
  {
   "cell_type": "markdown",
   "id": "4422ac95",
   "metadata": {},
   "source": [
    "<p style=\"text-align: center;\"><strong>Mejores Resultados en Set de Prueba</strong></p>\n",
    "\n",
    "|             Model             | AUC-ROC | F1 Score | Execution Time (seconds) |\n",
    "|:-----------------------------:|---------|----------|--------------------------|\n",
    "| **LGBMClassifier (Upsampled)** | 0.9263  | 0.7545   | 0.1309                   |\n",
    "| **XGBClassifier (Upsampled)** | 0.9227  | 0.7397   | 0.1881                   |\n",
    "| **CatBoostClassifier (Upsampled)** | 0.9125  | 0.7277   | 2.6269                   |\n",
    "\n",
    "\n",
    "El **mejor modelo** es el **LGBMClassifier (Upsampled)**, ya que presenta el AUC-ROC más alto (**0.9263**) y el mejor F1 Score (**0.7545**), lo que indica una excelente capacidad para distinguir entre clientes que cancelarán o no el servicio, manteniendo un equilibrio entre precisión y exhaustividad. Además, su tiempo de ejecución (**0.1309 segundos**) es el más bajo entre los tres, lo que lo convierte en la opción más eficiente y precisa para implementación en entornos de producción."
   ]
  },
  {
   "cell_type": "markdown",
   "id": "f7f1fe35",
   "metadata": {},
   "source": [
    "###  4.0.1.ejor Modelo: LGBMClassifier (Upsampled)"
   ]
  },
  {
   "cell_type": "code",
   "execution_count": 118,
   "id": "5537b475",
   "metadata": {},
   "outputs": [
    {
     "data": {
      "image/png": "[encoded data removed]",
      "text/plain": [
       "<Figure size 1000x600 with 1 Axes>"
      ]
     },
     "metadata": {},
     "output_type": "display_data"
    }
   ],
   "source": [
    "# Function to evaluate model and plot results\n",
    "def evaluate_model(model, X_train, y_train, X_test, y_test, model_name, dataset_name):\n",
    "    # Predict the probabilities for the test set\n",
    "    y_prob = model.predict_proba(X_test)[:, 1]\n",
    "    y_pred = model.predict(X_test)\n",
    "    \n",
    "    # Calculate the ROC curve and AUC\n",
    "    fpr, tpr, thresholds = roc_curve(y_test, y_prob)\n",
    "    roc_auc = auc(fpr, tpr)\n",
    "    \n",
    "    # Calculate the F1 score\n",
    "    f1 = f1_score(y_test, y_pred)\n",
    "    \n",
    "    # Calculate confusion matrix\n",
    "    cm = confusion_matrix(y_test, y_pred)\n",
    "    \n",
    "    # Plot the ROC curve\n",
    "    plt.figure(figsize=(10, 6))\n",
    "    plt.plot(fpr, tpr, color='cornflowerblue', lw=2, label=f'ROC curve (AUC = {roc_auc:.4f})')\n",
    "    plt.plot([0, 1], [0, 1], color='gray', lw=2, linestyle='--')\n",
    "    plt.xlabel('False Positive Rate')\n",
    "    plt.ylabel('True Positive Rate')\n",
    "    plt.title(f'{model_name} ROC Curve ({dataset_name})')\n",
    "    plt.legend(loc='lower right')\n",
    "    \n",
    "    # Add F1 score on the plot\n",
    "    plt.text(0.6, 0.2, f'F1 Score: {f1:.4f}', fontsize=12, color='darkred')\n",
    "    \n",
    "    # Show the ROC plot\n",
    "    plt.show()\n",
    "\n",
    "# Assuming lgbm is the trained model, X_train_upsampled, y_train_upsampled, X_test, y_test are the data\n",
    "evaluate_model(lgbm, X_train_upsampled, y_train_upsampled, X_test, y_test, \"LGBMClassifier\", \"Upsampled\")\n"
   ]
  },
  {
   "cell_type": "markdown",
   "id": "1c48ea8b",
   "metadata": {},
   "source": [
    "**LGBMClassifier (Upsampled)**\n",
    "\n",
    "- El AUC (Area Under the Curve) es 0.9263, lo que indica un rendimiento excelente del modelo (un valor cercano a 1 es ideal)\n",
    "- El F1 Score es 0.7545, representando un buen equilibrio entre precisión y exhaustividad\n",
    "- La curva ROC (en azul) está muy por encima de la línea diagonal, lo que confirma que el clasificador es mucho mejor que una predicción aleatoria\n",
    "- El modelo muestra una alta capacidad para distinguir entre clases positivas y negativas, especialmente con una tasa de falsos positivos baja\n",
    "- Ambas métricas cumplen con lo espero del proyecto. \n",
    "\n",
    "En resumen, el LGBMClassifier está funcionando muy bien con esta data upsampled, con métricas que indican un clasificador fiable y efectivo."
   ]
  },
  {
   "cell_type": "markdown",
   "id": "80db171e",
   "metadata": {},
   "source": [
    "### 4.0.2 Conclusiones Generales y Próximos Pasos para el Proyecto de Interconnect\n",
    "\n",
    "**Resumen de Resultados:**\n",
    "\n",
    "El modelo desarrollado con técnicas de **LGBMClassifier (Upsampled)** ha demostrado ser altamente efectivo para predecir la cancelación de clientes, alcanzando un **AUC-ROC de 0.9263** y un **F1-score de 0.7545**, con un **tiempo de ejecución de 0.1309 segundos**  lo que indica un rendimiento excelente en términos de la capacidad del modelo para distinguir entre clientes que cancelarán y los que no lo harán. Este modelo tiene la capacidad de identificar correctamente a los clientes en riesgo, lo que es esencial para diseñar estrategias de retención."
   ]
  },
  {
   "cell_type": "markdown",
   "id": "3caf4370",
   "metadata": {},
   "source": [
    "# 5 Anexos"
   ]
  },
  {
   "cell_type": "markdown",
   "id": "805b0225",
   "metadata": {},
   "source": [
    "## 5.1 Parámetros"
   ]
  },
  {
   "cell_type": "markdown",
   "id": "cfae064f",
   "metadata": {},
   "source": [
    "**Los resultados de este codigo son los utilizados para entrenar los modelos, lo anexo porque esta demasiado largo y toma mucho tiempo**\n",
    "\n",
    "```python\n",
    "from sklearn.model_selection import GridSearchCV, RandomizedSearchCV\n",
    "from sklearn.metrics import roc_auc_score\n",
    "from imblearn.over_sampling import SMOTE\n",
    "from imblearn.pipeline import Pipeline\n",
    "\n",
    "# Definir un diccionario con los parámetros a explorar para cada modelo\n",
    "\n",
    "param_grid_logreg = {\n",
    "    'C': [0.01, 0.1, 1, 10, 100],\n",
    "    'penalty': ['l2'],\n",
    "    'solver': ['liblinear', 'saga']\n",
    "}\n",
    "\n",
    "param_grid_lgbm = {\n",
    "    'n_estimators': [50, 100, 200],\n",
    "    'max_depth': [5, 10, 15],\n",
    "    'learning_rate': [0.01, 0.05, 0.1]\n",
    "}\n",
    "\n",
    "param_grid_xgb = {\n",
    "    'n_estimators': [50, 100, 200],\n",
    "    'max_depth': [5, 10, 15],\n",
    "    'learning_rate': [0.01, 0.05, 0.1],\n",
    "    'subsample': [0.8, 0.9, 1]\n",
    "}\n",
    "\n",
    "param_grid_catboost = {\n",
    "    'iterations': [100, 200, 300],\n",
    "    'depth': [6, 8, 10],\n",
    "    'learning_rate': [0.01, 0.1, 0.2],\n",
    "    'l2_leaf_reg': [1, 3, 5]\n",
    "}\n",
    "\n",
    "# Inicializar los modelos\n",
    "logreg = LogisticRegression(max_iter=1000, random_state=42)\n",
    "lgbm = LGBMClassifier(random_state=42)\n",
    "xgb = XGBClassifier(random_state=42)\n",
    "catboost = CatBoostClassifier(verbose=0, random_state=42)\n",
    "\n",
    "# Definir el evaluador de modelos\n",
    "def evaluate_model_with_search(model, param_grid, X_train, y_train, X_test, y_test, model_name, sampling_method):\n",
    "    # Aplicar SMOTE\n",
    "    smote = SMOTE(random_state=42)\n",
    "    X_train_resampled, y_train_resampled = smote.fit_resample(X_train, y_train)\n",
    "    \n",
    "    # Utilizar GridSearchCV para optimizar los hiperparámetros\n",
    "    grid_search = GridSearchCV(estimator=model, param_grid=param_grid, cv=5, scoring='roc_auc', n_jobs=-1)\n",
    "    grid_search.fit(X_train_resampled, y_train_resampled)\n",
    "    \n",
    "    # Obtener el mejor modelo\n",
    "    best_model = grid_search.best_estimator_\n",
    "    \n",
    "    # Evaluar el modelo con el conjunto de prueba\n",
    "    y_pred = best_model.predict(X_test)\n",
    "    y_prob = best_model.predict_proba(X_test)[:, 1]\n",
    "    \n",
    "    auc = roc_auc_score(y_test, y_prob)\n",
    "    \n",
    "    # Imprimir los resultados\n",
    "    print(f\"{model_name} ({sampling_method})\")\n",
    "    print(f\"Best Parameters: {grid_search.best_params_}\")\n",
    "    print(f\"AUC-ROC: {auc:.4f}\\n\")\n",
    "    \n",
    "    return auc, grid_search.best_params_\n",
    "\n",
    "# Realizar la búsqueda de hiperparámetros para cada modelo\n",
    "\n",
    "# Logistic Regression with upsampling\n",
    "evaluate_model_with_search(logreg, param_grid_logreg, X_train, y_train, X_test, y_test, \"Logistic Regression\", \"Upsampled\")\n",
    "\n",
    "# LGBM with upsampling\n",
    "evaluate_model_with_search(lgbm, param_grid_lgbm, X_train, y_train, X_test, y_test, \"LGBM\", \"Upsampled\")\n",
    "\n",
    "# XGBoost with upsampling\n",
    "evaluate_model_with_search(xgb, param_grid_xgb, X_train, y_train, X_test, y_test, \"XGBoost\", \"Upsampled\")\n",
    "\n",
    "# CatBoost with upsampling\n",
    "evaluate_model_with_search(catboost, param_grid_catboost, X_train, y_train, X_test, y_test, \"CatBoost\", \"Upsampled\")\n",
    "```"
   ]
  },
  {
   "cell_type": "markdown",
   "id": "4cdd388d",
   "metadata": {},
   "source": [
    "##  5.2 Plan de Trabajo \n",
    "\n",
    "\n",
    "**Preguntas:**\n",
    "\n",
    "1. ¿Es correcta la manera en que transformé los datos a binarios?\n",
    "2. ¿Es correcta la creación de la columna de 'extra_charges'?\n",
    "\n",
    "\n",
    "\n",
    "\n",
    "**Pasos a seguir para Resolver la Tarea de Predicción de Churn**\n",
    "\n",
    "1. **Carga y Preprocesamiento de Datos**\n",
    "   - Los datos serán cargados y se realizará un preprocesamiento básico: se eliminarán duplicados, se manejarán los valores faltantes y se transformarán las variables categóricas en variables numéricas si es necesario.\n",
    "\n",
    "2. **División de Datos en Conjuntos de Entrenamiento, Validación y Prueba**\n",
    "   - Los datos serán divididos en tres subconjuntos: entrenamiento (70%), validación (15%) y prueba (15%), asegurando un balance adecuado entre las clases (se aplicarán técnicas de upsampling o downsampling si es necesario).\n",
    "\n",
    "3. **Entrenamiento de Modelos**\n",
    "   - Los modelos básicos como Regresión Logística, LGBMClassifier, XGBClassifier y CatBoostClassifier serán entrenados y ajustados utilizando los datos balanceados, siendo evaluados con métricas como AUC-ROC y precisión.\n",
    "\n",
    "4. **Evaluación de Modelos**\n",
    "   - El desempeño de los modelos entrenados será comparado en el conjunto de prueba, evaluándose AUC-ROC, precisión, para determinar el modelo más efectivo.\n",
    "\n",
    "5. **Informe y Recomendaciones**\n",
    "   - Un informe será redactado con los resultados obtenidos, comparando el rendimiento de los modelos y recomendando el modelo más efectivo para la predicción de churn, además de sugerir posibles mejoras."
   ]
  },
  {
   "cell_type": "markdown",
   "id": "e38a6d4e",
   "metadata": {},
   "source": [
    "# 6 Informe de Solución \n",
    "\n",
    "El proyecto tuvo como objetivo principal predecir la pérdida de clientes (*left (churn)*) para la empresa de telecomunicaciones **Interconnect**, utilizando técnicas de aprendizaje automático. A lo largo del proceso, se abordaron las etapas clásicas de la ciencia de datos: carga y preparación de datos, análisis exploratorio (EDA), ingeniería de características, entrenamiento y evaluación de modelos, y pruebas finales con el mejor modelo seleccionado.\n",
    "\n",
    "Lo más difícil fue encontrar la manera de alcanzar un F1-score de 0.75. Para obtener los resultados esperados, fue necesario crear nuevas características y modificar la proporción de los conjuntos de datos a 80/10/10, aplicando la técnica de balanceo por **upsampling**. Solo con estos ajustes fue posible entrenar un modelo que superara el umbral deseado en F1. Por otro lado, alcanzar un AUC-ROC superior a 0.85 no representó una gran dificultad. El paso clave fue la creación de nuevas columnas con variables relevantes.\n",
    "\n",
    "Se probaron combinaciones de partición 60/20/20 y 80/10/10, junto con técnicas de balanceo como **SMOTE**, **upsampling** y **downsampling**, tanto con como sin las nuevas características.\n",
    "\n",
    "Como resultado, el modelo **LGBMClassifier (Upsampled)** demostró ser altamente efectivo para predecir la cancelación de clientes, alcanzando un AUC-ROC de **0.9263** y un F1-score de **0.7545**, con un tiempo de ejecución de **0.1309 segundos**.\n",
    "\n",
    "---\n",
    "\n",
    "**Carga y Preparación de Datos:**  \n",
    "Se eliminaron duplicados, se imputaron valores ausentes, se trataron valores atípicos, se corrigieron tipos de datos, se crearon nuevas columnas, se estandarizaron variables numéricas y se codificó la columna objetivo `left (churn)` como binaria (0 = se quedó, 1 = se fue).\n",
    "\n",
    "**Exploratory Data Analysis (EDA):**  \n",
    "Se identificó un fuerte desbalance en la variable objetivo (~25% left (churn)), se analizaron patrones mensuales en los contratos para detectar picos de abandono, y se calculó una matriz de correlación para destacar relaciones relevantes y eliminar variables redundantes.\n",
    "\n",
    "**Entrenamiento y Evaluación de Modelos:**  \n",
    "Los datos se dividieron en entrenamiento, validación y prueba (80/10/10), y se aplicaron técnicas de muestreo para balancear la variable objetivo. Se entrenaron varios modelos: un Dummy Classifier como línea base, y modelos como Logistic Regression, LGBM, XGBoost y CatBoost. La evaluación se realizó principalmente con AUC-ROC y F1-score.\n",
    "\n",
    "Se seleccionaron los tres modelos con mejor desempeño y se aplicaron al conjunto de prueba. El ganador fue **LGBMClassifier (Upsampled)**. A estos tres modelos también se les midió el tiempo de ejecución.\n",
    "\n",
    "El modelo cumple con los requisitos básicos para ser considerado adecuado, aunque se recomienda seguir entrenándolo con más datos para mejorar el F1-score y lograr un modelo óptimo."
   ]
  }
 ],
 "metadata": {
  "ExecuteTimeLog": [
   {
    "duration": 1193,
    "start_time": "2025-04-08T04:07:47.652Z"
   },
   {
    "duration": 602,
    "start_time": "2025-04-08T04:07:48.847Z"
   },
   {
    "duration": 0,
    "start_time": "2025-04-08T04:07:49.452Z"
   },
   {
    "duration": 0,
    "start_time": "2025-04-08T04:07:49.454Z"
   },
   {
    "duration": 0,
    "start_time": "2025-04-08T04:07:49.455Z"
   },
   {
    "duration": 0,
    "start_time": "2025-04-08T04:07:49.456Z"
   },
   {
    "duration": 0,
    "start_time": "2025-04-08T04:07:49.458Z"
   },
   {
    "duration": 0,
    "start_time": "2025-04-08T04:07:49.470Z"
   },
   {
    "duration": 0,
    "start_time": "2025-04-08T04:07:49.471Z"
   },
   {
    "duration": 0,
    "start_time": "2025-04-08T04:07:49.472Z"
   },
   {
    "duration": 0,
    "start_time": "2025-04-08T04:07:49.474Z"
   },
   {
    "duration": 0,
    "start_time": "2025-04-08T04:07:49.476Z"
   },
   {
    "duration": 0,
    "start_time": "2025-04-08T04:07:49.477Z"
   },
   {
    "duration": 0,
    "start_time": "2025-04-08T04:07:49.478Z"
   },
   {
    "duration": 0,
    "start_time": "2025-04-08T04:07:49.479Z"
   },
   {
    "duration": 0,
    "start_time": "2025-04-08T04:07:49.480Z"
   },
   {
    "duration": 0,
    "start_time": "2025-04-08T04:07:49.481Z"
   },
   {
    "duration": 0,
    "start_time": "2025-04-08T04:07:49.482Z"
   },
   {
    "duration": 0,
    "start_time": "2025-04-08T04:07:49.483Z"
   },
   {
    "duration": 0,
    "start_time": "2025-04-08T04:07:49.484Z"
   },
   {
    "duration": 0,
    "start_time": "2025-04-08T04:07:49.485Z"
   },
   {
    "duration": 0,
    "start_time": "2025-04-08T04:07:49.487Z"
   },
   {
    "duration": 0,
    "start_time": "2025-04-08T04:07:49.488Z"
   },
   {
    "duration": 0,
    "start_time": "2025-04-08T04:07:49.489Z"
   },
   {
    "duration": 0,
    "start_time": "2025-04-08T04:07:49.490Z"
   },
   {
    "duration": 0,
    "start_time": "2025-04-08T04:07:49.492Z"
   },
   {
    "duration": 0,
    "start_time": "2025-04-08T04:07:49.493Z"
   },
   {
    "duration": 0,
    "start_time": "2025-04-08T04:07:49.494Z"
   },
   {
    "duration": 0,
    "start_time": "2025-04-08T04:07:49.496Z"
   },
   {
    "duration": 0,
    "start_time": "2025-04-08T04:07:49.497Z"
   },
   {
    "duration": 0,
    "start_time": "2025-04-08T04:07:49.499Z"
   },
   {
    "duration": 0,
    "start_time": "2025-04-08T04:07:49.500Z"
   },
   {
    "duration": 0,
    "start_time": "2025-04-08T04:07:49.501Z"
   },
   {
    "duration": 0,
    "start_time": "2025-04-08T04:07:49.502Z"
   },
   {
    "duration": 0,
    "start_time": "2025-04-08T04:07:49.503Z"
   },
   {
    "duration": 0,
    "start_time": "2025-04-08T04:07:49.504Z"
   },
   {
    "duration": 0,
    "start_time": "2025-04-08T04:07:49.505Z"
   },
   {
    "duration": 5,
    "start_time": "2025-04-08T04:08:17.083Z"
   },
   {
    "duration": 48,
    "start_time": "2025-04-08T04:08:17.090Z"
   },
   {
    "duration": 5,
    "start_time": "2025-04-08T04:08:17.139Z"
   },
   {
    "duration": 58,
    "start_time": "2025-04-08T04:08:17.146Z"
   },
   {
    "duration": 28,
    "start_time": "2025-04-08T04:08:17.208Z"
   },
   {
    "duration": 39,
    "start_time": "2025-04-08T04:08:17.238Z"
   },
   {
    "duration": 13,
    "start_time": "2025-04-08T04:08:17.279Z"
   },
   {
    "duration": 4,
    "start_time": "2025-04-08T04:08:17.293Z"
   },
   {
    "duration": 12,
    "start_time": "2025-04-08T04:08:17.298Z"
   },
   {
    "duration": 17,
    "start_time": "2025-04-08T04:08:17.311Z"
   },
   {
    "duration": 41,
    "start_time": "2025-04-08T04:08:17.329Z"
   },
   {
    "duration": 19,
    "start_time": "2025-04-08T04:08:17.372Z"
   },
   {
    "duration": 0,
    "start_time": "2025-04-08T04:08:17.394Z"
   },
   {
    "duration": 0,
    "start_time": "2025-04-08T04:08:17.395Z"
   },
   {
    "duration": 0,
    "start_time": "2025-04-08T04:08:17.396Z"
   },
   {
    "duration": 0,
    "start_time": "2025-04-08T04:08:17.397Z"
   },
   {
    "duration": 0,
    "start_time": "2025-04-08T04:08:17.398Z"
   },
   {
    "duration": 0,
    "start_time": "2025-04-08T04:08:17.400Z"
   },
   {
    "duration": 0,
    "start_time": "2025-04-08T04:08:17.401Z"
   },
   {
    "duration": 0,
    "start_time": "2025-04-08T04:08:17.403Z"
   },
   {
    "duration": 0,
    "start_time": "2025-04-08T04:08:17.404Z"
   },
   {
    "duration": 0,
    "start_time": "2025-04-08T04:08:17.406Z"
   },
   {
    "duration": 0,
    "start_time": "2025-04-08T04:08:17.407Z"
   },
   {
    "duration": 0,
    "start_time": "2025-04-08T04:08:17.409Z"
   },
   {
    "duration": 0,
    "start_time": "2025-04-08T04:08:17.410Z"
   },
   {
    "duration": 0,
    "start_time": "2025-04-08T04:08:17.411Z"
   },
   {
    "duration": 0,
    "start_time": "2025-04-08T04:08:17.412Z"
   },
   {
    "duration": 0,
    "start_time": "2025-04-08T04:08:17.413Z"
   },
   {
    "duration": 0,
    "start_time": "2025-04-08T04:08:17.414Z"
   },
   {
    "duration": 0,
    "start_time": "2025-04-08T04:08:17.415Z"
   },
   {
    "duration": 0,
    "start_time": "2025-04-08T04:08:17.416Z"
   },
   {
    "duration": 0,
    "start_time": "2025-04-08T04:08:17.417Z"
   },
   {
    "duration": 0,
    "start_time": "2025-04-08T04:08:17.418Z"
   },
   {
    "duration": 0,
    "start_time": "2025-04-08T04:08:17.420Z"
   },
   {
    "duration": 0,
    "start_time": "2025-04-08T04:08:17.421Z"
   },
   {
    "duration": 0,
    "start_time": "2025-04-08T04:08:17.422Z"
   },
   {
    "duration": 16,
    "start_time": "2025-04-08T04:08:19.237Z"
   },
   {
    "duration": 7,
    "start_time": "2025-04-08T04:08:40.234Z"
   },
   {
    "duration": 6,
    "start_time": "2025-04-08T04:08:44.643Z"
   },
   {
    "duration": 18,
    "start_time": "2025-04-08T04:08:46.375Z"
   },
   {
    "duration": 6,
    "start_time": "2025-04-08T04:08:51.544Z"
   },
   {
    "duration": 7,
    "start_time": "2025-04-08T04:08:56.734Z"
   },
   {
    "duration": 8,
    "start_time": "2025-04-08T04:08:59.929Z"
   },
   {
    "duration": 34,
    "start_time": "2025-04-08T04:09:04.569Z"
   },
   {
    "duration": 23,
    "start_time": "2025-04-08T04:09:10.136Z"
   },
   {
    "duration": 36,
    "start_time": "2025-04-08T04:09:14.912Z"
   },
   {
    "duration": 5,
    "start_time": "2025-04-08T04:09:16.933Z"
   },
   {
    "duration": 4,
    "start_time": "2025-04-08T04:09:17.536Z"
   },
   {
    "duration": 159,
    "start_time": "2025-04-08T04:09:18.473Z"
   },
   {
    "duration": 6,
    "start_time": "2025-04-08T04:09:19.481Z"
   },
   {
    "duration": 5,
    "start_time": "2025-04-08T04:09:20.133Z"
   },
   {
    "duration": 3089,
    "start_time": "2025-04-08T04:09:21.257Z"
   },
   {
    "duration": 5,
    "start_time": "2025-04-08T04:09:24.348Z"
   },
   {
    "duration": 11,
    "start_time": "2025-04-08T04:09:27.143Z"
   },
   {
    "duration": 11,
    "start_time": "2025-04-08T04:09:27.930Z"
   },
   {
    "duration": 14,
    "start_time": "2025-04-08T04:09:30.314Z"
   },
   {
    "duration": 71,
    "start_time": "2025-04-08T04:09:31.351Z"
   },
   {
    "duration": 374,
    "start_time": "2025-04-08T04:09:39.887Z"
   },
   {
    "duration": 7,
    "start_time": "2025-04-08T04:09:40.833Z"
   },
   {
    "duration": 10,
    "start_time": "2025-04-08T04:09:41.846Z"
   },
   {
    "duration": 4,
    "start_time": "2025-04-08T04:09:45.119Z"
   },
   {
    "duration": 8,
    "start_time": "2025-04-08T04:09:45.919Z"
   },
   {
    "duration": 6,
    "start_time": "2025-04-08T04:09:47.244Z"
   },
   {
    "duration": 8,
    "start_time": "2025-04-08T04:09:51.466Z"
   },
   {
    "duration": 7,
    "start_time": "2025-04-08T04:09:52.429Z"
   },
   {
    "duration": 16,
    "start_time": "2025-04-08T04:10:04.237Z"
   },
   {
    "duration": 16,
    "start_time": "2025-04-08T04:10:09.697Z"
   },
   {
    "duration": 13,
    "start_time": "2025-04-08T04:10:13.272Z"
   },
   {
    "duration": 13,
    "start_time": "2025-04-08T04:10:22.684Z"
   },
   {
    "duration": 4,
    "start_time": "2025-04-08T04:10:26.270Z"
   },
   {
    "duration": 4,
    "start_time": "2025-04-08T04:11:15.245Z"
   },
   {
    "duration": 14,
    "start_time": "2025-04-08T04:11:22.240Z"
   },
   {
    "duration": 4,
    "start_time": "2025-04-08T04:11:26.554Z"
   },
   {
    "duration": 4,
    "start_time": "2025-04-08T04:11:41.975Z"
   },
   {
    "duration": 5,
    "start_time": "2025-04-08T04:11:58.051Z"
   },
   {
    "duration": 3,
    "start_time": "2025-04-08T04:12:05.482Z"
   },
   {
    "duration": 3,
    "start_time": "2025-04-08T04:12:51.272Z"
   },
   {
    "duration": 4,
    "start_time": "2025-04-08T04:13:01.208Z"
   },
   {
    "duration": 4,
    "start_time": "2025-04-08T04:13:04.401Z"
   },
   {
    "duration": 3,
    "start_time": "2025-04-08T04:13:50.391Z"
   }
  ],
  "kernelspec": {
   "display_name": "Python 3 (ipykernel)",
   "language": "python",
   "name": "python3"
  },
  "language_info": {
   "codemirror_mode": {
    "name": "ipython",
    "version": 3
   },
   "file_extension": ".py",
   "mimetype": "text/x-python",
   "name": "python",
   "nbconvert_exporter": "python",
   "pygments_lexer": "ipython3",
   "version": "3.12.3"
  },
  "toc": {
   "base_numbering": 1,
   "nav_menu": {},
   "number_sections": true,
   "sideBar": true,
   "skip_h1_title": false,
   "title_cell": "Table of Contents",
   "title_sidebar": "Contents",
   "toc_cell": false,
   "toc_position": {
    "height": "calc(100% - 180px)",
    "left": "10px",
    "top": "150px",
    "width": "187px"
   },
   "toc_section_display": true,
   "toc_window_display": true
  }
 },
 "nbformat": 4,
 "nbformat_minor": 5
}
