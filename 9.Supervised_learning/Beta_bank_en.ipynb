{
 "cells": [
  {
   "cell_type": "markdown",
   "id": "e184f37d",
   "metadata": {},
   "source": [
    "<p style=\"color: #000000; font-size: 32px; font-weight: bold; text-align: center; margin-top: 20px;\"> \n",
    "Customer Churn Prediction for Beta Bank \n",
    "</p>\n",
    "<p style=\"color: #000000; font-size: 24px; text-align: center; margin-bottom: 20px;\">\n",
    "F1 Optimization and AUC-ROC Evaluation\n",
    "</p>\n",
    "\n",
    "<hr style=\"border: .4px solid #000000; width: 55%; margin: 10px auto;\">\n",
    "\n",
    "\n",
    "<p style=\"color: #000000; font-size: 18px;\">\n",
    "Beta Bank's customers are gradually leaving the bank every month. Bankers have identified that retaining current customers is more cost-effective than acquiring new ones.\n",
    "</p>\n",
    "<p style=\"color: #000000; font-size: 20px; font-weight: bold;\">Project Objective:</p>\n",
    "<p style=\"color: #000000; font-size: 18px;\">\n",
    "The objective of this project is to predict whether a Beta Bank customer will leave the bank in the near future, using historical data on customer behavior and contract terminations.\n",
    "</p>\n",
    "\n",
    "<p style=\"color: #000000; font-size: 20px; font-weight: bold;\">Project Goals:</p>\n",
    "<ul style=\"color: #000000; font-size: 18px;\">\n",
    "<li><strong>Predict customer churn:</strong> Develop a model to predict if a customer will leave the bank soon.</li>\n",
    "<li><strong>Optimize the F1 score:</strong> The model must achieve an F1 score of at least 0.59 to be approved.</li>\n",
    "<li><strong>Measure the AUC-ROC metric:</strong> Evaluate the model's quality using the AUC-ROC metric and compare it with the F1 score.</li>\n",
    "</ul>"
   ]
  },
  {
   "cell_type": "markdown",
   "id": "a5ad9ced",
   "metadata": {},
   "source": [
    "# 1. Data Description\n",
    "\n",
    "### `Churn` dataframe: \n",
    "\n",
    "**`RowNumber`**: Index of the data row  \n",
    "**`CustomerId`**: Unique customer identifier  \n",
    "**`Surname`**: Last name  \n",
    "**`CreditScore`**: Credit score  \n",
    "**`Geography`**: Country of residence  \n",
    "**`Gender`**: Gender  \n",
    "**`Age`**: Age  \n",
    "**`Tenure`**: Duration of the customer's fixed-term deposit maturity (in years)  \n",
    "**`Balance`**: Account balance  \n",
    "**`NumOfProducts`**: Number of bank products used by the customer  \n",
    "**`HasCrCard`**: Whether the customer has a credit card (1 - yes; 0 - no)  \n",
    "**`IsActiveMember`**: Customer activity status (1 - yes; 0 - no)  \n",
    "**`EstimatedSalary`**: Estimated salary  \n",
    "\n",
    "**Target column**    \n",
    "**`Exited`**: Whether the customer has left (1 - yes; 0 - no)  "
   ]
  },
  {
   "cell_type": "markdown",
   "id": "c4778e67",
   "metadata": {},
   "source": [
    "# 2. Libraries and Data Loading  "
   ]
  },
  {
   "cell_type": "code",
   "execution_count": 51,
   "id": "a51c07ec",
   "metadata": {},
   "outputs": [],
   "source": [
    "# Load libraries\n",
    "import pandas as pd\n",
    "import numpy as np\n",
    "import re\n",
    "import matplotlib.pyplot as plt \n",
    "import warnings\n",
    "warnings.filterwarnings('ignore')\n",
    "\n",
    "from sklearn.tree import DecisionTreeClassifier\n",
    "from sklearn.ensemble import RandomForestClassifier\n",
    "from sklearn.linear_model import LogisticRegression\n",
    "from sklearn.model_selection import train_test_split, GridSearchCV\n",
    "from sklearn.preprocessing import StandardScaler\n",
    "from sklearn.utils import shuffle\n",
    "from sklearn.metrics import recall_score, precision_score, f1_score\n",
    "from sklearn.metrics import roc_auc_score, roc_curve\n",
    "from imblearn.over_sampling import SMOTE"
   ]
  },
  {
   "cell_type": "code",
   "execution_count": 9,
   "id": "03a7105a",
   "metadata": {},
   "outputs": [
    {
     "name": "stdout",
     "output_type": "stream",
     "text": [
      "<class 'pandas.core.frame.DataFrame'>\n",
      "RangeIndex: 10000 entries, 0 to 9999\n",
      "Data columns (total 14 columns):\n",
      " #   Column           Non-Null Count  Dtype  \n",
      "---  ------           --------------  -----  \n",
      " 0   RowNumber        10000 non-null  int64  \n",
      " 1   CustomerId       10000 non-null  int64  \n",
      " 2   Surname          10000 non-null  object \n",
      " 3   CreditScore      10000 non-null  int64  \n",
      " 4   Geography        10000 non-null  object \n",
      " 5   Gender           10000 non-null  object \n",
      " 6   Age              10000 non-null  int64  \n",
      " 7   Tenure           9091 non-null   float64\n",
      " 8   Balance          10000 non-null  float64\n",
      " 9   NumOfProducts    10000 non-null  int64  \n",
      " 10  HasCrCard        10000 non-null  int64  \n",
      " 11  IsActiveMember   10000 non-null  int64  \n",
      " 12  EstimatedSalary  10000 non-null  float64\n",
      " 13  Exited           10000 non-null  int64  \n",
      "dtypes: float64(3), int64(8), object(3)\n",
      "memory usage: 1.1+ MB\n"
     ]
    }
   ],
   "source": [
    "# Load the data\n",
    "df = pd.read_csv('Churn.csv')\n",
    "df.info()"
   ]
  },
  {
   "cell_type": "code",
   "execution_count": 10,
   "id": "a7a1243c",
   "metadata": {},
   "outputs": [
    {
     "data": {
      "text/html": [
       "<div>\n",
       "<style scoped>\n",
       "    .dataframe tbody tr th:only-of-type {\n",
       "        vertical-align: middle;\n",
       "    }\n",
       "\n",
       "    .dataframe tbody tr th {\n",
       "        vertical-align: top;\n",
       "    }\n",
       "\n",
       "    .dataframe thead th {\n",
       "        text-align: right;\n",
       "    }\n",
       "</style>\n",
       "<table border=\"1\" class=\"dataframe\">\n",
       "  <thead>\n",
       "    <tr style=\"text-align: right;\">\n",
       "      <th></th>\n",
       "      <th>RowNumber</th>\n",
       "      <th>CustomerId</th>\n",
       "      <th>Surname</th>\n",
       "      <th>CreditScore</th>\n",
       "      <th>Geography</th>\n",
       "      <th>Gender</th>\n",
       "      <th>Age</th>\n",
       "      <th>Tenure</th>\n",
       "      <th>Balance</th>\n",
       "      <th>NumOfProducts</th>\n",
       "      <th>HasCrCard</th>\n",
       "      <th>IsActiveMember</th>\n",
       "      <th>EstimatedSalary</th>\n",
       "      <th>Exited</th>\n",
       "    </tr>\n",
       "  </thead>\n",
       "  <tbody>\n",
       "    <tr>\n",
       "      <th>0</th>\n",
       "      <td>1</td>\n",
       "      <td>15634602</td>\n",
       "      <td>Hargrave</td>\n",
       "      <td>619</td>\n",
       "      <td>France</td>\n",
       "      <td>Female</td>\n",
       "      <td>42</td>\n",
       "      <td>2.0</td>\n",
       "      <td>0.00</td>\n",
       "      <td>1</td>\n",
       "      <td>1</td>\n",
       "      <td>1</td>\n",
       "      <td>101348.88</td>\n",
       "      <td>1</td>\n",
       "    </tr>\n",
       "    <tr>\n",
       "      <th>1</th>\n",
       "      <td>2</td>\n",
       "      <td>15647311</td>\n",
       "      <td>Hill</td>\n",
       "      <td>608</td>\n",
       "      <td>Spain</td>\n",
       "      <td>Female</td>\n",
       "      <td>41</td>\n",
       "      <td>1.0</td>\n",
       "      <td>83807.86</td>\n",
       "      <td>1</td>\n",
       "      <td>0</td>\n",
       "      <td>1</td>\n",
       "      <td>112542.58</td>\n",
       "      <td>0</td>\n",
       "    </tr>\n",
       "    <tr>\n",
       "      <th>2</th>\n",
       "      <td>3</td>\n",
       "      <td>15619304</td>\n",
       "      <td>Onio</td>\n",
       "      <td>502</td>\n",
       "      <td>France</td>\n",
       "      <td>Female</td>\n",
       "      <td>42</td>\n",
       "      <td>8.0</td>\n",
       "      <td>159660.80</td>\n",
       "      <td>3</td>\n",
       "      <td>1</td>\n",
       "      <td>0</td>\n",
       "      <td>113931.57</td>\n",
       "      <td>1</td>\n",
       "    </tr>\n",
       "    <tr>\n",
       "      <th>3</th>\n",
       "      <td>4</td>\n",
       "      <td>15701354</td>\n",
       "      <td>Boni</td>\n",
       "      <td>699</td>\n",
       "      <td>France</td>\n",
       "      <td>Female</td>\n",
       "      <td>39</td>\n",
       "      <td>1.0</td>\n",
       "      <td>0.00</td>\n",
       "      <td>2</td>\n",
       "      <td>0</td>\n",
       "      <td>0</td>\n",
       "      <td>93826.63</td>\n",
       "      <td>0</td>\n",
       "    </tr>\n",
       "    <tr>\n",
       "      <th>4</th>\n",
       "      <td>5</td>\n",
       "      <td>15737888</td>\n",
       "      <td>Mitchell</td>\n",
       "      <td>850</td>\n",
       "      <td>Spain</td>\n",
       "      <td>Female</td>\n",
       "      <td>43</td>\n",
       "      <td>2.0</td>\n",
       "      <td>125510.82</td>\n",
       "      <td>1</td>\n",
       "      <td>1</td>\n",
       "      <td>1</td>\n",
       "      <td>79084.10</td>\n",
       "      <td>0</td>\n",
       "    </tr>\n",
       "  </tbody>\n",
       "</table>\n",
       "</div>"
      ],
      "text/plain": [
       "   RowNumber  CustomerId   Surname  CreditScore Geography  Gender  Age  \\\n",
       "0          1    15634602  Hargrave          619    France  Female   42   \n",
       "1          2    15647311      Hill          608     Spain  Female   41   \n",
       "2          3    15619304      Onio          502    France  Female   42   \n",
       "3          4    15701354      Boni          699    France  Female   39   \n",
       "4          5    15737888  Mitchell          850     Spain  Female   43   \n",
       "\n",
       "   Tenure    Balance  NumOfProducts  HasCrCard  IsActiveMember  \\\n",
       "0     2.0       0.00              1          1               1   \n",
       "1     1.0   83807.86              1          0               1   \n",
       "2     8.0  159660.80              3          1               0   \n",
       "3     1.0       0.00              2          0               0   \n",
       "4     2.0  125510.82              1          1               1   \n",
       "\n",
       "   EstimatedSalary  Exited  \n",
       "0        101348.88       1  \n",
       "1        112542.58       0  \n",
       "2        113931.57       1  \n",
       "3         93826.63       0  \n",
       "4         79084.10       0  "
      ]
     },
     "execution_count": 10,
     "metadata": {},
     "output_type": "execute_result"
    }
   ],
   "source": [
    "df.head()"
   ]
  },
  {
   "cell_type": "markdown",
   "id": "897f2b09",
   "metadata": {},
   "source": [
    "**Initial DataFrame Review**:\n",
    "\n",
    "- The DataFrame contains **10,000 rows** and **14 columns**.\n",
    "\n",
    "- The `dtypes` match the column names and descriptions, except for the `tenure` column, which will be converted to `int64`. Additionally, categorical columns will be converted to numerical values using pandas' **`get_dummies`** function.\n",
    "\n",
    "- The only column with null values is **`Tenure`**, with a total of **909 missing values**.\n",
    "\n",
    "- According to Python's best coding practices, variable and function names should follow the **snake_case** format, and adjustments will be made accordingly.\n",
    "\n",
    "- Unnecessary columns such as `RowNumber`, `CustomerId`, and `Surname` will be **removed**.\n",
    "\n",
    "Furthermore, the data will be analyzed to check for duplicates, and a thorough review will be conducted to ensure column values are consistent, logically valid, and free of errors. This includes examining for outliers, typos, and duplicate columns."
   ]
  },
  {
   "cell_type": "markdown",
   "id": "61428fad",
   "metadata": {},
   "source": [
    "# 3. Data Preprocessing"
   ]
  },
  {
   "cell_type": "code",
   "execution_count": 11,
   "id": "362fb83b",
   "metadata": {},
   "outputs": [],
   "source": [
    "# Delete columns 'RowNumber','CustomerId','Surname'\n",
    "df = df.drop(['RowNumber','CustomerId','Surname'],axis=1)"
   ]
  },
  {
   "cell_type": "code",
   "execution_count": 12,
   "id": "42dbae93",
   "metadata": {},
   "outputs": [
    {
     "name": "stdout",
     "output_type": "stream",
     "text": [
      "Column names in snake_case:\n",
      " ['credit_score', 'geography', 'gender', 'age', 'tenure', 'balance', 'num_of_products', 'has_cr_card', 'is_active_member', 'estimated_salary', 'exited']\n"
     ]
    }
   ],
   "source": [
    "# Change column names to snake_case\n",
    "df.columns = [re.sub(r'([a-z0-9])([A-Z])', r'\\1_\\2', col).lower() for col in df.columns]\n",
    "print('Column names in snake_case:\\n', df.columns.tolist())"
   ]
  },
  {
   "cell_type": "code",
   "execution_count": 13,
   "id": "7bd243ca",
   "metadata": {},
   "outputs": [
    {
     "name": "stdout",
     "output_type": "stream",
     "text": [
      "Total duplicates in DataFrame: 0\n"
     ]
    }
   ],
   "source": [
    "# Count the number of duplicate rows in the DataFrame\n",
    "print('Total duplicates in DataFrame:', df.duplicated().sum())"
   ]
  },
  {
   "cell_type": "markdown",
   "id": "b8a9361a",
   "metadata": {},
   "source": [
    "In the **`tenure`** column, 9.09% of the values are missing, which is a significant percentage to simply discard. Tenure represents the period during which a customer's fixed-term deposit has matured (in years), so the missing values might indicate that the customer does not have one. This leads to filling the missing values with 0."
   ]
  },
  {
   "cell_type": "code",
   "execution_count": 14,
   "id": "72a91394",
   "metadata": {},
   "outputs": [
    {
     "name": "stdout",
     "output_type": "stream",
     "text": [
      "Missing values in 'tenure': 0\n"
     ]
    }
   ],
   "source": [
    "# Fill out NAs with 0\n",
    "df['tenure'] = df['tenure'].fillna(0)  \n",
    "# Count missing values in the 'tenure' column\n",
    "missing_values = df['tenure'].isnull().sum()\n",
    "# Result\n",
    "print(f\"Missing values in 'tenure': {missing_values}\")"
   ]
  },
  {
   "cell_type": "code",
   "execution_count": 15,
   "id": "3bf1f9c2",
   "metadata": {},
   "outputs": [
    {
     "name": "stdout",
     "output_type": "stream",
     "text": [
      "'tenure' dtype: int64\n"
     ]
    }
   ],
   "source": [
    "# Convert dtype\n",
    "df['tenure'] = df['tenure'].astype(int)\n",
    "print(\"'tenure' dtype:\", df['tenure'].dtype)\n"
   ]
  },
  {
   "cell_type": "markdown",
   "id": "a9089240",
   "metadata": {},
   "source": [
    "The **`geography`** and **`gender`** columns will be examined for outliers."
   ]
  },
  {
   "cell_type": "code",
   "execution_count": 16,
   "id": "cffac58a",
   "metadata": {},
   "outputs": [
    {
     "name": "stdout",
     "output_type": "stream",
     "text": [
      "Unique entries in 'geography' column: ['France' 'Spain' 'Germany']\n"
     ]
    }
   ],
   "source": [
    "print(\"Unique entries in 'geography' column:\", df['geography'].unique())"
   ]
  },
  {
   "cell_type": "code",
   "execution_count": 17,
   "id": "9bf235a6",
   "metadata": {},
   "outputs": [
    {
     "name": "stdout",
     "output_type": "stream",
     "text": [
      "Unique entries in 'gender' column: ['Female' 'Male']\n"
     ]
    }
   ],
   "source": [
    "print(\"Unique entries in 'gender' column:\", df['gender'].unique())"
   ]
  },
  {
   "cell_type": "markdown",
   "id": "26cbc9e6",
   "metadata": {},
   "source": [
    "The pandas **`get_dummies`** function is used to convert categorical variables into numerical variables.  \n",
    "This process is known as **one-hot encoding**. It will be applied to the **`geography`** and **`gender`** columns.  \n",
    "To avoid the **dummy trap**, `drop_first=True` will be used when creating the dummy variables, removing one category and preventing multicollinearity."
   ]
  },
  {
   "cell_type": "code",
   "execution_count": 18,
   "id": "0a9ef88f",
   "metadata": {
    "scrolled": true
   },
   "outputs": [],
   "source": [
    "df = pd.get_dummies(df, columns=['geography', 'gender'], drop_first=True)\n",
    "df = df.astype(int) # convert dummy columns to integer type (1 and 0)"
   ]
  },
  {
   "cell_type": "code",
   "execution_count": 19,
   "id": "291d1392",
   "metadata": {},
   "outputs": [
    {
     "data": {
      "text/html": [
       "<div>\n",
       "<style scoped>\n",
       "    .dataframe tbody tr th:only-of-type {\n",
       "        vertical-align: middle;\n",
       "    }\n",
       "\n",
       "    .dataframe tbody tr th {\n",
       "        vertical-align: top;\n",
       "    }\n",
       "\n",
       "    .dataframe thead th {\n",
       "        text-align: right;\n",
       "    }\n",
       "</style>\n",
       "<table border=\"1\" class=\"dataframe\">\n",
       "  <thead>\n",
       "    <tr style=\"text-align: right;\">\n",
       "      <th></th>\n",
       "      <th>credit_score</th>\n",
       "      <th>age</th>\n",
       "      <th>tenure</th>\n",
       "      <th>balance</th>\n",
       "      <th>num_of_products</th>\n",
       "      <th>has_cr_card</th>\n",
       "      <th>is_active_member</th>\n",
       "      <th>estimated_salary</th>\n",
       "      <th>exited</th>\n",
       "      <th>geo_germany</th>\n",
       "      <th>geo_spain</th>\n",
       "      <th>gen_male</th>\n",
       "    </tr>\n",
       "  </thead>\n",
       "  <tbody>\n",
       "    <tr>\n",
       "      <th>0</th>\n",
       "      <td>619</td>\n",
       "      <td>42</td>\n",
       "      <td>2</td>\n",
       "      <td>0</td>\n",
       "      <td>1</td>\n",
       "      <td>1</td>\n",
       "      <td>1</td>\n",
       "      <td>101348</td>\n",
       "      <td>1</td>\n",
       "      <td>0</td>\n",
       "      <td>0</td>\n",
       "      <td>0</td>\n",
       "    </tr>\n",
       "    <tr>\n",
       "      <th>1</th>\n",
       "      <td>608</td>\n",
       "      <td>41</td>\n",
       "      <td>1</td>\n",
       "      <td>83807</td>\n",
       "      <td>1</td>\n",
       "      <td>0</td>\n",
       "      <td>1</td>\n",
       "      <td>112542</td>\n",
       "      <td>0</td>\n",
       "      <td>0</td>\n",
       "      <td>1</td>\n",
       "      <td>0</td>\n",
       "    </tr>\n",
       "    <tr>\n",
       "      <th>2</th>\n",
       "      <td>502</td>\n",
       "      <td>42</td>\n",
       "      <td>8</td>\n",
       "      <td>159660</td>\n",
       "      <td>3</td>\n",
       "      <td>1</td>\n",
       "      <td>0</td>\n",
       "      <td>113931</td>\n",
       "      <td>1</td>\n",
       "      <td>0</td>\n",
       "      <td>0</td>\n",
       "      <td>0</td>\n",
       "    </tr>\n",
       "    <tr>\n",
       "      <th>3</th>\n",
       "      <td>699</td>\n",
       "      <td>39</td>\n",
       "      <td>1</td>\n",
       "      <td>0</td>\n",
       "      <td>2</td>\n",
       "      <td>0</td>\n",
       "      <td>0</td>\n",
       "      <td>93826</td>\n",
       "      <td>0</td>\n",
       "      <td>0</td>\n",
       "      <td>0</td>\n",
       "      <td>0</td>\n",
       "    </tr>\n",
       "    <tr>\n",
       "      <th>4</th>\n",
       "      <td>850</td>\n",
       "      <td>43</td>\n",
       "      <td>2</td>\n",
       "      <td>125510</td>\n",
       "      <td>1</td>\n",
       "      <td>1</td>\n",
       "      <td>1</td>\n",
       "      <td>79084</td>\n",
       "      <td>0</td>\n",
       "      <td>0</td>\n",
       "      <td>1</td>\n",
       "      <td>0</td>\n",
       "    </tr>\n",
       "  </tbody>\n",
       "</table>\n",
       "</div>"
      ],
      "text/plain": [
       "   credit_score  age  tenure  balance  num_of_products  has_cr_card  \\\n",
       "0           619   42       2        0                1            1   \n",
       "1           608   41       1    83807                1            0   \n",
       "2           502   42       8   159660                3            1   \n",
       "3           699   39       1        0                2            0   \n",
       "4           850   43       2   125510                1            1   \n",
       "\n",
       "   is_active_member  estimated_salary  exited  geo_germany  geo_spain  \\\n",
       "0                 1            101348       1            0          0   \n",
       "1                 1            112542       0            0          1   \n",
       "2                 0            113931       1            0          0   \n",
       "3                 0             93826       0            0          0   \n",
       "4                 1             79084       0            0          1   \n",
       "\n",
       "   gen_male  \n",
       "0         0  \n",
       "1         0  \n",
       "2         0  \n",
       "3         0  \n",
       "4         0  "
      ]
     },
     "execution_count": 19,
     "metadata": {},
     "output_type": "execute_result"
    }
   ],
   "source": [
    "df.columns = df.columns.str.lower() # convert to lowercase\n",
    "df.columns = df.columns.str.replace('geography_', 'geo_').str.replace('gender_', 'gen_') # shorter names\n",
    "df.head()"
   ]
  },
  {
   "cell_type": "markdown",
   "id": "841128c6",
   "metadata": {},
   "source": [
    "For better clarity, in the **`geography_germany`** column, **0** corresponds to `France`, and **1** to `Germany`. In the **`geography_spain`** column, **1** corresponds to `Spain`. In **`gender_male`**, **0** corresponds to `Male`, and **1** to `Female`.\n",
    "\n",
    "Now, let's move on to the next phase of the project: **`Modeling`**. In this phase, we will prepare the training, validation, and test datasets."
   ]
  },
  {
   "cell_type": "markdown",
   "id": "e64f4e8b",
   "metadata": {},
   "source": [
    "# 4. Modeling  \n",
    "\n",
    "The goal is to train the model, validate it, and then conduct final testing. To achieve this, we need three separate datasets. Since Beta Bank has only provided one dataset, it will be split into three parts: a training set, a validation set, and a test set. A common ratio for splitting the data is 3:1:1, where the training set contains 60% of the data, and both the validation and test sets contain 20% of the data each.  \n",
    "To perform this split, we will use the **`train_test_split`** function from the **`sklearn.model_selection`** library.  \n",
    "The following code block will split the original dataset into these three sets.  "
   ]
  },
  {
   "cell_type": "code",
   "execution_count": 20,
   "id": "e65b4764",
   "metadata": {},
   "outputs": [],
   "source": [
    "# Create the target dataset by selecting the 'Exited' column\n",
    "target = df['exited']  # Target variable we want to predict\n",
    "\n",
    "# Create the features dataset by dropping the 'Exited' column\n",
    "features = df.drop('exited', axis=1)  # Ensures the features dataset contains only predictor variables"
   ]
  },
  {
   "cell_type": "code",
   "execution_count": 21,
   "id": "f664c100",
   "metadata": {},
   "outputs": [],
   "source": [
    "# Split the features and target into training sets (60%) and the remaining sets (40%)\n",
    "\n",
    "# 'features_train' and 'target_train' contain 60% of the data for training\n",
    "features_train, features_other, target_train, target_other = train_test_split(\n",
    "    features, target, test_size=0.4, random_state=12345\n",
    ")  \n",
    "# 'features_other' and 'target_other' contain 40%, which will be split into validation and test sets\n",
    "features_valid, features_test, target_valid, target_test = train_test_split(\n",
    "    features_other, target_other, test_size=0.5, random_state=12345\n",
    ")"
   ]
  },
  {
   "cell_type": "markdown",
   "id": "19b51e3e",
   "metadata": {},
   "source": [
    "**`test_size=0.4`** assigns 40% (4,000 rows) to validation/testing and leaves 60% (6,000 rows) for training.  \n",
    "**`test_size=0.5`** splits the remaining 40% (4,000 rows) into two equal parts: 20% (2,000 rows) for validation and 20% (2,000 rows) for testing.  \n",
    "**`random_state=12345`** ensures that the splits are consistent every time the code is executed.  "
   ]
  },
  {
   "cell_type": "code",
   "execution_count": 24,
   "id": "559dc9c4",
   "metadata": {},
   "outputs": [
    {
     "name": "stdout",
     "output_type": "stream",
     "text": [
      "Training set dimensions (features_train): (6000, 11)\n",
      "Training set dimensions (target_train): (6000,)\n",
      "\n",
      "Validation set dimensions (features_valid): (2000, 11)\n",
      "Validation set dimensions (target_valid): (2000,)\n",
      "\n",
      "Test set dimensions (features_test): (2000, 11)\n",
      "Test set dimensions (target_test): (2000,)\n"
     ]
    }
   ],
   "source": [
    "# Verify that the splits have been created correctly\n",
    "\n",
    "# View the shape of the training set (60%)\n",
    "print('Training set dimensions (features_train):', features_train.shape)\n",
    "print('Training set dimensions (target_train):', target_train.shape)\n",
    "\n",
    "# View the shape of the validation set (20%)\n",
    "print('\\nValidation set dimensions (features_valid):', features_valid.shape)\n",
    "print('Validation set dimensions (target_valid):', target_valid.shape)\n",
    "\n",
    "# View the shape of the test set (20%)\n",
    "print('\\nTest set dimensions (features_test):', features_test.shape)\n",
    "print('Test set dimensions (target_test):', target_test.shape)"
   ]
  },
  {
   "cell_type": "markdown",
   "id": "ca0ec4fb",
   "metadata": {},
   "source": [
    "After the data split, it is important to check whether the class distribution is balanced or not across the three datasets."
   ]
  },
  {
   "cell_type": "markdown",
   "id": "3cdeebb1",
   "metadata": {},
   "source": [
    "### Class Distribution  "
   ]
  },
  {
   "cell_type": "code",
   "execution_count": 25,
   "id": "1697537d",
   "metadata": {},
   "outputs": [
    {
     "name": "stdout",
     "output_type": "stream",
     "text": [
      "TRAINING\n",
      "Negative class balance: 80.067%\n",
      "Positive class balance: 19.933%\n",
      "\n",
      "VALIDATION\n",
      "Negative class balance: 79.1%\n",
      "Positive class balance: 20.9%\n",
      "\n",
      "TEST\n",
      "Negative class balance: 78.85%\n",
      "Positive class balance: 21.15%\n"
     ]
    }
   ],
   "source": [
    "# Class balance for the training dataset\n",
    "print('TRAINING')\n",
    "print(f'Negative class balance: {round(target_train[target_train == 0].count() * 100 / len(target_train), 3)}%') \n",
    "print(f'Positive class balance: {round(target_train[target_train == 1].count() * 100 / len(target_train), 3)}%\\n') \n",
    "\n",
    "# Class balance for the validation dataset\n",
    "print('VALIDATION')\n",
    "print(f'Negative class balance: {round(target_valid[target_valid == 0].count() * 100 / len(target_valid), 3)}%') \n",
    "print(f'Positive class balance: {round(target_valid[target_valid == 1].count() * 100 / len(target_valid), 3)}%\\n') \n",
    "\n",
    "# Class balance for the test dataset\n",
    "print('TEST')\n",
    "print(f'Negative class balance: {round(target_test[target_test == 0].count() * 100 / len(target_test), 3)}%') \n",
    "print(f'Positive class balance: {round(target_test[target_test == 1].count() * 100 / len(target_test), 3)}%')"
   ]
  },
  {
   "cell_type": "markdown",
   "id": "a29469ea",
   "metadata": {},
   "source": [
    "The dataset exhibits a class imbalance, where the **negative class represents approximately 80%**, and the **positive class accounts for 20%** across the training, validation, and test sets.  \n",
    "These figures reflect the imbalance between classes in the datasets:  \n",
    "- **Negative class**: Percentage of instances labeled as the negative class (e.g., 0 or \"no\").  \n",
    "- **Positive class**: Percentage of instances labeled as the positive class (e.g., 1 or \"yes\").  \n",
    "\n",
    "This indicates a **class imbalance**, where the negative class is significantly more frequent. This imbalance may cause the model to favor predicting the negative class. To address this, techniques such as oversampling the positive class or using algorithms that adjust class weights should be applied.\n",
    "\n",
    "Before training, we need to standardize the data to treat all features equally by using the **`StandardScaler`** class from the **`sklearn.preprocessing`** module, as shown in the next step."
   ]
  },
  {
   "cell_type": "code",
   "execution_count": 27,
   "id": "d1aa8764",
   "metadata": {},
   "outputs": [],
   "source": [
    "# Select the numerical columns from the DataFrame\n",
    "numeric = ['credit_score', 'age', 'tenure', 'balance', 'num_of_products', 'estimated_salary']\n",
    "\n",
    "# Initialize the StandardScaler\n",
    "scaler = StandardScaler()\n",
    "\n",
    "# Fit the scaler only on the training set\n",
    "scaler.fit(features_train[numeric])\n",
    "\n",
    "# Transform the training data using the fitted scaler\n",
    "features_train.loc[:, numeric] = scaler.transform(features_train.loc[:, numeric])\n",
    "\n",
    "# Transform the validation and test data using the parameters from the training set\n",
    "features_valid.loc[:, numeric] = scaler.transform(features_valid.loc[:, numeric])\n",
    "features_test.loc[:, numeric] = scaler.transform(features_test.loc[:, numeric])"
   ]
  },
  {
   "cell_type": "code",
   "execution_count": 28,
   "id": "e56ab3dc",
   "metadata": {},
   "outputs": [
    {
     "name": "stdout",
     "output_type": "stream",
     "text": [
      "Training set statistics (features_train):\n"
     ]
    },
    {
     "data": {
      "text/html": [
       "<div>\n",
       "<style scoped>\n",
       "    .dataframe tbody tr th:only-of-type {\n",
       "        vertical-align: middle;\n",
       "    }\n",
       "\n",
       "    .dataframe tbody tr th {\n",
       "        vertical-align: top;\n",
       "    }\n",
       "\n",
       "    .dataframe thead th {\n",
       "        text-align: right;\n",
       "    }\n",
       "</style>\n",
       "<table border=\"1\" class=\"dataframe\">\n",
       "  <thead>\n",
       "    <tr style=\"text-align: right;\">\n",
       "      <th></th>\n",
       "      <th>credit_score</th>\n",
       "      <th>age</th>\n",
       "      <th>tenure</th>\n",
       "      <th>balance</th>\n",
       "      <th>num_of_products</th>\n",
       "      <th>estimated_salary</th>\n",
       "    </tr>\n",
       "  </thead>\n",
       "  <tbody>\n",
       "    <tr>\n",
       "      <th>count</th>\n",
       "      <td>6.000000e+03</td>\n",
       "      <td>6.000000e+03</td>\n",
       "      <td>6.000000e+03</td>\n",
       "      <td>6.000000e+03</td>\n",
       "      <td>6.000000e+03</td>\n",
       "      <td>6.000000e+03</td>\n",
       "    </tr>\n",
       "    <tr>\n",
       "      <th>mean</th>\n",
       "      <td>-4.553395e-16</td>\n",
       "      <td>9.710751e-17</td>\n",
       "      <td>1.397401e-16</td>\n",
       "      <td>3.789561e-17</td>\n",
       "      <td>-5.329071e-17</td>\n",
       "      <td>8.052818e-17</td>\n",
       "    </tr>\n",
       "    <tr>\n",
       "      <th>std</th>\n",
       "      <td>1.000083e+00</td>\n",
       "      <td>1.000083e+00</td>\n",
       "      <td>1.000083e+00</td>\n",
       "      <td>1.000083e+00</td>\n",
       "      <td>1.000083e+00</td>\n",
       "      <td>1.000083e+00</td>\n",
       "    </tr>\n",
       "    <tr>\n",
       "      <th>min</th>\n",
       "      <td>-3.140255e+00</td>\n",
       "      <td>-1.986549e+00</td>\n",
       "      <td>-1.468729e+00</td>\n",
       "      <td>-1.233162e+00</td>\n",
       "      <td>-8.915599e-01</td>\n",
       "      <td>-1.723000e+00</td>\n",
       "    </tr>\n",
       "    <tr>\n",
       "      <th>25%</th>\n",
       "      <td>-6.894392e-01</td>\n",
       "      <td>-6.579018e-01</td>\n",
       "      <td>-8.253725e-01</td>\n",
       "      <td>-1.233162e+00</td>\n",
       "      <td>-8.915599e-01</td>\n",
       "      <td>-8.642681e-01</td>\n",
       "    </tr>\n",
       "    <tr>\n",
       "      <th>50%</th>\n",
       "      <td>2.192061e-02</td>\n",
       "      <td>-1.833849e-01</td>\n",
       "      <td>1.396619e-01</td>\n",
       "      <td>3.262444e-01</td>\n",
       "      <td>-8.915599e-01</td>\n",
       "      <td>1.114228e-02</td>\n",
       "    </tr>\n",
       "    <tr>\n",
       "      <th>75%</th>\n",
       "      <td>6.709715e-01</td>\n",
       "      <td>4.809386e-01</td>\n",
       "      <td>7.830182e-01</td>\n",
       "      <td>8.219482e-01</td>\n",
       "      <td>8.301522e-01</td>\n",
       "      <td>8.485936e-01</td>\n",
       "    </tr>\n",
       "    <tr>\n",
       "      <th>max</th>\n",
       "      <td>2.052152e+00</td>\n",
       "      <td>5.036300e+00</td>\n",
       "      <td>1.748053e+00</td>\n",
       "      <td>2.806172e+00</td>\n",
       "      <td>4.273576e+00</td>\n",
       "      <td>1.739050e+00</td>\n",
       "    </tr>\n",
       "  </tbody>\n",
       "</table>\n",
       "</div>"
      ],
      "text/plain": [
       "       credit_score           age        tenure       balance  \\\n",
       "count  6.000000e+03  6.000000e+03  6.000000e+03  6.000000e+03   \n",
       "mean  -4.553395e-16  9.710751e-17  1.397401e-16  3.789561e-17   \n",
       "std    1.000083e+00  1.000083e+00  1.000083e+00  1.000083e+00   \n",
       "min   -3.140255e+00 -1.986549e+00 -1.468729e+00 -1.233162e+00   \n",
       "25%   -6.894392e-01 -6.579018e-01 -8.253725e-01 -1.233162e+00   \n",
       "50%    2.192061e-02 -1.833849e-01  1.396619e-01  3.262444e-01   \n",
       "75%    6.709715e-01  4.809386e-01  7.830182e-01  8.219482e-01   \n",
       "max    2.052152e+00  5.036300e+00  1.748053e+00  2.806172e+00   \n",
       "\n",
       "       num_of_products  estimated_salary  \n",
       "count     6.000000e+03      6.000000e+03  \n",
       "mean     -5.329071e-17      8.052818e-17  \n",
       "std       1.000083e+00      1.000083e+00  \n",
       "min      -8.915599e-01     -1.723000e+00  \n",
       "25%      -8.915599e-01     -8.642681e-01  \n",
       "50%      -8.915599e-01      1.114228e-02  \n",
       "75%       8.301522e-01      8.485936e-01  \n",
       "max       4.273576e+00      1.739050e+00  "
      ]
     },
     "metadata": {},
     "output_type": "display_data"
    },
    {
     "name": "stdout",
     "output_type": "stream",
     "text": [
      "\n",
      "Validation set statistics (features_valid):\n"
     ]
    },
    {
     "data": {
      "text/html": [
       "<div>\n",
       "<style scoped>\n",
       "    .dataframe tbody tr th:only-of-type {\n",
       "        vertical-align: middle;\n",
       "    }\n",
       "\n",
       "    .dataframe tbody tr th {\n",
       "        vertical-align: top;\n",
       "    }\n",
       "\n",
       "    .dataframe thead th {\n",
       "        text-align: right;\n",
       "    }\n",
       "</style>\n",
       "<table border=\"1\" class=\"dataframe\">\n",
       "  <thead>\n",
       "    <tr style=\"text-align: right;\">\n",
       "      <th></th>\n",
       "      <th>credit_score</th>\n",
       "      <th>age</th>\n",
       "      <th>tenure</th>\n",
       "      <th>balance</th>\n",
       "      <th>num_of_products</th>\n",
       "      <th>estimated_salary</th>\n",
       "    </tr>\n",
       "  </thead>\n",
       "  <tbody>\n",
       "    <tr>\n",
       "      <th>count</th>\n",
       "      <td>2000.000000</td>\n",
       "      <td>2000.000000</td>\n",
       "      <td>2000.000000</td>\n",
       "      <td>2000.000000</td>\n",
       "      <td>2000.000000</td>\n",
       "      <td>2000.000000</td>\n",
       "    </tr>\n",
       "    <tr>\n",
       "      <th>mean</th>\n",
       "      <td>-0.054911</td>\n",
       "      <td>-0.001076</td>\n",
       "      <td>-0.052702</td>\n",
       "      <td>0.012940</td>\n",
       "      <td>0.051938</td>\n",
       "      <td>0.028253</td>\n",
       "    </tr>\n",
       "    <tr>\n",
       "      <th>std</th>\n",
       "      <td>1.002073</td>\n",
       "      <td>1.016118</td>\n",
       "      <td>0.996434</td>\n",
       "      <td>1.009242</td>\n",
       "      <td>1.008146</td>\n",
       "      <td>1.003187</td>\n",
       "    </tr>\n",
       "    <tr>\n",
       "      <th>min</th>\n",
       "      <td>-2.984483</td>\n",
       "      <td>-1.986549</td>\n",
       "      <td>-1.468729</td>\n",
       "      <td>-1.233162</td>\n",
       "      <td>-0.891560</td>\n",
       "      <td>-1.721632</td>\n",
       "    </tr>\n",
       "    <tr>\n",
       "      <th>25%</th>\n",
       "      <td>-0.762133</td>\n",
       "      <td>-0.657902</td>\n",
       "      <td>-0.825373</td>\n",
       "      <td>-1.233162</td>\n",
       "      <td>-0.891560</td>\n",
       "      <td>-0.838978</td>\n",
       "    </tr>\n",
       "    <tr>\n",
       "      <th>50%</th>\n",
       "      <td>-0.035196</td>\n",
       "      <td>-0.183385</td>\n",
       "      <td>-0.182016</td>\n",
       "      <td>0.358290</td>\n",
       "      <td>0.830152</td>\n",
       "      <td>0.007237</td>\n",
       "    </tr>\n",
       "    <tr>\n",
       "      <th>75%</th>\n",
       "      <td>0.660587</td>\n",
       "      <td>0.480939</td>\n",
       "      <td>0.783018</td>\n",
       "      <td>0.829414</td>\n",
       "      <td>0.830152</td>\n",
       "      <td>0.916203</td>\n",
       "    </tr>\n",
       "    <tr>\n",
       "      <th>max</th>\n",
       "      <td>2.052152</td>\n",
       "      <td>5.036300</td>\n",
       "      <td>1.748053</td>\n",
       "      <td>2.604751</td>\n",
       "      <td>4.273576</td>\n",
       "      <td>1.740106</td>\n",
       "    </tr>\n",
       "  </tbody>\n",
       "</table>\n",
       "</div>"
      ],
      "text/plain": [
       "       credit_score          age       tenure      balance  num_of_products  \\\n",
       "count   2000.000000  2000.000000  2000.000000  2000.000000      2000.000000   \n",
       "mean      -0.054911    -0.001076    -0.052702     0.012940         0.051938   \n",
       "std        1.002073     1.016118     0.996434     1.009242         1.008146   \n",
       "min       -2.984483    -1.986549    -1.468729    -1.233162        -0.891560   \n",
       "25%       -0.762133    -0.657902    -0.825373    -1.233162        -0.891560   \n",
       "50%       -0.035196    -0.183385    -0.182016     0.358290         0.830152   \n",
       "75%        0.660587     0.480939     0.783018     0.829414         0.830152   \n",
       "max        2.052152     5.036300     1.748053     2.604751         4.273576   \n",
       "\n",
       "       estimated_salary  \n",
       "count       2000.000000  \n",
       "mean           0.028253  \n",
       "std            1.003187  \n",
       "min           -1.721632  \n",
       "25%           -0.838978  \n",
       "50%            0.007237  \n",
       "75%            0.916203  \n",
       "max            1.740106  "
      ]
     },
     "metadata": {},
     "output_type": "display_data"
    },
    {
     "name": "stdout",
     "output_type": "stream",
     "text": [
      "\n",
      "Test set statistics (features_test):\n"
     ]
    },
    {
     "data": {
      "text/html": [
       "<div>\n",
       "<style scoped>\n",
       "    .dataframe tbody tr th:only-of-type {\n",
       "        vertical-align: middle;\n",
       "    }\n",
       "\n",
       "    .dataframe tbody tr th {\n",
       "        vertical-align: top;\n",
       "    }\n",
       "\n",
       "    .dataframe thead th {\n",
       "        text-align: right;\n",
       "    }\n",
       "</style>\n",
       "<table border=\"1\" class=\"dataframe\">\n",
       "  <thead>\n",
       "    <tr style=\"text-align: right;\">\n",
       "      <th></th>\n",
       "      <th>credit_score</th>\n",
       "      <th>age</th>\n",
       "      <th>tenure</th>\n",
       "      <th>balance</th>\n",
       "      <th>num_of_products</th>\n",
       "      <th>estimated_salary</th>\n",
       "    </tr>\n",
       "  </thead>\n",
       "  <tbody>\n",
       "    <tr>\n",
       "      <th>count</th>\n",
       "      <td>2000.000000</td>\n",
       "      <td>2000.000000</td>\n",
       "      <td>2000.000000</td>\n",
       "      <td>2000.000000</td>\n",
       "      <td>2000.000000</td>\n",
       "      <td>2000.000000</td>\n",
       "    </tr>\n",
       "    <tr>\n",
       "      <th>mean</th>\n",
       "      <td>-0.041686</td>\n",
       "      <td>-0.003923</td>\n",
       "      <td>0.016620</td>\n",
       "      <td>-0.021850</td>\n",
       "      <td>0.054521</td>\n",
       "      <td>0.023106</td>\n",
       "    </tr>\n",
       "    <tr>\n",
       "      <th>std</th>\n",
       "      <td>1.015290</td>\n",
       "      <td>0.959877</td>\n",
       "      <td>1.007017</td>\n",
       "      <td>1.013441</td>\n",
       "      <td>0.997580</td>\n",
       "      <td>0.976558</td>\n",
       "    </tr>\n",
       "    <tr>\n",
       "      <th>min</th>\n",
       "      <td>-3.140255</td>\n",
       "      <td>-1.986549</td>\n",
       "      <td>-1.468729</td>\n",
       "      <td>-1.233162</td>\n",
       "      <td>-0.891560</td>\n",
       "      <td>-1.720731</td>\n",
       "    </tr>\n",
       "    <tr>\n",
       "      <th>25%</th>\n",
       "      <td>-0.762133</td>\n",
       "      <td>-0.657902</td>\n",
       "      <td>-0.825373</td>\n",
       "      <td>-1.233162</td>\n",
       "      <td>-0.891560</td>\n",
       "      <td>-0.769394</td>\n",
       "    </tr>\n",
       "    <tr>\n",
       "      <th>50%</th>\n",
       "      <td>-0.045581</td>\n",
       "      <td>-0.183385</td>\n",
       "      <td>0.139662</td>\n",
       "      <td>0.318299</td>\n",
       "      <td>0.830152</td>\n",
       "      <td>0.018806</td>\n",
       "    </tr>\n",
       "    <tr>\n",
       "      <th>75%</th>\n",
       "      <td>0.691741</td>\n",
       "      <td>0.480939</td>\n",
       "      <td>0.783018</td>\n",
       "      <td>0.814800</td>\n",
       "      <td>0.830152</td>\n",
       "      <td>0.855660</td>\n",
       "    </tr>\n",
       "    <tr>\n",
       "      <th>max</th>\n",
       "      <td>2.052152</td>\n",
       "      <td>3.992363</td>\n",
       "      <td>1.748053</td>\n",
       "      <td>2.333394</td>\n",
       "      <td>4.273576</td>\n",
       "      <td>1.740487</td>\n",
       "    </tr>\n",
       "  </tbody>\n",
       "</table>\n",
       "</div>"
      ],
      "text/plain": [
       "       credit_score          age       tenure      balance  num_of_products  \\\n",
       "count   2000.000000  2000.000000  2000.000000  2000.000000      2000.000000   \n",
       "mean      -0.041686    -0.003923     0.016620    -0.021850         0.054521   \n",
       "std        1.015290     0.959877     1.007017     1.013441         0.997580   \n",
       "min       -3.140255    -1.986549    -1.468729    -1.233162        -0.891560   \n",
       "25%       -0.762133    -0.657902    -0.825373    -1.233162        -0.891560   \n",
       "50%       -0.045581    -0.183385     0.139662     0.318299         0.830152   \n",
       "75%        0.691741     0.480939     0.783018     0.814800         0.830152   \n",
       "max        2.052152     3.992363     1.748053     2.333394         4.273576   \n",
       "\n",
       "       estimated_salary  \n",
       "count       2000.000000  \n",
       "mean           0.023106  \n",
       "std            0.976558  \n",
       "min           -1.720731  \n",
       "25%           -0.769394  \n",
       "50%            0.018806  \n",
       "75%            0.855660  \n",
       "max            1.740487  "
      ]
     },
     "metadata": {},
     "output_type": "display_data"
    }
   ],
   "source": [
    "# Verify statistics after standardization for training, validation, and test sets\n",
    "print(\"Training set statistics (features_train):\")\n",
    "display(features_train[numeric].describe())\n",
    "\n",
    "print(\"\\nValidation set statistics (features_valid):\")\n",
    "display(features_valid[numeric].describe())\n",
    "\n",
    "print(\"\\nTest set statistics (features_test):\")\n",
    "display(features_test[numeric].describe())"
   ]
  },
  {
   "cell_type": "markdown",
   "id": "6cab9108",
   "metadata": {},
   "source": [
    "The data has been standardized correctly, as all the statistics align with the expected results after applying **`StandardScaler`**. The means are close to 0, the standard deviations are approximately 1, and the numerical column values across the three datasets follow the expected standardized distribution."
   ]
  },
  {
   "cell_type": "markdown",
   "id": "3469d8c1",
   "metadata": {},
   "source": [
    "## 4.1 Logistic Regression"
   ]
  },
  {
   "cell_type": "markdown",
   "id": "81edeb61",
   "metadata": {},
   "source": [
    "### 4.1.1 Without Class Imbalance Adjustment\n",
    "\n",
    "We will now train a model without adjusting for class imbalance. Later, we will compare the results with a model trained after addressing the imbalance."
   ]
  },
  {
   "cell_type": "code",
   "execution_count": 29,
   "id": "ff29a030",
   "metadata": {},
   "outputs": [
    {
     "name": "stdout",
     "output_type": "stream",
     "text": [
      "F1 Score - Logistic Regression: 0.3339\n",
      "AUC-ROC Score: 0.75863\n"
     ]
    }
   ],
   "source": [
    "# Create an instance of the LogisticRegression model\n",
    "model = LogisticRegression(solver='liblinear', random_state=12345)\n",
    "\n",
    "# Fit the model using the training data\n",
    "model.fit(features_train, target_train)\n",
    "\n",
    "# Predict target values for the validation features\n",
    "predicted_val = model.predict(features_valid)\n",
    "\n",
    "# Calculate and print the F1 score\n",
    "print('F1 Score - Logistic Regression:', round(f1_score(target_valid, predicted_val), 5))\n",
    "\n",
    "# Obtain the prediction probabilities\n",
    "probabilities_val = model.predict_proba(features_valid)\n",
    "\n",
    "# Extract the probabilities for the positive class (1)\n",
    "probabilities_one_val = probabilities_val[:, 1]\n",
    "\n",
    "# Calculate and display the AUC-ROC score\n",
    "auc_roc = roc_auc_score(target_valid, probabilities_one_val)\n",
    "print(f'AUC-ROC Score: {round(auc_roc, 5)}')"
   ]
  },
  {
   "cell_type": "markdown",
   "id": "6f60b74e",
   "metadata": {},
   "source": [
    "**Logistic Regression Model Evaluation:**  \n",
    "\n",
    "- **F1 Score**: 0.33 (without class imbalance adjustment). This value is acceptable but not satisfactory for Beta Bank's needs.  \n",
    "- **AUC-ROC**: 0.76, which is better than a random model but still not ideal.  \n",
    "\n",
    "We will reassess the model's performance after addressing the class imbalance, as it does not meet the expectations set by Beta Bank.  "
   ]
  },
  {
   "cell_type": "markdown",
   "id": "dcaeea08",
   "metadata": {},
   "source": [
    "### 4.1.2 Class Imbalance Adjustment  \n",
    "\n",
    "To improve the F1 score of the logistic regression model, we will address the class imbalance in the training dataset.  \n",
    "By modifying the class weights, the model becomes more sensitive to the less frequent classes. This is achieved by setting the `class_weight` parameter to `balanced` when initializing the model. The model will then be trained with this adjustment to enhance the F1 score.  \n",
    "This adjustment helps prevent the model from being biased toward the more common classes and improves its performance on underrepresented classes."
   ]
  },
  {
   "cell_type": "code",
   "execution_count": 30,
   "id": "9b8d443a",
   "metadata": {},
   "outputs": [
    {
     "name": "stdout",
     "output_type": "stream",
     "text": [
      "F1 Score - Logistic Regression (after balancing): 0.48889\n",
      "AUC-ROC Score: 0.76358\n"
     ]
    }
   ],
   "source": [
    "# Create an instance of the LogisticRegression model\n",
    "# The parameter class_weight='balanced' adjusts the class weights based on their frequencies\n",
    "model = LogisticRegression(class_weight='balanced', solver='liblinear', random_state=12345)\n",
    "\n",
    "# Fit the model using the training data\n",
    "model.fit(features_train, target_train)\n",
    "\n",
    "# Predict target values using the validation features\n",
    "predicted_valid = model.predict(features_valid)\n",
    "\n",
    "# Calculate and display the F1 score\n",
    "print('F1 Score - Logistic Regression (after balancing):', round(f1_score(target_valid, predicted_valid), 5))\n",
    "\n",
    "# Obtain the predicted probabilities for the positive class\n",
    "probabilities_valid = model.predict_proba(features_valid)\n",
    "probabilities_one_valid = probabilities_valid[:, 1]\n",
    "\n",
    "# Calculate and display the AUC-ROC score\n",
    "auc_roc = roc_auc_score(target_valid, probabilities_one_valid)\n",
    "print(f'AUC-ROC Score: {round(auc_roc, 5)}')"
   ]
  },
  {
   "cell_type": "markdown",
   "id": "caf33ae8",
   "metadata": {},
   "source": [
    "**Result After Balancing Class Imbalance:**  \n",
    "\n",
    "- **F1 Score:** Improved to **0.49** from **0.33**, but it is still below the minimum threshold of **0.59** required by Beta Bank.  \n",
    "- **AUC-ROC:** Slight improvement observed.  \n",
    "\n",
    "Next, we will explore alternative methods to handle class imbalance and train different models to identify the optimal solution."
   ]
  },
  {
   "cell_type": "markdown",
   "id": "c77b43fe",
   "metadata": {},
   "source": [
    "### 4.1.3 Upsampling and Downsampling Techniques  \n",
    "\n",
    "First, we will apply **upsampling**, and then we will create a function for this purpose."
   ]
  },
  {
   "cell_type": "markdown",
   "id": "4526a160",
   "metadata": {},
   "source": [
    "- **Upsampling**: Increases the number of positive instances in the dataset."
   ]
  },
  {
   "cell_type": "code",
   "execution_count": 31,
   "id": "e0ec66d1",
   "metadata": {},
   "outputs": [],
   "source": [
    "# Adjust class imbalance with oversampling\n",
    "\n",
    "# Create a function to perform oversampling on the training data\n",
    "def upsample(features, target, repeat):\n",
    "    # Create subsets of data based on the classes\n",
    "    features_zeros = features[target == 0]\n",
    "    features_ones = features[target == 1]\n",
    "    target_zeros = target[target == 0]\n",
    "    target_ones = target[target == 1]\n",
    "    \n",
    "    # Perform oversampling by replicating the minority class\n",
    "    features_upsampled = pd.concat([features_zeros] + [features_ones] * repeat)\n",
    "    target_upsampled = pd.concat([target_zeros] + [target_ones] * repeat)\n",
    "    \n",
    "    # Shuffle the observations to avoid patterns\n",
    "    features_upsampled, target_upsampled = shuffle(features_upsampled, target_upsampled, random_state=12345)\n",
    "    \n",
    "    # Return the balanced data\n",
    "    return features_upsampled, target_upsampled"
   ]
  },
  {
   "cell_type": "code",
   "execution_count": 32,
   "id": "633f3416",
   "metadata": {},
   "outputs": [],
   "source": [
    "# Call the oversampling function to balance the classes\n",
    "# Use a repetition factor of 10 for the minority class\n",
    "features_upsampled, target_upsampled = upsample(features_train, target_train, 10)"
   ]
  },
  {
   "cell_type": "code",
   "execution_count": 33,
   "id": "f9b9303a",
   "metadata": {},
   "outputs": [
    {
     "name": "stdout",
     "output_type": "stream",
     "text": [
      "F1 Score - Logistic Regression (after upsampling): 0.41989\n",
      "AUC-ROC Score: 0.765\n"
     ]
    }
   ],
   "source": [
    "# Create a logistic regression model instance\n",
    "# The parameter class_weight='balanced' is used to address class imbalance\n",
    "model = LogisticRegression(solver='liblinear', random_state=12345)\n",
    "\n",
    "# Train the model with the oversampled training data\n",
    "model.fit(features_upsampled, target_upsampled)\n",
    "\n",
    "# Predict target values for the validation set\n",
    "predicted_valid = model.predict(features_valid)\n",
    "\n",
    "# Calculate and display the F1 score\n",
    "print('F1 Score - Logistic Regression (after upsampling):', round(f1_score(target_valid, predicted_valid), 5))\n",
    "\n",
    "# Calculate probabilities for the positive class\n",
    "probabilities_valid = model.predict_proba(features_valid)\n",
    "probabilities_one_valid = probabilities_valid[:, 1]\n",
    "\n",
    "# Calculate and display the AUC-ROC score\n",
    "auc_roc = roc_auc_score(target_valid, probabilities_one_valid)\n",
    "print(f'AUC-ROC Score: {round(auc_roc, 5)}')"
   ]
  },
  {
   "cell_type": "markdown",
   "id": "2b07eec7",
   "metadata": {},
   "source": [
    "**Result after Upsampling:**\n",
    "\n",
    "The model's **F1 score** after performing **upsampling** on the data is **0.42**, which is lower than the **0.49** previously achieved using the **`class_weight`** parameter. However, it is better than not addressing the class imbalance at all.\n",
    "\n",
    "The **AUC-ROC** remains similar to the result obtained with the model that used the **`class_weight='balanced'`** parameter.\n",
    "\n",
    "Next, we will test **downsampling** to evaluate its impact on the model."
   ]
  },
  {
   "cell_type": "markdown",
   "id": "3f0c13db",
   "metadata": {},
   "source": [
    "- **Downsampling**: Reduces the number of negative instances in the dataset."
   ]
  },
  {
   "cell_type": "code",
   "execution_count": 35,
   "id": "6df13afd",
   "metadata": {},
   "outputs": [],
   "source": [
    "# Create a function to downsample the training data\n",
    "def downsample(features, target, fraction):\n",
    "    # Split features and target into two groups based on the class (0 and 1)\n",
    "    features_zeros = features[target == 0]\n",
    "    features_ones = features[target == 1]\n",
    "    target_zeros = target[target == 0]\n",
    "    target_ones = target[target == 1]\n",
    "\n",
    "    # Randomly downsample class 0 and combine it with class 1\n",
    "    features_downsampled = pd.concat([features_zeros.sample(frac=fraction, random_state=12345)] + [features_ones])\n",
    "    target_downsampled = pd.concat([target_zeros.sample(frac=fraction, random_state=12345)] + [target_ones])\n",
    "\n",
    "    # Randomly shuffle the downsampled data\n",
    "    features_downsampled, target_downsampled = shuffle(features_downsampled, target_downsampled, random_state=12345)\n",
    "\n",
    "    return features_downsampled, target_downsampled"
   ]
  },
  {
   "cell_type": "code",
   "execution_count": 36,
   "id": "c0ce5ef6",
   "metadata": {},
   "outputs": [],
   "source": [
    "# Downsample the training data with a fraction of 0.1\n",
    "features_downsampled, target_downsampled = downsample(features_train, target_train, 0.1)"
   ]
  },
  {
   "cell_type": "code",
   "execution_count": 38,
   "id": "a8affc8e",
   "metadata": {},
   "outputs": [
    {
     "name": "stdout",
     "output_type": "stream",
     "text": [
      "F1 Score - Logistic Regression (after downsampling): 0.4298642533936652\n",
      "AUC-ROC Score: 0.75826\n"
     ]
    }
   ],
   "source": [
    "# Create an instance of the Logistic Regression model\n",
    "# Pass the parameter class_weight='balanced' to handle imbalanced classes\n",
    "model = LogisticRegression(solver='liblinear', random_state=12345)\n",
    "\n",
    "# Train the model using the downsampled training data\n",
    "model.fit(features_downsampled, target_downsampled)\n",
    "\n",
    "# Predict the target values for the validation dataset\n",
    "predicted_valid = model.predict(features_valid)\n",
    "\n",
    "# Calculate and print the F1 score\n",
    "print('F1 Score - Logistic Regression (after downsampling):', f1_score(target_valid, predicted_valid))\n",
    "\n",
    "# Calculate the probabilities for the positive class in the validation dataset\n",
    "probabilities_valid = model.predict_proba(features_valid)\n",
    "probabilities_one_valid = probabilities_valid[:, 1]\n",
    "\n",
    "# Calculate and print the AUC-ROC score\n",
    "auc_roc = roc_auc_score(target_valid, probabilities_one_valid)\n",
    "print(f'AUC-ROC Score: {round(auc_roc, 5)}')"
   ]
  },
  {
   "cell_type": "markdown",
   "id": "11c15da5",
   "metadata": {},
   "source": [
    "**Result after downsampling:**  \n",
    "The new model has an F1 score of approximately **0.43**, which is an improvement over the model with upsampled data but does not surpass the model using the **`class_weight`** parameter.  \n",
    "\n",
    "Regarding the **AUC-ROC** score, it remains nearly the same, with a slight decrease compared to the previous two models.  \n",
    "\n",
    "Next, we will proceed with the **decision tree model** and conclude with the **random forest model**."
   ]
  },
  {
   "cell_type": "markdown",
   "id": "551e3f3c",
   "metadata": {},
   "source": [
    "Now, we will evaluate the performance of the **`Decision Tree`** and **`Random Forest`** models by addressing the class imbalance using three methods: adjusting class weights with **`class_weight`**, increasing the minority class with **upsampling**, and reducing the majority class with **downsampling**. We will analyze how each technique impacts the performance of both models, comparing the results obtained with each method."
   ]
  },
  {
   "cell_type": "markdown",
   "id": "1b11bf89",
   "metadata": {},
   "source": [
    "## 4.2 Decision Tree Model "
   ]
  },
  {
   "cell_type": "markdown",
   "id": "430279e9",
   "metadata": {},
   "source": [
    "### 4.2.1 Adjusting Imbalanced Classes (class_weight='balanced') \n"
   ]
  },
  {
   "cell_type": "code",
   "execution_count": 39,
   "id": "52b20d80",
   "metadata": {},
   "outputs": [
    {
     "name": "stdout",
     "output_type": "stream",
     "text": [
      "Best Model: DecisionTreeClassifier(max_depth=9, random_state=12345)\n",
      "Best F1 Score: 0.5787\n",
      "AUC-ROC Score: 0.78997\n",
      "Best Depth: 9\n"
     ]
    }
   ],
   "source": [
    "# Initialization\n",
    "best_DT_model = None\n",
    "best_DT_f1_score = 0\n",
    "best_DT_depth = 0\n",
    "\n",
    "# Create models with different depth values\n",
    "\n",
    "# Loop to test different depth values (range from 1 to 41)\n",
    "for depth in range(1, 42):\n",
    "    \n",
    "    # Create the model with the given depth and a fixed random_state\n",
    "    DT_model = DecisionTreeClassifier(max_depth=depth, random_state=12345)\n",
    "    \n",
    "    # Train the model on the training dataset\n",
    "    DT_model.fit(features_train, target_train)\n",
    "    \n",
    "    # Predict the target values for the validation set\n",
    "    DT_valid_predictions = DT_model.predict(features_valid)  # get predictions from the model\n",
    "    \n",
    "    # Calculate the f1_score, if allowed\n",
    "    try:\n",
    "        f1 = f1_score(target_valid, DT_valid_predictions)\n",
    "    except:\n",
    "        break  # Exit the loop if there is an error\n",
    "        \n",
    "    # Determine the best model\n",
    "    if f1 > best_DT_f1_score:\n",
    "        best_DT_model = DT_model\n",
    "        best_DT_depth = depth\n",
    "        best_DT_f1_score = f1\n",
    "\n",
    "# Get model probabilities for the validation set\n",
    "valid_probabilities = best_DT_model.predict_proba(features_valid)\n",
    "valid_probabilities_one = valid_probabilities[:, 1]\n",
    "\n",
    "# Calculate AUC-ROC\n",
    "auc_roc = roc_auc_score(target_valid, valid_probabilities_one)\n",
    "\n",
    "# Results\n",
    "print('Best Model:', best_DT_model)\n",
    "print(f'Best F1 Score: {round(best_DT_f1_score, 4)}')\n",
    "print(f'AUC-ROC Score: {round(auc_roc, 5)}')\n",
    "print('Best Depth:', best_DT_depth)"
   ]
  },
  {
   "cell_type": "markdown",
   "id": "246b9d3f",
   "metadata": {},
   "source": [
    "So far, the **highest F1 score** obtained is **0.58**, along with the **AUC-ROC** score of **0.79**."
   ]
  },
  {
   "cell_type": "markdown",
   "id": "3e1bbfdb",
   "metadata": {},
   "source": [
    "### 4.2.2 Upsampling"
   ]
  },
  {
   "cell_type": "code",
   "execution_count": 40,
   "id": "5ac9c570",
   "metadata": {},
   "outputs": [
    {
     "name": "stdout",
     "output_type": "stream",
     "text": [
      "Best Model: DecisionTreeClassifier(max_depth=5, random_state=12345)\n",
      "Best F1 Score: 0.5834\n",
      "AUC-ROC Score: 0.82482\n",
      "Best Depth: 5\n"
     ]
    }
   ],
   "source": [
    "# features_train, target_train -> original data\n",
    "\n",
    "# Apply SMOTE to perform upsampling of the minority class\n",
    "smote = SMOTE(random_state=12345)\n",
    "features_upsampled, target_upsampled = smote.fit_resample(features_train, target_train)\n",
    "\n",
    "# Initialize variables to find the best model\n",
    "best_DT_model = None\n",
    "best_DT_f1_score = 0\n",
    "best_DT_depth = 0\n",
    "\n",
    "# Create multiple models with different depth values\n",
    "for depth in range(1, 41):\n",
    "    \n",
    "    # Create a decision tree model with the specified depth\n",
    "    DT_model = DecisionTreeClassifier(max_depth=depth, random_state=12345)\n",
    "    \n",
    "    # Train the model with the balanced dataset\n",
    "    DT_model.fit(features_upsampled, target_upsampled)\n",
    "    \n",
    "    # Predict target values for the validation features\n",
    "    DT_predictions_valid = DT_model.predict(features_valid)\n",
    "    \n",
    "    # Calculate the F1 score\n",
    "    try:\n",
    "        f1 = f1_score(target_valid, DT_predictions_valid)\n",
    "    except:\n",
    "        break\n",
    "    \n",
    "    # Determine the best model\n",
    "    if f1 > best_DT_f1_score:\n",
    "        best_DT_model = DT_model\n",
    "        best_DT_depth = depth\n",
    "        best_DT_f1_score = f1\n",
    "\n",
    "# Obtain prediction probabilities\n",
    "probabilities_valid = best_DT_model.predict_proba(features_valid)\n",
    "\n",
    "# Extract probabilities for the positive class (1)\n",
    "probabilities_one_valid = probabilities_valid[:, 1]\n",
    "\n",
    "# Calculate and display the AUC-ROC score\n",
    "auc_roc = roc_auc_score(target_valid, probabilities_one_valid)\n",
    "\n",
    "# Print the results\n",
    "print('Best Model:', best_DT_model)\n",
    "print(f'Best F1 Score: {round(best_DT_f1_score, 4)}')\n",
    "print(f'AUC-ROC Score: {round(auc_roc, 5)}')\n",
    "print('Best Depth:', best_DT_depth)"
   ]
  },
  {
   "cell_type": "markdown",
   "id": "d16b6d71",
   "metadata": {},
   "source": [
    "This model achieved an **F1 score of 0.5834** and an **AUC-ROC of 0.82482**, demonstrating better performance in both metrics. Additionally, the best-performing model has an optimal depth of 5."
   ]
  },
  {
   "cell_type": "markdown",
   "id": "bc188732",
   "metadata": {},
   "source": [
    "### 4.2.3 Downsampling"
   ]
  },
  {
   "cell_type": "code",
   "execution_count": 41,
   "id": "25cfd7a3",
   "metadata": {},
   "outputs": [
    {
     "name": "stdout",
     "output_type": "stream",
     "text": [
      "Best Model: DecisionTreeClassifier(max_depth=6, random_state=12345)\n",
      "Best F1 Score: 0.4972\n",
      "AUC-ROC Score: 0.80351\n",
      "Best Depth: 6\n"
     ]
    }
   ],
   "source": [
    "# Initialization of Variables\n",
    "best_DT_model = None  # Best decision tree model\n",
    "best_DT_f1_score = 0  # Best F1 score\n",
    "best_DT_depth = 0  # Best depth\n",
    "\n",
    "# Create models with different depth values\n",
    "\n",
    "# For loop to iterate through depth values (range 1 to 40)\n",
    "for depth in range(1, 41):\n",
    "    \n",
    "    # Create a model using the specified depth and the same random_state\n",
    "    DT_model = DecisionTreeClassifier(max_depth=depth, random_state=12345)\n",
    "    \n",
    "    # Train the model using the training dataset\n",
    "    DT_model.fit(features_downsampled, target_downsampled)\n",
    "    \n",
    "    # Predict target values for the validation dataset\n",
    "    DT_predictions_valid = DT_model.predict(features_valid)  # Obtain model predictions on the validation set\n",
    "    \n",
    "    # Calculate the F1 score, if possible\n",
    "    try:\n",
    "        f1 = f1_score(target_valid, DT_predictions_valid)\n",
    "    except:\n",
    "        break  # Exit the loop if an error occurs\n",
    "    \n",
    "    # Determine the best model (based on the F1 score)\n",
    "    if f1 > best_DT_f1_score:\n",
    "        best_DT_model = DT_model  # Update the best model\n",
    "        best_DT_depth = depth  # Update the best depth\n",
    "        best_DT_f1_score = f1  # Update the best F1 score\n",
    "        \n",
    "# Calculate probabilities of the best prediction for the validation set\n",
    "probabilities_valid = best_DT_model.predict_proba(features_valid)\n",
    "probabilities_one_valid = probabilities_valid[:, 1]  # Extract probabilities for the positive class (1)\n",
    "\n",
    "# Calculate the AUC-ROC score\n",
    "auc_roc = roc_auc_score(target_valid, probabilities_one_valid)\n",
    "\n",
    "# Print the results\n",
    "print('Best Model:', best_DT_model)\n",
    "print(f'Best F1 Score: {round(best_DT_f1_score, 4)}')\n",
    "print(f'AUC-ROC Score: {round(auc_roc, 5)}')\n",
    "print('Best Depth:', best_DT_depth)"
   ]
  },
  {
   "cell_type": "markdown",
   "id": "301d9a4e",
   "metadata": {},
   "source": [
    "The model with **max_depth=6** achieved an **F1 score of 0.4972** and an **AUC-ROC of 0.80351**, both of which are lower than the results obtained with the model having **max_depth=5** (F1 score of 0.5834 and AUC-ROC of 0.82482)."
   ]
  },
  {
   "cell_type": "markdown",
   "id": "f93e5bc5",
   "metadata": {},
   "source": [
    "## 4.3 Random Forest Model"
   ]
  },
  {
   "cell_type": "markdown",
   "id": "f496b2eb",
   "metadata": {},
   "source": [
    "### 4.3.1 Balancing Classes with (class_weight='balanced') "
   ]
  },
  {
   "cell_type": "code",
   "execution_count": 43,
   "id": "4861468c",
   "metadata": {
    "scrolled": true
   },
   "outputs": [
    {
     "name": "stdout",
     "output_type": "stream",
     "text": [
      "Best Model: RandomForestClassifier(max_depth=19, n_estimators=11, random_state=12345)\n",
      "Best F1 Score: 0.6099\n",
      "AUC-ROC Score: 0.83079\n",
      "Best Depth (max_depth): 19\n",
      "Best n_estimators: 11\n"
     ]
    }
   ],
   "source": [
    "# Initialization of variables to store the best model and its parameters\n",
    "best_RF_model = None\n",
    "best_est = 0\n",
    "best_RF_depth = 0\n",
    "best_RF_f1_score = 0\n",
    "\n",
    "# Loop to test different values of n_estimators (number of trees)\n",
    "for est in range(1, 21):\n",
    "    \n",
    "    # Loop to test different values of max_depth (tree depth)\n",
    "    for depth in range(1, 41):\n",
    "        \n",
    "        # Create the RandomForest model with the current parameters\n",
    "        RF_model = RandomForestClassifier(max_depth=depth, random_state=12345, n_estimators=est)\n",
    "        \n",
    "        # Train the model with the training set\n",
    "        RF_model.fit(features_train, target_train)\n",
    "\n",
    "        # Predict the labels for the validation set\n",
    "        RF_predictions_valid = RF_model.predict(features_valid)\n",
    "       \n",
    "        # Calculate the f1_score for the validation set\n",
    "        f1 = f1_score(target_valid, RF_predictions_valid)\n",
    "\n",
    "        # If the f1_score is better than the previous one, save the current model and its parameters\n",
    "        if f1 > best_RF_f1_score:\n",
    "            best_RF_model = RF_model\n",
    "            best_RF_f1_score = f1\n",
    "            best_RF_depth = depth\n",
    "            best_est = est\n",
    "\n",
    "# Obtain the probabilities of predictions for the validation set\n",
    "probabilities_valid = best_RF_model.predict_proba(features_valid)\n",
    "probabilities_one_valid = probabilities_valid[:, 1]\n",
    "\n",
    "# Calculate the AUC-ROC for the obtained probabilities\n",
    "auc_roc = roc_auc_score(target_valid, probabilities_one_valid)\n",
    "\n",
    "# Display the results of the best model found\n",
    "print('Best Model:', best_RF_model)\n",
    "print(f'Best F1 Score: {round(best_RF_f1_score, 4)}')\n",
    "print(f'AUC-ROC Score: {round(auc_roc, 5)}')\n",
    "print('Best Depth (max_depth):', best_RF_depth)\n",
    "print('Best n_estimators:', best_est)"
   ]
  },
  {
   "cell_type": "markdown",
   "id": "e90e2f7b",
   "metadata": {},
   "source": [
    "The **F1 score** achieved is **0.6099**, and the **AUC-ROC** is **0.83079**, both higher than those obtained with the decision tree model at **max_depth=5** (F1 score of **0.5834** and AUC-ROC of **0.82482**) and at **max_depth=6** (F1 score of **0.4972** and AUC-ROC of **0.80351**). These are the best results so far."
   ]
  },
  {
   "cell_type": "markdown",
   "id": "2fb8ad2b",
   "metadata": {},
   "source": [
    "### 4.3.2 Upsampling"
   ]
  },
  {
   "cell_type": "code",
   "execution_count": 44,
   "id": "1e86b6d0",
   "metadata": {},
   "outputs": [
    {
     "name": "stdout",
     "output_type": "stream",
     "text": [
      "Best Model: RandomForestClassifier(max_depth=6, n_estimators=20, random_state=12345)\n",
      "Best F1 Score: 0.613\n",
      "AUC-ROC Score: 0.84274\n",
      "Best Depth: 6\n",
      "Best Number of Estimators: 20\n"
     ]
    }
   ],
   "source": [
    "best_RF_model = None  # Best Random Forest model with Upsampling\n",
    "best_est = 0  # Best number of estimators\n",
    "best_RF_depth = 0  # Best depth\n",
    "best_RF_f1_score = 0  # Best F1 score\n",
    "\n",
    "# Create models with different depths and estimators\n",
    "\n",
    "# Loop through the number of estimators\n",
    "for est in range(1, 21):\n",
    "    \n",
    "    # Loop through the depth values\n",
    "    for depth in range(1, 41):\n",
    "        \n",
    "        # Create the model with the specified depth and number of estimators\n",
    "        RF_model = RandomForestClassifier(max_depth=depth, random_state=12345, n_estimators=est)\n",
    "        \n",
    "        # Train the model with the training dataset\n",
    "        RF_model.fit(features_upsampled, target_upsampled)\n",
    "\n",
    "        # Predict the target variable using the validation set\n",
    "        RF_predictions_valid = RF_model.predict(features_valid)  # Predictions on the validation set\n",
    "       \n",
    "        # Calculate the F1 score\n",
    "        try:\n",
    "            f1 = f1_score(target_valid, RF_predictions_valid)\n",
    "        except:\n",
    "            break  # Exit the loop if an error occurs\n",
    "\n",
    "        # Identify the best model with the highest F1 score\n",
    "        if f1 > best_RF_f1_score:\n",
    "            best_RF_model = RF_model\n",
    "            best_RF_f1_score = f1\n",
    "            best_RF_depth = depth\n",
    "            best_est = est\n",
    "\n",
    "# Calculate the probabilities for the validation set\n",
    "probabilities_valid = best_RF_model.predict_proba(features_valid)\n",
    "probabilities_one_valid = probabilities_valid[:, 1]  # Probabilities of the positive class\n",
    "\n",
    "# Calculate the AUC-ROC score\n",
    "auc_roc = roc_auc_score(target_valid, probabilities_one_valid)\n",
    "\n",
    "# Results\n",
    "print('Best Model:', best_RF_model)\n",
    "print(f'Best F1 Score: {round(best_RF_f1_score, 4)}')\n",
    "print(f'AUC-ROC Score: {round(auc_roc, 5)}')\n",
    "print('Best Depth:', best_RF_depth)\n",
    "print('Best Number of Estimators:', best_est)"
   ]
  },
  {
   "cell_type": "markdown",
   "id": "c50bee22",
   "metadata": {},
   "source": [
    "The model achieved an **F1 score of 0.613** and an **AUC-ROC of 0.84274**, surpassing the previous results."
   ]
  },
  {
   "cell_type": "markdown",
   "id": "7eff3765",
   "metadata": {},
   "source": [
    "### 4.3.3 Downsampling"
   ]
  },
  {
   "cell_type": "code",
   "execution_count": 45,
   "id": "5cb2ce34",
   "metadata": {},
   "outputs": [
    {
     "name": "stdout",
     "output_type": "stream",
     "text": [
      "Best model: RandomForestClassifier(max_depth=19, n_estimators=6, random_state=12345)\n",
      "Best F1 Score: 0.4967\n",
      "AUC-ROC Score: 0.78234\n",
      "Best depth: 19\n",
      "Best number of estimators: 6\n"
     ]
    }
   ],
   "source": [
    "# Initialize variables to store the best model, F1 score, depth, and number of estimators\n",
    "best_RF_model = None\n",
    "best_est = 0\n",
    "best_RF_depth = 0\n",
    "best_RF_f1_score = 0\n",
    "\n",
    "# Create various models with different depth values and numbers of estimators\n",
    "# Loop for the number of estimators\n",
    "for est in range(1, 21):\n",
    "    \n",
    "    # Loop for the depth value\n",
    "    for depth in range(1, 41):\n",
    "        \n",
    "        # Create a model using the depth, number of estimators, and provided random_state\n",
    "        RF_model = RandomForestClassifier(max_depth=depth, random_state=12345, n_estimators=est)\n",
    "        \n",
    "        # Train the model with the training dataset\n",
    "        RF_model.fit(features_downsampled, target_downsampled)\n",
    "\n",
    "        # Predict values for the validation dataset\n",
    "        RF_predictions_valid = RF_model.predict(features_valid)  # Model predictions on the validation set\n",
    "       \n",
    "        # Calculate the F1 score\n",
    "        try:\n",
    "            f1 = f1_score(target_valid, RF_predictions_valid)\n",
    "        except:\n",
    "            break  # Exit the loop in case of an error\n",
    "        \n",
    "        # Determine the best model based on the F1 score\n",
    "        if f1 > best_RF_f1_score:\n",
    "            best_RF_model = RF_model\n",
    "            best_RF_f1_score = f1\n",
    "            best_RF_depth = depth\n",
    "            best_est = est\n",
    "\n",
    "# Get the probabilities for the positive class on the validation set\n",
    "probabilities_valid = best_RF_model.predict_proba(features_valid)\n",
    "probabilities_one_valid = probabilities_valid[:, 1]\n",
    "\n",
    "# Calculate the AUC-ROC score\n",
    "auc_roc = roc_auc_score(target_valid, probabilities_one_valid)\n",
    "\n",
    "# Print the results\n",
    "print('Best model:', best_RF_model)\n",
    "print(f'Best F1 Score: {round(best_RF_f1_score, 4)}')  # F1 score with 4 decimals\n",
    "print(f'AUC-ROC Score: {round(auc_roc, 5)}')  # AUC-ROC score with 5 decimals\n",
    "print('Best depth:', best_RF_depth)\n",
    "print('Best number of estimators:', best_est)"
   ]
  },
  {
   "cell_type": "markdown",
   "id": "9b5980b5",
   "metadata": {},
   "source": [
    "The model presents an **F1 score of 0.4967** and an **AUC-ROC of 0.78234**, both results being lower than those of previous models. This model demonstrates less competitive performance compared to the other evaluated models."
   ]
  },
  {
   "cell_type": "markdown",
   "id": "39bf27f4",
   "metadata": {},
   "source": [
    "## 4.4 Best Model: Random Forest with Upsampling"
   ]
  },
  {
   "cell_type": "code",
   "execution_count": 54,
   "id": "f2397050",
   "metadata": {},
   "outputs": [
    {
     "data": {
      "image/png": "[encoded data removed]",
      "text/plain": [
       "<Figure size 800x600 with 1 Axes>"
      ]
     },
     "metadata": {},
     "output_type": "display_data"
    },
    {
     "name": "stdout",
     "output_type": "stream",
     "text": [
      "AUC-ROC Score: 0.833\n",
      "F1 Score: 0.5968\n"
     ]
    }
   ],
   "source": [
    "# Create a model using the provided depth, number of estimators, and the same random_state\n",
    "RF_model = RandomForestClassifier(max_depth=14, random_state=12345, n_estimators=20)\n",
    "\n",
    "# Train the model using the training dataset\n",
    "RF_model.fit(features_upsampled, target_upsampled)\n",
    "\n",
    "# Make predictions on the test set\n",
    "test_predictions = RF_model.predict(features_test)\n",
    "\n",
    "# Calculate the F1 score\n",
    "f1 = f1_score(target_test, test_predictions)\n",
    "\n",
    "# Calculate probabilities for the test set\n",
    "probabilities_test = RF_model.predict_proba(features_test)\n",
    "probabilities_one_test = probabilities_test[:, 1]\n",
    "\n",
    "# Calculate the AUC-ROC score\n",
    "auc_roc = roc_auc_score(target_test, probabilities_one_test)\n",
    "\n",
    "# Calculate the FPR, TPR, and thresholds for the ROC curve\n",
    "fpr, tpr, thresholds = roc_curve(target_test, probabilities_one_test)\n",
    "\n",
    "# Plot the ROC curve\n",
    "plt.figure(figsize=(8, 6))\n",
    "plt.plot(fpr, tpr, color='blue', label=f'AUC-ROC = {round(auc_roc, 4)}')\n",
    "plt.plot([0, 1], [0, 1], color='gray', linestyle='--')  # Reference line\n",
    "plt.xlabel('False Positive Rate (FPR)')\n",
    "plt.ylabel('True Positive Rate (TPR)')\n",
    "plt.title('ROC Curve')\n",
    "plt.legend(loc='lower right')\n",
    "plt.grid(True)\n",
    "plt.show()\n",
    "\n",
    "# Results\n",
    "print(f'AUC-ROC Score: {round(auc_roc, 4)}')\n",
    "print(f'F1 Score: {round(f1, 4)}')"
   ]
  },
  {
   "cell_type": "markdown",
   "id": "fede9d22",
   "metadata": {},
   "source": [
    "**The model meets Beta Bank's expected goals, with an F1 score exceeding 0.5 and an AUC-ROC of 0.833, indicating good model performance.**"
   ]
  },
  {
   "cell_type": "code",
   "execution_count": 55,
   "id": "b1d8259d",
   "metadata": {},
   "outputs": [
    {
     "name": "stdout",
     "output_type": "stream",
     "text": [
      "Predicted total number of customers who will leave the bank: 455\n"
     ]
    }
   ],
   "source": [
    "# Initialize total variable\n",
    "total = 0\n",
    "\n",
    "# Create a loop to check each prediction in the test predictions\n",
    "for prediction in test_predictions:\n",
    "    if prediction == 1:\n",
    "        total += 1\n",
    "\n",
    "# Print the total number of predicted customers who will leave the bank\n",
    "print('Predicted total number of customers who will leave the bank:', total)"
   ]
  },
  {
   "cell_type": "markdown",
   "id": "231dee2d",
   "metadata": {},
   "source": [
    "### 4.4.1 Recommendations \n",
    "\n",
    "Approximately **22.75%** of the **2,000** customers in the test set, equivalent to **455 customers**, are predicted to leave the bank. This is a significant number, and **Beta Bank** should consider implementing targeted actions to retain these customers, such as personalized offers or closer follow-up to improve customer satisfaction."
   ]
  },
  {
   "cell_type": "markdown",
   "id": "070fd1e0",
   "metadata": {},
   "source": [
    "### 5. Conclusions\n",
    "\n",
    "The analysis conducted throughout the project for Beta Bank focused on predicting customer churn using different modeling techniques and adjustments to handle class imbalance in the dataset. \n",
    "\n",
    "**Data Description**: A **Churn dataframe** containing customer information and behavior was used. This dataset was crucial for training and evaluating the prediction models.\n",
    "\n",
    "**Data Preprocessing**: Transformations such as **One-Hot Encoding** for categorical features and data standardization were applied to ensure all features had equal importance in the models.\n",
    "\n",
    "**Class Imbalance**: The class distribution was highly imbalanced, with the negative class representing about 80% and the positive class only 20%. This imbalance affected the models' ability to adequately predict minority classes.\n",
    "\n",
    "**Modeling**:\n",
    "   - **Logistic Regression**: This model was evaluated without adjustments and with **Upsampling** and **Downsampling** techniques to address the class imbalance. Despite these adjustments, it did not achieve the desired performance in terms of **F1 score**.\n",
    "   - **Decision Tree**: Models were trained using **class_weight='balanced'**, as well as **Upsampling** and **Downsampling** techniques. While improvements were observed with **Upsampling**, the model did not outperform others.\n",
    "   - **Random Forest**: The **Random Forest** model with **Upsampling** demonstrated the best performance. Using a **maximum depth of 14** and **20 estimators**, it achieved an **F1 score of 0.5931**, meeting Beta Bank's minimum threshold for an acceptable model.\n",
    "\n",
    "**Best Model**: The **Random Forest with Upsampling** was the best-performing model in terms of **F1 score** and **AUC-ROC**, making it the most suitable option for predicting customer churn for Beta Bank.\n",
    "\n",
    "**Results Summary**:  \n",
    "The **RandomForestClassifier** model with a **maximum depth of 14** and **20 estimators** delivered the best overall performance, achieving an **F1 score of 0.613** and an **AUC-ROC score of 0.84274**, standing out as the most balanced model for handling class imbalance.  \n",
    "\n",
    "- The **DecisionTreeClassifier** showed acceptable performance with different depths but did not surpass Random Forest in terms of **F1 score** and **AUC-ROC**.  \n",
    "- Class balancing strategies, such as simple balancing, upsampling, and downsampling, improved Logistic Regression results but remained inferior to tree-based methods.  \n",
    "- This suggests that ensemble methods like Random Forest better capture complex relationships in imbalanced data and offer superior generalization. Hyperparameter tuning (depth and number of estimators) proved critical for maximizing performance.  \n",
    "\n",
    "While the **AUC-ROC score** was consistently high across models, indicating good ability to distinguish between classes, the **F1 score** provided a more realistic measure of the models' capability to handle the imbalance.  \n",
    "\n",
    "In conclusion, the **Random Forest model** trained with **Upsampling** is the best choice for Beta Bank, meeting the **F1 score** requirements and demonstrating robust overall performance in churn classification."
   ]
  }
 ],
 "metadata": {
  "kernelspec": {
   "display_name": "Python 3 (ipykernel)",
   "language": "python",
   "name": "python3"
  },
  "language_info": {
   "codemirror_mode": {
    "name": "ipython",
    "version": 3
   },
   "file_extension": ".py",
   "mimetype": "text/x-python",
   "name": "python",
   "nbconvert_exporter": "python",
   "pygments_lexer": "ipython3",
   "version": "3.12.3"
  },
  "toc": {
   "base_numbering": 1,
   "nav_menu": {},
   "number_sections": true,
   "sideBar": true,
   "skip_h1_title": false,
   "title_cell": "Table of Contents",
   "title_sidebar": "Contents",
   "toc_cell": false,
   "toc_position": {
    "height": "calc(100% - 180px)",
    "left": "10px",
    "top": "150px",
    "width": "187px"
   },
   "toc_section_display": true,
   "toc_window_display": false
  }
 },
 "nbformat": 4,
 "nbformat_minor": 5
}
