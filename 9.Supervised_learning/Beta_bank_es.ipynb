{
 "cells": [
  {
   "cell_type": "markdown",
   "id": "e184f37d",
   "metadata": {},
   "source": [
    "<p style=\"color: #000000; font-size: 32px; font-weight: bold; text-align: center; margin-top: 20px;\"> Predicción de la Deserción de Clientes en Beta Bank \n",
    "</p>\n",
    "<p style=\"color: #000000; font-size: 24px; text-align: center; margin-bottom: 20px;\">\n",
    "Optimización de F1 y Evaluación AUC-ROC\n",
    "</p>\n",
    "\n",
    "<hr style=\"border: .4px solid #000000; width: 55%; margin: 10px auto;\">\n",
    "\n",
    "<p style=\"color: #000000; font-size: 20px; font-weight: bold;\">Contexto:</p>\n",
    "<p style=\"color: #000000; font-size: 18px;\">\n",
    "Los clientes de Beta Bank están abandonando el banco gradualmente cada mes. Los banqueros han identificado que retener a los clientes actuales resulta más económico que captar nuevos.\n",
    "</p>\n",
    "<p style=\"color: #000000; font-size: 20px; font-weight: bold;\">Objetivo del Proyecto:</p>\n",
    "<p style=\"color: #000000; font-size: 18px;\">\n",
    "            El objetivo de este proyecto es predecir si un cliente de Beta Bank dejará el banco en el futuro cercano, utilizando los datos históricos del comportamiento de los clientes y la terminación de contratos.\n",
    "</p>\n",
    "\n",
    "<p style=\"color: #000000; font-size: 20px; font-weight: bold;\">Metas del Proyecto:</p>\n",
    "<ul style=\"color: #000000; font-size: 18px;\">\n",
    "<li><strong>Predecir la deserción de clientes:</strong> Crear un modelo que prediga si un cliente dejará el banco pronto.</li>\n",
    "<li><strong>Optimizar el valor F1:</strong> El modelo debe alcanzar un valor F1 de al menos 0.59 para ser aprobado.</li>\n",
    "<li><strong>Medir la métrica AUC-ROC:</strong> Evaluar la calidad del modelo utilizando la métrica AUC-ROC y compararla con el valor F1.</li>\n",
    "</ul>\n",
    "\n"
   ]
  },
  {
   "cell_type": "markdown",
   "id": "a5ad9ced",
   "metadata": {},
   "source": [
    "# 1.Descripción de los Datos\n",
    "\n",
    "### `Churn` dataframe: \n",
    "\n",
    "**`RowNumber`**: Índice de cadena de datos  \n",
    "**`CustomerId`**: Identificador de cliente único  \n",
    "**`Surname`**: Apellido  \n",
    "**`CreditScore`**: Valor de crédito  \n",
    "**`Geography`**: País de residencia  \n",
    "**`Gender`**: Sexo  \n",
    "**`Age`**: Edad  \n",
    "**`Tenure`**: Período durante el cual ha madurado el depósito a plazo fijo de un cliente (años)  \n",
    "**`Balance`**: Saldo de la cuenta  \n",
    "**`NumOfProducts`**: Número de productos bancarios utilizados por el cliente  \n",
    "**`HasCrCard`**: El cliente tiene una tarjeta de crédito (1 - sí; 0 - no)  \n",
    "**`IsActiveMember`**: Actividad del cliente (1 - sí; 0 - no)  \n",
    "**`EstimatedSalary`**: Salario estimado  \n",
    "\n",
    "**Columna objetivo**    \n",
    "**`Exited`**: El cliente se ha ido (1 - sí; 0 - no)"
   ]
  },
  {
   "cell_type": "markdown",
   "id": "c4778e67",
   "metadata": {},
   "source": [
    "# 2. Librerias y  Carga de  Datos"
   ]
  },
  {
   "cell_type": "code",
   "execution_count": 1,
   "id": "a51c07ec",
   "metadata": {},
   "outputs": [],
   "source": [
    "# Load libraries\n",
    "\n",
    "import pandas as pd\n",
    "import numpy as np\n",
    "import re\n",
    "import matplotlib.pyplot as plt \n",
    "import warnings\n",
    "warnings.filterwarnings('ignore')\n",
    "\n",
    "from sklearn.tree import DecisionTreeClassifier\n",
    "from sklearn.ensemble import RandomForestClassifier\n",
    "from sklearn.linear_model import LogisticRegression\n",
    "from sklearn.model_selection import train_test_split, GridSearchCV\n",
    "from sklearn.preprocessing import StandardScaler\n",
    "from sklearn.utils import shuffle\n",
    "from sklearn.metrics import recall_score, precision_score, f1_score\n",
    "from sklearn.metrics import roc_auc_score, roc_curve\n",
    "from imblearn.over_sampling import SMOTE"
   ]
  },
  {
   "cell_type": "code",
   "execution_count": 114,
   "id": "03a7105a",
   "metadata": {},
   "outputs": [
    {
     "name": "stdout",
     "output_type": "stream",
     "text": [
      "<class 'pandas.core.frame.DataFrame'>\n",
      "RangeIndex: 10000 entries, 0 to 9999\n",
      "Data columns (total 14 columns):\n",
      " #   Column           Non-Null Count  Dtype  \n",
      "---  ------           --------------  -----  \n",
      " 0   RowNumber        10000 non-null  int64  \n",
      " 1   CustomerId       10000 non-null  int64  \n",
      " 2   Surname          10000 non-null  object \n",
      " 3   CreditScore      10000 non-null  int64  \n",
      " 4   Geography        10000 non-null  object \n",
      " 5   Gender           10000 non-null  object \n",
      " 6   Age              10000 non-null  int64  \n",
      " 7   Tenure           9091 non-null   float64\n",
      " 8   Balance          10000 non-null  float64\n",
      " 9   NumOfProducts    10000 non-null  int64  \n",
      " 10  HasCrCard        10000 non-null  int64  \n",
      " 11  IsActiveMember   10000 non-null  int64  \n",
      " 12  EstimatedSalary  10000 non-null  float64\n",
      " 13  Exited           10000 non-null  int64  \n",
      "dtypes: float64(3), int64(8), object(3)\n",
      "memory usage: 1.1+ MB\n"
     ]
    }
   ],
   "source": [
    "# Load the data\n",
    "df = pd.read_csv('Churn.csv')\n",
    "df.info()"
   ]
  },
  {
   "cell_type": "code",
   "execution_count": 115,
   "id": "a7a1243c",
   "metadata": {},
   "outputs": [
    {
     "data": {
      "text/html": [
       "<div>\n",
       "<style scoped>\n",
       "    .dataframe tbody tr th:only-of-type {\n",
       "        vertical-align: middle;\n",
       "    }\n",
       "\n",
       "    .dataframe tbody tr th {\n",
       "        vertical-align: top;\n",
       "    }\n",
       "\n",
       "    .dataframe thead th {\n",
       "        text-align: right;\n",
       "    }\n",
       "</style>\n",
       "<table border=\"1\" class=\"dataframe\">\n",
       "  <thead>\n",
       "    <tr style=\"text-align: right;\">\n",
       "      <th></th>\n",
       "      <th>RowNumber</th>\n",
       "      <th>CustomerId</th>\n",
       "      <th>Surname</th>\n",
       "      <th>CreditScore</th>\n",
       "      <th>Geography</th>\n",
       "      <th>Gender</th>\n",
       "      <th>Age</th>\n",
       "      <th>Tenure</th>\n",
       "      <th>Balance</th>\n",
       "      <th>NumOfProducts</th>\n",
       "      <th>HasCrCard</th>\n",
       "      <th>IsActiveMember</th>\n",
       "      <th>EstimatedSalary</th>\n",
       "      <th>Exited</th>\n",
       "    </tr>\n",
       "  </thead>\n",
       "  <tbody>\n",
       "    <tr>\n",
       "      <th>0</th>\n",
       "      <td>1</td>\n",
       "      <td>15634602</td>\n",
       "      <td>Hargrave</td>\n",
       "      <td>619</td>\n",
       "      <td>France</td>\n",
       "      <td>Female</td>\n",
       "      <td>42</td>\n",
       "      <td>2.0</td>\n",
       "      <td>0.00</td>\n",
       "      <td>1</td>\n",
       "      <td>1</td>\n",
       "      <td>1</td>\n",
       "      <td>101348.88</td>\n",
       "      <td>1</td>\n",
       "    </tr>\n",
       "    <tr>\n",
       "      <th>1</th>\n",
       "      <td>2</td>\n",
       "      <td>15647311</td>\n",
       "      <td>Hill</td>\n",
       "      <td>608</td>\n",
       "      <td>Spain</td>\n",
       "      <td>Female</td>\n",
       "      <td>41</td>\n",
       "      <td>1.0</td>\n",
       "      <td>83807.86</td>\n",
       "      <td>1</td>\n",
       "      <td>0</td>\n",
       "      <td>1</td>\n",
       "      <td>112542.58</td>\n",
       "      <td>0</td>\n",
       "    </tr>\n",
       "    <tr>\n",
       "      <th>2</th>\n",
       "      <td>3</td>\n",
       "      <td>15619304</td>\n",
       "      <td>Onio</td>\n",
       "      <td>502</td>\n",
       "      <td>France</td>\n",
       "      <td>Female</td>\n",
       "      <td>42</td>\n",
       "      <td>8.0</td>\n",
       "      <td>159660.80</td>\n",
       "      <td>3</td>\n",
       "      <td>1</td>\n",
       "      <td>0</td>\n",
       "      <td>113931.57</td>\n",
       "      <td>1</td>\n",
       "    </tr>\n",
       "    <tr>\n",
       "      <th>3</th>\n",
       "      <td>4</td>\n",
       "      <td>15701354</td>\n",
       "      <td>Boni</td>\n",
       "      <td>699</td>\n",
       "      <td>France</td>\n",
       "      <td>Female</td>\n",
       "      <td>39</td>\n",
       "      <td>1.0</td>\n",
       "      <td>0.00</td>\n",
       "      <td>2</td>\n",
       "      <td>0</td>\n",
       "      <td>0</td>\n",
       "      <td>93826.63</td>\n",
       "      <td>0</td>\n",
       "    </tr>\n",
       "    <tr>\n",
       "      <th>4</th>\n",
       "      <td>5</td>\n",
       "      <td>15737888</td>\n",
       "      <td>Mitchell</td>\n",
       "      <td>850</td>\n",
       "      <td>Spain</td>\n",
       "      <td>Female</td>\n",
       "      <td>43</td>\n",
       "      <td>2.0</td>\n",
       "      <td>125510.82</td>\n",
       "      <td>1</td>\n",
       "      <td>1</td>\n",
       "      <td>1</td>\n",
       "      <td>79084.10</td>\n",
       "      <td>0</td>\n",
       "    </tr>\n",
       "  </tbody>\n",
       "</table>\n",
       "</div>"
      ],
      "text/plain": [
       "   RowNumber  CustomerId   Surname  CreditScore Geography  Gender  Age  \\\n",
       "0          1    15634602  Hargrave          619    France  Female   42   \n",
       "1          2    15647311      Hill          608     Spain  Female   41   \n",
       "2          3    15619304      Onio          502    France  Female   42   \n",
       "3          4    15701354      Boni          699    France  Female   39   \n",
       "4          5    15737888  Mitchell          850     Spain  Female   43   \n",
       "\n",
       "   Tenure    Balance  NumOfProducts  HasCrCard  IsActiveMember  \\\n",
       "0     2.0       0.00              1          1               1   \n",
       "1     1.0   83807.86              1          0               1   \n",
       "2     8.0  159660.80              3          1               0   \n",
       "3     1.0       0.00              2          0               0   \n",
       "4     2.0  125510.82              1          1               1   \n",
       "\n",
       "   EstimatedSalary  Exited  \n",
       "0        101348.88       1  \n",
       "1        112542.58       0  \n",
       "2        113931.57       1  \n",
       "3         93826.63       0  \n",
       "4         79084.10       0  "
      ]
     },
     "execution_count": 115,
     "metadata": {},
     "output_type": "execute_result"
    }
   ],
   "source": [
    "df.head()"
   ]
  },
  {
   "cell_type": "markdown",
   "id": "897f2b09",
   "metadata": {},
   "source": [
    "**Revisión inicial del dataframe**:\n",
    "\n",
    "- El DataFrame tiene **10,000 filas** y **14 columnas**.  \n",
    "\n",
    "- Los dtypes concuerdan con el nombre y la descripción de las columnas, con la exepcion de 'tenure', la cual se convertirá a int64, además en este caso es necesario convertir las columnas categóricas a numéricas con la **función get_dummies** de pandas.\n",
    "\n",
    "- La única columna **`Tenure`** quetiene valores nulos, con un total de **909 datos nulos**.  \n",
    "\n",
    "- De acuero a las mejores prácticas de código en Python, los nombres de variables y funciones deben estar en el formato **snake_case**, se haran las adecuaciones en los nombres. \n",
    "\n",
    "- Se **eliminaran** las columnas innecesarias como 'RowNumber','CustomerId' y 'Surname'\n",
    "\n",
    "Además, se analizaran los datos para verificar si existen duplicados, y  se realizará un análisis para asegurar que los valores en las columnas sean consistentes, estén correctamente escritos y tengan sentido lógico. Esto incluye revisar valores atípicos, errores tipográficos, al igual que las columnas duplicadas."
   ]
  },
  {
   "cell_type": "markdown",
   "id": "61428fad",
   "metadata": {},
   "source": [
    "# 3. Preprocesamiento de datos"
   ]
  },
  {
   "cell_type": "code",
   "execution_count": 116,
   "id": "362fb83b",
   "metadata": {},
   "outputs": [],
   "source": [
    "# Delete columns 'RowNumber','CustomerId','Surname'\n",
    "df = df.drop(['RowNumber','CustomerId','Surname'],axis=1)"
   ]
  },
  {
   "cell_type": "code",
   "execution_count": 117,
   "id": "42dbae93",
   "metadata": {},
   "outputs": [
    {
     "name": "stdout",
     "output_type": "stream",
     "text": [
      "Column names in snake_case:\n",
      " ['credit_score', 'geography', 'gender', 'age', 'tenure', 'balance', 'num_of_products', 'has_cr_card', 'is_active_member', 'estimated_salary', 'exited']\n"
     ]
    }
   ],
   "source": [
    "# Change column names to snake_case\n",
    "df.columns = [re.sub(r'([a-z0-9])([A-Z])', r'\\1_\\2', col).lower() for col in df.columns]\n",
    "print('Column names in snake_case:\\n', df.columns.tolist())"
   ]
  },
  {
   "cell_type": "code",
   "execution_count": 118,
   "id": "7bd243ca",
   "metadata": {},
   "outputs": [
    {
     "name": "stdout",
     "output_type": "stream",
     "text": [
      "Total duplicates in DataFrame: 0\n"
     ]
    }
   ],
   "source": [
    "# Count the number of duplicate rows in the DataFrame\n",
    "print('Total duplicates in DataFrame:', df.duplicated().sum())"
   ]
  },
  {
   "cell_type": "markdown",
   "id": "b8a9361a",
   "metadata": {},
   "source": [
    "En la columna **`tenure`** hay un total de 9.09% valores ausentes, un porcentaje considerable para descartarlos. Tenure es el período durante el cual ha madurado el depósito a plazo fijo de un cliente (años), entonces los valures ausentes pueden significar que no tienen uno, lo que me llevar a rellenar los valores ausentes con 0.\n"
   ]
  },
  {
   "cell_type": "code",
   "execution_count": 119,
   "id": "72a91394",
   "metadata": {},
   "outputs": [
    {
     "name": "stdout",
     "output_type": "stream",
     "text": [
      "Missing values in 'tenure': 0\n"
     ]
    }
   ],
   "source": [
    "# Fill out NAs with 0\n",
    "df['tenure'] = df['tenure'].fillna(0)  \n",
    "# Count missing values in the 'tenure' column\n",
    "missing_values = df['tenure'].isnull().sum()\n",
    "# Result\n",
    "print(f\"Missing values in 'tenure': {missing_values}\")"
   ]
  },
  {
   "cell_type": "code",
   "execution_count": 120,
   "id": "3bf1f9c2",
   "metadata": {},
   "outputs": [
    {
     "name": "stdout",
     "output_type": "stream",
     "text": [
      "'tenure' dtype: int64\n"
     ]
    }
   ],
   "source": [
    "# Convert dtype\n",
    "df['tenure'] = df['tenure'].astype(int)\n",
    "print(\"'tenure' dtype:\", df['tenure'].dtype)\n"
   ]
  },
  {
   "cell_type": "markdown",
   "id": "a9089240",
   "metadata": {},
   "source": [
    "Las columnas **`geography`** y **`gender`** seran examindas en busqueda de valores atípicos. "
   ]
  },
  {
   "cell_type": "code",
   "execution_count": 121,
   "id": "cffac58a",
   "metadata": {},
   "outputs": [
    {
     "name": "stdout",
     "output_type": "stream",
     "text": [
      "Unique entries in 'geography' column: ['France' 'Spain' 'Germany']\n"
     ]
    }
   ],
   "source": [
    "print(\"Unique entries in 'geography' column:\", df['geography'].unique())"
   ]
  },
  {
   "cell_type": "code",
   "execution_count": 122,
   "id": "9bf235a6",
   "metadata": {},
   "outputs": [
    {
     "name": "stdout",
     "output_type": "stream",
     "text": [
      "Unique entries in 'gender' column: ['Female' 'Male']\n"
     ]
    }
   ],
   "source": [
    "print(\"Unique entries in 'gender' column:\", df['gender'].unique())"
   ]
  },
  {
   "cell_type": "markdown",
   "id": "26cbc9e6",
   "metadata": {},
   "source": [
    "La **`función get_dummies`** de pandas es utilizada para convertir variables categóricas en variables numéricas.    \n",
    "Es un proceso conocido como **one-hot encoding**. Será utilizada para convertir las columas **`geography`** y **`gender`** . \n",
    "Para evitar la **dummy trap** se debe usar `drop_first=True` al crear las variables dummy, eliminando una categoría y evitando la multicolinealidad."
   ]
  },
  {
   "cell_type": "code",
   "execution_count": 123,
   "id": "0a9ef88f",
   "metadata": {
    "scrolled": true
   },
   "outputs": [],
   "source": [
    "df = pd.get_dummies(df, columns=['geography', 'gender'], drop_first=True)\n",
    "df = df.astype(int) # convert dummy columns to integer type (1 and 0)"
   ]
  },
  {
   "cell_type": "code",
   "execution_count": 124,
   "id": "291d1392",
   "metadata": {},
   "outputs": [
    {
     "data": {
      "text/html": [
       "<div>\n",
       "<style scoped>\n",
       "    .dataframe tbody tr th:only-of-type {\n",
       "        vertical-align: middle;\n",
       "    }\n",
       "\n",
       "    .dataframe tbody tr th {\n",
       "        vertical-align: top;\n",
       "    }\n",
       "\n",
       "    .dataframe thead th {\n",
       "        text-align: right;\n",
       "    }\n",
       "</style>\n",
       "<table border=\"1\" class=\"dataframe\">\n",
       "  <thead>\n",
       "    <tr style=\"text-align: right;\">\n",
       "      <th></th>\n",
       "      <th>credit_score</th>\n",
       "      <th>age</th>\n",
       "      <th>tenure</th>\n",
       "      <th>balance</th>\n",
       "      <th>num_of_products</th>\n",
       "      <th>has_cr_card</th>\n",
       "      <th>is_active_member</th>\n",
       "      <th>estimated_salary</th>\n",
       "      <th>exited</th>\n",
       "      <th>geo_germany</th>\n",
       "      <th>geo_spain</th>\n",
       "      <th>gen_male</th>\n",
       "    </tr>\n",
       "  </thead>\n",
       "  <tbody>\n",
       "    <tr>\n",
       "      <th>0</th>\n",
       "      <td>619</td>\n",
       "      <td>42</td>\n",
       "      <td>2</td>\n",
       "      <td>0</td>\n",
       "      <td>1</td>\n",
       "      <td>1</td>\n",
       "      <td>1</td>\n",
       "      <td>101348</td>\n",
       "      <td>1</td>\n",
       "      <td>0</td>\n",
       "      <td>0</td>\n",
       "      <td>0</td>\n",
       "    </tr>\n",
       "    <tr>\n",
       "      <th>1</th>\n",
       "      <td>608</td>\n",
       "      <td>41</td>\n",
       "      <td>1</td>\n",
       "      <td>83807</td>\n",
       "      <td>1</td>\n",
       "      <td>0</td>\n",
       "      <td>1</td>\n",
       "      <td>112542</td>\n",
       "      <td>0</td>\n",
       "      <td>0</td>\n",
       "      <td>1</td>\n",
       "      <td>0</td>\n",
       "    </tr>\n",
       "    <tr>\n",
       "      <th>2</th>\n",
       "      <td>502</td>\n",
       "      <td>42</td>\n",
       "      <td>8</td>\n",
       "      <td>159660</td>\n",
       "      <td>3</td>\n",
       "      <td>1</td>\n",
       "      <td>0</td>\n",
       "      <td>113931</td>\n",
       "      <td>1</td>\n",
       "      <td>0</td>\n",
       "      <td>0</td>\n",
       "      <td>0</td>\n",
       "    </tr>\n",
       "    <tr>\n",
       "      <th>3</th>\n",
       "      <td>699</td>\n",
       "      <td>39</td>\n",
       "      <td>1</td>\n",
       "      <td>0</td>\n",
       "      <td>2</td>\n",
       "      <td>0</td>\n",
       "      <td>0</td>\n",
       "      <td>93826</td>\n",
       "      <td>0</td>\n",
       "      <td>0</td>\n",
       "      <td>0</td>\n",
       "      <td>0</td>\n",
       "    </tr>\n",
       "    <tr>\n",
       "      <th>4</th>\n",
       "      <td>850</td>\n",
       "      <td>43</td>\n",
       "      <td>2</td>\n",
       "      <td>125510</td>\n",
       "      <td>1</td>\n",
       "      <td>1</td>\n",
       "      <td>1</td>\n",
       "      <td>79084</td>\n",
       "      <td>0</td>\n",
       "      <td>0</td>\n",
       "      <td>1</td>\n",
       "      <td>0</td>\n",
       "    </tr>\n",
       "  </tbody>\n",
       "</table>\n",
       "</div>"
      ],
      "text/plain": [
       "   credit_score  age  tenure  balance  num_of_products  has_cr_card  \\\n",
       "0           619   42       2        0                1            1   \n",
       "1           608   41       1    83807                1            0   \n",
       "2           502   42       8   159660                3            1   \n",
       "3           699   39       1        0                2            0   \n",
       "4           850   43       2   125510                1            1   \n",
       "\n",
       "   is_active_member  estimated_salary  exited  geo_germany  geo_spain  \\\n",
       "0                 1            101348       1            0          0   \n",
       "1                 1            112542       0            0          1   \n",
       "2                 0            113931       1            0          0   \n",
       "3                 0             93826       0            0          0   \n",
       "4                 1             79084       0            0          1   \n",
       "\n",
       "   gen_male  \n",
       "0         0  \n",
       "1         0  \n",
       "2         0  \n",
       "3         0  \n",
       "4         0  "
      ]
     },
     "execution_count": 124,
     "metadata": {},
     "output_type": "execute_result"
    }
   ],
   "source": [
    "df.columns = df.columns.str.lower() # convert to lowercase\n",
    "df.columns = df.columns.str.replace('geography_', 'geo_').str.replace('gender_', 'gen_') # shorter names\n",
    "df.head()"
   ]
  },
  {
   "cell_type": "markdown",
   "id": "841128c6",
   "metadata": {},
   "source": [
    "Para una mayor claridad, en la columna **`geography_germany`** el **0** corresponde a `France`, y el **1** a `Germany`, y en la columna  **`geography_spain`** el **1** a `Spain`. En **`gender_male`** el **0** corresponde a `Male` y el **1** a `Female`.\n",
    "\n",
    "Ahora vamos a pasar a la siguiente etapa del proyecto: **`Modelado`**. En esta fase, prepararemos los conjuntos de datos de entrenamiento, validación y prueba. "
   ]
  },
  {
   "cell_type": "markdown",
   "id": "e64f4e8b",
   "metadata": {},
   "source": [
    "# 4. Modelado\n",
    "\n",
    "La meta es entrenar el modelo, validarlo y luego realizar pruebas finales sobre él. Para ello, necesitamos 3 conjuntos de datos separados. Dado que Beta Bank solo ha proporcionado un conjunto de datos, este se dividirá en tres partes: un conjunto de entrenamiento, un conjunto de validación y un conjunto de prueba. Una proporción común para dividir los datos es 3:1:1, donde el conjunto de entrenamiento contiene el 60% de los datos, y tanto el conjunto de validación como el de prueba contienen el 20% de los datos.    \n",
    "Para hacer esta división, utilizaremos la función **`train_test_split`** de la biblioteca **`sklearn.model_selection`**.   \n",
    "El siguiente bloque de código dividirá el conjunto de datos original en estos tres conjuntos\n"
   ]
  },
  {
   "cell_type": "code",
   "execution_count": 125,
   "id": "e65b4764",
   "metadata": {},
   "outputs": [],
   "source": [
    "# Crear el conjunto de datos de destino (target) seleccionando la columna 'Exited'\n",
    "target = df['exited']  # Variable objetivo que queremos predecir\n",
    "\n",
    "# Crear el conjunto de datos de características (features) eliminando la columna 'Exited'\n",
    "features = df.drop('exited', axis=1)  # para que el conjunto de características contenga solo las variables predictoras"
   ]
  },
  {
   "cell_type": "code",
   "execution_count": 126,
   "id": "f664c100",
   "metadata": {},
   "outputs": [],
   "source": [
    "# Dividir el conjunto de características y el objetivo en conjuntos de entrenamiento (60%) y el resto (40%)\n",
    "\n",
    "# 'features_train' y 'target_train' contienen el 60% de los datos para el entrenamiento\n",
    "features_train, features_other, target_train, target_other = train_test_split(\n",
    "    features, target, test_size=0.4, random_state=12345\n",
    ")  \n",
    "# 'features_other' y 'target_other' contienen el 40%, que se dividirá en validación y prueba\n",
    "features_valid, features_test, target_valid, target_test = train_test_split(\n",
    "    features_other, target_other, test_size=0.5, random_state=12345\n",
    ")"
   ]
  },
  {
   "cell_type": "markdown",
   "id": "19b51e3e",
   "metadata": {},
   "source": [
    "**`test_size=0.4`** asigna el 40% (4,000 filas) a validación/prueba y deja el 60% (6,000 filas) para entrenamiento.  \n",
    "**`test_size=0.5`** divide ese 40% restante (4,000 filas) en dos partes iguales: 20% (2,000 filas) para validación y 20% (2,000 filas) para prueba.  \n",
    "**`random_state=12345`** asegura que las divisiones sean siempre iguales al ejecutar el código."
   ]
  },
  {
   "cell_type": "code",
   "execution_count": 127,
   "id": "559dc9c4",
   "metadata": {},
   "outputs": [
    {
     "name": "stdout",
     "output_type": "stream",
     "text": [
      "Dimensiones del conjunto de entrenamiento (features_train): (6000, 11)\n",
      "Dimensiones del conjunto de entrenamiento (target_train): (6000,)\n",
      "Dimensiones del conjunto de validación (features_valid): (2000, 11)\n",
      "Dimensiones del conjunto de validación (target_valid): (2000,)\n",
      "Dimensiones del conjunto de prueba (features_test): (2000, 11)\n",
      "Dimensiones del conjunto de prueba (target_test): (2000,)\n"
     ]
    }
   ],
   "source": [
    "# Se verifica que las divisiones se han creado correctamente\n",
    "\n",
    "# Ver el shape del conjunto de entrenamiento (60%)\n",
    "print('Dimensiones del conjunto de entrenamiento (features_train):', features_train.shape)\n",
    "print('Dimensiones del conjunto de entrenamiento (target_train):', target_train.shape)\n",
    "\n",
    "# Ver el shape del conjunto de validación (20%)\n",
    "print('Dimensiones del conjunto de validación (features_valid):', features_valid.shape)\n",
    "print('Dimensiones del conjunto de validación (target_valid):', target_valid.shape)\n",
    "\n",
    "# Ver el shape del conjunto de prueba (20%)\n",
    "print('Dimensiones del conjunto de prueba (features_test):', features_test.shape)\n",
    "print('Dimensiones del conjunto de prueba (target_test):', target_test.shape)"
   ]
  },
  {
   "cell_type": "markdown",
   "id": "ca0ec4fb",
   "metadata": {},
   "source": [
    "Después de la división de datos, es importante verificar si la distribución de las clases está equilibrada o desequilibrada en los tres conjuntos de datos. "
   ]
  },
  {
   "cell_type": "markdown",
   "id": "3cdeebb1",
   "metadata": {},
   "source": [
    "### Distribución de clases "
   ]
  },
  {
   "cell_type": "code",
   "execution_count": 128,
   "id": "1697537d",
   "metadata": {},
   "outputs": [
    {
     "name": "stdout",
     "output_type": "stream",
     "text": [
      "ENTRENAMIENTO\n",
      "Balance de clase negativa: 80.067%\n",
      "Balance de clase positiva: 19.933%\n",
      "\n",
      "VALIDACIÓN\n",
      "Balance de clase negativa: 79.1%\n",
      "Balance de clase positiva: 20.9%\n",
      "\n",
      "PRUEBA\n",
      "Balance de clase negativa: 78.85%\n",
      "Balance de clase positiva: 21.15%\n"
     ]
    }
   ],
   "source": [
    "# Balance de clases para el conjunto de datos de entrenamiento\n",
    "print('ENTRENAMIENTO')\n",
    "print(f'Balance de clase negativa: {round(target_train[target_train == 0].count() * 100 / len(target_train), 3)}%') \n",
    "print(f'Balance de clase positiva: {round(target_train[target_train == 1].count() * 100 / len(target_train), 3)}%\\n') \n",
    "\n",
    "# Balance de clases para el conjunto de datos de validación\n",
    "print('VALIDACIÓN')\n",
    "print(f'Balance de clase negativa: {round(target_valid[target_valid == 0].count() * 100 / len(target_valid), 3)}%') \n",
    "print(f'Balance de clase positiva: {round(target_valid[target_valid == 1].count() * 100 / len(target_valid), 3)}%\\n') \n",
    "\n",
    "# Balance de clases para el conjunto de datos de prueba\n",
    "print('PRUEBA')\n",
    "print(f'Balance de clase negativa: {round(target_test[target_test == 0].count() * 100 / len(target_test), 3)}%') \n",
    "print(f'Balance de clase positiva: {round(target_test[target_test == 1].count() * 100 / len(target_test), 3)}%')"
   ]
  },
  {
   "cell_type": "markdown",
   "id": "a29469ea",
   "metadata": {},
   "source": [
    "El conjunto de datos muestra un desequilibrio de clases, donde la **clase negativa representa aproximadamente el 80%** y la **clase positiva el 20%** en los conjuntos de entrenamiento, validación y prueba.\n",
    "Estas cifras muestran el desequilibrio entre las clases en los conjuntos de datos de entrenamiento, validación y prueba:\n",
    "- **Clase negativa**: porcentaje de instancias etiquetadas como clase negativa (ej. 0 o \"no\").\n",
    "- **Clase positiva**: porcentaje de instancias etiquetadas como clase positiva (ej. 1 o \"sí\").\n",
    "\n",
    "Esto indica un **desequilibrio de clases**, donde la clase negativa es mucho más frecuente. Esto puede hacer que el modelo se incline a predecir más la clase negativa, por lo que es importante usar técnicas para manejar el desbalance, como el sobremuestreo de la clase positiva o el uso de algoritmos que ajusten el peso de las clases.\n",
    "Antes del entrenamiento, debemos estandarizar los datos para tratar cada característica por igual utilizando la clase  **`StandardScaler`** del módulo  **`sklearn.preprocessing`**, lo que se hace en el siguiente paso."
   ]
  },
  {
   "cell_type": "code",
   "execution_count": 129,
   "id": "d1aa8764",
   "metadata": {},
   "outputs": [],
   "source": [
    "# Seleccionar las columnas numéricas del DataFrame\n",
    "numeric = ['credit_score', 'age', 'tenure', 'balance', 'num_of_products', 'estimated_salary']\n",
    "\n",
    "# Inicializar el StandardScaler\n",
    "scaler = StandardScaler()\n",
    "\n",
    "# Ajustar el scaler solo con el conjunto de entrenamiento\n",
    "scaler.fit(features_train[numeric])\n",
    "\n",
    "# Transformar los datos de entrenamiento usando el scaler ajustado\n",
    "features_train.loc[:, numeric] = scaler.transform(features_train.loc[:, numeric])\n",
    "\n",
    "# Transformar los datos de validación y prueba usando los parámetros del conjunto de entrenamiento\n",
    "features_valid.loc[:, numeric] = scaler.transform(features_valid.loc[:, numeric])\n",
    "features_test.loc[:, numeric] = scaler.transform(features_test.loc[:, numeric])"
   ]
  },
  {
   "cell_type": "code",
   "execution_count": 130,
   "id": "e56ab3dc",
   "metadata": {},
   "outputs": [
    {
     "name": "stdout",
     "output_type": "stream",
     "text": [
      "Estadísticas del conjunto de entrenamiento (features_train):\n"
     ]
    },
    {
     "data": {
      "text/html": [
       "<div>\n",
       "<style scoped>\n",
       "    .dataframe tbody tr th:only-of-type {\n",
       "        vertical-align: middle;\n",
       "    }\n",
       "\n",
       "    .dataframe tbody tr th {\n",
       "        vertical-align: top;\n",
       "    }\n",
       "\n",
       "    .dataframe thead th {\n",
       "        text-align: right;\n",
       "    }\n",
       "</style>\n",
       "<table border=\"1\" class=\"dataframe\">\n",
       "  <thead>\n",
       "    <tr style=\"text-align: right;\">\n",
       "      <th></th>\n",
       "      <th>credit_score</th>\n",
       "      <th>age</th>\n",
       "      <th>tenure</th>\n",
       "      <th>balance</th>\n",
       "      <th>num_of_products</th>\n",
       "      <th>estimated_salary</th>\n",
       "    </tr>\n",
       "  </thead>\n",
       "  <tbody>\n",
       "    <tr>\n",
       "      <th>count</th>\n",
       "      <td>6.000000e+03</td>\n",
       "      <td>6.000000e+03</td>\n",
       "      <td>6.000000e+03</td>\n",
       "      <td>6.000000e+03</td>\n",
       "      <td>6.000000e+03</td>\n",
       "      <td>6.000000e+03</td>\n",
       "    </tr>\n",
       "    <tr>\n",
       "      <th>mean</th>\n",
       "      <td>-4.553395e-16</td>\n",
       "      <td>9.710751e-17</td>\n",
       "      <td>1.397401e-16</td>\n",
       "      <td>3.789561e-17</td>\n",
       "      <td>-5.329071e-17</td>\n",
       "      <td>8.052818e-17</td>\n",
       "    </tr>\n",
       "    <tr>\n",
       "      <th>std</th>\n",
       "      <td>1.000083e+00</td>\n",
       "      <td>1.000083e+00</td>\n",
       "      <td>1.000083e+00</td>\n",
       "      <td>1.000083e+00</td>\n",
       "      <td>1.000083e+00</td>\n",
       "      <td>1.000083e+00</td>\n",
       "    </tr>\n",
       "    <tr>\n",
       "      <th>min</th>\n",
       "      <td>-3.140255e+00</td>\n",
       "      <td>-1.986549e+00</td>\n",
       "      <td>-1.468729e+00</td>\n",
       "      <td>-1.233162e+00</td>\n",
       "      <td>-8.915599e-01</td>\n",
       "      <td>-1.723000e+00</td>\n",
       "    </tr>\n",
       "    <tr>\n",
       "      <th>25%</th>\n",
       "      <td>-6.894392e-01</td>\n",
       "      <td>-6.579018e-01</td>\n",
       "      <td>-8.253725e-01</td>\n",
       "      <td>-1.233162e+00</td>\n",
       "      <td>-8.915599e-01</td>\n",
       "      <td>-8.642681e-01</td>\n",
       "    </tr>\n",
       "    <tr>\n",
       "      <th>50%</th>\n",
       "      <td>2.192061e-02</td>\n",
       "      <td>-1.833849e-01</td>\n",
       "      <td>1.396619e-01</td>\n",
       "      <td>3.262444e-01</td>\n",
       "      <td>-8.915599e-01</td>\n",
       "      <td>1.114228e-02</td>\n",
       "    </tr>\n",
       "    <tr>\n",
       "      <th>75%</th>\n",
       "      <td>6.709715e-01</td>\n",
       "      <td>4.809386e-01</td>\n",
       "      <td>7.830182e-01</td>\n",
       "      <td>8.219482e-01</td>\n",
       "      <td>8.301522e-01</td>\n",
       "      <td>8.485936e-01</td>\n",
       "    </tr>\n",
       "    <tr>\n",
       "      <th>max</th>\n",
       "      <td>2.052152e+00</td>\n",
       "      <td>5.036300e+00</td>\n",
       "      <td>1.748053e+00</td>\n",
       "      <td>2.806172e+00</td>\n",
       "      <td>4.273576e+00</td>\n",
       "      <td>1.739050e+00</td>\n",
       "    </tr>\n",
       "  </tbody>\n",
       "</table>\n",
       "</div>"
      ],
      "text/plain": [
       "       credit_score           age        tenure       balance  \\\n",
       "count  6.000000e+03  6.000000e+03  6.000000e+03  6.000000e+03   \n",
       "mean  -4.553395e-16  9.710751e-17  1.397401e-16  3.789561e-17   \n",
       "std    1.000083e+00  1.000083e+00  1.000083e+00  1.000083e+00   \n",
       "min   -3.140255e+00 -1.986549e+00 -1.468729e+00 -1.233162e+00   \n",
       "25%   -6.894392e-01 -6.579018e-01 -8.253725e-01 -1.233162e+00   \n",
       "50%    2.192061e-02 -1.833849e-01  1.396619e-01  3.262444e-01   \n",
       "75%    6.709715e-01  4.809386e-01  7.830182e-01  8.219482e-01   \n",
       "max    2.052152e+00  5.036300e+00  1.748053e+00  2.806172e+00   \n",
       "\n",
       "       num_of_products  estimated_salary  \n",
       "count     6.000000e+03      6.000000e+03  \n",
       "mean     -5.329071e-17      8.052818e-17  \n",
       "std       1.000083e+00      1.000083e+00  \n",
       "min      -8.915599e-01     -1.723000e+00  \n",
       "25%      -8.915599e-01     -8.642681e-01  \n",
       "50%      -8.915599e-01      1.114228e-02  \n",
       "75%       8.301522e-01      8.485936e-01  \n",
       "max       4.273576e+00      1.739050e+00  "
      ]
     },
     "metadata": {},
     "output_type": "display_data"
    },
    {
     "name": "stdout",
     "output_type": "stream",
     "text": [
      "\n",
      "Estadísticas del conjunto de validación (features_valid):\n"
     ]
    },
    {
     "data": {
      "text/html": [
       "<div>\n",
       "<style scoped>\n",
       "    .dataframe tbody tr th:only-of-type {\n",
       "        vertical-align: middle;\n",
       "    }\n",
       "\n",
       "    .dataframe tbody tr th {\n",
       "        vertical-align: top;\n",
       "    }\n",
       "\n",
       "    .dataframe thead th {\n",
       "        text-align: right;\n",
       "    }\n",
       "</style>\n",
       "<table border=\"1\" class=\"dataframe\">\n",
       "  <thead>\n",
       "    <tr style=\"text-align: right;\">\n",
       "      <th></th>\n",
       "      <th>credit_score</th>\n",
       "      <th>age</th>\n",
       "      <th>tenure</th>\n",
       "      <th>balance</th>\n",
       "      <th>num_of_products</th>\n",
       "      <th>estimated_salary</th>\n",
       "    </tr>\n",
       "  </thead>\n",
       "  <tbody>\n",
       "    <tr>\n",
       "      <th>count</th>\n",
       "      <td>2000.000000</td>\n",
       "      <td>2000.000000</td>\n",
       "      <td>2000.000000</td>\n",
       "      <td>2000.000000</td>\n",
       "      <td>2000.000000</td>\n",
       "      <td>2000.000000</td>\n",
       "    </tr>\n",
       "    <tr>\n",
       "      <th>mean</th>\n",
       "      <td>-0.054911</td>\n",
       "      <td>-0.001076</td>\n",
       "      <td>-0.052702</td>\n",
       "      <td>0.012940</td>\n",
       "      <td>0.051938</td>\n",
       "      <td>0.028253</td>\n",
       "    </tr>\n",
       "    <tr>\n",
       "      <th>std</th>\n",
       "      <td>1.002073</td>\n",
       "      <td>1.016118</td>\n",
       "      <td>0.996434</td>\n",
       "      <td>1.009242</td>\n",
       "      <td>1.008146</td>\n",
       "      <td>1.003187</td>\n",
       "    </tr>\n",
       "    <tr>\n",
       "      <th>min</th>\n",
       "      <td>-2.984483</td>\n",
       "      <td>-1.986549</td>\n",
       "      <td>-1.468729</td>\n",
       "      <td>-1.233162</td>\n",
       "      <td>-0.891560</td>\n",
       "      <td>-1.721632</td>\n",
       "    </tr>\n",
       "    <tr>\n",
       "      <th>25%</th>\n",
       "      <td>-0.762133</td>\n",
       "      <td>-0.657902</td>\n",
       "      <td>-0.825373</td>\n",
       "      <td>-1.233162</td>\n",
       "      <td>-0.891560</td>\n",
       "      <td>-0.838978</td>\n",
       "    </tr>\n",
       "    <tr>\n",
       "      <th>50%</th>\n",
       "      <td>-0.035196</td>\n",
       "      <td>-0.183385</td>\n",
       "      <td>-0.182016</td>\n",
       "      <td>0.358290</td>\n",
       "      <td>0.830152</td>\n",
       "      <td>0.007237</td>\n",
       "    </tr>\n",
       "    <tr>\n",
       "      <th>75%</th>\n",
       "      <td>0.660587</td>\n",
       "      <td>0.480939</td>\n",
       "      <td>0.783018</td>\n",
       "      <td>0.829414</td>\n",
       "      <td>0.830152</td>\n",
       "      <td>0.916203</td>\n",
       "    </tr>\n",
       "    <tr>\n",
       "      <th>max</th>\n",
       "      <td>2.052152</td>\n",
       "      <td>5.036300</td>\n",
       "      <td>1.748053</td>\n",
       "      <td>2.604751</td>\n",
       "      <td>4.273576</td>\n",
       "      <td>1.740106</td>\n",
       "    </tr>\n",
       "  </tbody>\n",
       "</table>\n",
       "</div>"
      ],
      "text/plain": [
       "       credit_score          age       tenure      balance  num_of_products  \\\n",
       "count   2000.000000  2000.000000  2000.000000  2000.000000      2000.000000   \n",
       "mean      -0.054911    -0.001076    -0.052702     0.012940         0.051938   \n",
       "std        1.002073     1.016118     0.996434     1.009242         1.008146   \n",
       "min       -2.984483    -1.986549    -1.468729    -1.233162        -0.891560   \n",
       "25%       -0.762133    -0.657902    -0.825373    -1.233162        -0.891560   \n",
       "50%       -0.035196    -0.183385    -0.182016     0.358290         0.830152   \n",
       "75%        0.660587     0.480939     0.783018     0.829414         0.830152   \n",
       "max        2.052152     5.036300     1.748053     2.604751         4.273576   \n",
       "\n",
       "       estimated_salary  \n",
       "count       2000.000000  \n",
       "mean           0.028253  \n",
       "std            1.003187  \n",
       "min           -1.721632  \n",
       "25%           -0.838978  \n",
       "50%            0.007237  \n",
       "75%            0.916203  \n",
       "max            1.740106  "
      ]
     },
     "metadata": {},
     "output_type": "display_data"
    },
    {
     "name": "stdout",
     "output_type": "stream",
     "text": [
      "\n",
      "Estadísticas del conjunto de prueba (features_test):\n"
     ]
    },
    {
     "data": {
      "text/html": [
       "<div>\n",
       "<style scoped>\n",
       "    .dataframe tbody tr th:only-of-type {\n",
       "        vertical-align: middle;\n",
       "    }\n",
       "\n",
       "    .dataframe tbody tr th {\n",
       "        vertical-align: top;\n",
       "    }\n",
       "\n",
       "    .dataframe thead th {\n",
       "        text-align: right;\n",
       "    }\n",
       "</style>\n",
       "<table border=\"1\" class=\"dataframe\">\n",
       "  <thead>\n",
       "    <tr style=\"text-align: right;\">\n",
       "      <th></th>\n",
       "      <th>credit_score</th>\n",
       "      <th>age</th>\n",
       "      <th>tenure</th>\n",
       "      <th>balance</th>\n",
       "      <th>num_of_products</th>\n",
       "      <th>estimated_salary</th>\n",
       "    </tr>\n",
       "  </thead>\n",
       "  <tbody>\n",
       "    <tr>\n",
       "      <th>count</th>\n",
       "      <td>2000.000000</td>\n",
       "      <td>2000.000000</td>\n",
       "      <td>2000.000000</td>\n",
       "      <td>2000.000000</td>\n",
       "      <td>2000.000000</td>\n",
       "      <td>2000.000000</td>\n",
       "    </tr>\n",
       "    <tr>\n",
       "      <th>mean</th>\n",
       "      <td>-0.041686</td>\n",
       "      <td>-0.003923</td>\n",
       "      <td>0.016620</td>\n",
       "      <td>-0.021850</td>\n",
       "      <td>0.054521</td>\n",
       "      <td>0.023106</td>\n",
       "    </tr>\n",
       "    <tr>\n",
       "      <th>std</th>\n",
       "      <td>1.015290</td>\n",
       "      <td>0.959877</td>\n",
       "      <td>1.007017</td>\n",
       "      <td>1.013441</td>\n",
       "      <td>0.997580</td>\n",
       "      <td>0.976558</td>\n",
       "    </tr>\n",
       "    <tr>\n",
       "      <th>min</th>\n",
       "      <td>-3.140255</td>\n",
       "      <td>-1.986549</td>\n",
       "      <td>-1.468729</td>\n",
       "      <td>-1.233162</td>\n",
       "      <td>-0.891560</td>\n",
       "      <td>-1.720731</td>\n",
       "    </tr>\n",
       "    <tr>\n",
       "      <th>25%</th>\n",
       "      <td>-0.762133</td>\n",
       "      <td>-0.657902</td>\n",
       "      <td>-0.825373</td>\n",
       "      <td>-1.233162</td>\n",
       "      <td>-0.891560</td>\n",
       "      <td>-0.769394</td>\n",
       "    </tr>\n",
       "    <tr>\n",
       "      <th>50%</th>\n",
       "      <td>-0.045581</td>\n",
       "      <td>-0.183385</td>\n",
       "      <td>0.139662</td>\n",
       "      <td>0.318299</td>\n",
       "      <td>0.830152</td>\n",
       "      <td>0.018806</td>\n",
       "    </tr>\n",
       "    <tr>\n",
       "      <th>75%</th>\n",
       "      <td>0.691741</td>\n",
       "      <td>0.480939</td>\n",
       "      <td>0.783018</td>\n",
       "      <td>0.814800</td>\n",
       "      <td>0.830152</td>\n",
       "      <td>0.855660</td>\n",
       "    </tr>\n",
       "    <tr>\n",
       "      <th>max</th>\n",
       "      <td>2.052152</td>\n",
       "      <td>3.992363</td>\n",
       "      <td>1.748053</td>\n",
       "      <td>2.333394</td>\n",
       "      <td>4.273576</td>\n",
       "      <td>1.740487</td>\n",
       "    </tr>\n",
       "  </tbody>\n",
       "</table>\n",
       "</div>"
      ],
      "text/plain": [
       "       credit_score          age       tenure      balance  num_of_products  \\\n",
       "count   2000.000000  2000.000000  2000.000000  2000.000000      2000.000000   \n",
       "mean      -0.041686    -0.003923     0.016620    -0.021850         0.054521   \n",
       "std        1.015290     0.959877     1.007017     1.013441         0.997580   \n",
       "min       -3.140255    -1.986549    -1.468729    -1.233162        -0.891560   \n",
       "25%       -0.762133    -0.657902    -0.825373    -1.233162        -0.891560   \n",
       "50%       -0.045581    -0.183385     0.139662     0.318299         0.830152   \n",
       "75%        0.691741     0.480939     0.783018     0.814800         0.830152   \n",
       "max        2.052152     3.992363     1.748053     2.333394         4.273576   \n",
       "\n",
       "       estimated_salary  \n",
       "count       2000.000000  \n",
       "mean           0.023106  \n",
       "std            0.976558  \n",
       "min           -1.720731  \n",
       "25%           -0.769394  \n",
       "50%            0.018806  \n",
       "75%            0.855660  \n",
       "max            1.740487  "
      ]
     },
     "metadata": {},
     "output_type": "display_data"
    }
   ],
   "source": [
    "# Verificar estadísticas después de la estandarización para entrenamiento, validación y prueba\n",
    "print(\"Estadísticas del conjunto de entrenamiento (features_train):\")\n",
    "display(features_train[numeric].describe())\n",
    "\n",
    "print(\"\\nEstadísticas del conjunto de validación (features_valid):\")\n",
    "display(features_valid[numeric].describe())\n",
    "\n",
    "print(\"\\nEstadísticas del conjunto de prueba (features_test):\")\n",
    "display(features_test[numeric].describe())"
   ]
  },
  {
   "cell_type": "markdown",
   "id": "6cab9108",
   "metadata": {},
   "source": [
    " Los datos han sido estandarizados correctamente, ya que todas las estadísticas están en línea con lo que se espera después de aplicar **`StandardScaler`**. Las medias están cerca de 0, las desviaciones estándar cerca de 1, y los valores de las columnas numéricas en los tres conjuntos siguen la misma distribución esperada."
   ]
  },
  {
   "cell_type": "markdown",
   "id": "3469d8c1",
   "metadata": {},
   "source": [
    "## 4.1 Regresión logística"
   ]
  },
  {
   "cell_type": "markdown",
   "id": "81edeb61",
   "metadata": {},
   "source": [
    "### 4.1.1 Sin ajuste de desbalance de clases\n",
    "\n",
    "Ahora, entrenaremos un modelo sin haber ajustado el desbalance de clases. Luego, compararemos los resultados con un modelo entrenado después de haber ajustado dicho desbalance."
   ]
  },
  {
   "cell_type": "code",
   "execution_count": 131,
   "id": "ff29a030",
   "metadata": {},
   "outputs": [
    {
     "name": "stdout",
     "output_type": "stream",
     "text": [
      "Valor F1 - Regresión Logística: 0.3339\n",
      "AUC-ROC Score: 0.75863\n"
     ]
    }
   ],
   "source": [
    "# Crear una instancia del modelo LogisticRegression\n",
    "model = LogisticRegression(solver='liblinear', random_state=12345)\n",
    "\n",
    "# Ajustar el modelo con los datos de entrenamiento\n",
    "model.fit(features_train, target_train)\n",
    "\n",
    "# Predecir los valores objetivo para las características de validación\n",
    "predicted_val = model.predict(features_valid)\n",
    "\n",
    "# Calcular e imprimir la puntuación F1\n",
    "print('Valor F1 - Regresión Logística:', round(f1_score(target_valid, predicted_val), 5))\n",
    "\n",
    "# Obtener las probabilidades de las predicciones\n",
    "probabilities_val = model.predict_proba(features_valid)\n",
    "\n",
    "# Extraer las probabilidades de la clase positiva (1)\n",
    "probabilities_one_val = probabilities_val[:, 1]\n",
    "\n",
    "# Calcular y mostrar la puntuación AUC-ROC\n",
    "auc_roc = roc_auc_score(target_valid, probabilities_one_val)\n",
    "print(f'AUC-ROC Score: {round(auc_roc, 5)}')"
   ]
  },
  {
   "cell_type": "markdown",
   "id": "6f60b74e",
   "metadata": {},
   "source": [
    "**Evaluación del modelo de regresión logística:**\n",
    "\n",
    "**F1 Score**: 0.33 (sin ajuste de desbalance de clases). Este valor es decente, pero no es satisfactorio para Beta Bank.    \n",
    "**AUC-ROC**: 0.76 Mejor que un modelo aleatorio, pero aún no es ideal.    \n",
    "\n",
    "Volvermos a evaluar el desempeño del modelo después de ajustar el desbalance de clases, ya que no cumple con las expectativas requeridas por Beta Bank.  "
   ]
  },
  {
   "cell_type": "markdown",
   "id": "dcaeea08",
   "metadata": {},
   "source": [
    "### 4.1.2 Ajuste del desequilibrio de clases \n",
    "\n",
    "Para mejorar el puntaje F1 del modelo de regresión logística, ajustaremos el desequilibrio de clases en el conjunto de datos de entrenamiento.   \n",
    "Al modificar el peso de las clases, el modelo será más consciente de las clases más frecuentes. Esto se logra configurando el parámetro `class_weight` a `balanced` al inicializar el modelo. Después, se va a entrenar el modelo con este ajuste para mejorar el puntaje F1.   \n",
    "Este cambio ayuda a que el modelo no se sesgue hacia las clases más comunes y mejore su desempeño en las clases menos representadas."
   ]
  },
  {
   "cell_type": "code",
   "execution_count": 132,
   "id": "9b8d443a",
   "metadata": {},
   "outputs": [
    {
     "name": "stdout",
     "output_type": "stream",
     "text": [
      "Valor F1 - Regresión Logística (después del balance): 0.48889\n",
      "AUC-ROC Score: 0.76358\n"
     ]
    }
   ],
   "source": [
    "# Crear una instancia del modelo LogisticRegression\n",
    "# El parámetro class_weight='balanced' ajusta los pesos de las clases según su frecuencia\n",
    "model = LogisticRegression(class_weight='balanced', solver='liblinear', random_state=12345)\n",
    "\n",
    "# Ajustar el modelo con los datos de entrenamiento\n",
    "model.fit(features_train, target_train)\n",
    "\n",
    "# Predecir los valores objetivo usando las características de validación\n",
    "predicted_valid = model.predict(features_valid)\n",
    "\n",
    "# Calcular y mostrar la puntuación F1\n",
    "print('Valor F1 - Regresión Logística (después del balance):', round(f1_score(target_valid, predicted_valid), 5))\n",
    "\n",
    "# Obtener las probabilidades predichas para la clase positiva\n",
    "probabilities_valid = model.predict_proba(features_valid)\n",
    "probabilities_one_valid = probabilities_valid[:, 1]\n",
    "\n",
    "# Calcular y mostrar la puntuación AUC-ROC\n",
    "auc_roc = roc_auc_score(target_valid, probabilities_one_valid)\n",
    "print(f'AUC-ROC Score: {round(auc_roc, 5)}')\n"
   ]
  },
  {
   "cell_type": "markdown",
   "id": "caf33ae8",
   "metadata": {},
   "source": [
    "**Resultado después de balancear el desbalanceo de clases:**\n",
    "\n",
    "**F1 Score:** Mejoró a **0.49** desde **0.33**, pero aún está por debajo del mínimo requerido de **0.59** por Beta Bank.    \n",
    "**AUC-ROC:** Mejoró ligeramente.     \n",
    "    \n",
    "Ahora, se probarán otros métodos para ajustar el desbalanceo de clases y se entrenarán diferentes modelos con el fin de encontrar la mejor solución."
   ]
  },
  {
   "cell_type": "markdown",
   "id": "c77b43fe",
   "metadata": {},
   "source": [
    "### 4.1.3 Técnicas de Upsampling y Downsampling\n",
    "\n",
    "Primero, vamos a ver cómo aplicar **upsampling** y luego crearemos una función para ello."
   ]
  },
  {
   "cell_type": "markdown",
   "id": "4526a160",
   "metadata": {},
   "source": [
    "- **Upsampling**: Aumenta la cantidad de instancias positivas en el conjunto de datos."
   ]
  },
  {
   "cell_type": "code",
   "execution_count": 133,
   "id": "e0ec66d1",
   "metadata": {},
   "outputs": [],
   "source": [
    "# Ajustar el desbalanceo de clases con sobre-muestreo\n",
    "\n",
    "# Crear una función para hacer el sobre-muestreo de los datos de entrenamiento\n",
    "def upsample(features, target, repeat):\n",
    "    # Crear subconjuntos de datos según las clases\n",
    "    features_zeros = features[target == 0]\n",
    "    features_ones = features[target == 1]\n",
    "    target_zeros = target[target == 0]\n",
    "    target_ones = target[target == 1]\n",
    "    \n",
    "    # Realizar el sobre-muestreo replicando la clase minoritaria\n",
    "    features_upsampled = pd.concat([features_zeros] + [features_ones] * repeat)\n",
    "    target_upsampled = pd.concat([target_zeros] + [target_ones] * repeat)\n",
    "    \n",
    "    # Mezclar las observaciones para evitar patrones\n",
    "    features_upsampled, target_upsampled = shuffle(features_upsampled, target_upsampled, random_state=12345)\n",
    "    \n",
    "    # Devolver los datos balanceados\n",
    "    return features_upsampled, target_upsampled"
   ]
  },
  {
   "cell_type": "code",
   "execution_count": 134,
   "id": "633f3416",
   "metadata": {},
   "outputs": [],
   "source": [
    "# Llamada a la función de sobre-muestreo para balancear las clases\n",
    "# Se usa un factor de repetición de 10 para la clase minoritaria\n",
    "features_upsampled, target_upsampled = upsample(features_train, target_train, 10)"
   ]
  },
  {
   "cell_type": "code",
   "execution_count": 135,
   "id": "f9b9303a",
   "metadata": {},
   "outputs": [
    {
     "name": "stdout",
     "output_type": "stream",
     "text": [
      "Valor F1 - Regresión Logística (después de upsampling): 0.41989\n",
      "AUC-ROC Score: 0.765\n"
     ]
    }
   ],
   "source": [
    "# Crear una instancia de un modelo de regresión logística\n",
    "# Pasamos el parámetro class_weight='balanced' para tratar el desbalanceo\n",
    "model = LogisticRegression(solver='liblinear', random_state=12345)\n",
    "\n",
    "# Entrenar el modelo con los datos de entrenamiento\n",
    "model.fit(features_upsampled, target_upsampled)\n",
    "\n",
    "# Predecir los valores del conjunto de validación\n",
    "predicted_valid = model.predict(features_valid)\n",
    "\n",
    "# Calcular y mostrar el puntaje F1\n",
    "print('Valor F1 - Regresión Logística (después de upsampling):', round(f1_score(target_valid, predicted_valid), 5))\n",
    "\n",
    "# Calcular las probabilidades de la clase positiva\n",
    "probabilities_valid = model.predict_proba(features_valid)\n",
    "probabilities_one_valid = probabilities_valid[:, 1]\n",
    "\n",
    "# Calcular y mostrar el AUC-ROC\n",
    "auc_roc = roc_auc_score(target_valid, probabilities_one_valid)\n",
    "print(f'AUC-ROC Score: {round(auc_roc, 5)}')"
   ]
  },
  {
   "cell_type": "markdown",
   "id": "2b07eec7",
   "metadata": {},
   "source": [
    "**Resultado después de upsampling:**\n",
    "\n",
    "El **F1 score** del modelo después de realizar un **upsampling** de los datos es de **0.42**, lo cual es inferior al **0.49** obtenido previamente con el parámetro **`class_weight`**. Sin embargo, es mejor que no haber ajustado el desbalance de clases. \n",
    "\n",
    "El **AUC-ROC** se mantiene similar al obtenido con el modelo que usó el parámetro **`class_weight='balanced'`**.\n",
    "\n",
    "A continuación, probaremos **downsampling** para observar su impacto en el modelo."
   ]
  },
  {
   "cell_type": "markdown",
   "id": "3f0c13db",
   "metadata": {},
   "source": [
    "- **Downsampling**: Reduce la cantidad de instancias negativas en el conjunto de datos."
   ]
  },
  {
   "cell_type": "code",
   "execution_count": 136,
   "id": "6df13afd",
   "metadata": {},
   "outputs": [],
   "source": [
    "# Crear una función para submuestrear los datos de entrenamiento\n",
    "def downsample(features, target, fraction):\n",
    "    # Dividir las características y el target en dos grupos según la clase (0 y 1)\n",
    "    features_zeros = features[target == 0]\n",
    "    features_ones = features[target == 1]\n",
    "    target_zeros = target[target == 0]\n",
    "    target_ones = target[target == 1]\n",
    "\n",
    "    # Submuestrear aleatoriamente la clase 0 y combinarla con la clase 1\n",
    "    features_downsampled = pd.concat([features_zeros.sample(frac=fraction, random_state=12345)] + [features_ones])\n",
    "    target_downsampled = pd.concat([target_zeros.sample(frac=fraction, random_state=12345)] + [target_ones])\n",
    "\n",
    "    # Mezclar aleatoriamente los datos submuestreados\n",
    "    features_downsampled, target_downsampled = shuffle(features_downsampled, target_downsampled, random_state=12345)\n",
    "\n",
    "    return features_downsampled, target_downsampled"
   ]
  },
  {
   "cell_type": "code",
   "execution_count": 137,
   "id": "c0ce5ef6",
   "metadata": {},
   "outputs": [],
   "source": [
    "# Submuestrear los datos de entrenamiento con una fracción de 0.1\n",
    "features_downsampled, target_downsampled = downsample(features_train, target_train, 0.1)"
   ]
  },
  {
   "cell_type": "code",
   "execution_count": 138,
   "id": "a8affc8e",
   "metadata": {},
   "outputs": [
    {
     "name": "stdout",
     "output_type": "stream",
     "text": [
      "Valor F1 - Regresión Logística (después de downsampling): 0.4298642533936652\n",
      "AUC-ROC Score: 0.75826\n"
     ]
    }
   ],
   "source": [
    "# Crear una instancia del modelo de regresión logística\n",
    "# Pasar el parámetro class_weight='balanced' para manejar clases desbalanceadas\n",
    "model = LogisticRegression(solver='liblinear', random_state=12345)\n",
    "\n",
    "# Ajustar el modelo utilizando los datos de entrenamiento submuestreados\n",
    "model.fit(features_downsampled, target_downsampled)\n",
    "\n",
    "# Predecir los valores del target para los datos de validación\n",
    "predicted_valid = model.predict(features_valid)\n",
    "\n",
    "# Calcular e imprimir la puntuación F1\n",
    "print('Valor F1 - Regresión Logística (después de downsampling):', f1_score(target_valid, predicted_valid))\n",
    "\n",
    "# Calcular las probabilidades de la clase positiva para los datos de validación\n",
    "probabilities_valid = model.predict_proba(features_valid)\n",
    "probabilities_one_valid = probabilities_valid[:, 1]\n",
    "\n",
    "# Calcular e imprimir la puntuación AUC-ROC\n",
    "auc_roc = roc_auc_score(target_valid, probabilities_one_valid)\n",
    "print(f'AUC-ROC Score: {round(auc_roc, 5)}')"
   ]
  },
  {
   "cell_type": "markdown",
   "id": "11c15da5",
   "metadata": {},
   "source": [
    "**Resultado después de downsampling:**\n",
    "El nuevo modelo tiene un puntaje F1 de aproximadamente **0.43**, lo que representa una mejora respecto al modelo con datos aumentados (upsampled), pero no supera al modelo que utiliza el parámetro **`class_weight`**. \n",
    "\n",
    "En cuanto al puntaje **AUC-ROC**, permanece casi igual, con una ligera disminución en comparación con los dos modelos anteriores. \n",
    "Vamos a continuar con el modelo de **`árbol de decisión`** y finalizaremos con el de **`bosque aleatorio`**."
   ]
  },
  {
   "cell_type": "markdown",
   "id": "551e3f3c",
   "metadata": {},
   "source": [
    "Ahora, evaluaremos el rendimiento de los modelos **`Árbol de Decisión`** y **`Random Forest`** corrigiendo el desbalance de clases mediante tres métodos: ajustando los pesos de las clases con **`class_weight`**, aumentando la clase minoritaria con **upsampling** y reduciendo la clase mayoritaria con **downsampling**. Se analizará cómo cada técnica impacta el desempeño de ambos modelos, comparando los resultados obtenidos con cada método."
   ]
  },
  {
   "cell_type": "markdown",
   "id": "1b11bf89",
   "metadata": {},
   "source": [
    "## 4.2 Modelo Árbol de Decisión"
   ]
  },
  {
   "cell_type": "markdown",
   "id": "430279e9",
   "metadata": {},
   "source": [
    "### 4.2.1 Ajuste de clases desbalanceadas (class_weight='balanced')"
   ]
  },
  {
   "cell_type": "code",
   "execution_count": 139,
   "id": "52b20d80",
   "metadata": {},
   "outputs": [
    {
     "name": "stdout",
     "output_type": "stream",
     "text": [
      "Mejor Modelo: DecisionTreeClassifier(max_depth=9, random_state=12345)\n",
      "Mejor F1 Score: 0.5787\n",
      "AUC-ROC Score: 0.78997\n",
      "Mejor Profundidad: 9\n"
     ]
    }
   ],
   "source": [
    "# Inicialización\n",
    "mejor_modelo_DT = None\n",
    "mejor_f1_score_DT = 0\n",
    "mejor_profundidad_DT = 0\n",
    "\n",
    "# Crear modelos con diferentes valores de profundidad\n",
    "\n",
    "# Bucle para cambiar los valores de profundidad (rango de 1 a 41)\n",
    "for profundidad in range(1, 42):\n",
    "    \n",
    "    # Crear el modelo con la profundidad proporcionada y el mismo random_state\n",
    "    modelo_DT = DecisionTreeClassifier(max_depth=profundidad, random_state=12345)\n",
    "    \n",
    "    # Entrenar el modelo con el conjunto de datos de entrenamiento\n",
    "    modelo_DT.fit(features_train, target_train)\n",
    "    \n",
    "    # Predecir los valores del conjunto de validación\n",
    "    predicciones_DT_valid = modelo_DT.predict(features_valid) # obtener las predicciones del modelo\n",
    "    \n",
    "    # Calcular el f1_score, si es permitido\n",
    "    try:\n",
    "        f1 = f1_score(target_valid, predicciones_DT_valid)\n",
    "    except:\n",
    "        break  # Si hay error, salir del bucle\n",
    "        \n",
    "    # Determinar el mejor modelo\n",
    "    if f1 > mejor_f1_score_DT:\n",
    "        mejor_modelo_DT = modelo_DT\n",
    "        mejor_profundidad_DT = profundidad\n",
    "        mejor_f1_score_DT = f1\n",
    "\n",
    "# Obtener probabilidades del modelo para el conjunto de validación\n",
    "probabilidades_valid = mejor_modelo_DT.predict_proba(features_valid)\n",
    "probabilidades_una_valid = probabilidades_valid[:, 1]\n",
    "\n",
    "# Calcular AUC-ROC\n",
    "auc_roc = roc_auc_score(target_valid, probabilidades_una_valid)\n",
    "\n",
    "# Resultados\n",
    "print('Mejor Modelo:', mejor_modelo_DT)\n",
    "print(f'Mejor F1 Score: {round(mejor_f1_score_DT, 4)}')\n",
    "print(f'AUC-ROC Score: {round(auc_roc, 5)}')\n",
    "print('Mejor Profundidad:', mejor_profundidad_DT)\n"
   ]
  },
  {
   "cell_type": "markdown",
   "id": "246b9d3f",
   "metadata": {},
   "source": [
    "De momento se ha obtenido el **F1 score más alto** con **0.58**, al igual que el **AUC-ROC** score con **0.79**"
   ]
  },
  {
   "cell_type": "markdown",
   "id": "3e1bbfdb",
   "metadata": {},
   "source": [
    "### 4.2.2 Upsampling"
   ]
  },
  {
   "cell_type": "code",
   "execution_count": 140,
   "id": "5ac9c570",
   "metadata": {},
   "outputs": [
    {
     "name": "stdout",
     "output_type": "stream",
     "text": [
      "Best Model: DecisionTreeClassifier(max_depth=5, random_state=12345)\n",
      "Best F1 Score: 0.5834\n",
      "AUC-ROC Score: 0.82482\n",
      "Best Depth: 5\n"
     ]
    }
   ],
   "source": [
    "# features_train, target_train -> datos originales\n",
    "\n",
    "# Aplicar SMOTE para realizar el upsampling de la clase minoritaria\n",
    "smote = SMOTE(random_state=12345)\n",
    "features_upsampled, target_upsampled = smote.fit_resample(features_train, target_train)\n",
    "\n",
    "# Inicializar variables para encontrar el mejor modelo\n",
    "best_DT_model = None\n",
    "best_DT_f1_score = 0\n",
    "best_DT_depth = 0\n",
    "\n",
    "# Crear varios modelos con diferentes valores de profundidad\n",
    "for depth in range(1, 41):\n",
    "    \n",
    "    # Crear un modelo de árbol de decisión con la profundidad especificada\n",
    "    DT_model = DecisionTreeClassifier(max_depth=depth, random_state=12345)\n",
    "    \n",
    "    # Entrenar el modelo con el conjunto de datos balanceado\n",
    "    DT_model.fit(features_upsampled, target_upsampled)\n",
    "    \n",
    "    # Predecir los valores objetivo para las características de validación\n",
    "    DT_predictions_valid = DT_model.predict(features_valid)\n",
    "    \n",
    "    # Calcular la puntuación F1\n",
    "    try:\n",
    "        f1 = f1_score(target_valid, DT_predictions_valid)\n",
    "    except:\n",
    "        break\n",
    "    \n",
    "    # Determinar el mejor modelo\n",
    "    if f1 > best_DT_f1_score:\n",
    "        best_DT_model = DT_model\n",
    "        best_DT_depth = depth\n",
    "        best_DT_f1_score = f1\n",
    "\n",
    "# Obtener las probabilidades de las predicciones\n",
    "probabilities_valid = best_DT_model.predict_proba(features_valid)\n",
    "\n",
    "# Extraer las probabilidades de la clase positiva (1)\n",
    "probabilities_one_valid = probabilities_valid[:, 1]\n",
    "\n",
    "# Calcular y mostrar la puntuación AUC-ROC\n",
    "auc_roc = roc_auc_score(target_valid, probabilities_one_valid)\n",
    "\n",
    "# Imprimir los resultados\n",
    "print('Best Model:', best_DT_model)\n",
    "print(f'Best F1 Score: {round(best_DT_f1_score, 4)}')\n",
    "print(f'AUC-ROC Score: {round(auc_roc, 5)}')\n",
    "print('Best Depth:', best_DT_depth)\n"
   ]
  },
  {
   "cell_type": "markdown",
   "id": "d16b6d71",
   "metadata": {},
   "source": [
    "Este modelo alcanzó un **F1 score de 0.5834** y un **AUC-ROC de 0.82482**, mostrando un mejor desempeño en ambas métricas. Además, el modelo con mejor rendimiento tiene una profundidad óptima de 5."
   ]
  },
  {
   "cell_type": "markdown",
   "id": "bc188732",
   "metadata": {},
   "source": [
    "### 4.2.3 Downsampling"
   ]
  },
  {
   "cell_type": "code",
   "execution_count": 141,
   "id": "25cfd7a3",
   "metadata": {},
   "outputs": [
    {
     "name": "stdout",
     "output_type": "stream",
     "text": [
      "Mejor Modelo: DecisionTreeClassifier(max_depth=6, random_state=12345)\n",
      "Mejor F1 Score: 0.4972\n",
      "Puntaje AUC-ROC: 0.80351\n",
      "Mejor Profundidad: 6\n"
     ]
    }
   ],
   "source": [
    "# Inicialización de variables\n",
    "best_DT_model = None  # Mejor modelo de árbol de decisión\n",
    "best_DT_f1_score = 0  # Mejor puntaje F1\n",
    "best_DT_depth = 0  # Mejor profundidad\n",
    "\n",
    "# Crear modelos con diferentes valores de profundidad\n",
    "\n",
    "# Bucle for para cambiar los valores de profundidad (rango de 1 a 40)\n",
    "for depth in range(1, 41):\n",
    "    \n",
    "    # Crear un modelo, usando la profundidad proporcionada y el mismo random_state\n",
    "    DT_model = DecisionTreeClassifier(max_depth=depth, random_state=12345)\n",
    "    \n",
    "    # Entrenar el modelo utilizando el conjunto de entrenamiento\n",
    "    DT_model.fit(features_downsampled, target_downsampled)\n",
    "    \n",
    "    # Predecir los valores del target para el conjunto de validación\n",
    "    DT_predictions_valid = DT_model.predict(features_valid)  # Obtener predicciones del modelo en el conjunto de validación\n",
    "    \n",
    "    # Calcular el f1_score, si es posible\n",
    "    try:\n",
    "        f1 = f1_score(target_valid, DT_predictions_valid)\n",
    "    except:\n",
    "        break  # Si ocurre un error, salir del bucle\n",
    "    \n",
    "    # Determinar el mejor modelo (según el puntaje F1)\n",
    "    if f1 > best_DT_f1_score:\n",
    "        best_DT_model = DT_model  # Actualizar el mejor modelo\n",
    "        best_DT_depth = depth  # Actualizar la mejor profundidad\n",
    "        best_DT_f1_score = f1  # Actualizar el mejor puntaje F1\n",
    "        \n",
    "# Calcular las probabilidades de la mejor predicción para el conjunto de validación\n",
    "probabilities_valid = best_DT_model.predict_proba(features_valid)\n",
    "probabilities_one_valid = probabilities_valid[:, 1]  # Extraer la probabilidad para la clase positiva (1)\n",
    "\n",
    "# Calcular el puntaje AUC-ROC\n",
    "auc_roc = roc_auc_score(target_valid, probabilities_one_valid)\n",
    "\n",
    "# Imprimir los resultados\n",
    "print('Mejor Modelo:', best_DT_model)\n",
    "print(f'Mejor F1 Score: {round(best_DT_f1_score, 4)}')\n",
    "print(f'Puntaje AUC-ROC: {round(auc_roc, 5)}')\n",
    "print('Mejor Profundidad:', best_DT_depth)\n"
   ]
  },
  {
   "cell_type": "markdown",
   "id": "301d9a4e",
   "metadata": {},
   "source": [
    "El modelo con **max_depth=6** tiene un **F1 score de 0.4972** y un **AUC-ROC de 0.80351**, ambos resultados inferiores a los obtenidos con el modelo de **max_depth=5** (F1 score de 0.5834 y AUC-ROC de 0.82482)."
   ]
  },
  {
   "cell_type": "markdown",
   "id": "f93e5bc5",
   "metadata": {},
   "source": [
    "## 4.3 Modelo Bosque Aleatorio  "
   ]
  },
  {
   "cell_type": "markdown",
   "id": "f496b2eb",
   "metadata": {},
   "source": [
    "###  4.3.1 Ajuste de clases desbalanceadas (class_weight='balanced'"
   ]
  },
  {
   "cell_type": "code",
   "execution_count": 142,
   "id": "4861468c",
   "metadata": {
    "scrolled": true
   },
   "outputs": [
    {
     "name": "stdout",
     "output_type": "stream",
     "text": [
      "Mejor Modelo: RandomForestClassifier(max_depth=19, n_estimators=11, random_state=12345)\n",
      "Mejor F1 Score: 0.6099\n",
      "Score AUC-ROC: 0.83079\n",
      "Mejor Profundidad (max_depth): 19\n",
      "Mejor n_estimators: 11\n"
     ]
    }
   ],
   "source": [
    "# Inicialización de variables para almacenar el mejor modelo y sus parámetros\n",
    "best_RF_model = None\n",
    "best_est = 0\n",
    "best_RF_depth = 0\n",
    "best_RF_f1_score = 0\n",
    "\n",
    "# Bucle para probar diferentes valores de n_estimators (cantidad de árboles)\n",
    "for est in range(1, 21):\n",
    "    \n",
    "    # Bucle para probar diferentes valores de max_depth (profundidad de los árboles)\n",
    "    for depth in range(1, 41):\n",
    "        \n",
    "        # Crear el modelo RandomForest con los parámetros actuales\n",
    "        RF_model = RandomForestClassifier(max_depth=depth, random_state=12345, n_estimators=est)\n",
    "        \n",
    "        # Entrenar el modelo con el conjunto de entrenamiento\n",
    "        RF_model.fit(features_train, target_train)\n",
    "\n",
    "        # Predecir las etiquetas para el conjunto de validación\n",
    "        RF_predictions_valid = RF_model.predict(features_valid)\n",
    "       \n",
    "        # Calcular el f1_score para el conjunto de validación\n",
    "        f1 = f1_score(target_valid, RF_predictions_valid)\n",
    "\n",
    "        # Si el f1_score es mejor que el anterior, guardar el modelo actual y sus parámetros\n",
    "        if f1 > best_RF_f1_score:\n",
    "            best_RF_model = RF_model\n",
    "            best_RF_f1_score = f1\n",
    "            best_RF_depth = depth\n",
    "            best_est = est\n",
    "\n",
    "# Obtener las probabilidades de las predicciones para el conjunto de validación\n",
    "probabilities_valid = best_RF_model.predict_proba(features_valid)\n",
    "probabilities_one_valid = probabilities_valid[:, 1]\n",
    "\n",
    "# Calcular el AUC-ROC para las probabilidades obtenidas\n",
    "auc_roc = roc_auc_score(target_valid, probabilities_one_valid)\n",
    "\n",
    "# Mostrar los resultados del mejor modelo encontrado\n",
    "print('Mejor Modelo:', best_RF_model)\n",
    "print(f'Mejor F1 Score: {round(best_RF_f1_score, 4)}')\n",
    "print(f'Score AUC-ROC: {round(auc_roc, 5)}')\n",
    "print('Mejor Profundidad (max_depth):', best_RF_depth)\n",
    "print('Mejor n_estimators:', best_est)"
   ]
  },
  {
   "cell_type": "markdown",
   "id": "e90e2f7b",
   "metadata": {},
   "source": [
    "El **F1 score** obtenido es **0.6099** y el **AUC-ROC** es **0.83079**, ambos valores más altos que los del árbol de decisión con **max_depth=5** (F1 score de 0.5834 y AUC-ROC de 0.82482) y con **max_depth=6** (F1 score de 0.4972 y AUC-ROC de 0.80351). Hasta ahora los mejores resultados."
   ]
  },
  {
   "cell_type": "markdown",
   "id": "2fb8ad2b",
   "metadata": {},
   "source": [
    "### 4.3.2 Upsampling"
   ]
  },
  {
   "cell_type": "code",
   "execution_count": 143,
   "id": "1e86b6d0",
   "metadata": {},
   "outputs": [
    {
     "name": "stdout",
     "output_type": "stream",
     "text": [
      "Mejor Modelo: RandomForestClassifier(max_depth=6, n_estimators=20, random_state=12345)\n",
      "Mejor Puntaje F1: 0.613\n",
      "Puntaje AUC-ROC: 0.84274\n",
      "Mejor Profundidad: 6\n",
      "Mejor número de estimadores: 20\n"
     ]
    }
   ],
   "source": [
    "best_RF_model = None  # Mejor modelo de Random Forest Upsampling\n",
    "best_est = 0  # Mejor número de estimadores\n",
    "best_RF_depth = 0  # Mejor profundidad\n",
    "best_RF_f1_score = 0  # Mejor puntaje F1\n",
    "\n",
    "# Crear modelos con diferentes valores de profundidad y estimadores\n",
    "\n",
    "# Bucle para el número de estimadores\n",
    "for est in range(1, 21):\n",
    "    \n",
    "    # Bucle para los valores de profundidad\n",
    "    for depth in range(1, 41):\n",
    "        \n",
    "        # Crear el modelo con la profundidad y estimadores proporcionados\n",
    "        RF_model = RandomForestClassifier(max_depth=depth, random_state=12345, n_estimators=est)\n",
    "        \n",
    "        # Entrenar el modelo con el conjunto de datos de entrenamiento\n",
    "        RF_model.fit(features_upsampled, target_upsampled)\n",
    "\n",
    "        # Predecir los valores de la variable objetivo con el conjunto de validación\n",
    "        RF_predictions_valid = RF_model.predict(features_valid)  # Predicciones en el conjunto de validación\n",
    "       \n",
    "        # Calcular el puntaje F1\n",
    "        try:\n",
    "            f1 = f1_score(target_valid, RF_predictions_valid)\n",
    "        except:\n",
    "            break  # Si ocurre un error, salir del bucle\n",
    "\n",
    "        # Determinar el mejor modelo con el mayor puntaje F1\n",
    "        if f1 > best_RF_f1_score:\n",
    "            best_RF_model = RF_model\n",
    "            best_RF_f1_score = f1\n",
    "            best_RF_depth = depth\n",
    "            best_est = est\n",
    "\n",
    "# Calcular las probabilidades para el conjunto de validación\n",
    "probabilities_valid = best_RF_model.predict_proba(features_valid)\n",
    "probabilities_one_valid = probabilities_valid[:, 1]  # Probabilidades de la clase positiva\n",
    "\n",
    "# Calcular el puntaje AUC-ROC\n",
    "auc_roc = roc_auc_score(target_valid, probabilities_one_valid)\n",
    "\n",
    "# Resultados\n",
    "print('Mejor Modelo:', best_RF_model)\n",
    "print(f'Mejor Puntaje F1: {round(best_RF_f1_score, 4)}')\n",
    "print(f'Puntaje AUC-ROC: {round(auc_roc, 5)}')\n",
    "print('Mejor Profundidad:', best_RF_depth)\n",
    "print('Mejor número de estimadores:', best_est)"
   ]
  },
  {
   "cell_type": "markdown",
   "id": "c50bee22",
   "metadata": {},
   "source": [
    "El modelo alcanzó un **F1 score de 0.613** y un **AUC-ROC de 0.84274**, mejorando los resultados anteriores. "
   ]
  },
  {
   "cell_type": "markdown",
   "id": "7eff3765",
   "metadata": {},
   "source": [
    "### 4.3.3 Downsampling"
   ]
  },
  {
   "cell_type": "code",
   "execution_count": 144,
   "id": "5cb2ce34",
   "metadata": {},
   "outputs": [
    {
     "name": "stdout",
     "output_type": "stream",
     "text": [
      "Mejor modelo: RandomForestClassifier(max_depth=19, n_estimators=6, random_state=12345)\n",
      "Best F1 Score: 0.4967\n",
      "AUC-ROC Score: 0.78234\n",
      "Mejor profundidad: 19\n",
      "Mejor número de estimadores: 6\n"
     ]
    }
   ],
   "source": [
    "# Inicializar variables para almacenar el mejor modelo, el puntaje F1, la profundidad y los estimadores\n",
    "best_RF_model = None\n",
    "best_est = 0\n",
    "best_RF_depth = 0\n",
    "best_RF_f1_score = 0\n",
    "\n",
    "# Crear diversos modelos con diferentes valores de profundidad y número de estimadores\n",
    "# Bucle para el número de estimadores\n",
    "for est in range(1, 21):\n",
    "    \n",
    "    # Bucle para el valor de la profundidad\n",
    "    for depth in range(1, 41):\n",
    "        \n",
    "        # Crear un modelo utilizando la profundidad, número de estimadores y el random_state proporcionado\n",
    "        RF_model = RandomForestClassifier(max_depth=depth, random_state=12345, n_estimators=est)\n",
    "        \n",
    "        # Entrenar el modelo con el conjunto de datos de entrenamiento\n",
    "        RF_model.fit(features_downsampled, target_downsampled)\n",
    "\n",
    "        # Predecir los valores del conjunto de validación\n",
    "        RF_predictions_valid = RF_model.predict(features_valid)  # Predicciones del modelo sobre el conjunto de validación\n",
    "       \n",
    "        # Calcular el puntaje F1\n",
    "        try:\n",
    "            f1 = f1_score(target_valid, RF_predictions_valid)\n",
    "        except:\n",
    "            break  # En caso de error, salir del bucle\n",
    "        \n",
    "        # Determinar el mejor modelo basado en el puntaje F1\n",
    "        if f1 > best_RF_f1_score:\n",
    "            best_RF_model = RF_model\n",
    "            best_RF_f1_score = f1\n",
    "            best_RF_depth = depth\n",
    "            best_est = est\n",
    "\n",
    "# Obtener las probabilidades de la clase positiva para el conjunto de validación\n",
    "probabilities_valid = best_RF_model.predict_proba(features_valid)\n",
    "probabilities_one_valid = probabilities_valid[:, 1]\n",
    "\n",
    "# Calcular la puntuación AUC-ROC\n",
    "auc_roc = roc_auc_score(target_valid, probabilities_one_valid)\n",
    "\n",
    "# Imprimir los resultados\n",
    "print('Mejor modelo:', best_RF_model)\n",
    "print(f'Best F1 Score: {round(best_RF_f1_score, 4)}')  # Puntaje F1 con 4 decimales\n",
    "print(f'AUC-ROC Score: {round(auc_roc, 5)}')  # Puntuación AUC-ROC con 5 decimales\n",
    "print('Mejor profundidad:', best_RF_depth)\n",
    "print('Mejor número de estimadores:', best_est)"
   ]
  },
  {
   "cell_type": "markdown",
   "id": "9b5980b5",
   "metadata": {},
   "source": [
    "El modelo presenta un **F1 score de 0.4967** y un **AUC-ROC de 0.78234**, ambos resultados inferiores a los de otros modelos previos. Este modelo muestra un desempeño menos competitivo en comparación con los otros modelos evaluados."
   ]
  },
  {
   "cell_type": "markdown",
   "id": "39bf27f4",
   "metadata": {},
   "source": [
    "##  4.4 Mejor modelo : Bosque Aleatorio  Upsampling"
   ]
  },
  {
   "cell_type": "code",
   "execution_count": 166,
   "id": "f2397050",
   "metadata": {},
   "outputs": [
    {
     "data": {
      "image/png": "[encoded data removed]",
      "text/plain": [
       "<Figure size 800x600 with 1 Axes>"
      ]
     },
     "metadata": {},
     "output_type": "display_data"
    },
    {
     "name": "stdout",
     "output_type": "stream",
     "text": [
      "Puntaje AUC-ROC: 0.833\n",
      "Puntaje F1: 0.5968\n"
     ]
    }
   ],
   "source": [
    "# Crear un modelo, utilizando la profundidad proporcionada, el número de estimadores y el mismo random_state\n",
    "RF_model = RandomForestClassifier(max_depth=14, random_state=12345, n_estimators=20)\n",
    "\n",
    "# Entrenar el modelo utilizando el conjunto de datos de entrenamiento\n",
    "RF_model.fit(features_upsampled, target_upsampled)\n",
    "\n",
    "# Realizar predicciones sobre el conjunto de prueba\n",
    "test_predictions = RF_model.predict(features_test)\n",
    "\n",
    "# Calcular el puntaje F1\n",
    "f1 = f1_score(target_test, test_predictions)\n",
    "\n",
    "# Calcular las probabilidades para el conjunto de prueba\n",
    "probabilities_test = RF_model.predict_proba(features_test)\n",
    "probabilities_one_test = probabilities_test[:, 1]\n",
    "\n",
    "# Calcular el puntaje AUC-ROC\n",
    "auc_roc = roc_auc_score(target_test, probabilities_one_test)\n",
    "\n",
    "# Graficar la curva ROC\n",
    "plt.figure(figsize=(8, 6))\n",
    "plt.plot(fpr, tpr, color='blue', label=f'AUC-ROC = {round(auc_roc, 4)}')\n",
    "plt.plot([0, 1], [0, 1], color='gray', linestyle='--')  # Línea de referencia\n",
    "plt.xlabel('Tasa de falsos positivos (FPR)')\n",
    "plt.ylabel('Tasa de verdaderos positivos (TPR)')\n",
    "plt.title('Curva ROC')\n",
    "plt.legend(loc='lower right')\n",
    "plt.grid(True)\n",
    "plt.show()\n",
    "\n",
    "# Resultados\n",
    "print(f'Puntaje AUC-ROC: {round(auc_roc, 4)}')\n",
    "print(f'Puntaje F1: {round(f1, 4)}')\n",
    "\n"
   ]
  },
  {
   "cell_type": "markdown",
   "id": "fede9d22",
   "metadata": {},
   "source": [
    "**El modelo cumple con las metas esperas de Beta Bank, con mas un F1 score de mas de .5 y el AUC-ROC es de 0.833, lo cual indica un buen rendimiento del modelo.**"
   ]
  },
  {
   "cell_type": "code",
   "execution_count": 158,
   "id": "b1d8259d",
   "metadata": {},
   "outputs": [
    {
     "name": "stdout",
     "output_type": "stream",
     "text": [
      "Predicción del total de clientes que dejarán el banco: 455\n"
     ]
    }
   ],
   "source": [
    "# Inicializar variable total\n",
    "total = 0\n",
    "\n",
    "# Crear un bucle para verificar cada predicción en las predicciones de prueba\n",
    "for prediction in test_predictions:\n",
    "    if prediction == 1:\n",
    "        total += 1\n",
    "\n",
    "# Imprimir el número total de clientes predichos que dejarán el banco\n",
    "print('Predicción del total de clientes que dejarán el banco:', total)\n"
   ]
  },
  {
   "cell_type": "markdown",
   "id": "231dee2d",
   "metadata": {},
   "source": [
    "###  4.4.1 Recomendaciones "
   ]
  },
  {
   "cell_type": "markdown",
   "id": "0eee77ff",
   "metadata": {},
   "source": [
    "Aproximadamente el **22.75%** de los **2,000** clientes en el conjunto de prueba, es decir, **455 clientes**, son predichos para abandonar el banco. Este es un número significativo, y **Beta Bank** debería considerar enviar promociones o realizar acciones específicas para retener a estos clientes, como ofertas personalizadas o un seguimiento más cercano para mejorar la satisfacción del cliente."
   ]
  },
  {
   "cell_type": "markdown",
   "id": "070fd1e0",
   "metadata": {},
   "source": [
    "# 5. Conclusiones\n",
    "\n",
    "\n",
    "El análisis realizado a lo largo del proyecto para Beta Bank se centró en la predicción de la rotación de clientes (churn) utilizando diferentes técnicas de modelado y ajustes para manejar el desbalance de clases en los datos. \n",
    "\n",
    "**Descripción de los Datos**: Se utilizó un **Churn dataframe** que contenía información sobre los clientes y su comportamiento. Este conjunto de datos fue fundamental para entrenar y evaluar los modelos de predicción.\n",
    "\n",
    "**Preprocesamiento de Datos**: Se llevaron a cabo transformaciones como la **One-Hot Encoding** para las características categóricas y la estandarización de los datos para garantizar que todas las características tuvieran la misma importancia en los modelos.\n",
    "\n",
    "**Desbalance de Clases**: La distribución de clases en los datos estaba muy desbalanceada, con la clase negativa representando alrededor del 80% y la clase positiva solo el 20%. Este desbalance afectaba la capacidad de los modelos para predecir adecuadamente las clases minoritarias.\n",
    "\n",
    "**Modelado**:\n",
    "   - **Regresión Logística**: Se evaluó sin ajustes y con técnicas de **Upsampling** y **Downsampling** para corregir el desbalance de clases. A pesar de estos ajustes, no alcanzó el rendimiento deseado en términos de **F1 score**.\n",
    "   - **Árbol de Decisión**: Se entrenaron modelos con el parámetro **class_weight='balanced'**, y se usaron técnicas de **Upsampling** y **Downsampling**. El modelo mostró mejoras en los ajustes con **Upsampling**, pero no logró superar los resultados obtenidos con otros modelos.\n",
    "   - **Bosque Aleatorio**: El modelo de **Random Forest** con ajustes de **Upsampling** fue el que mostró el mejor rendimiento. Al usar una **profundidad máxima de 14** y **n_estimators de 20**, alcanzó un **F1 score de 0.5931**, que cumplió con el umbral mínimo requerido por Beta Bank para considerar el modelo como adecuado.\n",
    "\n",
    " **Mejor Modelo**: El **Bosque Aleatorio con Upsampling** fue el modelo que mejor desempeño tuvo en términos de **F1 score** y **AUC-ROC**, lo que lo hace la opción más adecuada para predecir la rotación de clientes de Beta Bank.\n",
    " \n",
    "**Los resultados muestran que el modelo RandomForestClassifier con una profundidad máxima de 6 y 20 estimadores obtuvo el mejor desempeño general con un F1 Score de 0.613 y un AUC-ROC Score de 0.84274, destacándose como el modelo más equilibrado para manejar el desbalance de clases.**     \n",
    "Comparativamente, el DecisionTreeClassifier alcanzó un desempeño aceptable con diferentes profundidades, pero no superó a Random Forest en términos de F1 y AUC-ROC. Las estrategias de balance de clases, como el balanceo simple, upsampling y downsampling, mejoraron los resultados de la regresión logística, pero aún quedaron por debajo de los métodos basados en árboles.      \n",
    "Esto sugiere que los modelos de ensamblaje, como Random Forest, pueden capturar mejor las relaciones complejas en datos desbalanceados y ofrecer una mejor generalización, mientras que el ajuste de hiperparámetros (profundidad y número de estimadores) es crítico para maximizar el rendimiento.       \n",
    "El AUC-ROC Score, en general, se mantuvo alto en todos los modelos, indicando una buena capacidad para distinguir entre clases, pero el F1 Score reflejó mejor la capacidad del modelo para manejar el desbalance.    \n",
    "En otras palabras, el modelo de **Random Forest** entrenado con **Upsampling** es la mejor opción para Beta Bank, logrando cumplir con los requisitos de **F1 score** y demostrando un sólido rendimiento general en la clasificación de churn."
   ]
  }
 ],
 "metadata": {
  "kernelspec": {
   "display_name": "Python 3 (ipykernel)",
   "language": "python",
   "name": "python3"
  },
  "language_info": {
   "codemirror_mode": {
    "name": "ipython",
    "version": 3
   },
   "file_extension": ".py",
   "mimetype": "text/x-python",
   "name": "python",
   "nbconvert_exporter": "python",
   "pygments_lexer": "ipython3",
   "version": "3.12.3"
  },
  "toc": {
   "base_numbering": 1,
   "nav_menu": {},
   "number_sections": true,
   "sideBar": true,
   "skip_h1_title": false,
   "title_cell": "Table of Contents",
   "title_sidebar": "Contents",
   "toc_cell": false,
   "toc_position": {
    "height": "calc(100% - 180px)",
    "left": "10px",
    "top": "150px",
    "width": "187px"
   },
   "toc_section_display": true,
   "toc_window_display": true
  }
 },
 "nbformat": 4,
 "nbformat_minor": 5
}
