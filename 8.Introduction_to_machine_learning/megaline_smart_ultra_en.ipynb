{
 "cells": [
  {
   "cell_type": "markdown",
   "id": "5693da0b",
   "metadata": {},
   "source": [
    "<p style=\"color: #000000; font-size: 32px; font-weight: bold; text-align: center; margin-top: 20px;\"> Megaline \n",
    "</p>\n",
    "<p style=\"color: #000000; font-size: 24px; text-align: center; margin-bottom: 20px;\">\n",
    "Smart vs Ultra\n",
    "</p>\n",
    "\n",
    "---\n",
    "\n",
    "The mobile company Megaline is unhappy to see that many of their customers are using legacy plans. They want to develop a model that can analyze customer behavior and recommend one of Megaline's new plans: Smart or Ultra.\n",
    "\n",
    "You have access to the behavioral data of subscribers who have already switched to the new plans (from the Statistical Data Analysis sprint project). For this classification task you must create a model that chooses the correct plan. Since you have already done the data processing step, you can jump right into creating the model.\n",
    "\n",
    "Develop a model that is as accurate as possible. In this project, the accuracy threshold is 0.75. Use the dataset to check the accuracy.\n",
    "\n",
    "---\n",
    "\n",
    "**`Data Dictionary`**:\n",
    " \n",
    "**`calls`**: number of calls.  \n",
    "**`minutes`**: total call duration in minutes.  \n",
    "**`messages`**: number of text messages.  \n",
    "**`mb_used`**: Internet traffic used in MB.  \n",
    "**`is_ultra`**: plan for the current month (Ultra - 1, Smart - 0).\n"
   ]
  },
  {
   "cell_type": "markdown",
   "id": "fef4acb0",
   "metadata": {},
   "source": [
    "#  1. Libraries"
   ]
  },
  {
   "cell_type": "code",
   "execution_count": 2,
   "id": "ca1544f6",
   "metadata": {},
   "outputs": [],
   "source": [
    "import pandas as pd\n",
    "import numpy as np\n",
    "\n",
    "import matplotlib.pyplot as plt\n",
    "import seaborn as sns\n",
    "\n",
    "from sklearn.model_selection import train_test_split\n",
    "from sklearn.metrics import accuracy_score, mean_squared_error, root_mean_squared_error\n",
    "from sklearn.tree import DecisionTreeClassifier \n",
    "from sklearn.ensemble import RandomForestClassifier \n",
    "from sklearn.linear_model import LogisticRegression "
   ]
  },
  {
   "cell_type": "markdown",
   "id": "61aa2cd6",
   "metadata": {},
   "source": [
    "# 2. Load data and exploratory data analysis"
   ]
  },
  {
   "cell_type": "code",
   "execution_count": 3,
   "id": "9523a401",
   "metadata": {},
   "outputs": [
    {
     "data": {
      "text/html": [
       "<div>\n",
       "<style scoped>\n",
       "    .dataframe tbody tr th:only-of-type {\n",
       "        vertical-align: middle;\n",
       "    }\n",
       "\n",
       "    .dataframe tbody tr th {\n",
       "        vertical-align: top;\n",
       "    }\n",
       "\n",
       "    .dataframe thead th {\n",
       "        text-align: right;\n",
       "    }\n",
       "</style>\n",
       "<table border=\"1\" class=\"dataframe\">\n",
       "  <thead>\n",
       "    <tr style=\"text-align: right;\">\n",
       "      <th></th>\n",
       "      <th>calls</th>\n",
       "      <th>minutes</th>\n",
       "      <th>messages</th>\n",
       "      <th>mb_used</th>\n",
       "      <th>is_ultra</th>\n",
       "    </tr>\n",
       "  </thead>\n",
       "  <tbody>\n",
       "    <tr>\n",
       "      <th>0</th>\n",
       "      <td>40.0</td>\n",
       "      <td>311.90</td>\n",
       "      <td>83.0</td>\n",
       "      <td>19915.42</td>\n",
       "      <td>0</td>\n",
       "    </tr>\n",
       "    <tr>\n",
       "      <th>1</th>\n",
       "      <td>85.0</td>\n",
       "      <td>516.75</td>\n",
       "      <td>56.0</td>\n",
       "      <td>22696.96</td>\n",
       "      <td>0</td>\n",
       "    </tr>\n",
       "    <tr>\n",
       "      <th>2</th>\n",
       "      <td>77.0</td>\n",
       "      <td>467.66</td>\n",
       "      <td>86.0</td>\n",
       "      <td>21060.45</td>\n",
       "      <td>0</td>\n",
       "    </tr>\n",
       "    <tr>\n",
       "      <th>3</th>\n",
       "      <td>106.0</td>\n",
       "      <td>745.53</td>\n",
       "      <td>81.0</td>\n",
       "      <td>8437.39</td>\n",
       "      <td>1</td>\n",
       "    </tr>\n",
       "    <tr>\n",
       "      <th>4</th>\n",
       "      <td>66.0</td>\n",
       "      <td>418.74</td>\n",
       "      <td>1.0</td>\n",
       "      <td>14502.75</td>\n",
       "      <td>0</td>\n",
       "    </tr>\n",
       "  </tbody>\n",
       "</table>\n",
       "</div>"
      ],
      "text/plain": [
       "   calls  minutes  messages   mb_used  is_ultra\n",
       "0   40.0   311.90      83.0  19915.42         0\n",
       "1   85.0   516.75      56.0  22696.96         0\n",
       "2   77.0   467.66      86.0  21060.45         0\n",
       "3  106.0   745.53      81.0   8437.39         1\n",
       "4   66.0   418.74       1.0  14502.75         0"
      ]
     },
     "execution_count": 3,
     "metadata": {},
     "output_type": "execute_result"
    }
   ],
   "source": [
    "megaline_df = pd.read_csv('users_behavior.csv')\n",
    "megaline_df.head()"
   ]
  },
  {
   "cell_type": "code",
   "execution_count": 4,
   "id": "135397a2",
   "metadata": {},
   "outputs": [
    {
     "name": "stdout",
     "output_type": "stream",
     "text": [
      "Summary of Megaline df:\n",
      "\n",
      "<class 'pandas.core.frame.DataFrame'>\n",
      "RangeIndex: 3214 entries, 0 to 3213\n",
      "Data columns (total 5 columns):\n",
      " #   Column    Non-Null Count  Dtype  \n",
      "---  ------    --------------  -----  \n",
      " 0   calls     3214 non-null   float64\n",
      " 1   minutes   3214 non-null   float64\n",
      " 2   messages  3214 non-null   float64\n",
      " 3   mb_used   3214 non-null   float64\n",
      " 4   is_ultra  3214 non-null   int64  \n",
      "dtypes: float64(4), int64(1)\n",
      "memory usage: 125.7 KB\n"
     ]
    }
   ],
   "source": [
    "print('Summary of Megaline df:\\n')\n",
    "megaline_df.info()"
   ]
  },
  {
   "cell_type": "markdown",
   "id": "861d218c",
   "metadata": {},
   "source": [
    "**`DataFrame Review:`**  \n",
    "**`Shape`**: **214** rows and **5** columns.  \n",
    "There are no **`missing values`**.  \n",
    "The **`dtypes`** are correct. Although the `calls` and `message` columns could be integers, they will remain as floats.  \n",
    "**`Duplicates`** will be checked.  "
   ]
  },
  {
   "cell_type": "code",
   "execution_count": 5,
   "id": "c7e99c71",
   "metadata": {},
   "outputs": [
    {
     "name": "stdout",
     "output_type": "stream",
     "text": [
      "Total duplicates: 0\n"
     ]
    }
   ],
   "source": [
    "duplicates = megaline_df.duplicated().sum()\n",
    "print('Total duplicates:', duplicates)"
   ]
  },
  {
   "cell_type": "code",
   "execution_count": 6,
   "id": "e9596d3f",
   "metadata": {},
   "outputs": [
    {
     "name": "stdout",
     "output_type": "stream",
     "text": [
      "Megaline Statistics:\n"
     ]
    },
    {
     "data": {
      "text/html": [
       "<div>\n",
       "<style scoped>\n",
       "    .dataframe tbody tr th:only-of-type {\n",
       "        vertical-align: middle;\n",
       "    }\n",
       "\n",
       "    .dataframe tbody tr th {\n",
       "        vertical-align: top;\n",
       "    }\n",
       "\n",
       "    .dataframe thead th {\n",
       "        text-align: right;\n",
       "    }\n",
       "</style>\n",
       "<table border=\"1\" class=\"dataframe\">\n",
       "  <thead>\n",
       "    <tr style=\"text-align: right;\">\n",
       "      <th></th>\n",
       "      <th>count</th>\n",
       "      <th>mean</th>\n",
       "      <th>std</th>\n",
       "      <th>min</th>\n",
       "      <th>25%</th>\n",
       "      <th>50%</th>\n",
       "      <th>75%</th>\n",
       "      <th>max</th>\n",
       "    </tr>\n",
       "  </thead>\n",
       "  <tbody>\n",
       "    <tr>\n",
       "      <th>calls</th>\n",
       "      <td>3214.0</td>\n",
       "      <td>63.038892</td>\n",
       "      <td>33.236368</td>\n",
       "      <td>0.0</td>\n",
       "      <td>40.0000</td>\n",
       "      <td>62.000</td>\n",
       "      <td>82.0000</td>\n",
       "      <td>244.00</td>\n",
       "    </tr>\n",
       "    <tr>\n",
       "      <th>minutes</th>\n",
       "      <td>3214.0</td>\n",
       "      <td>438.208787</td>\n",
       "      <td>234.569872</td>\n",
       "      <td>0.0</td>\n",
       "      <td>274.5750</td>\n",
       "      <td>430.600</td>\n",
       "      <td>571.9275</td>\n",
       "      <td>1632.06</td>\n",
       "    </tr>\n",
       "    <tr>\n",
       "      <th>messages</th>\n",
       "      <td>3214.0</td>\n",
       "      <td>38.281269</td>\n",
       "      <td>36.148326</td>\n",
       "      <td>0.0</td>\n",
       "      <td>9.0000</td>\n",
       "      <td>30.000</td>\n",
       "      <td>57.0000</td>\n",
       "      <td>224.00</td>\n",
       "    </tr>\n",
       "    <tr>\n",
       "      <th>mb_used</th>\n",
       "      <td>3214.0</td>\n",
       "      <td>17207.673836</td>\n",
       "      <td>7570.968246</td>\n",
       "      <td>0.0</td>\n",
       "      <td>12491.9025</td>\n",
       "      <td>16943.235</td>\n",
       "      <td>21424.7000</td>\n",
       "      <td>49745.73</td>\n",
       "    </tr>\n",
       "  </tbody>\n",
       "</table>\n",
       "</div>"
      ],
      "text/plain": [
       "           count          mean          std  min         25%        50%  \\\n",
       "calls     3214.0     63.038892    33.236368  0.0     40.0000     62.000   \n",
       "minutes   3214.0    438.208787   234.569872  0.0    274.5750    430.600   \n",
       "messages  3214.0     38.281269    36.148326  0.0      9.0000     30.000   \n",
       "mb_used   3214.0  17207.673836  7570.968246  0.0  12491.9025  16943.235   \n",
       "\n",
       "                 75%       max  \n",
       "calls        82.0000    244.00  \n",
       "minutes     571.9275   1632.06  \n",
       "messages     57.0000    224.00  \n",
       "mb_used   21424.7000  49745.73  "
      ]
     },
     "execution_count": 6,
     "metadata": {},
     "output_type": "execute_result"
    }
   ],
   "source": [
    "print('Megaline Statistics:')\n",
    "# Exclude column 'is_ultra'\n",
    "df_without_ultra = megaline_df.drop(columns=['is_ultra'])\n",
    "df_without_ultra.describe().transpose()"
   ]
  },
  {
   "cell_type": "markdown",
   "id": "dfd03485",
   "metadata": {},
   "source": [
    "# 3. Data Splitting"
   ]
  },
  {
   "cell_type": "markdown",
   "id": "81915dee",
   "metadata": {},
   "source": [
    "The features (`X`) and the target variable (`y`) are selected.  \n",
    "The data is split into training, validation, and test sets with a **60/20/20 ratio**.\n",
    "\n",
    "**`X = features`**   \n",
    "**`y = target`**"
   ]
  },
  {
   "cell_type": "code",
   "execution_count": 7,
   "id": "84f5ca72",
   "metadata": {},
   "outputs": [
    {
     "name": "stdout",
     "output_type": "stream",
     "text": [
      "Features columns:\n",
      "\n",
      "['calls', 'minutes', 'messages', 'mb_used']\n",
      "\n",
      "Target (is_ultra column):\n"
     ]
    },
    {
     "data": {
      "text/plain": [
       "0    0\n",
       "1    0\n",
       "2    0\n",
       "Name: is_ultra, dtype: int64"
      ]
     },
     "execution_count": 7,
     "metadata": {},
     "output_type": "execute_result"
    }
   ],
   "source": [
    "# Dropping the 'is_ultra' column from the features (X)\n",
    "X = megaline_df.drop('is_ultra', axis=1)\n",
    "print('Features columns:\\n')\n",
    "print(X.columns.tolist())\n",
    "\n",
    "# Storing the 'is_ultra' column as the target (Y)\n",
    "y = megaline_df['is_ultra']\n",
    "print('\\nTarget (is_ultra column):')\n",
    "y.head(3)"
   ]
  },
  {
   "cell_type": "code",
   "execution_count": 8,
   "id": "c944e5af",
   "metadata": {},
   "outputs": [
    {
     "name": "stdout",
     "output_type": "stream",
     "text": [
      "Data size:\n",
      "Training: 1928 samples\n",
      "Validation: 643 samples\n",
      "Test: 643 samples\n"
     ]
    }
   ],
   "source": [
    "# Create featutes (X) y target (y)\n",
    "X = megaline_df.drop('is_ultra', axis=1)\n",
    "y = megaline_df['is_ultra']\n",
    "\n",
    "# First division: separate training from the rest (validation + testing)\n",
    "X_train, X_other, y_train, y_other = train_test_split(X, y, test_size=0.4, random_state=12345)\n",
    "\n",
    "# Second split: separate validation and testing from the remaining data\n",
    "X_valid, X_test, y_valid, y_test = train_test_split(X_other, y_other, test_size=0.5, random_state=12345)\n",
    "\n",
    "# Check data size\n",
    "print(\"Data size:\")\n",
    "print(f\"Training: {X_train.shape[0]} samples\")\n",
    "print(f\"Validation: {X_valid.shape[0]} samples\")\n",
    "print(f\"Test: {X_test.shape[0]} samples\")"
   ]
  },
  {
   "cell_type": "markdown",
   "id": "099257ab",
   "metadata": {},
   "source": [
    "A **histogram** will be created using **`train_data`** to inspect the data before training the models."
   ]
  },
  {
   "cell_type": "code",
   "execution_count": 9,
   "id": "9313c779",
   "metadata": {},
   "outputs": [
    {
     "data": {
      "image/png": "[encoded data removed]",
      "text/plain": [
       "<Figure size 1500x800 with 6 Axes>"
      ]
     },
     "metadata": {},
     "output_type": "display_data"
    }
   ],
   "source": [
    "# Joining the feature data (X) with the target variable (y) to analyze correlations\n",
    "train_data = X_train.join(y_train)\n",
    "train_data.sample(5)\n",
    "\n",
    "# Create a histogram\n",
    "train_data.hist(bins=30, color='cornflowerblue', edgecolor='white', figsize=(15, 8))\n",
    "\n",
    "# Title and labels\n",
    "plt.suptitle('Histogram of Features in Train Data', fontsize=16, fontweight='bold')\n",
    "plt.subplots_adjust(top=0.9)  \n",
    "plt.xlabel('Value', fontsize=12)\n",
    "plt.ylabel('Frequency', fontsize=12)\n",
    "# Show the plot\n",
    "plt.show()"
   ]
  },
  {
   "cell_type": "markdown",
   "id": "5e371bcd",
   "metadata": {},
   "source": [
    "**Analysis of 'Histogram of Features in Train Data'**\n",
    "\n",
    "This histogram provides a visual representation of the distribution of various features in the training dataset, which can be helpful for understanding dataset characteristics and guiding the development of a machine learning model.\n",
    "\n",
    "1. **`calls`**: There is a higher concentration of calls in the lower range, peaking around 80 to 100 calls.  \n",
    "2. **`minutes`**: Most calls fall within the 100 to 150-minute range.  \n",
    "3. **`messages`**: There are more messages in the lower range, with a peak around 75 to 100 messages.  \n",
    "4. **`mb_used`**: Most users exhibit relatively low data usage, peaking around 10,000 to 20,000 MB.  \n",
    "5. **`is_ultra`**: The majority of users are subscribed to the \"smart\" plan.  "
   ]
  },
  {
   "cell_type": "markdown",
   "id": "963b6ea6",
   "metadata": {},
   "source": [
    "# 4. Train and evaluate the models\n"
   ]
  },
  {
   "cell_type": "markdown",
   "id": "a5a30d3d",
   "metadata": {},
   "source": [
    "- We will train and evaluate the two models: `DecisionTreeClassifier`, `RandomForestClassifier`, and `LogisticRegression`.\n",
    "- We will calculate performance metrics such as `accuracy_score`."
   ]
  },
  {
   "cell_type": "markdown",
   "id": "0a696f01",
   "metadata": {},
   "source": [
    "## 4.1 Model 1: Decision Tree"
   ]
  },
  {
   "cell_type": "code",
   "execution_count": 10,
   "id": "f70e86b1",
   "metadata": {},
   "outputs": [
    {
     "name": "stdout",
     "output_type": "stream",
     "text": [
      "max_depth = 1: 0.754\n",
      "max_depth = 2: 0.782\n",
      "max_depth = 3: 0.785\n",
      "max_depth = 4: 0.779\n",
      "max_depth = 5: 0.779\n",
      "max_depth = 6: 0.784\n",
      "max_depth = 7: 0.782\n",
      "max_depth = 8: 0.779\n",
      "max_depth = 9: 0.782\n",
      "max_depth = 10: 0.774\n",
      "\n",
      "Best max_depth = 3: 0.785\n"
     ]
    }
   ],
   "source": [
    "# Variables to store the best 'max_depth' and 'best_accuracy'\n",
    "max_depth = 0\n",
    "best_accuracy = 0\n",
    "\n",
    "# Loop over a range of max_depth values to find the optimal depth\n",
    "\n",
    "for depth in range(1, 11): # from 1 to 10\n",
    "    # Create a DecisionTreeClassifier with the specified max_depth\n",
    "    model = DecisionTreeClassifier(random_state=12345, max_depth=depth)\n",
    "    \n",
    "    # Train the model using the training set\n",
    "    model.fit(X_train, y_train)\n",
    "    \n",
    "    # Make predictions on the validation set\n",
    "    predictions_valid = model.predict(X_valid)\n",
    "    \n",
    "   # Calculate accuracy on the validation set\n",
    "    accuracy_s = accuracy_score(y_valid, predictions_valid)\n",
    "                                \n",
    "    # Print the accuracy for the current max_depth\n",
    "    print(f'max_depth = {depth}: {round(accuracy_s, 3)}')    \n",
    "    \n",
    "    # Update the best accuracy and corresponding max_depth if better accuracy is found\n",
    "    if accuracy_s > best_accuracy:\n",
    "        best_accuracy = accuracy_s\n",
    "        max_depth = depth\n",
    "\n",
    "# Print the best max_depth and its corresponding accuracy\n",
    "print(f'\\nBest max_depth = {max_depth}: {round(best_accuracy, 3)}')"
   ]
  },
  {
   "cell_type": "markdown",
   "id": "d3b0f7da",
   "metadata": {},
   "source": [
    "## Model 2: Random Forest"
   ]
  },
  {
   "cell_type": "code",
   "execution_count": 11,
   "id": "efccca6f",
   "metadata": {},
   "outputs": [
    {
     "name": "stdout",
     "output_type": "stream",
     "text": [
      "Best Model: RandomForestClassifier(max_depth=12, n_estimators=17, random_state=12345)\n",
      "Best Accuracy: 80.56%\n",
      "Best Depth: 12\n",
      "Best n_estimators: 17\n"
     ]
    }
   ],
   "source": [
    "# Initialize variables for tracking the best model\n",
    "best_RF_model = None\n",
    "best_RF_accuracy = 0\n",
    "best_RF_depth = 0\n",
    "best_est = 0\n",
    "\n",
    "# Create various models with different depth and estimator values\n",
    "for est in range(1, 21):\n",
    "    for depth in range(1, 41):\n",
    "        \n",
    "        # Create a model using the provided depth, number of estimators, and random_state\n",
    "        RF_model = RandomForestClassifier(max_depth=depth, random_state=12345, n_estimators=est)\n",
    "        \n",
    "        # Train the model using the training dataset\n",
    "        RF_model.fit(X_train, y_train)\n",
    "\n",
    "        # Predict the target values of the validation features\n",
    "        RF_predictions_valid = RF_model.predict(X_valid)\n",
    "       \n",
    "        # Calculate the accuracy\n",
    "        accuracy = accuracy_score(y_valid, RF_predictions_valid)\n",
    "\n",
    "        # Determine the best model based on accuracy\n",
    "        if accuracy > best_RF_accuracy:\n",
    "            best_RF_model = RF_model\n",
    "            best_RF_accuracy = accuracy\n",
    "            best_RF_depth = depth\n",
    "            best_est = est\n",
    "\n",
    "# Print the best model and its details\n",
    "print('Best Model:', best_RF_model)\n",
    "print(f'Best Accuracy: {round(best_RF_accuracy * 100, 2)}%')\n",
    "print('Best Depth:', best_RF_depth)\n",
    "print('Best n_estimators:', best_est)"
   ]
  },
  {
   "cell_type": "markdown",
   "id": "254a50be",
   "metadata": {},
   "source": [
    "##  4.3 Logistic Regression"
   ]
  },
  {
   "cell_type": "code",
   "execution_count": 12,
   "id": "cd941b5d",
   "metadata": {},
   "outputs": [
    {
     "name": "stdout",
     "output_type": "stream",
     "text": [
      "\n",
      "Accuracy:\n",
      "Training set: 0.75\n",
      "Validation set: 0.76\n",
      "Test set: 0.74\n"
     ]
    }
   ],
   "source": [
    "# Initialize and train the logistic regression model\n",
    "model_lr = LogisticRegression(random_state=12345, solver='liblinear')\n",
    "model_lr.fit(X_train, y_train)\n",
    "\n",
    "# Make predictions on the validation set\n",
    "predictions_valid_lr = model_lr.predict(X_valid)\n",
    "\n",
    "# Make predictions on the training and test sets\n",
    "train_predictions = model_lr.predict(X_train)\n",
    "test_predictions = model_lr.predict(X_test)\n",
    "\n",
    "# Calculate accuracy for training, validation, and test sets\n",
    "acc_tr_lr = accuracy_score(y_train, train_predictions)\n",
    "acc_val_lr = accuracy_score(y_valid, predictions_valid_lr)\n",
    "acc_ts_lr = accuracy_score(y_test, test_predictions)\n",
    "\n",
    "# Print the accuracy results\n",
    "print('\\nAccuracy:')\n",
    "print(f'Training set: {acc_tr_lr:.2f}')\n",
    "print(f'Validation set: {acc_val_lr:.2f}')\n",
    "print(f'Test set: {acc_ts_lr:.2f}')"
   ]
  },
  {
   "cell_type": "markdown",
   "id": "5beb1b37",
   "metadata": {},
   "source": [
    "## 4.4 Sanity Check"
   ]
  },
  {
   "cell_type": "code",
   "execution_count": 13,
   "id": "d7c4332c",
   "metadata": {},
   "outputs": [
    {
     "name": "stdout",
     "output_type": "stream",
     "text": [
      "RMSE: 0.46102797293043907\n"
     ]
    }
   ],
   "source": [
    "# Target column for prediction\n",
    "target = megaline_df['is_ultra']\n",
    "\n",
    "# Average of is_ultra (target column)\n",
    "predictions = pd.Series(target.mean(), index=target.index)\n",
    "\n",
    "# Calculate the RMSE\n",
    "rmse = root_mean_squared_error(target, predictions)\n",
    "print('RMSE:', rmse)"
   ]
  },
  {
   "cell_type": "markdown",
   "id": "bfed907f",
   "metadata": {},
   "source": [
    "An RMSE of 0.4610 means that, on average, the prediction (the average of is_ultra) deviates 0.461 from the true value.  \n",
    "More advanced models must have a lower RMSE than this to be considered better."
   ]
  },
  {
   "cell_type": "markdown",
   "id": "aea1dab3",
   "metadata": {},
   "source": [
    "## 4.5 Comparison of Models"
   ]
  },
  {
   "cell_type": "code",
   "execution_count": 14,
   "id": "376d955c",
   "metadata": {},
   "outputs": [
    {
     "data": {
      "text/html": [
       "<div>\n",
       "<style scoped>\n",
       "    .dataframe tbody tr th:only-of-type {\n",
       "        vertical-align: middle;\n",
       "    }\n",
       "\n",
       "    .dataframe tbody tr th {\n",
       "        vertical-align: top;\n",
       "    }\n",
       "\n",
       "    .dataframe thead th {\n",
       "        text-align: right;\n",
       "    }\n",
       "</style>\n",
       "<table border=\"1\" class=\"dataframe\">\n",
       "  <thead>\n",
       "    <tr style=\"text-align: right;\">\n",
       "      <th></th>\n",
       "      <th>Model</th>\n",
       "      <th>Training set accuracy</th>\n",
       "      <th>Validation set accuracy</th>\n",
       "      <th>Test set accuracy</th>\n",
       "      <th>RMSE Validation set</th>\n",
       "    </tr>\n",
       "  </thead>\n",
       "  <tbody>\n",
       "    <tr>\n",
       "      <th>0</th>\n",
       "      <td>Decision Tree Classifier</td>\n",
       "      <td>0.889004</td>\n",
       "      <td>0.785381</td>\n",
       "      <td>0.788491</td>\n",
       "      <td>0.474874</td>\n",
       "    </tr>\n",
       "    <tr>\n",
       "      <th>1</th>\n",
       "      <td>Random Forest Classifier</td>\n",
       "      <td>0.912344</td>\n",
       "      <td>0.805599</td>\n",
       "      <td>0.799378</td>\n",
       "      <td>0.440910</td>\n",
       "    </tr>\n",
       "    <tr>\n",
       "      <th>2</th>\n",
       "      <td>Logistic Regression</td>\n",
       "      <td>0.750519</td>\n",
       "      <td>0.758942</td>\n",
       "      <td>0.740280</td>\n",
       "      <td>0.000000</td>\n",
       "    </tr>\n",
       "  </tbody>\n",
       "</table>\n",
       "</div>"
      ],
      "text/plain": [
       "                      Model  Training set accuracy  Validation set accuracy  \\\n",
       "0  Decision Tree Classifier               0.889004                 0.785381   \n",
       "1  Random Forest Classifier               0.912344                 0.805599   \n",
       "2       Logistic Regression               0.750519                 0.758942   \n",
       "\n",
       "   Test set accuracy  RMSE Validation set  \n",
       "0           0.788491             0.474874  \n",
       "1           0.799378             0.440910  \n",
       "2           0.740280             0.000000  "
      ]
     },
     "execution_count": 14,
     "metadata": {},
     "output_type": "execute_result"
    }
   ],
   "source": [
    "# Initialize accuracy variables for Decision Tree\n",
    "acc_tr_dtc = accuracy_score(y_train, model.predict(X_train))\n",
    "acc_val_dtc = best_accuracy  # Best accuracy from the loop for validation\n",
    "acc_ts_dtc = accuracy_score(y_test, model.predict(X_test))\n",
    "\n",
    "# Initialize RMSE for Decision Tree\n",
    "rmse_dtc = root_mean_squared_error(y_valid, model.predict(X_valid))\n",
    "\n",
    "# Initialize accuracy variables for Random Forest\n",
    "acc_tr_rfc = accuracy_score(y_train, best_RF_model.predict(X_train))\n",
    "acc_val_rfc = best_RF_accuracy  # Best accuracy from the loop for validation\n",
    "acc_ts_rfc = accuracy_score(y_test, best_RF_model.predict(X_test))\n",
    "\n",
    "# Initialize RMSE for Random Forest\n",
    "rmse_rfc = root_mean_squared_error(y_valid, best_RF_model.predict(X_valid))\n",
    "\n",
    "# RMSE for Logistic Regression (not valid)\n",
    "rmse_lr = 0\n",
    "\n",
    "# Create DataFrame for comparison\n",
    "results = pd.DataFrame({\n",
    "    'Model': ['Decision Tree Classifier', 'Random Forest Classifier', 'Logistic Regression'],\n",
    "    'Training set accuracy': [acc_tr_dtc, acc_tr_rfc, acc_tr_lr],\n",
    "    'Validation set accuracy': [acc_val_dtc, acc_val_rfc, acc_val_lr],\n",
    "    'Test set accuracy': [acc_ts_dtc, acc_ts_rfc, acc_ts_lr],\n",
    "    'RMSE Validation set': [rmse_dtc, rmse_rfc, rmse_lr]\n",
    "})\n",
    "\n",
    "# Print results\n",
    "results"
   ]
  },
  {
   "cell_type": "markdown",
   "id": "ab3c366d",
   "metadata": {},
   "source": [
    "# 5. Conclusions and Next Steps"
   ]
  },
  {
   "cell_type": "markdown",
   "id": "b08f1cf2",
   "metadata": {},
   "source": [
    "**Conclusion DecisionTreeClassifier**.  \n",
    "This model showed a good accuracy with **78.54%**, although it was not the highest, it had an acceptable performance. Normally, this type of model has a low accuracy but it is fast, and that speed was confirmed in this case.\n",
    "\n",
    "**Conclusion RandomForestClassifier**.  \n",
    "This model obtained the highest accuracy with **80.56%**. Typically, Random Forest models excel at having high accuracy at the cost of lower speed, which was also confirmed in this project.\n",
    "\n",
    "**Conclusion LogisticRegression**.  \n",
    "This model presented the lowest accuracy with only **75.89%**. In general, this model is expected to have average accuracy, but that was not demonstrated in this case. However, its speed was high, meeting the usual expectations.\n",
    "\n",
    "---\n",
    "\n",
    "**Model selection**  \n",
    "The model that stood out the most was the **`RandomForestClassifier`**, as it met expectations by achieving the highest accuracy, close to **80%**. Although its speed was the lowest of the three models evaluated, this does not represent an obstacle, as its high accuracy amply compensates for it. In addition, I chose this model because its methodology, based on multiple decision trees, is ideal for this type of problem, since it provides more robust and generalizable results."
   ]
  }
 ],
 "metadata": {
  "kernelspec": {
   "display_name": "Python 3 (ipykernel)",
   "language": "python",
   "name": "python3"
  },
  "language_info": {
   "codemirror_mode": {
    "name": "ipython",
    "version": 3
   },
   "file_extension": ".py",
   "mimetype": "text/x-python",
   "name": "python",
   "nbconvert_exporter": "python",
   "pygments_lexer": "ipython3",
   "version": "3.12.3"
  },
  "toc": {
   "base_numbering": 1,
   "nav_menu": {},
   "number_sections": true,
   "sideBar": true,
   "skip_h1_title": false,
   "title_cell": "Table of Contents",
   "title_sidebar": "Contents",
   "toc_cell": false,
   "toc_position": {},
   "toc_section_display": true,
   "toc_window_display": false
  }
 },
 "nbformat": 4,
 "nbformat_minor": 5
}
